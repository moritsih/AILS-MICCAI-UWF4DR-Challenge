{
 "cells": [
  {
   "cell_type": "code",
   "execution_count": 1,
   "metadata": {},
   "outputs": [],
   "source": [
    "%load_ext autoreload\n",
    "%autoreload 2"
   ]
  },
  {
   "cell_type": "code",
   "execution_count": 2,
   "metadata": {},
   "outputs": [
    {
     "name": "stdout",
     "output_type": "stream",
     "text": [
      "/home/optima/mhaderer/AILS-MICCAI-UWF4DR-Challenge\n"
     ]
    },
    {
     "name": "stderr",
     "output_type": "stream",
     "text": [
      "/opt/conda/lib/python3.10/site-packages/IPython/core/magics/osm.py:417: UserWarning: using dhist requires you to install the `pickleshare` library.\n",
      "  self.shell.db['dhist'] = compress_dhist(dhist)[-100:]\n"
     ]
    }
   ],
   "source": [
    "from pathlib import Path\n",
    "base_path = Path().resolve().parent\n",
    "%cd {base_path}"
   ]
  },
  {
   "cell_type": "code",
   "execution_count": 3,
   "metadata": {},
   "outputs": [],
   "source": [
    "# setup\n",
    "#!apt-get update\n",
    "#!pip install python-dotenv\n",
    "#!pip install loguru\n",
    "#!pip install gdown\n",
    "#!pip install typer\n",
    "#!pip install imbalanced-learn"
   ]
  },
  {
   "cell_type": "code",
   "execution_count": 4,
   "metadata": {},
   "outputs": [],
   "source": [
    "# load data and unzip data\n",
    "\n",
    "#!python tools/download_data_and_chkpts.py"
   ]
  },
  {
   "cell_type": "code",
   "execution_count": 5,
   "metadata": {},
   "outputs": [
    {
     "name": "stderr",
     "output_type": "stream",
     "text": [
      "INFO:albumentations.check_version:A new version of Albumentations is available: 1.4.11 (you have 1.4.7). Upgrade using: pip install --upgrade albumentations\n",
      "\u001b[34m\u001b[1mwandb\u001b[0m: Currently logged in as: \u001b[33mmmarinschek\u001b[0m (\u001b[33mmiccai-challenge-2024\u001b[0m). Use \u001b[1m`wandb login --relogin`\u001b[0m to force relogin\n",
      "\u001b[34m\u001b[1mwandb\u001b[0m: \u001b[33mWARNING\u001b[0m If you're specifying your api key in code, ensure this code is not shared publicly.\n",
      "\u001b[34m\u001b[1mwandb\u001b[0m: \u001b[33mWARNING\u001b[0m Consider setting the WANDB_API_KEY environment variable, or running `wandb login` from the command line.\n",
      "\u001b[34m\u001b[1mwandb\u001b[0m: Appending key for api.wandb.ai to your netrc file: /home/optima/mhaderer/.netrc\n"
     ]
    },
    {
     "data": {
      "text/plain": [
       "True"
      ]
     },
     "execution_count": 5,
     "metadata": {},
     "output_type": "execute_result"
    }
   ],
   "source": [
    "# imports\n",
    "\n",
    "import torch\n",
    "import torch.nn as nn\n",
    "from torch import optim\n",
    "import torch.nn.functional as F\n",
    "from torch.utils.data import DataLoader\n",
    "import wandb\n",
    "\n",
    "from sklearn.metrics import roc_auc_score, average_precision_score\n",
    "\n",
    "import albumentations as A\n",
    "from albumentations.pytorch.transforms import ToTensorV2\n",
    "\n",
    "import time\n",
    "\n",
    "# data\n",
    "from ails_miccai_uwf4dr_challenge.dataset_strategy import CustomDataset, DatasetStrategy, CombinedDatasetStrategy, \\\n",
    "    Task1Strategy, Task2Strategy, Task3Strategy, DatasetBuilder\n",
    "\n",
    "# augmentation\n",
    "from ails_miccai_uwf4dr_challenge.preprocess_augmentations import ResidualGaussBlur, MultiplyMask\n",
    "\n",
    "# trainer\n",
    "from ails_miccai_uwf4dr_challenge.models.trainer import DefaultMetricsEvaluationStrategy, Metric, MetricCalculatedHook, \\\n",
    "    NumBatches, Trainer, EpochTrainingStrategy, EpochValidationStrategy, DefaultEpochTrainingStrategy, \\\n",
    "    DefaultBatchTrainingStrategy, TrainingContext, PersistBestModelOnEpochEndHook\n",
    "from ails_miccai_uwf4dr_challenge.models.metrics import sensitivity_score, specificity_score\n",
    "from ails_miccai_uwf4dr_challenge.config import Config\n",
    "\n",
    "# models\n",
    "from ails_miccai_uwf4dr_challenge.models.architectures.task1_automorph_plain import AutoMorphModel\n",
    "from ails_miccai_uwf4dr_challenge.models.architectures.task1_efficientnet_plain import Task1EfficientNetB4\n",
    "from ails_miccai_uwf4dr_challenge.models.architectures.task2_efficientnetb0_plain import Task2EfficientNetB0 \n",
    "from ails_miccai_uwf4dr_challenge.models.architectures.task1_convnext import Task1ConvNeXt \n",
    "from ails_miccai_uwf4dr_challenge.models.architectures.dinov2 import DinoV2Classifier, ModelSize\n",
    "\n",
    "from ails_miccai_uwf4dr_challenge.config import WANDB_API_KEY, PROJ_ROOT\n",
    "\n",
    "wandb.login(key=WANDB_API_KEY)"
   ]
  },
  {
   "cell_type": "code",
   "execution_count": 6,
   "metadata": {},
   "outputs": [
    {
     "name": "stdout",
     "output_type": "stream",
     "text": [
      "Device: cuda\n"
     ]
    }
   ],
   "source": [
    "# select device for training\n",
    "device = torch.device(\"cuda\" if torch.cuda.is_available() else \"cpu\")\n",
    "print(\"Device: \" + str(device))"
   ]
  },
  {
   "cell_type": "markdown",
   "metadata": {},
   "source": [
    "## Train some model"
   ]
  },
  {
   "cell_type": "code",
   "execution_count": 7,
   "metadata": {},
   "outputs": [],
   "source": [
    "def train_model(cfg=None):\n",
    "\n",
    "    WANDB_HTTP_TIMEOUT=300\n",
    "    WANDB_INIT_TIMEOUT =600\n",
    "    WANDB_DEBUG=True\n",
    "\n",
    "    wandb.init(project=\"task2\", config=cfg)\n",
    "    cfg = wandb.config\n",
    "\n",
    "    transforms_train = A.Compose([\n",
    "        A.Resize(800, 1016, p=1),\n",
    "        MultiplyMask(p=1),\n",
    "        ResidualGaussBlur(p=cfg.p_gaussblur),\n",
    "        A.Equalize(p=cfg.p_equalize),\n",
    "        A.CLAHE(clip_limit=5., p=cfg.p_clahe),\n",
    "        A.HorizontalFlip(p=cfg.p_horizontalflip),\n",
    "        A.Affine(rotate=cfg.rotation, rotate_method='ellipse', p=cfg.p_affine),\n",
    "        A.Normalize(mean=[0.406, 0.485, 0.456], std=[0.225, 0.229, 0.224], p=1),\n",
    "        #A.Resize(770, 1022, p=1), # comment whenever not using DinoV2\n",
    "        ToTensorV2(p=1)\n",
    "    ])\n",
    "\n",
    "    transforms_val = A.Compose([\n",
    "            A.Resize(800, 1016, p=1),\n",
    "            MultiplyMask(p=1),\n",
    "            A.Normalize(mean=[0.406, 0.485, 0.456], std=[0.225, 0.229, 0.224], p=1),\n",
    "            #A.Resize(770, 1022, p=1), # comment whenever not using DinoV2\n",
    "            ToTensorV2(p=1)\n",
    "        ])\n",
    "\n",
    "    dataset_strategy = CombinedDatasetStrategy()\n",
    "    task_strategy = Task2Strategy()\n",
    "\n",
    "    builder = DatasetBuilder(dataset_strategy, task_strategy, split_ratio=0.8)\n",
    "    train_data, val_data = builder.build()\n",
    "\n",
    "    train_dataset = CustomDataset(train_data, transform=transforms_train)\n",
    "    val_dataset = CustomDataset(val_data, transform=transforms_val)\n",
    "\n",
    "    train_loader = DataLoader(train_dataset, batch_size=cfg.batch_size, shuffle=True)\n",
    "    val_loader = DataLoader(val_dataset, batch_size=cfg.batch_size, shuffle=False)\n",
    "    \n",
    "    device = torch.device(\"cuda\" if torch.cuda.is_available() else \"cpu\" if torch.backends.mps.is_available() else \"mps\")\n",
    "    print(f\"Using device: {device}\")\n",
    "\n",
    "    assert cfg.model is not None, \"Model type must be specified in the config\"\n",
    "\n",
    "    if cfg.model == \"Task2EfficientNetB0\":\n",
    "        model = Task2EfficientNetB0(num_classes=1)\n",
    "    elif cfg.model == \"AutoMorphModel\":\n",
    "        model = AutoMorphModel(enc_frozen=True)\n",
    "    elif cfg.model == \"DinoV2Classifier\":\n",
    "        model = DinoV2Classifier(ModelSize.SMALL)\n",
    "    else:\n",
    "        raise ValueError(f\"Model type {cfg.model} not recognized\")\n",
    "\n",
    "    model.to(device)\n",
    "\n",
    "    metrics = [\n",
    "        Metric('auroc', roc_auc_score),\n",
    "        Metric('auprc', average_precision_score),\n",
    "        Metric('accuracy', lambda y_true, y_pred: (y_pred.round() == y_true).mean()),\n",
    "        Metric('sensitivity', sensitivity_score),\n",
    "        Metric('specificity', specificity_score)\n",
    "    ]\n",
    "\n",
    "    class WandbLoggingHook(MetricCalculatedHook):\n",
    "        def on_metric_calculated(self, training_context: TrainingContext, metric: Metric, result, last_metric_for_epoch: bool):\n",
    "            import wandb\n",
    "            wandb.log(data={metric.name: result}, commit=last_metric_for_epoch)\n",
    "\n",
    "    metrics_eval_strategy = DefaultMetricsEvaluationStrategy(metrics).register_metric_calculated_hook(WandbLoggingHook())\n",
    "\n",
    "    def combined_losses(pred, target):\n",
    "        bce = F.binary_cross_entropy_with_logits(pred, target) * cfg.loss_weight\n",
    "        smooth_l1 = F.smooth_l1_loss(pred, target) * (1 - cfg.loss_weight)\n",
    "        return bce + smooth_l1\n",
    "\n",
    "    criterion = combined_losses\n",
    "    optimizer = optim.AdamW(model.parameters(), lr=cfg.lr)\n",
    "    lr_scheduler = optim.lr_scheduler.ReduceLROnPlateau(optimizer, mode='min', factor=cfg.lr_schedule_factor, patience=cfg.lr_schedule_patience, verbose=True)\n",
    "\n",
    "    trainer = Trainer(model, train_loader, val_loader, criterion, optimizer, lr_scheduler, device, \n",
    "                        metrics_eval_strategy=metrics_eval_strategy, resampling_strategy=cfg.resampling_strategy)\n",
    "\n",
    "    # build a file name for the model weights containing current timestamp and the model class\n",
    "    wandb_run_name = wandb.run.name\n",
    "\n",
    "    training_timestamp = time.strftime(\"%Y-%m-%d_%H-%M\")\n",
    "    persist_model_hook = PersistBestModelOnEpochEndHook(f\"models/{wandb_run_name}_{training_timestamp}.pth\")\n",
    "    trainer.add_epoch_end_hook(persist_model_hook) # TODO uncomment this line to save the best model\n",
    "\n",
    "    #print(\"First train 2 epochs 2 batches to check if everything works - you can comment these two lines after the code has stabilized...\")\n",
    "    #trainer.train(num_epochs=2, num_batches=NumBatches.TWO_FOR_INITIAL_TESTING)\n",
    "    \n",
    "    print(\"Now train train train\")\n",
    "    trainer.train(num_epochs=cfg.epochs)\n",
    "    wandb.finish()\n",
    "    print(\"Finished training\")"
   ]
  },
  {
   "cell_type": "code",
   "execution_count": 8,
   "metadata": {},
   "outputs": [],
   "source": [
    "cfg = Config(\n",
    "    batch_size=32,\n",
    "    epochs=25,\n",
    "    lr=0.001,\n",
    "    lr_schedule_factor=0.1,\n",
    "    lr_schedule_patience=5,\n",
    "    p_gaussblur=0,\n",
    "    p_equalize=0,\n",
    "    p_clahe=0.3,\n",
    "    p_horizontalflip=0.3,\n",
    "    rotation=15,\n",
    "    p_affine=0.3,\n",
    "    loss_weight=0.5,\n",
    "    resampling_strategy='undersampling',\n",
    "    model=\"Task2EfficientNetB0\",\n",
    ")"
   ]
  },
  {
   "cell_type": "code",
   "execution_count": 9,
   "metadata": {},
   "outputs": [],
   "source": [
    "#train_model(cfg)"
   ]
  },
  {
   "cell_type": "markdown",
   "metadata": {},
   "source": [
    "## SWEEP"
   ]
  },
  {
   "cell_type": "code",
   "execution_count": 11,
   "metadata": {},
   "outputs": [
    {
     "name": "stderr",
     "output_type": "stream",
     "text": [
      "INFO:wandb.agents.pyagent:Starting sweep agent: entity=None, project=None, count=None\n"
     ]
    },
    {
     "name": "stdout",
     "output_type": "stream",
     "text": [
      "Create sweep with ID: eo1h97d3\n",
      "Sweep URL: https://wandb.ai/miccai-challenge-2024/task2/sweeps/eo1h97d3\n"
     ]
    },
    {
     "name": "stderr",
     "output_type": "stream",
     "text": [
      "\u001b[34m\u001b[1mwandb\u001b[0m: Agent Starting Run: l1cer1et with config:\n",
      "\u001b[34m\u001b[1mwandb\u001b[0m: \tbatch_size: 16\n",
      "\u001b[34m\u001b[1mwandb\u001b[0m: \tepochs: 30\n",
      "\u001b[34m\u001b[1mwandb\u001b[0m: \tloss_weight: 0.5\n",
      "\u001b[34m\u001b[1mwandb\u001b[0m: \tlr: 0.001\n",
      "\u001b[34m\u001b[1mwandb\u001b[0m: \tlr_schedule_factor: 0.1\n",
      "\u001b[34m\u001b[1mwandb\u001b[0m: \tlr_schedule_patience: 5\n",
      "\u001b[34m\u001b[1mwandb\u001b[0m: \tmodel: Task2EfficientNetB0\n",
      "\u001b[34m\u001b[1mwandb\u001b[0m: \tp_affine: 0.3\n",
      "\u001b[34m\u001b[1mwandb\u001b[0m: \tp_clahe: 0.3\n",
      "\u001b[34m\u001b[1mwandb\u001b[0m: \tp_equalize: 0\n",
      "\u001b[34m\u001b[1mwandb\u001b[0m: \tp_gaussblur: 0.3\n",
      "\u001b[34m\u001b[1mwandb\u001b[0m: \tp_horizontalflip: 0.5\n",
      "\u001b[34m\u001b[1mwandb\u001b[0m: \tresampling_strategy: oversampling\n",
      "\u001b[34m\u001b[1mwandb\u001b[0m: \trotation: 10\n",
      "\u001b[34m\u001b[1mwandb\u001b[0m: \u001b[33mWARNING\u001b[0m Ignored wandb.init() arg project when running a sweep.\n"
     ]
    },
    {
     "data": {
      "text/html": [
       "wandb version 0.17.5 is available!  To upgrade, please run:\n",
       " $ pip install wandb --upgrade"
      ],
      "text/plain": [
       "<IPython.core.display.HTML object>"
      ]
     },
     "metadata": {},
     "output_type": "display_data"
    },
    {
     "data": {
      "text/html": [
       "Tracking run with wandb version 0.17.0"
      ],
      "text/plain": [
       "<IPython.core.display.HTML object>"
      ]
     },
     "metadata": {},
     "output_type": "display_data"
    },
    {
     "data": {
      "text/html": [
       "Run data is saved locally in <code>/home/optima/mhaderer/AILS-MICCAI-UWF4DR-Challenge/wandb/run-20240723_235534-l1cer1et</code>"
      ],
      "text/plain": [
       "<IPython.core.display.HTML object>"
      ]
     },
     "metadata": {},
     "output_type": "display_data"
    },
    {
     "data": {
      "text/html": [
       "Syncing run <strong><a href='https://wandb.ai/miccai-challenge-2024/task2/runs/l1cer1et' target=\"_blank\">efficient-sweep-1</a></strong> to <a href='https://wandb.ai/miccai-challenge-2024/task2' target=\"_blank\">Weights & Biases</a> (<a href='https://wandb.me/run' target=\"_blank\">docs</a>)<br/>Sweep page: <a href='https://wandb.ai/miccai-challenge-2024/task2/sweeps/eo1h97d3' target=\"_blank\">https://wandb.ai/miccai-challenge-2024/task2/sweeps/eo1h97d3</a>"
      ],
      "text/plain": [
       "<IPython.core.display.HTML object>"
      ]
     },
     "metadata": {},
     "output_type": "display_data"
    },
    {
     "data": {
      "text/html": [
       " View project at <a href='https://wandb.ai/miccai-challenge-2024/task2' target=\"_blank\">https://wandb.ai/miccai-challenge-2024/task2</a>"
      ],
      "text/plain": [
       "<IPython.core.display.HTML object>"
      ]
     },
     "metadata": {},
     "output_type": "display_data"
    },
    {
     "data": {
      "text/html": [
       " View sweep at <a href='https://wandb.ai/miccai-challenge-2024/task2/sweeps/eo1h97d3' target=\"_blank\">https://wandb.ai/miccai-challenge-2024/task2/sweeps/eo1h97d3</a>"
      ],
      "text/plain": [
       "<IPython.core.display.HTML object>"
      ]
     },
     "metadata": {},
     "output_type": "display_data"
    },
    {
     "data": {
      "text/html": [
       " View run at <a href='https://wandb.ai/miccai-challenge-2024/task2/runs/l1cer1et' target=\"_blank\">https://wandb.ai/miccai-challenge-2024/task2/runs/l1cer1et</a>"
      ],
      "text/plain": [
       "<IPython.core.display.HTML object>"
      ]
     },
     "metadata": {},
     "output_type": "display_data"
    },
    {
     "name": "stdout",
     "output_type": "stream",
     "text": [
      "Using device: cuda\n",
      "Loaded pretrained weights for efficientnet-b0\n",
      "Now train train train\n"
     ]
    },
    {
     "name": "stderr",
     "output_type": "stream",
     "text": [
      "Epoch 1/30 - Avg train Loss: 0.357158: 100%|███████████████████████████████████████████████████████████████████████████████████████████████████████████████████████████████| 25/25 [00:48<00:00,  1.96s/it]\n",
      "Epoch 1/30 - Avg val Loss: 0.334822: 100%|███████████████████████████████████████████████████████████████████████████████████████████████████████████████████████████████████| 7/7 [00:10<00:00,  1.46s/it]\n"
     ]
    },
    {
     "name": "stdout",
     "output_type": "stream",
     "text": [
      "New best model found at epoch 1 with validation loss: 0.3348. Model saved to models/efficient-sweep-1_2024-07-23_23-55.pth\n"
     ]
    },
    {
     "name": "stderr",
     "output_type": "stream",
     "text": [
      "Epoch 2/30 - Avg train Loss: 0.296336: 100%|███████████████████████████████████████████████████████████████████████████████████████████████████████████████████████████████| 25/25 [00:43<00:00,  1.74s/it]\n",
      "Epoch 2/30 - Avg val Loss: 0.343369: 100%|███████████████████████████████████████████████████████████████████████████████████████████████████████████████████████████████████| 7/7 [00:09<00:00,  1.36s/it]\n",
      "Epoch 3/30 - Avg train Loss: 0.263590: 100%|███████████████████████████████████████████████████████████████████████████████████████████████████████████████████████████████| 25/25 [00:43<00:00,  1.72s/it]\n",
      "Epoch 3/30 - Avg val Loss: 0.299977: 100%|███████████████████████████████████████████████████████████████████████████████████████████████████████████████████████████████████| 7/7 [00:10<00:00,  1.48s/it]\n"
     ]
    },
    {
     "name": "stdout",
     "output_type": "stream",
     "text": [
      "New best model found at epoch 3 with validation loss: 0.3000. Model saved to models/efficient-sweep-1_2024-07-23_23-55.pth\n"
     ]
    },
    {
     "name": "stderr",
     "output_type": "stream",
     "text": [
      "Epoch 4/30 - Avg train Loss: 0.249881: 100%|███████████████████████████████████████████████████████████████████████████████████████████████████████████████████████████████| 25/25 [00:41<00:00,  1.66s/it]\n",
      "Epoch 4/30 - Avg val Loss: 0.265068: 100%|███████████████████████████████████████████████████████████████████████████████████████████████████████████████████████████████████| 7/7 [00:10<00:00,  1.46s/it]\n"
     ]
    },
    {
     "name": "stdout",
     "output_type": "stream",
     "text": [
      "New best model found at epoch 4 with validation loss: 0.2651. Model saved to models/efficient-sweep-1_2024-07-23_23-55.pth\n"
     ]
    },
    {
     "name": "stderr",
     "output_type": "stream",
     "text": [
      "Epoch 5/30 - Avg train Loss: 0.251113: 100%|███████████████████████████████████████████████████████████████████████████████████████████████████████████████████████████████| 25/25 [00:43<00:00,  1.73s/it]\n",
      "Epoch 5/30 - Avg val Loss: 0.270834: 100%|███████████████████████████████████████████████████████████████████████████████████████████████████████████████████████████████████| 7/7 [00:09<00:00,  1.32s/it]\n",
      "Epoch 6/30 - Avg train Loss: 0.240576: 100%|███████████████████████████████████████████████████████████████████████████████████████████████████████████████████████████████| 25/25 [00:39<00:00,  1.57s/it]\n",
      "Epoch 6/30 - Avg val Loss: 0.348298: 100%|███████████████████████████████████████████████████████████████████████████████████████████████████████████████████████████████████| 7/7 [00:09<00:00,  1.30s/it]\n",
      "Epoch 7/30 - Avg train Loss: 0.241928: 100%|███████████████████████████████████████████████████████████████████████████████████████████████████████████████████████████████| 25/25 [00:38<00:00,  1.55s/it]\n",
      "Epoch 7/30 - Avg val Loss: 0.303399: 100%|███████████████████████████████████████████████████████████████████████████████████████████████████████████████████████████████████| 7/7 [00:09<00:00,  1.39s/it]\n",
      "Epoch 8/30 - Avg train Loss: 0.237878: 100%|███████████████████████████████████████████████████████████████████████████████████████████████████████████████████████████████| 25/25 [00:38<00:00,  1.55s/it]\n",
      "Epoch 8/30 - Avg val Loss: 0.280050: 100%|███████████████████████████████████████████████████████████████████████████████████████████████████████████████████████████████████| 7/7 [00:09<00:00,  1.38s/it]\n",
      "Epoch 9/30 - Avg train Loss: 0.227710: 100%|███████████████████████████████████████████████████████████████████████████████████████████████████████████████████████████████| 25/25 [00:38<00:00,  1.54s/it]\n",
      "Epoch 9/30 - Avg val Loss: 0.310533: 100%|███████████████████████████████████████████████████████████████████████████████████████████████████████████████████████████████████| 7/7 [00:10<00:00,  1.54s/it]\n",
      "Epoch 10/30 - Avg train Loss: 0.227911: 100%|██████████████████████████████████████████████████████████████████████████████████████████████████████████████████████████████| 25/25 [00:38<00:00,  1.55s/it]\n",
      "Epoch 10/30 - Avg val Loss: 0.329441: 100%|██████████████████████████████████████████████████████████████████████████████████████████████████████████████████████████████████| 7/7 [00:11<00:00,  1.71s/it]\n",
      "Epoch 11/30 - Avg train Loss: 0.225416: 100%|██████████████████████████████████████████████████████████████████████████████████████████████████████████████████████████████| 25/25 [00:39<00:00,  1.59s/it]\n",
      "Epoch 11/30 - Avg val Loss: 0.282220: 100%|██████████████████████████████████████████████████████████████████████████████████████████████████████████████████████████████████| 7/7 [00:12<00:00,  1.79s/it]\n",
      "Epoch 12/30 - Avg train Loss: 0.221873: 100%|██████████████████████████████████████████████████████████████████████████████████████████████████████████████████████████████| 25/25 [00:36<00:00,  1.48s/it]\n",
      "Epoch 12/30 - Avg val Loss: 0.305960: 100%|██████████████████████████████████████████████████████████████████████████████████████████████████████████████████████████████████| 7/7 [00:12<00:00,  1.80s/it]\n",
      "Epoch 13/30 - Avg train Loss: 0.222036: 100%|██████████████████████████████████████████████████████████████████████████████████████████████████████████████████████████████| 25/25 [00:37<00:00,  1.49s/it]\n",
      "Epoch 13/30 - Avg val Loss: 0.341676: 100%|██████████████████████████████████████████████████████████████████████████████████████████████████████████████████████████████████| 7/7 [00:12<00:00,  1.79s/it]\n",
      "Epoch 14/30 - Avg train Loss: 0.221042: 100%|██████████████████████████████████████████████████████████████████████████████████████████████████████████████████████████████| 25/25 [00:36<00:00,  1.45s/it]\n",
      "Epoch 14/30 - Avg val Loss: 0.320920: 100%|██████████████████████████████████████████████████████████████████████████████████████████████████████████████████████████████████| 7/7 [00:13<00:00,  1.94s/it]\n",
      "Epoch 15/30 - Avg train Loss: 0.220846: 100%|██████████████████████████████████████████████████████████████████████████████████████████████████████████████████████████████| 25/25 [00:41<00:00,  1.64s/it]\n",
      "Epoch 15/30 - Avg val Loss: 0.315153: 100%|██████████████████████████████████████████████████████████████████████████████████████████████████████████████████████████████████| 7/7 [00:13<00:00,  1.95s/it]\n",
      "Epoch 16/30 - Avg train Loss: 0.220652: 100%|██████████████████████████████████████████████████████████████████████████████████████████████████████████████████████████████| 25/25 [00:40<00:00,  1.61s/it]\n",
      "Epoch 16/30 - Avg val Loss: 0.308032: 100%|██████████████████████████████████████████████████████████████████████████████████████████████████████████████████████████████████| 7/7 [00:12<00:00,  1.85s/it]\n",
      "Epoch 17/30 - Avg train Loss: 0.220381: 100%|██████████████████████████████████████████████████████████████████████████████████████████████████████████████████████████████| 25/25 [00:40<00:00,  1.60s/it]\n",
      "Epoch 17/30 - Avg val Loss: 0.338963: 100%|██████████████████████████████████████████████████████████████████████████████████████████████████████████████████████████████████| 7/7 [00:13<00:00,  1.91s/it]\n",
      "Epoch 18/30 - Avg train Loss: 0.221216: 100%|██████████████████████████████████████████████████████████████████████████████████████████████████████████████████████████████| 25/25 [00:39<00:00,  1.58s/it]\n",
      "Epoch 18/30 - Avg val Loss: 0.348995: 100%|██████████████████████████████████████████████████████████████████████████████████████████████████████████████████████████████████| 7/7 [00:13<00:00,  1.99s/it]\n",
      "Epoch 19/30 - Avg train Loss: 0.220960: 100%|██████████████████████████████████████████████████████████████████████████████████████████████████████████████████████████████| 25/25 [00:39<00:00,  1.56s/it]\n",
      "Epoch 19/30 - Avg val Loss: 0.348674: 100%|██████████████████████████████████████████████████████████████████████████████████████████████████████████████████████████████████| 7/7 [00:13<00:00,  1.90s/it]\n",
      "Epoch 20/30 - Avg train Loss: 0.220784: 100%|██████████████████████████████████████████████████████████████████████████████████████████████████████████████████████████████| 25/25 [00:35<00:00,  1.42s/it]\n",
      "Epoch 20/30 - Avg val Loss: 0.329114: 100%|██████████████████████████████████████████████████████████████████████████████████████████████████████████████████████████████████| 7/7 [00:13<00:00,  1.94s/it]\n",
      "Epoch 21/30 - Avg train Loss: 0.220464: 100%|██████████████████████████████████████████████████████████████████████████████████████████████████████████████████████████████| 25/25 [00:33<00:00,  1.35s/it]\n",
      "Epoch 21/30 - Avg val Loss: 0.328546: 100%|██████████████████████████████████████████████████████████████████████████████████████████████████████████████████████████████████| 7/7 [00:14<00:00,  2.05s/it]\n",
      "Epoch 22/30 - Avg train Loss: 0.220751: 100%|██████████████████████████████████████████████████████████████████████████████████████████████████████████████████████████████| 25/25 [00:34<00:00,  1.39s/it]\n",
      "Epoch 22/30 - Avg val Loss: 0.314214: 100%|██████████████████████████████████████████████████████████████████████████████████████████████████████████████████████████████████| 7/7 [00:12<00:00,  1.85s/it]\n",
      "Epoch 23/30 - Avg train Loss: 0.219971: 100%|██████████████████████████████████████████████████████████████████████████████████████████████████████████████████████████████| 25/25 [00:32<00:00,  1.32s/it]\n",
      "Epoch 23/30 - Avg val Loss: 0.329686: 100%|██████████████████████████████████████████████████████████████████████████████████████████████████████████████████████████████████| 7/7 [00:13<00:00,  1.93s/it]\n",
      "Epoch 24/30 - Avg train Loss: 0.221005: 100%|██████████████████████████████████████████████████████████████████████████████████████████████████████████████████████████████| 25/25 [00:35<00:00,  1.41s/it]\n",
      "Epoch 24/30 - Avg val Loss: 0.328302: 100%|██████████████████████████████████████████████████████████████████████████████████████████████████████████████████████████████████| 7/7 [00:12<00:00,  1.80s/it]\n",
      "Epoch 25/30 - Avg train Loss: 0.220886: 100%|██████████████████████████████████████████████████████████████████████████████████████████████████████████████████████████████| 25/25 [00:34<00:00,  1.40s/it]\n",
      "Epoch 25/30 - Avg val Loss: 0.327190: 100%|██████████████████████████████████████████████████████████████████████████████████████████████████████████████████████████████████| 7/7 [00:12<00:00,  1.82s/it]\n",
      "Epoch 26/30 - Avg train Loss: 0.220674: 100%|██████████████████████████████████████████████████████████████████████████████████████████████████████████████████████████████| 25/25 [00:33<00:00,  1.35s/it]\n",
      "Epoch 26/30 - Avg val Loss: 0.317152: 100%|██████████████████████████████████████████████████████████████████████████████████████████████████████████████████████████████████| 7/7 [00:13<00:00,  1.89s/it]\n",
      "Epoch 27/30 - Avg train Loss: 0.221725: 100%|██████████████████████████████████████████████████████████████████████████████████████████████████████████████████████████████| 25/25 [00:36<00:00,  1.45s/it]\n",
      "Epoch 27/30 - Avg val Loss: 0.304912: 100%|██████████████████████████████████████████████████████████████████████████████████████████████████████████████████████████████████| 7/7 [00:12<00:00,  1.79s/it]\n",
      "Epoch 28/30 - Avg train Loss: 0.222320: 100%|██████████████████████████████████████████████████████████████████████████████████████████████████████████████████████████████| 25/25 [00:34<00:00,  1.40s/it]\n",
      "Epoch 28/30 - Avg val Loss: 0.322134: 100%|██████████████████████████████████████████████████████████████████████████████████████████████████████████████████████████████████| 7/7 [00:13<00:00,  1.93s/it]\n",
      "Epoch 29/30 - Avg train Loss: 0.221651: 100%|██████████████████████████████████████████████████████████████████████████████████████████████████████████████████████████████| 25/25 [00:37<00:00,  1.50s/it]\n",
      "Epoch 29/30 - Avg val Loss: 0.335489: 100%|██████████████████████████████████████████████████████████████████████████████████████████████████████████████████████████████████| 7/7 [00:14<00:00,  2.01s/it]\n",
      "Epoch 30/30 - Avg train Loss: 0.221966: 100%|██████████████████████████████████████████████████████████████████████████████████████████████████████████████████████████████| 25/25 [00:36<00:00,  1.45s/it]\n",
      "Epoch 30/30 - Avg val Loss: 0.342748: 100%|██████████████████████████████████████████████████████████████████████████████████████████████████████████████████████████████████| 7/7 [00:13<00:00,  2.00s/it]\n"
     ]
    },
    {
     "data": {
      "application/vnd.jupyter.widget-view+json": {
       "model_id": "",
       "version_major": 2,
       "version_minor": 0
      },
      "text/plain": [
       "VBox(children=(Label(value='0.008 MB of 0.008 MB uploaded\\r'), FloatProgress(value=1.0, max=1.0)))"
      ]
     },
     "metadata": {},
     "output_type": "display_data"
    },
    {
     "data": {
      "text/html": [
       "<style>\n",
       "    table.wandb td:nth-child(1) { padding: 0 10px; text-align: left ; width: auto;} td:nth-child(2) {text-align: left ; width: 100%}\n",
       "    .wandb-row { display: flex; flex-direction: row; flex-wrap: wrap; justify-content: flex-start; width: 100% }\n",
       "    .wandb-col { display: flex; flex-direction: column; flex-basis: 100%; flex: 1; padding: 10px; }\n",
       "    </style>\n",
       "<div class=\"wandb-row\"><div class=\"wandb-col\"><h3>Run history:</h3><br/><table class=\"wandb\"><tr><td>accuracy</td><td>▃▅▃▅▇▆▇█▄▆▅▅▃▃▃▃▂▁▂▂▂▄▃▃▃▄▄▃▂▁</td></tr><tr><td>auprc</td><td>▁▆▇▇████▄▄▇▅▂▅▆▆▅▄▃▄▅▅▄▄▅▄▆▄▆▇</td></tr><tr><td>auroc</td><td>▁▆▇▇████▃▄▇▅▁▄▅▆▄▃▁▃▄▄▂▃▄▄▅▃▅▆</td></tr><tr><td>avg_train_loss</td><td>█▅▃▃▃▂▂▂▁▁▁▁▁▁▁▁▁▁▁▁▁▁▁▁▁▁▁▁▁▁</td></tr><tr><td>avg_val_loss</td><td>▇█▄▁▁█▄▂▅▆▂▄▇▆▅▅▇██▆▆▅▆▆▆▅▄▆▇▇</td></tr><tr><td>sensitivity</td><td>▆██▆▆███▃▅████▃█▂▂██████▂██▁▄▆</td></tr><tr><td>specificity</td><td>▂▅▅██████▇▆▅▁▄█▄██▁▃▃▃▁▂█▃▃███</td></tr></table><br/></div><div class=\"wandb-col\"><h3>Run summary:</h3><br/><table class=\"wandb\"><tr><td>accuracy</td><td>0.68</td></tr><tr><td>auprc</td><td>0.98061</td></tr><tr><td>auroc</td><td>0.9744</td></tr><tr><td>avg_train_loss</td><td>0.22197</td></tr><tr><td>avg_val_loss</td><td>0.34275</td></tr><tr><td>sensitivity</td><td>0.92</td></tr><tr><td>specificity</td><td>1.0</td></tr></table><br/></div></div>"
      ],
      "text/plain": [
       "<IPython.core.display.HTML object>"
      ]
     },
     "metadata": {},
     "output_type": "display_data"
    },
    {
     "data": {
      "text/html": [
       " View run <strong style=\"color:#cdcd00\">efficient-sweep-1</strong> at: <a href='https://wandb.ai/miccai-challenge-2024/task2/runs/l1cer1et' target=\"_blank\">https://wandb.ai/miccai-challenge-2024/task2/runs/l1cer1et</a><br/> View project at: <a href='https://wandb.ai/miccai-challenge-2024/task2' target=\"_blank\">https://wandb.ai/miccai-challenge-2024/task2</a><br/>Synced 6 W&B file(s), 0 media file(s), 0 artifact file(s) and 0 other file(s)"
      ],
      "text/plain": [
       "<IPython.core.display.HTML object>"
      ]
     },
     "metadata": {},
     "output_type": "display_data"
    },
    {
     "data": {
      "text/html": [
       "Find logs at: <code>./wandb/run-20240723_235534-l1cer1et/logs</code>"
      ],
      "text/plain": [
       "<IPython.core.display.HTML object>"
      ]
     },
     "metadata": {},
     "output_type": "display_data"
    },
    {
     "name": "stdout",
     "output_type": "stream",
     "text": [
      "Finished training\n"
     ]
    },
    {
     "name": "stderr",
     "output_type": "stream",
     "text": [
      "\u001b[34m\u001b[1mwandb\u001b[0m: Agent Starting Run: 6ruhf6t3 with config:\n",
      "\u001b[34m\u001b[1mwandb\u001b[0m: \tbatch_size: 16\n",
      "\u001b[34m\u001b[1mwandb\u001b[0m: \tepochs: 30\n",
      "\u001b[34m\u001b[1mwandb\u001b[0m: \tloss_weight: 0.5\n",
      "\u001b[34m\u001b[1mwandb\u001b[0m: \tlr: 0.001\n",
      "\u001b[34m\u001b[1mwandb\u001b[0m: \tlr_schedule_factor: 0.1\n",
      "\u001b[34m\u001b[1mwandb\u001b[0m: \tlr_schedule_patience: 5\n",
      "\u001b[34m\u001b[1mwandb\u001b[0m: \tmodel: Task2EfficientNetB0\n",
      "\u001b[34m\u001b[1mwandb\u001b[0m: \tp_affine: 0.3\n",
      "\u001b[34m\u001b[1mwandb\u001b[0m: \tp_clahe: 0.3\n",
      "\u001b[34m\u001b[1mwandb\u001b[0m: \tp_equalize: 0\n",
      "\u001b[34m\u001b[1mwandb\u001b[0m: \tp_gaussblur: 0\n",
      "\u001b[34m\u001b[1mwandb\u001b[0m: \tp_horizontalflip: 0.5\n",
      "\u001b[34m\u001b[1mwandb\u001b[0m: \tresampling_strategy: undersampling\n",
      "\u001b[34m\u001b[1mwandb\u001b[0m: \trotation: 10\n",
      "\u001b[34m\u001b[1mwandb\u001b[0m: \u001b[33mWARNING\u001b[0m Ignored wandb.init() arg project when running a sweep.\n"
     ]
    },
    {
     "data": {
      "text/html": [
       "wandb version 0.17.5 is available!  To upgrade, please run:\n",
       " $ pip install wandb --upgrade"
      ],
      "text/plain": [
       "<IPython.core.display.HTML object>"
      ]
     },
     "metadata": {},
     "output_type": "display_data"
    },
    {
     "data": {
      "text/html": [
       "Tracking run with wandb version 0.17.0"
      ],
      "text/plain": [
       "<IPython.core.display.HTML object>"
      ]
     },
     "metadata": {},
     "output_type": "display_data"
    },
    {
     "data": {
      "text/html": [
       "Run data is saved locally in <code>/home/optima/mhaderer/AILS-MICCAI-UWF4DR-Challenge/wandb/run-20240724_002117-6ruhf6t3</code>"
      ],
      "text/plain": [
       "<IPython.core.display.HTML object>"
      ]
     },
     "metadata": {},
     "output_type": "display_data"
    },
    {
     "data": {
      "text/html": [
       "Syncing run <strong><a href='https://wandb.ai/miccai-challenge-2024/task2/runs/6ruhf6t3' target=\"_blank\">sweepy-sweep-2</a></strong> to <a href='https://wandb.ai/miccai-challenge-2024/task2' target=\"_blank\">Weights & Biases</a> (<a href='https://wandb.me/run' target=\"_blank\">docs</a>)<br/>Sweep page: <a href='https://wandb.ai/miccai-challenge-2024/task2/sweeps/eo1h97d3' target=\"_blank\">https://wandb.ai/miccai-challenge-2024/task2/sweeps/eo1h97d3</a>"
      ],
      "text/plain": [
       "<IPython.core.display.HTML object>"
      ]
     },
     "metadata": {},
     "output_type": "display_data"
    },
    {
     "data": {
      "text/html": [
       " View project at <a href='https://wandb.ai/miccai-challenge-2024/task2' target=\"_blank\">https://wandb.ai/miccai-challenge-2024/task2</a>"
      ],
      "text/plain": [
       "<IPython.core.display.HTML object>"
      ]
     },
     "metadata": {},
     "output_type": "display_data"
    },
    {
     "data": {
      "text/html": [
       " View sweep at <a href='https://wandb.ai/miccai-challenge-2024/task2/sweeps/eo1h97d3' target=\"_blank\">https://wandb.ai/miccai-challenge-2024/task2/sweeps/eo1h97d3</a>"
      ],
      "text/plain": [
       "<IPython.core.display.HTML object>"
      ]
     },
     "metadata": {},
     "output_type": "display_data"
    },
    {
     "data": {
      "text/html": [
       " View run at <a href='https://wandb.ai/miccai-challenge-2024/task2/runs/6ruhf6t3' target=\"_blank\">https://wandb.ai/miccai-challenge-2024/task2/runs/6ruhf6t3</a>"
      ],
      "text/plain": [
       "<IPython.core.display.HTML object>"
      ]
     },
     "metadata": {},
     "output_type": "display_data"
    },
    {
     "name": "stdout",
     "output_type": "stream",
     "text": [
      "Using device: cuda\n",
      "Loaded pretrained weights for efficientnet-b0\n",
      "Now train train train\n"
     ]
    },
    {
     "name": "stderr",
     "output_type": "stream",
     "text": [
      "Epoch 1/30 - Avg train Loss: 0.358068: 100%|███████████████████████████████████████████████████████████████████████████████████████████████████████████████████████████████| 15/15 [00:27<00:00,  1.87s/it]\n",
      "Epoch 1/30 - Avg val Loss: 0.434254: 100%|███████████████████████████████████████████████████████████████████████████████████████████████████████████████████████████████████| 4/4 [00:06<00:00,  1.56s/it]\n"
     ]
    },
    {
     "name": "stdout",
     "output_type": "stream",
     "text": [
      "New best model found at epoch 1 with validation loss: 0.4343. Model saved to models/sweepy-sweep-2_2024-07-24_00-21.pth\n"
     ]
    },
    {
     "name": "stderr",
     "output_type": "stream",
     "text": [
      "Epoch 2/30 - Avg train Loss: 0.333122: 100%|███████████████████████████████████████████████████████████████████████████████████████████████████████████████████████████████| 15/15 [00:26<00:00,  1.80s/it]\n",
      "Epoch 2/30 - Avg val Loss: 0.454921: 100%|███████████████████████████████████████████████████████████████████████████████████████████████████████████████████████████████████| 4/4 [00:05<00:00,  1.40s/it]\n",
      "Epoch 3/30 - Avg train Loss: 0.294379: 100%|███████████████████████████████████████████████████████████████████████████████████████████████████████████████████████████████| 15/15 [00:25<00:00,  1.73s/it]\n",
      "Epoch 3/30 - Avg val Loss: 0.447014: 100%|███████████████████████████████████████████████████████████████████████████████████████████████████████████████████████████████████| 4/4 [00:05<00:00,  1.39s/it]\n",
      "Epoch 4/30 - Avg train Loss: 0.294528: 100%|███████████████████████████████████████████████████████████████████████████████████████████████████████████████████████████████| 15/15 [00:25<00:00,  1.70s/it]\n",
      "Epoch 4/30 - Avg val Loss: 0.342299: 100%|███████████████████████████████████████████████████████████████████████████████████████████████████████████████████████████████████| 4/4 [00:05<00:00,  1.37s/it]\n"
     ]
    },
    {
     "name": "stdout",
     "output_type": "stream",
     "text": [
      "New best model found at epoch 4 with validation loss: 0.3423. Model saved to models/sweepy-sweep-2_2024-07-24_00-21.pth\n"
     ]
    },
    {
     "name": "stderr",
     "output_type": "stream",
     "text": [
      "Epoch 5/30 - Avg train Loss: 0.268131: 100%|███████████████████████████████████████████████████████████████████████████████████████████████████████████████████████████████| 15/15 [00:25<00:00,  1.70s/it]\n",
      "Epoch 5/30 - Avg val Loss: 0.296278: 100%|███████████████████████████████████████████████████████████████████████████████████████████████████████████████████████████████████| 4/4 [00:05<00:00,  1.35s/it]\n"
     ]
    },
    {
     "name": "stdout",
     "output_type": "stream",
     "text": [
      "New best model found at epoch 5 with validation loss: 0.2963. Model saved to models/sweepy-sweep-2_2024-07-24_00-21.pth\n"
     ]
    },
    {
     "name": "stderr",
     "output_type": "stream",
     "text": [
      "Epoch 6/30 - Avg train Loss: 0.277486: 100%|███████████████████████████████████████████████████████████████████████████████████████████████████████████████████████████████| 15/15 [00:25<00:00,  1.72s/it]\n",
      "Epoch 6/30 - Avg val Loss: 0.287954: 100%|███████████████████████████████████████████████████████████████████████████████████████████████████████████████████████████████████| 4/4 [00:05<00:00,  1.41s/it]\n"
     ]
    },
    {
     "name": "stdout",
     "output_type": "stream",
     "text": [
      "New best model found at epoch 6 with validation loss: 0.2880. Model saved to models/sweepy-sweep-2_2024-07-24_00-21.pth\n"
     ]
    },
    {
     "name": "stderr",
     "output_type": "stream",
     "text": [
      "Epoch 7/30 - Avg train Loss: 0.262456: 100%|███████████████████████████████████████████████████████████████████████████████████████████████████████████████████████████████| 15/15 [00:25<00:00,  1.71s/it]\n",
      "Epoch 7/30 - Avg val Loss: 0.410404: 100%|███████████████████████████████████████████████████████████████████████████████████████████████████████████████████████████████████| 4/4 [00:05<00:00,  1.36s/it]\n",
      "Epoch 8/30 - Avg train Loss: 0.261891: 100%|███████████████████████████████████████████████████████████████████████████████████████████████████████████████████████████████| 15/15 [00:27<00:00,  1.81s/it]\n",
      "Epoch 8/30 - Avg val Loss: 0.307215: 100%|███████████████████████████████████████████████████████████████████████████████████████████████████████████████████████████████████| 4/4 [00:05<00:00,  1.46s/it]\n",
      "Epoch 9/30 - Avg train Loss: 0.240245: 100%|███████████████████████████████████████████████████████████████████████████████████████████████████████████████████████████████| 15/15 [00:26<00:00,  1.80s/it]\n",
      "Epoch 9/30 - Avg val Loss: 0.280899: 100%|███████████████████████████████████████████████████████████████████████████████████████████████████████████████████████████████████| 4/4 [00:06<00:00,  1.54s/it]\n"
     ]
    },
    {
     "name": "stdout",
     "output_type": "stream",
     "text": [
      "New best model found at epoch 9 with validation loss: 0.2809. Model saved to models/sweepy-sweep-2_2024-07-24_00-21.pth\n"
     ]
    },
    {
     "name": "stderr",
     "output_type": "stream",
     "text": [
      "Epoch 10/30 - Avg train Loss: 0.239425: 100%|██████████████████████████████████████████████████████████████████████████████████████████████████████████████████████████████| 15/15 [00:27<00:00,  1.85s/it]\n",
      "Epoch 10/30 - Avg val Loss: 0.279912: 100%|██████████████████████████████████████████████████████████████████████████████████████████████████████████████████████████████████| 4/4 [00:05<00:00,  1.50s/it]\n"
     ]
    },
    {
     "name": "stdout",
     "output_type": "stream",
     "text": [
      "New best model found at epoch 10 with validation loss: 0.2799. Model saved to models/sweepy-sweep-2_2024-07-24_00-21.pth\n"
     ]
    },
    {
     "name": "stderr",
     "output_type": "stream",
     "text": [
      "Epoch 11/30 - Avg train Loss: 0.239374: 100%|██████████████████████████████████████████████████████████████████████████████████████████████████████████████████████████████| 15/15 [00:26<00:00,  1.79s/it]\n",
      "Epoch 11/30 - Avg val Loss: 0.313573: 100%|██████████████████████████████████████████████████████████████████████████████████████████████████████████████████████████████████| 4/4 [00:05<00:00,  1.38s/it]\n",
      "Epoch 12/30 - Avg train Loss: 0.241667: 100%|██████████████████████████████████████████████████████████████████████████████████████████████████████████████████████████████| 15/15 [00:26<00:00,  1.74s/it]\n",
      "Epoch 12/30 - Avg val Loss: 0.294253: 100%|██████████████████████████████████████████████████████████████████████████████████████████████████████████████████████████████████| 4/4 [00:05<00:00,  1.43s/it]\n",
      "Epoch 13/30 - Avg train Loss: 0.231189: 100%|██████████████████████████████████████████████████████████████████████████████████████████████████████████████████████████████| 15/15 [00:26<00:00,  1.74s/it]\n",
      "Epoch 13/30 - Avg val Loss: 0.278961: 100%|██████████████████████████████████████████████████████████████████████████████████████████████████████████████████████████████████| 4/4 [00:05<00:00,  1.36s/it]\n"
     ]
    },
    {
     "name": "stdout",
     "output_type": "stream",
     "text": [
      "New best model found at epoch 13 with validation loss: 0.2790. Model saved to models/sweepy-sweep-2_2024-07-24_00-21.pth\n"
     ]
    },
    {
     "name": "stderr",
     "output_type": "stream",
     "text": [
      "Epoch 14/30 - Avg train Loss: 0.234092: 100%|██████████████████████████████████████████████████████████████████████████████████████████████████████████████████████████████| 15/15 [00:25<00:00,  1.71s/it]\n",
      "Epoch 14/30 - Avg val Loss: 0.263685: 100%|██████████████████████████████████████████████████████████████████████████████████████████████████████████████████████████████████| 4/4 [00:05<00:00,  1.35s/it]\n"
     ]
    },
    {
     "name": "stdout",
     "output_type": "stream",
     "text": [
      "New best model found at epoch 14 with validation loss: 0.2637. Model saved to models/sweepy-sweep-2_2024-07-24_00-21.pth\n"
     ]
    },
    {
     "name": "stderr",
     "output_type": "stream",
     "text": [
      "Epoch 15/30 - Avg train Loss: 0.235567: 100%|██████████████████████████████████████████████████████████████████████████████████████████████████████████████████████████████| 15/15 [00:25<00:00,  1.71s/it]\n",
      "Epoch 15/30 - Avg val Loss: 0.342435: 100%|██████████████████████████████████████████████████████████████████████████████████████████████████████████████████████████████████| 4/4 [00:05<00:00,  1.46s/it]\n",
      "Epoch 16/30 - Avg train Loss: 0.235384: 100%|██████████████████████████████████████████████████████████████████████████████████████████████████████████████████████████████| 15/15 [00:27<00:00,  1.82s/it]\n",
      "Epoch 16/30 - Avg val Loss: 0.320643: 100%|██████████████████████████████████████████████████████████████████████████████████████████████████████████████████████████████████| 4/4 [00:06<00:00,  1.53s/it]\n",
      "Epoch 17/30 - Avg train Loss: 0.234509: 100%|██████████████████████████████████████████████████████████████████████████████████████████████████████████████████████████████| 15/15 [00:27<00:00,  1.83s/it]\n",
      "Epoch 17/30 - Avg val Loss: 0.294312: 100%|██████████████████████████████████████████████████████████████████████████████████████████████████████████████████████████████████| 4/4 [00:06<00:00,  1.54s/it]\n",
      "Epoch 18/30 - Avg train Loss: 0.231853: 100%|██████████████████████████████████████████████████████████████████████████████████████████████████████████████████████████████| 15/15 [00:25<00:00,  1.70s/it]\n",
      "Epoch 18/30 - Avg val Loss: 0.326738: 100%|██████████████████████████████████████████████████████████████████████████████████████████████████████████████████████████████████| 4/4 [00:05<00:00,  1.39s/it]\n",
      "Epoch 19/30 - Avg train Loss: 0.235610: 100%|██████████████████████████████████████████████████████████████████████████████████████████████████████████████████████████████| 15/15 [00:25<00:00,  1.72s/it]\n",
      "Epoch 19/30 - Avg val Loss: 0.338564: 100%|██████████████████████████████████████████████████████████████████████████████████████████████████████████████████████████████████| 4/4 [00:05<00:00,  1.36s/it]\n",
      "Epoch 20/30 - Avg train Loss: 0.235041: 100%|██████████████████████████████████████████████████████████████████████████████████████████████████████████████████████████████| 15/15 [00:26<00:00,  1.76s/it]\n",
      "Epoch 20/30 - Avg val Loss: 0.380101: 100%|██████████████████████████████████████████████████████████████████████████████████████████████████████████████████████████████████| 4/4 [00:05<00:00,  1.50s/it]\n",
      "Epoch 21/30 - Avg train Loss: 0.227139: 100%|██████████████████████████████████████████████████████████████████████████████████████████████████████████████████████████████| 15/15 [00:25<00:00,  1.73s/it]\n",
      "Epoch 21/30 - Avg val Loss: 0.320741: 100%|██████████████████████████████████████████████████████████████████████████████████████████████████████████████████████████████████| 4/4 [00:06<00:00,  1.51s/it]\n",
      "Epoch 22/30 - Avg train Loss: 0.228987: 100%|██████████████████████████████████████████████████████████████████████████████████████████████████████████████████████████████| 15/15 [00:25<00:00,  1.73s/it]\n",
      "Epoch 22/30 - Avg val Loss: 0.283239: 100%|██████████████████████████████████████████████████████████████████████████████████████████████████████████████████████████████████| 4/4 [00:05<00:00,  1.43s/it]\n",
      "Epoch 23/30 - Avg train Loss: 0.226238: 100%|██████████████████████████████████████████████████████████████████████████████████████████████████████████████████████████████| 15/15 [00:26<00:00,  1.77s/it]\n",
      "Epoch 23/30 - Avg val Loss: 0.286966: 100%|██████████████████████████████████████████████████████████████████████████████████████████████████████████████████████████████████| 4/4 [00:05<00:00,  1.37s/it]\n",
      "Epoch 24/30 - Avg train Loss: 0.224924: 100%|██████████████████████████████████████████████████████████████████████████████████████████████████████████████████████████████| 15/15 [00:26<00:00,  1.79s/it]\n",
      "Epoch 24/30 - Avg val Loss: 0.289110: 100%|██████████████████████████████████████████████████████████████████████████████████████████████████████████████████████████████████| 4/4 [00:05<00:00,  1.40s/it]\n",
      "Epoch 25/30 - Avg train Loss: 0.222171: 100%|██████████████████████████████████████████████████████████████████████████████████████████████████████████████████████████████| 15/15 [00:27<00:00,  1.82s/it]\n",
      "Epoch 25/30 - Avg val Loss: 0.287630: 100%|██████████████████████████████████████████████████████████████████████████████████████████████████████████████████████████████████| 4/4 [00:05<00:00,  1.39s/it]\n",
      "Epoch 26/30 - Avg train Loss: 0.222076: 100%|██████████████████████████████████████████████████████████████████████████████████████████████████████████████████████████████| 15/15 [00:27<00:00,  1.83s/it]\n",
      "Epoch 26/30 - Avg val Loss: 0.290871: 100%|██████████████████████████████████████████████████████████████████████████████████████████████████████████████████████████████████| 4/4 [00:05<00:00,  1.49s/it]\n",
      "Epoch 27/30 - Avg train Loss: 0.222265: 100%|██████████████████████████████████████████████████████████████████████████████████████████████████████████████████████████████| 15/15 [00:27<00:00,  1.82s/it]\n",
      "Epoch 27/30 - Avg val Loss: 0.292664: 100%|██████████████████████████████████████████████████████████████████████████████████████████████████████████████████████████████████| 4/4 [00:06<00:00,  1.55s/it]\n",
      "Epoch 28/30 - Avg train Loss: 0.221658: 100%|██████████████████████████████████████████████████████████████████████████████████████████████████████████████████████████████| 15/15 [00:27<00:00,  1.85s/it]\n",
      "Epoch 28/30 - Avg val Loss: 0.294112: 100%|██████████████████████████████████████████████████████████████████████████████████████████████████████████████████████████████████| 4/4 [00:06<00:00,  1.53s/it]\n",
      "Epoch 29/30 - Avg train Loss: 0.220866: 100%|██████████████████████████████████████████████████████████████████████████████████████████████████████████████████████████████| 15/15 [00:26<00:00,  1.80s/it]\n",
      "Epoch 29/30 - Avg val Loss: 0.295549: 100%|██████████████████████████████████████████████████████████████████████████████████████████████████████████████████████████████████| 4/4 [00:05<00:00,  1.41s/it]\n",
      "Epoch 30/30 - Avg train Loss: 0.228797: 100%|██████████████████████████████████████████████████████████████████████████████████████████████████████████████████████████████| 15/15 [00:27<00:00,  1.81s/it]\n",
      "Epoch 30/30 - Avg val Loss: 0.296000: 100%|██████████████████████████████████████████████████████████████████████████████████████████████████████████████████████████████████| 4/4 [00:06<00:00,  1.57s/it]\n"
     ]
    },
    {
     "data": {
      "application/vnd.jupyter.widget-view+json": {
       "model_id": "",
       "version_major": 2,
       "version_minor": 0
      },
      "text/plain": [
       "VBox(children=(Label(value='0.008 MB of 0.008 MB uploaded\\r'), FloatProgress(value=1.0, max=1.0)))"
      ]
     },
     "metadata": {},
     "output_type": "display_data"
    },
    {
     "data": {
      "text/html": [
       "<style>\n",
       "    table.wandb td:nth-child(1) { padding: 0 10px; text-align: left ; width: auto;} td:nth-child(2) {text-align: left ; width: 100%}\n",
       "    .wandb-row { display: flex; flex-direction: row; flex-wrap: wrap; justify-content: flex-start; width: 100% }\n",
       "    .wandb-col { display: flex; flex-direction: column; flex-basis: 100%; flex: 1; padding: 10px; }\n",
       "    </style>\n",
       "<div class=\"wandb-row\"><div class=\"wandb-col\"><h3>Run history:</h3><br/><table class=\"wandb\"><tr><td>accuracy</td><td>▁▁▂▃▆▇▆▇██▇▇█▇▂▇██▇▆▇▇▇▇▆▆▆▆▆▆</td></tr><tr><td>auprc</td><td>▁▆▃▇██▄▆██▄▅██▂▅▆▆▆▂▅▆▆▆▆▆▆▆▆▆</td></tr><tr><td>auroc</td><td>▂▆▅▇██▃▆██▃▅██▅▅▄▅▆▁▄▅▆▆▆▆▆▆▆▆</td></tr><tr><td>avg_train_loss</td><td>█▇▅▅▃▄▃▃▂▂▂▂▂▂▂▂▂▂▂▂▁▁▁▁▁▁▁▁▁▁</td></tr><tr><td>avg_val_loss</td><td>▇██▄▂▂▆▃▂▂▃▂▂▁▄▃▂▃▄▅▃▂▂▂▂▂▂▂▂▂</td></tr><tr><td>sensitivity</td><td>▁▅▇▇▇▅▂▃▇▆▃▅▆▆█▂▆▅▃▂▅▆▂▃▂▃▃▃▃▃</td></tr><tr><td>specificity</td><td>▅▆▃▅▆████▆▆▆██▁███▆▅▆▅█▆██████</td></tr></table><br/></div><div class=\"wandb-col\"><h3>Run summary:</h3><br/><table class=\"wandb\"><tr><td>accuracy</td><td>0.8</td></tr><tr><td>auprc</td><td>0.96517</td></tr><tr><td>auroc</td><td>0.95667</td></tr><tr><td>avg_train_loss</td><td>0.2288</td></tr><tr><td>avg_val_loss</td><td>0.296</td></tr><tr><td>sensitivity</td><td>0.83333</td></tr><tr><td>specificity</td><td>1.0</td></tr></table><br/></div></div>"
      ],
      "text/plain": [
       "<IPython.core.display.HTML object>"
      ]
     },
     "metadata": {},
     "output_type": "display_data"
    },
    {
     "data": {
      "text/html": [
       " View run <strong style=\"color:#cdcd00\">sweepy-sweep-2</strong> at: <a href='https://wandb.ai/miccai-challenge-2024/task2/runs/6ruhf6t3' target=\"_blank\">https://wandb.ai/miccai-challenge-2024/task2/runs/6ruhf6t3</a><br/> View project at: <a href='https://wandb.ai/miccai-challenge-2024/task2' target=\"_blank\">https://wandb.ai/miccai-challenge-2024/task2</a><br/>Synced 6 W&B file(s), 0 media file(s), 0 artifact file(s) and 0 other file(s)"
      ],
      "text/plain": [
       "<IPython.core.display.HTML object>"
      ]
     },
     "metadata": {},
     "output_type": "display_data"
    },
    {
     "data": {
      "text/html": [
       "Find logs at: <code>./wandb/run-20240724_002117-6ruhf6t3/logs</code>"
      ],
      "text/plain": [
       "<IPython.core.display.HTML object>"
      ]
     },
     "metadata": {},
     "output_type": "display_data"
    },
    {
     "name": "stdout",
     "output_type": "stream",
     "text": [
      "Finished training\n"
     ]
    },
    {
     "name": "stderr",
     "output_type": "stream",
     "text": [
      "\u001b[34m\u001b[1mwandb\u001b[0m: Agent Starting Run: qqbzhszs with config:\n",
      "\u001b[34m\u001b[1mwandb\u001b[0m: \tbatch_size: 16\n",
      "\u001b[34m\u001b[1mwandb\u001b[0m: \tepochs: 30\n",
      "\u001b[34m\u001b[1mwandb\u001b[0m: \tloss_weight: 0.5\n",
      "\u001b[34m\u001b[1mwandb\u001b[0m: \tlr: 0.001\n",
      "\u001b[34m\u001b[1mwandb\u001b[0m: \tlr_schedule_factor: 0.1\n",
      "\u001b[34m\u001b[1mwandb\u001b[0m: \tlr_schedule_patience: 5\n",
      "\u001b[34m\u001b[1mwandb\u001b[0m: \tmodel: Task2EfficientNetB0\n",
      "\u001b[34m\u001b[1mwandb\u001b[0m: \tp_affine: 0.3\n",
      "\u001b[34m\u001b[1mwandb\u001b[0m: \tp_clahe: 0.5\n",
      "\u001b[34m\u001b[1mwandb\u001b[0m: \tp_equalize: 0\n",
      "\u001b[34m\u001b[1mwandb\u001b[0m: \tp_gaussblur: 0.3\n",
      "\u001b[34m\u001b[1mwandb\u001b[0m: \tp_horizontalflip: 0.5\n",
      "\u001b[34m\u001b[1mwandb\u001b[0m: \tresampling_strategy: undersampling\n",
      "\u001b[34m\u001b[1mwandb\u001b[0m: \trotation: 10\n",
      "\u001b[34m\u001b[1mwandb\u001b[0m: \u001b[33mWARNING\u001b[0m Ignored wandb.init() arg project when running a sweep.\n"
     ]
    },
    {
     "data": {
      "text/html": [
       "wandb version 0.17.5 is available!  To upgrade, please run:\n",
       " $ pip install wandb --upgrade"
      ],
      "text/plain": [
       "<IPython.core.display.HTML object>"
      ]
     },
     "metadata": {},
     "output_type": "display_data"
    },
    {
     "data": {
      "text/html": [
       "Tracking run with wandb version 0.17.0"
      ],
      "text/plain": [
       "<IPython.core.display.HTML object>"
      ]
     },
     "metadata": {},
     "output_type": "display_data"
    },
    {
     "data": {
      "text/html": [
       "Run data is saved locally in <code>/home/optima/mhaderer/AILS-MICCAI-UWF4DR-Challenge/wandb/run-20240724_003751-qqbzhszs</code>"
      ],
      "text/plain": [
       "<IPython.core.display.HTML object>"
      ]
     },
     "metadata": {},
     "output_type": "display_data"
    },
    {
     "data": {
      "text/html": [
       "Syncing run <strong><a href='https://wandb.ai/miccai-challenge-2024/task2/runs/qqbzhszs' target=\"_blank\">hearty-sweep-3</a></strong> to <a href='https://wandb.ai/miccai-challenge-2024/task2' target=\"_blank\">Weights & Biases</a> (<a href='https://wandb.me/run' target=\"_blank\">docs</a>)<br/>Sweep page: <a href='https://wandb.ai/miccai-challenge-2024/task2/sweeps/eo1h97d3' target=\"_blank\">https://wandb.ai/miccai-challenge-2024/task2/sweeps/eo1h97d3</a>"
      ],
      "text/plain": [
       "<IPython.core.display.HTML object>"
      ]
     },
     "metadata": {},
     "output_type": "display_data"
    },
    {
     "data": {
      "text/html": [
       " View project at <a href='https://wandb.ai/miccai-challenge-2024/task2' target=\"_blank\">https://wandb.ai/miccai-challenge-2024/task2</a>"
      ],
      "text/plain": [
       "<IPython.core.display.HTML object>"
      ]
     },
     "metadata": {},
     "output_type": "display_data"
    },
    {
     "data": {
      "text/html": [
       " View sweep at <a href='https://wandb.ai/miccai-challenge-2024/task2/sweeps/eo1h97d3' target=\"_blank\">https://wandb.ai/miccai-challenge-2024/task2/sweeps/eo1h97d3</a>"
      ],
      "text/plain": [
       "<IPython.core.display.HTML object>"
      ]
     },
     "metadata": {},
     "output_type": "display_data"
    },
    {
     "data": {
      "text/html": [
       " View run at <a href='https://wandb.ai/miccai-challenge-2024/task2/runs/qqbzhszs' target=\"_blank\">https://wandb.ai/miccai-challenge-2024/task2/runs/qqbzhszs</a>"
      ],
      "text/plain": [
       "<IPython.core.display.HTML object>"
      ]
     },
     "metadata": {},
     "output_type": "display_data"
    },
    {
     "name": "stdout",
     "output_type": "stream",
     "text": [
      "Using device: cuda\n",
      "Loaded pretrained weights for efficientnet-b0\n",
      "Now train train train\n"
     ]
    },
    {
     "name": "stderr",
     "output_type": "stream",
     "text": [
      "Epoch 1/30 - Avg train Loss: 0.375287: 100%|███████████████████████████████████████████████████████████████████████████████████████████████████████████████████████████████| 15/15 [00:28<00:00,  1.88s/it]\n",
      "Epoch 1/30 - Avg val Loss: 0.360187: 100%|███████████████████████████████████████████████████████████████████████████████████████████████████████████████████████████████████| 4/4 [00:06<00:00,  1.57s/it]\n"
     ]
    },
    {
     "name": "stdout",
     "output_type": "stream",
     "text": [
      "New best model found at epoch 1 with validation loss: 0.3602. Model saved to models/hearty-sweep-3_2024-07-24_00-38.pth\n"
     ]
    },
    {
     "name": "stderr",
     "output_type": "stream",
     "text": [
      "Epoch 2/30 - Avg train Loss: 0.317346: 100%|███████████████████████████████████████████████████████████████████████████████████████████████████████████████████████████████| 15/15 [00:27<00:00,  1.82s/it]\n",
      "Epoch 2/30 - Avg val Loss: 0.349916: 100%|███████████████████████████████████████████████████████████████████████████████████████████████████████████████████████████████████| 4/4 [00:06<00:00,  1.60s/it]\n"
     ]
    },
    {
     "name": "stdout",
     "output_type": "stream",
     "text": [
      "New best model found at epoch 2 with validation loss: 0.3499. Model saved to models/hearty-sweep-3_2024-07-24_00-38.pth\n"
     ]
    },
    {
     "name": "stderr",
     "output_type": "stream",
     "text": [
      "Epoch 3/30 - Avg train Loss: 0.316272: 100%|███████████████████████████████████████████████████████████████████████████████████████████████████████████████████████████████| 15/15 [00:28<00:00,  1.93s/it]\n",
      "Epoch 3/30 - Avg val Loss: 0.334567: 100%|███████████████████████████████████████████████████████████████████████████████████████████████████████████████████████████████████| 4/4 [00:06<00:00,  1.67s/it]\n"
     ]
    },
    {
     "name": "stdout",
     "output_type": "stream",
     "text": [
      "New best model found at epoch 3 with validation loss: 0.3346. Model saved to models/hearty-sweep-3_2024-07-24_00-38.pth\n"
     ]
    },
    {
     "name": "stderr",
     "output_type": "stream",
     "text": [
      "Epoch 4/30 - Avg train Loss: 0.285728: 100%|███████████████████████████████████████████████████████████████████████████████████████████████████████████████████████████████| 15/15 [00:29<00:00,  1.95s/it]\n",
      "Epoch 4/30 - Avg val Loss: 0.349991: 100%|███████████████████████████████████████████████████████████████████████████████████████████████████████████████████████████████████| 4/4 [00:06<00:00,  1.70s/it]\n",
      "Epoch 5/30 - Avg train Loss: 0.291080: 100%|███████████████████████████████████████████████████████████████████████████████████████████████████████████████████████████████| 15/15 [00:28<00:00,  1.90s/it]\n",
      "Epoch 5/30 - Avg val Loss: 0.375266: 100%|███████████████████████████████████████████████████████████████████████████████████████████████████████████████████████████████████| 4/4 [00:06<00:00,  1.70s/it]\n",
      "Epoch 6/30 - Avg train Loss: 0.278003: 100%|███████████████████████████████████████████████████████████████████████████████████████████████████████████████████████████████| 15/15 [00:28<00:00,  1.90s/it]\n",
      "Epoch 6/30 - Avg val Loss: 0.468647: 100%|███████████████████████████████████████████████████████████████████████████████████████████████████████████████████████████████████| 4/4 [00:06<00:00,  1.69s/it]\n",
      "Epoch 7/30 - Avg train Loss: 0.265034: 100%|███████████████████████████████████████████████████████████████████████████████████████████████████████████████████████████████| 15/15 [00:29<00:00,  1.96s/it]\n",
      "Epoch 7/30 - Avg val Loss: 0.527995: 100%|███████████████████████████████████████████████████████████████████████████████████████████████████████████████████████████████████| 4/4 [00:06<00:00,  1.60s/it]\n",
      "Epoch 8/30 - Avg train Loss: 0.262675: 100%|███████████████████████████████████████████████████████████████████████████████████████████████████████████████████████████████| 15/15 [00:28<00:00,  1.90s/it]\n",
      "Epoch 8/30 - Avg val Loss: 0.387857: 100%|███████████████████████████████████████████████████████████████████████████████████████████████████████████████████████████████████| 4/4 [00:06<00:00,  1.59s/it]\n",
      "Epoch 9/30 - Avg train Loss: 0.269257: 100%|███████████████████████████████████████████████████████████████████████████████████████████████████████████████████████████████| 15/15 [00:29<00:00,  1.94s/it]\n",
      "Epoch 9/30 - Avg val Loss: 0.347469: 100%|███████████████████████████████████████████████████████████████████████████████████████████████████████████████████████████████████| 4/4 [00:06<00:00,  1.64s/it]\n",
      "Epoch 10/30 - Avg train Loss: 0.245454: 100%|██████████████████████████████████████████████████████████████████████████████████████████████████████████████████████████████| 15/15 [00:28<00:00,  1.90s/it]\n",
      "Epoch 10/30 - Avg val Loss: 0.336300: 100%|██████████████████████████████████████████████████████████████████████████████████████████████████████████████████████████████████| 4/4 [00:06<00:00,  1.73s/it]\n",
      "Epoch 11/30 - Avg train Loss: 0.243505: 100%|██████████████████████████████████████████████████████████████████████████████████████████████████████████████████████████████| 15/15 [00:28<00:00,  1.92s/it]\n",
      "Epoch 11/30 - Avg val Loss: 0.327048: 100%|██████████████████████████████████████████████████████████████████████████████████████████████████████████████████████████████████| 4/4 [00:06<00:00,  1.65s/it]\n"
     ]
    },
    {
     "name": "stdout",
     "output_type": "stream",
     "text": [
      "New best model found at epoch 11 with validation loss: 0.3270. Model saved to models/hearty-sweep-3_2024-07-24_00-38.pth\n"
     ]
    },
    {
     "name": "stderr",
     "output_type": "stream",
     "text": [
      "Epoch 12/30 - Avg train Loss: 0.242319: 100%|██████████████████████████████████████████████████████████████████████████████████████████████████████████████████████████████| 15/15 [00:29<00:00,  1.95s/it]\n",
      "Epoch 12/30 - Avg val Loss: 0.322480: 100%|██████████████████████████████████████████████████████████████████████████████████████████████████████████████████████████████████| 4/4 [00:06<00:00,  1.60s/it]\n"
     ]
    },
    {
     "name": "stdout",
     "output_type": "stream",
     "text": [
      "New best model found at epoch 12 with validation loss: 0.3225. Model saved to models/hearty-sweep-3_2024-07-24_00-38.pth\n"
     ]
    },
    {
     "name": "stderr",
     "output_type": "stream",
     "text": [
      "Epoch 13/30 - Avg train Loss: 0.246255: 100%|██████████████████████████████████████████████████████████████████████████████████████████████████████████████████████████████| 15/15 [00:27<00:00,  1.86s/it]\n",
      "Epoch 13/30 - Avg val Loss: 0.320371: 100%|██████████████████████████████████████████████████████████████████████████████████████████████████████████████████████████████████| 4/4 [00:06<00:00,  1.59s/it]\n"
     ]
    },
    {
     "name": "stdout",
     "output_type": "stream",
     "text": [
      "New best model found at epoch 13 with validation loss: 0.3204. Model saved to models/hearty-sweep-3_2024-07-24_00-38.pth\n"
     ]
    },
    {
     "name": "stderr",
     "output_type": "stream",
     "text": [
      "Epoch 14/30 - Avg train Loss: 0.240788: 100%|██████████████████████████████████████████████████████████████████████████████████████████████████████████████████████████████| 15/15 [00:28<00:00,  1.91s/it]\n",
      "Epoch 14/30 - Avg val Loss: 0.318944: 100%|██████████████████████████████████████████████████████████████████████████████████████████████████████████████████████████████████| 4/4 [00:06<00:00,  1.72s/it]\n"
     ]
    },
    {
     "name": "stdout",
     "output_type": "stream",
     "text": [
      "New best model found at epoch 14 with validation loss: 0.3189. Model saved to models/hearty-sweep-3_2024-07-24_00-38.pth\n"
     ]
    },
    {
     "name": "stderr",
     "output_type": "stream",
     "text": [
      "Epoch 15/30 - Avg train Loss: 0.234198: 100%|██████████████████████████████████████████████████████████████████████████████████████████████████████████████████████████████| 15/15 [00:29<00:00,  1.94s/it]\n",
      "Epoch 15/30 - Avg val Loss: 0.311486: 100%|██████████████████████████████████████████████████████████████████████████████████████████████████████████████████████████████████| 4/4 [00:06<00:00,  1.61s/it]\n"
     ]
    },
    {
     "name": "stdout",
     "output_type": "stream",
     "text": [
      "New best model found at epoch 15 with validation loss: 0.3115. Model saved to models/hearty-sweep-3_2024-07-24_00-38.pth\n"
     ]
    },
    {
     "name": "stderr",
     "output_type": "stream",
     "text": [
      "Epoch 16/30 - Avg train Loss: 0.231548: 100%|██████████████████████████████████████████████████████████████████████████████████████████████████████████████████████████████| 15/15 [00:28<00:00,  1.92s/it]\n",
      "Epoch 16/30 - Avg val Loss: 0.307177: 100%|██████████████████████████████████████████████████████████████████████████████████████████████████████████████████████████████████| 4/4 [00:06<00:00,  1.58s/it]\n"
     ]
    },
    {
     "name": "stdout",
     "output_type": "stream",
     "text": [
      "New best model found at epoch 16 with validation loss: 0.3072. Model saved to models/hearty-sweep-3_2024-07-24_00-38.pth\n"
     ]
    },
    {
     "name": "stderr",
     "output_type": "stream",
     "text": [
      "Epoch 17/30 - Avg train Loss: 0.236023: 100%|██████████████████████████████████████████████████████████████████████████████████████████████████████████████████████████████| 15/15 [00:28<00:00,  1.92s/it]\n",
      "Epoch 17/30 - Avg val Loss: 0.303449: 100%|██████████████████████████████████████████████████████████████████████████████████████████████████████████████████████████████████| 4/4 [00:06<00:00,  1.70s/it]\n"
     ]
    },
    {
     "name": "stdout",
     "output_type": "stream",
     "text": [
      "New best model found at epoch 17 with validation loss: 0.3034. Model saved to models/hearty-sweep-3_2024-07-24_00-38.pth\n"
     ]
    },
    {
     "name": "stderr",
     "output_type": "stream",
     "text": [
      "Epoch 18/30 - Avg train Loss: 0.236877: 100%|██████████████████████████████████████████████████████████████████████████████████████████████████████████████████████████████| 15/15 [00:27<00:00,  1.81s/it]\n",
      "Epoch 18/30 - Avg val Loss: 0.298761: 100%|██████████████████████████████████████████████████████████████████████████████████████████████████████████████████████████████████| 4/4 [00:06<00:00,  1.54s/it]\n"
     ]
    },
    {
     "name": "stdout",
     "output_type": "stream",
     "text": [
      "New best model found at epoch 18 with validation loss: 0.2988. Model saved to models/hearty-sweep-3_2024-07-24_00-38.pth\n"
     ]
    },
    {
     "name": "stderr",
     "output_type": "stream",
     "text": [
      "Epoch 19/30 - Avg train Loss: 0.237391: 100%|██████████████████████████████████████████████████████████████████████████████████████████████████████████████████████████████| 15/15 [00:28<00:00,  1.87s/it]\n",
      "Epoch 19/30 - Avg val Loss: 0.295051: 100%|██████████████████████████████████████████████████████████████████████████████████████████████████████████████████████████████████| 4/4 [00:06<00:00,  1.73s/it]\n"
     ]
    },
    {
     "name": "stdout",
     "output_type": "stream",
     "text": [
      "New best model found at epoch 19 with validation loss: 0.2951. Model saved to models/hearty-sweep-3_2024-07-24_00-38.pth\n"
     ]
    },
    {
     "name": "stderr",
     "output_type": "stream",
     "text": [
      "Epoch 20/30 - Avg train Loss: 0.235541: 100%|██████████████████████████████████████████████████████████████████████████████████████████████████████████████████████████████| 15/15 [00:28<00:00,  1.92s/it]\n",
      "Epoch 20/30 - Avg val Loss: 0.295389: 100%|██████████████████████████████████████████████████████████████████████████████████████████████████████████████████████████████████| 4/4 [00:06<00:00,  1.63s/it]\n",
      "Epoch 21/30 - Avg train Loss: 0.230075: 100%|██████████████████████████████████████████████████████████████████████████████████████████████████████████████████████████████| 15/15 [00:29<00:00,  1.98s/it]\n",
      "Epoch 21/30 - Avg val Loss: 0.297081: 100%|██████████████████████████████████████████████████████████████████████████████████████████████████████████████████████████████████| 4/4 [00:06<00:00,  1.63s/it]\n",
      "Epoch 22/30 - Avg train Loss: 0.223693: 100%|██████████████████████████████████████████████████████████████████████████████████████████████████████████████████████████████| 15/15 [00:28<00:00,  1.87s/it]\n",
      "Epoch 22/30 - Avg val Loss: 0.297837: 100%|██████████████████████████████████████████████████████████████████████████████████████████████████████████████████████████████████| 4/4 [00:06<00:00,  1.68s/it]\n",
      "Epoch 23/30 - Avg train Loss: 0.230188: 100%|██████████████████████████████████████████████████████████████████████████████████████████████████████████████████████████████| 15/15 [00:28<00:00,  1.93s/it]\n",
      "Epoch 23/30 - Avg val Loss: 0.299167: 100%|██████████████████████████████████████████████████████████████████████████████████████████████████████████████████████████████████| 4/4 [00:06<00:00,  1.59s/it]\n",
      "Epoch 24/30 - Avg train Loss: 0.230770: 100%|██████████████████████████████████████████████████████████████████████████████████████████████████████████████████████████████| 15/15 [00:27<00:00,  1.84s/it]\n",
      "Epoch 24/30 - Avg val Loss: 0.305289: 100%|██████████████████████████████████████████████████████████████████████████████████████████████████████████████████████████████████| 4/4 [00:06<00:00,  1.56s/it]\n",
      "Epoch 25/30 - Avg train Loss: 0.225323: 100%|██████████████████████████████████████████████████████████████████████████████████████████████████████████████████████████████| 15/15 [00:27<00:00,  1.82s/it]\n",
      "Epoch 25/30 - Avg val Loss: 0.305050: 100%|██████████████████████████████████████████████████████████████████████████████████████████████████████████████████████████████████| 4/4 [00:06<00:00,  1.56s/it]\n",
      "Epoch 26/30 - Avg train Loss: 0.225099: 100%|██████████████████████████████████████████████████████████████████████████████████████████████████████████████████████████████| 15/15 [00:27<00:00,  1.80s/it]\n",
      "Epoch 26/30 - Avg val Loss: 0.303178: 100%|██████████████████████████████████████████████████████████████████████████████████████████████████████████████████████████████████| 4/4 [00:06<00:00,  1.52s/it]\n",
      "Epoch 27/30 - Avg train Loss: 0.225440: 100%|██████████████████████████████████████████████████████████████████████████████████████████████████████████████████████████████| 15/15 [00:27<00:00,  1.83s/it]\n",
      "Epoch 27/30 - Avg val Loss: 0.302747: 100%|██████████████████████████████████████████████████████████████████████████████████████████████████████████████████████████████████| 4/4 [00:06<00:00,  1.54s/it]\n",
      "Epoch 28/30 - Avg train Loss: 0.225528: 100%|██████████████████████████████████████████████████████████████████████████████████████████████████████████████████████████████| 15/15 [00:27<00:00,  1.84s/it]\n",
      "Epoch 28/30 - Avg val Loss: 0.302871: 100%|██████████████████████████████████████████████████████████████████████████████████████████████████████████████████████████████████| 4/4 [00:06<00:00,  1.57s/it]\n",
      "Epoch 29/30 - Avg train Loss: 0.229952: 100%|██████████████████████████████████████████████████████████████████████████████████████████████████████████████████████████████| 15/15 [00:28<00:00,  1.88s/it]\n",
      "Epoch 29/30 - Avg val Loss: 0.303300: 100%|██████████████████████████████████████████████████████████████████████████████████████████████████████████████████████████████████| 4/4 [00:06<00:00,  1.54s/it]\n",
      "Epoch 30/30 - Avg train Loss: 0.230992: 100%|██████████████████████████████████████████████████████████████████████████████████████████████████████████████████████████████| 15/15 [00:27<00:00,  1.84s/it]\n",
      "Epoch 30/30 - Avg val Loss: 0.302120: 100%|██████████████████████████████████████████████████████████████████████████████████████████████████████████████████████████████████| 4/4 [00:06<00:00,  1.56s/it]\n"
     ]
    },
    {
     "data": {
      "application/vnd.jupyter.widget-view+json": {
       "model_id": "632354c5adb94d14914f731ba687c008",
       "version_major": 2,
       "version_minor": 0
      },
      "text/plain": [
       "VBox(children=(Label(value='0.008 MB of 0.008 MB uploaded\\r'), FloatProgress(value=1.0, max=1.0)))"
      ]
     },
     "metadata": {},
     "output_type": "display_data"
    },
    {
     "data": {
      "text/html": [
       "<style>\n",
       "    table.wandb td:nth-child(1) { padding: 0 10px; text-align: left ; width: auto;} td:nth-child(2) {text-align: left ; width: 100%}\n",
       "    .wandb-row { display: flex; flex-direction: row; flex-wrap: wrap; justify-content: flex-start; width: 100% }\n",
       "    .wandb-col { display: flex; flex-direction: column; flex-basis: 100%; flex: 1; padding: 10px; }\n",
       "    </style>\n",
       "<div class=\"wandb-row\"><div class=\"wandb-col\"><h3>Run history:</h3><br/><table class=\"wandb\"><tr><td>accuracy</td><td>▃▁▅█▅▆▂▄▅▆▇▇███▇███▇▇▇▇▇▇█▇▇▇▇</td></tr><tr><td>auprc</td><td>▄▆▆▇▅▆▁▅▃▂▄▆███████████▇██████</td></tr><tr><td>auroc</td><td>▅▆▇▇▆▆▁▆▆▆▆▇█▇████████████████</td></tr><tr><td>avg_train_loss</td><td>█▅▅▄▄▄▃▃▃▂▂▂▂▂▁▁▂▂▂▂▁▁▁▁▁▁▁▁▁▁</td></tr><tr><td>avg_val_loss</td><td>▃▃▂▃▃▆█▄▃▂▂▂▂▂▁▁▁▁▁▁▁▁▁▁▁▁▁▁▁▁</td></tr><tr><td>sensitivity</td><td>▆▇▆▆█▆▁▆▇▇▇▅▅▅▅▇▇▅▅▅▅▅▅▇▇▇▇▇▇▇</td></tr><tr><td>specificity</td><td>▁▂▄▆▂▄▇▅▃▄▄▆▇▇█▄▄█████▇▅▅▅▅▅▅▅</td></tr></table><br/></div><div class=\"wandb-col\"><h3>Run summary:</h3><br/><table class=\"wandb\"><tr><td>accuracy</td><td>0.83333</td></tr><tr><td>auprc</td><td>0.95514</td></tr><tr><td>auroc</td><td>0.94444</td></tr><tr><td>avg_train_loss</td><td>0.23099</td></tr><tr><td>avg_val_loss</td><td>0.30212</td></tr><tr><td>sensitivity</td><td>0.86667</td></tr><tr><td>specificity</td><td>0.9</td></tr></table><br/></div></div>"
      ],
      "text/plain": [
       "<IPython.core.display.HTML object>"
      ]
     },
     "metadata": {},
     "output_type": "display_data"
    },
    {
     "data": {
      "text/html": [
       " View run <strong style=\"color:#cdcd00\">hearty-sweep-3</strong> at: <a href='https://wandb.ai/miccai-challenge-2024/task2/runs/qqbzhszs' target=\"_blank\">https://wandb.ai/miccai-challenge-2024/task2/runs/qqbzhszs</a><br/> View project at: <a href='https://wandb.ai/miccai-challenge-2024/task2' target=\"_blank\">https://wandb.ai/miccai-challenge-2024/task2</a><br/>Synced 6 W&B file(s), 0 media file(s), 0 artifact file(s) and 0 other file(s)"
      ],
      "text/plain": [
       "<IPython.core.display.HTML object>"
      ]
     },
     "metadata": {},
     "output_type": "display_data"
    },
    {
     "data": {
      "text/html": [
       "Find logs at: <code>./wandb/run-20240724_003751-qqbzhszs/logs</code>"
      ],
      "text/plain": [
       "<IPython.core.display.HTML object>"
      ]
     },
     "metadata": {},
     "output_type": "display_data"
    },
    {
     "name": "stdout",
     "output_type": "stream",
     "text": [
      "Finished training\n"
     ]
    },
    {
     "name": "stderr",
     "output_type": "stream",
     "text": [
      "\u001b[34m\u001b[1mwandb\u001b[0m: Agent Starting Run: 29sepzk2 with config:\n",
      "\u001b[34m\u001b[1mwandb\u001b[0m: \tbatch_size: 16\n",
      "\u001b[34m\u001b[1mwandb\u001b[0m: \tepochs: 30\n",
      "\u001b[34m\u001b[1mwandb\u001b[0m: \tloss_weight: 0.5\n",
      "\u001b[34m\u001b[1mwandb\u001b[0m: \tlr: 0.001\n",
      "\u001b[34m\u001b[1mwandb\u001b[0m: \tlr_schedule_factor: 0.1\n",
      "\u001b[34m\u001b[1mwandb\u001b[0m: \tlr_schedule_patience: 5\n",
      "\u001b[34m\u001b[1mwandb\u001b[0m: \tmodel: Task2EfficientNetB0\n",
      "\u001b[34m\u001b[1mwandb\u001b[0m: \tp_affine: 0.3\n",
      "\u001b[34m\u001b[1mwandb\u001b[0m: \tp_clahe: 0.5\n",
      "\u001b[34m\u001b[1mwandb\u001b[0m: \tp_equalize: 0\n",
      "\u001b[34m\u001b[1mwandb\u001b[0m: \tp_gaussblur: 0.3\n",
      "\u001b[34m\u001b[1mwandb\u001b[0m: \tp_horizontalflip: 0.5\n",
      "\u001b[34m\u001b[1mwandb\u001b[0m: \tresampling_strategy: undersampling\n",
      "\u001b[34m\u001b[1mwandb\u001b[0m: \trotation: 10\n",
      "\u001b[34m\u001b[1mwandb\u001b[0m: \u001b[33mWARNING\u001b[0m Ignored wandb.init() arg project when running a sweep.\n"
     ]
    },
    {
     "data": {
      "text/html": [
       "wandb version 0.17.5 is available!  To upgrade, please run:\n",
       " $ pip install wandb --upgrade"
      ],
      "text/plain": [
       "<IPython.core.display.HTML object>"
      ]
     },
     "metadata": {},
     "output_type": "display_data"
    },
    {
     "data": {
      "text/html": [
       "Tracking run with wandb version 0.17.0"
      ],
      "text/plain": [
       "<IPython.core.display.HTML object>"
      ]
     },
     "metadata": {},
     "output_type": "display_data"
    },
    {
     "data": {
      "text/html": [
       "Run data is saved locally in <code>/home/optima/mhaderer/AILS-MICCAI-UWF4DR-Challenge/wandb/run-20240724_005539-29sepzk2</code>"
      ],
      "text/plain": [
       "<IPython.core.display.HTML object>"
      ]
     },
     "metadata": {},
     "output_type": "display_data"
    },
    {
     "data": {
      "text/html": [
       "Syncing run <strong><a href='https://wandb.ai/miccai-challenge-2024/task2/runs/29sepzk2' target=\"_blank\">feasible-sweep-4</a></strong> to <a href='https://wandb.ai/miccai-challenge-2024/task2' target=\"_blank\">Weights & Biases</a> (<a href='https://wandb.me/run' target=\"_blank\">docs</a>)<br/>Sweep page: <a href='https://wandb.ai/miccai-challenge-2024/task2/sweeps/eo1h97d3' target=\"_blank\">https://wandb.ai/miccai-challenge-2024/task2/sweeps/eo1h97d3</a>"
      ],
      "text/plain": [
       "<IPython.core.display.HTML object>"
      ]
     },
     "metadata": {},
     "output_type": "display_data"
    },
    {
     "data": {
      "text/html": [
       " View project at <a href='https://wandb.ai/miccai-challenge-2024/task2' target=\"_blank\">https://wandb.ai/miccai-challenge-2024/task2</a>"
      ],
      "text/plain": [
       "<IPython.core.display.HTML object>"
      ]
     },
     "metadata": {},
     "output_type": "display_data"
    },
    {
     "data": {
      "text/html": [
       " View sweep at <a href='https://wandb.ai/miccai-challenge-2024/task2/sweeps/eo1h97d3' target=\"_blank\">https://wandb.ai/miccai-challenge-2024/task2/sweeps/eo1h97d3</a>"
      ],
      "text/plain": [
       "<IPython.core.display.HTML object>"
      ]
     },
     "metadata": {},
     "output_type": "display_data"
    },
    {
     "data": {
      "text/html": [
       " View run at <a href='https://wandb.ai/miccai-challenge-2024/task2/runs/29sepzk2' target=\"_blank\">https://wandb.ai/miccai-challenge-2024/task2/runs/29sepzk2</a>"
      ],
      "text/plain": [
       "<IPython.core.display.HTML object>"
      ]
     },
     "metadata": {},
     "output_type": "display_data"
    },
    {
     "name": "stdout",
     "output_type": "stream",
     "text": [
      "Using device: cuda\n",
      "Loaded pretrained weights for efficientnet-b0\n",
      "Now train train train\n"
     ]
    },
    {
     "name": "stderr",
     "output_type": "stream",
     "text": [
      "Epoch 1/30 - Avg train Loss: 0.364575: 100%|███████████████████████████████████████████████████████████████████████████████████████████████████████████████████████████████| 15/15 [00:29<00:00,  1.99s/it]\n",
      "Epoch 1/30 - Avg val Loss: 0.380369: 100%|███████████████████████████████████████████████████████████████████████████████████████████████████████████████████████████████████| 4/4 [00:06<00:00,  1.64s/it]\n"
     ]
    },
    {
     "name": "stdout",
     "output_type": "stream",
     "text": [
      "New best model found at epoch 1 with validation loss: 0.3804. Model saved to models/feasible-sweep-4_2024-07-24_00-55.pth\n"
     ]
    },
    {
     "name": "stderr",
     "output_type": "stream",
     "text": [
      "Epoch 2/30 - Avg train Loss: 0.305717: 100%|███████████████████████████████████████████████████████████████████████████████████████████████████████████████████████████████| 15/15 [00:28<00:00,  1.91s/it]\n",
      "Epoch 2/30 - Avg val Loss: 0.610422: 100%|███████████████████████████████████████████████████████████████████████████████████████████████████████████████████████████████████| 4/4 [00:06<00:00,  1.54s/it]\n",
      "Epoch 3/30 - Avg train Loss: 0.286837: 100%|███████████████████████████████████████████████████████████████████████████████████████████████████████████████████████████████| 15/15 [00:29<00:00,  1.94s/it]\n",
      "Epoch 3/30 - Avg val Loss: 0.447829: 100%|███████████████████████████████████████████████████████████████████████████████████████████████████████████████████████████████████| 4/4 [00:06<00:00,  1.61s/it]\n",
      "Epoch 4/30 - Avg train Loss: 0.269378: 100%|███████████████████████████████████████████████████████████████████████████████████████████████████████████████████████████████| 15/15 [00:29<00:00,  1.97s/it]\n",
      "Epoch 4/30 - Avg val Loss: 0.682801: 100%|███████████████████████████████████████████████████████████████████████████████████████████████████████████████████████████████████| 4/4 [00:06<00:00,  1.67s/it]\n",
      "Epoch 5/30 - Avg train Loss: 0.278958: 100%|███████████████████████████████████████████████████████████████████████████████████████████████████████████████████████████████| 15/15 [00:30<00:00,  2.03s/it]\n",
      "Epoch 5/30 - Avg val Loss: 0.390391: 100%|███████████████████████████████████████████████████████████████████████████████████████████████████████████████████████████████████| 4/4 [00:06<00:00,  1.65s/it]\n",
      "Epoch 6/30 - Avg train Loss: 0.260097: 100%|███████████████████████████████████████████████████████████████████████████████████████████████████████████████████████████████| 15/15 [00:29<00:00,  1.96s/it]\n",
      "Epoch 6/30 - Avg val Loss: 0.310075: 100%|███████████████████████████████████████████████████████████████████████████████████████████████████████████████████████████████████| 4/4 [00:05<00:00,  1.43s/it]\n"
     ]
    },
    {
     "name": "stdout",
     "output_type": "stream",
     "text": [
      "New best model found at epoch 6 with validation loss: 0.3101. Model saved to models/feasible-sweep-4_2024-07-24_00-55.pth\n"
     ]
    },
    {
     "name": "stderr",
     "output_type": "stream",
     "text": [
      "Epoch 7/30 - Avg train Loss: 0.272354: 100%|███████████████████████████████████████████████████████████████████████████████████████████████████████████████████████████████| 15/15 [00:27<00:00,  1.85s/it]\n",
      "Epoch 7/30 - Avg val Loss: 0.318491: 100%|███████████████████████████████████████████████████████████████████████████████████████████████████████████████████████████████████| 4/4 [00:05<00:00,  1.42s/it]\n",
      "Epoch 8/30 - Avg train Loss: 0.255519: 100%|███████████████████████████████████████████████████████████████████████████████████████████████████████████████████████████████| 15/15 [00:27<00:00,  1.86s/it]\n",
      "Epoch 8/30 - Avg val Loss: 0.320563: 100%|███████████████████████████████████████████████████████████████████████████████████████████████████████████████████████████████████| 4/4 [00:05<00:00,  1.44s/it]\n",
      "Epoch 9/30 - Avg train Loss: 0.249262: 100%|███████████████████████████████████████████████████████████████████████████████████████████████████████████████████████████████| 15/15 [00:27<00:00,  1.86s/it]\n",
      "Epoch 9/30 - Avg val Loss: 0.326121: 100%|███████████████████████████████████████████████████████████████████████████████████████████████████████████████████████████████████| 4/4 [00:06<00:00,  1.62s/it]\n",
      "Epoch 10/30 - Avg train Loss: 0.250492: 100%|██████████████████████████████████████████████████████████████████████████████████████████████████████████████████████████████| 15/15 [00:28<00:00,  1.89s/it]\n",
      "Epoch 10/30 - Avg val Loss: 0.301166: 100%|██████████████████████████████████████████████████████████████████████████████████████████████████████████████████████████████████| 4/4 [00:05<00:00,  1.41s/it]\n"
     ]
    },
    {
     "name": "stdout",
     "output_type": "stream",
     "text": [
      "New best model found at epoch 10 with validation loss: 0.3012. Model saved to models/feasible-sweep-4_2024-07-24_00-55.pth\n"
     ]
    },
    {
     "name": "stderr",
     "output_type": "stream",
     "text": [
      "Epoch 11/30 - Avg train Loss: 0.260937: 100%|██████████████████████████████████████████████████████████████████████████████████████████████████████████████████████████████| 15/15 [00:27<00:00,  1.81s/it]\n",
      "Epoch 11/30 - Avg val Loss: 0.319187: 100%|██████████████████████████████████████████████████████████████████████████████████████████████████████████████████████████████████| 4/4 [00:05<00:00,  1.43s/it]\n",
      "Epoch 12/30 - Avg train Loss: 0.263502: 100%|██████████████████████████████████████████████████████████████████████████████████████████████████████████████████████████████| 15/15 [00:27<00:00,  1.82s/it]\n",
      "Epoch 12/30 - Avg val Loss: 0.403115: 100%|██████████████████████████████████████████████████████████████████████████████████████████████████████████████████████████████████| 4/4 [00:05<00:00,  1.42s/it]\n",
      "Epoch 13/30 - Avg train Loss: 0.254671: 100%|██████████████████████████████████████████████████████████████████████████████████████████████████████████████████████████████| 15/15 [00:27<00:00,  1.82s/it]\n",
      "Epoch 13/30 - Avg val Loss: 0.382455: 100%|██████████████████████████████████████████████████████████████████████████████████████████████████████████████████████████████████| 4/4 [00:06<00:00,  1.52s/it]\n",
      "Epoch 14/30 - Avg train Loss: 0.246880: 100%|██████████████████████████████████████████████████████████████████████████████████████████████████████████████████████████████| 15/15 [00:28<00:00,  1.91s/it]\n",
      "Epoch 14/30 - Avg val Loss: 0.314966: 100%|██████████████████████████████████████████████████████████████████████████████████████████████████████████████████████████████████| 4/4 [00:05<00:00,  1.44s/it]\n",
      "Epoch 15/30 - Avg train Loss: 0.241518: 100%|██████████████████████████████████████████████████████████████████████████████████████████████████████████████████████████████| 15/15 [00:29<00:00,  1.99s/it]\n",
      "Epoch 15/30 - Avg val Loss: 0.373863: 100%|██████████████████████████████████████████████████████████████████████████████████████████████████████████████████████████████████| 4/4 [00:06<00:00,  1.58s/it]\n",
      "Epoch 16/30 - Avg train Loss: 0.244875: 100%|██████████████████████████████████████████████████████████████████████████████████████████████████████████████████████████████| 15/15 [00:28<00:00,  1.92s/it]\n",
      "Epoch 16/30 - Avg val Loss: 0.369574: 100%|██████████████████████████████████████████████████████████████████████████████████████████████████████████████████████████████████| 4/4 [00:06<00:00,  1.56s/it]\n",
      "Epoch 17/30 - Avg train Loss: 0.235770: 100%|██████████████████████████████████████████████████████████████████████████████████████████████████████████████████████████████| 15/15 [00:28<00:00,  1.90s/it]\n",
      "Epoch 17/30 - Avg val Loss: 0.331863: 100%|██████████████████████████████████████████████████████████████████████████████████████████████████████████████████████████████████| 4/4 [00:05<00:00,  1.45s/it]\n",
      "Epoch 18/30 - Avg train Loss: 0.231468: 100%|██████████████████████████████████████████████████████████████████████████████████████████████████████████████████████████████| 15/15 [00:28<00:00,  1.89s/it]\n",
      "Epoch 18/30 - Avg val Loss: 0.313559: 100%|██████████████████████████████████████████████████████████████████████████████████████████████████████████████████████████████████| 4/4 [00:05<00:00,  1.42s/it]\n",
      "Epoch 19/30 - Avg train Loss: 0.227146: 100%|██████████████████████████████████████████████████████████████████████████████████████████████████████████████████████████████| 15/15 [00:27<00:00,  1.83s/it]\n",
      "Epoch 19/30 - Avg val Loss: 0.306599: 100%|██████████████████████████████████████████████████████████████████████████████████████████████████████████████████████████████████| 4/4 [00:05<00:00,  1.49s/it]\n",
      "Epoch 20/30 - Avg train Loss: 0.229823: 100%|██████████████████████████████████████████████████████████████████████████████████████████████████████████████████████████████| 15/15 [00:29<00:00,  1.96s/it]\n",
      "Epoch 20/30 - Avg val Loss: 0.306157: 100%|██████████████████████████████████████████████████████████████████████████████████████████████████████████████████████████████████| 4/4 [00:06<00:00,  1.67s/it]\n",
      "Epoch 21/30 - Avg train Loss: 0.226882: 100%|██████████████████████████████████████████████████████████████████████████████████████████████████████████████████████████████| 15/15 [00:30<00:00,  2.05s/it]\n",
      "Epoch 21/30 - Avg val Loss: 0.317469: 100%|██████████████████████████████████████████████████████████████████████████████████████████████████████████████████████████████████| 4/4 [00:06<00:00,  1.61s/it]\n",
      "Epoch 22/30 - Avg train Loss: 0.227298: 100%|██████████████████████████████████████████████████████████████████████████████████████████████████████████████████████████████| 15/15 [00:29<00:00,  1.95s/it]\n",
      "Epoch 22/30 - Avg val Loss: 0.314956: 100%|██████████████████████████████████████████████████████████████████████████████████████████████████████████████████████████████████| 4/4 [00:05<00:00,  1.44s/it]\n",
      "Epoch 23/30 - Avg train Loss: 0.236281: 100%|██████████████████████████████████████████████████████████████████████████████████████████████████████████████████████████████| 15/15 [00:27<00:00,  1.83s/it]\n",
      "Epoch 23/30 - Avg val Loss: 0.316148: 100%|██████████████████████████████████████████████████████████████████████████████████████████████████████████████████████████████████| 4/4 [00:05<00:00,  1.43s/it]\n",
      "Epoch 24/30 - Avg train Loss: 0.225753: 100%|██████████████████████████████████████████████████████████████████████████████████████████████████████████████████████████████| 15/15 [00:28<00:00,  1.90s/it]\n",
      "Epoch 24/30 - Avg val Loss: 0.317302: 100%|██████████████████████████████████████████████████████████████████████████████████████████████████████████████████████████████████| 4/4 [00:06<00:00,  1.56s/it]\n",
      "Epoch 25/30 - Avg train Loss: 0.228089: 100%|██████████████████████████████████████████████████████████████████████████████████████████████████████████████████████████████| 15/15 [00:27<00:00,  1.86s/it]\n",
      "Epoch 25/30 - Avg val Loss: 0.318648: 100%|██████████████████████████████████████████████████████████████████████████████████████████████████████████████████████████████████| 4/4 [00:05<00:00,  1.43s/it]\n",
      "Epoch 26/30 - Avg train Loss: 0.225036: 100%|██████████████████████████████████████████████████████████████████████████████████████████████████████████████████████████████| 15/15 [00:27<00:00,  1.86s/it]\n",
      "Epoch 26/30 - Avg val Loss: 0.319940: 100%|██████████████████████████████████████████████████████████████████████████████████████████████████████████████████████████████████| 4/4 [00:05<00:00,  1.47s/it]\n",
      "Epoch 27/30 - Avg train Loss: 0.223593: 100%|██████████████████████████████████████████████████████████████████████████████████████████████████████████████████████████████| 15/15 [00:28<00:00,  1.89s/it]\n",
      "Epoch 27/30 - Avg val Loss: 0.320174: 100%|██████████████████████████████████████████████████████████████████████████████████████████████████████████████████████████████████| 4/4 [00:05<00:00,  1.42s/it]\n",
      "Epoch 28/30 - Avg train Loss: 0.227731: 100%|██████████████████████████████████████████████████████████████████████████████████████████████████████████████████████████████| 15/15 [00:27<00:00,  1.83s/it]\n",
      "Epoch 28/30 - Avg val Loss: 0.320367: 100%|██████████████████████████████████████████████████████████████████████████████████████████████████████████████████████████████████| 4/4 [00:05<00:00,  1.43s/it]\n",
      "Epoch 29/30 - Avg train Loss: 0.226750: 100%|██████████████████████████████████████████████████████████████████████████████████████████████████████████████████████████████| 15/15 [00:27<00:00,  1.87s/it]\n",
      "Epoch 29/30 - Avg val Loss: 0.320355: 100%|██████████████████████████████████████████████████████████████████████████████████████████████████████████████████████████████████| 4/4 [00:06<00:00,  1.59s/it]\n",
      "Epoch 30/30 - Avg train Loss: 0.225777: 100%|██████████████████████████████████████████████████████████████████████████████████████████████████████████████████████████████| 15/15 [00:27<00:00,  1.85s/it]\n",
      "Epoch 30/30 - Avg val Loss: 0.321792: 100%|██████████████████████████████████████████████████████████████████████████████████████████████████████████████████████████████████| 4/4 [00:06<00:00,  1.57s/it]\n"
     ]
    },
    {
     "data": {
      "application/vnd.jupyter.widget-view+json": {
       "model_id": "",
       "version_major": 2,
       "version_minor": 0
      },
      "text/plain": [
       "VBox(children=(Label(value='0.008 MB of 0.008 MB uploaded\\r'), FloatProgress(value=1.0, max=1.0)))"
      ]
     },
     "metadata": {},
     "output_type": "display_data"
    },
    {
     "data": {
      "text/html": [
       "<style>\n",
       "    table.wandb td:nth-child(1) { padding: 0 10px; text-align: left ; width: auto;} td:nth-child(2) {text-align: left ; width: 100%}\n",
       "    .wandb-row { display: flex; flex-direction: row; flex-wrap: wrap; justify-content: flex-start; width: 100% }\n",
       "    .wandb-col { display: flex; flex-direction: column; flex-basis: 100%; flex: 1; padding: 10px; }\n",
       "    </style>\n",
       "<div class=\"wandb-row\"><div class=\"wandb-col\"><h3>Run history:</h3><br/><table class=\"wandb\"><tr><td>accuracy</td><td>▁▂▆▃▆▆▆▅▇█▅▅▆▅▅▇▇▇▇▅▅▅▅▅▅▅▅▅▅▅</td></tr><tr><td>auprc</td><td>▃▁▆▁█▆▅██▇▇▆▇▆▃▇▆▇▆▆▆▇▇▇▇▇▇▇▇▇</td></tr><tr><td>auroc</td><td>▅▁▅▃█▅▄█▇▅▇▅▇▆▅▆▅▅▅▅▅▅▆▆▆▆▆▆▆▆</td></tr><tr><td>avg_train_loss</td><td>█▅▄▃▄▃▃▃▂▂▃▃▃▂▂▂▂▁▁▁▁▁▂▁▁▁▁▁▁▁</td></tr><tr><td>avg_val_loss</td><td>▂▇▄█▃▁▁▁▁▁▁▃▂▁▂▂▂▁▁▁▁▁▁▁▁▁▁▁▁▁</td></tr><tr><td>sensitivity</td><td>▇▄▇▇▇█▄▄██▇▁▅▄▇▄▅▇▇▇▇▇▇▇▇▇▇▇▇▇</td></tr><tr><td>specificity</td><td>▃▂▃▁█▆▇█▇█▇██▇▁███████████████</td></tr></table><br/></div><div class=\"wandb-col\"><h3>Run summary:</h3><br/><table class=\"wandb\"><tr><td>accuracy</td><td>0.75</td></tr><tr><td>auprc</td><td>0.93467</td></tr><tr><td>auroc</td><td>0.89444</td></tr><tr><td>avg_train_loss</td><td>0.22578</td></tr><tr><td>avg_val_loss</td><td>0.32179</td></tr><tr><td>sensitivity</td><td>0.83333</td></tr><tr><td>specificity</td><td>1.0</td></tr></table><br/></div></div>"
      ],
      "text/plain": [
       "<IPython.core.display.HTML object>"
      ]
     },
     "metadata": {},
     "output_type": "display_data"
    },
    {
     "data": {
      "text/html": [
       " View run <strong style=\"color:#cdcd00\">feasible-sweep-4</strong> at: <a href='https://wandb.ai/miccai-challenge-2024/task2/runs/29sepzk2' target=\"_blank\">https://wandb.ai/miccai-challenge-2024/task2/runs/29sepzk2</a><br/> View project at: <a href='https://wandb.ai/miccai-challenge-2024/task2' target=\"_blank\">https://wandb.ai/miccai-challenge-2024/task2</a><br/>Synced 6 W&B file(s), 0 media file(s), 0 artifact file(s) and 0 other file(s)"
      ],
      "text/plain": [
       "<IPython.core.display.HTML object>"
      ]
     },
     "metadata": {},
     "output_type": "display_data"
    },
    {
     "data": {
      "text/html": [
       "Find logs at: <code>./wandb/run-20240724_005539-29sepzk2/logs</code>"
      ],
      "text/plain": [
       "<IPython.core.display.HTML object>"
      ]
     },
     "metadata": {},
     "output_type": "display_data"
    },
    {
     "name": "stdout",
     "output_type": "stream",
     "text": [
      "Finished training\n"
     ]
    },
    {
     "name": "stderr",
     "output_type": "stream",
     "text": [
      "\u001b[34m\u001b[1mwandb\u001b[0m: Agent Starting Run: p6a06w4u with config:\n",
      "\u001b[34m\u001b[1mwandb\u001b[0m: \tbatch_size: 16\n",
      "\u001b[34m\u001b[1mwandb\u001b[0m: \tepochs: 30\n",
      "\u001b[34m\u001b[1mwandb\u001b[0m: \tloss_weight: 0.5\n",
      "\u001b[34m\u001b[1mwandb\u001b[0m: \tlr: 0.001\n",
      "\u001b[34m\u001b[1mwandb\u001b[0m: \tlr_schedule_factor: 0.1\n",
      "\u001b[34m\u001b[1mwandb\u001b[0m: \tlr_schedule_patience: 5\n",
      "\u001b[34m\u001b[1mwandb\u001b[0m: \tmodel: Task2EfficientNetB0\n",
      "\u001b[34m\u001b[1mwandb\u001b[0m: \tp_affine: 0.3\n",
      "\u001b[34m\u001b[1mwandb\u001b[0m: \tp_clahe: 0.3\n",
      "\u001b[34m\u001b[1mwandb\u001b[0m: \tp_equalize: 0\n",
      "\u001b[34m\u001b[1mwandb\u001b[0m: \tp_gaussblur: 0\n",
      "\u001b[34m\u001b[1mwandb\u001b[0m: \tp_horizontalflip: 0.5\n",
      "\u001b[34m\u001b[1mwandb\u001b[0m: \tresampling_strategy: oversampling\n",
      "\u001b[34m\u001b[1mwandb\u001b[0m: \trotation: 10\n",
      "\u001b[34m\u001b[1mwandb\u001b[0m: \u001b[33mWARNING\u001b[0m Ignored wandb.init() arg project when running a sweep.\n"
     ]
    },
    {
     "data": {
      "text/html": [
       "wandb version 0.17.5 is available!  To upgrade, please run:\n",
       " $ pip install wandb --upgrade"
      ],
      "text/plain": [
       "<IPython.core.display.HTML object>"
      ]
     },
     "metadata": {},
     "output_type": "display_data"
    },
    {
     "data": {
      "text/html": [
       "Tracking run with wandb version 0.17.0"
      ],
      "text/plain": [
       "<IPython.core.display.HTML object>"
      ]
     },
     "metadata": {},
     "output_type": "display_data"
    },
    {
     "data": {
      "text/html": [
       "Run data is saved locally in <code>/home/optima/mhaderer/AILS-MICCAI-UWF4DR-Challenge/wandb/run-20240724_011317-p6a06w4u</code>"
      ],
      "text/plain": [
       "<IPython.core.display.HTML object>"
      ]
     },
     "metadata": {},
     "output_type": "display_data"
    },
    {
     "data": {
      "text/html": [
       "Syncing run <strong><a href='https://wandb.ai/miccai-challenge-2024/task2/runs/p6a06w4u' target=\"_blank\">effortless-sweep-5</a></strong> to <a href='https://wandb.ai/miccai-challenge-2024/task2' target=\"_blank\">Weights & Biases</a> (<a href='https://wandb.me/run' target=\"_blank\">docs</a>)<br/>Sweep page: <a href='https://wandb.ai/miccai-challenge-2024/task2/sweeps/eo1h97d3' target=\"_blank\">https://wandb.ai/miccai-challenge-2024/task2/sweeps/eo1h97d3</a>"
      ],
      "text/plain": [
       "<IPython.core.display.HTML object>"
      ]
     },
     "metadata": {},
     "output_type": "display_data"
    },
    {
     "data": {
      "text/html": [
       " View project at <a href='https://wandb.ai/miccai-challenge-2024/task2' target=\"_blank\">https://wandb.ai/miccai-challenge-2024/task2</a>"
      ],
      "text/plain": [
       "<IPython.core.display.HTML object>"
      ]
     },
     "metadata": {},
     "output_type": "display_data"
    },
    {
     "data": {
      "text/html": [
       " View sweep at <a href='https://wandb.ai/miccai-challenge-2024/task2/sweeps/eo1h97d3' target=\"_blank\">https://wandb.ai/miccai-challenge-2024/task2/sweeps/eo1h97d3</a>"
      ],
      "text/plain": [
       "<IPython.core.display.HTML object>"
      ]
     },
     "metadata": {},
     "output_type": "display_data"
    },
    {
     "data": {
      "text/html": [
       " View run at <a href='https://wandb.ai/miccai-challenge-2024/task2/runs/p6a06w4u' target=\"_blank\">https://wandb.ai/miccai-challenge-2024/task2/runs/p6a06w4u</a>"
      ],
      "text/plain": [
       "<IPython.core.display.HTML object>"
      ]
     },
     "metadata": {},
     "output_type": "display_data"
    },
    {
     "name": "stdout",
     "output_type": "stream",
     "text": [
      "Using device: cuda\n",
      "Loaded pretrained weights for efficientnet-b0\n",
      "Now train train train\n"
     ]
    },
    {
     "name": "stderr",
     "output_type": "stream",
     "text": [
      "Epoch 1/30 - Avg train Loss: 0.359986: 100%|███████████████████████████████████████████████████████████████████████████████████████████████████████████████████████████████| 25/25 [00:44<00:00,  1.76s/it]\n",
      "Epoch 1/30 - Avg val Loss: 0.338580: 100%|███████████████████████████████████████████████████████████████████████████████████████████████████████████████████████████████████| 7/7 [00:09<00:00,  1.37s/it]\n"
     ]
    },
    {
     "name": "stdout",
     "output_type": "stream",
     "text": [
      "New best model found at epoch 1 with validation loss: 0.3386. Model saved to models/effortless-sweep-5_2024-07-24_01-13.pth\n"
     ]
    },
    {
     "name": "stderr",
     "output_type": "stream",
     "text": [
      "Epoch 2/30 - Avg train Loss: 0.278761: 100%|███████████████████████████████████████████████████████████████████████████████████████████████████████████████████████████████| 25/25 [00:46<00:00,  1.85s/it]\n",
      "Epoch 2/30 - Avg val Loss: 0.367683: 100%|███████████████████████████████████████████████████████████████████████████████████████████████████████████████████████████████████| 7/7 [00:10<00:00,  1.46s/it]\n",
      "Epoch 3/30 - Avg train Loss: 0.286015: 100%|███████████████████████████████████████████████████████████████████████████████████████████████████████████████████████████████| 25/25 [00:42<00:00,  1.70s/it]\n",
      "Epoch 3/30 - Avg val Loss: 0.383545: 100%|███████████████████████████████████████████████████████████████████████████████████████████████████████████████████████████████████| 7/7 [00:10<00:00,  1.50s/it]\n",
      "Epoch 4/30 - Avg train Loss: 0.245097: 100%|███████████████████████████████████████████████████████████████████████████████████████████████████████████████████████████████| 25/25 [00:41<00:00,  1.67s/it]\n",
      "Epoch 4/30 - Avg val Loss: 0.413379: 100%|███████████████████████████████████████████████████████████████████████████████████████████████████████████████████████████████████| 7/7 [00:10<00:00,  1.53s/it]\n",
      "Epoch 5/30 - Avg train Loss: 0.244269: 100%|███████████████████████████████████████████████████████████████████████████████████████████████████████████████████████████████| 25/25 [00:44<00:00,  1.79s/it]\n",
      "Epoch 5/30 - Avg val Loss: 0.287778: 100%|███████████████████████████████████████████████████████████████████████████████████████████████████████████████████████████████████| 7/7 [00:09<00:00,  1.41s/it]\n"
     ]
    },
    {
     "name": "stdout",
     "output_type": "stream",
     "text": [
      "New best model found at epoch 5 with validation loss: 0.2878. Model saved to models/effortless-sweep-5_2024-07-24_01-13.pth\n"
     ]
    },
    {
     "name": "stderr",
     "output_type": "stream",
     "text": [
      "Epoch 6/30 - Avg train Loss: 0.237545: 100%|███████████████████████████████████████████████████████████████████████████████████████████████████████████████████████████████| 25/25 [00:47<00:00,  1.90s/it]\n",
      "Epoch 6/30 - Avg val Loss: 0.494521: 100%|███████████████████████████████████████████████████████████████████████████████████████████████████████████████████████████████████| 7/7 [00:09<00:00,  1.36s/it]\n",
      "Epoch 7/30 - Avg train Loss: 0.243794: 100%|███████████████████████████████████████████████████████████████████████████████████████████████████████████████████████████████| 25/25 [00:47<00:00,  1.90s/it]\n",
      "Epoch 7/30 - Avg val Loss: 0.324407: 100%|███████████████████████████████████████████████████████████████████████████████████████████████████████████████████████████████████| 7/7 [00:09<00:00,  1.32s/it]\n",
      "Epoch 8/30 - Avg train Loss: 0.234753: 100%|███████████████████████████████████████████████████████████████████████████████████████████████████████████████████████████████| 25/25 [00:47<00:00,  1.88s/it]\n",
      "Epoch 8/30 - Avg val Loss: 0.272811: 100%|███████████████████████████████████████████████████████████████████████████████████████████████████████████████████████████████████| 7/7 [00:08<00:00,  1.28s/it]\n"
     ]
    },
    {
     "name": "stdout",
     "output_type": "stream",
     "text": [
      "New best model found at epoch 8 with validation loss: 0.2728. Model saved to models/effortless-sweep-5_2024-07-24_01-13.pth\n"
     ]
    },
    {
     "name": "stderr",
     "output_type": "stream",
     "text": [
      "Epoch 9/30 - Avg train Loss: 0.227600: 100%|███████████████████████████████████████████████████████████████████████████████████████████████████████████████████████████████| 25/25 [00:46<00:00,  1.85s/it]\n",
      "Epoch 9/30 - Avg val Loss: 0.263912: 100%|███████████████████████████████████████████████████████████████████████████████████████████████████████████████████████████████████| 7/7 [00:09<00:00,  1.33s/it]\n"
     ]
    },
    {
     "name": "stdout",
     "output_type": "stream",
     "text": [
      "New best model found at epoch 9 with validation loss: 0.2639. Model saved to models/effortless-sweep-5_2024-07-24_01-13.pth\n"
     ]
    },
    {
     "name": "stderr",
     "output_type": "stream",
     "text": [
      "Epoch 10/30 - Avg train Loss: 0.224693: 100%|██████████████████████████████████████████████████████████████████████████████████████████████████████████████████████████████| 25/25 [00:42<00:00,  1.72s/it]\n",
      "Epoch 10/30 - Avg val Loss: 0.257478: 100%|██████████████████████████████████████████████████████████████████████████████████████████████████████████████████████████████████| 7/7 [00:09<00:00,  1.43s/it]\n"
     ]
    },
    {
     "name": "stdout",
     "output_type": "stream",
     "text": [
      "New best model found at epoch 10 with validation loss: 0.2575. Model saved to models/effortless-sweep-5_2024-07-24_01-13.pth\n"
     ]
    },
    {
     "name": "stderr",
     "output_type": "stream",
     "text": [
      "Epoch 11/30 - Avg train Loss: 0.222618: 100%|██████████████████████████████████████████████████████████████████████████████████████████████████████████████████████████████| 25/25 [00:43<00:00,  1.75s/it]\n",
      "Epoch 11/30 - Avg val Loss: 0.243929: 100%|██████████████████████████████████████████████████████████████████████████████████████████████████████████████████████████████████| 7/7 [00:10<00:00,  1.50s/it]\n"
     ]
    },
    {
     "name": "stdout",
     "output_type": "stream",
     "text": [
      "New best model found at epoch 11 with validation loss: 0.2439. Model saved to models/effortless-sweep-5_2024-07-24_01-13.pth\n"
     ]
    },
    {
     "name": "stderr",
     "output_type": "stream",
     "text": [
      "Epoch 12/30 - Avg train Loss: 0.223849: 100%|██████████████████████████████████████████████████████████████████████████████████████████████████████████████████████████████| 25/25 [00:44<00:00,  1.78s/it]\n",
      "Epoch 12/30 - Avg val Loss: 0.254457: 100%|██████████████████████████████████████████████████████████████████████████████████████████████████████████████████████████████████| 7/7 [00:09<00:00,  1.32s/it]\n",
      "Epoch 13/30 - Avg train Loss: 0.226056: 100%|██████████████████████████████████████████████████████████████████████████████████████████████████████████████████████████████| 25/25 [00:44<00:00,  1.78s/it]\n",
      "Epoch 13/30 - Avg val Loss: 0.284884: 100%|██████████████████████████████████████████████████████████████████████████████████████████████████████████████████████████████████| 7/7 [00:09<00:00,  1.34s/it]\n",
      "Epoch 14/30 - Avg train Loss: 0.221329: 100%|██████████████████████████████████████████████████████████████████████████████████████████████████████████████████████████████| 25/25 [00:44<00:00,  1.78s/it]\n",
      "Epoch 14/30 - Avg val Loss: 0.245029: 100%|██████████████████████████████████████████████████████████████████████████████████████████████████████████████████████████████████| 7/7 [00:09<00:00,  1.37s/it]\n",
      "Epoch 15/30 - Avg train Loss: 0.221551: 100%|██████████████████████████████████████████████████████████████████████████████████████████████████████████████████████████████| 25/25 [00:44<00:00,  1.76s/it]\n",
      "Epoch 15/30 - Avg val Loss: 0.234777: 100%|██████████████████████████████████████████████████████████████████████████████████████████████████████████████████████████████████| 7/7 [00:09<00:00,  1.42s/it]\n"
     ]
    },
    {
     "name": "stdout",
     "output_type": "stream",
     "text": [
      "New best model found at epoch 15 with validation loss: 0.2348. Model saved to models/effortless-sweep-5_2024-07-24_01-13.pth\n"
     ]
    },
    {
     "name": "stderr",
     "output_type": "stream",
     "text": [
      "Epoch 16/30 - Avg train Loss: 0.223865: 100%|██████████████████████████████████████████████████████████████████████████████████████████████████████████████████████████████| 25/25 [00:44<00:00,  1.79s/it]\n",
      "Epoch 16/30 - Avg val Loss: 0.229403: 100%|██████████████████████████████████████████████████████████████████████████████████████████████████████████████████████████████████| 7/7 [00:09<00:00,  1.37s/it]\n"
     ]
    },
    {
     "name": "stdout",
     "output_type": "stream",
     "text": [
      "New best model found at epoch 16 with validation loss: 0.2294. Model saved to models/effortless-sweep-5_2024-07-24_01-13.pth\n"
     ]
    },
    {
     "name": "stderr",
     "output_type": "stream",
     "text": [
      "Epoch 17/30 - Avg train Loss: 0.226724: 100%|██████████████████████████████████████████████████████████████████████████████████████████████████████████████████████████████| 25/25 [00:46<00:00,  1.87s/it]\n",
      "Epoch 17/30 - Avg val Loss: 0.251951: 100%|██████████████████████████████████████████████████████████████████████████████████████████████████████████████████████████████████| 7/7 [00:09<00:00,  1.38s/it]\n",
      "Epoch 18/30 - Avg train Loss: 0.223761: 100%|██████████████████████████████████████████████████████████████████████████████████████████████████████████████████████████████| 25/25 [00:47<00:00,  1.88s/it]\n",
      "Epoch 18/30 - Avg val Loss: 0.286794: 100%|██████████████████████████████████████████████████████████████████████████████████████████████████████████████████████████████████| 7/7 [00:10<00:00,  1.45s/it]\n",
      "Epoch 19/30 - Avg train Loss: 0.221509: 100%|██████████████████████████████████████████████████████████████████████████████████████████████████████████████████████████████| 25/25 [00:46<00:00,  1.84s/it]\n",
      "Epoch 19/30 - Avg val Loss: 0.249666: 100%|██████████████████████████████████████████████████████████████████████████████████████████████████████████████████████████████████| 7/7 [00:09<00:00,  1.33s/it]\n",
      "Epoch 20/30 - Avg train Loss: 0.220641: 100%|██████████████████████████████████████████████████████████████████████████████████████████████████████████████████████████████| 25/25 [00:47<00:00,  1.90s/it]\n",
      "Epoch 20/30 - Avg val Loss: 0.234244: 100%|██████████████████████████████████████████████████████████████████████████████████████████████████████████████████████████████████| 7/7 [00:08<00:00,  1.26s/it]\n",
      "Epoch 21/30 - Avg train Loss: 0.220372: 100%|██████████████████████████████████████████████████████████████████████████████████████████████████████████████████████████████| 25/25 [00:48<00:00,  1.93s/it]\n",
      "Epoch 21/30 - Avg val Loss: 0.233953: 100%|██████████████████████████████████████████████████████████████████████████████████████████████████████████████████████████████████| 7/7 [00:09<00:00,  1.36s/it]\n",
      "Epoch 22/30 - Avg train Loss: 0.220374: 100%|██████████████████████████████████████████████████████████████████████████████████████████████████████████████████████████████| 25/25 [00:47<00:00,  1.90s/it]\n",
      "Epoch 22/30 - Avg val Loss: 0.224779: 100%|██████████████████████████████████████████████████████████████████████████████████████████████████████████████████████████████████| 7/7 [00:09<00:00,  1.33s/it]\n"
     ]
    },
    {
     "name": "stdout",
     "output_type": "stream",
     "text": [
      "New best model found at epoch 22 with validation loss: 0.2248. Model saved to models/effortless-sweep-5_2024-07-24_01-13.pth\n"
     ]
    },
    {
     "name": "stderr",
     "output_type": "stream",
     "text": [
      "Epoch 23/30 - Avg train Loss: 0.219792: 100%|██████████████████████████████████████████████████████████████████████████████████████████████████████████████████████████████| 25/25 [00:47<00:00,  1.91s/it]\n",
      "Epoch 23/30 - Avg val Loss: 0.222787: 100%|██████████████████████████████████████████████████████████████████████████████████████████████████████████████████████████████████| 7/7 [00:08<00:00,  1.23s/it]\n"
     ]
    },
    {
     "name": "stdout",
     "output_type": "stream",
     "text": [
      "New best model found at epoch 23 with validation loss: 0.2228. Model saved to models/effortless-sweep-5_2024-07-24_01-13.pth\n"
     ]
    },
    {
     "name": "stderr",
     "output_type": "stream",
     "text": [
      "Epoch 24/30 - Avg train Loss: 0.220009: 100%|██████████████████████████████████████████████████████████████████████████████████████████████████████████████████████████████| 25/25 [00:47<00:00,  1.91s/it]\n",
      "Epoch 24/30 - Avg val Loss: 0.222998: 100%|██████████████████████████████████████████████████████████████████████████████████████████████████████████████████████████████████| 7/7 [00:08<00:00,  1.22s/it]\n",
      "Epoch 25/30 - Avg train Loss: 0.220557: 100%|██████████████████████████████████████████████████████████████████████████████████████████████████████████████████████████████| 25/25 [00:49<00:00,  1.98s/it]\n",
      "Epoch 25/30 - Avg val Loss: 0.226268: 100%|██████████████████████████████████████████████████████████████████████████████████████████████████████████████████████████████████| 7/7 [00:09<00:00,  1.40s/it]\n",
      "Epoch 26/30 - Avg train Loss: 0.219716: 100%|██████████████████████████████████████████████████████████████████████████████████████████████████████████████████████████████| 25/25 [00:49<00:00,  1.99s/it]\n",
      "Epoch 26/30 - Avg val Loss: 0.222276: 100%|██████████████████████████████████████████████████████████████████████████████████████████████████████████████████████████████████| 7/7 [00:09<00:00,  1.32s/it]\n"
     ]
    },
    {
     "name": "stdout",
     "output_type": "stream",
     "text": [
      "New best model found at epoch 26 with validation loss: 0.2223. Model saved to models/effortless-sweep-5_2024-07-24_01-13.pth\n"
     ]
    },
    {
     "name": "stderr",
     "output_type": "stream",
     "text": [
      "Epoch 27/30 - Avg train Loss: 0.219914: 100%|██████████████████████████████████████████████████████████████████████████████████████████████████████████████████████████████| 25/25 [00:49<00:00,  1.98s/it]\n",
      "Epoch 27/30 - Avg val Loss: 0.220791: 100%|██████████████████████████████████████████████████████████████████████████████████████████████████████████████████████████████████| 7/7 [00:08<00:00,  1.24s/it]\n"
     ]
    },
    {
     "name": "stdout",
     "output_type": "stream",
     "text": [
      "New best model found at epoch 27 with validation loss: 0.2208. Model saved to models/effortless-sweep-5_2024-07-24_01-13.pth\n"
     ]
    },
    {
     "name": "stderr",
     "output_type": "stream",
     "text": [
      "Epoch 28/30 - Avg train Loss: 0.220307: 100%|██████████████████████████████████████████████████████████████████████████████████████████████████████████████████████████████| 25/25 [00:46<00:00,  1.86s/it]\n",
      "Epoch 28/30 - Avg val Loss: 0.224079: 100%|██████████████████████████████████████████████████████████████████████████████████████████████████████████████████████████████████| 7/7 [00:09<00:00,  1.30s/it]\n",
      "Epoch 29/30 - Avg train Loss: 0.219993: 100%|██████████████████████████████████████████████████████████████████████████████████████████████████████████████████████████████| 25/25 [00:46<00:00,  1.87s/it]\n",
      "Epoch 29/30 - Avg val Loss: 0.223124: 100%|██████████████████████████████████████████████████████████████████████████████████████████████████████████████████████████████████| 7/7 [00:08<00:00,  1.25s/it]\n",
      "Epoch 30/30 - Avg train Loss: 0.219586: 100%|██████████████████████████████████████████████████████████████████████████████████████████████████████████████████████████████| 25/25 [00:47<00:00,  1.91s/it]\n",
      "Epoch 30/30 - Avg val Loss: 0.222809: 100%|██████████████████████████████████████████████████████████████████████████████████████████████████████████████████████████████████| 7/7 [00:08<00:00,  1.25s/it]\n"
     ]
    },
    {
     "data": {
      "application/vnd.jupyter.widget-view+json": {
       "model_id": "",
       "version_major": 2,
       "version_minor": 0
      },
      "text/plain": [
       "VBox(children=(Label(value='0.008 MB of 0.008 MB uploaded\\r'), FloatProgress(value=1.0, max=1.0)))"
      ]
     },
     "metadata": {},
     "output_type": "display_data"
    },
    {
     "data": {
      "text/html": [
       "<style>\n",
       "    table.wandb td:nth-child(1) { padding: 0 10px; text-align: left ; width: auto;} td:nth-child(2) {text-align: left ; width: 100%}\n",
       "    .wandb-row { display: flex; flex-direction: row; flex-wrap: wrap; justify-content: flex-start; width: 100% }\n",
       "    .wandb-col { display: flex; flex-direction: column; flex-basis: 100%; flex: 1; padding: 10px; }\n",
       "    </style>\n",
       "<div class=\"wandb-row\"><div class=\"wandb-col\"><h3>Run history:</h3><br/><table class=\"wandb\"><tr><td>accuracy</td><td>▃▄▆▅▇▃▇▆▆▆▇▇███▇▇▁▇█▇███▇██▇▇█</td></tr><tr><td>auprc</td><td>▃▅▅▆▇▁▅▇▇▇████████████████████</td></tr><tr><td>auroc</td><td>▂▄▄▅▇▁▄▇▇▇████████████████████</td></tr><tr><td>avg_train_loss</td><td>█▄▄▂▂▂▂▂▁▁▁▁▁▁▁▁▁▁▁▁▁▁▁▁▁▁▁▁▁▁</td></tr><tr><td>avg_val_loss</td><td>▄▅▅▆▃█▄▂▂▂▂▂▃▂▁▁▂▃▂▁▁▁▁▁▁▁▁▁▁▁</td></tr><tr><td>sensitivity</td><td>▁▃▆██▅▅▅▄▅▆███████████████████</td></tr><tr><td>specificity</td><td>▇▅▃▃▆▁▄███████████████████████</td></tr></table><br/></div><div class=\"wandb-col\"><h3>Run summary:</h3><br/><table class=\"wandb\"><tr><td>accuracy</td><td>1.0</td></tr><tr><td>auprc</td><td>1.0</td></tr><tr><td>auroc</td><td>1.0</td></tr><tr><td>avg_train_loss</td><td>0.21959</td></tr><tr><td>avg_val_loss</td><td>0.22281</td></tr><tr><td>sensitivity</td><td>1.0</td></tr><tr><td>specificity</td><td>1.0</td></tr></table><br/></div></div>"
      ],
      "text/plain": [
       "<IPython.core.display.HTML object>"
      ]
     },
     "metadata": {},
     "output_type": "display_data"
    },
    {
     "data": {
      "text/html": [
       " View run <strong style=\"color:#cdcd00\">effortless-sweep-5</strong> at: <a href='https://wandb.ai/miccai-challenge-2024/task2/runs/p6a06w4u' target=\"_blank\">https://wandb.ai/miccai-challenge-2024/task2/runs/p6a06w4u</a><br/> View project at: <a href='https://wandb.ai/miccai-challenge-2024/task2' target=\"_blank\">https://wandb.ai/miccai-challenge-2024/task2</a><br/>Synced 6 W&B file(s), 0 media file(s), 0 artifact file(s) and 0 other file(s)"
      ],
      "text/plain": [
       "<IPython.core.display.HTML object>"
      ]
     },
     "metadata": {},
     "output_type": "display_data"
    },
    {
     "data": {
      "text/html": [
       "Find logs at: <code>./wandb/run-20240724_011317-p6a06w4u/logs</code>"
      ],
      "text/plain": [
       "<IPython.core.display.HTML object>"
      ]
     },
     "metadata": {},
     "output_type": "display_data"
    },
    {
     "name": "stdout",
     "output_type": "stream",
     "text": [
      "Finished training\n"
     ]
    },
    {
     "name": "stderr",
     "output_type": "stream",
     "text": [
      "\u001b[34m\u001b[1mwandb\u001b[0m: Agent Starting Run: 8nadr1u2 with config:\n",
      "\u001b[34m\u001b[1mwandb\u001b[0m: \tbatch_size: 16\n",
      "\u001b[34m\u001b[1mwandb\u001b[0m: \tepochs: 30\n",
      "\u001b[34m\u001b[1mwandb\u001b[0m: \tloss_weight: 0.5\n",
      "\u001b[34m\u001b[1mwandb\u001b[0m: \tlr: 0.001\n",
      "\u001b[34m\u001b[1mwandb\u001b[0m: \tlr_schedule_factor: 0.1\n",
      "\u001b[34m\u001b[1mwandb\u001b[0m: \tlr_schedule_patience: 5\n",
      "\u001b[34m\u001b[1mwandb\u001b[0m: \tmodel: Task2EfficientNetB0\n",
      "\u001b[34m\u001b[1mwandb\u001b[0m: \tp_affine: 0.3\n",
      "\u001b[34m\u001b[1mwandb\u001b[0m: \tp_clahe: 0.3\n",
      "\u001b[34m\u001b[1mwandb\u001b[0m: \tp_equalize: 0\n",
      "\u001b[34m\u001b[1mwandb\u001b[0m: \tp_gaussblur: 0\n",
      "\u001b[34m\u001b[1mwandb\u001b[0m: \tp_horizontalflip: 0.5\n",
      "\u001b[34m\u001b[1mwandb\u001b[0m: \tresampling_strategy: oversampling\n",
      "\u001b[34m\u001b[1mwandb\u001b[0m: \trotation: 10\n",
      "\u001b[34m\u001b[1mwandb\u001b[0m: \u001b[33mWARNING\u001b[0m Ignored wandb.init() arg project when running a sweep.\n"
     ]
    },
    {
     "data": {
      "text/html": [
       "wandb version 0.17.5 is available!  To upgrade, please run:\n",
       " $ pip install wandb --upgrade"
      ],
      "text/plain": [
       "<IPython.core.display.HTML object>"
      ]
     },
     "metadata": {},
     "output_type": "display_data"
    },
    {
     "data": {
      "text/html": [
       "Tracking run with wandb version 0.17.0"
      ],
      "text/plain": [
       "<IPython.core.display.HTML object>"
      ]
     },
     "metadata": {},
     "output_type": "display_data"
    },
    {
     "data": {
      "text/html": [
       "Run data is saved locally in <code>/home/optima/mhaderer/AILS-MICCAI-UWF4DR-Challenge/wandb/run-20240724_014133-8nadr1u2</code>"
      ],
      "text/plain": [
       "<IPython.core.display.HTML object>"
      ]
     },
     "metadata": {},
     "output_type": "display_data"
    },
    {
     "data": {
      "text/html": [
       "Syncing run <strong><a href='https://wandb.ai/miccai-challenge-2024/task2/runs/8nadr1u2' target=\"_blank\">graceful-sweep-6</a></strong> to <a href='https://wandb.ai/miccai-challenge-2024/task2' target=\"_blank\">Weights & Biases</a> (<a href='https://wandb.me/run' target=\"_blank\">docs</a>)<br/>Sweep page: <a href='https://wandb.ai/miccai-challenge-2024/task2/sweeps/eo1h97d3' target=\"_blank\">https://wandb.ai/miccai-challenge-2024/task2/sweeps/eo1h97d3</a>"
      ],
      "text/plain": [
       "<IPython.core.display.HTML object>"
      ]
     },
     "metadata": {},
     "output_type": "display_data"
    },
    {
     "data": {
      "text/html": [
       " View project at <a href='https://wandb.ai/miccai-challenge-2024/task2' target=\"_blank\">https://wandb.ai/miccai-challenge-2024/task2</a>"
      ],
      "text/plain": [
       "<IPython.core.display.HTML object>"
      ]
     },
     "metadata": {},
     "output_type": "display_data"
    },
    {
     "data": {
      "text/html": [
       " View sweep at <a href='https://wandb.ai/miccai-challenge-2024/task2/sweeps/eo1h97d3' target=\"_blank\">https://wandb.ai/miccai-challenge-2024/task2/sweeps/eo1h97d3</a>"
      ],
      "text/plain": [
       "<IPython.core.display.HTML object>"
      ]
     },
     "metadata": {},
     "output_type": "display_data"
    },
    {
     "data": {
      "text/html": [
       " View run at <a href='https://wandb.ai/miccai-challenge-2024/task2/runs/8nadr1u2' target=\"_blank\">https://wandb.ai/miccai-challenge-2024/task2/runs/8nadr1u2</a>"
      ],
      "text/plain": [
       "<IPython.core.display.HTML object>"
      ]
     },
     "metadata": {},
     "output_type": "display_data"
    },
    {
     "name": "stdout",
     "output_type": "stream",
     "text": [
      "Using device: cuda\n",
      "Loaded pretrained weights for efficientnet-b0\n",
      "Now train train train\n"
     ]
    },
    {
     "name": "stderr",
     "output_type": "stream",
     "text": [
      "Epoch 1/30 - Avg train Loss: 0.346779: 100%|███████████████████████████████████████████████████████████████████████████████████████████████████████████████████████████████| 25/25 [00:44<00:00,  1.77s/it]\n",
      "Epoch 1/30 - Avg val Loss: 0.388501: 100%|███████████████████████████████████████████████████████████████████████████████████████████████████████████████████████████████████| 7/7 [00:09<00:00,  1.30s/it]\n"
     ]
    },
    {
     "name": "stdout",
     "output_type": "stream",
     "text": [
      "New best model found at epoch 1 with validation loss: 0.3885. Model saved to models/graceful-sweep-6_2024-07-24_01-41.pth\n"
     ]
    },
    {
     "name": "stderr",
     "output_type": "stream",
     "text": [
      "Epoch 2/30 - Avg train Loss: 0.283367: 100%|███████████████████████████████████████████████████████████████████████████████████████████████████████████████████████████████| 25/25 [00:41<00:00,  1.66s/it]\n",
      "Epoch 2/30 - Avg val Loss: 0.357502: 100%|███████████████████████████████████████████████████████████████████████████████████████████████████████████████████████████████████| 7/7 [00:08<00:00,  1.26s/it]\n"
     ]
    },
    {
     "name": "stdout",
     "output_type": "stream",
     "text": [
      "New best model found at epoch 2 with validation loss: 0.3575. Model saved to models/graceful-sweep-6_2024-07-24_01-41.pth\n"
     ]
    },
    {
     "name": "stderr",
     "output_type": "stream",
     "text": [
      "Epoch 3/30 - Avg train Loss: 0.259543: 100%|███████████████████████████████████████████████████████████████████████████████████████████████████████████████████████████████| 25/25 [00:42<00:00,  1.70s/it]\n",
      "Epoch 3/30 - Avg val Loss: 0.325058: 100%|███████████████████████████████████████████████████████████████████████████████████████████████████████████████████████████████████| 7/7 [00:09<00:00,  1.30s/it]\n"
     ]
    },
    {
     "name": "stdout",
     "output_type": "stream",
     "text": [
      "New best model found at epoch 3 with validation loss: 0.3251. Model saved to models/graceful-sweep-6_2024-07-24_01-41.pth\n"
     ]
    },
    {
     "name": "stderr",
     "output_type": "stream",
     "text": [
      "Epoch 4/30 - Avg train Loss: 0.242123: 100%|███████████████████████████████████████████████████████████████████████████████████████████████████████████████████████████████| 25/25 [00:43<00:00,  1.75s/it]\n",
      "Epoch 4/30 - Avg val Loss: 0.552859: 100%|███████████████████████████████████████████████████████████████████████████████████████████████████████████████████████████████████| 7/7 [00:09<00:00,  1.40s/it]\n",
      "Epoch 5/30 - Avg train Loss: 0.250627: 100%|███████████████████████████████████████████████████████████████████████████████████████████████████████████████████████████████| 25/25 [00:43<00:00,  1.75s/it]\n",
      "Epoch 5/30 - Avg val Loss: 0.316958: 100%|███████████████████████████████████████████████████████████████████████████████████████████████████████████████████████████████████| 7/7 [00:09<00:00,  1.37s/it]\n"
     ]
    },
    {
     "name": "stdout",
     "output_type": "stream",
     "text": [
      "New best model found at epoch 5 with validation loss: 0.3170. Model saved to models/graceful-sweep-6_2024-07-24_01-41.pth\n"
     ]
    },
    {
     "name": "stderr",
     "output_type": "stream",
     "text": [
      "Epoch 6/30 - Avg train Loss: 0.231212: 100%|███████████████████████████████████████████████████████████████████████████████████████████████████████████████████████████████| 25/25 [00:43<00:00,  1.74s/it]\n",
      "Epoch 6/30 - Avg val Loss: 0.275153: 100%|███████████████████████████████████████████████████████████████████████████████████████████████████████████████████████████████████| 7/7 [00:09<00:00,  1.40s/it]\n"
     ]
    },
    {
     "name": "stdout",
     "output_type": "stream",
     "text": [
      "New best model found at epoch 6 with validation loss: 0.2752. Model saved to models/graceful-sweep-6_2024-07-24_01-41.pth\n"
     ]
    },
    {
     "name": "stderr",
     "output_type": "stream",
     "text": [
      "Epoch 7/30 - Avg train Loss: 0.237178: 100%|███████████████████████████████████████████████████████████████████████████████████████████████████████████████████████████████| 25/25 [00:44<00:00,  1.79s/it]\n",
      "Epoch 7/30 - Avg val Loss: 0.240880: 100%|███████████████████████████████████████████████████████████████████████████████████████████████████████████████████████████████████| 7/7 [00:09<00:00,  1.41s/it]\n"
     ]
    },
    {
     "name": "stdout",
     "output_type": "stream",
     "text": [
      "New best model found at epoch 7 with validation loss: 0.2409. Model saved to models/graceful-sweep-6_2024-07-24_01-41.pth\n"
     ]
    },
    {
     "name": "stderr",
     "output_type": "stream",
     "text": [
      "Epoch 8/30 - Avg train Loss: 0.230965: 100%|███████████████████████████████████████████████████████████████████████████████████████████████████████████████████████████████| 25/25 [00:42<00:00,  1.71s/it]\n",
      "Epoch 8/30 - Avg val Loss: 0.284773: 100%|███████████████████████████████████████████████████████████████████████████████████████████████████████████████████████████████████| 7/7 [00:08<00:00,  1.28s/it]\n",
      "Epoch 9/30 - Avg train Loss: 0.228180: 100%|███████████████████████████████████████████████████████████████████████████████████████████████████████████████████████████████| 25/25 [00:41<00:00,  1.65s/it]\n",
      "Epoch 9/30 - Avg val Loss: 0.237872: 100%|███████████████████████████████████████████████████████████████████████████████████████████████████████████████████████████████████| 7/7 [00:09<00:00,  1.35s/it]\n"
     ]
    },
    {
     "name": "stdout",
     "output_type": "stream",
     "text": [
      "New best model found at epoch 9 with validation loss: 0.2379. Model saved to models/graceful-sweep-6_2024-07-24_01-41.pth\n"
     ]
    },
    {
     "name": "stderr",
     "output_type": "stream",
     "text": [
      "Epoch 10/30 - Avg train Loss: 0.222369: 100%|██████████████████████████████████████████████████████████████████████████████████████████████████████████████████████████████| 25/25 [00:44<00:00,  1.79s/it]\n",
      "Epoch 10/30 - Avg val Loss: 0.227673: 100%|██████████████████████████████████████████████████████████████████████████████████████████████████████████████████████████████████| 7/7 [00:08<00:00,  1.27s/it]\n"
     ]
    },
    {
     "name": "stdout",
     "output_type": "stream",
     "text": [
      "New best model found at epoch 10 with validation loss: 0.2277. Model saved to models/graceful-sweep-6_2024-07-24_01-41.pth\n"
     ]
    },
    {
     "name": "stderr",
     "output_type": "stream",
     "text": [
      "Epoch 11/30 - Avg train Loss: 0.222233: 100%|██████████████████████████████████████████████████████████████████████████████████████████████████████████████████████████████| 25/25 [00:44<00:00,  1.76s/it]\n",
      "Epoch 11/30 - Avg val Loss: 0.226478: 100%|██████████████████████████████████████████████████████████████████████████████████████████████████████████████████████████████████| 7/7 [00:08<00:00,  1.25s/it]\n"
     ]
    },
    {
     "name": "stdout",
     "output_type": "stream",
     "text": [
      "New best model found at epoch 11 with validation loss: 0.2265. Model saved to models/graceful-sweep-6_2024-07-24_01-41.pth\n"
     ]
    },
    {
     "name": "stderr",
     "output_type": "stream",
     "text": [
      "Epoch 12/30 - Avg train Loss: 0.221704: 100%|██████████████████████████████████████████████████████████████████████████████████████████████████████████████████████████████| 25/25 [00:43<00:00,  1.74s/it]\n",
      "Epoch 12/30 - Avg val Loss: 0.226788: 100%|██████████████████████████████████████████████████████████████████████████████████████████████████████████████████████████████████| 7/7 [00:08<00:00,  1.25s/it]\n",
      "Epoch 13/30 - Avg train Loss: 0.220738: 100%|██████████████████████████████████████████████████████████████████████████████████████████████████████████████████████████████| 25/25 [00:44<00:00,  1.78s/it]\n",
      "Epoch 13/30 - Avg val Loss: 0.228213: 100%|██████████████████████████████████████████████████████████████████████████████████████████████████████████████████████████████████| 7/7 [00:08<00:00,  1.25s/it]\n",
      "Epoch 14/30 - Avg train Loss: 0.221139: 100%|██████████████████████████████████████████████████████████████████████████████████████████████████████████████████████████████| 25/25 [00:45<00:00,  1.83s/it]\n",
      "Epoch 14/30 - Avg val Loss: 0.224970: 100%|██████████████████████████████████████████████████████████████████████████████████████████████████████████████████████████████████| 7/7 [00:08<00:00,  1.16s/it]\n"
     ]
    },
    {
     "name": "stdout",
     "output_type": "stream",
     "text": [
      "New best model found at epoch 14 with validation loss: 0.2250. Model saved to models/graceful-sweep-6_2024-07-24_01-41.pth\n"
     ]
    },
    {
     "name": "stderr",
     "output_type": "stream",
     "text": [
      "Epoch 15/30 - Avg train Loss: 0.221699: 100%|██████████████████████████████████████████████████████████████████████████████████████████████████████████████████████████████| 25/25 [00:41<00:00,  1.66s/it]\n",
      "Epoch 15/30 - Avg val Loss: 0.221860: 100%|██████████████████████████████████████████████████████████████████████████████████████████████████████████████████████████████████| 7/7 [00:07<00:00,  1.13s/it]\n"
     ]
    },
    {
     "name": "stdout",
     "output_type": "stream",
     "text": [
      "New best model found at epoch 15 with validation loss: 0.2219. Model saved to models/graceful-sweep-6_2024-07-24_01-41.pth\n"
     ]
    },
    {
     "name": "stderr",
     "output_type": "stream",
     "text": [
      "Epoch 16/30 - Avg train Loss: 0.220074: 100%|██████████████████████████████████████████████████████████████████████████████████████████████████████████████████████████████| 25/25 [00:42<00:00,  1.70s/it]\n",
      "Epoch 16/30 - Avg val Loss: 0.220355: 100%|██████████████████████████████████████████████████████████████████████████████████████████████████████████████████████████████████| 7/7 [00:07<00:00,  1.07s/it]\n"
     ]
    },
    {
     "name": "stdout",
     "output_type": "stream",
     "text": [
      "New best model found at epoch 16 with validation loss: 0.2204. Model saved to models/graceful-sweep-6_2024-07-24_01-41.pth\n"
     ]
    },
    {
     "name": "stderr",
     "output_type": "stream",
     "text": [
      "Epoch 17/30 - Avg train Loss: 0.221772: 100%|██████████████████████████████████████████████████████████████████████████████████████████████████████████████████████████████| 25/25 [00:44<00:00,  1.77s/it]\n",
      "Epoch 17/30 - Avg val Loss: 0.258372: 100%|██████████████████████████████████████████████████████████████████████████████████████████████████████████████████████████████████| 7/7 [00:07<00:00,  1.09s/it]\n",
      "Epoch 18/30 - Avg train Loss: 0.221555: 100%|██████████████████████████████████████████████████████████████████████████████████████████████████████████████████████████████| 25/25 [00:40<00:00,  1.61s/it]\n",
      "Epoch 18/30 - Avg val Loss: 0.236642: 100%|██████████████████████████████████████████████████████████████████████████████████████████████████████████████████████████████████| 7/7 [00:08<00:00,  1.19s/it]\n",
      "Epoch 19/30 - Avg train Loss: 0.221473: 100%|██████████████████████████████████████████████████████████████████████████████████████████████████████████████████████████████| 25/25 [00:42<00:00,  1.68s/it]\n",
      "Epoch 19/30 - Avg val Loss: 0.223550: 100%|██████████████████████████████████████████████████████████████████████████████████████████████████████████████████████████████████| 7/7 [00:08<00:00,  1.17s/it]\n",
      "Epoch 20/30 - Avg train Loss: 0.221520: 100%|██████████████████████████████████████████████████████████████████████████████████████████████████████████████████████████████| 25/25 [00:43<00:00,  1.74s/it]\n",
      "Epoch 20/30 - Avg val Loss: 0.222726: 100%|██████████████████████████████████████████████████████████████████████████████████████████████████████████████████████████████████| 7/7 [00:08<00:00,  1.22s/it]\n",
      "Epoch 21/30 - Avg train Loss: 0.220428: 100%|██████████████████████████████████████████████████████████████████████████████████████████████████████████████████████████████| 25/25 [00:44<00:00,  1.78s/it]\n",
      "Epoch 21/30 - Avg val Loss: 0.223304: 100%|██████████████████████████████████████████████████████████████████████████████████████████████████████████████████████████████████| 7/7 [00:08<00:00,  1.21s/it]\n",
      "Epoch 22/30 - Avg train Loss: 0.220830: 100%|██████████████████████████████████████████████████████████████████████████████████████████████████████████████████████████████| 25/25 [00:44<00:00,  1.78s/it]\n",
      "Epoch 22/30 - Avg val Loss: 0.224599: 100%|██████████████████████████████████████████████████████████████████████████████████████████████████████████████████████████████████| 7/7 [00:09<00:00,  1.35s/it]\n",
      "Epoch 23/30 - Avg train Loss: 0.220141: 100%|██████████████████████████████████████████████████████████████████████████████████████████████████████████████████████████████| 25/25 [00:44<00:00,  1.76s/it]\n",
      "Epoch 23/30 - Avg val Loss: 0.226246: 100%|██████████████████████████████████████████████████████████████████████████████████████████████████████████████████████████████████| 7/7 [00:09<00:00,  1.33s/it]\n",
      "Epoch 24/30 - Avg train Loss: 0.219988: 100%|██████████████████████████████████████████████████████████████████████████████████████████████████████████████████████████████| 25/25 [00:38<00:00,  1.53s/it]\n",
      "Epoch 24/30 - Avg val Loss: 0.225564: 100%|██████████████████████████████████████████████████████████████████████████████████████████████████████████████████████████████████| 7/7 [00:09<00:00,  1.39s/it]\n",
      "Epoch 25/30 - Avg train Loss: 0.219725: 100%|██████████████████████████████████████████████████████████████████████████████████████████████████████████████████████████████| 25/25 [00:42<00:00,  1.72s/it]\n",
      "Epoch 25/30 - Avg val Loss: 0.225143: 100%|██████████████████████████████████████████████████████████████████████████████████████████████████████████████████████████████████| 7/7 [00:09<00:00,  1.29s/it]\n",
      "Epoch 26/30 - Avg train Loss: 0.219972: 100%|██████████████████████████████████████████████████████████████████████████████████████████████████████████████████████████████| 25/25 [00:44<00:00,  1.76s/it]\n",
      "Epoch 26/30 - Avg val Loss: 0.229820: 100%|██████████████████████████████████████████████████████████████████████████████████████████████████████████████████████████████████| 7/7 [00:10<00:00,  1.43s/it]\n",
      "Epoch 27/30 - Avg train Loss: 0.219557: 100%|██████████████████████████████████████████████████████████████████████████████████████████████████████████████████████████████| 25/25 [00:41<00:00,  1.66s/it]\n",
      "Epoch 27/30 - Avg val Loss: 0.231071: 100%|██████████████████████████████████████████████████████████████████████████████████████████████████████████████████████████████████| 7/7 [00:10<00:00,  1.44s/it]\n",
      "Epoch 28/30 - Avg train Loss: 0.219433: 100%|██████████████████████████████████████████████████████████████████████████████████████████████████████████████████████████████| 25/25 [00:40<00:00,  1.61s/it]\n",
      "Epoch 28/30 - Avg val Loss: 0.230313: 100%|██████████████████████████████████████████████████████████████████████████████████████████████████████████████████████████████████| 7/7 [00:10<00:00,  1.56s/it]\n",
      "Epoch 29/30 - Avg train Loss: 0.219487: 100%|██████████████████████████████████████████████████████████████████████████████████████████████████████████████████████████████| 25/25 [00:39<00:00,  1.59s/it]\n",
      "Epoch 29/30 - Avg val Loss: 0.229981: 100%|██████████████████████████████████████████████████████████████████████████████████████████████████████████████████████████████████| 7/7 [00:09<00:00,  1.42s/it]\n",
      "Epoch 30/30 - Avg train Loss: 0.219491: 100%|██████████████████████████████████████████████████████████████████████████████████████████████████████████████████████████████| 25/25 [00:39<00:00,  1.59s/it]\n",
      "Epoch 30/30 - Avg val Loss: 0.230981: 100%|██████████████████████████████████████████████████████████████████████████████████████████████████████████████████████████████████| 7/7 [00:10<00:00,  1.49s/it]\n"
     ]
    },
    {
     "data": {
      "application/vnd.jupyter.widget-view+json": {
       "model_id": "",
       "version_major": 2,
       "version_minor": 0
      },
      "text/plain": [
       "VBox(children=(Label(value='0.008 MB of 0.008 MB uploaded\\r'), FloatProgress(value=1.0, max=1.0)))"
      ]
     },
     "metadata": {},
     "output_type": "display_data"
    },
    {
     "data": {
      "text/html": [
       "<style>\n",
       "    table.wandb td:nth-child(1) { padding: 0 10px; text-align: left ; width: auto;} td:nth-child(2) {text-align: left ; width: 100%}\n",
       "    .wandb-row { display: flex; flex-direction: row; flex-wrap: wrap; justify-content: flex-start; width: 100% }\n",
       "    .wandb-col { display: flex; flex-direction: column; flex-basis: 100%; flex: 1; padding: 10px; }\n",
       "    </style>\n",
       "<div class=\"wandb-row\"><div class=\"wandb-col\"><h3>Run history:</h3><br/><table class=\"wandb\"><tr><td>accuracy</td><td>▅▅▆▁▇▇▇▇▇▇█▇▇████████▆▆▆▇▆▆▆▆▆</td></tr><tr><td>auprc</td><td>▅▄▆▁██████████████████████████</td></tr><tr><td>auroc</td><td>▅▄▆▁██████████████████████████</td></tr><tr><td>avg_train_loss</td><td>█▅▃▂▃▂▂▂▁▁▁▁▁▁▁▁▁▁▁▁▁▁▁▁▁▁▁▁▁▁</td></tr><tr><td>avg_val_loss</td><td>▅▄▃█▃▂▁▂▁▁▁▁▁▁▁▁▂▁▁▁▁▁▁▁▁▁▁▁▁▁</td></tr><tr><td>sensitivity</td><td>▂▂▅▁█▇▇███████████████████████</td></tr><tr><td>specificity</td><td>▅▄▅▁▆█████████████████████████</td></tr></table><br/></div><div class=\"wandb-col\"><h3>Run summary:</h3><br/><table class=\"wandb\"><tr><td>accuracy</td><td>0.87</td></tr><tr><td>auprc</td><td>1.0</td></tr><tr><td>auroc</td><td>1.0</td></tr><tr><td>avg_train_loss</td><td>0.21949</td></tr><tr><td>avg_val_loss</td><td>0.23098</td></tr><tr><td>sensitivity</td><td>1.0</td></tr><tr><td>specificity</td><td>1.0</td></tr></table><br/></div></div>"
      ],
      "text/plain": [
       "<IPython.core.display.HTML object>"
      ]
     },
     "metadata": {},
     "output_type": "display_data"
    },
    {
     "data": {
      "text/html": [
       " View run <strong style=\"color:#cdcd00\">graceful-sweep-6</strong> at: <a href='https://wandb.ai/miccai-challenge-2024/task2/runs/8nadr1u2' target=\"_blank\">https://wandb.ai/miccai-challenge-2024/task2/runs/8nadr1u2</a><br/> View project at: <a href='https://wandb.ai/miccai-challenge-2024/task2' target=\"_blank\">https://wandb.ai/miccai-challenge-2024/task2</a><br/>Synced 6 W&B file(s), 0 media file(s), 0 artifact file(s) and 0 other file(s)"
      ],
      "text/plain": [
       "<IPython.core.display.HTML object>"
      ]
     },
     "metadata": {},
     "output_type": "display_data"
    },
    {
     "data": {
      "text/html": [
       "Find logs at: <code>./wandb/run-20240724_014133-8nadr1u2/logs</code>"
      ],
      "text/plain": [
       "<IPython.core.display.HTML object>"
      ]
     },
     "metadata": {},
     "output_type": "display_data"
    },
    {
     "name": "stdout",
     "output_type": "stream",
     "text": [
      "Finished training\n"
     ]
    },
    {
     "name": "stderr",
     "output_type": "stream",
     "text": [
      "\u001b[34m\u001b[1mwandb\u001b[0m: Agent Starting Run: 14gg8hqx with config:\n",
      "\u001b[34m\u001b[1mwandb\u001b[0m: \tbatch_size: 16\n",
      "\u001b[34m\u001b[1mwandb\u001b[0m: \tepochs: 30\n",
      "\u001b[34m\u001b[1mwandb\u001b[0m: \tloss_weight: 0.5\n",
      "\u001b[34m\u001b[1mwandb\u001b[0m: \tlr: 0.001\n",
      "\u001b[34m\u001b[1mwandb\u001b[0m: \tlr_schedule_factor: 0.1\n",
      "\u001b[34m\u001b[1mwandb\u001b[0m: \tlr_schedule_patience: 5\n",
      "\u001b[34m\u001b[1mwandb\u001b[0m: \tmodel: Task2EfficientNetB0\n",
      "\u001b[34m\u001b[1mwandb\u001b[0m: \tp_affine: 0.3\n",
      "\u001b[34m\u001b[1mwandb\u001b[0m: \tp_clahe: 0.5\n",
      "\u001b[34m\u001b[1mwandb\u001b[0m: \tp_equalize: 0\n",
      "\u001b[34m\u001b[1mwandb\u001b[0m: \tp_gaussblur: 0.3\n",
      "\u001b[34m\u001b[1mwandb\u001b[0m: \tp_horizontalflip: 0.5\n",
      "\u001b[34m\u001b[1mwandb\u001b[0m: \tresampling_strategy: undersampling\n",
      "\u001b[34m\u001b[1mwandb\u001b[0m: \trotation: 10\n",
      "\u001b[34m\u001b[1mwandb\u001b[0m: \u001b[33mWARNING\u001b[0m Ignored wandb.init() arg project when running a sweep.\n"
     ]
    },
    {
     "data": {
      "text/html": [
       "wandb version 0.17.5 is available!  To upgrade, please run:\n",
       " $ pip install wandb --upgrade"
      ],
      "text/plain": [
       "<IPython.core.display.HTML object>"
      ]
     },
     "metadata": {},
     "output_type": "display_data"
    },
    {
     "data": {
      "text/html": [
       "Tracking run with wandb version 0.17.0"
      ],
      "text/plain": [
       "<IPython.core.display.HTML object>"
      ]
     },
     "metadata": {},
     "output_type": "display_data"
    },
    {
     "data": {
      "text/html": [
       "Run data is saved locally in <code>/home/optima/mhaderer/AILS-MICCAI-UWF4DR-Challenge/wandb/run-20240724_020755-14gg8hqx</code>"
      ],
      "text/plain": [
       "<IPython.core.display.HTML object>"
      ]
     },
     "metadata": {},
     "output_type": "display_data"
    },
    {
     "data": {
      "text/html": [
       "Syncing run <strong><a href='https://wandb.ai/miccai-challenge-2024/task2/runs/14gg8hqx' target=\"_blank\">rural-sweep-7</a></strong> to <a href='https://wandb.ai/miccai-challenge-2024/task2' target=\"_blank\">Weights & Biases</a> (<a href='https://wandb.me/run' target=\"_blank\">docs</a>)<br/>Sweep page: <a href='https://wandb.ai/miccai-challenge-2024/task2/sweeps/eo1h97d3' target=\"_blank\">https://wandb.ai/miccai-challenge-2024/task2/sweeps/eo1h97d3</a>"
      ],
      "text/plain": [
       "<IPython.core.display.HTML object>"
      ]
     },
     "metadata": {},
     "output_type": "display_data"
    },
    {
     "data": {
      "text/html": [
       " View project at <a href='https://wandb.ai/miccai-challenge-2024/task2' target=\"_blank\">https://wandb.ai/miccai-challenge-2024/task2</a>"
      ],
      "text/plain": [
       "<IPython.core.display.HTML object>"
      ]
     },
     "metadata": {},
     "output_type": "display_data"
    },
    {
     "data": {
      "text/html": [
       " View sweep at <a href='https://wandb.ai/miccai-challenge-2024/task2/sweeps/eo1h97d3' target=\"_blank\">https://wandb.ai/miccai-challenge-2024/task2/sweeps/eo1h97d3</a>"
      ],
      "text/plain": [
       "<IPython.core.display.HTML object>"
      ]
     },
     "metadata": {},
     "output_type": "display_data"
    },
    {
     "data": {
      "text/html": [
       " View run at <a href='https://wandb.ai/miccai-challenge-2024/task2/runs/14gg8hqx' target=\"_blank\">https://wandb.ai/miccai-challenge-2024/task2/runs/14gg8hqx</a>"
      ],
      "text/plain": [
       "<IPython.core.display.HTML object>"
      ]
     },
     "metadata": {},
     "output_type": "display_data"
    },
    {
     "name": "stdout",
     "output_type": "stream",
     "text": [
      "Using device: cuda\n",
      "Loaded pretrained weights for efficientnet-b0\n",
      "Now train train train\n"
     ]
    },
    {
     "name": "stderr",
     "output_type": "stream",
     "text": [
      "Epoch 1/30 - Avg train Loss: 0.385405: 100%|███████████████████████████████████████████████████████████████████████████████████████████████████████████████████████████████| 15/15 [00:29<00:00,  1.97s/it]\n",
      "Epoch 1/30 - Avg val Loss: 0.346094: 100%|███████████████████████████████████████████████████████████████████████████████████████████████████████████████████████████████████| 4/4 [00:06<00:00,  1.66s/it]\n"
     ]
    },
    {
     "name": "stdout",
     "output_type": "stream",
     "text": [
      "New best model found at epoch 1 with validation loss: 0.3461. Model saved to models/rural-sweep-7_2024-07-24_02-08.pth\n"
     ]
    },
    {
     "name": "stderr",
     "output_type": "stream",
     "text": [
      "Epoch 2/30 - Avg train Loss: 0.328079: 100%|███████████████████████████████████████████████████████████████████████████████████████████████████████████████████████████████| 15/15 [00:27<00:00,  1.85s/it]\n",
      "Epoch 2/30 - Avg val Loss: 0.427470: 100%|███████████████████████████████████████████████████████████████████████████████████████████████████████████████████████████████████| 4/4 [00:06<00:00,  1.60s/it]\n",
      "Epoch 3/30 - Avg train Loss: 0.303417: 100%|███████████████████████████████████████████████████████████████████████████████████████████████████████████████████████████████| 15/15 [00:26<00:00,  1.80s/it]\n",
      "Epoch 3/30 - Avg val Loss: 0.321567: 100%|███████████████████████████████████████████████████████████████████████████████████████████████████████████████████████████████████| 4/4 [00:05<00:00,  1.44s/it]\n"
     ]
    },
    {
     "name": "stdout",
     "output_type": "stream",
     "text": [
      "New best model found at epoch 3 with validation loss: 0.3216. Model saved to models/rural-sweep-7_2024-07-24_02-08.pth\n"
     ]
    },
    {
     "name": "stderr",
     "output_type": "stream",
     "text": [
      "Epoch 4/30 - Avg train Loss: 0.290071: 100%|███████████████████████████████████████████████████████████████████████████████████████████████████████████████████████████████| 15/15 [00:27<00:00,  1.84s/it]\n",
      "Epoch 4/30 - Avg val Loss: 0.305597: 100%|███████████████████████████████████████████████████████████████████████████████████████████████████████████████████████████████████| 4/4 [00:06<00:00,  1.59s/it]\n"
     ]
    },
    {
     "name": "stdout",
     "output_type": "stream",
     "text": [
      "New best model found at epoch 4 with validation loss: 0.3056. Model saved to models/rural-sweep-7_2024-07-24_02-08.pth\n"
     ]
    },
    {
     "name": "stderr",
     "output_type": "stream",
     "text": [
      "Epoch 5/30 - Avg train Loss: 0.280769: 100%|███████████████████████████████████████████████████████████████████████████████████████████████████████████████████████████████| 15/15 [00:29<00:00,  1.95s/it]\n",
      "Epoch 5/30 - Avg val Loss: 0.344642: 100%|███████████████████████████████████████████████████████████████████████████████████████████████████████████████████████████████████| 4/4 [00:06<00:00,  1.55s/it]\n",
      "Epoch 6/30 - Avg train Loss: 0.271078: 100%|███████████████████████████████████████████████████████████████████████████████████████████████████████████████████████████████| 15/15 [00:27<00:00,  1.85s/it]\n",
      "Epoch 6/30 - Avg val Loss: 0.331254: 100%|███████████████████████████████████████████████████████████████████████████████████████████████████████████████████████████████████| 4/4 [00:06<00:00,  1.68s/it]\n",
      "Epoch 7/30 - Avg train Loss: 0.253968: 100%|███████████████████████████████████████████████████████████████████████████████████████████████████████████████████████████████| 15/15 [00:29<00:00,  1.95s/it]\n",
      "Epoch 7/30 - Avg val Loss: 0.303540: 100%|███████████████████████████████████████████████████████████████████████████████████████████████████████████████████████████████████| 4/4 [00:06<00:00,  1.62s/it]\n"
     ]
    },
    {
     "name": "stdout",
     "output_type": "stream",
     "text": [
      "New best model found at epoch 7 with validation loss: 0.3035. Model saved to models/rural-sweep-7_2024-07-24_02-08.pth\n"
     ]
    },
    {
     "name": "stderr",
     "output_type": "stream",
     "text": [
      "Epoch 8/30 - Avg train Loss: 0.265999: 100%|███████████████████████████████████████████████████████████████████████████████████████████████████████████████████████████████| 15/15 [00:29<00:00,  1.96s/it]\n",
      "Epoch 8/30 - Avg val Loss: 0.339455: 100%|███████████████████████████████████████████████████████████████████████████████████████████████████████████████████████████████████| 4/4 [00:06<00:00,  1.54s/it]\n",
      "Epoch 9/30 - Avg train Loss: 0.248572: 100%|███████████████████████████████████████████████████████████████████████████████████████████████████████████████████████████████| 15/15 [00:29<00:00,  1.97s/it]\n",
      "Epoch 9/30 - Avg val Loss: 0.293103: 100%|███████████████████████████████████████████████████████████████████████████████████████████████████████████████████████████████████| 4/4 [00:06<00:00,  1.65s/it]\n"
     ]
    },
    {
     "name": "stdout",
     "output_type": "stream",
     "text": [
      "New best model found at epoch 9 with validation loss: 0.2931. Model saved to models/rural-sweep-7_2024-07-24_02-08.pth\n"
     ]
    },
    {
     "name": "stderr",
     "output_type": "stream",
     "text": [
      "Epoch 10/30 - Avg train Loss: 0.250144: 100%|██████████████████████████████████████████████████████████████████████████████████████████████████████████████████████████████| 15/15 [00:28<00:00,  1.90s/it]\n",
      "Epoch 10/30 - Avg val Loss: 0.321952: 100%|██████████████████████████████████████████████████████████████████████████████████████████████████████████████████████████████████| 4/4 [00:06<00:00,  1.59s/it]\n",
      "Epoch 11/30 - Avg train Loss: 0.243717: 100%|██████████████████████████████████████████████████████████████████████████████████████████████████████████████████████████████| 15/15 [00:27<00:00,  1.83s/it]\n",
      "Epoch 11/30 - Avg val Loss: 0.370020: 100%|██████████████████████████████████████████████████████████████████████████████████████████████████████████████████████████████████| 4/4 [00:05<00:00,  1.45s/it]\n",
      "Epoch 12/30 - Avg train Loss: 0.255610: 100%|██████████████████████████████████████████████████████████████████████████████████████████████████████████████████████████████| 15/15 [00:28<00:00,  1.92s/it]\n",
      "Epoch 12/30 - Avg val Loss: 0.539469: 100%|██████████████████████████████████████████████████████████████████████████████████████████████████████████████████████████████████| 4/4 [00:05<00:00,  1.45s/it]\n",
      "Epoch 13/30 - Avg train Loss: 0.250097: 100%|██████████████████████████████████████████████████████████████████████████████████████████████████████████████████████████████| 15/15 [00:28<00:00,  1.90s/it]\n",
      "Epoch 13/30 - Avg val Loss: 0.404709: 100%|██████████████████████████████████████████████████████████████████████████████████████████████████████████████████████████████████| 4/4 [00:05<00:00,  1.45s/it]\n",
      "Epoch 14/30 - Avg train Loss: 0.252207: 100%|██████████████████████████████████████████████████████████████████████████████████████████████████████████████████████████████| 15/15 [00:27<00:00,  1.87s/it]\n",
      "Epoch 14/30 - Avg val Loss: 0.300567: 100%|██████████████████████████████████████████████████████████████████████████████████████████████████████████████████████████████████| 4/4 [00:06<00:00,  1.50s/it]\n",
      "Epoch 15/30 - Avg train Loss: 0.247439: 100%|██████████████████████████████████████████████████████████████████████████████████████████████████████████████████████████████| 15/15 [00:27<00:00,  1.87s/it]\n",
      "Epoch 15/30 - Avg val Loss: 0.313394: 100%|██████████████████████████████████████████████████████████████████████████████████████████████████████████████████████████████████| 4/4 [00:05<00:00,  1.44s/it]\n",
      "Epoch 16/30 - Avg train Loss: 0.236132: 100%|██████████████████████████████████████████████████████████████████████████████████████████████████████████████████████████████| 15/15 [00:27<00:00,  1.81s/it]\n",
      "Epoch 16/30 - Avg val Loss: 0.299112: 100%|██████████████████████████████████████████████████████████████████████████████████████████████████████████████████████████████████| 4/4 [00:06<00:00,  1.55s/it]\n",
      "Epoch 17/30 - Avg train Loss: 0.229645: 100%|██████████████████████████████████████████████████████████████████████████████████████████████████████████████████████████████| 15/15 [00:29<00:00,  1.99s/it]\n",
      "Epoch 17/30 - Avg val Loss: 0.292254: 100%|██████████████████████████████████████████████████████████████████████████████████████████████████████████████████████████████████| 4/4 [00:06<00:00,  1.54s/it]\n"
     ]
    },
    {
     "name": "stdout",
     "output_type": "stream",
     "text": [
      "New best model found at epoch 17 with validation loss: 0.2923. Model saved to models/rural-sweep-7_2024-07-24_02-08.pth\n"
     ]
    },
    {
     "name": "stderr",
     "output_type": "stream",
     "text": [
      "Epoch 18/30 - Avg train Loss: 0.228108: 100%|██████████████████████████████████████████████████████████████████████████████████████████████████████████████████████████████| 15/15 [00:28<00:00,  1.90s/it]\n",
      "Epoch 18/30 - Avg val Loss: 0.290011: 100%|██████████████████████████████████████████████████████████████████████████████████████████████████████████████████████████████████| 4/4 [00:05<00:00,  1.45s/it]\n"
     ]
    },
    {
     "name": "stdout",
     "output_type": "stream",
     "text": [
      "New best model found at epoch 18 with validation loss: 0.2900. Model saved to models/rural-sweep-7_2024-07-24_02-08.pth\n"
     ]
    },
    {
     "name": "stderr",
     "output_type": "stream",
     "text": [
      "Epoch 19/30 - Avg train Loss: 0.231850: 100%|██████████████████████████████████████████████████████████████████████████████████████████████████████████████████████████████| 15/15 [00:29<00:00,  1.97s/it]\n",
      "Epoch 19/30 - Avg val Loss: 0.290732: 100%|██████████████████████████████████████████████████████████████████████████████████████████████████████████████████████████████████| 4/4 [00:06<00:00,  1.55s/it]\n",
      "Epoch 20/30 - Avg train Loss: 0.227362: 100%|██████████████████████████████████████████████████████████████████████████████████████████████████████████████████████████████| 15/15 [00:28<00:00,  1.92s/it]\n",
      "Epoch 20/30 - Avg val Loss: 0.292033: 100%|██████████████████████████████████████████████████████████████████████████████████████████████████████████████████████████████████| 4/4 [00:05<00:00,  1.48s/it]\n",
      "Epoch 21/30 - Avg train Loss: 0.228791: 100%|██████████████████████████████████████████████████████████████████████████████████████████████████████████████████████████████| 15/15 [00:29<00:00,  1.96s/it]\n",
      "Epoch 21/30 - Avg val Loss: 0.290044: 100%|██████████████████████████████████████████████████████████████████████████████████████████████████████████████████████████████████| 4/4 [00:06<00:00,  1.56s/it]\n",
      "Epoch 22/30 - Avg train Loss: 0.222965: 100%|██████████████████████████████████████████████████████████████████████████████████████████████████████████████████████████████| 15/15 [00:28<00:00,  1.88s/it]\n",
      "Epoch 22/30 - Avg val Loss: 0.288972: 100%|██████████████████████████████████████████████████████████████████████████████████████████████████████████████████████████████████| 4/4 [00:06<00:00,  1.52s/it]\n"
     ]
    },
    {
     "name": "stdout",
     "output_type": "stream",
     "text": [
      "New best model found at epoch 22 with validation loss: 0.2890. Model saved to models/rural-sweep-7_2024-07-24_02-08.pth\n"
     ]
    },
    {
     "name": "stderr",
     "output_type": "stream",
     "text": [
      "Epoch 23/30 - Avg train Loss: 0.226670: 100%|██████████████████████████████████████████████████████████████████████████████████████████████████████████████████████████████| 15/15 [00:28<00:00,  1.93s/it]\n",
      "Epoch 23/30 - Avg val Loss: 0.289198: 100%|██████████████████████████████████████████████████████████████████████████████████████████████████████████████████████████████████| 4/4 [00:05<00:00,  1.45s/it]\n",
      "Epoch 24/30 - Avg train Loss: 0.226212: 100%|██████████████████████████████████████████████████████████████████████████████████████████████████████████████████████████████| 15/15 [00:28<00:00,  1.92s/it]\n",
      "Epoch 24/30 - Avg val Loss: 0.289053: 100%|██████████████████████████████████████████████████████████████████████████████████████████████████████████████████████████████████| 4/4 [00:05<00:00,  1.48s/it]\n",
      "Epoch 25/30 - Avg train Loss: 0.225252: 100%|██████████████████████████████████████████████████████████████████████████████████████████████████████████████████████████████| 15/15 [00:29<00:00,  1.94s/it]\n",
      "Epoch 25/30 - Avg val Loss: 0.291150: 100%|██████████████████████████████████████████████████████████████████████████████████████████████████████████████████████████████████| 4/4 [00:05<00:00,  1.47s/it]\n",
      "Epoch 26/30 - Avg train Loss: 0.225770: 100%|██████████████████████████████████████████████████████████████████████████████████████████████████████████████████████████████| 15/15 [00:28<00:00,  1.89s/it]\n",
      "Epoch 26/30 - Avg val Loss: 0.293508: 100%|██████████████████████████████████████████████████████████████████████████████████████████████████████████████████████████████████| 4/4 [00:05<00:00,  1.46s/it]\n",
      "Epoch 27/30 - Avg train Loss: 0.224775: 100%|██████████████████████████████████████████████████████████████████████████████████████████████████████████████████████████████| 15/15 [00:27<00:00,  1.87s/it]\n",
      "Epoch 27/30 - Avg val Loss: 0.293740: 100%|██████████████████████████████████████████████████████████████████████████████████████████████████████████████████████████████████| 4/4 [00:06<00:00,  1.54s/it]\n",
      "Epoch 28/30 - Avg train Loss: 0.224515: 100%|██████████████████████████████████████████████████████████████████████████████████████████████████████████████████████████████| 15/15 [00:29<00:00,  1.94s/it]\n",
      "Epoch 28/30 - Avg val Loss: 0.290321: 100%|██████████████████████████████████████████████████████████████████████████████████████████████████████████████████████████████████| 4/4 [00:06<00:00,  1.51s/it]\n",
      "Epoch 29/30 - Avg train Loss: 0.224745: 100%|██████████████████████████████████████████████████████████████████████████████████████████████████████████████████████████████| 15/15 [00:28<00:00,  1.93s/it]\n",
      "Epoch 29/30 - Avg val Loss: 0.290131: 100%|██████████████████████████████████████████████████████████████████████████████████████████████████████████████████████████████████| 4/4 [00:05<00:00,  1.49s/it]\n",
      "Epoch 30/30 - Avg train Loss: 0.226952: 100%|██████████████████████████████████████████████████████████████████████████████████████████████████████████████████████████████| 15/15 [00:28<00:00,  1.88s/it]\n",
      "Epoch 30/30 - Avg val Loss: 0.290292: 100%|██████████████████████████████████████████████████████████████████████████████████████████████████████████████████████████████████| 4/4 [00:05<00:00,  1.50s/it]\n"
     ]
    },
    {
     "data": {
      "application/vnd.jupyter.widget-view+json": {
       "model_id": "",
       "version_major": 2,
       "version_minor": 0
      },
      "text/plain": [
       "VBox(children=(Label(value='0.008 MB of 0.008 MB uploaded\\r'), FloatProgress(value=1.0, max=1.0)))"
      ]
     },
     "metadata": {},
     "output_type": "display_data"
    },
    {
     "data": {
      "text/html": [
       "<style>\n",
       "    table.wandb td:nth-child(1) { padding: 0 10px; text-align: left ; width: auto;} td:nth-child(2) {text-align: left ; width: 100%}\n",
       "    .wandb-row { display: flex; flex-direction: row; flex-wrap: wrap; justify-content: flex-start; width: 100% }\n",
       "    .wandb-col { display: flex; flex-direction: column; flex-basis: 100%; flex: 1; padding: 10px; }\n",
       "    </style>\n",
       "<div class=\"wandb-row\"><div class=\"wandb-col\"><h3>Run history:</h3><br/><table class=\"wandb\"><tr><td>accuracy</td><td>▂▄▅▂█▆▅▇▇▅▅▁▁▆▇▆▆▆▆▆▅▅▄▄▅▅▅▄▄▄</td></tr><tr><td>auprc</td><td>▁▅▆▅█▅▅█▅▆▂▆▃▇▅▅▆▆▆▆▆▆▆▆▇▇▇▇▇▇</td></tr><tr><td>auroc</td><td>▂▅▆▅▇▄▄█▆▆▁▆▃▇▅▅▅▆▆▆▆▆▆▆▇▇▇▇▇▇</td></tr><tr><td>avg_train_loss</td><td>█▆▄▄▃▃▂▃▂▂▂▂▂▂▂▂▁▁▁▁▁▁▁▁▁▁▁▁▁▁</td></tr><tr><td>avg_val_loss</td><td>▃▅▂▁▃▂▁▂▁▂▃█▄▁▂▁▁▁▁▁▁▁▁▁▁▁▁▁▁▁</td></tr><tr><td>sensitivity</td><td>▁▄▄▆▅▅▅▅▅▅▂█▅▅▄▄▄▄▅▅▄▅▅▅▅▅▅▅▅▅</td></tr><tr><td>specificity</td><td>▇▄▇▆█▆▇▆▆▆▇▁▂▄▇▇▇▇▆▆▇▆▆▆▆▆▆▆▆▆</td></tr></table><br/></div><div class=\"wandb-col\"><h3>Run summary:</h3><br/><table class=\"wandb\"><tr><td>accuracy</td><td>0.83333</td></tr><tr><td>auprc</td><td>0.96538</td></tr><tr><td>auroc</td><td>0.95889</td></tr><tr><td>avg_train_loss</td><td>0.22695</td></tr><tr><td>avg_val_loss</td><td>0.29029</td></tr><tr><td>sensitivity</td><td>0.86667</td></tr><tr><td>specificity</td><td>0.93333</td></tr></table><br/></div></div>"
      ],
      "text/plain": [
       "<IPython.core.display.HTML object>"
      ]
     },
     "metadata": {},
     "output_type": "display_data"
    },
    {
     "data": {
      "text/html": [
       " View run <strong style=\"color:#cdcd00\">rural-sweep-7</strong> at: <a href='https://wandb.ai/miccai-challenge-2024/task2/runs/14gg8hqx' target=\"_blank\">https://wandb.ai/miccai-challenge-2024/task2/runs/14gg8hqx</a><br/> View project at: <a href='https://wandb.ai/miccai-challenge-2024/task2' target=\"_blank\">https://wandb.ai/miccai-challenge-2024/task2</a><br/>Synced 6 W&B file(s), 0 media file(s), 0 artifact file(s) and 0 other file(s)"
      ],
      "text/plain": [
       "<IPython.core.display.HTML object>"
      ]
     },
     "metadata": {},
     "output_type": "display_data"
    },
    {
     "data": {
      "text/html": [
       "Find logs at: <code>./wandb/run-20240724_020755-14gg8hqx/logs</code>"
      ],
      "text/plain": [
       "<IPython.core.display.HTML object>"
      ]
     },
     "metadata": {},
     "output_type": "display_data"
    },
    {
     "name": "stdout",
     "output_type": "stream",
     "text": [
      "Finished training\n"
     ]
    },
    {
     "name": "stderr",
     "output_type": "stream",
     "text": [
      "\u001b[34m\u001b[1mwandb\u001b[0m: Agent Starting Run: 0o3c5p5g with config:\n",
      "\u001b[34m\u001b[1mwandb\u001b[0m: \tbatch_size: 16\n",
      "\u001b[34m\u001b[1mwandb\u001b[0m: \tepochs: 30\n",
      "\u001b[34m\u001b[1mwandb\u001b[0m: \tloss_weight: 0.5\n",
      "\u001b[34m\u001b[1mwandb\u001b[0m: \tlr: 0.001\n",
      "\u001b[34m\u001b[1mwandb\u001b[0m: \tlr_schedule_factor: 0.1\n",
      "\u001b[34m\u001b[1mwandb\u001b[0m: \tlr_schedule_patience: 5\n",
      "\u001b[34m\u001b[1mwandb\u001b[0m: \tmodel: Task2EfficientNetB0\n",
      "\u001b[34m\u001b[1mwandb\u001b[0m: \tp_affine: 0.3\n",
      "\u001b[34m\u001b[1mwandb\u001b[0m: \tp_clahe: 0.3\n",
      "\u001b[34m\u001b[1mwandb\u001b[0m: \tp_equalize: 0\n",
      "\u001b[34m\u001b[1mwandb\u001b[0m: \tp_gaussblur: 0\n",
      "\u001b[34m\u001b[1mwandb\u001b[0m: \tp_horizontalflip: 0.5\n",
      "\u001b[34m\u001b[1mwandb\u001b[0m: \tresampling_strategy: oversampling\n",
      "\u001b[34m\u001b[1mwandb\u001b[0m: \trotation: 10\n",
      "\u001b[34m\u001b[1mwandb\u001b[0m: \u001b[33mWARNING\u001b[0m Ignored wandb.init() arg project when running a sweep.\n"
     ]
    },
    {
     "data": {
      "text/html": [
       "wandb version 0.17.5 is available!  To upgrade, please run:\n",
       " $ pip install wandb --upgrade"
      ],
      "text/plain": [
       "<IPython.core.display.HTML object>"
      ]
     },
     "metadata": {},
     "output_type": "display_data"
    },
    {
     "data": {
      "text/html": [
       "Tracking run with wandb version 0.17.0"
      ],
      "text/plain": [
       "<IPython.core.display.HTML object>"
      ]
     },
     "metadata": {},
     "output_type": "display_data"
    },
    {
     "data": {
      "text/html": [
       "Run data is saved locally in <code>/home/optima/mhaderer/AILS-MICCAI-UWF4DR-Challenge/wandb/run-20240724_022539-0o3c5p5g</code>"
      ],
      "text/plain": [
       "<IPython.core.display.HTML object>"
      ]
     },
     "metadata": {},
     "output_type": "display_data"
    },
    {
     "data": {
      "text/html": [
       "Syncing run <strong><a href='https://wandb.ai/miccai-challenge-2024/task2/runs/0o3c5p5g' target=\"_blank\">royal-sweep-8</a></strong> to <a href='https://wandb.ai/miccai-challenge-2024/task2' target=\"_blank\">Weights & Biases</a> (<a href='https://wandb.me/run' target=\"_blank\">docs</a>)<br/>Sweep page: <a href='https://wandb.ai/miccai-challenge-2024/task2/sweeps/eo1h97d3' target=\"_blank\">https://wandb.ai/miccai-challenge-2024/task2/sweeps/eo1h97d3</a>"
      ],
      "text/plain": [
       "<IPython.core.display.HTML object>"
      ]
     },
     "metadata": {},
     "output_type": "display_data"
    },
    {
     "data": {
      "text/html": [
       " View project at <a href='https://wandb.ai/miccai-challenge-2024/task2' target=\"_blank\">https://wandb.ai/miccai-challenge-2024/task2</a>"
      ],
      "text/plain": [
       "<IPython.core.display.HTML object>"
      ]
     },
     "metadata": {},
     "output_type": "display_data"
    },
    {
     "data": {
      "text/html": [
       " View sweep at <a href='https://wandb.ai/miccai-challenge-2024/task2/sweeps/eo1h97d3' target=\"_blank\">https://wandb.ai/miccai-challenge-2024/task2/sweeps/eo1h97d3</a>"
      ],
      "text/plain": [
       "<IPython.core.display.HTML object>"
      ]
     },
     "metadata": {},
     "output_type": "display_data"
    },
    {
     "data": {
      "text/html": [
       " View run at <a href='https://wandb.ai/miccai-challenge-2024/task2/runs/0o3c5p5g' target=\"_blank\">https://wandb.ai/miccai-challenge-2024/task2/runs/0o3c5p5g</a>"
      ],
      "text/plain": [
       "<IPython.core.display.HTML object>"
      ]
     },
     "metadata": {},
     "output_type": "display_data"
    },
    {
     "name": "stdout",
     "output_type": "stream",
     "text": [
      "Using device: cuda\n",
      "Loaded pretrained weights for efficientnet-b0\n",
      "Now train train train\n"
     ]
    },
    {
     "name": "stderr",
     "output_type": "stream",
     "text": [
      "Epoch 1/30 - Avg train Loss: 0.363261: 100%|███████████████████████████████████████████████████████████████████████████████████████████████████████████████████████████████| 25/25 [00:43<00:00,  1.72s/it]\n",
      "Epoch 1/30 - Avg val Loss: 0.363117: 100%|███████████████████████████████████████████████████████████████████████████████████████████████████████████████████████████████████| 7/7 [00:11<00:00,  1.66s/it]\n"
     ]
    },
    {
     "name": "stdout",
     "output_type": "stream",
     "text": [
      "New best model found at epoch 1 with validation loss: 0.3631. Model saved to models/royal-sweep-8_2024-07-24_02-25.pth\n"
     ]
    },
    {
     "name": "stderr",
     "output_type": "stream",
     "text": [
      "Epoch 2/30 - Avg train Loss: 0.286077: 100%|███████████████████████████████████████████████████████████████████████████████████████████████████████████████████████████████| 25/25 [00:44<00:00,  1.79s/it]\n",
      "Epoch 2/30 - Avg val Loss: 0.583652: 100%|███████████████████████████████████████████████████████████████████████████████████████████████████████████████████████████████████| 7/7 [00:12<00:00,  1.74s/it]\n",
      "Epoch 3/30 - Avg train Loss: 0.282826: 100%|███████████████████████████████████████████████████████████████████████████████████████████████████████████████████████████████| 25/25 [00:44<00:00,  1.78s/it]\n",
      "Epoch 3/30 - Avg val Loss: 0.416499: 100%|███████████████████████████████████████████████████████████████████████████████████████████████████████████████████████████████████| 7/7 [00:11<00:00,  1.62s/it]\n",
      "Epoch 4/30 - Avg train Loss: 0.263440: 100%|███████████████████████████████████████████████████████████████████████████████████████████████████████████████████████████████| 25/25 [00:43<00:00,  1.74s/it]\n",
      "Epoch 4/30 - Avg val Loss: 0.429130: 100%|███████████████████████████████████████████████████████████████████████████████████████████████████████████████████████████████████| 7/7 [00:11<00:00,  1.58s/it]\n",
      "Epoch 5/30 - Avg train Loss: 0.242312: 100%|███████████████████████████████████████████████████████████████████████████████████████████████████████████████████████████████| 25/25 [00:41<00:00,  1.67s/it]\n",
      "Epoch 5/30 - Avg val Loss: 0.302339: 100%|███████████████████████████████████████████████████████████████████████████████████████████████████████████████████████████████████| 7/7 [00:10<00:00,  1.54s/it]\n"
     ]
    },
    {
     "name": "stdout",
     "output_type": "stream",
     "text": [
      "New best model found at epoch 5 with validation loss: 0.3023. Model saved to models/royal-sweep-8_2024-07-24_02-25.pth\n"
     ]
    },
    {
     "name": "stderr",
     "output_type": "stream",
     "text": [
      "Epoch 6/30 - Avg train Loss: 0.244654: 100%|███████████████████████████████████████████████████████████████████████████████████████████████████████████████████████████████| 25/25 [00:41<00:00,  1.66s/it]\n",
      "Epoch 6/30 - Avg val Loss: 0.470610: 100%|███████████████████████████████████████████████████████████████████████████████████████████████████████████████████████████████████| 7/7 [00:11<00:00,  1.66s/it]\n",
      "Epoch 7/30 - Avg train Loss: 0.236751: 100%|███████████████████████████████████████████████████████████████████████████████████████████████████████████████████████████████| 25/25 [00:45<00:00,  1.81s/it]\n",
      "Epoch 7/30 - Avg val Loss: 0.391376: 100%|███████████████████████████████████████████████████████████████████████████████████████████████████████████████████████████████████| 7/7 [00:12<00:00,  1.73s/it]\n",
      "Epoch 8/30 - Avg train Loss: 0.228142: 100%|███████████████████████████████████████████████████████████████████████████████████████████████████████████████████████████████| 25/25 [00:45<00:00,  1.81s/it]\n",
      "Epoch 8/30 - Avg val Loss: 0.489837: 100%|███████████████████████████████████████████████████████████████████████████████████████████████████████████████████████████████████| 7/7 [00:13<00:00,  1.87s/it]\n",
      "Epoch 9/30 - Avg train Loss: 0.224583: 100%|███████████████████████████████████████████████████████████████████████████████████████████████████████████████████████████████| 25/25 [00:43<00:00,  1.73s/it]\n",
      "Epoch 9/30 - Avg val Loss: 0.361417: 100%|███████████████████████████████████████████████████████████████████████████████████████████████████████████████████████████████████| 7/7 [00:12<00:00,  1.79s/it]\n",
      "Epoch 10/30 - Avg train Loss: 0.226884: 100%|██████████████████████████████████████████████████████████████████████████████████████████████████████████████████████████████| 25/25 [00:45<00:00,  1.82s/it]\n",
      "Epoch 10/30 - Avg val Loss: 0.313855: 100%|██████████████████████████████████████████████████████████████████████████████████████████████████████████████████████████████████| 7/7 [00:12<00:00,  1.79s/it]\n",
      "Epoch 11/30 - Avg train Loss: 0.228520: 100%|██████████████████████████████████████████████████████████████████████████████████████████████████████████████████████████████| 25/25 [00:46<00:00,  1.86s/it]\n",
      "Epoch 11/30 - Avg val Loss: 0.367383: 100%|██████████████████████████████████████████████████████████████████████████████████████████████████████████████████████████████████| 7/7 [00:11<00:00,  1.70s/it]\n",
      "Epoch 12/30 - Avg train Loss: 0.224757: 100%|██████████████████████████████████████████████████████████████████████████████████████████████████████████████████████████████| 25/25 [00:46<00:00,  1.85s/it]\n",
      "Epoch 12/30 - Avg val Loss: 0.323786: 100%|██████████████████████████████████████████████████████████████████████████████████████████████████████████████████████████████████| 7/7 [00:12<00:00,  1.82s/it]\n",
      "Epoch 13/30 - Avg train Loss: 0.221945: 100%|██████████████████████████████████████████████████████████████████████████████████████████████████████████████████████████████| 25/25 [00:47<00:00,  1.89s/it]\n",
      "Epoch 13/30 - Avg val Loss: 0.321956: 100%|██████████████████████████████████████████████████████████████████████████████████████████████████████████████████████████████████| 7/7 [00:11<00:00,  1.65s/it]\n",
      "Epoch 14/30 - Avg train Loss: 0.222507: 100%|██████████████████████████████████████████████████████████████████████████████████████████████████████████████████████████████| 25/25 [00:48<00:00,  1.93s/it]\n",
      "Epoch 14/30 - Avg val Loss: 0.325674: 100%|██████████████████████████████████████████████████████████████████████████████████████████████████████████████████████████████████| 7/7 [00:11<00:00,  1.62s/it]\n",
      "Epoch 15/30 - Avg train Loss: 0.221019: 100%|██████████████████████████████████████████████████████████████████████████████████████████████████████████████████████████████| 25/25 [00:48<00:00,  1.94s/it]\n",
      "Epoch 15/30 - Avg val Loss: 0.353881: 100%|██████████████████████████████████████████████████████████████████████████████████████████████████████████████████████████████████| 7/7 [00:11<00:00,  1.67s/it]\n",
      "Epoch 16/30 - Avg train Loss: 0.220520: 100%|██████████████████████████████████████████████████████████████████████████████████████████████████████████████████████████████| 25/25 [00:49<00:00,  1.97s/it]\n",
      "Epoch 16/30 - Avg val Loss: 0.343639: 100%|██████████████████████████████████████████████████████████████████████████████████████████████████████████████████████████████████| 7/7 [00:13<00:00,  1.88s/it]\n",
      "Epoch 17/30 - Avg train Loss: 0.220095: 100%|██████████████████████████████████████████████████████████████████████████████████████████████████████████████████████████████| 25/25 [00:52<00:00,  2.10s/it]\n",
      "Epoch 17/30 - Avg val Loss: 0.347108: 100%|██████████████████████████████████████████████████████████████████████████████████████████████████████████████████████████████████| 7/7 [00:12<00:00,  1.78s/it]\n",
      "Epoch 18/30 - Avg train Loss: 0.220117: 100%|██████████████████████████████████████████████████████████████████████████████████████████████████████████████████████████████| 25/25 [00:51<00:00,  2.05s/it]\n",
      "Epoch 18/30 - Avg val Loss: 0.342948: 100%|██████████████████████████████████████████████████████████████████████████████████████████████████████████████████████████████████| 7/7 [00:11<00:00,  1.65s/it]\n",
      "Epoch 19/30 - Avg train Loss: 0.220150: 100%|██████████████████████████████████████████████████████████████████████████████████████████████████████████████████████████████| 25/25 [00:51<00:00,  2.05s/it]\n",
      "Epoch 19/30 - Avg val Loss: 0.328595: 100%|██████████████████████████████████████████████████████████████████████████████████████████████████████████████████████████████████| 7/7 [00:11<00:00,  1.68s/it]\n",
      "Epoch 20/30 - Avg train Loss: 0.220215: 100%|██████████████████████████████████████████████████████████████████████████████████████████████████████████████████████████████| 25/25 [00:53<00:00,  2.14s/it]\n",
      "Epoch 20/30 - Avg val Loss: 0.345834: 100%|██████████████████████████████████████████████████████████████████████████████████████████████████████████████████████████████████| 7/7 [00:12<00:00,  1.79s/it]\n",
      "Epoch 21/30 - Avg train Loss: 0.220157: 100%|██████████████████████████████████████████████████████████████████████████████████████████████████████████████████████████████| 25/25 [00:53<00:00,  2.14s/it]\n",
      "Epoch 21/30 - Avg val Loss: 0.371115: 100%|██████████████████████████████████████████████████████████████████████████████████████████████████████████████████████████████████| 7/7 [00:12<00:00,  1.73s/it]\n",
      "Epoch 22/30 - Avg train Loss: 0.220189: 100%|██████████████████████████████████████████████████████████████████████████████████████████████████████████████████████████████| 25/25 [00:53<00:00,  2.12s/it]\n",
      "Epoch 22/30 - Avg val Loss: 0.356616: 100%|██████████████████████████████████████████████████████████████████████████████████████████████████████████████████████████████████| 7/7 [00:13<00:00,  1.95s/it]\n",
      "Epoch 23/30 - Avg train Loss: 0.220095: 100%|██████████████████████████████████████████████████████████████████████████████████████████████████████████████████████████████| 25/25 [00:53<00:00,  2.12s/it]\n",
      "Epoch 23/30 - Avg val Loss: 0.348237: 100%|██████████████████████████████████████████████████████████████████████████████████████████████████████████████████████████████████| 7/7 [00:13<00:00,  1.99s/it]\n",
      "Epoch 24/30 - Avg train Loss: 0.220214: 100%|██████████████████████████████████████████████████████████████████████████████████████████████████████████████████████████████| 25/25 [00:52<00:00,  2.11s/it]\n",
      "Epoch 24/30 - Avg val Loss: 0.338780: 100%|██████████████████████████████████████████████████████████████████████████████████████████████████████████████████████████████████| 7/7 [00:12<00:00,  1.84s/it]\n",
      "Epoch 25/30 - Avg train Loss: 0.219863: 100%|██████████████████████████████████████████████████████████████████████████████████████████████████████████████████████████████| 25/25 [00:52<00:00,  2.09s/it]\n",
      "Epoch 25/30 - Avg val Loss: 0.343428: 100%|██████████████████████████████████████████████████████████████████████████████████████████████████████████████████████████████████| 7/7 [00:12<00:00,  1.80s/it]\n",
      "Epoch 26/30 - Avg train Loss: 0.220027: 100%|██████████████████████████████████████████████████████████████████████████████████████████████████████████████████████████████| 25/25 [00:52<00:00,  2.12s/it]\n",
      "Epoch 26/30 - Avg val Loss: 0.325439: 100%|██████████████████████████████████████████████████████████████████████████████████████████████████████████████████████████████████| 7/7 [00:12<00:00,  1.85s/it]\n",
      "Epoch 27/30 - Avg train Loss: 0.219909: 100%|██████████████████████████████████████████████████████████████████████████████████████████████████████████████████████████████| 25/25 [00:52<00:00,  2.10s/it]\n",
      "Epoch 27/30 - Avg val Loss: 0.291996: 100%|██████████████████████████████████████████████████████████████████████████████████████████████████████████████████████████████████| 7/7 [00:12<00:00,  1.85s/it]\n"
     ]
    },
    {
     "name": "stdout",
     "output_type": "stream",
     "text": [
      "New best model found at epoch 27 with validation loss: 0.2920. Model saved to models/royal-sweep-8_2024-07-24_02-25.pth\n"
     ]
    },
    {
     "name": "stderr",
     "output_type": "stream",
     "text": [
      "Epoch 28/30 - Avg train Loss: 0.219860: 100%|██████████████████████████████████████████████████████████████████████████████████████████████████████████████████████████████| 25/25 [00:51<00:00,  2.05s/it]\n",
      "Epoch 28/30 - Avg val Loss: 0.284510: 100%|██████████████████████████████████████████████████████████████████████████████████████████████████████████████████████████████████| 7/7 [00:12<00:00,  1.83s/it]\n"
     ]
    },
    {
     "name": "stdout",
     "output_type": "stream",
     "text": [
      "New best model found at epoch 28 with validation loss: 0.2845. Model saved to models/royal-sweep-8_2024-07-24_02-25.pth\n"
     ]
    },
    {
     "name": "stderr",
     "output_type": "stream",
     "text": [
      "Epoch 29/30 - Avg train Loss: 0.220813: 100%|██████████████████████████████████████████████████████████████████████████████████████████████████████████████████████████████| 25/25 [00:49<00:00,  1.98s/it]\n",
      "Epoch 29/30 - Avg val Loss: 0.297873: 100%|██████████████████████████████████████████████████████████████████████████████████████████████████████████████████████████████████| 7/7 [00:13<00:00,  1.94s/it]\n",
      "Epoch 30/30 - Avg train Loss: 0.219978: 100%|██████████████████████████████████████████████████████████████████████████████████████████████████████████████████████████████| 25/25 [00:47<00:00,  1.90s/it]\n",
      "Epoch 30/30 - Avg val Loss: 0.315372: 100%|██████████████████████████████████████████████████████████████████████████████████████████████████████████████████████████████████| 7/7 [00:14<00:00,  2.04s/it]\n"
     ]
    },
    {
     "data": {
      "application/vnd.jupyter.widget-view+json": {
       "model_id": "",
       "version_major": 2,
       "version_minor": 0
      },
      "text/plain": [
       "VBox(children=(Label(value='0.008 MB of 0.008 MB uploaded\\r'), FloatProgress(value=1.0, max=1.0)))"
      ]
     },
     "metadata": {},
     "output_type": "display_data"
    },
    {
     "data": {
      "text/html": [
       "<style>\n",
       "    table.wandb td:nth-child(1) { padding: 0 10px; text-align: left ; width: auto;} td:nth-child(2) {text-align: left ; width: 100%}\n",
       "    .wandb-row { display: flex; flex-direction: row; flex-wrap: wrap; justify-content: flex-start; width: 100% }\n",
       "    .wandb-col { display: flex; flex-direction: column; flex-basis: 100%; flex: 1; padding: 10px; }\n",
       "    </style>\n",
       "<div class=\"wandb-row\"><div class=\"wandb-col\"><h3>Run history:</h3><br/><table class=\"wandb\"><tr><td>accuracy</td><td>▂▃█▆▃▄▆▃▆▆▁▃▃▄▃▃▃▄▅▄▃▄▄▄▄▅▆▆▅▄</td></tr><tr><td>auprc</td><td>▅▅▇▄▇▁▅▁▄▇▅▇▇▇▅▅▅▅▅▆▅▅▅▆▅████▅</td></tr><tr><td>auroc</td><td>▅▅▇▄▆▂▅▁▄▇▄▆▆▆▅▅▄▅▅▆▅▅▅▆▅████▆</td></tr><tr><td>avg_train_loss</td><td>█▄▄▃▂▂▂▁▁▁▁▁▁▁▁▁▁▁▁▁▁▁▁▁▁▁▁▁▁▁</td></tr><tr><td>avg_val_loss</td><td>▃█▄▄▁▅▄▆▃▂▃▂▂▂▃▂▂▂▂▂▃▃▂▂▂▂▁▁▁▂</td></tr><tr><td>sensitivity</td><td>▅▄█▄▆█▅▁▃▇▅▆▇▆▅▄▄▄█▅▅▄▄▅▄█████</td></tr><tr><td>specificity</td><td>▇██▇█▁████████████▄██████████▅</td></tr></table><br/></div><div class=\"wandb-col\"><h3>Run summary:</h3><br/><table class=\"wandb\"><tr><td>accuracy</td><td>0.62</td></tr><tr><td>auprc</td><td>0.90155</td></tr><tr><td>auroc</td><td>0.8856</td></tr><tr><td>avg_train_loss</td><td>0.21998</td></tr><tr><td>avg_val_loss</td><td>0.31537</td></tr><tr><td>sensitivity</td><td>1.0</td></tr><tr><td>specificity</td><td>0.78</td></tr></table><br/></div></div>"
      ],
      "text/plain": [
       "<IPython.core.display.HTML object>"
      ]
     },
     "metadata": {},
     "output_type": "display_data"
    },
    {
     "data": {
      "text/html": [
       " View run <strong style=\"color:#cdcd00\">royal-sweep-8</strong> at: <a href='https://wandb.ai/miccai-challenge-2024/task2/runs/0o3c5p5g' target=\"_blank\">https://wandb.ai/miccai-challenge-2024/task2/runs/0o3c5p5g</a><br/> View project at: <a href='https://wandb.ai/miccai-challenge-2024/task2' target=\"_blank\">https://wandb.ai/miccai-challenge-2024/task2</a><br/>Synced 6 W&B file(s), 0 media file(s), 0 artifact file(s) and 0 other file(s)"
      ],
      "text/plain": [
       "<IPython.core.display.HTML object>"
      ]
     },
     "metadata": {},
     "output_type": "display_data"
    },
    {
     "data": {
      "text/html": [
       "Find logs at: <code>./wandb/run-20240724_022539-0o3c5p5g/logs</code>"
      ],
      "text/plain": [
       "<IPython.core.display.HTML object>"
      ]
     },
     "metadata": {},
     "output_type": "display_data"
    },
    {
     "name": "stdout",
     "output_type": "stream",
     "text": [
      "Finished training\n"
     ]
    },
    {
     "name": "stderr",
     "output_type": "stream",
     "text": [
      "\u001b[34m\u001b[1mwandb\u001b[0m: Agent Starting Run: h5f1inwv with config:\n",
      "\u001b[34m\u001b[1mwandb\u001b[0m: \tbatch_size: 16\n",
      "\u001b[34m\u001b[1mwandb\u001b[0m: \tepochs: 30\n",
      "\u001b[34m\u001b[1mwandb\u001b[0m: \tloss_weight: 0.5\n",
      "\u001b[34m\u001b[1mwandb\u001b[0m: \tlr: 0.001\n",
      "\u001b[34m\u001b[1mwandb\u001b[0m: \tlr_schedule_factor: 0.1\n",
      "\u001b[34m\u001b[1mwandb\u001b[0m: \tlr_schedule_patience: 5\n",
      "\u001b[34m\u001b[1mwandb\u001b[0m: \tmodel: Task2EfficientNetB0\n",
      "\u001b[34m\u001b[1mwandb\u001b[0m: \tp_affine: 0.3\n",
      "\u001b[34m\u001b[1mwandb\u001b[0m: \tp_clahe: 0.3\n",
      "\u001b[34m\u001b[1mwandb\u001b[0m: \tp_equalize: 0\n",
      "\u001b[34m\u001b[1mwandb\u001b[0m: \tp_gaussblur: 0\n",
      "\u001b[34m\u001b[1mwandb\u001b[0m: \tp_horizontalflip: 0.5\n",
      "\u001b[34m\u001b[1mwandb\u001b[0m: \tresampling_strategy: undersampling\n",
      "\u001b[34m\u001b[1mwandb\u001b[0m: \trotation: 10\n",
      "\u001b[34m\u001b[1mwandb\u001b[0m: \u001b[33mWARNING\u001b[0m Ignored wandb.init() arg project when running a sweep.\n"
     ]
    },
    {
     "data": {
      "text/html": [
       "wandb version 0.17.5 is available!  To upgrade, please run:\n",
       " $ pip install wandb --upgrade"
      ],
      "text/plain": [
       "<IPython.core.display.HTML object>"
      ]
     },
     "metadata": {},
     "output_type": "display_data"
    },
    {
     "data": {
      "text/html": [
       "Tracking run with wandb version 0.17.0"
      ],
      "text/plain": [
       "<IPython.core.display.HTML object>"
      ]
     },
     "metadata": {},
     "output_type": "display_data"
    },
    {
     "data": {
      "text/html": [
       "Run data is saved locally in <code>/home/optima/mhaderer/AILS-MICCAI-UWF4DR-Challenge/wandb/run-20240724_025625-h5f1inwv</code>"
      ],
      "text/plain": [
       "<IPython.core.display.HTML object>"
      ]
     },
     "metadata": {},
     "output_type": "display_data"
    },
    {
     "data": {
      "text/html": [
       "Syncing run <strong><a href='https://wandb.ai/miccai-challenge-2024/task2/runs/h5f1inwv' target=\"_blank\">comic-sweep-9</a></strong> to <a href='https://wandb.ai/miccai-challenge-2024/task2' target=\"_blank\">Weights & Biases</a> (<a href='https://wandb.me/run' target=\"_blank\">docs</a>)<br/>Sweep page: <a href='https://wandb.ai/miccai-challenge-2024/task2/sweeps/eo1h97d3' target=\"_blank\">https://wandb.ai/miccai-challenge-2024/task2/sweeps/eo1h97d3</a>"
      ],
      "text/plain": [
       "<IPython.core.display.HTML object>"
      ]
     },
     "metadata": {},
     "output_type": "display_data"
    },
    {
     "data": {
      "text/html": [
       " View project at <a href='https://wandb.ai/miccai-challenge-2024/task2' target=\"_blank\">https://wandb.ai/miccai-challenge-2024/task2</a>"
      ],
      "text/plain": [
       "<IPython.core.display.HTML object>"
      ]
     },
     "metadata": {},
     "output_type": "display_data"
    },
    {
     "data": {
      "text/html": [
       " View sweep at <a href='https://wandb.ai/miccai-challenge-2024/task2/sweeps/eo1h97d3' target=\"_blank\">https://wandb.ai/miccai-challenge-2024/task2/sweeps/eo1h97d3</a>"
      ],
      "text/plain": [
       "<IPython.core.display.HTML object>"
      ]
     },
     "metadata": {},
     "output_type": "display_data"
    },
    {
     "data": {
      "text/html": [
       " View run at <a href='https://wandb.ai/miccai-challenge-2024/task2/runs/h5f1inwv' target=\"_blank\">https://wandb.ai/miccai-challenge-2024/task2/runs/h5f1inwv</a>"
      ],
      "text/plain": [
       "<IPython.core.display.HTML object>"
      ]
     },
     "metadata": {},
     "output_type": "display_data"
    },
    {
     "name": "stdout",
     "output_type": "stream",
     "text": [
      "Using device: cuda\n",
      "Loaded pretrained weights for efficientnet-b0\n",
      "Now train train train\n"
     ]
    },
    {
     "name": "stderr",
     "output_type": "stream",
     "text": [
      "Epoch 1/30 - Avg train Loss: 0.368917: 100%|███████████████████████████████████████████████████████████████████████████████████████████████████████████████████████████████| 15/15 [00:26<00:00,  1.75s/it]\n",
      "Epoch 1/30 - Avg val Loss: 0.365768: 100%|███████████████████████████████████████████████████████████████████████████████████████████████████████████████████████████████████| 4/4 [00:06<00:00,  1.66s/it]\n"
     ]
    },
    {
     "name": "stdout",
     "output_type": "stream",
     "text": [
      "New best model found at epoch 1 with validation loss: 0.3658. Model saved to models/comic-sweep-9_2024-07-24_02-56.pth\n"
     ]
    },
    {
     "name": "stderr",
     "output_type": "stream",
     "text": [
      "Epoch 2/30 - Avg train Loss: 0.307567: 100%|███████████████████████████████████████████████████████████████████████████████████████████████████████████████████████████████| 15/15 [00:26<00:00,  1.78s/it]\n",
      "Epoch 2/30 - Avg val Loss: 0.391485: 100%|███████████████████████████████████████████████████████████████████████████████████████████████████████████████████████████████████| 4/4 [00:06<00:00,  1.60s/it]\n",
      "Epoch 3/30 - Avg train Loss: 0.307894: 100%|███████████████████████████████████████████████████████████████████████████████████████████████████████████████████████████████| 15/15 [00:25<00:00,  1.72s/it]\n",
      "Epoch 3/30 - Avg val Loss: 0.417806: 100%|███████████████████████████████████████████████████████████████████████████████████████████████████████████████████████████████████| 4/4 [00:06<00:00,  1.60s/it]\n",
      "Epoch 4/30 - Avg train Loss: 0.259275: 100%|███████████████████████████████████████████████████████████████████████████████████████████████████████████████████████████████| 15/15 [00:25<00:00,  1.71s/it]\n",
      "Epoch 4/30 - Avg val Loss: 0.381429: 100%|███████████████████████████████████████████████████████████████████████████████████████████████████████████████████████████████████| 4/4 [00:06<00:00,  1.53s/it]\n",
      "Epoch 5/30 - Avg train Loss: 0.270272: 100%|███████████████████████████████████████████████████████████████████████████████████████████████████████████████████████████████| 15/15 [00:25<00:00,  1.72s/it]\n",
      "Epoch 5/30 - Avg val Loss: 0.365331: 100%|███████████████████████████████████████████████████████████████████████████████████████████████████████████████████████████████████| 4/4 [00:05<00:00,  1.48s/it]\n"
     ]
    },
    {
     "name": "stdout",
     "output_type": "stream",
     "text": [
      "New best model found at epoch 5 with validation loss: 0.3653. Model saved to models/comic-sweep-9_2024-07-24_02-56.pth\n"
     ]
    },
    {
     "name": "stderr",
     "output_type": "stream",
     "text": [
      "Epoch 6/30 - Avg train Loss: 0.273177: 100%|███████████████████████████████████████████████████████████████████████████████████████████████████████████████████████████████| 15/15 [00:26<00:00,  1.73s/it]\n",
      "Epoch 6/30 - Avg val Loss: 0.315742: 100%|███████████████████████████████████████████████████████████████████████████████████████████████████████████████████████████████████| 4/4 [00:06<00:00,  1.58s/it]\n"
     ]
    },
    {
     "name": "stdout",
     "output_type": "stream",
     "text": [
      "New best model found at epoch 6 with validation loss: 0.3157. Model saved to models/comic-sweep-9_2024-07-24_02-56.pth\n"
     ]
    },
    {
     "name": "stderr",
     "output_type": "stream",
     "text": [
      "Epoch 7/30 - Avg train Loss: 0.254919: 100%|███████████████████████████████████████████████████████████████████████████████████████████████████████████████████████████████| 15/15 [00:25<00:00,  1.73s/it]\n",
      "Epoch 7/30 - Avg val Loss: 0.341083: 100%|███████████████████████████████████████████████████████████████████████████████████████████████████████████████████████████████████| 4/4 [00:06<00:00,  1.50s/it]\n",
      "Epoch 8/30 - Avg train Loss: 0.255651: 100%|███████████████████████████████████████████████████████████████████████████████████████████████████████████████████████████████| 15/15 [00:25<00:00,  1.69s/it]\n",
      "Epoch 8/30 - Avg val Loss: 0.404507: 100%|███████████████████████████████████████████████████████████████████████████████████████████████████████████████████████████████████| 4/4 [00:06<00:00,  1.55s/it]\n",
      "Epoch 9/30 - Avg train Loss: 0.255212: 100%|███████████████████████████████████████████████████████████████████████████████████████████████████████████████████████████████| 15/15 [00:24<00:00,  1.66s/it]\n",
      "Epoch 9/30 - Avg val Loss: 0.316732: 100%|███████████████████████████████████████████████████████████████████████████████████████████████████████████████████████████████████| 4/4 [00:05<00:00,  1.46s/it]\n",
      "Epoch 10/30 - Avg train Loss: 0.248902: 100%|██████████████████████████████████████████████████████████████████████████████████████████████████████████████████████████████| 15/15 [00:25<00:00,  1.69s/it]\n",
      "Epoch 10/30 - Avg val Loss: 0.354501: 100%|██████████████████████████████████████████████████████████████████████████████████████████████████████████████████████████████████| 4/4 [00:05<00:00,  1.49s/it]\n",
      "Epoch 11/30 - Avg train Loss: 0.243861: 100%|██████████████████████████████████████████████████████████████████████████████████████████████████████████████████████████████| 15/15 [00:24<00:00,  1.65s/it]\n",
      "Epoch 11/30 - Avg val Loss: 0.312322: 100%|██████████████████████████████████████████████████████████████████████████████████████████████████████████████████████████████████| 4/4 [00:06<00:00,  1.61s/it]\n"
     ]
    },
    {
     "name": "stdout",
     "output_type": "stream",
     "text": [
      "New best model found at epoch 11 with validation loss: 0.3123. Model saved to models/comic-sweep-9_2024-07-24_02-56.pth\n"
     ]
    },
    {
     "name": "stderr",
     "output_type": "stream",
     "text": [
      "Epoch 12/30 - Avg train Loss: 0.241981: 100%|██████████████████████████████████████████████████████████████████████████████████████████████████████████████████████████████| 15/15 [00:26<00:00,  1.76s/it]\n",
      "Epoch 12/30 - Avg val Loss: 0.319246: 100%|██████████████████████████████████████████████████████████████████████████████████████████████████████████████████████████████████| 4/4 [00:06<00:00,  1.61s/it]\n",
      "Epoch 13/30 - Avg train Loss: 0.233674: 100%|██████████████████████████████████████████████████████████████████████████████████████████████████████████████████████████████| 15/15 [00:26<00:00,  1.78s/it]\n",
      "Epoch 13/30 - Avg val Loss: 0.322971: 100%|██████████████████████████████████████████████████████████████████████████████████████████████████████████████████████████████████| 4/4 [00:06<00:00,  1.62s/it]\n",
      "Epoch 14/30 - Avg train Loss: 0.238499: 100%|██████████████████████████████████████████████████████████████████████████████████████████████████████████████████████████████| 15/15 [00:26<00:00,  1.75s/it]\n",
      "Epoch 14/30 - Avg val Loss: 0.591652: 100%|██████████████████████████████████████████████████████████████████████████████████████████████████████████████████████████████████| 4/4 [00:06<00:00,  1.60s/it]\n",
      "Epoch 15/30 - Avg train Loss: 0.242007: 100%|██████████████████████████████████████████████████████████████████████████████████████████████████████████████████████████████| 15/15 [00:26<00:00,  1.74s/it]\n",
      "Epoch 15/30 - Avg val Loss: 0.381730: 100%|██████████████████████████████████████████████████████████████████████████████████████████████████████████████████████████████████| 4/4 [00:06<00:00,  1.60s/it]\n",
      "Epoch 16/30 - Avg train Loss: 0.241347: 100%|██████████████████████████████████████████████████████████████████████████████████████████████████████████████████████████████| 15/15 [00:26<00:00,  1.78s/it]\n",
      "Epoch 16/30 - Avg val Loss: 0.451976: 100%|██████████████████████████████████████████████████████████████████████████████████████████████████████████████████████████████████| 4/4 [00:06<00:00,  1.52s/it]\n",
      "Epoch 17/30 - Avg train Loss: 0.236011: 100%|██████████████████████████████████████████████████████████████████████████████████████████████████████████████████████████████| 15/15 [00:25<00:00,  1.73s/it]\n",
      "Epoch 17/30 - Avg val Loss: 0.286013: 100%|██████████████████████████████████████████████████████████████████████████████████████████████████████████████████████████████████| 4/4 [00:06<00:00,  1.53s/it]\n"
     ]
    },
    {
     "name": "stdout",
     "output_type": "stream",
     "text": [
      "New best model found at epoch 17 with validation loss: 0.2860. Model saved to models/comic-sweep-9_2024-07-24_02-56.pth\n"
     ]
    },
    {
     "name": "stderr",
     "output_type": "stream",
     "text": [
      "Epoch 18/30 - Avg train Loss: 0.231178: 100%|██████████████████████████████████████████████████████████████████████████████████████████████████████████████████████████████| 15/15 [00:25<00:00,  1.72s/it]\n",
      "Epoch 18/30 - Avg val Loss: 0.306649: 100%|██████████████████████████████████████████████████████████████████████████████████████████████████████████████████████████████████| 4/4 [00:06<00:00,  1.53s/it]\n",
      "Epoch 19/30 - Avg train Loss: 0.230932: 100%|██████████████████████████████████████████████████████████████████████████████████████████████████████████████████████████████| 15/15 [00:26<00:00,  1.79s/it]\n",
      "Epoch 19/30 - Avg val Loss: 0.279198: 100%|██████████████████████████████████████████████████████████████████████████████████████████████████████████████████████████████████| 4/4 [00:06<00:00,  1.70s/it]\n"
     ]
    },
    {
     "name": "stdout",
     "output_type": "stream",
     "text": [
      "New best model found at epoch 19 with validation loss: 0.2792. Model saved to models/comic-sweep-9_2024-07-24_02-56.pth\n"
     ]
    },
    {
     "name": "stderr",
     "output_type": "stream",
     "text": [
      "Epoch 20/30 - Avg train Loss: 0.236597: 100%|██████████████████████████████████████████████████████████████████████████████████████████████████████████████████████████████| 15/15 [00:25<00:00,  1.72s/it]\n",
      "Epoch 20/30 - Avg val Loss: 0.352891: 100%|██████████████████████████████████████████████████████████████████████████████████████████████████████████████████████████████████| 4/4 [00:06<00:00,  1.68s/it]\n",
      "Epoch 21/30 - Avg train Loss: 0.231069: 100%|██████████████████████████████████████████████████████████████████████████████████████████████████████████████████████████████| 15/15 [00:25<00:00,  1.70s/it]\n",
      "Epoch 21/30 - Avg val Loss: 0.356022: 100%|██████████████████████████████████████████████████████████████████████████████████████████████████████████████████████████████████| 4/4 [00:06<00:00,  1.52s/it]\n",
      "Epoch 22/30 - Avg train Loss: 0.235039: 100%|██████████████████████████████████████████████████████████████████████████████████████████████████████████████████████████████| 15/15 [00:25<00:00,  1.72s/it]\n",
      "Epoch 22/30 - Avg val Loss: 0.370789: 100%|██████████████████████████████████████████████████████████████████████████████████████████████████████████████████████████████████| 4/4 [00:06<00:00,  1.57s/it]\n",
      "Epoch 23/30 - Avg train Loss: 0.228353: 100%|██████████████████████████████████████████████████████████████████████████████████████████████████████████████████████████████| 15/15 [00:26<00:00,  1.78s/it]\n",
      "Epoch 23/30 - Avg val Loss: 0.321812: 100%|██████████████████████████████████████████████████████████████████████████████████████████████████████████████████████████████████| 4/4 [00:06<00:00,  1.54s/it]\n",
      "Epoch 24/30 - Avg train Loss: 0.227694: 100%|██████████████████████████████████████████████████████████████████████████████████████████████████████████████████████████████| 15/15 [00:26<00:00,  1.76s/it]\n",
      "Epoch 24/30 - Avg val Loss: 0.299853: 100%|██████████████████████████████████████████████████████████████████████████████████████████████████████████████████████████████████| 4/4 [00:06<00:00,  1.57s/it]\n",
      "Epoch 25/30 - Avg train Loss: 0.227414: 100%|██████████████████████████████████████████████████████████████████████████████████████████████████████████████████████████████| 15/15 [00:26<00:00,  1.76s/it]\n",
      "Epoch 25/30 - Avg val Loss: 0.293364: 100%|██████████████████████████████████████████████████████████████████████████████████████████████████████████████████████████████████| 4/4 [00:06<00:00,  1.53s/it]\n",
      "Epoch 26/30 - Avg train Loss: 0.227310: 100%|██████████████████████████████████████████████████████████████████████████████████████████████████████████████████████████████| 15/15 [00:26<00:00,  1.73s/it]\n",
      "Epoch 26/30 - Avg val Loss: 0.289225: 100%|██████████████████████████████████████████████████████████████████████████████████████████████████████████████████████████████████| 4/4 [00:06<00:00,  1.62s/it]\n",
      "Epoch 27/30 - Avg train Loss: 0.224725: 100%|██████████████████████████████████████████████████████████████████████████████████████████████████████████████████████████████| 15/15 [00:25<00:00,  1.70s/it]\n",
      "Epoch 27/30 - Avg val Loss: 0.287260: 100%|██████████████████████████████████████████████████████████████████████████████████████████████████████████████████████████████████| 4/4 [00:06<00:00,  1.55s/it]\n",
      "Epoch 28/30 - Avg train Loss: 0.222861: 100%|██████████████████████████████████████████████████████████████████████████████████████████████████████████████████████████████| 15/15 [00:26<00:00,  1.75s/it]\n",
      "Epoch 28/30 - Avg val Loss: 0.280128: 100%|██████████████████████████████████████████████████████████████████████████████████████████████████████████████████████████████████| 4/4 [00:06<00:00,  1.55s/it]\n",
      "Epoch 29/30 - Avg train Loss: 0.225336: 100%|██████████████████████████████████████████████████████████████████████████████████████████████████████████████████████████████| 15/15 [00:25<00:00,  1.73s/it]\n",
      "Epoch 29/30 - Avg val Loss: 0.278271: 100%|██████████████████████████████████████████████████████████████████████████████████████████████████████████████████████████████████| 4/4 [00:06<00:00,  1.65s/it]\n"
     ]
    },
    {
     "name": "stdout",
     "output_type": "stream",
     "text": [
      "New best model found at epoch 29 with validation loss: 0.2783. Model saved to models/comic-sweep-9_2024-07-24_02-56.pth\n"
     ]
    },
    {
     "name": "stderr",
     "output_type": "stream",
     "text": [
      "Epoch 30/30 - Avg train Loss: 0.222621: 100%|██████████████████████████████████████████████████████████████████████████████████████████████████████████████████████████████| 15/15 [00:25<00:00,  1.72s/it]\n",
      "Epoch 30/30 - Avg val Loss: 0.278220: 100%|██████████████████████████████████████████████████████████████████████████████████████████████████████████████████████████████████| 4/4 [00:06<00:00,  1.56s/it]\n"
     ]
    },
    {
     "name": "stdout",
     "output_type": "stream",
     "text": [
      "New best model found at epoch 30 with validation loss: 0.2782. Model saved to models/comic-sweep-9_2024-07-24_02-56.pth\n"
     ]
    },
    {
     "data": {
      "application/vnd.jupyter.widget-view+json": {
       "model_id": "",
       "version_major": 2,
       "version_minor": 0
      },
      "text/plain": [
       "VBox(children=(Label(value='0.008 MB of 0.008 MB uploaded\\r'), FloatProgress(value=1.0, max=1.0)))"
      ]
     },
     "metadata": {},
     "output_type": "display_data"
    },
    {
     "data": {
      "text/html": [
       "<style>\n",
       "    table.wandb td:nth-child(1) { padding: 0 10px; text-align: left ; width: auto;} td:nth-child(2) {text-align: left ; width: 100%}\n",
       "    .wandb-row { display: flex; flex-direction: row; flex-wrap: wrap; justify-content: flex-start; width: 100% }\n",
       "    .wandb-col { display: flex; flex-direction: column; flex-basis: 100%; flex: 1; padding: 10px; }\n",
       "    </style>\n",
       "<div class=\"wandb-row\"><div class=\"wandb-col\"><h3>Run history:</h3><br/><table class=\"wandb\"><tr><td>accuracy</td><td>▆▅▅▆▇▇▄▆▇▇▇▇▄▁▇▃▇▆▇▅▆▇▇▇▇▇▇█▇▇</td></tr><tr><td>auprc</td><td>▇▇▇▇█▇▇▇▇█▆█▇▁█▅███▆▆▇████████</td></tr><tr><td>auroc</td><td>▇▇▇▇█▇▇▅▇█▇█▇▁▇▅███▆▇▆▇▇██▇███</td></tr><tr><td>avg_train_loss</td><td>█▅▅▃▃▃▃▃▃▂▂▂▂▂▂▂▂▁▁▂▁▂▁▁▁▁▁▁▁▁</td></tr><tr><td>avg_val_loss</td><td>▃▄▄▃▃▂▂▄▂▃▂▂▂█▃▅▁▂▁▃▃▃▂▁▁▁▁▁▁▁</td></tr><tr><td>sensitivity</td><td>▆▅▅█▃▃█▂▃▁▆▇▇▅▃▇▂▃▅▁▃▂▃▁▃▃▆▆▆▆</td></tr><tr><td>specificity</td><td>▅▆▇▅▇▇▄▇▆▇▆▅▅▁▇▂███▄▆█▇█▇▇▇▇▇▇</td></tr></table><br/></div><div class=\"wandb-col\"><h3>Run summary:</h3><br/><table class=\"wandb\"><tr><td>accuracy</td><td>0.88333</td></tr><tr><td>auprc</td><td>0.95879</td></tr><tr><td>auroc</td><td>0.93444</td></tr><tr><td>avg_train_loss</td><td>0.22262</td></tr><tr><td>avg_val_loss</td><td>0.27822</td></tr><tr><td>sensitivity</td><td>0.9</td></tr><tr><td>specificity</td><td>0.96667</td></tr></table><br/></div></div>"
      ],
      "text/plain": [
       "<IPython.core.display.HTML object>"
      ]
     },
     "metadata": {},
     "output_type": "display_data"
    },
    {
     "data": {
      "text/html": [
       " View run <strong style=\"color:#cdcd00\">comic-sweep-9</strong> at: <a href='https://wandb.ai/miccai-challenge-2024/task2/runs/h5f1inwv' target=\"_blank\">https://wandb.ai/miccai-challenge-2024/task2/runs/h5f1inwv</a><br/> View project at: <a href='https://wandb.ai/miccai-challenge-2024/task2' target=\"_blank\">https://wandb.ai/miccai-challenge-2024/task2</a><br/>Synced 6 W&B file(s), 0 media file(s), 0 artifact file(s) and 0 other file(s)"
      ],
      "text/plain": [
       "<IPython.core.display.HTML object>"
      ]
     },
     "metadata": {},
     "output_type": "display_data"
    },
    {
     "data": {
      "text/html": [
       "Find logs at: <code>./wandb/run-20240724_025625-h5f1inwv/logs</code>"
      ],
      "text/plain": [
       "<IPython.core.display.HTML object>"
      ]
     },
     "metadata": {},
     "output_type": "display_data"
    },
    {
     "name": "stdout",
     "output_type": "stream",
     "text": [
      "Finished training\n"
     ]
    },
    {
     "name": "stderr",
     "output_type": "stream",
     "text": [
      "\u001b[34m\u001b[1mwandb\u001b[0m: Agent Starting Run: iewf1cbo with config:\n",
      "\u001b[34m\u001b[1mwandb\u001b[0m: \tbatch_size: 16\n",
      "\u001b[34m\u001b[1mwandb\u001b[0m: \tepochs: 30\n",
      "\u001b[34m\u001b[1mwandb\u001b[0m: \tloss_weight: 0.5\n",
      "\u001b[34m\u001b[1mwandb\u001b[0m: \tlr: 0.001\n",
      "\u001b[34m\u001b[1mwandb\u001b[0m: \tlr_schedule_factor: 0.1\n",
      "\u001b[34m\u001b[1mwandb\u001b[0m: \tlr_schedule_patience: 5\n",
      "\u001b[34m\u001b[1mwandb\u001b[0m: \tmodel: Task2EfficientNetB0\n",
      "\u001b[34m\u001b[1mwandb\u001b[0m: \tp_affine: 0.3\n",
      "\u001b[34m\u001b[1mwandb\u001b[0m: \tp_clahe: 0.3\n",
      "\u001b[34m\u001b[1mwandb\u001b[0m: \tp_equalize: 0\n",
      "\u001b[34m\u001b[1mwandb\u001b[0m: \tp_gaussblur: 0\n",
      "\u001b[34m\u001b[1mwandb\u001b[0m: \tp_horizontalflip: 0.5\n",
      "\u001b[34m\u001b[1mwandb\u001b[0m: \tresampling_strategy: undersampling\n",
      "\u001b[34m\u001b[1mwandb\u001b[0m: \trotation: 10\n",
      "\u001b[34m\u001b[1mwandb\u001b[0m: \u001b[33mWARNING\u001b[0m Ignored wandb.init() arg project when running a sweep.\n"
     ]
    },
    {
     "data": {
      "text/html": [
       "wandb version 0.17.5 is available!  To upgrade, please run:\n",
       " $ pip install wandb --upgrade"
      ],
      "text/plain": [
       "<IPython.core.display.HTML object>"
      ]
     },
     "metadata": {},
     "output_type": "display_data"
    },
    {
     "data": {
      "text/html": [
       "Tracking run with wandb version 0.17.0"
      ],
      "text/plain": [
       "<IPython.core.display.HTML object>"
      ]
     },
     "metadata": {},
     "output_type": "display_data"
    },
    {
     "data": {
      "text/html": [
       "Run data is saved locally in <code>/home/optima/mhaderer/AILS-MICCAI-UWF4DR-Challenge/wandb/run-20240724_031257-iewf1cbo</code>"
      ],
      "text/plain": [
       "<IPython.core.display.HTML object>"
      ]
     },
     "metadata": {},
     "output_type": "display_data"
    },
    {
     "data": {
      "text/html": [
       "Syncing run <strong><a href='https://wandb.ai/miccai-challenge-2024/task2/runs/iewf1cbo' target=\"_blank\">stellar-sweep-10</a></strong> to <a href='https://wandb.ai/miccai-challenge-2024/task2' target=\"_blank\">Weights & Biases</a> (<a href='https://wandb.me/run' target=\"_blank\">docs</a>)<br/>Sweep page: <a href='https://wandb.ai/miccai-challenge-2024/task2/sweeps/eo1h97d3' target=\"_blank\">https://wandb.ai/miccai-challenge-2024/task2/sweeps/eo1h97d3</a>"
      ],
      "text/plain": [
       "<IPython.core.display.HTML object>"
      ]
     },
     "metadata": {},
     "output_type": "display_data"
    },
    {
     "data": {
      "text/html": [
       " View project at <a href='https://wandb.ai/miccai-challenge-2024/task2' target=\"_blank\">https://wandb.ai/miccai-challenge-2024/task2</a>"
      ],
      "text/plain": [
       "<IPython.core.display.HTML object>"
      ]
     },
     "metadata": {},
     "output_type": "display_data"
    },
    {
     "data": {
      "text/html": [
       " View sweep at <a href='https://wandb.ai/miccai-challenge-2024/task2/sweeps/eo1h97d3' target=\"_blank\">https://wandb.ai/miccai-challenge-2024/task2/sweeps/eo1h97d3</a>"
      ],
      "text/plain": [
       "<IPython.core.display.HTML object>"
      ]
     },
     "metadata": {},
     "output_type": "display_data"
    },
    {
     "data": {
      "text/html": [
       " View run at <a href='https://wandb.ai/miccai-challenge-2024/task2/runs/iewf1cbo' target=\"_blank\">https://wandb.ai/miccai-challenge-2024/task2/runs/iewf1cbo</a>"
      ],
      "text/plain": [
       "<IPython.core.display.HTML object>"
      ]
     },
     "metadata": {},
     "output_type": "display_data"
    },
    {
     "name": "stdout",
     "output_type": "stream",
     "text": [
      "Using device: cuda\n",
      "Loaded pretrained weights for efficientnet-b0\n",
      "Now train train train\n"
     ]
    },
    {
     "name": "stderr",
     "output_type": "stream",
     "text": [
      "Epoch 1/30 - Avg train Loss: 0.366572: 100%|███████████████████████████████████████████████████████████████████████████████████████████████████████████████████████████████| 15/15 [00:25<00:00,  1.69s/it]\n",
      "Epoch 1/30 - Avg val Loss: 0.362587: 100%|███████████████████████████████████████████████████████████████████████████████████████████████████████████████████████████████████| 4/4 [00:06<00:00,  1.51s/it]\n"
     ]
    },
    {
     "name": "stdout",
     "output_type": "stream",
     "text": [
      "New best model found at epoch 1 with validation loss: 0.3626. Model saved to models/stellar-sweep-10_2024-07-24_03-13.pth\n"
     ]
    },
    {
     "name": "stderr",
     "output_type": "stream",
     "text": [
      "Epoch 2/30 - Avg train Loss: 0.324864: 100%|███████████████████████████████████████████████████████████████████████████████████████████████████████████████████████████████| 15/15 [00:25<00:00,  1.68s/it]\n",
      "Epoch 2/30 - Avg val Loss: 0.549457: 100%|███████████████████████████████████████████████████████████████████████████████████████████████████████████████████████████████████| 4/4 [00:06<00:00,  1.55s/it]\n",
      "Epoch 3/30 - Avg train Loss: 0.286004: 100%|███████████████████████████████████████████████████████████████████████████████████████████████████████████████████████████████| 15/15 [00:25<00:00,  1.67s/it]\n",
      "Epoch 3/30 - Avg val Loss: 0.302408: 100%|███████████████████████████████████████████████████████████████████████████████████████████████████████████████████████████████████| 4/4 [00:05<00:00,  1.49s/it]\n"
     ]
    },
    {
     "name": "stdout",
     "output_type": "stream",
     "text": [
      "New best model found at epoch 3 with validation loss: 0.3024. Model saved to models/stellar-sweep-10_2024-07-24_03-13.pth\n"
     ]
    },
    {
     "name": "stderr",
     "output_type": "stream",
     "text": [
      "Epoch 4/30 - Avg train Loss: 0.275740: 100%|███████████████████████████████████████████████████████████████████████████████████████████████████████████████████████████████| 15/15 [00:24<00:00,  1.66s/it]\n",
      "Epoch 4/30 - Avg val Loss: 0.399366: 100%|███████████████████████████████████████████████████████████████████████████████████████████████████████████████████████████████████| 4/4 [00:06<00:00,  1.57s/it]\n",
      "Epoch 5/30 - Avg train Loss: 0.272406: 100%|███████████████████████████████████████████████████████████████████████████████████████████████████████████████████████████████| 15/15 [00:26<00:00,  1.76s/it]\n",
      "Epoch 5/30 - Avg val Loss: 0.336772: 100%|███████████████████████████████████████████████████████████████████████████████████████████████████████████████████████████████████| 4/4 [00:06<00:00,  1.56s/it]\n",
      "Epoch 6/30 - Avg train Loss: 0.257601: 100%|███████████████████████████████████████████████████████████████████████████████████████████████████████████████████████████████| 15/15 [00:26<00:00,  1.79s/it]\n",
      "Epoch 6/30 - Avg val Loss: 0.319571: 100%|███████████████████████████████████████████████████████████████████████████████████████████████████████████████████████████████████| 4/4 [00:06<00:00,  1.59s/it]\n",
      "Epoch 7/30 - Avg train Loss: 0.255196: 100%|███████████████████████████████████████████████████████████████████████████████████████████████████████████████████████████████| 15/15 [00:26<00:00,  1.75s/it]\n",
      "Epoch 7/30 - Avg val Loss: 0.282164: 100%|███████████████████████████████████████████████████████████████████████████████████████████████████████████████████████████████████| 4/4 [00:06<00:00,  1.63s/it]\n"
     ]
    },
    {
     "name": "stdout",
     "output_type": "stream",
     "text": [
      "New best model found at epoch 7 with validation loss: 0.2822. Model saved to models/stellar-sweep-10_2024-07-24_03-13.pth\n"
     ]
    },
    {
     "name": "stderr",
     "output_type": "stream",
     "text": [
      "Epoch 8/30 - Avg train Loss: 0.246846: 100%|███████████████████████████████████████████████████████████████████████████████████████████████████████████████████████████████| 15/15 [00:25<00:00,  1.71s/it]\n",
      "Epoch 8/30 - Avg val Loss: 0.343835: 100%|███████████████████████████████████████████████████████████████████████████████████████████████████████████████████████████████████| 4/4 [00:06<00:00,  1.58s/it]\n",
      "Epoch 9/30 - Avg train Loss: 0.241319: 100%|███████████████████████████████████████████████████████████████████████████████████████████████████████████████████████████████| 15/15 [00:26<00:00,  1.73s/it]\n",
      "Epoch 9/30 - Avg val Loss: 0.325321: 100%|███████████████████████████████████████████████████████████████████████████████████████████████████████████████████████████████████| 4/4 [00:06<00:00,  1.55s/it]\n",
      "Epoch 10/30 - Avg train Loss: 0.248124: 100%|██████████████████████████████████████████████████████████████████████████████████████████████████████████████████████████████| 15/15 [00:25<00:00,  1.73s/it]\n",
      "Epoch 10/30 - Avg val Loss: 0.392323: 100%|██████████████████████████████████████████████████████████████████████████████████████████████████████████████████████████████████| 4/4 [00:06<00:00,  1.65s/it]\n",
      "Epoch 11/30 - Avg train Loss: 0.263073: 100%|██████████████████████████████████████████████████████████████████████████████████████████████████████████████████████████████| 15/15 [00:26<00:00,  1.75s/it]\n",
      "Epoch 11/30 - Avg val Loss: 0.336415: 100%|██████████████████████████████████████████████████████████████████████████████████████████████████████████████████████████████████| 4/4 [00:06<00:00,  1.58s/it]\n",
      "Epoch 12/30 - Avg train Loss: 0.244559: 100%|██████████████████████████████████████████████████████████████████████████████████████████████████████████████████████████████| 15/15 [00:26<00:00,  1.77s/it]\n",
      "Epoch 12/30 - Avg val Loss: 0.362001: 100%|██████████████████████████████████████████████████████████████████████████████████████████████████████████████████████████████████| 4/4 [00:06<00:00,  1.57s/it]\n",
      "Epoch 13/30 - Avg train Loss: 0.240494: 100%|██████████████████████████████████████████████████████████████████████████████████████████████████████████████████████████████| 15/15 [00:25<00:00,  1.72s/it]\n",
      "Epoch 13/30 - Avg val Loss: 0.319056: 100%|██████████████████████████████████████████████████████████████████████████████████████████████████████████████████████████████████| 4/4 [00:06<00:00,  1.65s/it]\n",
      "Epoch 14/30 - Avg train Loss: 0.232405: 100%|██████████████████████████████████████████████████████████████████████████████████████████████████████████████████████████████| 15/15 [00:26<00:00,  1.74s/it]\n",
      "Epoch 14/30 - Avg val Loss: 0.291567: 100%|██████████████████████████████████████████████████████████████████████████████████████████████████████████████████████████████████| 4/4 [00:06<00:00,  1.64s/it]\n",
      "Epoch 15/30 - Avg train Loss: 0.226906: 100%|██████████████████████████████████████████████████████████████████████████████████████████████████████████████████████████████| 15/15 [00:25<00:00,  1.69s/it]\n",
      "Epoch 15/30 - Avg val Loss: 0.282020: 100%|██████████████████████████████████████████████████████████████████████████████████████████████████████████████████████████████████| 4/4 [00:06<00:00,  1.55s/it]\n"
     ]
    },
    {
     "name": "stdout",
     "output_type": "stream",
     "text": [
      "New best model found at epoch 15 with validation loss: 0.2820. Model saved to models/stellar-sweep-10_2024-07-24_03-13.pth\n"
     ]
    },
    {
     "name": "stderr",
     "output_type": "stream",
     "text": [
      "Epoch 16/30 - Avg train Loss: 0.232684: 100%|██████████████████████████████████████████████████████████████████████████████████████████████████████████████████████████████| 15/15 [00:26<00:00,  1.74s/it]\n",
      "Epoch 16/30 - Avg val Loss: 0.285630: 100%|██████████████████████████████████████████████████████████████████████████████████████████████████████████████████████████████████| 4/4 [00:06<00:00,  1.57s/it]\n",
      "Epoch 17/30 - Avg train Loss: 0.226038: 100%|██████████████████████████████████████████████████████████████████████████████████████████████████████████████████████████████| 15/15 [00:25<00:00,  1.72s/it]\n",
      "Epoch 17/30 - Avg val Loss: 0.277444: 100%|██████████████████████████████████████████████████████████████████████████████████████████████████████████████████████████████████| 4/4 [00:06<00:00,  1.55s/it]\n"
     ]
    },
    {
     "name": "stdout",
     "output_type": "stream",
     "text": [
      "New best model found at epoch 17 with validation loss: 0.2774. Model saved to models/stellar-sweep-10_2024-07-24_03-13.pth\n"
     ]
    },
    {
     "name": "stderr",
     "output_type": "stream",
     "text": [
      "Epoch 18/30 - Avg train Loss: 0.224618: 100%|██████████████████████████████████████████████████████████████████████████████████████████████████████████████████████████████| 15/15 [00:27<00:00,  1.82s/it]\n",
      "Epoch 18/30 - Avg val Loss: 0.273268: 100%|██████████████████████████████████████████████████████████████████████████████████████████████████████████████████████████████████| 4/4 [00:06<00:00,  1.52s/it]\n"
     ]
    },
    {
     "name": "stdout",
     "output_type": "stream",
     "text": [
      "New best model found at epoch 18 with validation loss: 0.2733. Model saved to models/stellar-sweep-10_2024-07-24_03-13.pth\n"
     ]
    },
    {
     "name": "stderr",
     "output_type": "stream",
     "text": [
      "Epoch 19/30 - Avg train Loss: 0.231206: 100%|██████████████████████████████████████████████████████████████████████████████████████████████████████████████████████████████| 15/15 [00:26<00:00,  1.78s/it]\n",
      "Epoch 19/30 - Avg val Loss: 0.269527: 100%|██████████████████████████████████████████████████████████████████████████████████████████████████████████████████████████████████| 4/4 [00:06<00:00,  1.59s/it]\n"
     ]
    },
    {
     "name": "stdout",
     "output_type": "stream",
     "text": [
      "New best model found at epoch 19 with validation loss: 0.2695. Model saved to models/stellar-sweep-10_2024-07-24_03-13.pth\n"
     ]
    },
    {
     "name": "stderr",
     "output_type": "stream",
     "text": [
      "Epoch 20/30 - Avg train Loss: 0.226885: 100%|██████████████████████████████████████████████████████████████████████████████████████████████████████████████████████████████| 15/15 [00:27<00:00,  1.81s/it]\n",
      "Epoch 20/30 - Avg val Loss: 0.269336: 100%|██████████████████████████████████████████████████████████████████████████████████████████████████████████████████████████████████| 4/4 [00:06<00:00,  1.68s/it]\n"
     ]
    },
    {
     "name": "stdout",
     "output_type": "stream",
     "text": [
      "New best model found at epoch 20 with validation loss: 0.2693. Model saved to models/stellar-sweep-10_2024-07-24_03-13.pth\n"
     ]
    },
    {
     "name": "stderr",
     "output_type": "stream",
     "text": [
      "Epoch 21/30 - Avg train Loss: 0.223436: 100%|██████████████████████████████████████████████████████████████████████████████████████████████████████████████████████████████| 15/15 [00:27<00:00,  1.83s/it]\n",
      "Epoch 21/30 - Avg val Loss: 0.270061: 100%|██████████████████████████████████████████████████████████████████████████████████████████████████████████████████████████████████| 4/4 [00:06<00:00,  1.66s/it]\n",
      "Epoch 22/30 - Avg train Loss: 0.223681: 100%|██████████████████████████████████████████████████████████████████████████████████████████████████████████████████████████████| 15/15 [00:26<00:00,  1.78s/it]\n",
      "Epoch 22/30 - Avg val Loss: 0.268955: 100%|██████████████████████████████████████████████████████████████████████████████████████████████████████████████████████████████████| 4/4 [00:06<00:00,  1.71s/it]\n"
     ]
    },
    {
     "name": "stdout",
     "output_type": "stream",
     "text": [
      "New best model found at epoch 22 with validation loss: 0.2690. Model saved to models/stellar-sweep-10_2024-07-24_03-13.pth\n"
     ]
    },
    {
     "name": "stderr",
     "output_type": "stream",
     "text": [
      "Epoch 23/30 - Avg train Loss: 0.227480: 100%|██████████████████████████████████████████████████████████████████████████████████████████████████████████████████████████████| 15/15 [00:26<00:00,  1.76s/it]\n",
      "Epoch 23/30 - Avg val Loss: 0.267056: 100%|██████████████████████████████████████████████████████████████████████████████████████████████████████████████████████████████████| 4/4 [00:06<00:00,  1.63s/it]\n"
     ]
    },
    {
     "name": "stdout",
     "output_type": "stream",
     "text": [
      "New best model found at epoch 23 with validation loss: 0.2671. Model saved to models/stellar-sweep-10_2024-07-24_03-13.pth\n"
     ]
    },
    {
     "name": "stderr",
     "output_type": "stream",
     "text": [
      "Epoch 24/30 - Avg train Loss: 0.222966: 100%|██████████████████████████████████████████████████████████████████████████████████████████████████████████████████████████████| 15/15 [00:26<00:00,  1.75s/it]\n",
      "Epoch 24/30 - Avg val Loss: 0.264173: 100%|██████████████████████████████████████████████████████████████████████████████████████████████████████████████████████████████████| 4/4 [00:06<00:00,  1.53s/it]\n"
     ]
    },
    {
     "name": "stdout",
     "output_type": "stream",
     "text": [
      "New best model found at epoch 24 with validation loss: 0.2642. Model saved to models/stellar-sweep-10_2024-07-24_03-13.pth\n"
     ]
    },
    {
     "name": "stderr",
     "output_type": "stream",
     "text": [
      "Epoch 25/30 - Avg train Loss: 0.224128: 100%|██████████████████████████████████████████████████████████████████████████████████████████████████████████████████████████████| 15/15 [00:25<00:00,  1.72s/it]\n",
      "Epoch 25/30 - Avg val Loss: 0.262205: 100%|██████████████████████████████████████████████████████████████████████████████████████████████████████████████████████████████████| 4/4 [00:06<00:00,  1.64s/it]\n"
     ]
    },
    {
     "name": "stdout",
     "output_type": "stream",
     "text": [
      "New best model found at epoch 25 with validation loss: 0.2622. Model saved to models/stellar-sweep-10_2024-07-24_03-13.pth\n"
     ]
    },
    {
     "name": "stderr",
     "output_type": "stream",
     "text": [
      "Epoch 26/30 - Avg train Loss: 0.223179: 100%|██████████████████████████████████████████████████████████████████████████████████████████████████████████████████████████████| 15/15 [00:25<00:00,  1.71s/it]\n",
      "Epoch 26/30 - Avg val Loss: 0.262823: 100%|██████████████████████████████████████████████████████████████████████████████████████████████████████████████████████████████████| 4/4 [00:06<00:00,  1.54s/it]\n",
      "Epoch 27/30 - Avg train Loss: 0.222872: 100%|██████████████████████████████████████████████████████████████████████████████████████████████████████████████████████████████| 15/15 [00:26<00:00,  1.76s/it]\n",
      "Epoch 27/30 - Avg val Loss: 0.264033: 100%|██████████████████████████████████████████████████████████████████████████████████████████████████████████████████████████████████| 4/4 [00:06<00:00,  1.56s/it]\n",
      "Epoch 28/30 - Avg train Loss: 0.221371: 100%|██████████████████████████████████████████████████████████████████████████████████████████████████████████████████████████████| 15/15 [00:24<00:00,  1.66s/it]\n",
      "Epoch 28/30 - Avg val Loss: 0.266229: 100%|██████████████████████████████████████████████████████████████████████████████████████████████████████████████████████████████████| 4/4 [00:05<00:00,  1.49s/it]\n",
      "Epoch 29/30 - Avg train Loss: 0.222056: 100%|██████████████████████████████████████████████████████████████████████████████████████████████████████████████████████████████| 15/15 [00:25<00:00,  1.70s/it]\n",
      "Epoch 29/30 - Avg val Loss: 0.265673: 100%|██████████████████████████████████████████████████████████████████████████████████████████████████████████████████████████████████| 4/4 [00:06<00:00,  1.67s/it]\n",
      "Epoch 30/30 - Avg train Loss: 0.221441: 100%|██████████████████████████████████████████████████████████████████████████████████████████████████████████████████████████████| 15/15 [00:26<00:00,  1.78s/it]\n",
      "Epoch 30/30 - Avg val Loss: 0.266221: 100%|██████████████████████████████████████████████████████████████████████████████████████████████████████████████████████████████████| 4/4 [00:06<00:00,  1.73s/it]\n"
     ]
    },
    {
     "data": {
      "application/vnd.jupyter.widget-view+json": {
       "model_id": "",
       "version_major": 2,
       "version_minor": 0
      },
      "text/plain": [
       "VBox(children=(Label(value='0.008 MB of 0.008 MB uploaded\\r'), FloatProgress(value=1.0, max=1.0)))"
      ]
     },
     "metadata": {},
     "output_type": "display_data"
    },
    {
     "data": {
      "text/html": [
       "<style>\n",
       "    table.wandb td:nth-child(1) { padding: 0 10px; text-align: left ; width: auto;} td:nth-child(2) {text-align: left ; width: 100%}\n",
       "    .wandb-row { display: flex; flex-direction: row; flex-wrap: wrap; justify-content: flex-start; width: 100% }\n",
       "    .wandb-col { display: flex; flex-direction: column; flex-basis: 100%; flex: 1; padding: 10px; }\n",
       "    </style>\n",
       "<div class=\"wandb-row\"><div class=\"wandb-col\"><h3>Run history:</h3><br/><table class=\"wandb\"><tr><td>accuracy</td><td>▁▃▇▆▇▇▇▇▅▂▅▆▇███▇▇██████▇▇▇▇▇▇</td></tr><tr><td>auprc</td><td>▁▆▇▇▇▆█▅▆▆▅▅▇█████▇███████████</td></tr><tr><td>auroc</td><td>▁▆▆▇▇▆█▄▆▆▆▅▇█████████████████</td></tr><tr><td>avg_train_loss</td><td>█▆▄▄▃▃▃▂▂▂▃▂▂▂▁▂▁▁▁▁▁▁▁▁▁▁▁▁▁▁</td></tr><tr><td>avg_val_loss</td><td>▃█▂▄▃▂▁▃▃▄▃▃▂▂▁▂▁▁▁▁▁▁▁▁▁▁▁▁▁▁</td></tr><tr><td>sensitivity</td><td>▁▅▅▇▅▆▇▅▅▆▆▅▆▇▆▆▆█▇▇▇▆▇▆▇▆▆▆▆▆</td></tr><tr><td>specificity</td><td>█▆█▃█▆▅█▆▅▃▆▆▆▆▆▅▁▃▅▅▆▅▆▅▆▆▆▆▆</td></tr></table><br/></div><div class=\"wandb-col\"><h3>Run summary:</h3><br/><table class=\"wandb\"><tr><td>accuracy</td><td>0.88333</td></tr><tr><td>auprc</td><td>0.98347</td></tr><tr><td>auroc</td><td>0.98222</td></tr><tr><td>avg_train_loss</td><td>0.22144</td></tr><tr><td>avg_val_loss</td><td>0.26622</td></tr><tr><td>sensitivity</td><td>0.9</td></tr><tr><td>specificity</td><td>0.96667</td></tr></table><br/></div></div>"
      ],
      "text/plain": [
       "<IPython.core.display.HTML object>"
      ]
     },
     "metadata": {},
     "output_type": "display_data"
    },
    {
     "data": {
      "text/html": [
       " View run <strong style=\"color:#cdcd00\">stellar-sweep-10</strong> at: <a href='https://wandb.ai/miccai-challenge-2024/task2/runs/iewf1cbo' target=\"_blank\">https://wandb.ai/miccai-challenge-2024/task2/runs/iewf1cbo</a><br/> View project at: <a href='https://wandb.ai/miccai-challenge-2024/task2' target=\"_blank\">https://wandb.ai/miccai-challenge-2024/task2</a><br/>Synced 6 W&B file(s), 0 media file(s), 0 artifact file(s) and 0 other file(s)"
      ],
      "text/plain": [
       "<IPython.core.display.HTML object>"
      ]
     },
     "metadata": {},
     "output_type": "display_data"
    },
    {
     "data": {
      "text/html": [
       "Find logs at: <code>./wandb/run-20240724_031257-iewf1cbo/logs</code>"
      ],
      "text/plain": [
       "<IPython.core.display.HTML object>"
      ]
     },
     "metadata": {},
     "output_type": "display_data"
    },
    {
     "name": "stdout",
     "output_type": "stream",
     "text": [
      "Finished training\n"
     ]
    },
    {
     "name": "stderr",
     "output_type": "stream",
     "text": [
      "\u001b[34m\u001b[1mwandb\u001b[0m: Agent Starting Run: ss1uzgpa with config:\n",
      "\u001b[34m\u001b[1mwandb\u001b[0m: \tbatch_size: 16\n",
      "\u001b[34m\u001b[1mwandb\u001b[0m: \tepochs: 30\n",
      "\u001b[34m\u001b[1mwandb\u001b[0m: \tloss_weight: 0.5\n",
      "\u001b[34m\u001b[1mwandb\u001b[0m: \tlr: 0.001\n",
      "\u001b[34m\u001b[1mwandb\u001b[0m: \tlr_schedule_factor: 0.1\n",
      "\u001b[34m\u001b[1mwandb\u001b[0m: \tlr_schedule_patience: 5\n",
      "\u001b[34m\u001b[1mwandb\u001b[0m: \tmodel: Task2EfficientNetB0\n",
      "\u001b[34m\u001b[1mwandb\u001b[0m: \tp_affine: 0.3\n",
      "\u001b[34m\u001b[1mwandb\u001b[0m: \tp_clahe: 0.3\n",
      "\u001b[34m\u001b[1mwandb\u001b[0m: \tp_equalize: 0\n",
      "\u001b[34m\u001b[1mwandb\u001b[0m: \tp_gaussblur: 0\n",
      "\u001b[34m\u001b[1mwandb\u001b[0m: \tp_horizontalflip: 0.5\n",
      "\u001b[34m\u001b[1mwandb\u001b[0m: \tresampling_strategy: undersampling\n",
      "\u001b[34m\u001b[1mwandb\u001b[0m: \trotation: 10\n",
      "\u001b[34m\u001b[1mwandb\u001b[0m: \u001b[33mWARNING\u001b[0m Ignored wandb.init() arg project when running a sweep.\n"
     ]
    },
    {
     "data": {
      "text/html": [
       "wandb version 0.17.5 is available!  To upgrade, please run:\n",
       " $ pip install wandb --upgrade"
      ],
      "text/plain": [
       "<IPython.core.display.HTML object>"
      ]
     },
     "metadata": {},
     "output_type": "display_data"
    },
    {
     "data": {
      "text/html": [
       "Tracking run with wandb version 0.17.0"
      ],
      "text/plain": [
       "<IPython.core.display.HTML object>"
      ]
     },
     "metadata": {},
     "output_type": "display_data"
    },
    {
     "data": {
      "text/html": [
       "Run data is saved locally in <code>/home/optima/mhaderer/AILS-MICCAI-UWF4DR-Challenge/wandb/run-20240724_032935-ss1uzgpa</code>"
      ],
      "text/plain": [
       "<IPython.core.display.HTML object>"
      ]
     },
     "metadata": {},
     "output_type": "display_data"
    },
    {
     "data": {
      "text/html": [
       "Syncing run <strong><a href='https://wandb.ai/miccai-challenge-2024/task2/runs/ss1uzgpa' target=\"_blank\">brisk-sweep-11</a></strong> to <a href='https://wandb.ai/miccai-challenge-2024/task2' target=\"_blank\">Weights & Biases</a> (<a href='https://wandb.me/run' target=\"_blank\">docs</a>)<br/>Sweep page: <a href='https://wandb.ai/miccai-challenge-2024/task2/sweeps/eo1h97d3' target=\"_blank\">https://wandb.ai/miccai-challenge-2024/task2/sweeps/eo1h97d3</a>"
      ],
      "text/plain": [
       "<IPython.core.display.HTML object>"
      ]
     },
     "metadata": {},
     "output_type": "display_data"
    },
    {
     "data": {
      "text/html": [
       " View project at <a href='https://wandb.ai/miccai-challenge-2024/task2' target=\"_blank\">https://wandb.ai/miccai-challenge-2024/task2</a>"
      ],
      "text/plain": [
       "<IPython.core.display.HTML object>"
      ]
     },
     "metadata": {},
     "output_type": "display_data"
    },
    {
     "data": {
      "text/html": [
       " View sweep at <a href='https://wandb.ai/miccai-challenge-2024/task2/sweeps/eo1h97d3' target=\"_blank\">https://wandb.ai/miccai-challenge-2024/task2/sweeps/eo1h97d3</a>"
      ],
      "text/plain": [
       "<IPython.core.display.HTML object>"
      ]
     },
     "metadata": {},
     "output_type": "display_data"
    },
    {
     "data": {
      "text/html": [
       " View run at <a href='https://wandb.ai/miccai-challenge-2024/task2/runs/ss1uzgpa' target=\"_blank\">https://wandb.ai/miccai-challenge-2024/task2/runs/ss1uzgpa</a>"
      ],
      "text/plain": [
       "<IPython.core.display.HTML object>"
      ]
     },
     "metadata": {},
     "output_type": "display_data"
    },
    {
     "name": "stdout",
     "output_type": "stream",
     "text": [
      "Using device: cuda\n",
      "Loaded pretrained weights for efficientnet-b0\n",
      "Now train train train\n"
     ]
    },
    {
     "name": "stderr",
     "output_type": "stream",
     "text": [
      "Epoch 1/30 - Avg train Loss: 0.377930: 100%|███████████████████████████████████████████████████████████████████████████████████████████████████████████████████████████████| 15/15 [00:28<00:00,  1.88s/it]\n",
      "Epoch 1/30 - Avg val Loss: 0.433540: 100%|███████████████████████████████████████████████████████████████████████████████████████████████████████████████████████████████████| 4/4 [00:06<00:00,  1.66s/it]\n"
     ]
    },
    {
     "name": "stdout",
     "output_type": "stream",
     "text": [
      "New best model found at epoch 1 with validation loss: 0.4335. Model saved to models/brisk-sweep-11_2024-07-24_03-29.pth\n"
     ]
    },
    {
     "name": "stderr",
     "output_type": "stream",
     "text": [
      "Epoch 2/30 - Avg train Loss: 0.339190: 100%|███████████████████████████████████████████████████████████████████████████████████████████████████████████████████████████████| 15/15 [00:28<00:00,  1.87s/it]\n",
      "Epoch 2/30 - Avg val Loss: 0.462411: 100%|███████████████████████████████████████████████████████████████████████████████████████████████████████████████████████████████████| 4/4 [00:06<00:00,  1.68s/it]\n",
      "Epoch 3/30 - Avg train Loss: 0.311730: 100%|███████████████████████████████████████████████████████████████████████████████████████████████████████████████████████████████| 15/15 [00:26<00:00,  1.78s/it]\n",
      "Epoch 3/30 - Avg val Loss: 0.330975: 100%|███████████████████████████████████████████████████████████████████████████████████████████████████████████████████████████████████| 4/4 [00:06<00:00,  1.57s/it]\n"
     ]
    },
    {
     "name": "stdout",
     "output_type": "stream",
     "text": [
      "New best model found at epoch 3 with validation loss: 0.3310. Model saved to models/brisk-sweep-11_2024-07-24_03-29.pth\n"
     ]
    },
    {
     "name": "stderr",
     "output_type": "stream",
     "text": [
      "Epoch 4/30 - Avg train Loss: 0.285060: 100%|███████████████████████████████████████████████████████████████████████████████████████████████████████████████████████████████| 15/15 [00:25<00:00,  1.73s/it]\n",
      "Epoch 4/30 - Avg val Loss: 0.599620: 100%|███████████████████████████████████████████████████████████████████████████████████████████████████████████████████████████████████| 4/4 [00:06<00:00,  1.50s/it]\n",
      "Epoch 5/30 - Avg train Loss: 0.298685: 100%|███████████████████████████████████████████████████████████████████████████████████████████████████████████████████████████████| 15/15 [00:27<00:00,  1.82s/it]\n",
      "Epoch 5/30 - Avg val Loss: 0.451966: 100%|███████████████████████████████████████████████████████████████████████████████████████████████████████████████████████████████████| 4/4 [00:06<00:00,  1.61s/it]\n",
      "Epoch 6/30 - Avg train Loss: 0.270180: 100%|███████████████████████████████████████████████████████████████████████████████████████████████████████████████████████████████| 15/15 [00:26<00:00,  1.77s/it]\n",
      "Epoch 6/30 - Avg val Loss: 0.349596: 100%|███████████████████████████████████████████████████████████████████████████████████████████████████████████████████████████████████| 4/4 [00:06<00:00,  1.51s/it]\n",
      "Epoch 7/30 - Avg train Loss: 0.264922: 100%|███████████████████████████████████████████████████████████████████████████████████████████████████████████████████████████████| 15/15 [00:26<00:00,  1.74s/it]\n",
      "Epoch 7/30 - Avg val Loss: 0.427449: 100%|███████████████████████████████████████████████████████████████████████████████████████████████████████████████████████████████████| 4/4 [00:05<00:00,  1.49s/it]\n",
      "Epoch 8/30 - Avg train Loss: 0.254625: 100%|███████████████████████████████████████████████████████████████████████████████████████████████████████████████████████████████| 15/15 [00:25<00:00,  1.72s/it]\n",
      "Epoch 8/30 - Avg val Loss: 0.337900: 100%|███████████████████████████████████████████████████████████████████████████████████████████████████████████████████████████████████| 4/4 [00:05<00:00,  1.50s/it]\n",
      "Epoch 9/30 - Avg train Loss: 0.255814: 100%|███████████████████████████████████████████████████████████████████████████████████████████████████████████████████████████████| 15/15 [00:26<00:00,  1.74s/it]\n",
      "Epoch 9/30 - Avg val Loss: 0.329948: 100%|███████████████████████████████████████████████████████████████████████████████████████████████████████████████████████████████████| 4/4 [00:06<00:00,  1.53s/it]\n"
     ]
    },
    {
     "name": "stdout",
     "output_type": "stream",
     "text": [
      "New best model found at epoch 9 with validation loss: 0.3299. Model saved to models/brisk-sweep-11_2024-07-24_03-29.pth\n"
     ]
    },
    {
     "name": "stderr",
     "output_type": "stream",
     "text": [
      "Epoch 10/30 - Avg train Loss: 0.250733: 100%|██████████████████████████████████████████████████████████████████████████████████████████████████████████████████████████████| 15/15 [00:25<00:00,  1.71s/it]\n",
      "Epoch 10/30 - Avg val Loss: 0.360755: 100%|██████████████████████████████████████████████████████████████████████████████████████████████████████████████████████████████████| 4/4 [00:06<00:00,  1.56s/it]\n",
      "Epoch 11/30 - Avg train Loss: 0.249719: 100%|██████████████████████████████████████████████████████████████████████████████████████████████████████████████████████████████| 15/15 [00:26<00:00,  1.74s/it]\n",
      "Epoch 11/30 - Avg val Loss: 0.330914: 100%|██████████████████████████████████████████████████████████████████████████████████████████████████████████████████████████████████| 4/4 [00:06<00:00,  1.52s/it]\n",
      "Epoch 12/30 - Avg train Loss: 0.239960: 100%|██████████████████████████████████████████████████████████████████████████████████████████████████████████████████████████████| 15/15 [00:25<00:00,  1.72s/it]\n",
      "Epoch 12/30 - Avg val Loss: 0.338162: 100%|██████████████████████████████████████████████████████████████████████████████████████████████████████████████████████████████████| 4/4 [00:06<00:00,  1.51s/it]\n",
      "Epoch 13/30 - Avg train Loss: 0.236528: 100%|██████████████████████████████████████████████████████████████████████████████████████████████████████████████████████████████| 15/15 [00:27<00:00,  1.82s/it]\n",
      "Epoch 13/30 - Avg val Loss: 0.330589: 100%|██████████████████████████████████████████████████████████████████████████████████████████████████████████████████████████████████| 4/4 [00:06<00:00,  1.53s/it]\n",
      "Epoch 14/30 - Avg train Loss: 0.234444: 100%|██████████████████████████████████████████████████████████████████████████████████████████████████████████████████████████████| 15/15 [00:26<00:00,  1.74s/it]\n",
      "Epoch 14/30 - Avg val Loss: 0.331615: 100%|██████████████████████████████████████████████████████████████████████████████████████████████████████████████████████████████████| 4/4 [00:06<00:00,  1.58s/it]\n",
      "Epoch 15/30 - Avg train Loss: 0.245477: 100%|██████████████████████████████████████████████████████████████████████████████████████████████████████████████████████████████| 15/15 [00:27<00:00,  1.80s/it]\n",
      "Epoch 15/30 - Avg val Loss: 0.398866: 100%|██████████████████████████████████████████████████████████████████████████████████████████████████████████████████████████████████| 4/4 [00:06<00:00,  1.52s/it]\n",
      "Epoch 16/30 - Avg train Loss: 0.236947: 100%|██████████████████████████████████████████████████████████████████████████████████████████████████████████████████████████████| 15/15 [00:26<00:00,  1.76s/it]\n",
      "Epoch 16/30 - Avg val Loss: 0.381266: 100%|██████████████████████████████████████████████████████████████████████████████████████████████████████████████████████████████████| 4/4 [00:06<00:00,  1.65s/it]\n",
      "Epoch 17/30 - Avg train Loss: 0.238048: 100%|██████████████████████████████████████████████████████████████████████████████████████████████████████████████████████████████| 15/15 [00:27<00:00,  1.83s/it]\n",
      "Epoch 17/30 - Avg val Loss: 0.371887: 100%|██████████████████████████████████████████████████████████████████████████████████████████████████████████████████████████████████| 4/4 [00:06<00:00,  1.67s/it]\n",
      "Epoch 18/30 - Avg train Loss: 0.229529: 100%|██████████████████████████████████████████████████████████████████████████████████████████████████████████████████████████████| 15/15 [00:26<00:00,  1.79s/it]\n",
      "Epoch 18/30 - Avg val Loss: 0.364418: 100%|██████████████████████████████████████████████████████████████████████████████████████████████████████████████████████████████████| 4/4 [00:06<00:00,  1.69s/it]\n",
      "Epoch 19/30 - Avg train Loss: 0.227827: 100%|██████████████████████████████████████████████████████████████████████████████████████████████████████████████████████████████| 15/15 [00:27<00:00,  1.82s/it]\n",
      "Epoch 19/30 - Avg val Loss: 0.353064: 100%|██████████████████████████████████████████████████████████████████████████████████████████████████████████████████████████████████| 4/4 [00:06<00:00,  1.58s/it]\n",
      "Epoch 20/30 - Avg train Loss: 0.228866: 100%|██████████████████████████████████████████████████████████████████████████████████████████████████████████████████████████████| 15/15 [00:27<00:00,  1.83s/it]\n",
      "Epoch 20/30 - Avg val Loss: 0.348933: 100%|██████████████████████████████████████████████████████████████████████████████████████████████████████████████████████████████████| 4/4 [00:06<00:00,  1.56s/it]\n",
      "Epoch 21/30 - Avg train Loss: 0.223265: 100%|██████████████████████████████████████████████████████████████████████████████████████████████████████████████████████████████| 15/15 [00:28<00:00,  1.87s/it]\n",
      "Epoch 21/30 - Avg val Loss: 0.346264: 100%|██████████████████████████████████████████████████████████████████████████████████████████████████████████████████████████████████| 4/4 [00:06<00:00,  1.51s/it]\n",
      "Epoch 22/30 - Avg train Loss: 0.222294: 100%|██████████████████████████████████████████████████████████████████████████████████████████████████████████████████████████████| 15/15 [00:27<00:00,  1.81s/it]\n",
      "Epoch 22/30 - Avg val Loss: 0.346026: 100%|██████████████████████████████████████████████████████████████████████████████████████████████████████████████████████████████████| 4/4 [00:06<00:00,  1.56s/it]\n",
      "Epoch 23/30 - Avg train Loss: 0.227380: 100%|██████████████████████████████████████████████████████████████████████████████████████████████████████████████████████████████| 15/15 [00:27<00:00,  1.86s/it]\n",
      "Epoch 23/30 - Avg val Loss: 0.346649: 100%|██████████████████████████████████████████████████████████████████████████████████████████████████████████████████████████████████| 4/4 [00:06<00:00,  1.57s/it]\n",
      "Epoch 24/30 - Avg train Loss: 0.224581: 100%|██████████████████████████████████████████████████████████████████████████████████████████████████████████████████████████████| 15/15 [00:26<00:00,  1.79s/it]\n",
      "Epoch 24/30 - Avg val Loss: 0.347490: 100%|██████████████████████████████████████████████████████████████████████████████████████████████████████████████████████████████████| 4/4 [00:06<00:00,  1.52s/it]\n",
      "Epoch 25/30 - Avg train Loss: 0.227605: 100%|██████████████████████████████████████████████████████████████████████████████████████████████████████████████████████████████| 15/15 [00:27<00:00,  1.81s/it]\n",
      "Epoch 25/30 - Avg val Loss: 0.347891: 100%|██████████████████████████████████████████████████████████████████████████████████████████████████████████████████████████████████| 4/4 [00:06<00:00,  1.64s/it]\n",
      "Epoch 26/30 - Avg train Loss: 0.227460: 100%|██████████████████████████████████████████████████████████████████████████████████████████████████████████████████████████████| 15/15 [00:27<00:00,  1.83s/it]\n",
      "Epoch 26/30 - Avg val Loss: 0.347210: 100%|██████████████████████████████████████████████████████████████████████████████████████████████████████████████████████████████████| 4/4 [00:06<00:00,  1.62s/it]\n",
      "Epoch 27/30 - Avg train Loss: 0.225100: 100%|██████████████████████████████████████████████████████████████████████████████████████████████████████████████████████████████| 15/15 [00:28<00:00,  1.92s/it]\n",
      "Epoch 27/30 - Avg val Loss: 0.346950: 100%|██████████████████████████████████████████████████████████████████████████████████████████████████████████████████████████████████| 4/4 [00:06<00:00,  1.52s/it]\n",
      "Epoch 28/30 - Avg train Loss: 0.228545: 100%|██████████████████████████████████████████████████████████████████████████████████████████████████████████████████████████████| 15/15 [00:26<00:00,  1.79s/it]\n",
      "Epoch 28/30 - Avg val Loss: 0.346678: 100%|██████████████████████████████████████████████████████████████████████████████████████████████████████████████████████████████████| 4/4 [00:06<00:00,  1.70s/it]\n",
      "Epoch 29/30 - Avg train Loss: 0.226185: 100%|██████████████████████████████████████████████████████████████████████████████████████████████████████████████████████████████| 15/15 [00:27<00:00,  1.85s/it]\n",
      "Epoch 29/30 - Avg val Loss: 0.347149: 100%|██████████████████████████████████████████████████████████████████████████████████████████████████████████████████████████████████| 4/4 [00:06<00:00,  1.51s/it]\n",
      "Epoch 30/30 - Avg train Loss: 0.224582: 100%|██████████████████████████████████████████████████████████████████████████████████████████████████████████████████████████████| 15/15 [00:27<00:00,  1.82s/it]\n",
      "Epoch 30/30 - Avg val Loss: 0.347615: 100%|██████████████████████████████████████████████████████████████████████████████████████████████████████████████████████████████████| 4/4 [00:06<00:00,  1.53s/it]\n"
     ]
    },
    {
     "data": {
      "application/vnd.jupyter.widget-view+json": {
       "model_id": "",
       "version_major": 2,
       "version_minor": 0
      },
      "text/plain": [
       "VBox(children=(Label(value='0.008 MB of 0.008 MB uploaded\\r'), FloatProgress(value=1.0, max=1.0)))"
      ]
     },
     "metadata": {},
     "output_type": "display_data"
    },
    {
     "data": {
      "text/html": [
       "<style>\n",
       "    table.wandb td:nth-child(1) { padding: 0 10px; text-align: left ; width: auto;} td:nth-child(2) {text-align: left ; width: 100%}\n",
       "    .wandb-row { display: flex; flex-direction: row; flex-wrap: wrap; justify-content: flex-start; width: 100% }\n",
       "    .wandb-col { display: flex; flex-direction: column; flex-basis: 100%; flex: 1; padding: 10px; }\n",
       "    </style>\n",
       "<div class=\"wandb-row\"><div class=\"wandb-col\"><h3>Run history:</h3><br/><table class=\"wandb\"><tr><td>accuracy</td><td>▅▁▇▄▇▇▆▇█▇█▇▇█▆▅▅▆▆▆▇▆▆▆▆▆▆▆▆▆</td></tr><tr><td>auprc</td><td>▂▆▇▇█▇▅▇█▆▇█▅▆▁▃▃▃▅▆▄▅▅▅▅▅▅▅▆▅</td></tr><tr><td>auroc</td><td>▁▆▇▆▇▇▆▇█▇▇█▇▄▃▄▄▄▅▆▅▅▅▅▅▆▆▆▆▆</td></tr><tr><td>avg_train_loss</td><td>█▆▅▄▄▃▃▂▃▂▂▂▂▂▂▂▂▁▁▁▁▁▁▁▁▁▁▁▁▁</td></tr><tr><td>avg_val_loss</td><td>▄▄▁█▄▂▄▁▁▂▁▁▁▁▃▂▂▂▂▁▁▁▁▁▁▁▁▁▁▁</td></tr><tr><td>sensitivity</td><td>▁▆█▄▆▄▄▅▅▆▇▇▇▅▅▅▅▅▅▄▄▄▄▄▄▄▄▄▄▄</td></tr><tr><td>specificity</td><td>▇▄▁█▆█▇▇▇▅▄▅▄▇▅▅▆▆▆▇▇▇▇▇▇▇▇▇▇▇</td></tr></table><br/></div><div class=\"wandb-col\"><h3>Run summary:</h3><br/><table class=\"wandb\"><tr><td>accuracy</td><td>0.75</td></tr><tr><td>auprc</td><td>0.87259</td></tr><tr><td>auroc</td><td>0.87222</td></tr><tr><td>avg_train_loss</td><td>0.22458</td></tr><tr><td>avg_val_loss</td><td>0.34762</td></tr><tr><td>sensitivity</td><td>0.73333</td></tr><tr><td>specificity</td><td>0.96667</td></tr></table><br/></div></div>"
      ],
      "text/plain": [
       "<IPython.core.display.HTML object>"
      ]
     },
     "metadata": {},
     "output_type": "display_data"
    },
    {
     "data": {
      "text/html": [
       " View run <strong style=\"color:#cdcd00\">brisk-sweep-11</strong> at: <a href='https://wandb.ai/miccai-challenge-2024/task2/runs/ss1uzgpa' target=\"_blank\">https://wandb.ai/miccai-challenge-2024/task2/runs/ss1uzgpa</a><br/> View project at: <a href='https://wandb.ai/miccai-challenge-2024/task2' target=\"_blank\">https://wandb.ai/miccai-challenge-2024/task2</a><br/>Synced 6 W&B file(s), 0 media file(s), 0 artifact file(s) and 0 other file(s)"
      ],
      "text/plain": [
       "<IPython.core.display.HTML object>"
      ]
     },
     "metadata": {},
     "output_type": "display_data"
    },
    {
     "data": {
      "text/html": [
       "Find logs at: <code>./wandb/run-20240724_032935-ss1uzgpa/logs</code>"
      ],
      "text/plain": [
       "<IPython.core.display.HTML object>"
      ]
     },
     "metadata": {},
     "output_type": "display_data"
    },
    {
     "name": "stdout",
     "output_type": "stream",
     "text": [
      "Finished training\n"
     ]
    },
    {
     "name": "stderr",
     "output_type": "stream",
     "text": [
      "\u001b[34m\u001b[1mwandb\u001b[0m: Agent Starting Run: 86j68bmu with config:\n",
      "\u001b[34m\u001b[1mwandb\u001b[0m: \tbatch_size: 16\n",
      "\u001b[34m\u001b[1mwandb\u001b[0m: \tepochs: 30\n",
      "\u001b[34m\u001b[1mwandb\u001b[0m: \tloss_weight: 0.5\n",
      "\u001b[34m\u001b[1mwandb\u001b[0m: \tlr: 0.001\n",
      "\u001b[34m\u001b[1mwandb\u001b[0m: \tlr_schedule_factor: 0.1\n",
      "\u001b[34m\u001b[1mwandb\u001b[0m: \tlr_schedule_patience: 5\n",
      "\u001b[34m\u001b[1mwandb\u001b[0m: \tmodel: Task2EfficientNetB0\n",
      "\u001b[34m\u001b[1mwandb\u001b[0m: \tp_affine: 0.3\n",
      "\u001b[34m\u001b[1mwandb\u001b[0m: \tp_clahe: 0.5\n",
      "\u001b[34m\u001b[1mwandb\u001b[0m: \tp_equalize: 0\n",
      "\u001b[34m\u001b[1mwandb\u001b[0m: \tp_gaussblur: 0\n",
      "\u001b[34m\u001b[1mwandb\u001b[0m: \tp_horizontalflip: 0.5\n",
      "\u001b[34m\u001b[1mwandb\u001b[0m: \tresampling_strategy: oversampling\n",
      "\u001b[34m\u001b[1mwandb\u001b[0m: \trotation: 10\n",
      "\u001b[34m\u001b[1mwandb\u001b[0m: \u001b[33mWARNING\u001b[0m Ignored wandb.init() arg project when running a sweep.\n"
     ]
    },
    {
     "data": {
      "text/html": [
       "wandb version 0.17.5 is available!  To upgrade, please run:\n",
       " $ pip install wandb --upgrade"
      ],
      "text/plain": [
       "<IPython.core.display.HTML object>"
      ]
     },
     "metadata": {},
     "output_type": "display_data"
    },
    {
     "data": {
      "text/html": [
       "Tracking run with wandb version 0.17.0"
      ],
      "text/plain": [
       "<IPython.core.display.HTML object>"
      ]
     },
     "metadata": {},
     "output_type": "display_data"
    },
    {
     "data": {
      "text/html": [
       "Run data is saved locally in <code>/home/optima/mhaderer/AILS-MICCAI-UWF4DR-Challenge/wandb/run-20240724_034638-86j68bmu</code>"
      ],
      "text/plain": [
       "<IPython.core.display.HTML object>"
      ]
     },
     "metadata": {},
     "output_type": "display_data"
    },
    {
     "data": {
      "text/html": [
       "Syncing run <strong><a href='https://wandb.ai/miccai-challenge-2024/task2/runs/86j68bmu' target=\"_blank\">rare-sweep-12</a></strong> to <a href='https://wandb.ai/miccai-challenge-2024/task2' target=\"_blank\">Weights & Biases</a> (<a href='https://wandb.me/run' target=\"_blank\">docs</a>)<br/>Sweep page: <a href='https://wandb.ai/miccai-challenge-2024/task2/sweeps/eo1h97d3' target=\"_blank\">https://wandb.ai/miccai-challenge-2024/task2/sweeps/eo1h97d3</a>"
      ],
      "text/plain": [
       "<IPython.core.display.HTML object>"
      ]
     },
     "metadata": {},
     "output_type": "display_data"
    },
    {
     "data": {
      "text/html": [
       " View project at <a href='https://wandb.ai/miccai-challenge-2024/task2' target=\"_blank\">https://wandb.ai/miccai-challenge-2024/task2</a>"
      ],
      "text/plain": [
       "<IPython.core.display.HTML object>"
      ]
     },
     "metadata": {},
     "output_type": "display_data"
    },
    {
     "data": {
      "text/html": [
       " View sweep at <a href='https://wandb.ai/miccai-challenge-2024/task2/sweeps/eo1h97d3' target=\"_blank\">https://wandb.ai/miccai-challenge-2024/task2/sweeps/eo1h97d3</a>"
      ],
      "text/plain": [
       "<IPython.core.display.HTML object>"
      ]
     },
     "metadata": {},
     "output_type": "display_data"
    },
    {
     "data": {
      "text/html": [
       " View run at <a href='https://wandb.ai/miccai-challenge-2024/task2/runs/86j68bmu' target=\"_blank\">https://wandb.ai/miccai-challenge-2024/task2/runs/86j68bmu</a>"
      ],
      "text/plain": [
       "<IPython.core.display.HTML object>"
      ]
     },
     "metadata": {},
     "output_type": "display_data"
    },
    {
     "name": "stdout",
     "output_type": "stream",
     "text": [
      "Using device: cuda\n",
      "Loaded pretrained weights for efficientnet-b0\n",
      "Now train train train\n"
     ]
    },
    {
     "name": "stderr",
     "output_type": "stream",
     "text": [
      "Epoch 1/30 - Avg train Loss: 0.355523: 100%|███████████████████████████████████████████████████████████████████████████████████████████████████████████████████████████████| 25/25 [00:45<00:00,  1.83s/it]\n",
      "Epoch 1/30 - Avg val Loss: 0.370562: 100%|███████████████████████████████████████████████████████████████████████████████████████████████████████████████████████████████████| 7/7 [00:10<00:00,  1.46s/it]\n"
     ]
    },
    {
     "name": "stdout",
     "output_type": "stream",
     "text": [
      "New best model found at epoch 1 with validation loss: 0.3706. Model saved to models/rare-sweep-12_2024-07-24_03-46.pth\n"
     ]
    },
    {
     "name": "stderr",
     "output_type": "stream",
     "text": [
      "Epoch 2/30 - Avg train Loss: 0.292117: 100%|███████████████████████████████████████████████████████████████████████████████████████████████████████████████████████████████| 25/25 [00:43<00:00,  1.74s/it]\n",
      "Epoch 2/30 - Avg val Loss: 0.379233: 100%|███████████████████████████████████████████████████████████████████████████████████████████████████████████████████████████████████| 7/7 [00:09<00:00,  1.32s/it]\n",
      "Epoch 3/30 - Avg train Loss: 0.260967: 100%|███████████████████████████████████████████████████████████████████████████████████████████████████████████████████████████████| 25/25 [00:43<00:00,  1.73s/it]\n",
      "Epoch 3/30 - Avg val Loss: 0.364206: 100%|███████████████████████████████████████████████████████████████████████████████████████████████████████████████████████████████████| 7/7 [00:10<00:00,  1.46s/it]\n"
     ]
    },
    {
     "name": "stdout",
     "output_type": "stream",
     "text": [
      "New best model found at epoch 3 with validation loss: 0.3642. Model saved to models/rare-sweep-12_2024-07-24_03-46.pth\n"
     ]
    },
    {
     "name": "stderr",
     "output_type": "stream",
     "text": [
      "Epoch 4/30 - Avg train Loss: 0.248751: 100%|███████████████████████████████████████████████████████████████████████████████████████████████████████████████████████████████| 25/25 [00:41<00:00,  1.66s/it]\n",
      "Epoch 4/30 - Avg val Loss: 0.264527: 100%|███████████████████████████████████████████████████████████████████████████████████████████████████████████████████████████████████| 7/7 [00:10<00:00,  1.46s/it]\n"
     ]
    },
    {
     "name": "stdout",
     "output_type": "stream",
     "text": [
      "New best model found at epoch 4 with validation loss: 0.2645. Model saved to models/rare-sweep-12_2024-07-24_03-46.pth\n"
     ]
    },
    {
     "name": "stderr",
     "output_type": "stream",
     "text": [
      "Epoch 5/30 - Avg train Loss: 0.233318: 100%|███████████████████████████████████████████████████████████████████████████████████████████████████████████████████████████████| 25/25 [00:42<00:00,  1.69s/it]\n",
      "Epoch 5/30 - Avg val Loss: 0.289436: 100%|███████████████████████████████████████████████████████████████████████████████████████████████████████████████████████████████████| 7/7 [00:09<00:00,  1.41s/it]\n",
      "Epoch 6/30 - Avg train Loss: 0.232605: 100%|███████████████████████████████████████████████████████████████████████████████████████████████████████████████████████████████| 25/25 [00:44<00:00,  1.76s/it]\n",
      "Epoch 6/30 - Avg val Loss: 0.256051: 100%|███████████████████████████████████████████████████████████████████████████████████████████████████████████████████████████████████| 7/7 [00:10<00:00,  1.45s/it]\n"
     ]
    },
    {
     "name": "stdout",
     "output_type": "stream",
     "text": [
      "New best model found at epoch 6 with validation loss: 0.2561. Model saved to models/rare-sweep-12_2024-07-24_03-46.pth\n"
     ]
    },
    {
     "name": "stderr",
     "output_type": "stream",
     "text": [
      "Epoch 7/30 - Avg train Loss: 0.227382: 100%|███████████████████████████████████████████████████████████████████████████████████████████████████████████████████████████████| 25/25 [00:44<00:00,  1.77s/it]\n",
      "Epoch 7/30 - Avg val Loss: 0.253479: 100%|███████████████████████████████████████████████████████████████████████████████████████████████████████████████████████████████████| 7/7 [00:09<00:00,  1.39s/it]\n"
     ]
    },
    {
     "name": "stdout",
     "output_type": "stream",
     "text": [
      "New best model found at epoch 7 with validation loss: 0.2535. Model saved to models/rare-sweep-12_2024-07-24_03-46.pth\n"
     ]
    },
    {
     "name": "stderr",
     "output_type": "stream",
     "text": [
      "Epoch 8/30 - Avg train Loss: 0.226012: 100%|███████████████████████████████████████████████████████████████████████████████████████████████████████████████████████████████| 25/25 [00:45<00:00,  1.82s/it]\n",
      "Epoch 8/30 - Avg val Loss: 0.251126: 100%|███████████████████████████████████████████████████████████████████████████████████████████████████████████████████████████████████| 7/7 [00:10<00:00,  1.54s/it]\n"
     ]
    },
    {
     "name": "stdout",
     "output_type": "stream",
     "text": [
      "New best model found at epoch 8 with validation loss: 0.2511. Model saved to models/rare-sweep-12_2024-07-24_03-46.pth\n"
     ]
    },
    {
     "name": "stderr",
     "output_type": "stream",
     "text": [
      "Epoch 9/30 - Avg train Loss: 0.229827: 100%|███████████████████████████████████████████████████████████████████████████████████████████████████████████████████████████████| 25/25 [00:41<00:00,  1.65s/it]\n",
      "Epoch 9/30 - Avg val Loss: 0.313485: 100%|███████████████████████████████████████████████████████████████████████████████████████████████████████████████████████████████████| 7/7 [00:11<00:00,  1.60s/it]\n",
      "Epoch 10/30 - Avg train Loss: 0.226598: 100%|██████████████████████████████████████████████████████████████████████████████████████████████████████████████████████████████| 25/25 [00:42<00:00,  1.68s/it]\n",
      "Epoch 10/30 - Avg val Loss: 0.292076: 100%|██████████████████████████████████████████████████████████████████████████████████████████████████████████████████████████████████| 7/7 [00:11<00:00,  1.63s/it]\n",
      "Epoch 11/30 - Avg train Loss: 0.222612: 100%|██████████████████████████████████████████████████████████████████████████████████████████████████████████████████████████████| 25/25 [00:45<00:00,  1.82s/it]\n",
      "Epoch 11/30 - Avg val Loss: 0.275789: 100%|██████████████████████████████████████████████████████████████████████████████████████████████████████████████████████████████████| 7/7 [00:11<00:00,  1.68s/it]\n",
      "Epoch 12/30 - Avg train Loss: 0.222560: 100%|██████████████████████████████████████████████████████████████████████████████████████████████████████████████████████████████| 25/25 [00:42<00:00,  1.71s/it]\n",
      "Epoch 12/30 - Avg val Loss: 0.244344: 100%|██████████████████████████████████████████████████████████████████████████████████████████████████████████████████████████████████| 7/7 [00:12<00:00,  1.72s/it]\n"
     ]
    },
    {
     "name": "stdout",
     "output_type": "stream",
     "text": [
      "New best model found at epoch 12 with validation loss: 0.2443. Model saved to models/rare-sweep-12_2024-07-24_03-46.pth\n"
     ]
    },
    {
     "name": "stderr",
     "output_type": "stream",
     "text": [
      "Epoch 13/30 - Avg train Loss: 0.222255: 100%|██████████████████████████████████████████████████████████████████████████████████████████████████████████████████████████████| 25/25 [00:43<00:00,  1.74s/it]\n",
      "Epoch 13/30 - Avg val Loss: 0.248987: 100%|██████████████████████████████████████████████████████████████████████████████████████████████████████████████████████████████████| 7/7 [00:12<00:00,  1.81s/it]\n",
      "Epoch 14/30 - Avg train Loss: 0.223178: 100%|██████████████████████████████████████████████████████████████████████████████████████████████████████████████████████████████| 25/25 [00:42<00:00,  1.70s/it]\n",
      "Epoch 14/30 - Avg val Loss: 0.229499: 100%|██████████████████████████████████████████████████████████████████████████████████████████████████████████████████████████████████| 7/7 [00:10<00:00,  1.57s/it]\n"
     ]
    },
    {
     "name": "stdout",
     "output_type": "stream",
     "text": [
      "New best model found at epoch 14 with validation loss: 0.2295. Model saved to models/rare-sweep-12_2024-07-24_03-46.pth\n"
     ]
    },
    {
     "name": "stderr",
     "output_type": "stream",
     "text": [
      "Epoch 15/30 - Avg train Loss: 0.226389: 100%|██████████████████████████████████████████████████████████████████████████████████████████████████████████████████████████████| 25/25 [00:39<00:00,  1.58s/it]\n",
      "Epoch 15/30 - Avg val Loss: 0.285848: 100%|██████████████████████████████████████████████████████████████████████████████████████████████████████████████████████████████████| 7/7 [00:10<00:00,  1.56s/it]\n",
      "Epoch 16/30 - Avg train Loss: 0.222914: 100%|██████████████████████████████████████████████████████████████████████████████████████████████████████████████████████████████| 25/25 [00:38<00:00,  1.53s/it]\n",
      "Epoch 16/30 - Avg val Loss: 0.311902: 100%|██████████████████████████████████████████████████████████████████████████████████████████████████████████████████████████████████| 7/7 [00:10<00:00,  1.57s/it]\n",
      "Epoch 17/30 - Avg train Loss: 0.220772: 100%|██████████████████████████████████████████████████████████████████████████████████████████████████████████████████████████████| 25/25 [00:35<00:00,  1.42s/it]\n",
      "Epoch 17/30 - Avg val Loss: 0.292151: 100%|██████████████████████████████████████████████████████████████████████████████████████████████████████████████████████████████████| 7/7 [00:11<00:00,  1.67s/it]\n",
      "Epoch 18/30 - Avg train Loss: 0.221271: 100%|██████████████████████████████████████████████████████████████████████████████████████████████████████████████████████████████| 25/25 [00:36<00:00,  1.47s/it]\n",
      "Epoch 18/30 - Avg val Loss: 0.273949: 100%|██████████████████████████████████████████████████████████████████████████████████████████████████████████████████████████████████| 7/7 [00:11<00:00,  1.65s/it]\n",
      "Epoch 19/30 - Avg train Loss: 0.220591: 100%|██████████████████████████████████████████████████████████████████████████████████████████████████████████████████████████████| 25/25 [00:35<00:00,  1.43s/it]\n",
      "Epoch 19/30 - Avg val Loss: 0.294861: 100%|██████████████████████████████████████████████████████████████████████████████████████████████████████████████████████████████████| 7/7 [00:12<00:00,  1.80s/it]\n",
      "Epoch 20/30 - Avg train Loss: 0.225562: 100%|██████████████████████████████████████████████████████████████████████████████████████████████████████████████████████████████| 25/25 [00:37<00:00,  1.49s/it]\n",
      "Epoch 20/30 - Avg val Loss: 0.297035: 100%|██████████████████████████████████████████████████████████████████████████████████████████████████████████████████████████████████| 7/7 [00:12<00:00,  1.76s/it]\n",
      "Epoch 21/30 - Avg train Loss: 0.231060: 100%|██████████████████████████████████████████████████████████████████████████████████████████████████████████████████████████████| 25/25 [00:36<00:00,  1.47s/it]\n",
      "Epoch 21/30 - Avg val Loss: 0.245740: 100%|██████████████████████████████████████████████████████████████████████████████████████████████████████████████████████████████████| 7/7 [00:12<00:00,  1.73s/it]\n",
      "Epoch 22/30 - Avg train Loss: 0.221102: 100%|██████████████████████████████████████████████████████████████████████████████████████████████████████████████████████████████| 25/25 [00:36<00:00,  1.48s/it]\n",
      "Epoch 22/30 - Avg val Loss: 0.234214: 100%|██████████████████████████████████████████████████████████████████████████████████████████████████████████████████████████████████| 7/7 [00:12<00:00,  1.72s/it]\n",
      "Epoch 23/30 - Avg train Loss: 0.221262: 100%|██████████████████████████████████████████████████████████████████████████████████████████████████████████████████████████████| 25/25 [00:37<00:00,  1.49s/it]\n",
      "Epoch 23/30 - Avg val Loss: 0.240287: 100%|██████████████████████████████████████████████████████████████████████████████████████████████████████████████████████████████████| 7/7 [00:12<00:00,  1.79s/it]\n",
      "Epoch 24/30 - Avg train Loss: 0.219905: 100%|██████████████████████████████████████████████████████████████████████████████████████████████████████████████████████████████| 25/25 [00:34<00:00,  1.39s/it]\n",
      "Epoch 24/30 - Avg val Loss: 0.227606: 100%|██████████████████████████████████████████████████████████████████████████████████████████████████████████████████████████████████| 7/7 [00:11<00:00,  1.58s/it]\n"
     ]
    },
    {
     "name": "stdout",
     "output_type": "stream",
     "text": [
      "New best model found at epoch 24 with validation loss: 0.2276. Model saved to models/rare-sweep-12_2024-07-24_03-46.pth\n"
     ]
    },
    {
     "name": "stderr",
     "output_type": "stream",
     "text": [
      "Epoch 25/30 - Avg train Loss: 0.219802: 100%|██████████████████████████████████████████████████████████████████████████████████████████████████████████████████████████████| 25/25 [00:32<00:00,  1.30s/it]\n",
      "Epoch 25/30 - Avg val Loss: 0.227804: 100%|██████████████████████████████████████████████████████████████████████████████████████████████████████████████████████████████████| 7/7 [00:10<00:00,  1.52s/it]\n",
      "Epoch 26/30 - Avg train Loss: 0.219842: 100%|██████████████████████████████████████████████████████████████████████████████████████████████████████████████████████████████| 25/25 [00:32<00:00,  1.32s/it]\n",
      "Epoch 26/30 - Avg val Loss: 0.230245: 100%|██████████████████████████████████████████████████████████████████████████████████████████████████████████████████████████████████| 7/7 [00:10<00:00,  1.50s/it]\n",
      "Epoch 27/30 - Avg train Loss: 0.219698: 100%|██████████████████████████████████████████████████████████████████████████████████████████████████████████████████████████████| 25/25 [00:31<00:00,  1.25s/it]\n",
      "Epoch 27/30 - Avg val Loss: 0.237443: 100%|██████████████████████████████████████████████████████████████████████████████████████████████████████████████████████████████████| 7/7 [00:11<00:00,  1.58s/it]\n",
      "Epoch 28/30 - Avg train Loss: 0.219666: 100%|██████████████████████████████████████████████████████████████████████████████████████████████████████████████████████████████| 25/25 [00:32<00:00,  1.28s/it]\n",
      "Epoch 28/30 - Avg val Loss: 0.232782: 100%|██████████████████████████████████████████████████████████████████████████████████████████████████████████████████████████████████| 7/7 [00:11<00:00,  1.70s/it]\n",
      "Epoch 29/30 - Avg train Loss: 0.219992: 100%|██████████████████████████████████████████████████████████████████████████████████████████████████████████████████████████████| 25/25 [00:32<00:00,  1.31s/it]\n",
      "Epoch 29/30 - Avg val Loss: 0.225922: 100%|██████████████████████████████████████████████████████████████████████████████████████████████████████████████████████████████████| 7/7 [00:11<00:00,  1.59s/it]\n"
     ]
    },
    {
     "name": "stdout",
     "output_type": "stream",
     "text": [
      "New best model found at epoch 29 with validation loss: 0.2259. Model saved to models/rare-sweep-12_2024-07-24_03-46.pth\n"
     ]
    },
    {
     "name": "stderr",
     "output_type": "stream",
     "text": [
      "Epoch 30/30 - Avg train Loss: 0.220535: 100%|██████████████████████████████████████████████████████████████████████████████████████████████████████████████████████████████| 25/25 [00:33<00:00,  1.32s/it]\n",
      "Epoch 30/30 - Avg val Loss: 0.224907: 100%|██████████████████████████████████████████████████████████████████████████████████████████████████████████████████████████████████| 7/7 [00:10<00:00,  1.51s/it]\n"
     ]
    },
    {
     "name": "stdout",
     "output_type": "stream",
     "text": [
      "New best model found at epoch 30 with validation loss: 0.2249. Model saved to models/rare-sweep-12_2024-07-24_03-46.pth\n"
     ]
    },
    {
     "data": {
      "application/vnd.jupyter.widget-view+json": {
       "model_id": "",
       "version_major": 2,
       "version_minor": 0
      },
      "text/plain": [
       "VBox(children=(Label(value='0.008 MB of 0.008 MB uploaded\\r'), FloatProgress(value=1.0, max=1.0)))"
      ]
     },
     "metadata": {},
     "output_type": "display_data"
    },
    {
     "data": {
      "text/html": [
       "<style>\n",
       "    table.wandb td:nth-child(1) { padding: 0 10px; text-align: left ; width: auto;} td:nth-child(2) {text-align: left ; width: 100%}\n",
       "    .wandb-row { display: flex; flex-direction: row; flex-wrap: wrap; justify-content: flex-start; width: 100% }\n",
       "    .wandb-col { display: flex; flex-direction: column; flex-basis: 100%; flex: 1; padding: 10px; }\n",
       "    </style>\n",
       "<div class=\"wandb-row\"><div class=\"wandb-col\"><h3>Run history:</h3><br/><table class=\"wandb\"><tr><td>accuracy</td><td>▁▆▃▇▇▇█▇▇▅▇▇▇█▅▂▂▄▃▇██████▇███</td></tr><tr><td>auprc</td><td>▁▇▇█▆█▇█▇▇▅███████████████████</td></tr><tr><td>auroc</td><td>▁▇▇█▆█▇█▆▆▄███████████████████</td></tr><tr><td>avg_train_loss</td><td>█▅▃▂▂▂▁▁▂▁▁▁▁▁▁▁▁▁▁▁▂▁▁▁▁▁▁▁▁▁</td></tr><tr><td>avg_val_loss</td><td>██▇▃▄▂▂▂▅▄▃▂▂▁▄▅▄▃▄▄▂▁▂▁▁▁▂▁▁▁</td></tr><tr><td>sensitivity</td><td>▂▁▃▆▁▆██▆▅▁▇██▆██████▇▇▇█▇▆▇██</td></tr><tr><td>specificity</td><td>▁█▇███▆▇███████████▇▇███▇█████</td></tr></table><br/></div><div class=\"wandb-col\"><h3>Run summary:</h3><br/><table class=\"wandb\"><tr><td>accuracy</td><td>0.99</td></tr><tr><td>auprc</td><td>1.0</td></tr><tr><td>auroc</td><td>1.0</td></tr><tr><td>avg_train_loss</td><td>0.22053</td></tr><tr><td>avg_val_loss</td><td>0.22491</td></tr><tr><td>sensitivity</td><td>1.0</td></tr><tr><td>specificity</td><td>1.0</td></tr></table><br/></div></div>"
      ],
      "text/plain": [
       "<IPython.core.display.HTML object>"
      ]
     },
     "metadata": {},
     "output_type": "display_data"
    },
    {
     "data": {
      "text/html": [
       " View run <strong style=\"color:#cdcd00\">rare-sweep-12</strong> at: <a href='https://wandb.ai/miccai-challenge-2024/task2/runs/86j68bmu' target=\"_blank\">https://wandb.ai/miccai-challenge-2024/task2/runs/86j68bmu</a><br/> View project at: <a href='https://wandb.ai/miccai-challenge-2024/task2' target=\"_blank\">https://wandb.ai/miccai-challenge-2024/task2</a><br/>Synced 6 W&B file(s), 0 media file(s), 0 artifact file(s) and 0 other file(s)"
      ],
      "text/plain": [
       "<IPython.core.display.HTML object>"
      ]
     },
     "metadata": {},
     "output_type": "display_data"
    },
    {
     "data": {
      "text/html": [
       "Find logs at: <code>./wandb/run-20240724_034638-86j68bmu/logs</code>"
      ],
      "text/plain": [
       "<IPython.core.display.HTML object>"
      ]
     },
     "metadata": {},
     "output_type": "display_data"
    },
    {
     "name": "stdout",
     "output_type": "stream",
     "text": [
      "Finished training\n"
     ]
    },
    {
     "name": "stderr",
     "output_type": "stream",
     "text": [
      "\u001b[34m\u001b[1mwandb\u001b[0m: Agent Starting Run: g055oc0q with config:\n",
      "\u001b[34m\u001b[1mwandb\u001b[0m: \tbatch_size: 16\n",
      "\u001b[34m\u001b[1mwandb\u001b[0m: \tepochs: 30\n",
      "\u001b[34m\u001b[1mwandb\u001b[0m: \tloss_weight: 0.5\n",
      "\u001b[34m\u001b[1mwandb\u001b[0m: \tlr: 0.001\n",
      "\u001b[34m\u001b[1mwandb\u001b[0m: \tlr_schedule_factor: 0.1\n",
      "\u001b[34m\u001b[1mwandb\u001b[0m: \tlr_schedule_patience: 5\n",
      "\u001b[34m\u001b[1mwandb\u001b[0m: \tmodel: Task2EfficientNetB0\n",
      "\u001b[34m\u001b[1mwandb\u001b[0m: \tp_affine: 0.3\n",
      "\u001b[34m\u001b[1mwandb\u001b[0m: \tp_clahe: 0.3\n",
      "\u001b[34m\u001b[1mwandb\u001b[0m: \tp_equalize: 0\n",
      "\u001b[34m\u001b[1mwandb\u001b[0m: \tp_gaussblur: 0.3\n",
      "\u001b[34m\u001b[1mwandb\u001b[0m: \tp_horizontalflip: 0.5\n",
      "\u001b[34m\u001b[1mwandb\u001b[0m: \tresampling_strategy: undersampling\n",
      "\u001b[34m\u001b[1mwandb\u001b[0m: \trotation: 10\n",
      "\u001b[34m\u001b[1mwandb\u001b[0m: \u001b[33mWARNING\u001b[0m Ignored wandb.init() arg project when running a sweep.\n"
     ]
    },
    {
     "data": {
      "text/html": [
       "wandb version 0.17.5 is available!  To upgrade, please run:\n",
       " $ pip install wandb --upgrade"
      ],
      "text/plain": [
       "<IPython.core.display.HTML object>"
      ]
     },
     "metadata": {},
     "output_type": "display_data"
    },
    {
     "data": {
      "text/html": [
       "Tracking run with wandb version 0.17.0"
      ],
      "text/plain": [
       "<IPython.core.display.HTML object>"
      ]
     },
     "metadata": {},
     "output_type": "display_data"
    },
    {
     "data": {
      "text/html": [
       "Run data is saved locally in <code>/home/optima/mhaderer/AILS-MICCAI-UWF4DR-Challenge/wandb/run-20240724_041207-g055oc0q</code>"
      ],
      "text/plain": [
       "<IPython.core.display.HTML object>"
      ]
     },
     "metadata": {},
     "output_type": "display_data"
    },
    {
     "data": {
      "text/html": [
       "Syncing run <strong><a href='https://wandb.ai/miccai-challenge-2024/task2/runs/g055oc0q' target=\"_blank\">distinctive-sweep-13</a></strong> to <a href='https://wandb.ai/miccai-challenge-2024/task2' target=\"_blank\">Weights & Biases</a> (<a href='https://wandb.me/run' target=\"_blank\">docs</a>)<br/>Sweep page: <a href='https://wandb.ai/miccai-challenge-2024/task2/sweeps/eo1h97d3' target=\"_blank\">https://wandb.ai/miccai-challenge-2024/task2/sweeps/eo1h97d3</a>"
      ],
      "text/plain": [
       "<IPython.core.display.HTML object>"
      ]
     },
     "metadata": {},
     "output_type": "display_data"
    },
    {
     "data": {
      "text/html": [
       " View project at <a href='https://wandb.ai/miccai-challenge-2024/task2' target=\"_blank\">https://wandb.ai/miccai-challenge-2024/task2</a>"
      ],
      "text/plain": [
       "<IPython.core.display.HTML object>"
      ]
     },
     "metadata": {},
     "output_type": "display_data"
    },
    {
     "data": {
      "text/html": [
       " View sweep at <a href='https://wandb.ai/miccai-challenge-2024/task2/sweeps/eo1h97d3' target=\"_blank\">https://wandb.ai/miccai-challenge-2024/task2/sweeps/eo1h97d3</a>"
      ],
      "text/plain": [
       "<IPython.core.display.HTML object>"
      ]
     },
     "metadata": {},
     "output_type": "display_data"
    },
    {
     "data": {
      "text/html": [
       " View run at <a href='https://wandb.ai/miccai-challenge-2024/task2/runs/g055oc0q' target=\"_blank\">https://wandb.ai/miccai-challenge-2024/task2/runs/g055oc0q</a>"
      ],
      "text/plain": [
       "<IPython.core.display.HTML object>"
      ]
     },
     "metadata": {},
     "output_type": "display_data"
    },
    {
     "name": "stdout",
     "output_type": "stream",
     "text": [
      "Using device: cuda\n",
      "Loaded pretrained weights for efficientnet-b0\n",
      "Now train train train\n"
     ]
    },
    {
     "name": "stderr",
     "output_type": "stream",
     "text": [
      "Epoch 1/30 - Avg train Loss: 0.376146: 100%|███████████████████████████████████████████████████████████████████████████████████████████████████████████████████████████████| 15/15 [00:28<00:00,  1.90s/it]\n",
      "Epoch 1/30 - Avg val Loss: 0.521659: 100%|███████████████████████████████████████████████████████████████████████████████████████████████████████████████████████████████████| 4/4 [00:05<00:00,  1.49s/it]\n"
     ]
    },
    {
     "name": "stdout",
     "output_type": "stream",
     "text": [
      "New best model found at epoch 1 with validation loss: 0.5217. Model saved to models/distinctive-sweep-13_2024-07-24_04-12.pth\n"
     ]
    },
    {
     "name": "stderr",
     "output_type": "stream",
     "text": [
      "Epoch 2/30 - Avg train Loss: 0.325567: 100%|███████████████████████████████████████████████████████████████████████████████████████████████████████████████████████████████| 15/15 [00:29<00:00,  1.94s/it]\n",
      "Epoch 2/30 - Avg val Loss: 0.365750: 100%|███████████████████████████████████████████████████████████████████████████████████████████████████████████████████████████████████| 4/4 [00:05<00:00,  1.42s/it]\n"
     ]
    },
    {
     "name": "stdout",
     "output_type": "stream",
     "text": [
      "New best model found at epoch 2 with validation loss: 0.3658. Model saved to models/distinctive-sweep-13_2024-07-24_04-12.pth\n"
     ]
    },
    {
     "name": "stderr",
     "output_type": "stream",
     "text": [
      "Epoch 3/30 - Avg train Loss: 0.314105: 100%|███████████████████████████████████████████████████████████████████████████████████████████████████████████████████████████████| 15/15 [00:28<00:00,  1.90s/it]\n",
      "Epoch 3/30 - Avg val Loss: 0.453058: 100%|███████████████████████████████████████████████████████████████████████████████████████████████████████████████████████████████████| 4/4 [00:05<00:00,  1.46s/it]\n",
      "Epoch 4/30 - Avg train Loss: 0.310303: 100%|███████████████████████████████████████████████████████████████████████████████████████████████████████████████████████████████| 15/15 [00:27<00:00,  1.84s/it]\n",
      "Epoch 4/30 - Avg val Loss: 0.327709: 100%|███████████████████████████████████████████████████████████████████████████████████████████████████████████████████████████████████| 4/4 [00:05<00:00,  1.43s/it]\n"
     ]
    },
    {
     "name": "stdout",
     "output_type": "stream",
     "text": [
      "New best model found at epoch 4 with validation loss: 0.3277. Model saved to models/distinctive-sweep-13_2024-07-24_04-12.pth\n"
     ]
    },
    {
     "name": "stderr",
     "output_type": "stream",
     "text": [
      "Epoch 5/30 - Avg train Loss: 0.285046: 100%|███████████████████████████████████████████████████████████████████████████████████████████████████████████████████████████████| 15/15 [00:26<00:00,  1.80s/it]\n",
      "Epoch 5/30 - Avg val Loss: 0.345215: 100%|███████████████████████████████████████████████████████████████████████████████████████████████████████████████████████████████████| 4/4 [00:05<00:00,  1.40s/it]\n",
      "Epoch 6/30 - Avg train Loss: 0.291026: 100%|███████████████████████████████████████████████████████████████████████████████████████████████████████████████████████████████| 15/15 [00:27<00:00,  1.83s/it]\n",
      "Epoch 6/30 - Avg val Loss: 0.421590: 100%|███████████████████████████████████████████████████████████████████████████████████████████████████████████████████████████████████| 4/4 [00:05<00:00,  1.49s/it]\n",
      "Epoch 7/30 - Avg train Loss: 0.265695: 100%|███████████████████████████████████████████████████████████████████████████████████████████████████████████████████████████████| 15/15 [00:27<00:00,  1.81s/it]\n",
      "Epoch 7/30 - Avg val Loss: 0.359914: 100%|███████████████████████████████████████████████████████████████████████████████████████████████████████████████████████████████████| 4/4 [00:05<00:00,  1.46s/it]\n",
      "Epoch 8/30 - Avg train Loss: 0.254407: 100%|███████████████████████████████████████████████████████████████████████████████████████████████████████████████████████████████| 15/15 [00:26<00:00,  1.76s/it]\n",
      "Epoch 8/30 - Avg val Loss: 0.352554: 100%|███████████████████████████████████████████████████████████████████████████████████████████████████████████████████████████████████| 4/4 [00:05<00:00,  1.35s/it]\n",
      "Epoch 9/30 - Avg train Loss: 0.270459: 100%|███████████████████████████████████████████████████████████████████████████████████████████████████████████████████████████████| 15/15 [00:26<00:00,  1.77s/it]\n",
      "Epoch 9/30 - Avg val Loss: 0.374767: 100%|███████████████████████████████████████████████████████████████████████████████████████████████████████████████████████████████████| 4/4 [00:05<00:00,  1.34s/it]\n",
      "Epoch 10/30 - Avg train Loss: 0.253846: 100%|██████████████████████████████████████████████████████████████████████████████████████████████████████████████████████████████| 15/15 [00:27<00:00,  1.86s/it]\n",
      "Epoch 10/30 - Avg val Loss: 0.346204: 100%|██████████████████████████████████████████████████████████████████████████████████████████████████████████████████████████████████| 4/4 [00:05<00:00,  1.41s/it]\n",
      "Epoch 11/30 - Avg train Loss: 0.266631: 100%|██████████████████████████████████████████████████████████████████████████████████████████████████████████████████████████████| 15/15 [00:28<00:00,  1.87s/it]\n",
      "Epoch 11/30 - Avg val Loss: 0.313295: 100%|██████████████████████████████████████████████████████████████████████████████████████████████████████████████████████████████████| 4/4 [00:05<00:00,  1.47s/it]\n"
     ]
    },
    {
     "name": "stdout",
     "output_type": "stream",
     "text": [
      "New best model found at epoch 11 with validation loss: 0.3133. Model saved to models/distinctive-sweep-13_2024-07-24_04-12.pth\n"
     ]
    },
    {
     "name": "stderr",
     "output_type": "stream",
     "text": [
      "Epoch 12/30 - Avg train Loss: 0.238418: 100%|██████████████████████████████████████████████████████████████████████████████████████████████████████████████████████████████| 15/15 [00:27<00:00,  1.81s/it]\n",
      "Epoch 12/30 - Avg val Loss: 0.302461: 100%|██████████████████████████████████████████████████████████████████████████████████████████████████████████████████████████████████| 4/4 [00:05<00:00,  1.47s/it]\n"
     ]
    },
    {
     "name": "stdout",
     "output_type": "stream",
     "text": [
      "New best model found at epoch 12 with validation loss: 0.3025. Model saved to models/distinctive-sweep-13_2024-07-24_04-12.pth\n"
     ]
    },
    {
     "name": "stderr",
     "output_type": "stream",
     "text": [
      "Epoch 13/30 - Avg train Loss: 0.243648: 100%|██████████████████████████████████████████████████████████████████████████████████████████████████████████████████████████████| 15/15 [00:27<00:00,  1.86s/it]\n",
      "Epoch 13/30 - Avg val Loss: 0.300418: 100%|██████████████████████████████████████████████████████████████████████████████████████████████████████████████████████████████████| 4/4 [00:05<00:00,  1.41s/it]\n"
     ]
    },
    {
     "name": "stdout",
     "output_type": "stream",
     "text": [
      "New best model found at epoch 13 with validation loss: 0.3004. Model saved to models/distinctive-sweep-13_2024-07-24_04-12.pth\n"
     ]
    },
    {
     "name": "stderr",
     "output_type": "stream",
     "text": [
      "Epoch 14/30 - Avg train Loss: 0.239751: 100%|██████████████████████████████████████████████████████████████████████████████████████████████████████████████████████████████| 15/15 [00:27<00:00,  1.85s/it]\n",
      "Epoch 14/30 - Avg val Loss: 0.299475: 100%|██████████████████████████████████████████████████████████████████████████████████████████████████████████████████████████████████| 4/4 [00:05<00:00,  1.39s/it]\n"
     ]
    },
    {
     "name": "stdout",
     "output_type": "stream",
     "text": [
      "New best model found at epoch 14 with validation loss: 0.2995. Model saved to models/distinctive-sweep-13_2024-07-24_04-12.pth\n"
     ]
    },
    {
     "name": "stderr",
     "output_type": "stream",
     "text": [
      "Epoch 15/30 - Avg train Loss: 0.232396: 100%|██████████████████████████████████████████████████████████████████████████████████████████████████████████████████████████████| 15/15 [00:27<00:00,  1.82s/it]\n",
      "Epoch 15/30 - Avg val Loss: 0.291718: 100%|██████████████████████████████████████████████████████████████████████████████████████████████████████████████████████████████████| 4/4 [00:05<00:00,  1.33s/it]\n"
     ]
    },
    {
     "name": "stdout",
     "output_type": "stream",
     "text": [
      "New best model found at epoch 15 with validation loss: 0.2917. Model saved to models/distinctive-sweep-13_2024-07-24_04-12.pth\n"
     ]
    },
    {
     "name": "stderr",
     "output_type": "stream",
     "text": [
      "Epoch 16/30 - Avg train Loss: 0.233089: 100%|██████████████████████████████████████████████████████████████████████████████████████████████████████████████████████████████| 15/15 [00:25<00:00,  1.72s/it]\n",
      "Epoch 16/30 - Avg val Loss: 0.289463: 100%|██████████████████████████████████████████████████████████████████████████████████████████████████████████████████████████████████| 4/4 [00:05<00:00,  1.35s/it]\n"
     ]
    },
    {
     "name": "stdout",
     "output_type": "stream",
     "text": [
      "New best model found at epoch 16 with validation loss: 0.2895. Model saved to models/distinctive-sweep-13_2024-07-24_04-12.pth\n"
     ]
    },
    {
     "name": "stderr",
     "output_type": "stream",
     "text": [
      "Epoch 17/30 - Avg train Loss: 0.241924: 100%|██████████████████████████████████████████████████████████████████████████████████████████████████████████████████████████████| 15/15 [00:27<00:00,  1.83s/it]\n",
      "Epoch 17/30 - Avg val Loss: 0.287201: 100%|██████████████████████████████████████████████████████████████████████████████████████████████████████████████████████████████████| 4/4 [00:05<00:00,  1.38s/it]\n"
     ]
    },
    {
     "name": "stdout",
     "output_type": "stream",
     "text": [
      "New best model found at epoch 17 with validation loss: 0.2872. Model saved to models/distinctive-sweep-13_2024-07-24_04-12.pth\n"
     ]
    },
    {
     "name": "stderr",
     "output_type": "stream",
     "text": [
      "Epoch 18/30 - Avg train Loss: 0.229528: 100%|██████████████████████████████████████████████████████████████████████████████████████████████████████████████████████████████| 15/15 [00:26<00:00,  1.74s/it]\n",
      "Epoch 18/30 - Avg val Loss: 0.288536: 100%|██████████████████████████████████████████████████████████████████████████████████████████████████████████████████████████████████| 4/4 [00:05<00:00,  1.35s/it]\n",
      "Epoch 19/30 - Avg train Loss: 0.223477: 100%|██████████████████████████████████████████████████████████████████████████████████████████████████████████████████████████████| 15/15 [00:26<00:00,  1.76s/it]\n",
      "Epoch 19/30 - Avg val Loss: 0.288394: 100%|██████████████████████████████████████████████████████████████████████████████████████████████████████████████████████████████████| 4/4 [00:05<00:00,  1.34s/it]\n",
      "Epoch 20/30 - Avg train Loss: 0.229337: 100%|██████████████████████████████████████████████████████████████████████████████████████████████████████████████████████████████| 15/15 [00:26<00:00,  1.78s/it]\n",
      "Epoch 20/30 - Avg val Loss: 0.288539: 100%|██████████████████████████████████████████████████████████████████████████████████████████████████████████████████████████████████| 4/4 [00:05<00:00,  1.38s/it]\n",
      "Epoch 21/30 - Avg train Loss: 0.232044: 100%|██████████████████████████████████████████████████████████████████████████████████████████████████████████████████████████████| 15/15 [00:26<00:00,  1.78s/it]\n",
      "Epoch 21/30 - Avg val Loss: 0.289952: 100%|██████████████████████████████████████████████████████████████████████████████████████████████████████████████████████████████████| 4/4 [00:05<00:00,  1.47s/it]\n",
      "Epoch 22/30 - Avg train Loss: 0.225009: 100%|██████████████████████████████████████████████████████████████████████████████████████████████████████████████████████████████| 15/15 [00:27<00:00,  1.83s/it]\n",
      "Epoch 22/30 - Avg val Loss: 0.289709: 100%|██████████████████████████████████████████████████████████████████████████████████████████████████████████████████████████████████| 4/4 [00:05<00:00,  1.45s/it]\n",
      "Epoch 23/30 - Avg train Loss: 0.226013: 100%|██████████████████████████████████████████████████████████████████████████████████████████████████████████████████████████████| 15/15 [00:26<00:00,  1.78s/it]\n",
      "Epoch 23/30 - Avg val Loss: 0.288614: 100%|██████████████████████████████████████████████████████████████████████████████████████████████████████████████████████████████████| 4/4 [00:05<00:00,  1.35s/it]\n",
      "Epoch 24/30 - Avg train Loss: 0.232619: 100%|██████████████████████████████████████████████████████████████████████████████████████████████████████████████████████████████| 15/15 [00:26<00:00,  1.78s/it]\n",
      "Epoch 24/30 - Avg val Loss: 0.289478: 100%|██████████████████████████████████████████████████████████████████████████████████████████████████████████████████████████████████| 4/4 [00:05<00:00,  1.38s/it]\n",
      "Epoch 25/30 - Avg train Loss: 0.230262: 100%|██████████████████████████████████████████████████████████████████████████████████████████████████████████████████████████████| 15/15 [00:26<00:00,  1.76s/it]\n",
      "Epoch 25/30 - Avg val Loss: 0.289900: 100%|██████████████████████████████████████████████████████████████████████████████████████████████████████████████████████████████████| 4/4 [00:05<00:00,  1.37s/it]\n",
      "Epoch 26/30 - Avg train Loss: 0.226576: 100%|██████████████████████████████████████████████████████████████████████████████████████████████████████████████████████████████| 15/15 [00:26<00:00,  1.79s/it]\n",
      "Epoch 26/30 - Avg val Loss: 0.290359: 100%|██████████████████████████████████████████████████████████████████████████████████████████████████████████████████████████████████| 4/4 [00:05<00:00,  1.35s/it]\n",
      "Epoch 27/30 - Avg train Loss: 0.225547: 100%|██████████████████████████████████████████████████████████████████████████████████████████████████████████████████████████████| 15/15 [00:27<00:00,  1.81s/it]\n",
      "Epoch 27/30 - Avg val Loss: 0.290098: 100%|██████████████████████████████████████████████████████████████████████████████████████████████████████████████████████████████████| 4/4 [00:05<00:00,  1.35s/it]\n",
      "Epoch 28/30 - Avg train Loss: 0.226378: 100%|██████████████████████████████████████████████████████████████████████████████████████████████████████████████████████████████| 15/15 [00:26<00:00,  1.75s/it]\n",
      "Epoch 28/30 - Avg val Loss: 0.290407: 100%|██████████████████████████████████████████████████████████████████████████████████████████████████████████████████████████████████| 4/4 [00:05<00:00,  1.49s/it]\n",
      "Epoch 29/30 - Avg train Loss: 0.225602: 100%|██████████████████████████████████████████████████████████████████████████████████████████████████████████████████████████████| 15/15 [00:27<00:00,  1.85s/it]\n",
      "Epoch 29/30 - Avg val Loss: 0.291177: 100%|██████████████████████████████████████████████████████████████████████████████████████████████████████████████████████████████████| 4/4 [00:05<00:00,  1.44s/it]\n",
      "Epoch 30/30 - Avg train Loss: 0.224448: 100%|██████████████████████████████████████████████████████████████████████████████████████████████████████████████████████████████| 15/15 [00:27<00:00,  1.82s/it]\n",
      "Epoch 30/30 - Avg val Loss: 0.291539: 100%|██████████████████████████████████████████████████████████████████████████████████████████████████████████████████████████████████| 4/4 [00:05<00:00,  1.43s/it]\n"
     ]
    },
    {
     "data": {
      "application/vnd.jupyter.widget-view+json": {
       "model_id": "",
       "version_major": 2,
       "version_minor": 0
      },
      "text/plain": [
       "VBox(children=(Label(value='0.008 MB of 0.008 MB uploaded\\r'), FloatProgress(value=1.0, max=1.0)))"
      ]
     },
     "metadata": {},
     "output_type": "display_data"
    },
    {
     "data": {
      "text/html": [
       "<style>\n",
       "    table.wandb td:nth-child(1) { padding: 0 10px; text-align: left ; width: auto;} td:nth-child(2) {text-align: left ; width: 100%}\n",
       "    .wandb-row { display: flex; flex-direction: row; flex-wrap: wrap; justify-content: flex-start; width: 100% }\n",
       "    .wandb-col { display: flex; flex-direction: column; flex-basis: 100%; flex: 1; padding: 10px; }\n",
       "    </style>\n",
       "<div class=\"wandb-row\"><div class=\"wandb-col\"><h3>Run history:</h3><br/><table class=\"wandb\"><tr><td>accuracy</td><td>▁▄▅██▃▇▆▆▇█▇████▇█▇██▇▇█████▇▇</td></tr><tr><td>auprc</td><td>▃▃▄▇▇▁▆▃▄▅▆▇▇▇█████▇▇▇▇▇▇▇▇▇▆▆</td></tr><tr><td>auroc</td><td>▄▅▅█▇▁▅▂▃▅▆▇▇▇█████▇▇▇▇▇▇▇▇▇▇▇</td></tr><tr><td>avg_train_loss</td><td>█▆▅▅▄▄▃▂▃▂▃▂▂▂▁▁▂▁▁▁▁▁▁▁▁▁▁▁▁▁</td></tr><tr><td>avg_val_loss</td><td>█▃▆▂▃▅▃▃▄▃▂▁▁▁▁▁▁▁▁▁▁▁▁▁▁▁▁▁▁▁</td></tr><tr><td>sensitivity</td><td>▅▃▆▃▃▁▅▃▃▃▃▃▃▁▁▆███▆▆▆████████</td></tr><tr><td>specificity</td><td>▁▄▁▇█▄▇▆▇▇▇▇▇██▆▆▆▆▆▆▆▆▆▆▆▆▆▆▆</td></tr></table><br/></div><div class=\"wandb-col\"><h3>Run summary:</h3><br/><table class=\"wandb\"><tr><td>accuracy</td><td>0.86667</td></tr><tr><td>auprc</td><td>0.94428</td></tr><tr><td>auroc</td><td>0.94111</td></tr><tr><td>avg_train_loss</td><td>0.22445</td></tr><tr><td>avg_val_loss</td><td>0.29154</td></tr><tr><td>sensitivity</td><td>0.9</td></tr><tr><td>specificity</td><td>0.93333</td></tr></table><br/></div></div>"
      ],
      "text/plain": [
       "<IPython.core.display.HTML object>"
      ]
     },
     "metadata": {},
     "output_type": "display_data"
    },
    {
     "data": {
      "text/html": [
       " View run <strong style=\"color:#cdcd00\">distinctive-sweep-13</strong> at: <a href='https://wandb.ai/miccai-challenge-2024/task2/runs/g055oc0q' target=\"_blank\">https://wandb.ai/miccai-challenge-2024/task2/runs/g055oc0q</a><br/> View project at: <a href='https://wandb.ai/miccai-challenge-2024/task2' target=\"_blank\">https://wandb.ai/miccai-challenge-2024/task2</a><br/>Synced 6 W&B file(s), 0 media file(s), 0 artifact file(s) and 0 other file(s)"
      ],
      "text/plain": [
       "<IPython.core.display.HTML object>"
      ]
     },
     "metadata": {},
     "output_type": "display_data"
    },
    {
     "data": {
      "text/html": [
       "Find logs at: <code>./wandb/run-20240724_041207-g055oc0q/logs</code>"
      ],
      "text/plain": [
       "<IPython.core.display.HTML object>"
      ]
     },
     "metadata": {},
     "output_type": "display_data"
    },
    {
     "name": "stdout",
     "output_type": "stream",
     "text": [
      "Finished training\n"
     ]
    },
    {
     "name": "stderr",
     "output_type": "stream",
     "text": [
      "\u001b[34m\u001b[1mwandb\u001b[0m: Agent Starting Run: bk7x0ya1 with config:\n",
      "\u001b[34m\u001b[1mwandb\u001b[0m: \tbatch_size: 16\n",
      "\u001b[34m\u001b[1mwandb\u001b[0m: \tepochs: 30\n",
      "\u001b[34m\u001b[1mwandb\u001b[0m: \tloss_weight: 0.5\n",
      "\u001b[34m\u001b[1mwandb\u001b[0m: \tlr: 0.001\n",
      "\u001b[34m\u001b[1mwandb\u001b[0m: \tlr_schedule_factor: 0.1\n",
      "\u001b[34m\u001b[1mwandb\u001b[0m: \tlr_schedule_patience: 5\n",
      "\u001b[34m\u001b[1mwandb\u001b[0m: \tmodel: Task2EfficientNetB0\n",
      "\u001b[34m\u001b[1mwandb\u001b[0m: \tp_affine: 0.3\n",
      "\u001b[34m\u001b[1mwandb\u001b[0m: \tp_clahe: 0.3\n",
      "\u001b[34m\u001b[1mwandb\u001b[0m: \tp_equalize: 0\n",
      "\u001b[34m\u001b[1mwandb\u001b[0m: \tp_gaussblur: 0\n",
      "\u001b[34m\u001b[1mwandb\u001b[0m: \tp_horizontalflip: 0.5\n",
      "\u001b[34m\u001b[1mwandb\u001b[0m: \tresampling_strategy: undersampling\n",
      "\u001b[34m\u001b[1mwandb\u001b[0m: \trotation: 10\n",
      "\u001b[34m\u001b[1mwandb\u001b[0m: \u001b[33mWARNING\u001b[0m Ignored wandb.init() arg project when running a sweep.\n"
     ]
    },
    {
     "data": {
      "text/html": [
       "wandb version 0.17.5 is available!  To upgrade, please run:\n",
       " $ pip install wandb --upgrade"
      ],
      "text/plain": [
       "<IPython.core.display.HTML object>"
      ]
     },
     "metadata": {},
     "output_type": "display_data"
    },
    {
     "data": {
      "text/html": [
       "Tracking run with wandb version 0.17.0"
      ],
      "text/plain": [
       "<IPython.core.display.HTML object>"
      ]
     },
     "metadata": {},
     "output_type": "display_data"
    },
    {
     "data": {
      "text/html": [
       "Run data is saved locally in <code>/home/optima/mhaderer/AILS-MICCAI-UWF4DR-Challenge/wandb/run-20240724_042859-bk7x0ya1</code>"
      ],
      "text/plain": [
       "<IPython.core.display.HTML object>"
      ]
     },
     "metadata": {},
     "output_type": "display_data"
    },
    {
     "data": {
      "text/html": [
       "Syncing run <strong><a href='https://wandb.ai/miccai-challenge-2024/task2/runs/bk7x0ya1' target=\"_blank\">bumbling-sweep-14</a></strong> to <a href='https://wandb.ai/miccai-challenge-2024/task2' target=\"_blank\">Weights & Biases</a> (<a href='https://wandb.me/run' target=\"_blank\">docs</a>)<br/>Sweep page: <a href='https://wandb.ai/miccai-challenge-2024/task2/sweeps/eo1h97d3' target=\"_blank\">https://wandb.ai/miccai-challenge-2024/task2/sweeps/eo1h97d3</a>"
      ],
      "text/plain": [
       "<IPython.core.display.HTML object>"
      ]
     },
     "metadata": {},
     "output_type": "display_data"
    },
    {
     "data": {
      "text/html": [
       " View project at <a href='https://wandb.ai/miccai-challenge-2024/task2' target=\"_blank\">https://wandb.ai/miccai-challenge-2024/task2</a>"
      ],
      "text/plain": [
       "<IPython.core.display.HTML object>"
      ]
     },
     "metadata": {},
     "output_type": "display_data"
    },
    {
     "data": {
      "text/html": [
       " View sweep at <a href='https://wandb.ai/miccai-challenge-2024/task2/sweeps/eo1h97d3' target=\"_blank\">https://wandb.ai/miccai-challenge-2024/task2/sweeps/eo1h97d3</a>"
      ],
      "text/plain": [
       "<IPython.core.display.HTML object>"
      ]
     },
     "metadata": {},
     "output_type": "display_data"
    },
    {
     "data": {
      "text/html": [
       " View run at <a href='https://wandb.ai/miccai-challenge-2024/task2/runs/bk7x0ya1' target=\"_blank\">https://wandb.ai/miccai-challenge-2024/task2/runs/bk7x0ya1</a>"
      ],
      "text/plain": [
       "<IPython.core.display.HTML object>"
      ]
     },
     "metadata": {},
     "output_type": "display_data"
    },
    {
     "name": "stdout",
     "output_type": "stream",
     "text": [
      "Using device: cuda\n",
      "Loaded pretrained weights for efficientnet-b0\n",
      "Now train train train\n"
     ]
    },
    {
     "name": "stderr",
     "output_type": "stream",
     "text": [
      "Epoch 1/30 - Avg train Loss: 0.371506: 100%|███████████████████████████████████████████████████████████████████████████████████████████████████████████████████████████████| 15/15 [00:26<00:00,  1.77s/it]\n",
      "Epoch 1/30 - Avg val Loss: 0.491611: 100%|███████████████████████████████████████████████████████████████████████████████████████████████████████████████████████████████████| 4/4 [00:05<00:00,  1.47s/it]\n"
     ]
    },
    {
     "name": "stdout",
     "output_type": "stream",
     "text": [
      "New best model found at epoch 1 with validation loss: 0.4916. Model saved to models/bumbling-sweep-14_2024-07-24_04-29.pth\n"
     ]
    },
    {
     "name": "stderr",
     "output_type": "stream",
     "text": [
      "Epoch 2/30 - Avg train Loss: 0.345973: 100%|███████████████████████████████████████████████████████████████████████████████████████████████████████████████████████████████| 15/15 [00:26<00:00,  1.74s/it]\n",
      "Epoch 2/30 - Avg val Loss: 0.285502: 100%|███████████████████████████████████████████████████████████████████████████████████████████████████████████████████████████████████| 4/4 [00:05<00:00,  1.37s/it]\n"
     ]
    },
    {
     "name": "stdout",
     "output_type": "stream",
     "text": [
      "New best model found at epoch 2 with validation loss: 0.2855. Model saved to models/bumbling-sweep-14_2024-07-24_04-29.pth\n"
     ]
    },
    {
     "name": "stderr",
     "output_type": "stream",
     "text": [
      "Epoch 3/30 - Avg train Loss: 0.289835: 100%|███████████████████████████████████████████████████████████████████████████████████████████████████████████████████████████████| 15/15 [00:25<00:00,  1.73s/it]\n",
      "Epoch 3/30 - Avg val Loss: 0.304885: 100%|███████████████████████████████████████████████████████████████████████████████████████████████████████████████████████████████████| 4/4 [00:05<00:00,  1.36s/it]\n",
      "Epoch 4/30 - Avg train Loss: 0.282616: 100%|███████████████████████████████████████████████████████████████████████████████████████████████████████████████████████████████| 15/15 [00:25<00:00,  1.73s/it]\n",
      "Epoch 4/30 - Avg val Loss: 0.315210: 100%|███████████████████████████████████████████████████████████████████████████████████████████████████████████████████████████████████| 4/4 [00:05<00:00,  1.44s/it]\n",
      "Epoch 5/30 - Avg train Loss: 0.282077: 100%|███████████████████████████████████████████████████████████████████████████████████████████████████████████████████████████████| 15/15 [00:25<00:00,  1.70s/it]\n",
      "Epoch 5/30 - Avg val Loss: 0.524628: 100%|███████████████████████████████████████████████████████████████████████████████████████████████████████████████████████████████████| 4/4 [00:05<00:00,  1.34s/it]\n",
      "Epoch 6/30 - Avg train Loss: 0.274637: 100%|███████████████████████████████████████████████████████████████████████████████████████████████████████████████████████████████| 15/15 [00:24<00:00,  1.63s/it]\n",
      "Epoch 6/30 - Avg val Loss: 0.436634: 100%|███████████████████████████████████████████████████████████████████████████████████████████████████████████████████████████████████| 4/4 [00:05<00:00,  1.40s/it]\n",
      "Epoch 7/30 - Avg train Loss: 0.269185: 100%|███████████████████████████████████████████████████████████████████████████████████████████████████████████████████████████████| 15/15 [00:25<00:00,  1.67s/it]\n",
      "Epoch 7/30 - Avg val Loss: 0.341336: 100%|███████████████████████████████████████████████████████████████████████████████████████████████████████████████████████████████████| 4/4 [00:05<00:00,  1.31s/it]\n",
      "Epoch 8/30 - Avg train Loss: 0.242611: 100%|███████████████████████████████████████████████████████████████████████████████████████████████████████████████████████████████| 15/15 [00:25<00:00,  1.68s/it]\n",
      "Epoch 8/30 - Avg val Loss: 0.353761: 100%|███████████████████████████████████████████████████████████████████████████████████████████████████████████████████████████████████| 4/4 [00:05<00:00,  1.40s/it]\n",
      "Epoch 9/30 - Avg train Loss: 0.244518: 100%|███████████████████████████████████████████████████████████████████████████████████████████████████████████████████████████████| 15/15 [00:26<00:00,  1.75s/it]\n",
      "Epoch 9/30 - Avg val Loss: 0.309722: 100%|███████████████████████████████████████████████████████████████████████████████████████████████████████████████████████████████████| 4/4 [00:05<00:00,  1.36s/it]\n",
      "Epoch 10/30 - Avg train Loss: 0.244084: 100%|██████████████████████████████████████████████████████████████████████████████████████████████████████████████████████████████| 15/15 [00:24<00:00,  1.65s/it]\n",
      "Epoch 10/30 - Avg val Loss: 0.283107: 100%|██████████████████████████████████████████████████████████████████████████████████████████████████████████████████████████████████| 4/4 [00:05<00:00,  1.37s/it]\n"
     ]
    },
    {
     "name": "stdout",
     "output_type": "stream",
     "text": [
      "New best model found at epoch 10 with validation loss: 0.2831. Model saved to models/bumbling-sweep-14_2024-07-24_04-29.pth\n"
     ]
    },
    {
     "name": "stderr",
     "output_type": "stream",
     "text": [
      "Epoch 11/30 - Avg train Loss: 0.233326: 100%|██████████████████████████████████████████████████████████████████████████████████████████████████████████████████████████████| 15/15 [00:24<00:00,  1.67s/it]\n",
      "Epoch 11/30 - Avg val Loss: 0.282285: 100%|██████████████████████████████████████████████████████████████████████████████████████████████████████████████████████████████████| 4/4 [00:05<00:00,  1.32s/it]\n"
     ]
    },
    {
     "name": "stdout",
     "output_type": "stream",
     "text": [
      "New best model found at epoch 11 with validation loss: 0.2823. Model saved to models/bumbling-sweep-14_2024-07-24_04-29.pth\n"
     ]
    },
    {
     "name": "stderr",
     "output_type": "stream",
     "text": [
      "Epoch 12/30 - Avg train Loss: 0.233931: 100%|██████████████████████████████████████████████████████████████████████████████████████████████████████████████████████████████| 15/15 [00:24<00:00,  1.62s/it]\n",
      "Epoch 12/30 - Avg val Loss: 0.278866: 100%|██████████████████████████████████████████████████████████████████████████████████████████████████████████████████████████████████| 4/4 [00:05<00:00,  1.31s/it]\n"
     ]
    },
    {
     "name": "stdout",
     "output_type": "stream",
     "text": [
      "New best model found at epoch 12 with validation loss: 0.2789. Model saved to models/bumbling-sweep-14_2024-07-24_04-29.pth\n"
     ]
    },
    {
     "name": "stderr",
     "output_type": "stream",
     "text": [
      "Epoch 13/30 - Avg train Loss: 0.241018: 100%|██████████████████████████████████████████████████████████████████████████████████████████████████████████████████████████████| 15/15 [00:24<00:00,  1.65s/it]\n",
      "Epoch 13/30 - Avg val Loss: 0.276749: 100%|██████████████████████████████████████████████████████████████████████████████████████████████████████████████████████████████████| 4/4 [00:05<00:00,  1.34s/it]\n"
     ]
    },
    {
     "name": "stdout",
     "output_type": "stream",
     "text": [
      "New best model found at epoch 13 with validation loss: 0.2767. Model saved to models/bumbling-sweep-14_2024-07-24_04-29.pth\n"
     ]
    },
    {
     "name": "stderr",
     "output_type": "stream",
     "text": [
      "Epoch 14/30 - Avg train Loss: 0.241543: 100%|██████████████████████████████████████████████████████████████████████████████████████████████████████████████████████████████| 15/15 [00:24<00:00,  1.66s/it]\n",
      "Epoch 14/30 - Avg val Loss: 0.275200: 100%|██████████████████████████████████████████████████████████████████████████████████████████████████████████████████████████████████| 4/4 [00:05<00:00,  1.34s/it]\n"
     ]
    },
    {
     "name": "stdout",
     "output_type": "stream",
     "text": [
      "New best model found at epoch 14 with validation loss: 0.2752. Model saved to models/bumbling-sweep-14_2024-07-24_04-29.pth\n"
     ]
    },
    {
     "name": "stderr",
     "output_type": "stream",
     "text": [
      "Epoch 15/30 - Avg train Loss: 0.232575: 100%|██████████████████████████████████████████████████████████████████████████████████████████████████████████████████████████████| 15/15 [00:25<00:00,  1.73s/it]\n",
      "Epoch 15/30 - Avg val Loss: 0.275496: 100%|██████████████████████████████████████████████████████████████████████████████████████████████████████████████████████████████████| 4/4 [00:05<00:00,  1.34s/it]\n",
      "Epoch 16/30 - Avg train Loss: 0.248162: 100%|██████████████████████████████████████████████████████████████████████████████████████████████████████████████████████████████| 15/15 [00:24<00:00,  1.65s/it]\n",
      "Epoch 16/30 - Avg val Loss: 0.271634: 100%|██████████████████████████████████████████████████████████████████████████████████████████████████████████████████████████████████| 4/4 [00:05<00:00,  1.32s/it]\n"
     ]
    },
    {
     "name": "stdout",
     "output_type": "stream",
     "text": [
      "New best model found at epoch 16 with validation loss: 0.2716. Model saved to models/bumbling-sweep-14_2024-07-24_04-29.pth\n"
     ]
    },
    {
     "name": "stderr",
     "output_type": "stream",
     "text": [
      "Epoch 17/30 - Avg train Loss: 0.230360: 100%|██████████████████████████████████████████████████████████████████████████████████████████████████████████████████████████████| 15/15 [00:24<00:00,  1.65s/it]\n",
      "Epoch 17/30 - Avg val Loss: 0.271305: 100%|██████████████████████████████████████████████████████████████████████████████████████████████████████████████████████████████████| 4/4 [00:05<00:00,  1.40s/it]\n"
     ]
    },
    {
     "name": "stdout",
     "output_type": "stream",
     "text": [
      "New best model found at epoch 17 with validation loss: 0.2713. Model saved to models/bumbling-sweep-14_2024-07-24_04-29.pth\n"
     ]
    },
    {
     "name": "stderr",
     "output_type": "stream",
     "text": [
      "Epoch 18/30 - Avg train Loss: 0.237169: 100%|██████████████████████████████████████████████████████████████████████████████████████████████████████████████████████████████| 15/15 [00:24<00:00,  1.65s/it]\n",
      "Epoch 18/30 - Avg val Loss: 0.269835: 100%|██████████████████████████████████████████████████████████████████████████████████████████████████████████████████████████████████| 4/4 [00:06<00:00,  1.60s/it]\n"
     ]
    },
    {
     "name": "stdout",
     "output_type": "stream",
     "text": [
      "New best model found at epoch 18 with validation loss: 0.2698. Model saved to models/bumbling-sweep-14_2024-07-24_04-29.pth\n"
     ]
    },
    {
     "name": "stderr",
     "output_type": "stream",
     "text": [
      "Epoch 19/30 - Avg train Loss: 0.225455: 100%|██████████████████████████████████████████████████████████████████████████████████████████████████████████████████████████████| 15/15 [00:27<00:00,  1.81s/it]\n",
      "Epoch 19/30 - Avg val Loss: 0.267468: 100%|██████████████████████████████████████████████████████████████████████████████████████████████████████████████████████████████████| 4/4 [00:06<00:00,  1.58s/it]\n"
     ]
    },
    {
     "name": "stdout",
     "output_type": "stream",
     "text": [
      "New best model found at epoch 19 with validation loss: 0.2675. Model saved to models/bumbling-sweep-14_2024-07-24_04-29.pth\n"
     ]
    },
    {
     "name": "stderr",
     "output_type": "stream",
     "text": [
      "Epoch 20/30 - Avg train Loss: 0.225137: 100%|██████████████████████████████████████████████████████████████████████████████████████████████████████████████████████████████| 15/15 [00:26<00:00,  1.79s/it]\n",
      "Epoch 20/30 - Avg val Loss: 0.269445: 100%|██████████████████████████████████████████████████████████████████████████████████████████████████████████████████████████████████| 4/4 [00:05<00:00,  1.41s/it]\n",
      "Epoch 21/30 - Avg train Loss: 0.224928: 100%|██████████████████████████████████████████████████████████████████████████████████████████████████████████████████████████████| 15/15 [00:27<00:00,  1.80s/it]\n",
      "Epoch 21/30 - Avg val Loss: 0.273262: 100%|██████████████████████████████████████████████████████████████████████████████████████████████████████████████████████████████████| 4/4 [00:05<00:00,  1.48s/it]\n",
      "Epoch 22/30 - Avg train Loss: 0.230016: 100%|██████████████████████████████████████████████████████████████████████████████████████████████████████████████████████████████| 15/15 [00:26<00:00,  1.79s/it]\n",
      "Epoch 22/30 - Avg val Loss: 0.269461: 100%|██████████████████████████████████████████████████████████████████████████████████████████████████████████████████████████████████| 4/4 [00:05<00:00,  1.45s/it]\n",
      "Epoch 23/30 - Avg train Loss: 0.225983: 100%|██████████████████████████████████████████████████████████████████████████████████████████████████████████████████████████████| 15/15 [00:26<00:00,  1.76s/it]\n",
      "Epoch 23/30 - Avg val Loss: 0.271832: 100%|██████████████████████████████████████████████████████████████████████████████████████████████████████████████████████████████████| 4/4 [00:06<00:00,  1.54s/it]\n",
      "Epoch 24/30 - Avg train Loss: 0.228210: 100%|██████████████████████████████████████████████████████████████████████████████████████████████████████████████████████████████| 15/15 [00:26<00:00,  1.76s/it]\n",
      "Epoch 24/30 - Avg val Loss: 0.268644: 100%|██████████████████████████████████████████████████████████████████████████████████████████████████████████████████████████████████| 4/4 [00:05<00:00,  1.47s/it]\n",
      "Epoch 25/30 - Avg train Loss: 0.223483: 100%|██████████████████████████████████████████████████████████████████████████████████████████████████████████████████████████████| 15/15 [00:25<00:00,  1.73s/it]\n",
      "Epoch 25/30 - Avg val Loss: 0.268850: 100%|██████████████████████████████████████████████████████████████████████████████████████████████████████████████████████████████████| 4/4 [00:06<00:00,  1.55s/it]\n",
      "Epoch 26/30 - Avg train Loss: 0.224838: 100%|██████████████████████████████████████████████████████████████████████████████████████████████████████████████████████████████| 15/15 [00:26<00:00,  1.78s/it]\n",
      "Epoch 26/30 - Avg val Loss: 0.268886: 100%|██████████████████████████████████████████████████████████████████████████████████████████████████████████████████████████████████| 4/4 [00:05<00:00,  1.35s/it]\n",
      "Epoch 27/30 - Avg train Loss: 0.229478: 100%|██████████████████████████████████████████████████████████████████████████████████████████████████████████████████████████████| 15/15 [00:26<00:00,  1.77s/it]\n",
      "Epoch 27/30 - Avg val Loss: 0.268714: 100%|██████████████████████████████████████████████████████████████████████████████████████████████████████████████████████████████████| 4/4 [00:05<00:00,  1.35s/it]\n",
      "Epoch 28/30 - Avg train Loss: 0.224467: 100%|██████████████████████████████████████████████████████████████████████████████████████████████████████████████████████████████| 15/15 [00:26<00:00,  1.77s/it]\n",
      "Epoch 28/30 - Avg val Loss: 0.268408: 100%|██████████████████████████████████████████████████████████████████████████████████████████████████████████████████████████████████| 4/4 [00:05<00:00,  1.34s/it]\n",
      "Epoch 29/30 - Avg train Loss: 0.224859: 100%|██████████████████████████████████████████████████████████████████████████████████████████████████████████████████████████████| 15/15 [00:26<00:00,  1.75s/it]\n",
      "Epoch 29/30 - Avg val Loss: 0.269060: 100%|██████████████████████████████████████████████████████████████████████████████████████████████████████████████████████████████████| 4/4 [00:05<00:00,  1.39s/it]\n",
      "Epoch 30/30 - Avg train Loss: 0.225346: 100%|██████████████████████████████████████████████████████████████████████████████████████████████████████████████████████████████| 15/15 [00:24<00:00,  1.64s/it]\n",
      "Epoch 30/30 - Avg val Loss: 0.268616: 100%|██████████████████████████████████████████████████████████████████████████████████████████████████████████████████████████████████| 4/4 [00:05<00:00,  1.35s/it]\n"
     ]
    },
    {
     "data": {
      "application/vnd.jupyter.widget-view+json": {
       "model_id": "",
       "version_major": 2,
       "version_minor": 0
      },
      "text/plain": [
       "VBox(children=(Label(value='0.008 MB of 0.008 MB uploaded\\r'), FloatProgress(value=1.0, max=1.0)))"
      ]
     },
     "metadata": {},
     "output_type": "display_data"
    },
    {
     "data": {
      "text/html": [
       "<style>\n",
       "    table.wandb td:nth-child(1) { padding: 0 10px; text-align: left ; width: auto;} td:nth-child(2) {text-align: left ; width: 100%}\n",
       "    .wandb-row { display: flex; flex-direction: row; flex-wrap: wrap; justify-content: flex-start; width: 100% }\n",
       "    .wandb-col { display: flex; flex-direction: column; flex-basis: 100%; flex: 1; padding: 10px; }\n",
       "    </style>\n",
       "<div class=\"wandb-row\"><div class=\"wandb-col\"><h3>Run history:</h3><br/><table class=\"wandb\"><tr><td>accuracy</td><td>▁▆█▆▂▃▆▂▅▆▇▆▆▅▄▄▄▅▆▆▅▅▅▅▄▄▄▆▅▆</td></tr><tr><td>auprc</td><td>▅▇▇▆█▄▇▁▄▇▇▇▇▇▇▇▇▇▇▇▇▇▇▇▇▇▇▇▇▇</td></tr><tr><td>auroc</td><td>▂▇▇▅█▁▇▄▅▆▆▆▆▆▆▆▆▆▆▆▆▆▆▇▇▇▇▇▇▇</td></tr><tr><td>avg_train_loss</td><td>█▇▄▄▄▃▃▂▂▂▁▁▂▂▁▂▁▂▁▁▁▁▁▁▁▁▁▁▁▁</td></tr><tr><td>avg_val_loss</td><td>▇▁▂▂█▆▃▃▂▁▁▁▁▁▁▁▁▁▁▁▁▁▁▁▁▁▁▁▁▁</td></tr><tr><td>sensitivity</td><td>▆▅█▃█▁▅▆▅▆▅▆▆▆▃▅▅▅▅▅▅▅▅▆▆▆▆▅▅▅</td></tr><tr><td>specificity</td><td>▁▆▆▆▆██▅▆▆█▆▆▆████████████████</td></tr></table><br/></div><div class=\"wandb-col\"><h3>Run summary:</h3><br/><table class=\"wandb\"><tr><td>accuracy</td><td>0.9</td></tr><tr><td>auprc</td><td>0.98138</td></tr><tr><td>auroc</td><td>0.97889</td></tr><tr><td>avg_train_loss</td><td>0.22535</td></tr><tr><td>avg_val_loss</td><td>0.26862</td></tr><tr><td>sensitivity</td><td>0.86667</td></tr><tr><td>specificity</td><td>1.0</td></tr></table><br/></div></div>"
      ],
      "text/plain": [
       "<IPython.core.display.HTML object>"
      ]
     },
     "metadata": {},
     "output_type": "display_data"
    },
    {
     "data": {
      "text/html": [
       " View run <strong style=\"color:#cdcd00\">bumbling-sweep-14</strong> at: <a href='https://wandb.ai/miccai-challenge-2024/task2/runs/bk7x0ya1' target=\"_blank\">https://wandb.ai/miccai-challenge-2024/task2/runs/bk7x0ya1</a><br/> View project at: <a href='https://wandb.ai/miccai-challenge-2024/task2' target=\"_blank\">https://wandb.ai/miccai-challenge-2024/task2</a><br/>Synced 6 W&B file(s), 0 media file(s), 0 artifact file(s) and 0 other file(s)"
      ],
      "text/plain": [
       "<IPython.core.display.HTML object>"
      ]
     },
     "metadata": {},
     "output_type": "display_data"
    },
    {
     "data": {
      "text/html": [
       "Find logs at: <code>./wandb/run-20240724_042859-bk7x0ya1/logs</code>"
      ],
      "text/plain": [
       "<IPython.core.display.HTML object>"
      ]
     },
     "metadata": {},
     "output_type": "display_data"
    },
    {
     "name": "stdout",
     "output_type": "stream",
     "text": [
      "Finished training\n"
     ]
    },
    {
     "name": "stderr",
     "output_type": "stream",
     "text": [
      "\u001b[34m\u001b[1mwandb\u001b[0m: Agent Starting Run: zpnrn1w9 with config:\n",
      "\u001b[34m\u001b[1mwandb\u001b[0m: \tbatch_size: 16\n",
      "\u001b[34m\u001b[1mwandb\u001b[0m: \tepochs: 30\n",
      "\u001b[34m\u001b[1mwandb\u001b[0m: \tloss_weight: 0.5\n",
      "\u001b[34m\u001b[1mwandb\u001b[0m: \tlr: 0.001\n",
      "\u001b[34m\u001b[1mwandb\u001b[0m: \tlr_schedule_factor: 0.1\n",
      "\u001b[34m\u001b[1mwandb\u001b[0m: \tlr_schedule_patience: 5\n",
      "\u001b[34m\u001b[1mwandb\u001b[0m: \tmodel: Task2EfficientNetB0\n",
      "\u001b[34m\u001b[1mwandb\u001b[0m: \tp_affine: 0.3\n",
      "\u001b[34m\u001b[1mwandb\u001b[0m: \tp_clahe: 0.3\n",
      "\u001b[34m\u001b[1mwandb\u001b[0m: \tp_equalize: 0\n",
      "\u001b[34m\u001b[1mwandb\u001b[0m: \tp_gaussblur: 0\n",
      "\u001b[34m\u001b[1mwandb\u001b[0m: \tp_horizontalflip: 0.5\n",
      "\u001b[34m\u001b[1mwandb\u001b[0m: \tresampling_strategy: undersampling\n",
      "\u001b[34m\u001b[1mwandb\u001b[0m: \trotation: 10\n",
      "\u001b[34m\u001b[1mwandb\u001b[0m: \u001b[33mWARNING\u001b[0m Ignored wandb.init() arg project when running a sweep.\n"
     ]
    },
    {
     "data": {
      "text/html": [
       "wandb version 0.17.5 is available!  To upgrade, please run:\n",
       " $ pip install wandb --upgrade"
      ],
      "text/plain": [
       "<IPython.core.display.HTML object>"
      ]
     },
     "metadata": {},
     "output_type": "display_data"
    },
    {
     "data": {
      "text/html": [
       "Tracking run with wandb version 0.17.0"
      ],
      "text/plain": [
       "<IPython.core.display.HTML object>"
      ]
     },
     "metadata": {},
     "output_type": "display_data"
    },
    {
     "data": {
      "text/html": [
       "Run data is saved locally in <code>/home/optima/mhaderer/AILS-MICCAI-UWF4DR-Challenge/wandb/run-20240724_044502-zpnrn1w9</code>"
      ],
      "text/plain": [
       "<IPython.core.display.HTML object>"
      ]
     },
     "metadata": {},
     "output_type": "display_data"
    },
    {
     "data": {
      "text/html": [
       "Syncing run <strong><a href='https://wandb.ai/miccai-challenge-2024/task2/runs/zpnrn1w9' target=\"_blank\">polar-sweep-15</a></strong> to <a href='https://wandb.ai/miccai-challenge-2024/task2' target=\"_blank\">Weights & Biases</a> (<a href='https://wandb.me/run' target=\"_blank\">docs</a>)<br/>Sweep page: <a href='https://wandb.ai/miccai-challenge-2024/task2/sweeps/eo1h97d3' target=\"_blank\">https://wandb.ai/miccai-challenge-2024/task2/sweeps/eo1h97d3</a>"
      ],
      "text/plain": [
       "<IPython.core.display.HTML object>"
      ]
     },
     "metadata": {},
     "output_type": "display_data"
    },
    {
     "data": {
      "text/html": [
       " View project at <a href='https://wandb.ai/miccai-challenge-2024/task2' target=\"_blank\">https://wandb.ai/miccai-challenge-2024/task2</a>"
      ],
      "text/plain": [
       "<IPython.core.display.HTML object>"
      ]
     },
     "metadata": {},
     "output_type": "display_data"
    },
    {
     "data": {
      "text/html": [
       " View sweep at <a href='https://wandb.ai/miccai-challenge-2024/task2/sweeps/eo1h97d3' target=\"_blank\">https://wandb.ai/miccai-challenge-2024/task2/sweeps/eo1h97d3</a>"
      ],
      "text/plain": [
       "<IPython.core.display.HTML object>"
      ]
     },
     "metadata": {},
     "output_type": "display_data"
    },
    {
     "data": {
      "text/html": [
       " View run at <a href='https://wandb.ai/miccai-challenge-2024/task2/runs/zpnrn1w9' target=\"_blank\">https://wandb.ai/miccai-challenge-2024/task2/runs/zpnrn1w9</a>"
      ],
      "text/plain": [
       "<IPython.core.display.HTML object>"
      ]
     },
     "metadata": {},
     "output_type": "display_data"
    },
    {
     "name": "stdout",
     "output_type": "stream",
     "text": [
      "Using device: cuda\n",
      "Loaded pretrained weights for efficientnet-b0\n",
      "Now train train train\n"
     ]
    },
    {
     "name": "stderr",
     "output_type": "stream",
     "text": [
      "Epoch 1/30 - Avg train Loss: 0.359762: 100%|███████████████████████████████████████████████████████████████████████████████████████████████████████████████████████████████| 15/15 [00:27<00:00,  1.81s/it]\n",
      "Epoch 1/30 - Avg val Loss: 0.517096: 100%|███████████████████████████████████████████████████████████████████████████████████████████████████████████████████████████████████| 4/4 [00:05<00:00,  1.44s/it]\n"
     ]
    },
    {
     "name": "stdout",
     "output_type": "stream",
     "text": [
      "New best model found at epoch 1 with validation loss: 0.5171. Model saved to models/polar-sweep-15_2024-07-24_04-45.pth\n"
     ]
    },
    {
     "name": "stderr",
     "output_type": "stream",
     "text": [
      "Epoch 2/30 - Avg train Loss: 0.333609: 100%|███████████████████████████████████████████████████████████████████████████████████████████████████████████████████████████████| 15/15 [00:25<00:00,  1.71s/it]\n",
      "Epoch 2/30 - Avg val Loss: 0.446250: 100%|███████████████████████████████████████████████████████████████████████████████████████████████████████████████████████████████████| 4/4 [00:05<00:00,  1.42s/it]\n"
     ]
    },
    {
     "name": "stdout",
     "output_type": "stream",
     "text": [
      "New best model found at epoch 2 with validation loss: 0.4463. Model saved to models/polar-sweep-15_2024-07-24_04-45.pth\n"
     ]
    },
    {
     "name": "stderr",
     "output_type": "stream",
     "text": [
      "Epoch 3/30 - Avg train Loss: 0.289915: 100%|███████████████████████████████████████████████████████████████████████████████████████████████████████████████████████████████| 15/15 [00:25<00:00,  1.71s/it]\n",
      "Epoch 3/30 - Avg val Loss: 0.394572: 100%|███████████████████████████████████████████████████████████████████████████████████████████████████████████████████████████████████| 4/4 [00:05<00:00,  1.46s/it]\n"
     ]
    },
    {
     "name": "stdout",
     "output_type": "stream",
     "text": [
      "New best model found at epoch 3 with validation loss: 0.3946. Model saved to models/polar-sweep-15_2024-07-24_04-45.pth\n"
     ]
    },
    {
     "name": "stderr",
     "output_type": "stream",
     "text": [
      "Epoch 4/30 - Avg train Loss: 0.285671: 100%|███████████████████████████████████████████████████████████████████████████████████████████████████████████████████████████████| 15/15 [00:26<00:00,  1.74s/it]\n",
      "Epoch 4/30 - Avg val Loss: 0.390920: 100%|███████████████████████████████████████████████████████████████████████████████████████████████████████████████████████████████████| 4/4 [00:06<00:00,  1.58s/it]\n"
     ]
    },
    {
     "name": "stdout",
     "output_type": "stream",
     "text": [
      "New best model found at epoch 4 with validation loss: 0.3909. Model saved to models/polar-sweep-15_2024-07-24_04-45.pth\n"
     ]
    },
    {
     "name": "stderr",
     "output_type": "stream",
     "text": [
      "Epoch 5/30 - Avg train Loss: 0.273032: 100%|███████████████████████████████████████████████████████████████████████████████████████████████████████████████████████████████| 15/15 [00:28<00:00,  1.87s/it]\n",
      "Epoch 5/30 - Avg val Loss: 0.360467: 100%|███████████████████████████████████████████████████████████████████████████████████████████████████████████████████████████████████| 4/4 [00:06<00:00,  1.62s/it]\n"
     ]
    },
    {
     "name": "stdout",
     "output_type": "stream",
     "text": [
      "New best model found at epoch 5 with validation loss: 0.3605. Model saved to models/polar-sweep-15_2024-07-24_04-45.pth\n"
     ]
    },
    {
     "name": "stderr",
     "output_type": "stream",
     "text": [
      "Epoch 6/30 - Avg train Loss: 0.255567: 100%|███████████████████████████████████████████████████████████████████████████████████████████████████████████████████████████████| 15/15 [00:27<00:00,  1.86s/it]\n",
      "Epoch 6/30 - Avg val Loss: 0.483825: 100%|███████████████████████████████████████████████████████████████████████████████████████████████████████████████████████████████████| 4/4 [00:06<00:00,  1.54s/it]\n",
      "Epoch 7/30 - Avg train Loss: 0.255833: 100%|███████████████████████████████████████████████████████████████████████████████████████████████████████████████████████████████| 15/15 [00:27<00:00,  1.84s/it]\n",
      "Epoch 7/30 - Avg val Loss: 0.433450: 100%|███████████████████████████████████████████████████████████████████████████████████████████████████████████████████████████████████| 4/4 [00:06<00:00,  1.60s/it]\n",
      "Epoch 8/30 - Avg train Loss: 0.262177: 100%|███████████████████████████████████████████████████████████████████████████████████████████████████████████████████████████████| 15/15 [00:25<00:00,  1.72s/it]\n",
      "Epoch 8/30 - Avg val Loss: 0.385600: 100%|███████████████████████████████████████████████████████████████████████████████████████████████████████████████████████████████████| 4/4 [00:06<00:00,  1.51s/it]\n",
      "Epoch 9/30 - Avg train Loss: 0.261551: 100%|███████████████████████████████████████████████████████████████████████████████████████████████████████████████████████████████| 15/15 [00:26<00:00,  1.80s/it]\n",
      "Epoch 9/30 - Avg val Loss: 0.406758: 100%|███████████████████████████████████████████████████████████████████████████████████████████████████████████████████████████████████| 4/4 [00:06<00:00,  1.53s/it]\n",
      "Epoch 10/30 - Avg train Loss: 0.251684: 100%|██████████████████████████████████████████████████████████████████████████████████████████████████████████████████████████████| 15/15 [00:26<00:00,  1.75s/it]\n",
      "Epoch 10/30 - Avg val Loss: 0.306362: 100%|██████████████████████████████████████████████████████████████████████████████████████████████████████████████████████████████████| 4/4 [00:06<00:00,  1.63s/it]\n"
     ]
    },
    {
     "name": "stdout",
     "output_type": "stream",
     "text": [
      "New best model found at epoch 10 with validation loss: 0.3064. Model saved to models/polar-sweep-15_2024-07-24_04-45.pth\n"
     ]
    },
    {
     "name": "stderr",
     "output_type": "stream",
     "text": [
      "Epoch 11/30 - Avg train Loss: 0.235040: 100%|██████████████████████████████████████████████████████████████████████████████████████████████████████████████████████████████| 15/15 [00:27<00:00,  1.85s/it]\n",
      "Epoch 11/30 - Avg val Loss: 0.310390: 100%|██████████████████████████████████████████████████████████████████████████████████████████████████████████████████████████████████| 4/4 [00:06<00:00,  1.56s/it]\n",
      "Epoch 12/30 - Avg train Loss: 0.236998: 100%|██████████████████████████████████████████████████████████████████████████████████████████████████████████████████████████████| 15/15 [00:27<00:00,  1.86s/it]\n",
      "Epoch 12/30 - Avg val Loss: 0.305948: 100%|██████████████████████████████████████████████████████████████████████████████████████████████████████████████████████████████████| 4/4 [00:05<00:00,  1.49s/it]\n"
     ]
    },
    {
     "name": "stdout",
     "output_type": "stream",
     "text": [
      "New best model found at epoch 12 with validation loss: 0.3059. Model saved to models/polar-sweep-15_2024-07-24_04-45.pth\n"
     ]
    },
    {
     "name": "stderr",
     "output_type": "stream",
     "text": [
      "Epoch 13/30 - Avg train Loss: 0.245522: 100%|██████████████████████████████████████████████████████████████████████████████████████████████████████████████████████████████| 15/15 [00:26<00:00,  1.74s/it]\n",
      "Epoch 13/30 - Avg val Loss: 0.336134: 100%|██████████████████████████████████████████████████████████████████████████████████████████████████████████████████████████████████| 4/4 [00:06<00:00,  1.54s/it]\n",
      "Epoch 14/30 - Avg train Loss: 0.252462: 100%|██████████████████████████████████████████████████████████████████████████████████████████████████████████████████████████████| 15/15 [00:26<00:00,  1.76s/it]\n",
      "Epoch 14/30 - Avg val Loss: 0.376171: 100%|██████████████████████████████████████████████████████████████████████████████████████████████████████████████████████████████████| 4/4 [00:06<00:00,  1.54s/it]\n",
      "Epoch 15/30 - Avg train Loss: 0.244884: 100%|██████████████████████████████████████████████████████████████████████████████████████████████████████████████████████████████| 15/15 [00:26<00:00,  1.77s/it]\n",
      "Epoch 15/30 - Avg val Loss: 0.329461: 100%|██████████████████████████████████████████████████████████████████████████████████████████████████████████████████████████████████| 4/4 [00:06<00:00,  1.53s/it]\n",
      "Epoch 16/30 - Avg train Loss: 0.247702: 100%|██████████████████████████████████████████████████████████████████████████████████████████████████████████████████████████████| 15/15 [00:27<00:00,  1.80s/it]\n",
      "Epoch 16/30 - Avg val Loss: 0.320982: 100%|██████████████████████████████████████████████████████████████████████████████████████████████████████████████████████████████████| 4/4 [00:06<00:00,  1.59s/it]\n",
      "Epoch 17/30 - Avg train Loss: 0.237255: 100%|██████████████████████████████████████████████████████████████████████████████████████████████████████████████████████████████| 15/15 [00:26<00:00,  1.75s/it]\n",
      "Epoch 17/30 - Avg val Loss: 0.331196: 100%|██████████████████████████████████████████████████████████████████████████████████████████████████████████████████████████████████| 4/4 [00:05<00:00,  1.44s/it]\n",
      "Epoch 18/30 - Avg train Loss: 0.238377: 100%|██████████████████████████████████████████████████████████████████████████████████████████████████████████████████████████████| 15/15 [00:27<00:00,  1.84s/it]\n",
      "Epoch 18/30 - Avg val Loss: 0.297119: 100%|██████████████████████████████████████████████████████████████████████████████████████████████████████████████████████████████████| 4/4 [00:06<00:00,  1.51s/it]\n"
     ]
    },
    {
     "name": "stdout",
     "output_type": "stream",
     "text": [
      "New best model found at epoch 18 with validation loss: 0.2971. Model saved to models/polar-sweep-15_2024-07-24_04-45.pth\n"
     ]
    },
    {
     "name": "stderr",
     "output_type": "stream",
     "text": [
      "Epoch 19/30 - Avg train Loss: 0.239482: 100%|██████████████████████████████████████████████████████████████████████████████████████████████████████████████████████████████| 15/15 [00:27<00:00,  1.84s/it]\n",
      "Epoch 19/30 - Avg val Loss: 0.316610: 100%|██████████████████████████████████████████████████████████████████████████████████████████████████████████████████████████████████| 4/4 [00:06<00:00,  1.57s/it]\n",
      "Epoch 20/30 - Avg train Loss: 0.237613: 100%|██████████████████████████████████████████████████████████████████████████████████████████████████████████████████████████████| 15/15 [00:27<00:00,  1.84s/it]\n",
      "Epoch 20/30 - Avg val Loss: 0.297113: 100%|██████████████████████████████████████████████████████████████████████████████████████████████████████████████████████████████████| 4/4 [00:06<00:00,  1.63s/it]\n"
     ]
    },
    {
     "name": "stdout",
     "output_type": "stream",
     "text": [
      "New best model found at epoch 20 with validation loss: 0.2971. Model saved to models/polar-sweep-15_2024-07-24_04-45.pth\n"
     ]
    },
    {
     "name": "stderr",
     "output_type": "stream",
     "text": [
      "Epoch 21/30 - Avg train Loss: 0.225686: 100%|██████████████████████████████████████████████████████████████████████████████████████████████████████████████████████████████| 15/15 [00:26<00:00,  1.79s/it]\n",
      "Epoch 21/30 - Avg val Loss: 0.305214: 100%|██████████████████████████████████████████████████████████████████████████████████████████████████████████████████████████████████| 4/4 [00:06<00:00,  1.57s/it]\n",
      "Epoch 22/30 - Avg train Loss: 0.226532: 100%|██████████████████████████████████████████████████████████████████████████████████████████████████████████████████████████████| 15/15 [00:26<00:00,  1.79s/it]\n",
      "Epoch 22/30 - Avg val Loss: 0.322981: 100%|██████████████████████████████████████████████████████████████████████████████████████████████████████████████████████████████████| 4/4 [00:06<00:00,  1.60s/it]\n",
      "Epoch 23/30 - Avg train Loss: 0.222767: 100%|██████████████████████████████████████████████████████████████████████████████████████████████████████████████████████████████| 15/15 [00:28<00:00,  1.87s/it]\n",
      "Epoch 23/30 - Avg val Loss: 0.308911: 100%|██████████████████████████████████████████████████████████████████████████████████████████████████████████████████████████████████| 4/4 [00:06<00:00,  1.61s/it]\n",
      "Epoch 24/30 - Avg train Loss: 0.226039: 100%|██████████████████████████████████████████████████████████████████████████████████████████████████████████████████████████████| 15/15 [00:25<00:00,  1.71s/it]\n",
      "Epoch 24/30 - Avg val Loss: 0.308865: 100%|██████████████████████████████████████████████████████████████████████████████████████████████████████████████████████████████████| 4/4 [00:05<00:00,  1.44s/it]\n",
      "Epoch 25/30 - Avg train Loss: 0.224382: 100%|██████████████████████████████████████████████████████████████████████████████████████████████████████████████████████████████| 15/15 [00:25<00:00,  1.67s/it]\n",
      "Epoch 25/30 - Avg val Loss: 0.297826: 100%|██████████████████████████████████████████████████████████████████████████████████████████████████████████████████████████████████| 4/4 [00:05<00:00,  1.46s/it]\n",
      "Epoch 26/30 - Avg train Loss: 0.222125: 100%|██████████████████████████████████████████████████████████████████████████████████████████████████████████████████████████████| 15/15 [00:26<00:00,  1.74s/it]\n",
      "Epoch 26/30 - Avg val Loss: 0.293733: 100%|██████████████████████████████████████████████████████████████████████████████████████████████████████████████████████████████████| 4/4 [00:06<00:00,  1.53s/it]\n"
     ]
    },
    {
     "name": "stdout",
     "output_type": "stream",
     "text": [
      "New best model found at epoch 26 with validation loss: 0.2937. Model saved to models/polar-sweep-15_2024-07-24_04-45.pth\n"
     ]
    },
    {
     "name": "stderr",
     "output_type": "stream",
     "text": [
      "Epoch 27/30 - Avg train Loss: 0.223503: 100%|██████████████████████████████████████████████████████████████████████████████████████████████████████████████████████████████| 15/15 [00:25<00:00,  1.73s/it]\n",
      "Epoch 27/30 - Avg val Loss: 0.290839: 100%|██████████████████████████████████████████████████████████████████████████████████████████████████████████████████████████████████| 4/4 [00:06<00:00,  1.56s/it]\n"
     ]
    },
    {
     "name": "stdout",
     "output_type": "stream",
     "text": [
      "New best model found at epoch 27 with validation loss: 0.2908. Model saved to models/polar-sweep-15_2024-07-24_04-45.pth\n"
     ]
    },
    {
     "name": "stderr",
     "output_type": "stream",
     "text": [
      "Epoch 28/30 - Avg train Loss: 0.223379: 100%|██████████████████████████████████████████████████████████████████████████████████████████████████████████████████████████████| 15/15 [00:25<00:00,  1.72s/it]\n",
      "Epoch 28/30 - Avg val Loss: 0.292370: 100%|██████████████████████████████████████████████████████████████████████████████████████████████████████████████████████████████████| 4/4 [00:06<00:00,  1.63s/it]\n",
      "Epoch 29/30 - Avg train Loss: 0.227678: 100%|██████████████████████████████████████████████████████████████████████████████████████████████████████████████████████████████| 15/15 [00:26<00:00,  1.74s/it]\n",
      "Epoch 29/30 - Avg val Loss: 0.293839: 100%|██████████████████████████████████████████████████████████████████████████████████████████████████████████████████████████████████| 4/4 [00:06<00:00,  1.59s/it]\n",
      "Epoch 30/30 - Avg train Loss: 0.224860: 100%|██████████████████████████████████████████████████████████████████████████████████████████████████████████████████████████████| 15/15 [00:27<00:00,  1.81s/it]\n",
      "Epoch 30/30 - Avg val Loss: 0.292872: 100%|██████████████████████████████████████████████████████████████████████████████████████████████████████████████████████████████████| 4/4 [00:06<00:00,  1.56s/it]\n"
     ]
    },
    {
     "data": {
      "application/vnd.jupyter.widget-view+json": {
       "model_id": "",
       "version_major": 2,
       "version_minor": 0
      },
      "text/plain": [
       "VBox(children=(Label(value='0.008 MB of 0.008 MB uploaded\\r'), FloatProgress(value=1.0, max=1.0)))"
      ]
     },
     "metadata": {},
     "output_type": "display_data"
    },
    {
     "data": {
      "text/html": [
       "<style>\n",
       "    table.wandb td:nth-child(1) { padding: 0 10px; text-align: left ; width: auto;} td:nth-child(2) {text-align: left ; width: 100%}\n",
       "    .wandb-row { display: flex; flex-direction: row; flex-wrap: wrap; justify-content: flex-start; width: 100% }\n",
       "    .wandb-col { display: flex; flex-direction: column; flex-basis: 100%; flex: 1; padding: 10px; }\n",
       "    </style>\n",
       "<div class=\"wandb-row\"><div class=\"wandb-col\"><h3>Run history:</h3><br/><table class=\"wandb\"><tr><td>accuracy</td><td>▁▅▇▆▆▄▆▆▅▆▆▇██▅▇█▇█▆▇▇▇▇▇▇▇▇▇▇</td></tr><tr><td>auprc</td><td>▂▃▂▅▅▁▁▃▄▆▆▅▆▇▄▃▅▇▆█▆▆▇▇▇▇▇█▇█</td></tr><tr><td>auroc</td><td>▃▄▄▆▅▁▄▄▆▆▅▄▆▆▅▃▄▇▅█▄▅▇▇▇▇▇███</td></tr><tr><td>avg_train_loss</td><td>█▇▄▄▄▃▃▃▃▃▂▂▂▃▂▂▂▂▂▂▁▁▁▁▁▁▁▁▁▁</td></tr><tr><td>avg_val_loss</td><td>█▆▄▄▃▇▅▄▅▁▂▁▂▄▂▂▂▁▂▁▁▂▂▂▁▁▁▁▁▁</td></tr><tr><td>sensitivity</td><td>▃▆▃▇▃▃▁▆▆▄▇▅▆▄▆▃▅▆▇▆▃▄▆█▄▅▅▅▄▄</td></tr><tr><td>specificity</td><td>▄▁▆▄▇▅▆▄▅▇▅▇▇█▅▇▇▆▅▆█▇▅▅▇▇▇▇▇▇</td></tr></table><br/></div><div class=\"wandb-col\"><h3>Run summary:</h3><br/><table class=\"wandb\"><tr><td>accuracy</td><td>0.86667</td></tr><tr><td>auprc</td><td>0.96412</td></tr><tr><td>auroc</td><td>0.96</td></tr><tr><td>avg_train_loss</td><td>0.22486</td></tr><tr><td>avg_val_loss</td><td>0.29287</td></tr><tr><td>sensitivity</td><td>0.8</td></tr><tr><td>specificity</td><td>0.96667</td></tr></table><br/></div></div>"
      ],
      "text/plain": [
       "<IPython.core.display.HTML object>"
      ]
     },
     "metadata": {},
     "output_type": "display_data"
    },
    {
     "data": {
      "text/html": [
       " View run <strong style=\"color:#cdcd00\">polar-sweep-15</strong> at: <a href='https://wandb.ai/miccai-challenge-2024/task2/runs/zpnrn1w9' target=\"_blank\">https://wandb.ai/miccai-challenge-2024/task2/runs/zpnrn1w9</a><br/> View project at: <a href='https://wandb.ai/miccai-challenge-2024/task2' target=\"_blank\">https://wandb.ai/miccai-challenge-2024/task2</a><br/>Synced 6 W&B file(s), 0 media file(s), 0 artifact file(s) and 0 other file(s)"
      ],
      "text/plain": [
       "<IPython.core.display.HTML object>"
      ]
     },
     "metadata": {},
     "output_type": "display_data"
    },
    {
     "data": {
      "text/html": [
       "Find logs at: <code>./wandb/run-20240724_044502-zpnrn1w9/logs</code>"
      ],
      "text/plain": [
       "<IPython.core.display.HTML object>"
      ]
     },
     "metadata": {},
     "output_type": "display_data"
    },
    {
     "name": "stdout",
     "output_type": "stream",
     "text": [
      "Finished training\n"
     ]
    },
    {
     "name": "stderr",
     "output_type": "stream",
     "text": [
      "\u001b[34m\u001b[1mwandb\u001b[0m: Agent Starting Run: 5kod67au with config:\n",
      "\u001b[34m\u001b[1mwandb\u001b[0m: \tbatch_size: 16\n",
      "\u001b[34m\u001b[1mwandb\u001b[0m: \tepochs: 30\n",
      "\u001b[34m\u001b[1mwandb\u001b[0m: \tloss_weight: 0.5\n",
      "\u001b[34m\u001b[1mwandb\u001b[0m: \tlr: 0.001\n",
      "\u001b[34m\u001b[1mwandb\u001b[0m: \tlr_schedule_factor: 0.1\n",
      "\u001b[34m\u001b[1mwandb\u001b[0m: \tlr_schedule_patience: 5\n",
      "\u001b[34m\u001b[1mwandb\u001b[0m: \tmodel: Task2EfficientNetB0\n",
      "\u001b[34m\u001b[1mwandb\u001b[0m: \tp_affine: 0.3\n",
      "\u001b[34m\u001b[1mwandb\u001b[0m: \tp_clahe: 0.5\n",
      "\u001b[34m\u001b[1mwandb\u001b[0m: \tp_equalize: 0\n",
      "\u001b[34m\u001b[1mwandb\u001b[0m: \tp_gaussblur: 0\n",
      "\u001b[34m\u001b[1mwandb\u001b[0m: \tp_horizontalflip: 0.5\n",
      "\u001b[34m\u001b[1mwandb\u001b[0m: \tresampling_strategy: oversampling\n",
      "\u001b[34m\u001b[1mwandb\u001b[0m: \trotation: 10\n",
      "\u001b[34m\u001b[1mwandb\u001b[0m: \u001b[33mWARNING\u001b[0m Ignored wandb.init() arg project when running a sweep.\n"
     ]
    },
    {
     "data": {
      "text/html": [
       "wandb version 0.17.5 is available!  To upgrade, please run:\n",
       " $ pip install wandb --upgrade"
      ],
      "text/plain": [
       "<IPython.core.display.HTML object>"
      ]
     },
     "metadata": {},
     "output_type": "display_data"
    },
    {
     "data": {
      "text/html": [
       "Tracking run with wandb version 0.17.0"
      ],
      "text/plain": [
       "<IPython.core.display.HTML object>"
      ]
     },
     "metadata": {},
     "output_type": "display_data"
    },
    {
     "data": {
      "text/html": [
       "Run data is saved locally in <code>/home/optima/mhaderer/AILS-MICCAI-UWF4DR-Challenge/wandb/run-20240724_050155-5kod67au</code>"
      ],
      "text/plain": [
       "<IPython.core.display.HTML object>"
      ]
     },
     "metadata": {},
     "output_type": "display_data"
    },
    {
     "data": {
      "text/html": [
       "Syncing run <strong><a href='https://wandb.ai/miccai-challenge-2024/task2/runs/5kod67au' target=\"_blank\">honest-sweep-16</a></strong> to <a href='https://wandb.ai/miccai-challenge-2024/task2' target=\"_blank\">Weights & Biases</a> (<a href='https://wandb.me/run' target=\"_blank\">docs</a>)<br/>Sweep page: <a href='https://wandb.ai/miccai-challenge-2024/task2/sweeps/eo1h97d3' target=\"_blank\">https://wandb.ai/miccai-challenge-2024/task2/sweeps/eo1h97d3</a>"
      ],
      "text/plain": [
       "<IPython.core.display.HTML object>"
      ]
     },
     "metadata": {},
     "output_type": "display_data"
    },
    {
     "data": {
      "text/html": [
       " View project at <a href='https://wandb.ai/miccai-challenge-2024/task2' target=\"_blank\">https://wandb.ai/miccai-challenge-2024/task2</a>"
      ],
      "text/plain": [
       "<IPython.core.display.HTML object>"
      ]
     },
     "metadata": {},
     "output_type": "display_data"
    },
    {
     "data": {
      "text/html": [
       " View sweep at <a href='https://wandb.ai/miccai-challenge-2024/task2/sweeps/eo1h97d3' target=\"_blank\">https://wandb.ai/miccai-challenge-2024/task2/sweeps/eo1h97d3</a>"
      ],
      "text/plain": [
       "<IPython.core.display.HTML object>"
      ]
     },
     "metadata": {},
     "output_type": "display_data"
    },
    {
     "data": {
      "text/html": [
       " View run at <a href='https://wandb.ai/miccai-challenge-2024/task2/runs/5kod67au' target=\"_blank\">https://wandb.ai/miccai-challenge-2024/task2/runs/5kod67au</a>"
      ],
      "text/plain": [
       "<IPython.core.display.HTML object>"
      ]
     },
     "metadata": {},
     "output_type": "display_data"
    },
    {
     "name": "stdout",
     "output_type": "stream",
     "text": [
      "Using device: cuda\n",
      "Loaded pretrained weights for efficientnet-b0\n",
      "Now train train train\n"
     ]
    },
    {
     "name": "stderr",
     "output_type": "stream",
     "text": [
      "Epoch 1/30 - Avg train Loss: 0.364460: 100%|███████████████████████████████████████████████████████████████████████████████████████████████████████████████████████████████| 25/25 [00:45<00:00,  1.83s/it]\n",
      "Epoch 1/30 - Avg val Loss: 0.338017: 100%|███████████████████████████████████████████████████████████████████████████████████████████████████████████████████████████████████| 7/7 [00:10<00:00,  1.49s/it]\n"
     ]
    },
    {
     "name": "stdout",
     "output_type": "stream",
     "text": [
      "New best model found at epoch 1 with validation loss: 0.3380. Model saved to models/honest-sweep-16_2024-07-24_05-02.pth\n"
     ]
    },
    {
     "name": "stderr",
     "output_type": "stream",
     "text": [
      "Epoch 2/30 - Avg train Loss: 0.296586: 100%|███████████████████████████████████████████████████████████████████████████████████████████████████████████████████████████████| 25/25 [00:49<00:00,  1.97s/it]\n",
      "Epoch 2/30 - Avg val Loss: 0.306151: 100%|███████████████████████████████████████████████████████████████████████████████████████████████████████████████████████████████████| 7/7 [00:10<00:00,  1.46s/it]\n"
     ]
    },
    {
     "name": "stdout",
     "output_type": "stream",
     "text": [
      "New best model found at epoch 2 with validation loss: 0.3062. Model saved to models/honest-sweep-16_2024-07-24_05-02.pth\n"
     ]
    },
    {
     "name": "stderr",
     "output_type": "stream",
     "text": [
      "Epoch 3/30 - Avg train Loss: 0.267445: 100%|███████████████████████████████████████████████████████████████████████████████████████████████████████████████████████████████| 25/25 [00:51<00:00,  2.05s/it]\n",
      "Epoch 3/30 - Avg val Loss: 0.367426: 100%|███████████████████████████████████████████████████████████████████████████████████████████████████████████████████████████████████| 7/7 [00:10<00:00,  1.48s/it]\n",
      "Epoch 4/30 - Avg train Loss: 0.239023: 100%|███████████████████████████████████████████████████████████████████████████████████████████████████████████████████████████████| 25/25 [00:49<00:00,  1.98s/it]\n",
      "Epoch 4/30 - Avg val Loss: 0.306448: 100%|███████████████████████████████████████████████████████████████████████████████████████████████████████████████████████████████████| 7/7 [00:09<00:00,  1.30s/it]\n",
      "Epoch 5/30 - Avg train Loss: 0.254453: 100%|███████████████████████████████████████████████████████████████████████████████████████████████████████████████████████████████| 25/25 [00:47<00:00,  1.90s/it]\n",
      "Epoch 5/30 - Avg val Loss: 0.373710: 100%|███████████████████████████████████████████████████████████████████████████████████████████████████████████████████████████████████| 7/7 [00:10<00:00,  1.44s/it]\n",
      "Epoch 6/30 - Avg train Loss: 0.234309: 100%|███████████████████████████████████████████████████████████████████████████████████████████████████████████████████████████████| 25/25 [00:51<00:00,  2.05s/it]\n",
      "Epoch 6/30 - Avg val Loss: 0.279940: 100%|███████████████████████████████████████████████████████████████████████████████████████████████████████████████████████████████████| 7/7 [00:10<00:00,  1.51s/it]\n"
     ]
    },
    {
     "name": "stdout",
     "output_type": "stream",
     "text": [
      "New best model found at epoch 6 with validation loss: 0.2799. Model saved to models/honest-sweep-16_2024-07-24_05-02.pth\n"
     ]
    },
    {
     "name": "stderr",
     "output_type": "stream",
     "text": [
      "Epoch 7/30 - Avg train Loss: 0.227196: 100%|███████████████████████████████████████████████████████████████████████████████████████████████████████████████████████████████| 25/25 [00:50<00:00,  2.04s/it]\n",
      "Epoch 7/30 - Avg val Loss: 0.263905: 100%|███████████████████████████████████████████████████████████████████████████████████████████████████████████████████████████████████| 7/7 [00:11<00:00,  1.66s/it]\n"
     ]
    },
    {
     "name": "stdout",
     "output_type": "stream",
     "text": [
      "New best model found at epoch 7 with validation loss: 0.2639. Model saved to models/honest-sweep-16_2024-07-24_05-02.pth\n"
     ]
    },
    {
     "name": "stderr",
     "output_type": "stream",
     "text": [
      "Epoch 8/30 - Avg train Loss: 0.227667: 100%|███████████████████████████████████████████████████████████████████████████████████████████████████████████████████████████████| 25/25 [00:51<00:00,  2.04s/it]\n",
      "Epoch 8/30 - Avg val Loss: 0.311821: 100%|███████████████████████████████████████████████████████████████████████████████████████████████████████████████████████████████████| 7/7 [00:11<00:00,  1.60s/it]\n",
      "Epoch 9/30 - Avg train Loss: 0.224171: 100%|███████████████████████████████████████████████████████████████████████████████████████████████████████████████████████████████| 25/25 [00:49<00:00,  1.98s/it]\n",
      "Epoch 9/30 - Avg val Loss: 0.281588: 100%|███████████████████████████████████████████████████████████████████████████████████████████████████████████████████████████████████| 7/7 [00:10<00:00,  1.56s/it]\n",
      "Epoch 10/30 - Avg train Loss: 0.224021: 100%|██████████████████████████████████████████████████████████████████████████████████████████████████████████████████████████████| 25/25 [00:52<00:00,  2.08s/it]\n",
      "Epoch 10/30 - Avg val Loss: 0.263662: 100%|██████████████████████████████████████████████████████████████████████████████████████████████████████████████████████████████████| 7/7 [00:09<00:00,  1.41s/it]\n"
     ]
    },
    {
     "name": "stdout",
     "output_type": "stream",
     "text": [
      "New best model found at epoch 10 with validation loss: 0.2637. Model saved to models/honest-sweep-16_2024-07-24_05-02.pth\n"
     ]
    },
    {
     "name": "stderr",
     "output_type": "stream",
     "text": [
      "Epoch 11/30 - Avg train Loss: 0.223671: 100%|██████████████████████████████████████████████████████████████████████████████████████████████████████████████████████████████| 25/25 [00:53<00:00,  2.12s/it]\n",
      "Epoch 11/30 - Avg val Loss: 0.317360: 100%|██████████████████████████████████████████████████████████████████████████████████████████████████████████████████████████████████| 7/7 [00:09<00:00,  1.30s/it]\n",
      "Epoch 12/30 - Avg train Loss: 0.223376: 100%|██████████████████████████████████████████████████████████████████████████████████████████████████████████████████████████████| 25/25 [00:56<00:00,  2.25s/it]\n",
      "Epoch 12/30 - Avg val Loss: 0.348235: 100%|██████████████████████████████████████████████████████████████████████████████████████████████████████████████████████████████████| 7/7 [00:08<00:00,  1.24s/it]\n",
      "Epoch 13/30 - Avg train Loss: 0.221562: 100%|██████████████████████████████████████████████████████████████████████████████████████████████████████████████████████████████| 25/25 [00:55<00:00,  2.21s/it]\n",
      "Epoch 13/30 - Avg val Loss: 0.361712: 100%|██████████████████████████████████████████████████████████████████████████████████████████████████████████████████████████████████| 7/7 [00:08<00:00,  1.26s/it]\n",
      "Epoch 14/30 - Avg train Loss: 0.227460: 100%|██████████████████████████████████████████████████████████████████████████████████████████████████████████████████████████████| 25/25 [00:53<00:00,  2.16s/it]\n",
      "Epoch 14/30 - Avg val Loss: 0.288469: 100%|██████████████████████████████████████████████████████████████████████████████████████████████████████████████████████████████████| 7/7 [00:09<00:00,  1.29s/it]\n",
      "Epoch 15/30 - Avg train Loss: 0.223543: 100%|██████████████████████████████████████████████████████████████████████████████████████████████████████████████████████████████| 25/25 [00:56<00:00,  2.26s/it]\n",
      "Epoch 15/30 - Avg val Loss: 0.283040: 100%|██████████████████████████████████████████████████████████████████████████████████████████████████████████████████████████████████| 7/7 [00:10<00:00,  1.54s/it]\n",
      "Epoch 16/30 - Avg train Loss: 0.226236: 100%|██████████████████████████████████████████████████████████████████████████████████████████████████████████████████████████████| 25/25 [00:57<00:00,  2.32s/it]\n",
      "Epoch 16/30 - Avg val Loss: 0.307220: 100%|██████████████████████████████████████████████████████████████████████████████████████████████████████████████████████████████████| 7/7 [00:09<00:00,  1.39s/it]\n",
      "Epoch 17/30 - Avg train Loss: 0.221485: 100%|██████████████████████████████████████████████████████████████████████████████████████████████████████████████████████████████| 25/25 [00:59<00:00,  2.38s/it]\n",
      "Epoch 17/30 - Avg val Loss: 0.305291: 100%|██████████████████████████████████████████████████████████████████████████████████████████████████████████████████████████████████| 7/7 [00:10<00:00,  1.54s/it]\n",
      "Epoch 18/30 - Avg train Loss: 0.220413: 100%|██████████████████████████████████████████████████████████████████████████████████████████████████████████████████████████████| 25/25 [01:01<00:00,  2.46s/it]\n",
      "Epoch 18/30 - Avg val Loss: 0.300622: 100%|██████████████████████████████████████████████████████████████████████████████████████████████████████████████████████████████████| 7/7 [00:10<00:00,  1.51s/it]\n",
      "Epoch 19/30 - Avg train Loss: 0.220087: 100%|██████████████████████████████████████████████████████████████████████████████████████████████████████████████████████████████| 25/25 [00:59<00:00,  2.39s/it]\n",
      "Epoch 19/30 - Avg val Loss: 0.280295: 100%|██████████████████████████████████████████████████████████████████████████████████████████████████████████████████████████████████| 7/7 [00:11<00:00,  1.69s/it]\n",
      "Epoch 20/30 - Avg train Loss: 0.220089: 100%|██████████████████████████████████████████████████████████████████████████████████████████████████████████████████████████████| 25/25 [00:58<00:00,  2.34s/it]\n",
      "Epoch 20/30 - Avg val Loss: 0.283456: 100%|██████████████████████████████████████████████████████████████████████████████████████████████████████████████████████████████████| 7/7 [00:10<00:00,  1.45s/it]\n",
      "Epoch 21/30 - Avg train Loss: 0.220079: 100%|██████████████████████████████████████████████████████████████████████████████████████████████████████████████████████████████| 25/25 [00:57<00:00,  2.32s/it]\n",
      "Epoch 21/30 - Avg val Loss: 0.295730: 100%|██████████████████████████████████████████████████████████████████████████████████████████████████████████████████████████████████| 7/7 [00:08<00:00,  1.28s/it]\n",
      "Epoch 22/30 - Avg train Loss: 0.219968: 100%|██████████████████████████████████████████████████████████████████████████████████████████████████████████████████████████████| 25/25 [00:57<00:00,  2.30s/it]\n",
      "Epoch 22/30 - Avg val Loss: 0.277333: 100%|██████████████████████████████████████████████████████████████████████████████████████████████████████████████████████████████████| 7/7 [00:09<00:00,  1.37s/it]\n",
      "Epoch 23/30 - Avg train Loss: 0.219837: 100%|██████████████████████████████████████████████████████████████████████████████████████████████████████████████████████████████| 25/25 [00:54<00:00,  2.18s/it]\n",
      "Epoch 23/30 - Avg val Loss: 0.252291: 100%|██████████████████████████████████████████████████████████████████████████████████████████████████████████████████████████████████| 7/7 [00:07<00:00,  1.09s/it]\n"
     ]
    },
    {
     "name": "stdout",
     "output_type": "stream",
     "text": [
      "New best model found at epoch 23 with validation loss: 0.2523. Model saved to models/honest-sweep-16_2024-07-24_05-02.pth\n"
     ]
    },
    {
     "name": "stderr",
     "output_type": "stream",
     "text": [
      "Epoch 24/30 - Avg train Loss: 0.220214: 100%|██████████████████████████████████████████████████████████████████████████████████████████████████████████████████████████████| 25/25 [00:55<00:00,  2.23s/it]\n",
      "Epoch 24/30 - Avg val Loss: 0.262086: 100%|██████████████████████████████████████████████████████████████████████████████████████████████████████████████████████████████████| 7/7 [00:08<00:00,  1.26s/it]\n",
      "Epoch 25/30 - Avg train Loss: 0.220088: 100%|██████████████████████████████████████████████████████████████████████████████████████████████████████████████████████████████| 25/25 [00:54<00:00,  2.20s/it]\n",
      "Epoch 25/30 - Avg val Loss: 0.269011: 100%|██████████████████████████████████████████████████████████████████████████████████████████████████████████████████████████████████| 7/7 [00:08<00:00,  1.23s/it]\n",
      "Epoch 26/30 - Avg train Loss: 0.219963: 100%|██████████████████████████████████████████████████████████████████████████████████████████████████████████████████████████████| 25/25 [00:55<00:00,  2.22s/it]\n",
      "Epoch 26/30 - Avg val Loss: 0.306633: 100%|██████████████████████████████████████████████████████████████████████████████████████████████████████████████████████████████████| 7/7 [00:08<00:00,  1.25s/it]\n",
      "Epoch 27/30 - Avg train Loss: 0.220314: 100%|██████████████████████████████████████████████████████████████████████████████████████████████████████████████████████████████| 25/25 [00:55<00:00,  2.22s/it]\n",
      "Epoch 27/30 - Avg val Loss: 0.325350: 100%|██████████████████████████████████████████████████████████████████████████████████████████████████████████████████████████████████| 7/7 [00:09<00:00,  1.42s/it]\n",
      "Epoch 28/30 - Avg train Loss: 0.219799: 100%|██████████████████████████████████████████████████████████████████████████████████████████████████████████████████████████████| 25/25 [00:57<00:00,  2.29s/it]\n",
      "Epoch 28/30 - Avg val Loss: 0.330257: 100%|██████████████████████████████████████████████████████████████████████████████████████████████████████████████████████████████████| 7/7 [00:09<00:00,  1.41s/it]\n",
      "Epoch 29/30 - Avg train Loss: 0.220188: 100%|██████████████████████████████████████████████████████████████████████████████████████████████████████████████████████████████| 25/25 [00:55<00:00,  2.24s/it]\n",
      "Epoch 29/30 - Avg val Loss: 0.322372: 100%|██████████████████████████████████████████████████████████████████████████████████████████████████████████████████████████████████| 7/7 [00:11<00:00,  1.61s/it]\n",
      "Epoch 30/30 - Avg train Loss: 0.220219: 100%|██████████████████████████████████████████████████████████████████████████████████████████████████████████████████████████████| 25/25 [00:57<00:00,  2.29s/it]\n",
      "Epoch 30/30 - Avg val Loss: 0.310367: 100%|██████████████████████████████████████████████████████████████████████████████████████████████████████████████████████████████████| 7/7 [00:09<00:00,  1.43s/it]\n"
     ]
    },
    {
     "data": {
      "application/vnd.jupyter.widget-view+json": {
       "model_id": "",
       "version_major": 2,
       "version_minor": 0
      },
      "text/plain": [
       "VBox(children=(Label(value='0.008 MB of 0.008 MB uploaded\\r'), FloatProgress(value=1.0, max=1.0)))"
      ]
     },
     "metadata": {},
     "output_type": "display_data"
    },
    {
     "data": {
      "text/html": [
       "<style>\n",
       "    table.wandb td:nth-child(1) { padding: 0 10px; text-align: left ; width: auto;} td:nth-child(2) {text-align: left ; width: 100%}\n",
       "    .wandb-row { display: flex; flex-direction: row; flex-wrap: wrap; justify-content: flex-start; width: 100% }\n",
       "    .wandb-col { display: flex; flex-direction: column; flex-basis: 100%; flex: 1; padding: 10px; }\n",
       "    </style>\n",
       "<div class=\"wandb-row\"><div class=\"wandb-col\"><h3>Run history:</h3><br/><table class=\"wandb\"><tr><td>accuracy</td><td>▁▄▅▆▄▅▆▆▄▆▅▅▆▃▇▆▆▆█▇▇▇█▆▆▅▄▄▄▅</td></tr><tr><td>auprc</td><td>▇▇▆▇███████▆▂█▅▆▇▇▇▆▆▇▇▇▇▆▁▁▅▅</td></tr><tr><td>auroc</td><td>▆▆▅▇██████▇▆▃█▆▄▇▇█▆▆▆▇▇▇▅▂▁▄▅</td></tr><tr><td>avg_train_loss</td><td>█▅▃▂▃▂▁▁▁▁▁▁▁▁▁▁▁▁▁▁▁▁▁▁▁▁▁▁▁▁</td></tr><tr><td>avg_val_loss</td><td>▆▄█▄█▃▂▄▃▂▅▇▇▃▃▄▄▄▃▃▄▂▁▂▂▄▅▅▅▄</td></tr><tr><td>sensitivity</td><td>▃▃▃▁███████████▃██████████████</td></tr><tr><td>specificity</td><td>▆▇▄███████▄▅▃█▆▇▃▇▇▆▅▅▇▆▆▃▂▁▂▃</td></tr></table><br/></div><div class=\"wandb-col\"><h3>Run summary:</h3><br/><table class=\"wandb\"><tr><td>accuracy</td><td>0.83</td></tr><tr><td>auprc</td><td>0.89176</td></tr><tr><td>auroc</td><td>0.8956</td></tr><tr><td>avg_train_loss</td><td>0.22022</td></tr><tr><td>avg_val_loss</td><td>0.31037</td></tr><tr><td>sensitivity</td><td>1.0</td></tr><tr><td>specificity</td><td>0.82</td></tr></table><br/></div></div>"
      ],
      "text/plain": [
       "<IPython.core.display.HTML object>"
      ]
     },
     "metadata": {},
     "output_type": "display_data"
    },
    {
     "data": {
      "text/html": [
       " View run <strong style=\"color:#cdcd00\">honest-sweep-16</strong> at: <a href='https://wandb.ai/miccai-challenge-2024/task2/runs/5kod67au' target=\"_blank\">https://wandb.ai/miccai-challenge-2024/task2/runs/5kod67au</a><br/> View project at: <a href='https://wandb.ai/miccai-challenge-2024/task2' target=\"_blank\">https://wandb.ai/miccai-challenge-2024/task2</a><br/>Synced 6 W&B file(s), 0 media file(s), 0 artifact file(s) and 0 other file(s)"
      ],
      "text/plain": [
       "<IPython.core.display.HTML object>"
      ]
     },
     "metadata": {},
     "output_type": "display_data"
    },
    {
     "data": {
      "text/html": [
       "Find logs at: <code>./wandb/run-20240724_050155-5kod67au/logs</code>"
      ],
      "text/plain": [
       "<IPython.core.display.HTML object>"
      ]
     },
     "metadata": {},
     "output_type": "display_data"
    },
    {
     "name": "stdout",
     "output_type": "stream",
     "text": [
      "Finished training\n"
     ]
    },
    {
     "name": "stderr",
     "output_type": "stream",
     "text": [
      "\u001b[34m\u001b[1mwandb\u001b[0m: Sweep Agent: Waiting for job.\n",
      "\u001b[34m\u001b[1mwandb\u001b[0m: Job received.\n",
      "\u001b[34m\u001b[1mwandb\u001b[0m: Agent Starting Run: jop69gkl with config:\n",
      "\u001b[34m\u001b[1mwandb\u001b[0m: \tbatch_size: 16\n",
      "\u001b[34m\u001b[1mwandb\u001b[0m: \tepochs: 30\n",
      "\u001b[34m\u001b[1mwandb\u001b[0m: \tloss_weight: 0.5\n",
      "\u001b[34m\u001b[1mwandb\u001b[0m: \tlr: 0.001\n",
      "\u001b[34m\u001b[1mwandb\u001b[0m: \tlr_schedule_factor: 0.1\n",
      "\u001b[34m\u001b[1mwandb\u001b[0m: \tlr_schedule_patience: 5\n",
      "\u001b[34m\u001b[1mwandb\u001b[0m: \tmodel: Task2EfficientNetB0\n",
      "\u001b[34m\u001b[1mwandb\u001b[0m: \tp_affine: 0.3\n",
      "\u001b[34m\u001b[1mwandb\u001b[0m: \tp_clahe: 0.5\n",
      "\u001b[34m\u001b[1mwandb\u001b[0m: \tp_equalize: 0\n",
      "\u001b[34m\u001b[1mwandb\u001b[0m: \tp_gaussblur: 0.3\n",
      "\u001b[34m\u001b[1mwandb\u001b[0m: \tp_horizontalflip: 0.5\n",
      "\u001b[34m\u001b[1mwandb\u001b[0m: \tresampling_strategy: undersampling\n",
      "\u001b[34m\u001b[1mwandb\u001b[0m: \trotation: 10\n",
      "\u001b[34m\u001b[1mwandb\u001b[0m: \u001b[33mWARNING\u001b[0m Ignored wandb.init() arg project when running a sweep.\n"
     ]
    },
    {
     "data": {
      "text/html": [
       "wandb version 0.17.5 is available!  To upgrade, please run:\n",
       " $ pip install wandb --upgrade"
      ],
      "text/plain": [
       "<IPython.core.display.HTML object>"
      ]
     },
     "metadata": {},
     "output_type": "display_data"
    },
    {
     "data": {
      "text/html": [
       "Tracking run with wandb version 0.17.0"
      ],
      "text/plain": [
       "<IPython.core.display.HTML object>"
      ]
     },
     "metadata": {},
     "output_type": "display_data"
    },
    {
     "data": {
      "text/html": [
       "Run data is saved locally in <code>/home/optima/mhaderer/AILS-MICCAI-UWF4DR-Challenge/wandb/run-20240724_053437-jop69gkl</code>"
      ],
      "text/plain": [
       "<IPython.core.display.HTML object>"
      ]
     },
     "metadata": {},
     "output_type": "display_data"
    },
    {
     "data": {
      "text/html": [
       "Syncing run <strong><a href='https://wandb.ai/miccai-challenge-2024/task2/runs/jop69gkl' target=\"_blank\">firm-sweep-17</a></strong> to <a href='https://wandb.ai/miccai-challenge-2024/task2' target=\"_blank\">Weights & Biases</a> (<a href='https://wandb.me/run' target=\"_blank\">docs</a>)<br/>Sweep page: <a href='https://wandb.ai/miccai-challenge-2024/task2/sweeps/eo1h97d3' target=\"_blank\">https://wandb.ai/miccai-challenge-2024/task2/sweeps/eo1h97d3</a>"
      ],
      "text/plain": [
       "<IPython.core.display.HTML object>"
      ]
     },
     "metadata": {},
     "output_type": "display_data"
    },
    {
     "data": {
      "text/html": [
       " View project at <a href='https://wandb.ai/miccai-challenge-2024/task2' target=\"_blank\">https://wandb.ai/miccai-challenge-2024/task2</a>"
      ],
      "text/plain": [
       "<IPython.core.display.HTML object>"
      ]
     },
     "metadata": {},
     "output_type": "display_data"
    },
    {
     "data": {
      "text/html": [
       " View sweep at <a href='https://wandb.ai/miccai-challenge-2024/task2/sweeps/eo1h97d3' target=\"_blank\">https://wandb.ai/miccai-challenge-2024/task2/sweeps/eo1h97d3</a>"
      ],
      "text/plain": [
       "<IPython.core.display.HTML object>"
      ]
     },
     "metadata": {},
     "output_type": "display_data"
    },
    {
     "data": {
      "text/html": [
       " View run at <a href='https://wandb.ai/miccai-challenge-2024/task2/runs/jop69gkl' target=\"_blank\">https://wandb.ai/miccai-challenge-2024/task2/runs/jop69gkl</a>"
      ],
      "text/plain": [
       "<IPython.core.display.HTML object>"
      ]
     },
     "metadata": {},
     "output_type": "display_data"
    },
    {
     "name": "stdout",
     "output_type": "stream",
     "text": [
      "Using device: cuda\n",
      "Loaded pretrained weights for efficientnet-b0\n",
      "Now train train train\n"
     ]
    },
    {
     "name": "stderr",
     "output_type": "stream",
     "text": [
      "Epoch 1/30 - Avg train Loss: 0.402797: 100%|███████████████████████████████████████████████████████████████████████████████████████████████████████████████████████████████| 15/15 [00:31<00:00,  2.09s/it]\n",
      "Epoch 1/30 - Avg val Loss: 0.383228: 100%|███████████████████████████████████████████████████████████████████████████████████████████████████████████████████████████████████| 4/4 [00:06<00:00,  1.61s/it]\n"
     ]
    },
    {
     "name": "stdout",
     "output_type": "stream",
     "text": [
      "New best model found at epoch 1 with validation loss: 0.3832. Model saved to models/firm-sweep-17_2024-07-24_05-34.pth\n"
     ]
    },
    {
     "name": "stderr",
     "output_type": "stream",
     "text": [
      "Epoch 2/30 - Avg train Loss: 0.357725: 100%|███████████████████████████████████████████████████████████████████████████████████████████████████████████████████████████████| 15/15 [00:29<00:00,  1.94s/it]\n",
      "Epoch 2/30 - Avg val Loss: 0.473740: 100%|███████████████████████████████████████████████████████████████████████████████████████████████████████████████████████████████████| 4/4 [00:05<00:00,  1.49s/it]\n",
      "Epoch 3/30 - Avg train Loss: 0.322473: 100%|███████████████████████████████████████████████████████████████████████████████████████████████████████████████████████████████| 15/15 [00:28<00:00,  1.87s/it]\n",
      "Epoch 3/30 - Avg val Loss: 0.395302: 100%|███████████████████████████████████████████████████████████████████████████████████████████████████████████████████████████████████| 4/4 [00:05<00:00,  1.46s/it]\n",
      "Epoch 4/30 - Avg train Loss: 0.305271: 100%|███████████████████████████████████████████████████████████████████████████████████████████████████████████████████████████████| 15/15 [00:27<00:00,  1.85s/it]\n",
      "Epoch 4/30 - Avg val Loss: 0.453413: 100%|███████████████████████████████████████████████████████████████████████████████████████████████████████████████████████████████████| 4/4 [00:05<00:00,  1.47s/it]\n",
      "Epoch 5/30 - Avg train Loss: 0.280958: 100%|███████████████████████████████████████████████████████████████████████████████████████████████████████████████████████████████| 15/15 [00:29<00:00,  1.96s/it]\n",
      "Epoch 5/30 - Avg val Loss: 0.350723: 100%|███████████████████████████████████████████████████████████████████████████████████████████████████████████████████████████████████| 4/4 [00:05<00:00,  1.46s/it]\n"
     ]
    },
    {
     "name": "stdout",
     "output_type": "stream",
     "text": [
      "New best model found at epoch 5 with validation loss: 0.3507. Model saved to models/firm-sweep-17_2024-07-24_05-34.pth\n"
     ]
    },
    {
     "name": "stderr",
     "output_type": "stream",
     "text": [
      "Epoch 6/30 - Avg train Loss: 0.282959: 100%|███████████████████████████████████████████████████████████████████████████████████████████████████████████████████████████████| 15/15 [00:27<00:00,  1.87s/it]\n",
      "Epoch 6/30 - Avg val Loss: 0.335923: 100%|███████████████████████████████████████████████████████████████████████████████████████████████████████████████████████████████████| 4/4 [00:05<00:00,  1.47s/it]\n"
     ]
    },
    {
     "name": "stdout",
     "output_type": "stream",
     "text": [
      "New best model found at epoch 6 with validation loss: 0.3359. Model saved to models/firm-sweep-17_2024-07-24_05-34.pth\n"
     ]
    },
    {
     "name": "stderr",
     "output_type": "stream",
     "text": [
      "Epoch 7/30 - Avg train Loss: 0.264227: 100%|███████████████████████████████████████████████████████████████████████████████████████████████████████████████████████████████| 15/15 [00:28<00:00,  1.88s/it]\n",
      "Epoch 7/30 - Avg val Loss: 0.368592: 100%|███████████████████████████████████████████████████████████████████████████████████████████████████████████████████████████████████| 4/4 [00:05<00:00,  1.50s/it]\n",
      "Epoch 8/30 - Avg train Loss: 0.277511: 100%|███████████████████████████████████████████████████████████████████████████████████████████████████████████████████████████████| 15/15 [00:28<00:00,  1.93s/it]\n",
      "Epoch 8/30 - Avg val Loss: 0.402990: 100%|███████████████████████████████████████████████████████████████████████████████████████████████████████████████████████████████████| 4/4 [00:06<00:00,  1.57s/it]\n",
      "Epoch 9/30 - Avg train Loss: 0.254530: 100%|███████████████████████████████████████████████████████████████████████████████████████████████████████████████████████████████| 15/15 [00:29<00:00,  1.94s/it]\n",
      "Epoch 9/30 - Avg val Loss: 0.351688: 100%|███████████████████████████████████████████████████████████████████████████████████████████████████████████████████████████████████| 4/4 [00:05<00:00,  1.49s/it]\n",
      "Epoch 10/30 - Avg train Loss: 0.247560: 100%|██████████████████████████████████████████████████████████████████████████████████████████████████████████████████████████████| 15/15 [00:29<00:00,  1.97s/it]\n",
      "Epoch 10/30 - Avg val Loss: 0.384084: 100%|██████████████████████████████████████████████████████████████████████████████████████████████████████████████████████████████████| 4/4 [00:05<00:00,  1.49s/it]\n",
      "Epoch 11/30 - Avg train Loss: 0.257569: 100%|██████████████████████████████████████████████████████████████████████████████████████████████████████████████████████████████| 15/15 [00:30<00:00,  2.00s/it]\n",
      "Epoch 11/30 - Avg val Loss: 0.333470: 100%|██████████████████████████████████████████████████████████████████████████████████████████████████████████████████████████████████| 4/4 [00:06<00:00,  1.53s/it]\n"
     ]
    },
    {
     "name": "stdout",
     "output_type": "stream",
     "text": [
      "New best model found at epoch 11 with validation loss: 0.3335. Model saved to models/firm-sweep-17_2024-07-24_05-34.pth\n"
     ]
    },
    {
     "name": "stderr",
     "output_type": "stream",
     "text": [
      "Epoch 12/30 - Avg train Loss: 0.261119: 100%|██████████████████████████████████████████████████████████████████████████████████████████████████████████████████████████████| 15/15 [00:29<00:00,  1.95s/it]\n",
      "Epoch 12/30 - Avg val Loss: 0.391282: 100%|██████████████████████████████████████████████████████████████████████████████████████████████████████████████████████████████████| 4/4 [00:05<00:00,  1.48s/it]\n",
      "Epoch 13/30 - Avg train Loss: 0.262534: 100%|██████████████████████████████████████████████████████████████████████████████████████████████████████████████████████████████| 15/15 [00:29<00:00,  1.95s/it]\n",
      "Epoch 13/30 - Avg val Loss: 0.316427: 100%|██████████████████████████████████████████████████████████████████████████████████████████████████████████████████████████████████| 4/4 [00:06<00:00,  1.61s/it]\n"
     ]
    },
    {
     "name": "stdout",
     "output_type": "stream",
     "text": [
      "New best model found at epoch 13 with validation loss: 0.3164. Model saved to models/firm-sweep-17_2024-07-24_05-34.pth\n"
     ]
    },
    {
     "name": "stderr",
     "output_type": "stream",
     "text": [
      "Epoch 14/30 - Avg train Loss: 0.254435: 100%|██████████████████████████████████████████████████████████████████████████████████████████████████████████████████████████████| 15/15 [00:29<00:00,  1.98s/it]\n",
      "Epoch 14/30 - Avg val Loss: 0.295642: 100%|██████████████████████████████████████████████████████████████████████████████████████████████████████████████████████████████████| 4/4 [00:05<00:00,  1.47s/it]\n"
     ]
    },
    {
     "name": "stdout",
     "output_type": "stream",
     "text": [
      "New best model found at epoch 14 with validation loss: 0.2956. Model saved to models/firm-sweep-17_2024-07-24_05-34.pth\n"
     ]
    },
    {
     "name": "stderr",
     "output_type": "stream",
     "text": [
      "Epoch 15/30 - Avg train Loss: 0.240758: 100%|██████████████████████████████████████████████████████████████████████████████████████████████████████████████████████████████| 15/15 [00:30<00:00,  2.02s/it]\n",
      "Epoch 15/30 - Avg val Loss: 0.315346: 100%|██████████████████████████████████████████████████████████████████████████████████████████████████████████████████████████████████| 4/4 [00:06<00:00,  1.68s/it]\n",
      "Epoch 16/30 - Avg train Loss: 0.253071: 100%|██████████████████████████████████████████████████████████████████████████████████████████████████████████████████████████████| 15/15 [00:30<00:00,  2.05s/it]\n",
      "Epoch 16/30 - Avg val Loss: 0.474995: 100%|██████████████████████████████████████████████████████████████████████████████████████████████████████████████████████████████████| 4/4 [00:06<00:00,  1.57s/it]\n",
      "Epoch 17/30 - Avg train Loss: 0.267785: 100%|██████████████████████████████████████████████████████████████████████████████████████████████████████████████████████████████| 15/15 [00:29<00:00,  1.96s/it]\n",
      "Epoch 17/30 - Avg val Loss: 0.325383: 100%|██████████████████████████████████████████████████████████████████████████████████████████████████████████████████████████████████| 4/4 [00:06<00:00,  1.64s/it]\n",
      "Epoch 18/30 - Avg train Loss: 0.250538: 100%|██████████████████████████████████████████████████████████████████████████████████████████████████████████████████████████████| 15/15 [00:30<00:00,  2.02s/it]\n",
      "Epoch 18/30 - Avg val Loss: 0.334051: 100%|██████████████████████████████████████████████████████████████████████████████████████████████████████████████████████████████████| 4/4 [00:06<00:00,  1.59s/it]\n",
      "Epoch 19/30 - Avg train Loss: 0.251899: 100%|██████████████████████████████████████████████████████████████████████████████████████████████████████████████████████████████| 15/15 [00:29<00:00,  1.94s/it]\n",
      "Epoch 19/30 - Avg val Loss: 0.327892: 100%|██████████████████████████████████████████████████████████████████████████████████████████████████████████████████████████████████| 4/4 [00:05<00:00,  1.48s/it]\n",
      "Epoch 20/30 - Avg train Loss: 0.239007: 100%|██████████████████████████████████████████████████████████████████████████████████████████████████████████████████████████████| 15/15 [00:28<00:00,  1.91s/it]\n",
      "Epoch 20/30 - Avg val Loss: 0.326448: 100%|██████████████████████████████████████████████████████████████████████████████████████████████████████████████████████████████████| 4/4 [00:05<00:00,  1.45s/it]\n",
      "Epoch 21/30 - Avg train Loss: 0.231742: 100%|██████████████████████████████████████████████████████████████████████████████████████████████████████████████████████████████| 15/15 [00:28<00:00,  1.92s/it]\n",
      "Epoch 21/30 - Avg val Loss: 0.315650: 100%|██████████████████████████████████████████████████████████████████████████████████████████████████████████████████████████████████| 4/4 [00:05<00:00,  1.46s/it]\n",
      "Epoch 22/30 - Avg train Loss: 0.227461: 100%|██████████████████████████████████████████████████████████████████████████████████████████████████████████████████████████████| 15/15 [00:28<00:00,  1.91s/it]\n",
      "Epoch 22/30 - Avg val Loss: 0.311754: 100%|██████████████████████████████████████████████████████████████████████████████████████████████████████████████████████████████████| 4/4 [00:06<00:00,  1.57s/it]\n",
      "Epoch 23/30 - Avg train Loss: 0.229178: 100%|██████████████████████████████████████████████████████████████████████████████████████████████████████████████████████████████| 15/15 [00:28<00:00,  1.90s/it]\n",
      "Epoch 23/30 - Avg val Loss: 0.309146: 100%|██████████████████████████████████████████████████████████████████████████████████████████████████████████████████████████████████| 4/4 [00:06<00:00,  1.55s/it]\n",
      "Epoch 24/30 - Avg train Loss: 0.227452: 100%|██████████████████████████████████████████████████████████████████████████████████████████████████████████████████████████████| 15/15 [00:27<00:00,  1.84s/it]\n",
      "Epoch 24/30 - Avg val Loss: 0.307393: 100%|██████████████████████████████████████████████████████████████████████████████████████████████████████████████████████████████████| 4/4 [00:06<00:00,  1.50s/it]\n",
      "Epoch 25/30 - Avg train Loss: 0.225522: 100%|██████████████████████████████████████████████████████████████████████████████████████████████████████████████████████████████| 15/15 [00:27<00:00,  1.85s/it]\n",
      "Epoch 25/30 - Avg val Loss: 0.305121: 100%|██████████████████████████████████████████████████████████████████████████████████████████████████████████████████████████████████| 4/4 [00:06<00:00,  1.56s/it]\n",
      "Epoch 26/30 - Avg train Loss: 0.226716: 100%|██████████████████████████████████████████████████████████████████████████████████████████████████████████████████████████████| 15/15 [00:28<00:00,  1.89s/it]\n",
      "Epoch 26/30 - Avg val Loss: 0.304692: 100%|██████████████████████████████████████████████████████████████████████████████████████████████████████████████████████████████████| 4/4 [00:05<00:00,  1.48s/it]\n",
      "Epoch 27/30 - Avg train Loss: 0.223913: 100%|██████████████████████████████████████████████████████████████████████████████████████████████████████████████████████████████| 15/15 [00:27<00:00,  1.85s/it]\n",
      "Epoch 27/30 - Avg val Loss: 0.305030: 100%|██████████████████████████████████████████████████████████████████████████████████████████████████████████████████████████████████| 4/4 [00:05<00:00,  1.49s/it]\n",
      "Epoch 28/30 - Avg train Loss: 0.225534: 100%|██████████████████████████████████████████████████████████████████████████████████████████████████████████████████████████████| 15/15 [00:29<00:00,  1.96s/it]\n",
      "Epoch 28/30 - Avg val Loss: 0.304992: 100%|██████████████████████████████████████████████████████████████████████████████████████████████████████████████████████████████████| 4/4 [00:06<00:00,  1.61s/it]\n",
      "Epoch 29/30 - Avg train Loss: 0.224404: 100%|██████████████████████████████████████████████████████████████████████████████████████████████████████████████████████████████| 15/15 [00:29<00:00,  1.94s/it]\n",
      "Epoch 29/30 - Avg val Loss: 0.305063: 100%|██████████████████████████████████████████████████████████████████████████████████████████████████████████████████████████████████| 4/4 [00:06<00:00,  1.54s/it]\n",
      "Epoch 30/30 - Avg train Loss: 0.226269: 100%|██████████████████████████████████████████████████████████████████████████████████████████████████████████████████████████████| 15/15 [00:29<00:00,  1.96s/it]\n",
      "Epoch 30/30 - Avg val Loss: 0.305169: 100%|██████████████████████████████████████████████████████████████████████████████████████████████████████████████████████████████████| 4/4 [00:06<00:00,  1.52s/it]\n"
     ]
    },
    {
     "data": {
      "application/vnd.jupyter.widget-view+json": {
       "model_id": "",
       "version_major": 2,
       "version_minor": 0
      },
      "text/plain": [
       "VBox(children=(Label(value='0.008 MB of 0.008 MB uploaded\\r'), FloatProgress(value=1.0, max=1.0)))"
      ]
     },
     "metadata": {},
     "output_type": "display_data"
    },
    {
     "data": {
      "text/html": [
       "<style>\n",
       "    table.wandb td:nth-child(1) { padding: 0 10px; text-align: left ; width: auto;} td:nth-child(2) {text-align: left ; width: 100%}\n",
       "    .wandb-row { display: flex; flex-direction: row; flex-wrap: wrap; justify-content: flex-start; width: 100% }\n",
       "    .wandb-col { display: flex; flex-direction: column; flex-basis: 100%; flex: 1; padding: 10px; }\n",
       "    </style>\n",
       "<div class=\"wandb-row\"><div class=\"wandb-col\"><h3>Run history:</h3><br/><table class=\"wandb\"><tr><td>accuracy</td><td>▁▄▅▆▇▅▅▄▇▅▇▅▄█▇▅▅▆▆▅▅▅▆▆▅▅▅▅▅▅</td></tr><tr><td>auprc</td><td>▁▃▆▆▇▆▅▇▆▆▆▄▆█▇▇▆▅▆▄▆▆▇▇▇▆▆▆▆▆</td></tr><tr><td>auroc</td><td>▁▃▆▇▇▇▄▇▇▆▆▂▇██▇▇▅▆▄▅▆▇▇▇▇▇▇▇▇</td></tr><tr><td>avg_train_loss</td><td>█▆▅▄▃▃▃▃▂▂▂▂▃▂▂▂▃▂▂▂▁▁▁▁▁▁▁▁▁▁</td></tr><tr><td>avg_val_loss</td><td>▄█▅▇▃▃▄▅▃▄▂▅▂▁▂█▂▂▂▂▂▂▂▁▁▁▁▁▁▁</td></tr><tr><td>sensitivity</td><td>▃▁▃▃▅▆▃▅▇█▇▃▅█▆▆▅▁▅▅▃▅▃▅▃▆▆▆▆▆</td></tr><tr><td>specificity</td><td>▁▅█▇█▆▇▇▅▄▆▆▇██▆██▇▆▇▇▇▆██████</td></tr></table><br/></div><div class=\"wandb-col\"><h3>Run summary:</h3><br/><table class=\"wandb\"><tr><td>accuracy</td><td>0.78333</td></tr><tr><td>auprc</td><td>0.92073</td></tr><tr><td>auroc</td><td>0.92778</td></tr><tr><td>avg_train_loss</td><td>0.22627</td></tr><tr><td>avg_val_loss</td><td>0.30517</td></tr><tr><td>sensitivity</td><td>0.83333</td></tr><tr><td>specificity</td><td>0.96667</td></tr></table><br/></div></div>"
      ],
      "text/plain": [
       "<IPython.core.display.HTML object>"
      ]
     },
     "metadata": {},
     "output_type": "display_data"
    },
    {
     "data": {
      "text/html": [
       " View run <strong style=\"color:#cdcd00\">firm-sweep-17</strong> at: <a href='https://wandb.ai/miccai-challenge-2024/task2/runs/jop69gkl' target=\"_blank\">https://wandb.ai/miccai-challenge-2024/task2/runs/jop69gkl</a><br/> View project at: <a href='https://wandb.ai/miccai-challenge-2024/task2' target=\"_blank\">https://wandb.ai/miccai-challenge-2024/task2</a><br/>Synced 6 W&B file(s), 0 media file(s), 0 artifact file(s) and 0 other file(s)"
      ],
      "text/plain": [
       "<IPython.core.display.HTML object>"
      ]
     },
     "metadata": {},
     "output_type": "display_data"
    },
    {
     "data": {
      "text/html": [
       "Find logs at: <code>./wandb/run-20240724_053437-jop69gkl/logs</code>"
      ],
      "text/plain": [
       "<IPython.core.display.HTML object>"
      ]
     },
     "metadata": {},
     "output_type": "display_data"
    },
    {
     "name": "stdout",
     "output_type": "stream",
     "text": [
      "Finished training\n"
     ]
    },
    {
     "name": "stderr",
     "output_type": "stream",
     "text": [
      "\u001b[34m\u001b[1mwandb\u001b[0m: Agent Starting Run: prngv2no with config:\n",
      "\u001b[34m\u001b[1mwandb\u001b[0m: \tbatch_size: 16\n",
      "\u001b[34m\u001b[1mwandb\u001b[0m: \tepochs: 30\n",
      "\u001b[34m\u001b[1mwandb\u001b[0m: \tloss_weight: 0.5\n",
      "\u001b[34m\u001b[1mwandb\u001b[0m: \tlr: 0.001\n",
      "\u001b[34m\u001b[1mwandb\u001b[0m: \tlr_schedule_factor: 0.1\n",
      "\u001b[34m\u001b[1mwandb\u001b[0m: \tlr_schedule_patience: 5\n",
      "\u001b[34m\u001b[1mwandb\u001b[0m: \tmodel: Task2EfficientNetB0\n",
      "\u001b[34m\u001b[1mwandb\u001b[0m: \tp_affine: 0.3\n",
      "\u001b[34m\u001b[1mwandb\u001b[0m: \tp_clahe: 0.3\n",
      "\u001b[34m\u001b[1mwandb\u001b[0m: \tp_equalize: 0\n",
      "\u001b[34m\u001b[1mwandb\u001b[0m: \tp_gaussblur: 0\n",
      "\u001b[34m\u001b[1mwandb\u001b[0m: \tp_horizontalflip: 0.5\n",
      "\u001b[34m\u001b[1mwandb\u001b[0m: \tresampling_strategy: oversampling\n",
      "\u001b[34m\u001b[1mwandb\u001b[0m: \trotation: 10\n",
      "\u001b[34m\u001b[1mwandb\u001b[0m: \u001b[33mWARNING\u001b[0m Ignored wandb.init() arg project when running a sweep.\n"
     ]
    },
    {
     "data": {
      "text/html": [
       "wandb version 0.17.5 is available!  To upgrade, please run:\n",
       " $ pip install wandb --upgrade"
      ],
      "text/plain": [
       "<IPython.core.display.HTML object>"
      ]
     },
     "metadata": {},
     "output_type": "display_data"
    },
    {
     "data": {
      "text/html": [
       "Tracking run with wandb version 0.17.0"
      ],
      "text/plain": [
       "<IPython.core.display.HTML object>"
      ]
     },
     "metadata": {},
     "output_type": "display_data"
    },
    {
     "data": {
      "text/html": [
       "Run data is saved locally in <code>/home/optima/mhaderer/AILS-MICCAI-UWF4DR-Challenge/wandb/run-20240724_055238-prngv2no</code>"
      ],
      "text/plain": [
       "<IPython.core.display.HTML object>"
      ]
     },
     "metadata": {},
     "output_type": "display_data"
    },
    {
     "data": {
      "text/html": [
       "Syncing run <strong><a href='https://wandb.ai/miccai-challenge-2024/task2/runs/prngv2no' target=\"_blank\">easy-sweep-18</a></strong> to <a href='https://wandb.ai/miccai-challenge-2024/task2' target=\"_blank\">Weights & Biases</a> (<a href='https://wandb.me/run' target=\"_blank\">docs</a>)<br/>Sweep page: <a href='https://wandb.ai/miccai-challenge-2024/task2/sweeps/eo1h97d3' target=\"_blank\">https://wandb.ai/miccai-challenge-2024/task2/sweeps/eo1h97d3</a>"
      ],
      "text/plain": [
       "<IPython.core.display.HTML object>"
      ]
     },
     "metadata": {},
     "output_type": "display_data"
    },
    {
     "data": {
      "text/html": [
       " View project at <a href='https://wandb.ai/miccai-challenge-2024/task2' target=\"_blank\">https://wandb.ai/miccai-challenge-2024/task2</a>"
      ],
      "text/plain": [
       "<IPython.core.display.HTML object>"
      ]
     },
     "metadata": {},
     "output_type": "display_data"
    },
    {
     "data": {
      "text/html": [
       " View sweep at <a href='https://wandb.ai/miccai-challenge-2024/task2/sweeps/eo1h97d3' target=\"_blank\">https://wandb.ai/miccai-challenge-2024/task2/sweeps/eo1h97d3</a>"
      ],
      "text/plain": [
       "<IPython.core.display.HTML object>"
      ]
     },
     "metadata": {},
     "output_type": "display_data"
    },
    {
     "data": {
      "text/html": [
       " View run at <a href='https://wandb.ai/miccai-challenge-2024/task2/runs/prngv2no' target=\"_blank\">https://wandb.ai/miccai-challenge-2024/task2/runs/prngv2no</a>"
      ],
      "text/plain": [
       "<IPython.core.display.HTML object>"
      ]
     },
     "metadata": {},
     "output_type": "display_data"
    },
    {
     "name": "stdout",
     "output_type": "stream",
     "text": [
      "Using device: cuda\n",
      "Loaded pretrained weights for efficientnet-b0\n",
      "Now train train train\n"
     ]
    },
    {
     "name": "stderr",
     "output_type": "stream",
     "text": [
      "Epoch 1/30 - Avg train Loss: 0.356878: 100%|███████████████████████████████████████████████████████████████████████████████████████████████████████████████████████████████| 25/25 [00:45<00:00,  1.80s/it]\n",
      "Epoch 1/30 - Avg val Loss: 0.362224: 100%|███████████████████████████████████████████████████████████████████████████████████████████████████████████████████████████████████| 7/7 [00:10<00:00,  1.49s/it]\n"
     ]
    },
    {
     "name": "stdout",
     "output_type": "stream",
     "text": [
      "New best model found at epoch 1 with validation loss: 0.3622. Model saved to models/easy-sweep-18_2024-07-24_05-52.pth\n"
     ]
    },
    {
     "name": "stderr",
     "output_type": "stream",
     "text": [
      "Epoch 2/30 - Avg train Loss: 0.305936: 100%|███████████████████████████████████████████████████████████████████████████████████████████████████████████████████████████████| 25/25 [00:44<00:00,  1.79s/it]\n",
      "Epoch 2/30 - Avg val Loss: 0.312238: 100%|███████████████████████████████████████████████████████████████████████████████████████████████████████████████████████████████████| 7/7 [00:10<00:00,  1.44s/it]\n"
     ]
    },
    {
     "name": "stdout",
     "output_type": "stream",
     "text": [
      "New best model found at epoch 2 with validation loss: 0.3122. Model saved to models/easy-sweep-18_2024-07-24_05-52.pth\n"
     ]
    },
    {
     "name": "stderr",
     "output_type": "stream",
     "text": [
      "Epoch 3/30 - Avg train Loss: 0.262731: 100%|███████████████████████████████████████████████████████████████████████████████████████████████████████████████████████████████| 25/25 [00:45<00:00,  1.81s/it]\n",
      "Epoch 3/30 - Avg val Loss: 0.316621: 100%|███████████████████████████████████████████████████████████████████████████████████████████████████████████████████████████████████| 7/7 [00:09<00:00,  1.32s/it]\n",
      "Epoch 4/30 - Avg train Loss: 0.266667: 100%|███████████████████████████████████████████████████████████████████████████████████████████████████████████████████████████████| 25/25 [00:47<00:00,  1.88s/it]\n",
      "Epoch 4/30 - Avg val Loss: 0.281558: 100%|███████████████████████████████████████████████████████████████████████████████████████████████████████████████████████████████████| 7/7 [00:10<00:00,  1.53s/it]\n"
     ]
    },
    {
     "name": "stdout",
     "output_type": "stream",
     "text": [
      "New best model found at epoch 4 with validation loss: 0.2816. Model saved to models/easy-sweep-18_2024-07-24_05-52.pth\n"
     ]
    },
    {
     "name": "stderr",
     "output_type": "stream",
     "text": [
      "Epoch 5/30 - Avg train Loss: 0.242064: 100%|███████████████████████████████████████████████████████████████████████████████████████████████████████████████████████████████| 25/25 [00:45<00:00,  1.80s/it]\n",
      "Epoch 5/30 - Avg val Loss: 0.304717: 100%|███████████████████████████████████████████████████████████████████████████████████████████████████████████████████████████████████| 7/7 [00:10<00:00,  1.52s/it]\n",
      "Epoch 6/30 - Avg train Loss: 0.234604: 100%|███████████████████████████████████████████████████████████████████████████████████████████████████████████████████████████████| 25/25 [00:46<00:00,  1.86s/it]\n",
      "Epoch 6/30 - Avg val Loss: 0.336805: 100%|███████████████████████████████████████████████████████████████████████████████████████████████████████████████████████████████████| 7/7 [00:09<00:00,  1.34s/it]\n",
      "Epoch 7/30 - Avg train Loss: 0.239759: 100%|███████████████████████████████████████████████████████████████████████████████████████████████████████████████████████████████| 25/25 [00:45<00:00,  1.83s/it]\n",
      "Epoch 7/30 - Avg val Loss: 0.314504: 100%|███████████████████████████████████████████████████████████████████████████████████████████████████████████████████████████████████| 7/7 [00:09<00:00,  1.29s/it]\n",
      "Epoch 8/30 - Avg train Loss: 0.232482: 100%|███████████████████████████████████████████████████████████████████████████████████████████████████████████████████████████████| 25/25 [00:47<00:00,  1.91s/it]\n",
      "Epoch 8/30 - Avg val Loss: 0.256384: 100%|███████████████████████████████████████████████████████████████████████████████████████████████████████████████████████████████████| 7/7 [00:10<00:00,  1.49s/it]\n"
     ]
    },
    {
     "name": "stdout",
     "output_type": "stream",
     "text": [
      "New best model found at epoch 8 with validation loss: 0.2564. Model saved to models/easy-sweep-18_2024-07-24_05-52.pth\n"
     ]
    },
    {
     "name": "stderr",
     "output_type": "stream",
     "text": [
      "Epoch 9/30 - Avg train Loss: 0.226093: 100%|███████████████████████████████████████████████████████████████████████████████████████████████████████████████████████████████| 25/25 [00:47<00:00,  1.91s/it]\n",
      "Epoch 9/30 - Avg val Loss: 0.280622: 100%|███████████████████████████████████████████████████████████████████████████████████████████████████████████████████████████████████| 7/7 [00:09<00:00,  1.39s/it]\n",
      "Epoch 10/30 - Avg train Loss: 0.230281: 100%|██████████████████████████████████████████████████████████████████████████████████████████████████████████████████████████████| 25/25 [00:48<00:00,  1.94s/it]\n",
      "Epoch 10/30 - Avg val Loss: 0.331099: 100%|██████████████████████████████████████████████████████████████████████████████████████████████████████████████████████████████████| 7/7 [00:08<00:00,  1.25s/it]\n",
      "Epoch 11/30 - Avg train Loss: 0.224050: 100%|██████████████████████████████████████████████████████████████████████████████████████████████████████████████████████████████| 25/25 [00:47<00:00,  1.90s/it]\n",
      "Epoch 11/30 - Avg val Loss: 0.321957: 100%|██████████████████████████████████████████████████████████████████████████████████████████████████████████████████████████████████| 7/7 [00:07<00:00,  1.11s/it]\n",
      "Epoch 12/30 - Avg train Loss: 0.222577: 100%|██████████████████████████████████████████████████████████████████████████████████████████████████████████████████████████████| 25/25 [00:45<00:00,  1.83s/it]\n",
      "Epoch 12/30 - Avg val Loss: 0.279264: 100%|██████████████████████████████████████████████████████████████████████████████████████████████████████████████████████████████████| 7/7 [00:07<00:00,  1.11s/it]\n",
      "Epoch 13/30 - Avg train Loss: 0.220904: 100%|██████████████████████████████████████████████████████████████████████████████████████████████████████████████████████████████| 25/25 [00:46<00:00,  1.88s/it]\n",
      "Epoch 13/30 - Avg val Loss: 0.282837: 100%|██████████████████████████████████████████████████████████████████████████████████████████████████████████████████████████████████| 7/7 [00:08<00:00,  1.14s/it]\n",
      "Epoch 14/30 - Avg train Loss: 0.220771: 100%|██████████████████████████████████████████████████████████████████████████████████████████████████████████████████████████████| 25/25 [00:41<00:00,  1.66s/it]\n",
      "Epoch 14/30 - Avg val Loss: 0.287127: 100%|██████████████████████████████████████████████████████████████████████████████████████████████████████████████████████████████████| 7/7 [00:07<00:00,  1.11s/it]\n",
      "Epoch 15/30 - Avg train Loss: 0.220591: 100%|██████████████████████████████████████████████████████████████████████████████████████████████████████████████████████████████| 25/25 [00:42<00:00,  1.68s/it]\n",
      "Epoch 15/30 - Avg val Loss: 0.275197: 100%|██████████████████████████████████████████████████████████████████████████████████████████████████████████████████████████████████| 7/7 [00:06<00:00,  1.00it/s]\n",
      "Epoch 16/30 - Avg train Loss: 0.220655: 100%|██████████████████████████████████████████████████████████████████████████████████████████████████████████████████████████████| 25/25 [00:41<00:00,  1.66s/it]\n",
      "Epoch 16/30 - Avg val Loss: 0.269110: 100%|██████████████████████████████████████████████████████████████████████████████████████████████████████████████████████████████████| 7/7 [00:07<00:00,  1.14s/it]\n",
      "Epoch 17/30 - Avg train Loss: 0.220551: 100%|██████████████████████████████████████████████████████████████████████████████████████████████████████████████████████████████| 25/25 [00:43<00:00,  1.76s/it]\n",
      "Epoch 17/30 - Avg val Loss: 0.256913: 100%|██████████████████████████████████████████████████████████████████████████████████████████████████████████████████████████████████| 7/7 [00:08<00:00,  1.22s/it]\n",
      "Epoch 18/30 - Avg train Loss: 0.219978: 100%|██████████████████████████████████████████████████████████████████████████████████████████████████████████████████████████████| 25/25 [00:42<00:00,  1.72s/it]\n",
      "Epoch 18/30 - Avg val Loss: 0.266638: 100%|██████████████████████████████████████████████████████████████████████████████████████████████████████████████████████████████████| 7/7 [00:06<00:00,  1.00it/s]\n",
      "Epoch 19/30 - Avg train Loss: 0.220665: 100%|██████████████████████████████████████████████████████████████████████████████████████████████████████████████████████████████| 25/25 [00:43<00:00,  1.76s/it]\n",
      "Epoch 19/30 - Avg val Loss: 0.260677: 100%|██████████████████████████████████████████████████████████████████████████████████████████████████████████████████████████████████| 7/7 [00:07<00:00,  1.06s/it]\n",
      "Epoch 20/30 - Avg train Loss: 0.219886: 100%|██████████████████████████████████████████████████████████████████████████████████████████████████████████████████████████████| 25/25 [00:41<00:00,  1.64s/it]\n",
      "Epoch 20/30 - Avg val Loss: 0.251163: 100%|██████████████████████████████████████████████████████████████████████████████████████████████████████████████████████████████████| 7/7 [00:07<00:00,  1.07s/it]\n"
     ]
    },
    {
     "name": "stdout",
     "output_type": "stream",
     "text": [
      "New best model found at epoch 20 with validation loss: 0.2512. Model saved to models/easy-sweep-18_2024-07-24_05-52.pth\n"
     ]
    },
    {
     "name": "stderr",
     "output_type": "stream",
     "text": [
      "Epoch 21/30 - Avg train Loss: 0.219846: 100%|██████████████████████████████████████████████████████████████████████████████████████████████████████████████████████████████| 25/25 [00:40<00:00,  1.64s/it]\n",
      "Epoch 21/30 - Avg val Loss: 0.260100: 100%|██████████████████████████████████████████████████████████████████████████████████████████████████████████████████████████████████| 7/7 [00:07<00:00,  1.05s/it]\n",
      "Epoch 22/30 - Avg train Loss: 0.219814: 100%|██████████████████████████████████████████████████████████████████████████████████████████████████████████████████████████████| 25/25 [00:39<00:00,  1.59s/it]\n",
      "Epoch 22/30 - Avg val Loss: 0.257926: 100%|██████████████████████████████████████████████████████████████████████████████████████████████████████████████████████████████████| 7/7 [00:08<00:00,  1.17s/it]\n",
      "Epoch 23/30 - Avg train Loss: 0.219994: 100%|██████████████████████████████████████████████████████████████████████████████████████████████████████████████████████████████| 25/25 [00:40<00:00,  1.63s/it]\n",
      "Epoch 23/30 - Avg val Loss: 0.254695: 100%|██████████████████████████████████████████████████████████████████████████████████████████████████████████████████████████████████| 7/7 [00:08<00:00,  1.19s/it]\n",
      "Epoch 24/30 - Avg train Loss: 0.219989: 100%|██████████████████████████████████████████████████████████████████████████████████████████████████████████████████████████████| 25/25 [00:42<00:00,  1.71s/it]\n",
      "Epoch 24/30 - Avg val Loss: 0.251986: 100%|██████████████████████████████████████████████████████████████████████████████████████████████████████████████████████████████████| 7/7 [00:09<00:00,  1.36s/it]\n",
      "Epoch 25/30 - Avg train Loss: 0.219942: 100%|██████████████████████████████████████████████████████████████████████████████████████████████████████████████████████████████| 25/25 [00:39<00:00,  1.56s/it]\n",
      "Epoch 25/30 - Avg val Loss: 0.247557: 100%|██████████████████████████████████████████████████████████████████████████████████████████████████████████████████████████████████| 7/7 [00:08<00:00,  1.20s/it]\n"
     ]
    },
    {
     "name": "stdout",
     "output_type": "stream",
     "text": [
      "New best model found at epoch 25 with validation loss: 0.2476. Model saved to models/easy-sweep-18_2024-07-24_05-52.pth\n"
     ]
    },
    {
     "name": "stderr",
     "output_type": "stream",
     "text": [
      "Epoch 26/30 - Avg train Loss: 0.220314: 100%|██████████████████████████████████████████████████████████████████████████████████████████████████████████████████████████████| 25/25 [00:37<00:00,  1.52s/it]\n",
      "Epoch 26/30 - Avg val Loss: 0.263516: 100%|██████████████████████████████████████████████████████████████████████████████████████████████████████████████████████████████████| 7/7 [00:07<00:00,  1.09s/it]\n",
      "Epoch 27/30 - Avg train Loss: 0.219745: 100%|██████████████████████████████████████████████████████████████████████████████████████████████████████████████████████████████| 25/25 [00:38<00:00,  1.54s/it]\n",
      "Epoch 27/30 - Avg val Loss: 0.263742: 100%|██████████████████████████████████████████████████████████████████████████████████████████████████████████████████████████████████| 7/7 [00:07<00:00,  1.09s/it]\n",
      "Epoch 28/30 - Avg train Loss: 0.220035: 100%|██████████████████████████████████████████████████████████████████████████████████████████████████████████████████████████████| 25/25 [00:41<00:00,  1.65s/it]\n",
      "Epoch 28/30 - Avg val Loss: 0.279279: 100%|██████████████████████████████████████████████████████████████████████████████████████████████████████████████████████████████████| 7/7 [00:07<00:00,  1.12s/it]\n",
      "Epoch 29/30 - Avg train Loss: 0.219726: 100%|██████████████████████████████████████████████████████████████████████████████████████████████████████████████████████████████| 25/25 [00:40<00:00,  1.61s/it]\n",
      "Epoch 29/30 - Avg val Loss: 0.278166: 100%|██████████████████████████████████████████████████████████████████████████████████████████████████████████████████████████████████| 7/7 [00:07<00:00,  1.07s/it]\n",
      "Epoch 30/30 - Avg train Loss: 0.220152: 100%|██████████████████████████████████████████████████████████████████████████████████████████████████████████████████████████████| 25/25 [00:40<00:00,  1.61s/it]\n",
      "Epoch 30/30 - Avg val Loss: 0.286931: 100%|██████████████████████████████████████████████████████████████████████████████████████████████████████████████████████████████████| 7/7 [00:07<00:00,  1.12s/it]\n"
     ]
    },
    {
     "data": {
      "application/vnd.jupyter.widget-view+json": {
       "model_id": "",
       "version_major": 2,
       "version_minor": 0
      },
      "text/plain": [
       "VBox(children=(Label(value='0.008 MB of 0.008 MB uploaded\\r'), FloatProgress(value=1.0, max=1.0)))"
      ]
     },
     "metadata": {},
     "output_type": "display_data"
    },
    {
     "data": {
      "text/html": [
       "<style>\n",
       "    table.wandb td:nth-child(1) { padding: 0 10px; text-align: left ; width: auto;} td:nth-child(2) {text-align: left ; width: 100%}\n",
       "    .wandb-row { display: flex; flex-direction: row; flex-wrap: wrap; justify-content: flex-start; width: 100% }\n",
       "    .wandb-col { display: flex; flex-direction: column; flex-basis: 100%; flex: 1; padding: 10px; }\n",
       "    </style>\n",
       "<div class=\"wandb-row\"><div class=\"wandb-col\"><h3>Run history:</h3><br/><table class=\"wandb\"><tr><td>accuracy</td><td>▄▅▁▅▃▄▆▅▇▄▄▆▆▅▆▅▇█▇▇▇▇▇██▇▇▆▇▇</td></tr><tr><td>auprc</td><td>▁▅▆▆▅▅▆▇▅▃▃▇▆▇▇███████████████</td></tr><tr><td>auroc</td><td>▁▅▆▆▅▅▆▇▆▂▁▇▅▇▇███████████████</td></tr><tr><td>avg_train_loss</td><td>█▅▃▃▂▂▂▂▁▂▁▁▁▁▁▁▁▁▁▁▁▁▁▁▁▁▁▁▁▁</td></tr><tr><td>avg_val_loss</td><td>█▅▅▃▄▆▅▂▃▆▆▃▃▃▃▂▂▂▂▁▂▂▁▁▁▂▂▃▃▃</td></tr><tr><td>sensitivity</td><td>▁▅▃▃▅▆█▅█▂▃█▄▅█▆██████████████</td></tr><tr><td>specificity</td><td>▅▅██▆▅▁█▄██▆██▄█▆▇▇███████████</td></tr></table><br/></div><div class=\"wandb-col\"><h3>Run summary:</h3><br/><table class=\"wandb\"><tr><td>accuracy</td><td>0.92</td></tr><tr><td>auprc</td><td>1.0</td></tr><tr><td>auroc</td><td>1.0</td></tr><tr><td>avg_train_loss</td><td>0.22015</td></tr><tr><td>avg_val_loss</td><td>0.28693</td></tr><tr><td>sensitivity</td><td>1.0</td></tr><tr><td>specificity</td><td>1.0</td></tr></table><br/></div></div>"
      ],
      "text/plain": [
       "<IPython.core.display.HTML object>"
      ]
     },
     "metadata": {},
     "output_type": "display_data"
    },
    {
     "data": {
      "text/html": [
       " View run <strong style=\"color:#cdcd00\">easy-sweep-18</strong> at: <a href='https://wandb.ai/miccai-challenge-2024/task2/runs/prngv2no' target=\"_blank\">https://wandb.ai/miccai-challenge-2024/task2/runs/prngv2no</a><br/> View project at: <a href='https://wandb.ai/miccai-challenge-2024/task2' target=\"_blank\">https://wandb.ai/miccai-challenge-2024/task2</a><br/>Synced 6 W&B file(s), 0 media file(s), 0 artifact file(s) and 0 other file(s)"
      ],
      "text/plain": [
       "<IPython.core.display.HTML object>"
      ]
     },
     "metadata": {},
     "output_type": "display_data"
    },
    {
     "data": {
      "text/html": [
       "Find logs at: <code>./wandb/run-20240724_055238-prngv2no/logs</code>"
      ],
      "text/plain": [
       "<IPython.core.display.HTML object>"
      ]
     },
     "metadata": {},
     "output_type": "display_data"
    },
    {
     "name": "stdout",
     "output_type": "stream",
     "text": [
      "Finished training\n"
     ]
    },
    {
     "name": "stderr",
     "output_type": "stream",
     "text": [
      "\u001b[34m\u001b[1mwandb\u001b[0m: Agent Starting Run: 23qbycke with config:\n",
      "\u001b[34m\u001b[1mwandb\u001b[0m: \tbatch_size: 16\n",
      "\u001b[34m\u001b[1mwandb\u001b[0m: \tepochs: 30\n",
      "\u001b[34m\u001b[1mwandb\u001b[0m: \tloss_weight: 0.5\n",
      "\u001b[34m\u001b[1mwandb\u001b[0m: \tlr: 0.001\n",
      "\u001b[34m\u001b[1mwandb\u001b[0m: \tlr_schedule_factor: 0.1\n",
      "\u001b[34m\u001b[1mwandb\u001b[0m: \tlr_schedule_patience: 5\n",
      "\u001b[34m\u001b[1mwandb\u001b[0m: \tmodel: Task2EfficientNetB0\n",
      "\u001b[34m\u001b[1mwandb\u001b[0m: \tp_affine: 0.3\n",
      "\u001b[34m\u001b[1mwandb\u001b[0m: \tp_clahe: 0.3\n",
      "\u001b[34m\u001b[1mwandb\u001b[0m: \tp_equalize: 0\n",
      "\u001b[34m\u001b[1mwandb\u001b[0m: \tp_gaussblur: 0\n",
      "\u001b[34m\u001b[1mwandb\u001b[0m: \tp_horizontalflip: 0.5\n",
      "\u001b[34m\u001b[1mwandb\u001b[0m: \tresampling_strategy: undersampling\n",
      "\u001b[34m\u001b[1mwandb\u001b[0m: \trotation: 10\n",
      "\u001b[34m\u001b[1mwandb\u001b[0m: \u001b[33mWARNING\u001b[0m Ignored wandb.init() arg project when running a sweep.\n"
     ]
    },
    {
     "data": {
      "application/vnd.jupyter.widget-view+json": {
       "model_id": "700ff2bdab1248db8cb5df3e0a0e3b39",
       "version_major": 2,
       "version_minor": 0
      },
      "text/plain": [
       "VBox(children=(Label(value='Waiting for wandb.init()...\\r'), FloatProgress(value=0.01111266322226988, max=1.0)…"
      ]
     },
     "metadata": {},
     "output_type": "display_data"
    },
    {
     "data": {
      "text/html": [
       "wandb version 0.17.5 is available!  To upgrade, please run:\n",
       " $ pip install wandb --upgrade"
      ],
      "text/plain": [
       "<IPython.core.display.HTML object>"
      ]
     },
     "metadata": {},
     "output_type": "display_data"
    },
    {
     "data": {
      "text/html": [
       "Tracking run with wandb version 0.17.0"
      ],
      "text/plain": [
       "<IPython.core.display.HTML object>"
      ]
     },
     "metadata": {},
     "output_type": "display_data"
    },
    {
     "data": {
      "text/html": [
       "Run data is saved locally in <code>/home/optima/mhaderer/AILS-MICCAI-UWF4DR-Challenge/wandb/run-20240724_061859-23qbycke</code>"
      ],
      "text/plain": [
       "<IPython.core.display.HTML object>"
      ]
     },
     "metadata": {},
     "output_type": "display_data"
    },
    {
     "data": {
      "text/html": [
       "Syncing run <strong><a href='https://wandb.ai/miccai-challenge-2024/task2/runs/23qbycke' target=\"_blank\">efficient-sweep-19</a></strong> to <a href='https://wandb.ai/miccai-challenge-2024/task2' target=\"_blank\">Weights & Biases</a> (<a href='https://wandb.me/run' target=\"_blank\">docs</a>)<br/>Sweep page: <a href='https://wandb.ai/miccai-challenge-2024/task2/sweeps/eo1h97d3' target=\"_blank\">https://wandb.ai/miccai-challenge-2024/task2/sweeps/eo1h97d3</a>"
      ],
      "text/plain": [
       "<IPython.core.display.HTML object>"
      ]
     },
     "metadata": {},
     "output_type": "display_data"
    },
    {
     "data": {
      "text/html": [
       " View project at <a href='https://wandb.ai/miccai-challenge-2024/task2' target=\"_blank\">https://wandb.ai/miccai-challenge-2024/task2</a>"
      ],
      "text/plain": [
       "<IPython.core.display.HTML object>"
      ]
     },
     "metadata": {},
     "output_type": "display_data"
    },
    {
     "data": {
      "text/html": [
       " View sweep at <a href='https://wandb.ai/miccai-challenge-2024/task2/sweeps/eo1h97d3' target=\"_blank\">https://wandb.ai/miccai-challenge-2024/task2/sweeps/eo1h97d3</a>"
      ],
      "text/plain": [
       "<IPython.core.display.HTML object>"
      ]
     },
     "metadata": {},
     "output_type": "display_data"
    },
    {
     "data": {
      "text/html": [
       " View run at <a href='https://wandb.ai/miccai-challenge-2024/task2/runs/23qbycke' target=\"_blank\">https://wandb.ai/miccai-challenge-2024/task2/runs/23qbycke</a>"
      ],
      "text/plain": [
       "<IPython.core.display.HTML object>"
      ]
     },
     "metadata": {},
     "output_type": "display_data"
    },
    {
     "name": "stdout",
     "output_type": "stream",
     "text": [
      "Using device: cuda\n",
      "Loaded pretrained weights for efficientnet-b0\n",
      "Now train train train\n"
     ]
    },
    {
     "name": "stderr",
     "output_type": "stream",
     "text": [
      "Epoch 1/30 - Avg train Loss: 0.374143: 100%|███████████████████████████████████████████████████████████████████████████████████████████████████████████████████████████████| 15/15 [00:28<00:00,  1.89s/it]\n",
      "Epoch 1/30 - Avg val Loss: 0.376615: 100%|███████████████████████████████████████████████████████████████████████████████████████████████████████████████████████████████████| 4/4 [00:07<00:00,  1.79s/it]\n"
     ]
    },
    {
     "name": "stdout",
     "output_type": "stream",
     "text": [
      "New best model found at epoch 1 with validation loss: 0.3766. Model saved to models/efficient-sweep-19_2024-07-24_06-19.pth\n"
     ]
    },
    {
     "name": "stderr",
     "output_type": "stream",
     "text": [
      "Epoch 2/30 - Avg train Loss: 0.323199: 100%|███████████████████████████████████████████████████████████████████████████████████████████████████████████████████████████████| 15/15 [00:26<00:00,  1.76s/it]\n",
      "Epoch 2/30 - Avg val Loss: 0.411549: 100%|███████████████████████████████████████████████████████████████████████████████████████████████████████████████████████████████████| 4/4 [00:06<00:00,  1.61s/it]\n",
      "Epoch 3/30 - Avg train Loss: 0.292375: 100%|███████████████████████████████████████████████████████████████████████████████████████████████████████████████████████████████| 15/15 [00:26<00:00,  1.78s/it]\n",
      "Epoch 3/30 - Avg val Loss: 0.356077: 100%|███████████████████████████████████████████████████████████████████████████████████████████████████████████████████████████████████| 4/4 [00:06<00:00,  1.55s/it]\n"
     ]
    },
    {
     "name": "stdout",
     "output_type": "stream",
     "text": [
      "New best model found at epoch 3 with validation loss: 0.3561. Model saved to models/efficient-sweep-19_2024-07-24_06-19.pth\n"
     ]
    },
    {
     "name": "stderr",
     "output_type": "stream",
     "text": [
      "Epoch 4/30 - Avg train Loss: 0.268350: 100%|███████████████████████████████████████████████████████████████████████████████████████████████████████████████████████████████| 15/15 [00:25<00:00,  1.68s/it]\n",
      "Epoch 4/30 - Avg val Loss: 0.381567: 100%|███████████████████████████████████████████████████████████████████████████████████████████████████████████████████████████████████| 4/4 [00:06<00:00,  1.56s/it]\n",
      "Epoch 5/30 - Avg train Loss: 0.280176: 100%|███████████████████████████████████████████████████████████████████████████████████████████████████████████████████████████████| 15/15 [00:25<00:00,  1.69s/it]\n",
      "Epoch 5/30 - Avg val Loss: 0.315630: 100%|███████████████████████████████████████████████████████████████████████████████████████████████████████████████████████████████████| 4/4 [00:06<00:00,  1.57s/it]\n"
     ]
    },
    {
     "name": "stdout",
     "output_type": "stream",
     "text": [
      "New best model found at epoch 5 with validation loss: 0.3156. Model saved to models/efficient-sweep-19_2024-07-24_06-19.pth\n"
     ]
    },
    {
     "name": "stderr",
     "output_type": "stream",
     "text": [
      "Epoch 6/30 - Avg train Loss: 0.261734: 100%|███████████████████████████████████████████████████████████████████████████████████████████████████████████████████████████████| 15/15 [00:26<00:00,  1.80s/it]\n",
      "Epoch 6/30 - Avg val Loss: 0.326186: 100%|███████████████████████████████████████████████████████████████████████████████████████████████████████████████████████████████████| 4/4 [00:06<00:00,  1.63s/it]\n",
      "Epoch 7/30 - Avg train Loss: 0.258043: 100%|███████████████████████████████████████████████████████████████████████████████████████████████████████████████████████████████| 15/15 [00:26<00:00,  1.76s/it]\n",
      "Epoch 7/30 - Avg val Loss: 0.309457: 100%|███████████████████████████████████████████████████████████████████████████████████████████████████████████████████████████████████| 4/4 [00:06<00:00,  1.67s/it]\n"
     ]
    },
    {
     "name": "stdout",
     "output_type": "stream",
     "text": [
      "New best model found at epoch 7 with validation loss: 0.3095. Model saved to models/efficient-sweep-19_2024-07-24_06-19.pth\n"
     ]
    },
    {
     "name": "stderr",
     "output_type": "stream",
     "text": [
      "Epoch 8/30 - Avg train Loss: 0.245807: 100%|███████████████████████████████████████████████████████████████████████████████████████████████████████████████████████████████| 15/15 [00:26<00:00,  1.76s/it]\n",
      "Epoch 8/30 - Avg val Loss: 0.362199: 100%|███████████████████████████████████████████████████████████████████████████████████████████████████████████████████████████████████| 4/4 [00:06<00:00,  1.52s/it]\n",
      "Epoch 9/30 - Avg train Loss: 0.260878: 100%|███████████████████████████████████████████████████████████████████████████████████████████████████████████████████████████████| 15/15 [00:25<00:00,  1.69s/it]\n",
      "Epoch 9/30 - Avg val Loss: 0.344357: 100%|███████████████████████████████████████████████████████████████████████████████████████████████████████████████████████████████████| 4/4 [00:06<00:00,  1.56s/it]\n",
      "Epoch 10/30 - Avg train Loss: 0.239949: 100%|██████████████████████████████████████████████████████████████████████████████████████████████████████████████████████████████| 15/15 [00:25<00:00,  1.72s/it]\n",
      "Epoch 10/30 - Avg val Loss: 0.388616: 100%|██████████████████████████████████████████████████████████████████████████████████████████████████████████████████████████████████| 4/4 [00:06<00:00,  1.58s/it]\n",
      "Epoch 11/30 - Avg train Loss: 0.236826: 100%|██████████████████████████████████████████████████████████████████████████████████████████████████████████████████████████████| 15/15 [00:26<00:00,  1.77s/it]\n",
      "Epoch 11/30 - Avg val Loss: 0.331879: 100%|██████████████████████████████████████████████████████████████████████████████████████████████████████████████████████████████████| 4/4 [00:06<00:00,  1.64s/it]\n",
      "Epoch 12/30 - Avg train Loss: 0.242579: 100%|██████████████████████████████████████████████████████████████████████████████████████████████████████████████████████████████| 15/15 [00:26<00:00,  1.74s/it]\n",
      "Epoch 12/30 - Avg val Loss: 0.343497: 100%|██████████████████████████████████████████████████████████████████████████████████████████████████████████████████████████████████| 4/4 [00:06<00:00,  1.56s/it]\n",
      "Epoch 13/30 - Avg train Loss: 0.239507: 100%|██████████████████████████████████████████████████████████████████████████████████████████████████████████████████████████████| 15/15 [00:27<00:00,  1.80s/it]\n",
      "Epoch 13/30 - Avg val Loss: 0.313272: 100%|██████████████████████████████████████████████████████████████████████████████████████████████████████████████████████████████████| 4/4 [00:06<00:00,  1.57s/it]\n",
      "Epoch 14/30 - Avg train Loss: 0.238696: 100%|██████████████████████████████████████████████████████████████████████████████████████████████████████████████████████████████| 15/15 [00:25<00:00,  1.70s/it]\n",
      "Epoch 14/30 - Avg val Loss: 0.306618: 100%|██████████████████████████████████████████████████████████████████████████████████████████████████████████████████████████████████| 4/4 [00:06<00:00,  1.54s/it]\n"
     ]
    },
    {
     "name": "stdout",
     "output_type": "stream",
     "text": [
      "New best model found at epoch 14 with validation loss: 0.3066. Model saved to models/efficient-sweep-19_2024-07-24_06-19.pth\n"
     ]
    },
    {
     "name": "stderr",
     "output_type": "stream",
     "text": [
      "Epoch 15/30 - Avg train Loss: 0.233329: 100%|██████████████████████████████████████████████████████████████████████████████████████████████████████████████████████████████| 15/15 [00:26<00:00,  1.75s/it]\n",
      "Epoch 15/30 - Avg val Loss: 0.296975: 100%|██████████████████████████████████████████████████████████████████████████████████████████████████████████████████████████████████| 4/4 [00:06<00:00,  1.51s/it]\n"
     ]
    },
    {
     "name": "stdout",
     "output_type": "stream",
     "text": [
      "New best model found at epoch 15 with validation loss: 0.2970. Model saved to models/efficient-sweep-19_2024-07-24_06-19.pth\n"
     ]
    },
    {
     "name": "stderr",
     "output_type": "stream",
     "text": [
      "Epoch 16/30 - Avg train Loss: 0.230541: 100%|██████████████████████████████████████████████████████████████████████████████████████████████████████████████████████████████| 15/15 [00:25<00:00,  1.73s/it]\n",
      "Epoch 16/30 - Avg val Loss: 0.294592: 100%|██████████████████████████████████████████████████████████████████████████████████████████████████████████████████████████████████| 4/4 [00:06<00:00,  1.52s/it]\n"
     ]
    },
    {
     "name": "stdout",
     "output_type": "stream",
     "text": [
      "New best model found at epoch 16 with validation loss: 0.2946. Model saved to models/efficient-sweep-19_2024-07-24_06-19.pth\n"
     ]
    },
    {
     "name": "stderr",
     "output_type": "stream",
     "text": [
      "Epoch 17/30 - Avg train Loss: 0.234950: 100%|██████████████████████████████████████████████████████████████████████████████████████████████████████████████████████████████| 15/15 [00:25<00:00,  1.67s/it]\n",
      "Epoch 17/30 - Avg val Loss: 0.297160: 100%|██████████████████████████████████████████████████████████████████████████████████████████████████████████████████████████████████| 4/4 [00:06<00:00,  1.64s/it]\n",
      "Epoch 18/30 - Avg train Loss: 0.228501: 100%|██████████████████████████████████████████████████████████████████████████████████████████████████████████████████████████████| 15/15 [00:25<00:00,  1.69s/it]\n",
      "Epoch 18/30 - Avg val Loss: 0.296191: 100%|██████████████████████████████████████████████████████████████████████████████████████████████████████████████████████████████████| 4/4 [00:06<00:00,  1.51s/it]\n",
      "Epoch 19/30 - Avg train Loss: 0.224403: 100%|██████████████████████████████████████████████████████████████████████████████████████████████████████████████████████████████| 15/15 [00:25<00:00,  1.68s/it]\n",
      "Epoch 19/30 - Avg val Loss: 0.296177: 100%|██████████████████████████████████████████████████████████████████████████████████████████████████████████████████████████████████| 4/4 [00:06<00:00,  1.55s/it]\n",
      "Epoch 20/30 - Avg train Loss: 0.228979: 100%|██████████████████████████████████████████████████████████████████████████████████████████████████████████████████████████████| 15/15 [00:25<00:00,  1.72s/it]\n",
      "Epoch 20/30 - Avg val Loss: 0.296850: 100%|██████████████████████████████████████████████████████████████████████████████████████████████████████████████████████████████████| 4/4 [00:06<00:00,  1.51s/it]\n",
      "Epoch 21/30 - Avg train Loss: 0.223286: 100%|██████████████████████████████████████████████████████████████████████████████████████████████████████████████████████████████| 15/15 [00:24<00:00,  1.67s/it]\n",
      "Epoch 21/30 - Avg val Loss: 0.293997: 100%|██████████████████████████████████████████████████████████████████████████████████████████████████████████████████████████████████| 4/4 [00:06<00:00,  1.55s/it]\n"
     ]
    },
    {
     "name": "stdout",
     "output_type": "stream",
     "text": [
      "New best model found at epoch 21 with validation loss: 0.2940. Model saved to models/efficient-sweep-19_2024-07-24_06-19.pth\n"
     ]
    },
    {
     "name": "stderr",
     "output_type": "stream",
     "text": [
      "Epoch 22/30 - Avg train Loss: 0.224384: 100%|██████████████████████████████████████████████████████████████████████████████████████████████████████████████████████████████| 15/15 [00:24<00:00,  1.66s/it]\n",
      "Epoch 22/30 - Avg val Loss: 0.290859: 100%|██████████████████████████████████████████████████████████████████████████████████████████████████████████████████████████████████| 4/4 [00:06<00:00,  1.51s/it]\n"
     ]
    },
    {
     "name": "stdout",
     "output_type": "stream",
     "text": [
      "New best model found at epoch 22 with validation loss: 0.2909. Model saved to models/efficient-sweep-19_2024-07-24_06-19.pth\n"
     ]
    },
    {
     "name": "stderr",
     "output_type": "stream",
     "text": [
      "Epoch 23/30 - Avg train Loss: 0.228233: 100%|██████████████████████████████████████████████████████████████████████████████████████████████████████████████████████████████| 15/15 [00:25<00:00,  1.70s/it]\n",
      "Epoch 23/30 - Avg val Loss: 0.291150: 100%|██████████████████████████████████████████████████████████████████████████████████████████████████████████████████████████████████| 4/4 [00:06<00:00,  1.55s/it]\n",
      "Epoch 24/30 - Avg train Loss: 0.225041: 100%|██████████████████████████████████████████████████████████████████████████████████████████████████████████████████████████████| 15/15 [00:24<00:00,  1.65s/it]\n",
      "Epoch 24/30 - Avg val Loss: 0.293675: 100%|██████████████████████████████████████████████████████████████████████████████████████████████████████████████████████████████████| 4/4 [00:06<00:00,  1.51s/it]\n",
      "Epoch 25/30 - Avg train Loss: 0.224108: 100%|██████████████████████████████████████████████████████████████████████████████████████████████████████████████████████████████| 15/15 [00:25<00:00,  1.68s/it]\n",
      "Epoch 25/30 - Avg val Loss: 0.294734: 100%|██████████████████████████████████████████████████████████████████████████████████████████████████████████████████████████████████| 4/4 [00:06<00:00,  1.51s/it]\n",
      "Epoch 26/30 - Avg train Loss: 0.224392: 100%|██████████████████████████████████████████████████████████████████████████████████████████████████████████████████████████████| 15/15 [00:24<00:00,  1.66s/it]\n",
      "Epoch 26/30 - Avg val Loss: 0.291306: 100%|██████████████████████████████████████████████████████████████████████████████████████████████████████████████████████████████████| 4/4 [00:06<00:00,  1.50s/it]\n",
      "Epoch 27/30 - Avg train Loss: 0.223084: 100%|██████████████████████████████████████████████████████████████████████████████████████████████████████████████████████████████| 15/15 [00:26<00:00,  1.79s/it]\n",
      "Epoch 27/30 - Avg val Loss: 0.290716: 100%|██████████████████████████████████████████████████████████████████████████████████████████████████████████████████████████████████| 4/4 [00:06<00:00,  1.50s/it]\n"
     ]
    },
    {
     "name": "stdout",
     "output_type": "stream",
     "text": [
      "New best model found at epoch 27 with validation loss: 0.2907. Model saved to models/efficient-sweep-19_2024-07-24_06-19.pth\n"
     ]
    },
    {
     "name": "stderr",
     "output_type": "stream",
     "text": [
      "Epoch 28/30 - Avg train Loss: 0.222842: 100%|██████████████████████████████████████████████████████████████████████████████████████████████████████████████████████████████| 15/15 [00:26<00:00,  1.79s/it]\n",
      "Epoch 28/30 - Avg val Loss: 0.290367: 100%|██████████████████████████████████████████████████████████████████████████████████████████████████████████████████████████████████| 4/4 [00:06<00:00,  1.53s/it]\n"
     ]
    },
    {
     "name": "stdout",
     "output_type": "stream",
     "text": [
      "New best model found at epoch 28 with validation loss: 0.2904. Model saved to models/efficient-sweep-19_2024-07-24_06-19.pth\n"
     ]
    },
    {
     "name": "stderr",
     "output_type": "stream",
     "text": [
      "Epoch 29/30 - Avg train Loss: 0.222373: 100%|██████████████████████████████████████████████████████████████████████████████████████████████████████████████████████████████| 15/15 [00:26<00:00,  1.80s/it]\n",
      "Epoch 29/30 - Avg val Loss: 0.293002: 100%|██████████████████████████████████████████████████████████████████████████████████████████████████████████████████████████████████| 4/4 [00:06<00:00,  1.57s/it]\n",
      "Epoch 30/30 - Avg train Loss: 0.223356: 100%|██████████████████████████████████████████████████████████████████████████████████████████████████████████████████████████████| 15/15 [00:26<00:00,  1.77s/it]\n",
      "Epoch 30/30 - Avg val Loss: 0.298351: 100%|██████████████████████████████████████████████████████████████████████████████████████████████████████████████████████████████████| 4/4 [00:06<00:00,  1.61s/it]\n"
     ]
    },
    {
     "data": {
      "application/vnd.jupyter.widget-view+json": {
       "model_id": "",
       "version_major": 2,
       "version_minor": 0
      },
      "text/plain": [
       "VBox(children=(Label(value='0.008 MB of 0.008 MB uploaded\\r'), FloatProgress(value=1.0, max=1.0)))"
      ]
     },
     "metadata": {},
     "output_type": "display_data"
    },
    {
     "data": {
      "text/html": [
       "<style>\n",
       "    table.wandb td:nth-child(1) { padding: 0 10px; text-align: left ; width: auto;} td:nth-child(2) {text-align: left ; width: 100%}\n",
       "    .wandb-row { display: flex; flex-direction: row; flex-wrap: wrap; justify-content: flex-start; width: 100% }\n",
       "    .wandb-col { display: flex; flex-direction: column; flex-basis: 100%; flex: 1; padding: 10px; }\n",
       "    </style>\n",
       "<div class=\"wandb-row\"><div class=\"wandb-col\"><h3>Run history:</h3><br/><table class=\"wandb\"><tr><td>accuracy</td><td>▁▁▇▂▆▅█▇▇▇▇▇▇▇▇▇▇▇▇▇▇▇▇▇▇▇▇▇▇▇</td></tr><tr><td>auprc</td><td>▁▄▅▇▇▇█▆▇▅▃▆▅▇▇▇▇▇▇▇▇▇▇▇▇█▇██▇</td></tr><tr><td>auroc</td><td>▁▃▅▇▆██▆▆▄▃▆▆▇▇▆▆▆▆▆▆▇▇▇▇▇▇██▇</td></tr><tr><td>avg_train_loss</td><td>█▆▄▃▄▃▃▂▃▂▂▂▂▂▂▁▂▁▁▁▁▁▁▁▁▁▁▁▁▁</td></tr><tr><td>avg_val_loss</td><td>▆█▅▆▂▃▂▅▄▇▃▄▂▂▁▁▁▁▁▁▁▁▁▁▁▁▁▁▁▁</td></tr><tr><td>sensitivity</td><td>▅▁▄▇▅███▇▅▆█▄▆▇▇▇▇▇▇▇█▇▇▆▇▇▇▇▆</td></tr><tr><td>specificity</td><td>▁█▅▇▇▂▅▅▅▄▄▂▇▇▇▇▇▇▇▇▇▇▇▇▇▇▇▇▇▇</td></tr></table><br/></div><div class=\"wandb-col\"><h3>Run summary:</h3><br/><table class=\"wandb\"><tr><td>accuracy</td><td>0.85</td></tr><tr><td>auprc</td><td>0.95351</td></tr><tr><td>auroc</td><td>0.94778</td></tr><tr><td>avg_train_loss</td><td>0.22336</td></tr><tr><td>avg_val_loss</td><td>0.29835</td></tr><tr><td>sensitivity</td><td>0.83333</td></tr><tr><td>specificity</td><td>0.96667</td></tr></table><br/></div></div>"
      ],
      "text/plain": [
       "<IPython.core.display.HTML object>"
      ]
     },
     "metadata": {},
     "output_type": "display_data"
    },
    {
     "data": {
      "text/html": [
       " View run <strong style=\"color:#cdcd00\">efficient-sweep-19</strong> at: <a href='https://wandb.ai/miccai-challenge-2024/task2/runs/23qbycke' target=\"_blank\">https://wandb.ai/miccai-challenge-2024/task2/runs/23qbycke</a><br/> View project at: <a href='https://wandb.ai/miccai-challenge-2024/task2' target=\"_blank\">https://wandb.ai/miccai-challenge-2024/task2</a><br/>Synced 6 W&B file(s), 0 media file(s), 0 artifact file(s) and 0 other file(s)"
      ],
      "text/plain": [
       "<IPython.core.display.HTML object>"
      ]
     },
     "metadata": {},
     "output_type": "display_data"
    },
    {
     "data": {
      "text/html": [
       "Find logs at: <code>./wandb/run-20240724_061859-23qbycke/logs</code>"
      ],
      "text/plain": [
       "<IPython.core.display.HTML object>"
      ]
     },
     "metadata": {},
     "output_type": "display_data"
    },
    {
     "name": "stdout",
     "output_type": "stream",
     "text": [
      "Finished training\n"
     ]
    },
    {
     "name": "stderr",
     "output_type": "stream",
     "text": [
      "\u001b[34m\u001b[1mwandb\u001b[0m: Agent Starting Run: k3uegxc8 with config:\n",
      "\u001b[34m\u001b[1mwandb\u001b[0m: \tbatch_size: 16\n",
      "\u001b[34m\u001b[1mwandb\u001b[0m: \tepochs: 30\n",
      "\u001b[34m\u001b[1mwandb\u001b[0m: \tloss_weight: 0.5\n",
      "\u001b[34m\u001b[1mwandb\u001b[0m: \tlr: 0.001\n",
      "\u001b[34m\u001b[1mwandb\u001b[0m: \tlr_schedule_factor: 0.1\n",
      "\u001b[34m\u001b[1mwandb\u001b[0m: \tlr_schedule_patience: 5\n",
      "\u001b[34m\u001b[1mwandb\u001b[0m: \tmodel: Task2EfficientNetB0\n",
      "\u001b[34m\u001b[1mwandb\u001b[0m: \tp_affine: 0.3\n",
      "\u001b[34m\u001b[1mwandb\u001b[0m: \tp_clahe: 0.5\n",
      "\u001b[34m\u001b[1mwandb\u001b[0m: \tp_equalize: 0\n",
      "\u001b[34m\u001b[1mwandb\u001b[0m: \tp_gaussblur: 0.3\n",
      "\u001b[34m\u001b[1mwandb\u001b[0m: \tp_horizontalflip: 0.5\n",
      "\u001b[34m\u001b[1mwandb\u001b[0m: \tresampling_strategy: undersampling\n",
      "\u001b[34m\u001b[1mwandb\u001b[0m: \trotation: 10\n",
      "\u001b[34m\u001b[1mwandb\u001b[0m: \u001b[33mWARNING\u001b[0m Ignored wandb.init() arg project when running a sweep.\n"
     ]
    },
    {
     "data": {
      "text/html": [
       "wandb version 0.17.5 is available!  To upgrade, please run:\n",
       " $ pip install wandb --upgrade"
      ],
      "text/plain": [
       "<IPython.core.display.HTML object>"
      ]
     },
     "metadata": {},
     "output_type": "display_data"
    },
    {
     "data": {
      "text/html": [
       "Tracking run with wandb version 0.17.0"
      ],
      "text/plain": [
       "<IPython.core.display.HTML object>"
      ]
     },
     "metadata": {},
     "output_type": "display_data"
    },
    {
     "data": {
      "text/html": [
       "Run data is saved locally in <code>/home/optima/mhaderer/AILS-MICCAI-UWF4DR-Challenge/wandb/run-20240724_063531-k3uegxc8</code>"
      ],
      "text/plain": [
       "<IPython.core.display.HTML object>"
      ]
     },
     "metadata": {},
     "output_type": "display_data"
    },
    {
     "data": {
      "text/html": [
       "Syncing run <strong><a href='https://wandb.ai/miccai-challenge-2024/task2/runs/k3uegxc8' target=\"_blank\">efficient-sweep-20</a></strong> to <a href='https://wandb.ai/miccai-challenge-2024/task2' target=\"_blank\">Weights & Biases</a> (<a href='https://wandb.me/run' target=\"_blank\">docs</a>)<br/>Sweep page: <a href='https://wandb.ai/miccai-challenge-2024/task2/sweeps/eo1h97d3' target=\"_blank\">https://wandb.ai/miccai-challenge-2024/task2/sweeps/eo1h97d3</a>"
      ],
      "text/plain": [
       "<IPython.core.display.HTML object>"
      ]
     },
     "metadata": {},
     "output_type": "display_data"
    },
    {
     "data": {
      "text/html": [
       " View project at <a href='https://wandb.ai/miccai-challenge-2024/task2' target=\"_blank\">https://wandb.ai/miccai-challenge-2024/task2</a>"
      ],
      "text/plain": [
       "<IPython.core.display.HTML object>"
      ]
     },
     "metadata": {},
     "output_type": "display_data"
    },
    {
     "data": {
      "text/html": [
       " View sweep at <a href='https://wandb.ai/miccai-challenge-2024/task2/sweeps/eo1h97d3' target=\"_blank\">https://wandb.ai/miccai-challenge-2024/task2/sweeps/eo1h97d3</a>"
      ],
      "text/plain": [
       "<IPython.core.display.HTML object>"
      ]
     },
     "metadata": {},
     "output_type": "display_data"
    },
    {
     "data": {
      "text/html": [
       " View run at <a href='https://wandb.ai/miccai-challenge-2024/task2/runs/k3uegxc8' target=\"_blank\">https://wandb.ai/miccai-challenge-2024/task2/runs/k3uegxc8</a>"
      ],
      "text/plain": [
       "<IPython.core.display.HTML object>"
      ]
     },
     "metadata": {},
     "output_type": "display_data"
    },
    {
     "name": "stdout",
     "output_type": "stream",
     "text": [
      "Using device: cuda\n",
      "Loaded pretrained weights for efficientnet-b0\n",
      "Now train train train\n"
     ]
    },
    {
     "name": "stderr",
     "output_type": "stream",
     "text": [
      "Epoch 1/30 - Avg train Loss: 0.376223: 100%|███████████████████████████████████████████████████████████████████████████████████████████████████████████████████████████████| 15/15 [00:29<00:00,  1.99s/it]\n",
      "Epoch 1/30 - Avg val Loss: 0.391506: 100%|███████████████████████████████████████████████████████████████████████████████████████████████████████████████████████████████████| 4/4 [00:06<00:00,  1.57s/it]\n"
     ]
    },
    {
     "name": "stdout",
     "output_type": "stream",
     "text": [
      "New best model found at epoch 1 with validation loss: 0.3915. Model saved to models/efficient-sweep-20_2024-07-24_06-35.pth\n"
     ]
    },
    {
     "name": "stderr",
     "output_type": "stream",
     "text": [
      "Epoch 2/30 - Avg train Loss: 0.334274: 100%|███████████████████████████████████████████████████████████████████████████████████████████████████████████████████████████████| 15/15 [00:29<00:00,  1.96s/it]\n",
      "Epoch 2/30 - Avg val Loss: 0.368606: 100%|███████████████████████████████████████████████████████████████████████████████████████████████████████████████████████████████████| 4/4 [00:06<00:00,  1.68s/it]\n"
     ]
    },
    {
     "name": "stdout",
     "output_type": "stream",
     "text": [
      "New best model found at epoch 2 with validation loss: 0.3686. Model saved to models/efficient-sweep-20_2024-07-24_06-35.pth\n"
     ]
    },
    {
     "name": "stderr",
     "output_type": "stream",
     "text": [
      "Epoch 3/30 - Avg train Loss: 0.308706: 100%|███████████████████████████████████████████████████████████████████████████████████████████████████████████████████████████████| 15/15 [00:30<00:00,  2.00s/it]\n",
      "Epoch 3/30 - Avg val Loss: 0.310841: 100%|███████████████████████████████████████████████████████████████████████████████████████████████████████████████████████████████████| 4/4 [00:06<00:00,  1.67s/it]\n"
     ]
    },
    {
     "name": "stdout",
     "output_type": "stream",
     "text": [
      "New best model found at epoch 3 with validation loss: 0.3108. Model saved to models/efficient-sweep-20_2024-07-24_06-35.pth\n"
     ]
    },
    {
     "name": "stderr",
     "output_type": "stream",
     "text": [
      "Epoch 4/30 - Avg train Loss: 0.283393: 100%|███████████████████████████████████████████████████████████████████████████████████████████████████████████████████████████████| 15/15 [00:29<00:00,  1.94s/it]\n",
      "Epoch 4/30 - Avg val Loss: 0.311298: 100%|███████████████████████████████████████████████████████████████████████████████████████████████████████████████████████████████████| 4/4 [00:06<00:00,  1.70s/it]\n",
      "Epoch 5/30 - Avg train Loss: 0.290140: 100%|███████████████████████████████████████████████████████████████████████████████████████████████████████████████████████████████| 15/15 [00:27<00:00,  1.84s/it]\n",
      "Epoch 5/30 - Avg val Loss: 0.314964: 100%|███████████████████████████████████████████████████████████████████████████████████████████████████████████████████████████████████| 4/4 [00:06<00:00,  1.55s/it]\n",
      "Epoch 6/30 - Avg train Loss: 0.263656: 100%|███████████████████████████████████████████████████████████████████████████████████████████████████████████████████████████████| 15/15 [00:27<00:00,  1.84s/it]\n",
      "Epoch 6/30 - Avg val Loss: 0.382489: 100%|███████████████████████████████████████████████████████████████████████████████████████████████████████████████████████████████████| 4/4 [00:06<00:00,  1.56s/it]\n",
      "Epoch 7/30 - Avg train Loss: 0.251400: 100%|███████████████████████████████████████████████████████████████████████████████████████████████████████████████████████████████| 15/15 [00:29<00:00,  1.95s/it]\n",
      "Epoch 7/30 - Avg val Loss: 0.349986: 100%|███████████████████████████████████████████████████████████████████████████████████████████████████████████████████████████████████| 4/4 [00:06<00:00,  1.53s/it]\n",
      "Epoch 8/30 - Avg train Loss: 0.245680: 100%|███████████████████████████████████████████████████████████████████████████████████████████████████████████████████████████████| 15/15 [00:28<00:00,  1.90s/it]\n",
      "Epoch 8/30 - Avg val Loss: 0.304160: 100%|███████████████████████████████████████████████████████████████████████████████████████████████████████████████████████████████████| 4/4 [00:06<00:00,  1.55s/it]\n"
     ]
    },
    {
     "name": "stdout",
     "output_type": "stream",
     "text": [
      "New best model found at epoch 8 with validation loss: 0.3042. Model saved to models/efficient-sweep-20_2024-07-24_06-35.pth\n"
     ]
    },
    {
     "name": "stderr",
     "output_type": "stream",
     "text": [
      "Epoch 9/30 - Avg train Loss: 0.263993: 100%|███████████████████████████████████████████████████████████████████████████████████████████████████████████████████████████████| 15/15 [00:28<00:00,  1.90s/it]\n",
      "Epoch 9/30 - Avg val Loss: 0.306860: 100%|███████████████████████████████████████████████████████████████████████████████████████████████████████████████████████████████████| 4/4 [00:06<00:00,  1.55s/it]\n",
      "Epoch 10/30 - Avg train Loss: 0.242120: 100%|██████████████████████████████████████████████████████████████████████████████████████████████████████████████████████████████| 15/15 [00:27<00:00,  1.83s/it]\n",
      "Epoch 10/30 - Avg val Loss: 0.301778: 100%|██████████████████████████████████████████████████████████████████████████████████████████████████████████████████████████████████| 4/4 [00:06<00:00,  1.57s/it]\n"
     ]
    },
    {
     "name": "stdout",
     "output_type": "stream",
     "text": [
      "New best model found at epoch 10 with validation loss: 0.3018. Model saved to models/efficient-sweep-20_2024-07-24_06-35.pth\n"
     ]
    },
    {
     "name": "stderr",
     "output_type": "stream",
     "text": [
      "Epoch 11/30 - Avg train Loss: 0.240850: 100%|██████████████████████████████████████████████████████████████████████████████████████████████████████████████████████████████| 15/15 [00:27<00:00,  1.82s/it]\n",
      "Epoch 11/30 - Avg val Loss: 0.305677: 100%|██████████████████████████████████████████████████████████████████████████████████████████████████████████████████████████████████| 4/4 [00:06<00:00,  1.51s/it]\n",
      "Epoch 12/30 - Avg train Loss: 0.241940: 100%|██████████████████████████████████████████████████████████████████████████████████████████████████████████████████████████████| 15/15 [00:27<00:00,  1.84s/it]\n",
      "Epoch 12/30 - Avg val Loss: 0.324094: 100%|██████████████████████████████████████████████████████████████████████████████████████████████████████████████████████████████████| 4/4 [00:06<00:00,  1.72s/it]\n",
      "Epoch 13/30 - Avg train Loss: 0.250816: 100%|██████████████████████████████████████████████████████████████████████████████████████████████████████████████████████████████| 15/15 [00:28<00:00,  1.91s/it]\n",
      "Epoch 13/30 - Avg val Loss: 0.311001: 100%|██████████████████████████████████████████████████████████████████████████████████████████████████████████████████████████████████| 4/4 [00:06<00:00,  1.73s/it]\n",
      "Epoch 14/30 - Avg train Loss: 0.247884: 100%|██████████████████████████████████████████████████████████████████████████████████████████████████████████████████████████████| 15/15 [00:29<00:00,  1.94s/it]\n",
      "Epoch 14/30 - Avg val Loss: 0.400536: 100%|██████████████████████████████████████████████████████████████████████████████████████████████████████████████████████████████████| 4/4 [00:06<00:00,  1.54s/it]\n",
      "Epoch 15/30 - Avg train Loss: 0.250710: 100%|██████████████████████████████████████████████████████████████████████████████████████████████████████████████████████████████| 15/15 [00:26<00:00,  1.80s/it]\n",
      "Epoch 15/30 - Avg val Loss: 0.459768: 100%|██████████████████████████████████████████████████████████████████████████████████████████████████████████████████████████████████| 4/4 [00:06<00:00,  1.53s/it]\n",
      "Epoch 16/30 - Avg train Loss: 0.251412: 100%|██████████████████████████████████████████████████████████████████████████████████████████████████████████████████████████████| 15/15 [00:27<00:00,  1.86s/it]\n",
      "Epoch 16/30 - Avg val Loss: 0.353899: 100%|██████████████████████████████████████████████████████████████████████████████████████████████████████████████████████████████████| 4/4 [00:06<00:00,  1.68s/it]\n",
      "Epoch 17/30 - Avg train Loss: 0.255875: 100%|██████████████████████████████████████████████████████████████████████████████████████████████████████████████████████████████| 15/15 [00:27<00:00,  1.85s/it]\n",
      "Epoch 17/30 - Avg val Loss: 0.342692: 100%|██████████████████████████████████████████████████████████████████████████████████████████████████████████████████████████████████| 4/4 [00:06<00:00,  1.70s/it]\n",
      "Epoch 18/30 - Avg train Loss: 0.229178: 100%|██████████████████████████████████████████████████████████████████████████████████████████████████████████████████████████████| 15/15 [00:29<00:00,  1.95s/it]\n",
      "Epoch 18/30 - Avg val Loss: 0.330859: 100%|██████████████████████████████████████████████████████████████████████████████████████████████████████████████████████████████████| 4/4 [00:06<00:00,  1.66s/it]\n",
      "Epoch 19/30 - Avg train Loss: 0.229495: 100%|██████████████████████████████████████████████████████████████████████████████████████████████████████████████████████████████| 15/15 [00:28<00:00,  1.92s/it]\n",
      "Epoch 19/30 - Avg val Loss: 0.324661: 100%|██████████████████████████████████████████████████████████████████████████████████████████████████████████████████████████████████| 4/4 [00:06<00:00,  1.62s/it]\n",
      "Epoch 20/30 - Avg train Loss: 0.231722: 100%|██████████████████████████████████████████████████████████████████████████████████████████████████████████████████████████████| 15/15 [00:28<00:00,  1.93s/it]\n",
      "Epoch 20/30 - Avg val Loss: 0.322849: 100%|██████████████████████████████████████████████████████████████████████████████████████████████████████████████████████████████████| 4/4 [00:06<00:00,  1.68s/it]\n",
      "Epoch 21/30 - Avg train Loss: 0.228836: 100%|██████████████████████████████████████████████████████████████████████████████████████████████████████████████████████████████| 15/15 [00:28<00:00,  1.88s/it]\n",
      "Epoch 21/30 - Avg val Loss: 0.311296: 100%|██████████████████████████████████████████████████████████████████████████████████████████████████████████████████████████████████| 4/4 [00:06<00:00,  1.67s/it]\n",
      "Epoch 22/30 - Avg train Loss: 0.224362: 100%|██████████████████████████████████████████████████████████████████████████████████████████████████████████████████████████████| 15/15 [00:28<00:00,  1.90s/it]\n",
      "Epoch 22/30 - Avg val Loss: 0.307401: 100%|██████████████████████████████████████████████████████████████████████████████████████████████████████████████████████████████████| 4/4 [00:06<00:00,  1.53s/it]\n",
      "Epoch 23/30 - Avg train Loss: 0.233898: 100%|██████████████████████████████████████████████████████████████████████████████████████████████████████████████████████████████| 15/15 [00:28<00:00,  1.88s/it]\n",
      "Epoch 23/30 - Avg val Loss: 0.306870: 100%|██████████████████████████████████████████████████████████████████████████████████████████████████████████████████████████████████| 4/4 [00:06<00:00,  1.52s/it]\n",
      "Epoch 24/30 - Avg train Loss: 0.225047: 100%|██████████████████████████████████████████████████████████████████████████████████████████████████████████████████████████████| 15/15 [00:28<00:00,  1.87s/it]\n",
      "Epoch 24/30 - Avg val Loss: 0.305949: 100%|██████████████████████████████████████████████████████████████████████████████████████████████████████████████████████████████████| 4/4 [00:06<00:00,  1.65s/it]\n",
      "Epoch 25/30 - Avg train Loss: 0.227910: 100%|██████████████████████████████████████████████████████████████████████████████████████████████████████████████████████████████| 15/15 [00:29<00:00,  1.95s/it]\n",
      "Epoch 25/30 - Avg val Loss: 0.305451: 100%|██████████████████████████████████████████████████████████████████████████████████████████████████████████████████████████████████| 4/4 [00:06<00:00,  1.72s/it]\n",
      "Epoch 26/30 - Avg train Loss: 0.228018: 100%|██████████████████████████████████████████████████████████████████████████████████████████████████████████████████████████████| 15/15 [00:27<00:00,  1.84s/it]\n",
      "Epoch 26/30 - Avg val Loss: 0.305679: 100%|██████████████████████████████████████████████████████████████████████████████████████████████████████████████████████████████████| 4/4 [00:06<00:00,  1.56s/it]\n",
      "Epoch 27/30 - Avg train Loss: 0.228019: 100%|██████████████████████████████████████████████████████████████████████████████████████████████████████████████████████████████| 15/15 [00:27<00:00,  1.85s/it]\n",
      "Epoch 27/30 - Avg val Loss: 0.305547: 100%|██████████████████████████████████████████████████████████████████████████████████████████████████████████████████████████████████| 4/4 [00:06<00:00,  1.69s/it]\n",
      "Epoch 28/30 - Avg train Loss: 0.226860: 100%|██████████████████████████████████████████████████████████████████████████████████████████████████████████████████████████████| 15/15 [00:27<00:00,  1.82s/it]\n",
      "Epoch 28/30 - Avg val Loss: 0.306474: 100%|██████████████████████████████████████████████████████████████████████████████████████████████████████████████████████████████████| 4/4 [00:06<00:00,  1.63s/it]\n",
      "Epoch 29/30 - Avg train Loss: 0.228890: 100%|██████████████████████████████████████████████████████████████████████████████████████████████████████████████████████████████| 15/15 [00:27<00:00,  1.84s/it]\n",
      "Epoch 29/30 - Avg val Loss: 0.306698: 100%|██████████████████████████████████████████████████████████████████████████████████████████████████████████████████████████████████| 4/4 [00:06<00:00,  1.52s/it]\n",
      "Epoch 30/30 - Avg train Loss: 0.230404: 100%|██████████████████████████████████████████████████████████████████████████████████████████████████████████████████████████████| 15/15 [00:27<00:00,  1.85s/it]\n",
      "Epoch 30/30 - Avg val Loss: 0.306545: 100%|██████████████████████████████████████████████████████████████████████████████████████████████████████████████████████████████████| 4/4 [00:06<00:00,  1.54s/it]\n"
     ]
    },
    {
     "data": {
      "application/vnd.jupyter.widget-view+json": {
       "model_id": "",
       "version_major": 2,
       "version_minor": 0
      },
      "text/plain": [
       "VBox(children=(Label(value='0.008 MB of 0.008 MB uploaded\\r'), FloatProgress(value=1.0, max=1.0)))"
      ]
     },
     "metadata": {},
     "output_type": "display_data"
    },
    {
     "data": {
      "text/html": [
       "<style>\n",
       "    table.wandb td:nth-child(1) { padding: 0 10px; text-align: left ; width: auto;} td:nth-child(2) {text-align: left ; width: 100%}\n",
       "    .wandb-row { display: flex; flex-direction: row; flex-wrap: wrap; justify-content: flex-start; width: 100% }\n",
       "    .wandb-col { display: flex; flex-direction: column; flex-basis: 100%; flex: 1; padding: 10px; }\n",
       "    </style>\n",
       "<div class=\"wandb-row\"><div class=\"wandb-col\"><h3>Run history:</h3><br/><table class=\"wandb\"><tr><td>accuracy</td><td>▁▂▇▅▆▅▅▇▇▇█▆▇▅▄▆▆▆▆▆▆▆▆▆▆▆▆▆▆▆</td></tr><tr><td>auprc</td><td>▄▆▇█▇▇▃▇█▇▇▆▅▁▃▅▅▆▇▇▇▇▇▇▇▇▇▇▇▇</td></tr><tr><td>auroc</td><td>▃▅▇█▇▇▅████▇▇▁▂▅▅▇▇▇▇▇▇▇▇█▇▇▇▇</td></tr><tr><td>avg_train_loss</td><td>█▆▅▄▄▃▂▂▃▂▂▂▂▂▂▂▂▁▁▁▁▁▁▁▁▁▁▁▁▁</td></tr><tr><td>avg_val_loss</td><td>▅▄▁▁▂▅▃▁▁▁▁▂▁▅█▃▃▂▂▂▁▁▁▁▁▁▁▁▁▁</td></tr><tr><td>sensitivity</td><td>▁▅▆▅▄▆▆▅▆▆▇▇▆▄▂▇▇███▄▆▄▇▄▄▄▄▄▄</td></tr><tr><td>specificity</td><td>█▅▆██▅▄▆█▇▆▄▆▄▅▂▁▁▁▁▆▃▆▃▇▇▇▇▇▇</td></tr></table><br/></div><div class=\"wandb-col\"><h3>Run summary:</h3><br/><table class=\"wandb\"><tr><td>accuracy</td><td>0.83333</td></tr><tr><td>auprc</td><td>0.95369</td></tr><tr><td>auroc</td><td>0.94778</td></tr><tr><td>avg_train_loss</td><td>0.2304</td></tr><tr><td>avg_val_loss</td><td>0.30655</td></tr><tr><td>sensitivity</td><td>0.76667</td></tr><tr><td>specificity</td><td>0.96667</td></tr></table><br/></div></div>"
      ],
      "text/plain": [
       "<IPython.core.display.HTML object>"
      ]
     },
     "metadata": {},
     "output_type": "display_data"
    },
    {
     "data": {
      "text/html": [
       " View run <strong style=\"color:#cdcd00\">efficient-sweep-20</strong> at: <a href='https://wandb.ai/miccai-challenge-2024/task2/runs/k3uegxc8' target=\"_blank\">https://wandb.ai/miccai-challenge-2024/task2/runs/k3uegxc8</a><br/> View project at: <a href='https://wandb.ai/miccai-challenge-2024/task2' target=\"_blank\">https://wandb.ai/miccai-challenge-2024/task2</a><br/>Synced 6 W&B file(s), 0 media file(s), 0 artifact file(s) and 0 other file(s)"
      ],
      "text/plain": [
       "<IPython.core.display.HTML object>"
      ]
     },
     "metadata": {},
     "output_type": "display_data"
    },
    {
     "data": {
      "text/html": [
       "Find logs at: <code>./wandb/run-20240724_063531-k3uegxc8/logs</code>"
      ],
      "text/plain": [
       "<IPython.core.display.HTML object>"
      ]
     },
     "metadata": {},
     "output_type": "display_data"
    },
    {
     "name": "stdout",
     "output_type": "stream",
     "text": [
      "Finished training\n"
     ]
    },
    {
     "name": "stderr",
     "output_type": "stream",
     "text": [
      "\u001b[34m\u001b[1mwandb\u001b[0m: Sweep Agent: Waiting for job.\n",
      "\u001b[34m\u001b[1mwandb\u001b[0m: Job received.\n",
      "\u001b[34m\u001b[1mwandb\u001b[0m: Agent Starting Run: en2epqxg with config:\n",
      "\u001b[34m\u001b[1mwandb\u001b[0m: \tbatch_size: 16\n",
      "\u001b[34m\u001b[1mwandb\u001b[0m: \tepochs: 30\n",
      "\u001b[34m\u001b[1mwandb\u001b[0m: \tloss_weight: 0.5\n",
      "\u001b[34m\u001b[1mwandb\u001b[0m: \tlr: 0.001\n",
      "\u001b[34m\u001b[1mwandb\u001b[0m: \tlr_schedule_factor: 0.1\n",
      "\u001b[34m\u001b[1mwandb\u001b[0m: \tlr_schedule_patience: 5\n",
      "\u001b[34m\u001b[1mwandb\u001b[0m: \tmodel: Task2EfficientNetB0\n",
      "\u001b[34m\u001b[1mwandb\u001b[0m: \tp_affine: 0.3\n",
      "\u001b[34m\u001b[1mwandb\u001b[0m: \tp_clahe: 0.3\n",
      "\u001b[34m\u001b[1mwandb\u001b[0m: \tp_equalize: 0\n",
      "\u001b[34m\u001b[1mwandb\u001b[0m: \tp_gaussblur: 0\n",
      "\u001b[34m\u001b[1mwandb\u001b[0m: \tp_horizontalflip: 0.5\n",
      "\u001b[34m\u001b[1mwandb\u001b[0m: \tresampling_strategy: oversampling\n",
      "\u001b[34m\u001b[1mwandb\u001b[0m: \trotation: 10\n",
      "\u001b[34m\u001b[1mwandb\u001b[0m: \u001b[33mWARNING\u001b[0m Ignored wandb.init() arg project when running a sweep.\n"
     ]
    },
    {
     "data": {
      "text/html": [
       "wandb version 0.17.5 is available!  To upgrade, please run:\n",
       " $ pip install wandb --upgrade"
      ],
      "text/plain": [
       "<IPython.core.display.HTML object>"
      ]
     },
     "metadata": {},
     "output_type": "display_data"
    },
    {
     "data": {
      "text/html": [
       "Tracking run with wandb version 0.17.0"
      ],
      "text/plain": [
       "<IPython.core.display.HTML object>"
      ]
     },
     "metadata": {},
     "output_type": "display_data"
    },
    {
     "data": {
      "text/html": [
       "Run data is saved locally in <code>/home/optima/mhaderer/AILS-MICCAI-UWF4DR-Challenge/wandb/run-20240724_065326-en2epqxg</code>"
      ],
      "text/plain": [
       "<IPython.core.display.HTML object>"
      ]
     },
     "metadata": {},
     "output_type": "display_data"
    },
    {
     "data": {
      "text/html": [
       "Syncing run <strong><a href='https://wandb.ai/miccai-challenge-2024/task2/runs/en2epqxg' target=\"_blank\">wise-sweep-21</a></strong> to <a href='https://wandb.ai/miccai-challenge-2024/task2' target=\"_blank\">Weights & Biases</a> (<a href='https://wandb.me/run' target=\"_blank\">docs</a>)<br/>Sweep page: <a href='https://wandb.ai/miccai-challenge-2024/task2/sweeps/eo1h97d3' target=\"_blank\">https://wandb.ai/miccai-challenge-2024/task2/sweeps/eo1h97d3</a>"
      ],
      "text/plain": [
       "<IPython.core.display.HTML object>"
      ]
     },
     "metadata": {},
     "output_type": "display_data"
    },
    {
     "data": {
      "text/html": [
       " View project at <a href='https://wandb.ai/miccai-challenge-2024/task2' target=\"_blank\">https://wandb.ai/miccai-challenge-2024/task2</a>"
      ],
      "text/plain": [
       "<IPython.core.display.HTML object>"
      ]
     },
     "metadata": {},
     "output_type": "display_data"
    },
    {
     "data": {
      "text/html": [
       " View sweep at <a href='https://wandb.ai/miccai-challenge-2024/task2/sweeps/eo1h97d3' target=\"_blank\">https://wandb.ai/miccai-challenge-2024/task2/sweeps/eo1h97d3</a>"
      ],
      "text/plain": [
       "<IPython.core.display.HTML object>"
      ]
     },
     "metadata": {},
     "output_type": "display_data"
    },
    {
     "data": {
      "text/html": [
       " View run at <a href='https://wandb.ai/miccai-challenge-2024/task2/runs/en2epqxg' target=\"_blank\">https://wandb.ai/miccai-challenge-2024/task2/runs/en2epqxg</a>"
      ],
      "text/plain": [
       "<IPython.core.display.HTML object>"
      ]
     },
     "metadata": {},
     "output_type": "display_data"
    },
    {
     "name": "stdout",
     "output_type": "stream",
     "text": [
      "Using device: cuda\n",
      "Loaded pretrained weights for efficientnet-b0\n",
      "Now train train train\n"
     ]
    },
    {
     "name": "stderr",
     "output_type": "stream",
     "text": [
      "Epoch 1/30 - Avg train Loss: 0.354516: 100%|███████████████████████████████████████████████████████████████████████████████████████████████████████████████████████████████| 25/25 [00:48<00:00,  1.94s/it]\n",
      "Epoch 1/30 - Avg val Loss: 0.375670: 100%|███████████████████████████████████████████████████████████████████████████████████████████████████████████████████████████████████| 7/7 [00:09<00:00,  1.38s/it]\n"
     ]
    },
    {
     "name": "stdout",
     "output_type": "stream",
     "text": [
      "New best model found at epoch 1 with validation loss: 0.3757. Model saved to models/wise-sweep-21_2024-07-24_06-53.pth\n"
     ]
    },
    {
     "name": "stderr",
     "output_type": "stream",
     "text": [
      "Epoch 2/30 - Avg train Loss: 0.280593: 100%|███████████████████████████████████████████████████████████████████████████████████████████████████████████████████████████████| 25/25 [00:45<00:00,  1.83s/it]\n",
      "Epoch 2/30 - Avg val Loss: 0.562738: 100%|███████████████████████████████████████████████████████████████████████████████████████████████████████████████████████████████████| 7/7 [00:08<00:00,  1.20s/it]\n",
      "Epoch 3/30 - Avg train Loss: 0.269783: 100%|███████████████████████████████████████████████████████████████████████████████████████████████████████████████████████████████| 25/25 [00:45<00:00,  1.82s/it]\n",
      "Epoch 3/30 - Avg val Loss: 0.259529: 100%|███████████████████████████████████████████████████████████████████████████████████████████████████████████████████████████████████| 7/7 [00:09<00:00,  1.43s/it]\n"
     ]
    },
    {
     "name": "stdout",
     "output_type": "stream",
     "text": [
      "New best model found at epoch 3 with validation loss: 0.2595. Model saved to models/wise-sweep-21_2024-07-24_06-53.pth\n"
     ]
    },
    {
     "name": "stderr",
     "output_type": "stream",
     "text": [
      "Epoch 4/30 - Avg train Loss: 0.249325: 100%|███████████████████████████████████████████████████████████████████████████████████████████████████████████████████████████████| 25/25 [00:45<00:00,  1.82s/it]\n",
      "Epoch 4/30 - Avg val Loss: 0.281676: 100%|███████████████████████████████████████████████████████████████████████████████████████████████████████████████████████████████████| 7/7 [00:10<00:00,  1.55s/it]\n",
      "Epoch 5/30 - Avg train Loss: 0.239363: 100%|███████████████████████████████████████████████████████████████████████████████████████████████████████████████████████████████| 25/25 [00:49<00:00,  1.96s/it]\n",
      "Epoch 5/30 - Avg val Loss: 0.245975: 100%|███████████████████████████████████████████████████████████████████████████████████████████████████████████████████████████████████| 7/7 [00:10<00:00,  1.43s/it]\n"
     ]
    },
    {
     "name": "stdout",
     "output_type": "stream",
     "text": [
      "New best model found at epoch 5 with validation loss: 0.2460. Model saved to models/wise-sweep-21_2024-07-24_06-53.pth\n"
     ]
    },
    {
     "name": "stderr",
     "output_type": "stream",
     "text": [
      "Epoch 6/30 - Avg train Loss: 0.235899: 100%|███████████████████████████████████████████████████████████████████████████████████████████████████████████████████████████████| 25/25 [00:49<00:00,  1.96s/it]\n",
      "Epoch 6/30 - Avg val Loss: 0.254951: 100%|███████████████████████████████████████████████████████████████████████████████████████████████████████████████████████████████████| 7/7 [00:09<00:00,  1.35s/it]\n",
      "Epoch 7/30 - Avg train Loss: 0.236082: 100%|███████████████████████████████████████████████████████████████████████████████████████████████████████████████████████████████| 25/25 [00:47<00:00,  1.90s/it]\n",
      "Epoch 7/30 - Avg val Loss: 0.255995: 100%|███████████████████████████████████████████████████████████████████████████████████████████████████████████████████████████████████| 7/7 [00:08<00:00,  1.23s/it]\n",
      "Epoch 8/30 - Avg train Loss: 0.232441: 100%|███████████████████████████████████████████████████████████████████████████████████████████████████████████████████████████████| 25/25 [00:51<00:00,  2.05s/it]\n",
      "Epoch 8/30 - Avg val Loss: 0.265554: 100%|███████████████████████████████████████████████████████████████████████████████████████████████████████████████████████████████████| 7/7 [00:09<00:00,  1.42s/it]\n",
      "Epoch 9/30 - Avg train Loss: 0.229377: 100%|███████████████████████████████████████████████████████████████████████████████████████████████████████████████████████████████| 25/25 [00:50<00:00,  2.01s/it]\n",
      "Epoch 9/30 - Avg val Loss: 0.341223: 100%|███████████████████████████████████████████████████████████████████████████████████████████████████████████████████████████████████| 7/7 [00:10<00:00,  1.49s/it]\n",
      "Epoch 10/30 - Avg train Loss: 0.229398: 100%|██████████████████████████████████████████████████████████████████████████████████████████████████████████████████████████████| 25/25 [00:53<00:00,  2.13s/it]\n",
      "Epoch 10/30 - Avg val Loss: 0.277594: 100%|██████████████████████████████████████████████████████████████████████████████████████████████████████████████████████████████████| 7/7 [00:09<00:00,  1.42s/it]\n",
      "Epoch 11/30 - Avg train Loss: 0.223748: 100%|██████████████████████████████████████████████████████████████████████████████████████████████████████████████████████████████| 25/25 [00:53<00:00,  2.12s/it]\n",
      "Epoch 11/30 - Avg val Loss: 0.301865: 100%|██████████████████████████████████████████████████████████████████████████████████████████████████████████████████████████████████| 7/7 [00:10<00:00,  1.50s/it]\n",
      "Epoch 12/30 - Avg train Loss: 0.221949: 100%|██████████████████████████████████████████████████████████████████████████████████████████████████████████████████████████████| 25/25 [00:54<00:00,  2.17s/it]\n",
      "Epoch 12/30 - Avg val Loss: 0.310043: 100%|██████████████████████████████████████████████████████████████████████████████████████████████████████████████████████████████████| 7/7 [00:10<00:00,  1.50s/it]\n",
      "Epoch 13/30 - Avg train Loss: 0.220910: 100%|██████████████████████████████████████████████████████████████████████████████████████████████████████████████████████████████| 25/25 [00:52<00:00,  2.09s/it]\n",
      "Epoch 13/30 - Avg val Loss: 0.337217: 100%|██████████████████████████████████████████████████████████████████████████████████████████████████████████████████████████████████| 7/7 [00:11<00:00,  1.66s/it]\n",
      "Epoch 14/30 - Avg train Loss: 0.220507: 100%|██████████████████████████████████████████████████████████████████████████████████████████████████████████████████████████████| 25/25 [00:50<00:00,  2.00s/it]\n",
      "Epoch 14/30 - Avg val Loss: 0.316169: 100%|██████████████████████████████████████████████████████████████████████████████████████████████████████████████████████████████████| 7/7 [00:09<00:00,  1.40s/it]\n",
      "Epoch 15/30 - Avg train Loss: 0.220851: 100%|██████████████████████████████████████████████████████████████████████████████████████████████████████████████████████████████| 25/25 [00:50<00:00,  2.03s/it]\n",
      "Epoch 15/30 - Avg val Loss: 0.325073: 100%|██████████████████████████████████████████████████████████████████████████████████████████████████████████████████████████████████| 7/7 [00:09<00:00,  1.33s/it]\n",
      "Epoch 16/30 - Avg train Loss: 0.220450: 100%|██████████████████████████████████████████████████████████████████████████████████████████████████████████████████████████████| 25/25 [00:51<00:00,  2.05s/it]\n",
      "Epoch 16/30 - Avg val Loss: 0.353958: 100%|██████████████████████████████████████████████████████████████████████████████████████████████████████████████████████████████████| 7/7 [00:09<00:00,  1.40s/it]\n",
      "Epoch 17/30 - Avg train Loss: 0.220721: 100%|██████████████████████████████████████████████████████████████████████████████████████████████████████████████████████████████| 25/25 [00:52<00:00,  2.09s/it]\n",
      "Epoch 17/30 - Avg val Loss: 0.364844: 100%|██████████████████████████████████████████████████████████████████████████████████████████████████████████████████████████████████| 7/7 [00:09<00:00,  1.39s/it]\n",
      "Epoch 18/30 - Avg train Loss: 0.222230: 100%|██████████████████████████████████████████████████████████████████████████████████████████████████████████████████████████████| 25/25 [00:51<00:00,  2.06s/it]\n",
      "Epoch 18/30 - Avg val Loss: 0.364835: 100%|██████████████████████████████████████████████████████████████████████████████████████████████████████████████████████████████████| 7/7 [00:09<00:00,  1.40s/it]\n",
      "Epoch 19/30 - Avg train Loss: 0.219932: 100%|██████████████████████████████████████████████████████████████████████████████████████████████████████████████████████████████| 25/25 [00:51<00:00,  2.04s/it]\n",
      "Epoch 19/30 - Avg val Loss: 0.337825: 100%|██████████████████████████████████████████████████████████████████████████████████████████████████████████████████████████████████| 7/7 [00:10<00:00,  1.47s/it]\n",
      "Epoch 20/30 - Avg train Loss: 0.220105: 100%|██████████████████████████████████████████████████████████████████████████████████████████████████████████████████████████████| 25/25 [00:52<00:00,  2.11s/it]\n",
      "Epoch 20/30 - Avg val Loss: 0.325138: 100%|██████████████████████████████████████████████████████████████████████████████████████████████████████████████████████████████████| 7/7 [00:09<00:00,  1.35s/it]\n",
      "Epoch 21/30 - Avg train Loss: 0.220769: 100%|██████████████████████████████████████████████████████████████████████████████████████████████████████████████████████████████| 25/25 [00:53<00:00,  2.13s/it]\n",
      "Epoch 21/30 - Avg val Loss: 0.312985: 100%|██████████████████████████████████████████████████████████████████████████████████████████████████████████████████████████████████| 7/7 [00:11<00:00,  1.57s/it]\n",
      "Epoch 22/30 - Avg train Loss: 0.219933: 100%|██████████████████████████████████████████████████████████████████████████████████████████████████████████████████████████████| 25/25 [00:56<00:00,  2.24s/it]\n",
      "Epoch 22/30 - Avg val Loss: 0.334141: 100%|██████████████████████████████████████████████████████████████████████████████████████████████████████████████████████████████████| 7/7 [00:11<00:00,  1.58s/it]\n",
      "Epoch 23/30 - Avg train Loss: 0.220394: 100%|██████████████████████████████████████████████████████████████████████████████████████████████████████████████████████████████| 25/25 [00:56<00:00,  2.25s/it]\n",
      "Epoch 23/30 - Avg val Loss: 0.319200: 100%|██████████████████████████████████████████████████████████████████████████████████████████████████████████████████████████████████| 7/7 [00:11<00:00,  1.65s/it]\n",
      "Epoch 24/30 - Avg train Loss: 0.220704: 100%|██████████████████████████████████████████████████████████████████████████████████████████████████████████████████████████████| 25/25 [00:57<00:00,  2.30s/it]\n",
      "Epoch 24/30 - Avg val Loss: 0.310373: 100%|██████████████████████████████████████████████████████████████████████████████████████████████████████████████████████████████████| 7/7 [00:10<00:00,  1.53s/it]\n",
      "Epoch 25/30 - Avg train Loss: 0.220961: 100%|██████████████████████████████████████████████████████████████████████████████████████████████████████████████████████████████| 25/25 [00:57<00:00,  2.29s/it]\n",
      "Epoch 25/30 - Avg val Loss: 0.313157: 100%|██████████████████████████████████████████████████████████████████████████████████████████████████████████████████████████████████| 7/7 [00:10<00:00,  1.47s/it]\n",
      "Epoch 26/30 - Avg train Loss: 0.220111: 100%|██████████████████████████████████████████████████████████████████████████████████████████████████████████████████████████████| 25/25 [00:59<00:00,  2.39s/it]\n",
      "Epoch 26/30 - Avg val Loss: 0.311175: 100%|██████████████████████████████████████████████████████████████████████████████████████████████████████████████████████████████████| 7/7 [00:11<00:00,  1.70s/it]\n",
      "Epoch 27/30 - Avg train Loss: 0.221374: 100%|██████████████████████████████████████████████████████████████████████████████████████████████████████████████████████████████| 25/25 [00:59<00:00,  2.36s/it]\n",
      "Epoch 27/30 - Avg val Loss: 0.300976: 100%|██████████████████████████████████████████████████████████████████████████████████████████████████████████████████████████████████| 7/7 [00:11<00:00,  1.59s/it]\n",
      "Epoch 28/30 - Avg train Loss: 0.220399: 100%|██████████████████████████████████████████████████████████████████████████████████████████████████████████████████████████████| 25/25 [00:55<00:00,  2.22s/it]\n",
      "Epoch 28/30 - Avg val Loss: 0.290934: 100%|██████████████████████████████████████████████████████████████████████████████████████████████████████████████████████████████████| 7/7 [00:12<00:00,  1.75s/it]\n",
      "Epoch 29/30 - Avg train Loss: 0.220694: 100%|██████████████████████████████████████████████████████████████████████████████████████████████████████████████████████████████| 25/25 [00:57<00:00,  2.30s/it]\n",
      "Epoch 29/30 - Avg val Loss: 0.294061: 100%|██████████████████████████████████████████████████████████████████████████████████████████████████████████████████████████████████| 7/7 [00:12<00:00,  1.79s/it]\n",
      "Epoch 30/30 - Avg train Loss: 0.220565: 100%|██████████████████████████████████████████████████████████████████████████████████████████████████████████████████████████████| 25/25 [00:58<00:00,  2.33s/it]\n",
      "Epoch 30/30 - Avg val Loss: 0.302649: 100%|██████████████████████████████████████████████████████████████████████████████████████████████████████████████████████████████████| 7/7 [00:12<00:00,  1.83s/it]\n"
     ]
    },
    {
     "data": {
      "application/vnd.jupyter.widget-view+json": {
       "model_id": "",
       "version_major": 2,
       "version_minor": 0
      },
      "text/plain": [
       "VBox(children=(Label(value='0.008 MB of 0.008 MB uploaded\\r'), FloatProgress(value=1.0, max=1.0)))"
      ]
     },
     "metadata": {},
     "output_type": "display_data"
    },
    {
     "data": {
      "text/html": [
       "<style>\n",
       "    table.wandb td:nth-child(1) { padding: 0 10px; text-align: left ; width: auto;} td:nth-child(2) {text-align: left ; width: 100%}\n",
       "    .wandb-row { display: flex; flex-direction: row; flex-wrap: wrap; justify-content: flex-start; width: 100% }\n",
       "    .wandb-col { display: flex; flex-direction: column; flex-basis: 100%; flex: 1; padding: 10px; }\n",
       "    </style>\n",
       "<div class=\"wandb-row\"><div class=\"wandb-col\"><h3>Run history:</h3><br/><table class=\"wandb\"><tr><td>accuracy</td><td>▆▆▇█▇██▇▅▅▅▅▄▅▄▅▂▂▃▃▃▂▂▂▂▁▁▁▁▁</td></tr><tr><td>auprc</td><td>▆▇██████▄█▆▆▄▅▅▂▁▂▄▆▇▃▆▇▆▇▇▇▇▇</td></tr><tr><td>auroc</td><td>▆▇██████▅█▆▆▄▅▅▂▁▂▄▆▇▃▆▇▆▇▇▇▇▇</td></tr><tr><td>avg_train_loss</td><td>█▄▄▃▂▂▂▂▁▁▁▁▁▁▁▁▁▁▁▁▁▁▁▁▁▁▁▁▁▁</td></tr><tr><td>avg_val_loss</td><td>▄█▁▂▁▁▁▁▃▂▂▂▃▃▃▃▄▄▃▃▂▃▃▂▂▂▂▂▂▂</td></tr><tr><td>sensitivity</td><td>▃▇█████▇▆▇▁▂▇▇▇▆███▃▃█▂▃██████</td></tr><tr><td>specificity</td><td>▇▇██████▅███▂▅▄▂▁▁▂██▃██▅▅▆▆▆▅</td></tr></table><br/></div><div class=\"wandb-col\"><h3>Run summary:</h3><br/><table class=\"wandb\"><tr><td>accuracy</td><td>0.5</td></tr><tr><td>auprc</td><td>0.97241</td></tr><tr><td>auroc</td><td>0.968</td></tr><tr><td>avg_train_loss</td><td>0.22057</td></tr><tr><td>avg_val_loss</td><td>0.30265</td></tr><tr><td>sensitivity</td><td>1.0</td></tr><tr><td>specificity</td><td>0.84</td></tr></table><br/></div></div>"
      ],
      "text/plain": [
       "<IPython.core.display.HTML object>"
      ]
     },
     "metadata": {},
     "output_type": "display_data"
    },
    {
     "data": {
      "text/html": [
       " View run <strong style=\"color:#cdcd00\">wise-sweep-21</strong> at: <a href='https://wandb.ai/miccai-challenge-2024/task2/runs/en2epqxg' target=\"_blank\">https://wandb.ai/miccai-challenge-2024/task2/runs/en2epqxg</a><br/> View project at: <a href='https://wandb.ai/miccai-challenge-2024/task2' target=\"_blank\">https://wandb.ai/miccai-challenge-2024/task2</a><br/>Synced 6 W&B file(s), 0 media file(s), 0 artifact file(s) and 0 other file(s)"
      ],
      "text/plain": [
       "<IPython.core.display.HTML object>"
      ]
     },
     "metadata": {},
     "output_type": "display_data"
    },
    {
     "data": {
      "text/html": [
       "Find logs at: <code>./wandb/run-20240724_065326-en2epqxg/logs</code>"
      ],
      "text/plain": [
       "<IPython.core.display.HTML object>"
      ]
     },
     "metadata": {},
     "output_type": "display_data"
    },
    {
     "name": "stdout",
     "output_type": "stream",
     "text": [
      "Finished training\n"
     ]
    },
    {
     "name": "stderr",
     "output_type": "stream",
     "text": [
      "\u001b[34m\u001b[1mwandb\u001b[0m: Agent Starting Run: uggijdk5 with config:\n",
      "\u001b[34m\u001b[1mwandb\u001b[0m: \tbatch_size: 16\n",
      "\u001b[34m\u001b[1mwandb\u001b[0m: \tepochs: 30\n",
      "\u001b[34m\u001b[1mwandb\u001b[0m: \tloss_weight: 0.5\n",
      "\u001b[34m\u001b[1mwandb\u001b[0m: \tlr: 0.001\n",
      "\u001b[34m\u001b[1mwandb\u001b[0m: \tlr_schedule_factor: 0.1\n",
      "\u001b[34m\u001b[1mwandb\u001b[0m: \tlr_schedule_patience: 5\n",
      "\u001b[34m\u001b[1mwandb\u001b[0m: \tmodel: Task2EfficientNetB0\n",
      "\u001b[34m\u001b[1mwandb\u001b[0m: \tp_affine: 0.3\n",
      "\u001b[34m\u001b[1mwandb\u001b[0m: \tp_clahe: 0.5\n",
      "\u001b[34m\u001b[1mwandb\u001b[0m: \tp_equalize: 0\n",
      "\u001b[34m\u001b[1mwandb\u001b[0m: \tp_gaussblur: 0\n",
      "\u001b[34m\u001b[1mwandb\u001b[0m: \tp_horizontalflip: 0.5\n",
      "\u001b[34m\u001b[1mwandb\u001b[0m: \tresampling_strategy: undersampling\n",
      "\u001b[34m\u001b[1mwandb\u001b[0m: \trotation: 10\n",
      "\u001b[34m\u001b[1mwandb\u001b[0m: \u001b[33mWARNING\u001b[0m Ignored wandb.init() arg project when running a sweep.\n"
     ]
    },
    {
     "data": {
      "text/html": [
       "wandb version 0.17.5 is available!  To upgrade, please run:\n",
       " $ pip install wandb --upgrade"
      ],
      "text/plain": [
       "<IPython.core.display.HTML object>"
      ]
     },
     "metadata": {},
     "output_type": "display_data"
    },
    {
     "data": {
      "text/html": [
       "Tracking run with wandb version 0.17.0"
      ],
      "text/plain": [
       "<IPython.core.display.HTML object>"
      ]
     },
     "metadata": {},
     "output_type": "display_data"
    },
    {
     "data": {
      "text/html": [
       "Run data is saved locally in <code>/home/optima/mhaderer/AILS-MICCAI-UWF4DR-Challenge/wandb/run-20240724_072517-uggijdk5</code>"
      ],
      "text/plain": [
       "<IPython.core.display.HTML object>"
      ]
     },
     "metadata": {},
     "output_type": "display_data"
    },
    {
     "data": {
      "text/html": [
       "Syncing run <strong><a href='https://wandb.ai/miccai-challenge-2024/task2/runs/uggijdk5' target=\"_blank\">peach-sweep-22</a></strong> to <a href='https://wandb.ai/miccai-challenge-2024/task2' target=\"_blank\">Weights & Biases</a> (<a href='https://wandb.me/run' target=\"_blank\">docs</a>)<br/>Sweep page: <a href='https://wandb.ai/miccai-challenge-2024/task2/sweeps/eo1h97d3' target=\"_blank\">https://wandb.ai/miccai-challenge-2024/task2/sweeps/eo1h97d3</a>"
      ],
      "text/plain": [
       "<IPython.core.display.HTML object>"
      ]
     },
     "metadata": {},
     "output_type": "display_data"
    },
    {
     "data": {
      "text/html": [
       " View project at <a href='https://wandb.ai/miccai-challenge-2024/task2' target=\"_blank\">https://wandb.ai/miccai-challenge-2024/task2</a>"
      ],
      "text/plain": [
       "<IPython.core.display.HTML object>"
      ]
     },
     "metadata": {},
     "output_type": "display_data"
    },
    {
     "data": {
      "text/html": [
       " View sweep at <a href='https://wandb.ai/miccai-challenge-2024/task2/sweeps/eo1h97d3' target=\"_blank\">https://wandb.ai/miccai-challenge-2024/task2/sweeps/eo1h97d3</a>"
      ],
      "text/plain": [
       "<IPython.core.display.HTML object>"
      ]
     },
     "metadata": {},
     "output_type": "display_data"
    },
    {
     "data": {
      "text/html": [
       " View run at <a href='https://wandb.ai/miccai-challenge-2024/task2/runs/uggijdk5' target=\"_blank\">https://wandb.ai/miccai-challenge-2024/task2/runs/uggijdk5</a>"
      ],
      "text/plain": [
       "<IPython.core.display.HTML object>"
      ]
     },
     "metadata": {},
     "output_type": "display_data"
    },
    {
     "name": "stdout",
     "output_type": "stream",
     "text": [
      "Using device: cuda\n",
      "Loaded pretrained weights for efficientnet-b0\n",
      "Now train train train\n"
     ]
    },
    {
     "name": "stderr",
     "output_type": "stream",
     "text": [
      "Epoch 1/30 - Avg train Loss: 0.370272: 100%|███████████████████████████████████████████████████████████████████████████████████████████████████████████████████████████████| 15/15 [00:29<00:00,  1.94s/it]\n",
      "Epoch 1/30 - Avg val Loss: 0.492249: 100%|███████████████████████████████████████████████████████████████████████████████████████████████████████████████████████████████████| 4/4 [00:06<00:00,  1.66s/it]\n"
     ]
    },
    {
     "name": "stdout",
     "output_type": "stream",
     "text": [
      "New best model found at epoch 1 with validation loss: 0.4922. Model saved to models/peach-sweep-22_2024-07-24_07-25.pth\n"
     ]
    },
    {
     "name": "stderr",
     "output_type": "stream",
     "text": [
      "Epoch 2/30 - Avg train Loss: 0.302740: 100%|███████████████████████████████████████████████████████████████████████████████████████████████████████████████████████████████| 15/15 [00:26<00:00,  1.78s/it]\n",
      "Epoch 2/30 - Avg val Loss: 0.416720: 100%|███████████████████████████████████████████████████████████████████████████████████████████████████████████████████████████████████| 4/4 [00:05<00:00,  1.50s/it]\n"
     ]
    },
    {
     "name": "stdout",
     "output_type": "stream",
     "text": [
      "New best model found at epoch 2 with validation loss: 0.4167. Model saved to models/peach-sweep-22_2024-07-24_07-25.pth\n"
     ]
    },
    {
     "name": "stderr",
     "output_type": "stream",
     "text": [
      "Epoch 3/30 - Avg train Loss: 0.308144: 100%|███████████████████████████████████████████████████████████████████████████████████████████████████████████████████████████████| 15/15 [00:26<00:00,  1.74s/it]\n",
      "Epoch 3/30 - Avg val Loss: 0.391039: 100%|███████████████████████████████████████████████████████████████████████████████████████████████████████████████████████████████████| 4/4 [00:05<00:00,  1.44s/it]\n"
     ]
    },
    {
     "name": "stdout",
     "output_type": "stream",
     "text": [
      "New best model found at epoch 3 with validation loss: 0.3910. Model saved to models/peach-sweep-22_2024-07-24_07-25.pth\n"
     ]
    },
    {
     "name": "stderr",
     "output_type": "stream",
     "text": [
      "Epoch 4/30 - Avg train Loss: 0.280232: 100%|███████████████████████████████████████████████████████████████████████████████████████████████████████████████████████████████| 15/15 [00:25<00:00,  1.72s/it]\n",
      "Epoch 4/30 - Avg val Loss: 0.436742: 100%|███████████████████████████████████████████████████████████████████████████████████████████████████████████████████████████████████| 4/4 [00:06<00:00,  1.52s/it]\n",
      "Epoch 5/30 - Avg train Loss: 0.270793: 100%|███████████████████████████████████████████████████████████████████████████████████████████████████████████████████████████████| 15/15 [00:26<00:00,  1.75s/it]\n",
      "Epoch 5/30 - Avg val Loss: 0.343188: 100%|███████████████████████████████████████████████████████████████████████████████████████████████████████████████████████████████████| 4/4 [00:05<00:00,  1.47s/it]\n"
     ]
    },
    {
     "name": "stdout",
     "output_type": "stream",
     "text": [
      "New best model found at epoch 5 with validation loss: 0.3432. Model saved to models/peach-sweep-22_2024-07-24_07-25.pth\n"
     ]
    },
    {
     "name": "stderr",
     "output_type": "stream",
     "text": [
      "Epoch 6/30 - Avg train Loss: 0.261409: 100%|███████████████████████████████████████████████████████████████████████████████████████████████████████████████████████████████| 15/15 [00:25<00:00,  1.71s/it]\n",
      "Epoch 6/30 - Avg val Loss: 0.361940: 100%|███████████████████████████████████████████████████████████████████████████████████████████████████████████████████████████████████| 4/4 [00:06<00:00,  1.55s/it]\n",
      "Epoch 7/30 - Avg train Loss: 0.275742: 100%|███████████████████████████████████████████████████████████████████████████████████████████████████████████████████████████████| 15/15 [00:27<00:00,  1.82s/it]\n",
      "Epoch 7/30 - Avg val Loss: 0.334820: 100%|███████████████████████████████████████████████████████████████████████████████████████████████████████████████████████████████████| 4/4 [00:06<00:00,  1.56s/it]\n"
     ]
    },
    {
     "name": "stdout",
     "output_type": "stream",
     "text": [
      "New best model found at epoch 7 with validation loss: 0.3348. Model saved to models/peach-sweep-22_2024-07-24_07-25.pth\n"
     ]
    },
    {
     "name": "stderr",
     "output_type": "stream",
     "text": [
      "Epoch 8/30 - Avg train Loss: 0.255600: 100%|███████████████████████████████████████████████████████████████████████████████████████████████████████████████████████████████| 15/15 [00:27<00:00,  1.82s/it]\n",
      "Epoch 8/30 - Avg val Loss: 0.304494: 100%|███████████████████████████████████████████████████████████████████████████████████████████████████████████████████████████████████| 4/4 [00:06<00:00,  1.62s/it]\n"
     ]
    },
    {
     "name": "stdout",
     "output_type": "stream",
     "text": [
      "New best model found at epoch 8 with validation loss: 0.3045. Model saved to models/peach-sweep-22_2024-07-24_07-25.pth\n"
     ]
    },
    {
     "name": "stderr",
     "output_type": "stream",
     "text": [
      "Epoch 9/30 - Avg train Loss: 0.256007: 100%|███████████████████████████████████████████████████████████████████████████████████████████████████████████████████████████████| 15/15 [00:28<00:00,  1.87s/it]\n",
      "Epoch 9/30 - Avg val Loss: 0.308852: 100%|███████████████████████████████████████████████████████████████████████████████████████████████████████████████████████████████████| 4/4 [00:05<00:00,  1.47s/it]\n",
      "Epoch 10/30 - Avg train Loss: 0.254779: 100%|██████████████████████████████████████████████████████████████████████████████████████████████████████████████████████████████| 15/15 [00:25<00:00,  1.70s/it]\n",
      "Epoch 10/30 - Avg val Loss: 0.372953: 100%|██████████████████████████████████████████████████████████████████████████████████████████████████████████████████████████████████| 4/4 [00:05<00:00,  1.45s/it]\n",
      "Epoch 11/30 - Avg train Loss: 0.242196: 100%|██████████████████████████████████████████████████████████████████████████████████████████████████████████████████████████████| 15/15 [00:25<00:00,  1.73s/it]\n",
      "Epoch 11/30 - Avg val Loss: 0.289570: 100%|██████████████████████████████████████████████████████████████████████████████████████████████████████████████████████████████████| 4/4 [00:05<00:00,  1.49s/it]\n"
     ]
    },
    {
     "name": "stdout",
     "output_type": "stream",
     "text": [
      "New best model found at epoch 11 with validation loss: 0.2896. Model saved to models/peach-sweep-22_2024-07-24_07-25.pth\n"
     ]
    },
    {
     "name": "stderr",
     "output_type": "stream",
     "text": [
      "Epoch 12/30 - Avg train Loss: 0.242090: 100%|██████████████████████████████████████████████████████████████████████████████████████████████████████████████████████████████| 15/15 [00:25<00:00,  1.71s/it]\n",
      "Epoch 12/30 - Avg val Loss: 0.292374: 100%|██████████████████████████████████████████████████████████████████████████████████████████████████████████████████████████████████| 4/4 [00:05<00:00,  1.45s/it]\n",
      "Epoch 13/30 - Avg train Loss: 0.242994: 100%|██████████████████████████████████████████████████████████████████████████████████████████████████████████████████████████████| 15/15 [00:27<00:00,  1.81s/it]\n",
      "Epoch 13/30 - Avg val Loss: 0.290823: 100%|██████████████████████████████████████████████████████████████████████████████████████████████████████████████████████████████████| 4/4 [00:06<00:00,  1.57s/it]\n",
      "Epoch 14/30 - Avg train Loss: 0.239125: 100%|██████████████████████████████████████████████████████████████████████████████████████████████████████████████████████████████| 15/15 [00:25<00:00,  1.71s/it]\n",
      "Epoch 14/30 - Avg val Loss: 0.283244: 100%|██████████████████████████████████████████████████████████████████████████████████████████████████████████████████████████████████| 4/4 [00:05<00:00,  1.45s/it]\n"
     ]
    },
    {
     "name": "stdout",
     "output_type": "stream",
     "text": [
      "New best model found at epoch 14 with validation loss: 0.2832. Model saved to models/peach-sweep-22_2024-07-24_07-25.pth\n"
     ]
    },
    {
     "name": "stderr",
     "output_type": "stream",
     "text": [
      "Epoch 15/30 - Avg train Loss: 0.230382: 100%|██████████████████████████████████████████████████████████████████████████████████████████████████████████████████████████████| 15/15 [00:27<00:00,  1.81s/it]\n",
      "Epoch 15/30 - Avg val Loss: 0.303691: 100%|██████████████████████████████████████████████████████████████████████████████████████████████████████████████████████████████████| 4/4 [00:05<00:00,  1.49s/it]\n",
      "Epoch 16/30 - Avg train Loss: 0.231100: 100%|██████████████████████████████████████████████████████████████████████████████████████████████████████████████████████████████| 15/15 [00:25<00:00,  1.70s/it]\n",
      "Epoch 16/30 - Avg val Loss: 0.296929: 100%|██████████████████████████████████████████████████████████████████████████████████████████████████████████████████████████████████| 4/4 [00:05<00:00,  1.49s/it]\n",
      "Epoch 17/30 - Avg train Loss: 0.230009: 100%|██████████████████████████████████████████████████████████████████████████████████████████████████████████████████████████████| 15/15 [00:25<00:00,  1.73s/it]\n",
      "Epoch 17/30 - Avg val Loss: 0.305398: 100%|██████████████████████████████████████████████████████████████████████████████████████████████████████████████████████████████████| 4/4 [00:05<00:00,  1.48s/it]\n",
      "Epoch 18/30 - Avg train Loss: 0.229604: 100%|██████████████████████████████████████████████████████████████████████████████████████████████████████████████████████████████| 15/15 [00:25<00:00,  1.71s/it]\n",
      "Epoch 18/30 - Avg val Loss: 0.291808: 100%|██████████████████████████████████████████████████████████████████████████████████████████████████████████████████████████████████| 4/4 [00:05<00:00,  1.47s/it]\n",
      "Epoch 19/30 - Avg train Loss: 0.238319: 100%|██████████████████████████████████████████████████████████████████████████████████████████████████████████████████████████████| 15/15 [00:25<00:00,  1.70s/it]\n",
      "Epoch 19/30 - Avg val Loss: 0.299370: 100%|██████████████████████████████████████████████████████████████████████████████████████████████████████████████████████████████████| 4/4 [00:05<00:00,  1.44s/it]\n",
      "Epoch 20/30 - Avg train Loss: 0.230909: 100%|██████████████████████████████████████████████████████████████████████████████████████████████████████████████████████████████| 15/15 [00:25<00:00,  1.71s/it]\n",
      "Epoch 20/30 - Avg val Loss: 0.304357: 100%|██████████████████████████████████████████████████████████████████████████████████████████████████████████████████████████████████| 4/4 [00:05<00:00,  1.47s/it]\n",
      "Epoch 21/30 - Avg train Loss: 0.228160: 100%|██████████████████████████████████████████████████████████████████████████████████████████████████████████████████████████████| 15/15 [00:27<00:00,  1.85s/it]\n",
      "Epoch 21/30 - Avg val Loss: 0.291001: 100%|██████████████████████████████████████████████████████████████████████████████████████████████████████████████████████████████████| 4/4 [00:06<00:00,  1.58s/it]\n",
      "Epoch 22/30 - Avg train Loss: 0.228255: 100%|██████████████████████████████████████████████████████████████████████████████████████████████████████████████████████████████| 15/15 [00:26<00:00,  1.80s/it]\n",
      "Epoch 22/30 - Avg val Loss: 0.292081: 100%|██████████████████████████████████████████████████████████████████████████████████████████████████████████████████████████████████| 4/4 [00:06<00:00,  1.55s/it]\n",
      "Epoch 23/30 - Avg train Loss: 0.224352: 100%|██████████████████████████████████████████████████████████████████████████████████████████████████████████████████████████████| 15/15 [00:27<00:00,  1.86s/it]\n",
      "Epoch 23/30 - Avg val Loss: 0.292820: 100%|██████████████████████████████████████████████████████████████████████████████████████████████████████████████████████████████████| 4/4 [00:06<00:00,  1.58s/it]\n",
      "Epoch 24/30 - Avg train Loss: 0.231060: 100%|██████████████████████████████████████████████████████████████████████████████████████████████████████████████████████████████| 15/15 [00:26<00:00,  1.78s/it]\n",
      "Epoch 24/30 - Avg val Loss: 0.294273: 100%|██████████████████████████████████████████████████████████████████████████████████████████████████████████████████████████████████| 4/4 [00:05<00:00,  1.48s/it]\n",
      "Epoch 25/30 - Avg train Loss: 0.224005: 100%|██████████████████████████████████████████████████████████████████████████████████████████████████████████████████████████████| 15/15 [00:25<00:00,  1.71s/it]\n",
      "Epoch 25/30 - Avg val Loss: 0.288680: 100%|██████████████████████████████████████████████████████████████████████████████████████████████████████████████████████████████████| 4/4 [00:05<00:00,  1.45s/it]\n",
      "Epoch 26/30 - Avg train Loss: 0.222959: 100%|██████████████████████████████████████████████████████████████████████████████████████████████████████████████████████████████| 15/15 [00:25<00:00,  1.72s/it]\n",
      "Epoch 26/30 - Avg val Loss: 0.287277: 100%|██████████████████████████████████████████████████████████████████████████████████████████████████████████████████████████████████| 4/4 [00:05<00:00,  1.47s/it]\n",
      "Epoch 27/30 - Avg train Loss: 0.222075: 100%|██████████████████████████████████████████████████████████████████████████████████████████████████████████████████████████████| 15/15 [00:25<00:00,  1.70s/it]\n",
      "Epoch 27/30 - Avg val Loss: 0.287369: 100%|██████████████████████████████████████████████████████████████████████████████████████████████████████████████████████████████████| 4/4 [00:06<00:00,  1.54s/it]\n",
      "Epoch 28/30 - Avg train Loss: 0.222996: 100%|██████████████████████████████████████████████████████████████████████████████████████████████████████████████████████████████| 15/15 [00:25<00:00,  1.71s/it]\n",
      "Epoch 28/30 - Avg val Loss: 0.287650: 100%|██████████████████████████████████████████████████████████████████████████████████████████████████████████████████████████████████| 4/4 [00:05<00:00,  1.45s/it]\n",
      "Epoch 29/30 - Avg train Loss: 0.222263: 100%|██████████████████████████████████████████████████████████████████████████████████████████████████████████████████████████████| 15/15 [00:25<00:00,  1.71s/it]\n",
      "Epoch 29/30 - Avg val Loss: 0.287986: 100%|██████████████████████████████████████████████████████████████████████████████████████████████████████████████████████████████████| 4/4 [00:05<00:00,  1.45s/it]\n",
      "Epoch 30/30 - Avg train Loss: 0.222153: 100%|██████████████████████████████████████████████████████████████████████████████████████████████████████████████████████████████| 15/15 [00:25<00:00,  1.72s/it]\n",
      "Epoch 30/30 - Avg val Loss: 0.288176: 100%|██████████████████████████████████████████████████████████████████████████████████████████████████████████████████████████████████| 4/4 [00:05<00:00,  1.46s/it]\n"
     ]
    },
    {
     "data": {
      "application/vnd.jupyter.widget-view+json": {
       "model_id": "",
       "version_major": 2,
       "version_minor": 0
      },
      "text/plain": [
       "VBox(children=(Label(value='0.008 MB of 0.008 MB uploaded\\r'), FloatProgress(value=1.0, max=1.0)))"
      ]
     },
     "metadata": {},
     "output_type": "display_data"
    },
    {
     "data": {
      "text/html": [
       "<style>\n",
       "    table.wandb td:nth-child(1) { padding: 0 10px; text-align: left ; width: auto;} td:nth-child(2) {text-align: left ; width: 100%}\n",
       "    .wandb-row { display: flex; flex-direction: row; flex-wrap: wrap; justify-content: flex-start; width: 100% }\n",
       "    .wandb-col { display: flex; flex-direction: column; flex-basis: 100%; flex: 1; padding: 10px; }\n",
       "    </style>\n",
       "<div class=\"wandb-row\"><div class=\"wandb-col\"><h3>Run history:</h3><br/><table class=\"wandb\"><tr><td>accuracy</td><td>▁▅▂▆▇▆▆▇▇▇█▇▇▇▇▇█▇▇█▇▇▇▇▇█▇▇▇▇</td></tr><tr><td>auprc</td><td>▅▅▁▅▅▇▇█▇▇█▇██▆▇▇▇▇███████████</td></tr><tr><td>auroc</td><td>▅▅▁▆▆▇▇█▇█▇▇██▇▇▇█▇███████████</td></tr><tr><td>avg_train_loss</td><td>█▅▅▄▃▃▄▃▃▃▂▂▂▂▁▁▁▁▂▁▁▁▁▁▁▁▁▁▁▁</td></tr><tr><td>avg_val_loss</td><td>█▅▅▆▃▄▃▂▂▄▁▁▁▁▂▁▂▁▂▂▁▁▁▁▁▁▁▁▁▁</td></tr><tr><td>sensitivity</td><td>▁▂▂▂▅▅▅▅▂█▇▅▅▅▇▂▄█▅▄▅▄▄▄▅▄▄▅▅▅</td></tr><tr><td>specificity</td><td>▅▅▁▅▆▇▅██▆▇▇▇█▆██▆▇████████▇▇▇</td></tr></table><br/></div><div class=\"wandb-col\"><h3>Run summary:</h3><br/><table class=\"wandb\"><tr><td>accuracy</td><td>0.83333</td></tr><tr><td>auprc</td><td>0.96385</td></tr><tr><td>auroc</td><td>0.95667</td></tr><tr><td>avg_train_loss</td><td>0.22215</td></tr><tr><td>avg_val_loss</td><td>0.28818</td></tr><tr><td>sensitivity</td><td>0.83333</td></tr><tr><td>specificity</td><td>0.96667</td></tr></table><br/></div></div>"
      ],
      "text/plain": [
       "<IPython.core.display.HTML object>"
      ]
     },
     "metadata": {},
     "output_type": "display_data"
    },
    {
     "data": {
      "text/html": [
       " View run <strong style=\"color:#cdcd00\">peach-sweep-22</strong> at: <a href='https://wandb.ai/miccai-challenge-2024/task2/runs/uggijdk5' target=\"_blank\">https://wandb.ai/miccai-challenge-2024/task2/runs/uggijdk5</a><br/> View project at: <a href='https://wandb.ai/miccai-challenge-2024/task2' target=\"_blank\">https://wandb.ai/miccai-challenge-2024/task2</a><br/>Synced 6 W&B file(s), 0 media file(s), 0 artifact file(s) and 0 other file(s)"
      ],
      "text/plain": [
       "<IPython.core.display.HTML object>"
      ]
     },
     "metadata": {},
     "output_type": "display_data"
    },
    {
     "data": {
      "text/html": [
       "Find logs at: <code>./wandb/run-20240724_072517-uggijdk5/logs</code>"
      ],
      "text/plain": [
       "<IPython.core.display.HTML object>"
      ]
     },
     "metadata": {},
     "output_type": "display_data"
    },
    {
     "name": "stdout",
     "output_type": "stream",
     "text": [
      "Finished training\n"
     ]
    },
    {
     "name": "stderr",
     "output_type": "stream",
     "text": [
      "\u001b[34m\u001b[1mwandb\u001b[0m: Agent Starting Run: eaoq052s with config:\n",
      "\u001b[34m\u001b[1mwandb\u001b[0m: \tbatch_size: 16\n",
      "\u001b[34m\u001b[1mwandb\u001b[0m: \tepochs: 30\n",
      "\u001b[34m\u001b[1mwandb\u001b[0m: \tloss_weight: 0.5\n",
      "\u001b[34m\u001b[1mwandb\u001b[0m: \tlr: 0.001\n",
      "\u001b[34m\u001b[1mwandb\u001b[0m: \tlr_schedule_factor: 0.1\n",
      "\u001b[34m\u001b[1mwandb\u001b[0m: \tlr_schedule_patience: 5\n",
      "\u001b[34m\u001b[1mwandb\u001b[0m: \tmodel: Task2EfficientNetB0\n",
      "\u001b[34m\u001b[1mwandb\u001b[0m: \tp_affine: 0.3\n",
      "\u001b[34m\u001b[1mwandb\u001b[0m: \tp_clahe: 0.5\n",
      "\u001b[34m\u001b[1mwandb\u001b[0m: \tp_equalize: 0\n",
      "\u001b[34m\u001b[1mwandb\u001b[0m: \tp_gaussblur: 0.3\n",
      "\u001b[34m\u001b[1mwandb\u001b[0m: \tp_horizontalflip: 0.5\n",
      "\u001b[34m\u001b[1mwandb\u001b[0m: \tresampling_strategy: oversampling\n",
      "\u001b[34m\u001b[1mwandb\u001b[0m: \trotation: 10\n",
      "\u001b[34m\u001b[1mwandb\u001b[0m: \u001b[33mWARNING\u001b[0m Ignored wandb.init() arg project when running a sweep.\n"
     ]
    },
    {
     "data": {
      "text/html": [
       "wandb version 0.17.5 is available!  To upgrade, please run:\n",
       " $ pip install wandb --upgrade"
      ],
      "text/plain": [
       "<IPython.core.display.HTML object>"
      ]
     },
     "metadata": {},
     "output_type": "display_data"
    },
    {
     "data": {
      "text/html": [
       "Tracking run with wandb version 0.17.0"
      ],
      "text/plain": [
       "<IPython.core.display.HTML object>"
      ]
     },
     "metadata": {},
     "output_type": "display_data"
    },
    {
     "data": {
      "text/html": [
       "Run data is saved locally in <code>/home/optima/mhaderer/AILS-MICCAI-UWF4DR-Challenge/wandb/run-20240724_074149-eaoq052s</code>"
      ],
      "text/plain": [
       "<IPython.core.display.HTML object>"
      ]
     },
     "metadata": {},
     "output_type": "display_data"
    },
    {
     "data": {
      "text/html": [
       "Syncing run <strong><a href='https://wandb.ai/miccai-challenge-2024/task2/runs/eaoq052s' target=\"_blank\">usual-sweep-23</a></strong> to <a href='https://wandb.ai/miccai-challenge-2024/task2' target=\"_blank\">Weights & Biases</a> (<a href='https://wandb.me/run' target=\"_blank\">docs</a>)<br/>Sweep page: <a href='https://wandb.ai/miccai-challenge-2024/task2/sweeps/eo1h97d3' target=\"_blank\">https://wandb.ai/miccai-challenge-2024/task2/sweeps/eo1h97d3</a>"
      ],
      "text/plain": [
       "<IPython.core.display.HTML object>"
      ]
     },
     "metadata": {},
     "output_type": "display_data"
    },
    {
     "data": {
      "text/html": [
       " View project at <a href='https://wandb.ai/miccai-challenge-2024/task2' target=\"_blank\">https://wandb.ai/miccai-challenge-2024/task2</a>"
      ],
      "text/plain": [
       "<IPython.core.display.HTML object>"
      ]
     },
     "metadata": {},
     "output_type": "display_data"
    },
    {
     "data": {
      "text/html": [
       " View sweep at <a href='https://wandb.ai/miccai-challenge-2024/task2/sweeps/eo1h97d3' target=\"_blank\">https://wandb.ai/miccai-challenge-2024/task2/sweeps/eo1h97d3</a>"
      ],
      "text/plain": [
       "<IPython.core.display.HTML object>"
      ]
     },
     "metadata": {},
     "output_type": "display_data"
    },
    {
     "data": {
      "text/html": [
       " View run at <a href='https://wandb.ai/miccai-challenge-2024/task2/runs/eaoq052s' target=\"_blank\">https://wandb.ai/miccai-challenge-2024/task2/runs/eaoq052s</a>"
      ],
      "text/plain": [
       "<IPython.core.display.HTML object>"
      ]
     },
     "metadata": {},
     "output_type": "display_data"
    },
    {
     "name": "stdout",
     "output_type": "stream",
     "text": [
      "Using device: cuda\n",
      "Loaded pretrained weights for efficientnet-b0\n",
      "Now train train train\n"
     ]
    },
    {
     "name": "stderr",
     "output_type": "stream",
     "text": [
      "Epoch 1/30 - Avg train Loss: 0.337710: 100%|███████████████████████████████████████████████████████████████████████████████████████████████████████████████████████████████| 25/25 [00:46<00:00,  1.87s/it]\n",
      "Epoch 1/30 - Avg val Loss: 0.436811: 100%|███████████████████████████████████████████████████████████████████████████████████████████████████████████████████████████████████| 7/7 [00:10<00:00,  1.51s/it]\n"
     ]
    },
    {
     "name": "stdout",
     "output_type": "stream",
     "text": [
      "New best model found at epoch 1 with validation loss: 0.4368. Model saved to models/usual-sweep-23_2024-07-24_07-41.pth\n"
     ]
    },
    {
     "name": "stderr",
     "output_type": "stream",
     "text": [
      "Epoch 2/30 - Avg train Loss: 0.293822: 100%|███████████████████████████████████████████████████████████████████████████████████████████████████████████████████████████████| 25/25 [00:45<00:00,  1.82s/it]\n",
      "Epoch 2/30 - Avg val Loss: 0.496402: 100%|███████████████████████████████████████████████████████████████████████████████████████████████████████████████████████████████████| 7/7 [00:11<00:00,  1.60s/it]\n",
      "Epoch 3/30 - Avg train Loss: 0.277357: 100%|███████████████████████████████████████████████████████████████████████████████████████████████████████████████████████████████| 25/25 [00:44<00:00,  1.78s/it]\n",
      "Epoch 3/30 - Avg val Loss: 0.300254: 100%|███████████████████████████████████████████████████████████████████████████████████████████████████████████████████████████████████| 7/7 [00:10<00:00,  1.56s/it]\n"
     ]
    },
    {
     "name": "stdout",
     "output_type": "stream",
     "text": [
      "New best model found at epoch 3 with validation loss: 0.3003. Model saved to models/usual-sweep-23_2024-07-24_07-41.pth\n"
     ]
    },
    {
     "name": "stderr",
     "output_type": "stream",
     "text": [
      "Epoch 4/30 - Avg train Loss: 0.251453: 100%|███████████████████████████████████████████████████████████████████████████████████████████████████████████████████████████████| 25/25 [00:43<00:00,  1.73s/it]\n",
      "Epoch 4/30 - Avg val Loss: 0.282625: 100%|███████████████████████████████████████████████████████████████████████████████████████████████████████████████████████████████████| 7/7 [00:09<00:00,  1.34s/it]\n"
     ]
    },
    {
     "name": "stdout",
     "output_type": "stream",
     "text": [
      "New best model found at epoch 4 with validation loss: 0.2826. Model saved to models/usual-sweep-23_2024-07-24_07-41.pth\n"
     ]
    },
    {
     "name": "stderr",
     "output_type": "stream",
     "text": [
      "Epoch 5/30 - Avg train Loss: 0.252012: 100%|███████████████████████████████████████████████████████████████████████████████████████████████████████████████████████████████| 25/25 [00:43<00:00,  1.74s/it]\n",
      "Epoch 5/30 - Avg val Loss: 0.322187: 100%|███████████████████████████████████████████████████████████████████████████████████████████████████████████████████████████████████| 7/7 [00:09<00:00,  1.42s/it]\n",
      "Epoch 6/30 - Avg train Loss: 0.232787: 100%|███████████████████████████████████████████████████████████████████████████████████████████████████████████████████████████████| 25/25 [00:43<00:00,  1.74s/it]\n",
      "Epoch 6/30 - Avg val Loss: 0.308883: 100%|███████████████████████████████████████████████████████████████████████████████████████████████████████████████████████████████████| 7/7 [00:07<00:00,  1.13s/it]\n",
      "Epoch 7/30 - Avg train Loss: 0.231870: 100%|███████████████████████████████████████████████████████████████████████████████████████████████████████████████████████████████| 25/25 [00:42<00:00,  1.71s/it]\n",
      "Epoch 7/30 - Avg val Loss: 0.327593: 100%|███████████████████████████████████████████████████████████████████████████████████████████████████████████████████████████████████| 7/7 [00:08<00:00,  1.25s/it]\n",
      "Epoch 8/30 - Avg train Loss: 0.233124: 100%|███████████████████████████████████████████████████████████████████████████████████████████████████████████████████████████████| 25/25 [00:45<00:00,  1.82s/it]\n",
      "Epoch 8/30 - Avg val Loss: 0.335292: 100%|███████████████████████████████████████████████████████████████████████████████████████████████████████████████████████████████████| 7/7 [00:08<00:00,  1.18s/it]\n",
      "Epoch 9/30 - Avg train Loss: 0.229367: 100%|███████████████████████████████████████████████████████████████████████████████████████████████████████████████████████████████| 25/25 [00:44<00:00,  1.78s/it]\n",
      "Epoch 9/30 - Avg val Loss: 0.305441: 100%|███████████████████████████████████████████████████████████████████████████████████████████████████████████████████████████████████| 7/7 [00:08<00:00,  1.15s/it]\n",
      "Epoch 10/30 - Avg train Loss: 0.230564: 100%|██████████████████████████████████████████████████████████████████████████████████████████████████████████████████████████████| 25/25 [00:43<00:00,  1.75s/it]\n",
      "Epoch 10/30 - Avg val Loss: 0.326754: 100%|██████████████████████████████████████████████████████████████████████████████████████████████████████████████████████████████████| 7/7 [00:07<00:00,  1.06s/it]\n",
      "Epoch 11/30 - Avg train Loss: 0.224664: 100%|██████████████████████████████████████████████████████████████████████████████████████████████████████████████████████████████| 25/25 [00:42<00:00,  1.69s/it]\n",
      "Epoch 11/30 - Avg val Loss: 0.317541: 100%|██████████████████████████████████████████████████████████████████████████████████████████████████████████████████████████████████| 7/7 [00:07<00:00,  1.01s/it]\n",
      "Epoch 12/30 - Avg train Loss: 0.227028: 100%|██████████████████████████████████████████████████████████████████████████████████████████████████████████████████████████████| 25/25 [00:41<00:00,  1.65s/it]\n",
      "Epoch 12/30 - Avg val Loss: 0.276833: 100%|██████████████████████████████████████████████████████████████████████████████████████████████████████████████████████████████████| 7/7 [00:05<00:00,  1.23it/s]\n"
     ]
    },
    {
     "name": "stdout",
     "output_type": "stream",
     "text": [
      "New best model found at epoch 12 with validation loss: 0.2768. Model saved to models/usual-sweep-23_2024-07-24_07-41.pth\n"
     ]
    },
    {
     "name": "stderr",
     "output_type": "stream",
     "text": [
      "Epoch 13/30 - Avg train Loss: 0.224080: 100%|██████████████████████████████████████████████████████████████████████████████████████████████████████████████████████████████| 25/25 [00:43<00:00,  1.75s/it]\n",
      "Epoch 13/30 - Avg val Loss: 0.276596: 100%|██████████████████████████████████████████████████████████████████████████████████████████████████████████████████████████████████| 7/7 [00:06<00:00,  1.15it/s]\n"
     ]
    },
    {
     "name": "stdout",
     "output_type": "stream",
     "text": [
      "New best model found at epoch 13 with validation loss: 0.2766. Model saved to models/usual-sweep-23_2024-07-24_07-41.pth\n"
     ]
    },
    {
     "name": "stderr",
     "output_type": "stream",
     "text": [
      "Epoch 14/30 - Avg train Loss: 0.222170: 100%|██████████████████████████████████████████████████████████████████████████████████████████████████████████████████████████████| 25/25 [00:43<00:00,  1.73s/it]\n",
      "Epoch 14/30 - Avg val Loss: 0.274506: 100%|██████████████████████████████████████████████████████████████████████████████████████████████████████████████████████████████████| 7/7 [00:06<00:00,  1.06it/s]\n"
     ]
    },
    {
     "name": "stdout",
     "output_type": "stream",
     "text": [
      "New best model found at epoch 14 with validation loss: 0.2745. Model saved to models/usual-sweep-23_2024-07-24_07-41.pth\n"
     ]
    },
    {
     "name": "stderr",
     "output_type": "stream",
     "text": [
      "Epoch 15/30 - Avg train Loss: 0.220763: 100%|██████████████████████████████████████████████████████████████████████████████████████████████████████████████████████████████| 25/25 [00:44<00:00,  1.79s/it]\n",
      "Epoch 15/30 - Avg val Loss: 0.281587: 100%|██████████████████████████████████████████████████████████████████████████████████████████████████████████████████████████████████| 7/7 [00:06<00:00,  1.14it/s]\n",
      "Epoch 16/30 - Avg train Loss: 0.221205: 100%|██████████████████████████████████████████████████████████████████████████████████████████████████████████████████████████████| 25/25 [00:44<00:00,  1.79s/it]\n",
      "Epoch 16/30 - Avg val Loss: 0.280329: 100%|██████████████████████████████████████████████████████████████████████████████████████████████████████████████████████████████████| 7/7 [00:06<00:00,  1.01it/s]\n",
      "Epoch 17/30 - Avg train Loss: 0.221348: 100%|██████████████████████████████████████████████████████████████████████████████████████████████████████████████████████████████| 25/25 [00:47<00:00,  1.90s/it]\n",
      "Epoch 17/30 - Avg val Loss: 0.266930: 100%|██████████████████████████████████████████████████████████████████████████████████████████████████████████████████████████████████| 7/7 [00:07<00:00,  1.05s/it]\n"
     ]
    },
    {
     "name": "stdout",
     "output_type": "stream",
     "text": [
      "New best model found at epoch 17 with validation loss: 0.2669. Model saved to models/usual-sweep-23_2024-07-24_07-41.pth\n"
     ]
    },
    {
     "name": "stderr",
     "output_type": "stream",
     "text": [
      "Epoch 18/30 - Avg train Loss: 0.220666: 100%|██████████████████████████████████████████████████████████████████████████████████████████████████████████████████████████████| 25/25 [00:47<00:00,  1.89s/it]\n",
      "Epoch 18/30 - Avg val Loss: 0.263428: 100%|██████████████████████████████████████████████████████████████████████████████████████████████████████████████████████████████████| 7/7 [00:06<00:00,  1.10it/s]\n"
     ]
    },
    {
     "name": "stdout",
     "output_type": "stream",
     "text": [
      "New best model found at epoch 18 with validation loss: 0.2634. Model saved to models/usual-sweep-23_2024-07-24_07-41.pth\n"
     ]
    },
    {
     "name": "stderr",
     "output_type": "stream",
     "text": [
      "Epoch 19/30 - Avg train Loss: 0.220937: 100%|██████████████████████████████████████████████████████████████████████████████████████████████████████████████████████████████| 25/25 [00:47<00:00,  1.89s/it]\n",
      "Epoch 19/30 - Avg val Loss: 0.249012: 100%|██████████████████████████████████████████████████████████████████████████████████████████████████████████████████████████████████| 7/7 [00:05<00:00,  1.26it/s]\n"
     ]
    },
    {
     "name": "stdout",
     "output_type": "stream",
     "text": [
      "New best model found at epoch 19 with validation loss: 0.2490. Model saved to models/usual-sweep-23_2024-07-24_07-41.pth\n"
     ]
    },
    {
     "name": "stderr",
     "output_type": "stream",
     "text": [
      "Epoch 20/30 - Avg train Loss: 0.221002: 100%|██████████████████████████████████████████████████████████████████████████████████████████████████████████████████████████████| 25/25 [00:47<00:00,  1.89s/it]\n",
      "Epoch 20/30 - Avg val Loss: 0.263737: 100%|██████████████████████████████████████████████████████████████████████████████████████████████████████████████████████████████████| 7/7 [00:05<00:00,  1.33it/s]\n",
      "Epoch 21/30 - Avg train Loss: 0.220331: 100%|██████████████████████████████████████████████████████████████████████████████████████████████████████████████████████████████| 25/25 [00:44<00:00,  1.79s/it]\n",
      "Epoch 21/30 - Avg val Loss: 0.295423: 100%|██████████████████████████████████████████████████████████████████████████████████████████████████████████████████████████████████| 7/7 [00:05<00:00,  1.25it/s]\n",
      "Epoch 22/30 - Avg train Loss: 0.220483: 100%|██████████████████████████████████████████████████████████████████████████████████████████████████████████████████████████████| 25/25 [00:44<00:00,  1.78s/it]\n",
      "Epoch 22/30 - Avg val Loss: 0.294360: 100%|██████████████████████████████████████████████████████████████████████████████████████████████████████████████████████████████████| 7/7 [00:06<00:00,  1.16it/s]\n",
      "Epoch 23/30 - Avg train Loss: 0.220124: 100%|██████████████████████████████████████████████████████████████████████████████████████████████████████████████████████████████| 25/25 [00:44<00:00,  1.77s/it]\n",
      "Epoch 23/30 - Avg val Loss: 0.300596: 100%|██████████████████████████████████████████████████████████████████████████████████████████████████████████████████████████████████| 7/7 [00:05<00:00,  1.19it/s]\n",
      "Epoch 24/30 - Avg train Loss: 0.220236: 100%|██████████████████████████████████████████████████████████████████████████████████████████████████████████████████████████████| 25/25 [00:46<00:00,  1.84s/it]\n",
      "Epoch 24/30 - Avg val Loss: 0.318671: 100%|██████████████████████████████████████████████████████████████████████████████████████████████████████████████████████████████████| 7/7 [00:06<00:00,  1.01it/s]\n",
      "Epoch 25/30 - Avg train Loss: 0.220871: 100%|██████████████████████████████████████████████████████████████████████████████████████████████████████████████████████████████| 25/25 [00:44<00:00,  1.77s/it]\n",
      "Epoch 25/30 - Avg val Loss: 0.300704: 100%|██████████████████████████████████████████████████████████████████████████████████████████████████████████████████████████████████| 7/7 [00:06<00:00,  1.14it/s]\n",
      "Epoch 26/30 - Avg train Loss: 0.220483: 100%|██████████████████████████████████████████████████████████████████████████████████████████████████████████████████████████████| 25/25 [00:42<00:00,  1.70s/it]\n",
      "Epoch 26/30 - Avg val Loss: 0.294145: 100%|██████████████████████████████████████████████████████████████████████████████████████████████████████████████████████████████████| 7/7 [00:05<00:00,  1.23it/s]\n",
      "Epoch 27/30 - Avg train Loss: 0.220385: 100%|██████████████████████████████████████████████████████████████████████████████████████████████████████████████████████████████| 25/25 [00:43<00:00,  1.74s/it]\n",
      "Epoch 27/30 - Avg val Loss: 0.275185: 100%|██████████████████████████████████████████████████████████████████████████████████████████████████████████████████████████████████| 7/7 [00:05<00:00,  1.25it/s]\n",
      "Epoch 28/30 - Avg train Loss: 0.220036: 100%|██████████████████████████████████████████████████████████████████████████████████████████████████████████████████████████████| 25/25 [00:49<00:00,  1.99s/it]\n",
      "Epoch 28/30 - Avg val Loss: 0.262865: 100%|██████████████████████████████████████████████████████████████████████████████████████████████████████████████████████████████████| 7/7 [00:06<00:00,  1.12it/s]\n",
      "Epoch 29/30 - Avg train Loss: 0.220730: 100%|██████████████████████████████████████████████████████████████████████████████████████████████████████████████████████████████| 25/25 [00:48<00:00,  1.95s/it]\n",
      "Epoch 29/30 - Avg val Loss: 0.262572: 100%|██████████████████████████████████████████████████████████████████████████████████████████████████████████████████████████████████| 7/7 [00:05<00:00,  1.32it/s]\n",
      "Epoch 30/30 - Avg train Loss: 0.220189: 100%|██████████████████████████████████████████████████████████████████████████████████████████████████████████████████████████████| 25/25 [00:49<00:00,  1.97s/it]\n",
      "Epoch 30/30 - Avg val Loss: 0.243378: 100%|██████████████████████████████████████████████████████████████████████████████████████████████████████████████████████████████████| 7/7 [00:04<00:00,  1.42it/s]\n"
     ]
    },
    {
     "name": "stdout",
     "output_type": "stream",
     "text": [
      "New best model found at epoch 30 with validation loss: 0.2434. Model saved to models/usual-sweep-23_2024-07-24_07-41.pth\n"
     ]
    },
    {
     "data": {
      "application/vnd.jupyter.widget-view+json": {
       "model_id": "",
       "version_major": 2,
       "version_minor": 0
      },
      "text/plain": [
       "VBox(children=(Label(value='0.008 MB of 0.008 MB uploaded\\r'), FloatProgress(value=1.0, max=1.0)))"
      ]
     },
     "metadata": {},
     "output_type": "display_data"
    },
    {
     "data": {
      "text/html": [
       "<style>\n",
       "    table.wandb td:nth-child(1) { padding: 0 10px; text-align: left ; width: auto;} td:nth-child(2) {text-align: left ; width: 100%}\n",
       "    .wandb-row { display: flex; flex-direction: row; flex-wrap: wrap; justify-content: flex-start; width: 100% }\n",
       "    .wandb-col { display: flex; flex-direction: column; flex-basis: 100%; flex: 1; padding: 10px; }\n",
       "    </style>\n",
       "<div class=\"wandb-row\"><div class=\"wandb-col\"><h3>Run history:</h3><br/><table class=\"wandb\"><tr><td>accuracy</td><td>▄▁▆▆▅▆▄▆▆▆▅▄▇▇▇▇▇▇█▇▆▆▆▅▆▆▇▇▇█</td></tr><tr><td>auprc</td><td>▄▆▇▇▆▅▅▁▆▆▆▇▇▇▇▆███▇▅▅▄▂▄▄▅▆▆▇</td></tr><tr><td>auroc</td><td>▄▆▇▇▇▅▆▁▇▆▆▇▇▇▇▇███▇▆▆▄▃▄▄▆▆▆▇</td></tr><tr><td>avg_train_loss</td><td>█▅▄▃▃▂▂▂▂▂▁▁▁▁▁▁▁▁▁▁▁▁▁▁▁▁▁▁▁▁</td></tr><tr><td>avg_val_loss</td><td>▆█▃▂▃▃▃▄▃▃▃▂▂▂▂▂▂▂▁▂▂▂▃▃▃▂▂▂▂▁</td></tr><tr><td>sensitivity</td><td>▄▄▇▄█▃▃▂▆▄▅▆▆▅▅▅▆▆█▆▄▄▃▁▃▄▅▆▆█</td></tr><tr><td>specificity</td><td>▃█▇█▅███▁█████████████████████</td></tr></table><br/></div><div class=\"wandb-col\"><h3>Run summary:</h3><br/><table class=\"wandb\"><tr><td>accuracy</td><td>0.97</td></tr><tr><td>auprc</td><td>0.97982</td></tr><tr><td>auroc</td><td>0.97</td></tr><tr><td>avg_train_loss</td><td>0.22019</td></tr><tr><td>avg_val_loss</td><td>0.24338</td></tr><tr><td>sensitivity</td><td>0.94</td></tr><tr><td>specificity</td><td>1.0</td></tr></table><br/></div></div>"
      ],
      "text/plain": [
       "<IPython.core.display.HTML object>"
      ]
     },
     "metadata": {},
     "output_type": "display_data"
    },
    {
     "data": {
      "text/html": [
       " View run <strong style=\"color:#cdcd00\">usual-sweep-23</strong> at: <a href='https://wandb.ai/miccai-challenge-2024/task2/runs/eaoq052s' target=\"_blank\">https://wandb.ai/miccai-challenge-2024/task2/runs/eaoq052s</a><br/> View project at: <a href='https://wandb.ai/miccai-challenge-2024/task2' target=\"_blank\">https://wandb.ai/miccai-challenge-2024/task2</a><br/>Synced 6 W&B file(s), 0 media file(s), 0 artifact file(s) and 0 other file(s)"
      ],
      "text/plain": [
       "<IPython.core.display.HTML object>"
      ]
     },
     "metadata": {},
     "output_type": "display_data"
    },
    {
     "data": {
      "text/html": [
       "Find logs at: <code>./wandb/run-20240724_074149-eaoq052s/logs</code>"
      ],
      "text/plain": [
       "<IPython.core.display.HTML object>"
      ]
     },
     "metadata": {},
     "output_type": "display_data"
    },
    {
     "name": "stdout",
     "output_type": "stream",
     "text": [
      "Finished training\n"
     ]
    },
    {
     "name": "stderr",
     "output_type": "stream",
     "text": [
      "\u001b[34m\u001b[1mwandb\u001b[0m: Agent Starting Run: 0kro61zs with config:\n",
      "\u001b[34m\u001b[1mwandb\u001b[0m: \tbatch_size: 16\n",
      "\u001b[34m\u001b[1mwandb\u001b[0m: \tepochs: 30\n",
      "\u001b[34m\u001b[1mwandb\u001b[0m: \tloss_weight: 0.5\n",
      "\u001b[34m\u001b[1mwandb\u001b[0m: \tlr: 0.001\n",
      "\u001b[34m\u001b[1mwandb\u001b[0m: \tlr_schedule_factor: 0.1\n",
      "\u001b[34m\u001b[1mwandb\u001b[0m: \tlr_schedule_patience: 5\n",
      "\u001b[34m\u001b[1mwandb\u001b[0m: \tmodel: Task2EfficientNetB0\n",
      "\u001b[34m\u001b[1mwandb\u001b[0m: \tp_affine: 0.3\n",
      "\u001b[34m\u001b[1mwandb\u001b[0m: \tp_clahe: 0.3\n",
      "\u001b[34m\u001b[1mwandb\u001b[0m: \tp_equalize: 0\n",
      "\u001b[34m\u001b[1mwandb\u001b[0m: \tp_gaussblur: 0.3\n",
      "\u001b[34m\u001b[1mwandb\u001b[0m: \tp_horizontalflip: 0.5\n",
      "\u001b[34m\u001b[1mwandb\u001b[0m: \tresampling_strategy: oversampling\n",
      "\u001b[34m\u001b[1mwandb\u001b[0m: \trotation: 10\n",
      "\u001b[34m\u001b[1mwandb\u001b[0m: \u001b[33mWARNING\u001b[0m Ignored wandb.init() arg project when running a sweep.\n"
     ]
    },
    {
     "data": {
      "text/html": [
       "wandb version 0.17.5 is available!  To upgrade, please run:\n",
       " $ pip install wandb --upgrade"
      ],
      "text/plain": [
       "<IPython.core.display.HTML object>"
      ]
     },
     "metadata": {},
     "output_type": "display_data"
    },
    {
     "data": {
      "text/html": [
       "Tracking run with wandb version 0.17.0"
      ],
      "text/plain": [
       "<IPython.core.display.HTML object>"
      ]
     },
     "metadata": {},
     "output_type": "display_data"
    },
    {
     "data": {
      "text/html": [
       "Run data is saved locally in <code>/home/optima/mhaderer/AILS-MICCAI-UWF4DR-Challenge/wandb/run-20240724_080820-0kro61zs</code>"
      ],
      "text/plain": [
       "<IPython.core.display.HTML object>"
      ]
     },
     "metadata": {},
     "output_type": "display_data"
    },
    {
     "data": {
      "text/html": [
       "Syncing run <strong><a href='https://wandb.ai/miccai-challenge-2024/task2/runs/0kro61zs' target=\"_blank\">vibrant-sweep-24</a></strong> to <a href='https://wandb.ai/miccai-challenge-2024/task2' target=\"_blank\">Weights & Biases</a> (<a href='https://wandb.me/run' target=\"_blank\">docs</a>)<br/>Sweep page: <a href='https://wandb.ai/miccai-challenge-2024/task2/sweeps/eo1h97d3' target=\"_blank\">https://wandb.ai/miccai-challenge-2024/task2/sweeps/eo1h97d3</a>"
      ],
      "text/plain": [
       "<IPython.core.display.HTML object>"
      ]
     },
     "metadata": {},
     "output_type": "display_data"
    },
    {
     "data": {
      "text/html": [
       " View project at <a href='https://wandb.ai/miccai-challenge-2024/task2' target=\"_blank\">https://wandb.ai/miccai-challenge-2024/task2</a>"
      ],
      "text/plain": [
       "<IPython.core.display.HTML object>"
      ]
     },
     "metadata": {},
     "output_type": "display_data"
    },
    {
     "data": {
      "text/html": [
       " View sweep at <a href='https://wandb.ai/miccai-challenge-2024/task2/sweeps/eo1h97d3' target=\"_blank\">https://wandb.ai/miccai-challenge-2024/task2/sweeps/eo1h97d3</a>"
      ],
      "text/plain": [
       "<IPython.core.display.HTML object>"
      ]
     },
     "metadata": {},
     "output_type": "display_data"
    },
    {
     "data": {
      "text/html": [
       " View run at <a href='https://wandb.ai/miccai-challenge-2024/task2/runs/0kro61zs' target=\"_blank\">https://wandb.ai/miccai-challenge-2024/task2/runs/0kro61zs</a>"
      ],
      "text/plain": [
       "<IPython.core.display.HTML object>"
      ]
     },
     "metadata": {},
     "output_type": "display_data"
    },
    {
     "name": "stdout",
     "output_type": "stream",
     "text": [
      "Using device: cuda\n",
      "Loaded pretrained weights for efficientnet-b0\n",
      "Now train train train\n"
     ]
    },
    {
     "name": "stderr",
     "output_type": "stream",
     "text": [
      "Epoch 1/30 - Avg train Loss: 0.359070: 100%|███████████████████████████████████████████████████████████████████████████████████████████████████████████████████████████████| 25/25 [00:49<00:00,  1.96s/it]\n",
      "Epoch 1/30 - Avg val Loss: 0.399041: 100%|███████████████████████████████████████████████████████████████████████████████████████████████████████████████████████████████████| 7/7 [00:10<00:00,  1.53s/it]\n"
     ]
    },
    {
     "name": "stdout",
     "output_type": "stream",
     "text": [
      "New best model found at epoch 1 with validation loss: 0.3990. Model saved to models/vibrant-sweep-24_2024-07-24_08-08.pth\n"
     ]
    },
    {
     "name": "stderr",
     "output_type": "stream",
     "text": [
      "Epoch 2/30 - Avg train Loss: 0.293319: 100%|███████████████████████████████████████████████████████████████████████████████████████████████████████████████████████████████| 25/25 [00:48<00:00,  1.96s/it]\n",
      "Epoch 2/30 - Avg val Loss: 0.486377: 100%|███████████████████████████████████████████████████████████████████████████████████████████████████████████████████████████████████| 7/7 [00:12<00:00,  1.72s/it]\n",
      "Epoch 3/30 - Avg train Loss: 0.278985: 100%|███████████████████████████████████████████████████████████████████████████████████████████████████████████████████████████████| 25/25 [00:49<00:00,  1.96s/it]\n",
      "Epoch 3/30 - Avg val Loss: 0.407375: 100%|███████████████████████████████████████████████████████████████████████████████████████████████████████████████████████████████████| 7/7 [00:11<00:00,  1.62s/it]\n",
      "Epoch 4/30 - Avg train Loss: 0.251875: 100%|███████████████████████████████████████████████████████████████████████████████████████████████████████████████████████████████| 25/25 [00:50<00:00,  2.02s/it]\n",
      "Epoch 4/30 - Avg val Loss: 0.540088: 100%|███████████████████████████████████████████████████████████████████████████████████████████████████████████████████████████████████| 7/7 [00:11<00:00,  1.66s/it]\n",
      "Epoch 5/30 - Avg train Loss: 0.239014: 100%|███████████████████████████████████████████████████████████████████████████████████████████████████████████████████████████████| 25/25 [00:50<00:00,  2.00s/it]\n",
      "Epoch 5/30 - Avg val Loss: 0.449357: 100%|███████████████████████████████████████████████████████████████████████████████████████████████████████████████████████████████████| 7/7 [00:11<00:00,  1.62s/it]\n",
      "Epoch 6/30 - Avg train Loss: 0.237660: 100%|███████████████████████████████████████████████████████████████████████████████████████████████████████████████████████████████| 25/25 [00:51<00:00,  2.07s/it]\n",
      "Epoch 6/30 - Avg val Loss: 0.360289: 100%|███████████████████████████████████████████████████████████████████████████████████████████████████████████████████████████████████| 7/7 [00:11<00:00,  1.58s/it]\n"
     ]
    },
    {
     "name": "stdout",
     "output_type": "stream",
     "text": [
      "New best model found at epoch 6 with validation loss: 0.3603. Model saved to models/vibrant-sweep-24_2024-07-24_08-08.pth\n"
     ]
    },
    {
     "name": "stderr",
     "output_type": "stream",
     "text": [
      "Epoch 7/30 - Avg train Loss: 0.236483: 100%|███████████████████████████████████████████████████████████████████████████████████████████████████████████████████████████████| 25/25 [00:50<00:00,  2.03s/it]\n",
      "Epoch 7/30 - Avg val Loss: 0.301838: 100%|███████████████████████████████████████████████████████████████████████████████████████████████████████████████████████████████████| 7/7 [00:11<00:00,  1.62s/it]\n"
     ]
    },
    {
     "name": "stdout",
     "output_type": "stream",
     "text": [
      "New best model found at epoch 7 with validation loss: 0.3018. Model saved to models/vibrant-sweep-24_2024-07-24_08-08.pth\n"
     ]
    },
    {
     "name": "stderr",
     "output_type": "stream",
     "text": [
      "Epoch 8/30 - Avg train Loss: 0.234050: 100%|███████████████████████████████████████████████████████████████████████████████████████████████████████████████████████████████| 25/25 [00:52<00:00,  2.09s/it]\n",
      "Epoch 8/30 - Avg val Loss: 0.275262: 100%|███████████████████████████████████████████████████████████████████████████████████████████████████████████████████████████████████| 7/7 [00:10<00:00,  1.56s/it]\n"
     ]
    },
    {
     "name": "stdout",
     "output_type": "stream",
     "text": [
      "New best model found at epoch 8 with validation loss: 0.2753. Model saved to models/vibrant-sweep-24_2024-07-24_08-08.pth\n"
     ]
    },
    {
     "name": "stderr",
     "output_type": "stream",
     "text": [
      "Epoch 9/30 - Avg train Loss: 0.232926: 100%|███████████████████████████████████████████████████████████████████████████████████████████████████████████████████████████████| 25/25 [00:52<00:00,  2.10s/it]\n",
      "Epoch 9/30 - Avg val Loss: 0.279233: 100%|███████████████████████████████████████████████████████████████████████████████████████████████████████████████████████████████████| 7/7 [00:11<00:00,  1.62s/it]\n",
      "Epoch 10/30 - Avg train Loss: 0.231741: 100%|██████████████████████████████████████████████████████████████████████████████████████████████████████████████████████████████| 25/25 [00:53<00:00,  2.15s/it]\n",
      "Epoch 10/30 - Avg val Loss: 0.323573: 100%|██████████████████████████████████████████████████████████████████████████████████████████████████████████████████████████████████| 7/7 [00:12<00:00,  1.76s/it]\n",
      "Epoch 11/30 - Avg train Loss: 0.226694: 100%|██████████████████████████████████████████████████████████████████████████████████████████████████████████████████████████████| 25/25 [00:54<00:00,  2.18s/it]\n",
      "Epoch 11/30 - Avg val Loss: 0.338194: 100%|██████████████████████████████████████████████████████████████████████████████████████████████████████████████████████████████████| 7/7 [00:11<00:00,  1.67s/it]\n",
      "Epoch 12/30 - Avg train Loss: 0.226837: 100%|██████████████████████████████████████████████████████████████████████████████████████████████████████████████████████████████| 25/25 [00:51<00:00,  2.07s/it]\n",
      "Epoch 12/30 - Avg val Loss: 0.386085: 100%|██████████████████████████████████████████████████████████████████████████████████████████████████████████████████████████████████| 7/7 [00:11<00:00,  1.70s/it]\n",
      "Epoch 13/30 - Avg train Loss: 0.222951: 100%|██████████████████████████████████████████████████████████████████████████████████████████████████████████████████████████████| 25/25 [00:51<00:00,  2.08s/it]\n",
      "Epoch 13/30 - Avg val Loss: 0.393099: 100%|██████████████████████████████████████████████████████████████████████████████████████████████████████████████████████████████████| 7/7 [00:11<00:00,  1.59s/it]\n",
      "Epoch 14/30 - Avg train Loss: 0.221549: 100%|██████████████████████████████████████████████████████████████████████████████████████████████████████████████████████████████| 25/25 [00:54<00:00,  2.16s/it]\n",
      "Epoch 14/30 - Avg val Loss: 0.406059: 100%|██████████████████████████████████████████████████████████████████████████████████████████████████████████████████████████████████| 7/7 [00:11<00:00,  1.62s/it]\n",
      "Epoch 15/30 - Avg train Loss: 0.221322: 100%|██████████████████████████████████████████████████████████████████████████████████████████████████████████████████████████████| 25/25 [00:54<00:00,  2.18s/it]\n",
      "Epoch 15/30 - Avg val Loss: 0.387305: 100%|██████████████████████████████████████████████████████████████████████████████████████████████████████████████████████████████████| 7/7 [00:10<00:00,  1.52s/it]\n",
      "Epoch 16/30 - Avg train Loss: 0.222761: 100%|██████████████████████████████████████████████████████████████████████████████████████████████████████████████████████████████| 25/25 [00:54<00:00,  2.18s/it]\n",
      "Epoch 16/30 - Avg val Loss: 0.349596: 100%|██████████████████████████████████████████████████████████████████████████████████████████████████████████████████████████████████| 7/7 [00:11<00:00,  1.58s/it]\n",
      "Epoch 17/30 - Avg train Loss: 0.220247: 100%|██████████████████████████████████████████████████████████████████████████████████████████████████████████████████████████████| 25/25 [00:52<00:00,  2.11s/it]\n",
      "Epoch 17/30 - Avg val Loss: 0.344106: 100%|██████████████████████████████████████████████████████████████████████████████████████████████████████████████████████████████████| 7/7 [00:10<00:00,  1.57s/it]\n",
      "Epoch 18/30 - Avg train Loss: 0.219941: 100%|██████████████████████████████████████████████████████████████████████████████████████████████████████████████████████████████| 25/25 [00:55<00:00,  2.21s/it]\n",
      "Epoch 18/30 - Avg val Loss: 0.334557: 100%|██████████████████████████████████████████████████████████████████████████████████████████████████████████████████████████████████| 7/7 [00:11<00:00,  1.70s/it]\n",
      "Epoch 19/30 - Avg train Loss: 0.220150: 100%|██████████████████████████████████████████████████████████████████████████████████████████████████████████████████████████████| 25/25 [00:52<00:00,  2.12s/it]\n",
      "Epoch 19/30 - Avg val Loss: 0.314626: 100%|██████████████████████████████████████████████████████████████████████████████████████████████████████████████████████████████████| 7/7 [00:10<00:00,  1.43s/it]\n",
      "Epoch 20/30 - Avg train Loss: 0.221285: 100%|██████████████████████████████████████████████████████████████████████████████████████████████████████████████████████████████| 25/25 [00:51<00:00,  2.05s/it]\n",
      "Epoch 20/30 - Avg val Loss: 0.308145: 100%|██████████████████████████████████████████████████████████████████████████████████████████████████████████████████████████████████| 7/7 [00:11<00:00,  1.62s/it]\n",
      "Epoch 21/30 - Avg train Loss: 0.220422: 100%|██████████████████████████████████████████████████████████████████████████████████████████████████████████████████████████████| 25/25 [00:51<00:00,  2.08s/it]\n",
      "Epoch 21/30 - Avg val Loss: 0.290904: 100%|██████████████████████████████████████████████████████████████████████████████████████████████████████████████████████████████████| 7/7 [00:09<00:00,  1.37s/it]\n",
      "Epoch 22/30 - Avg train Loss: 0.220264: 100%|██████████████████████████████████████████████████████████████████████████████████████████████████████████████████████████████| 25/25 [00:48<00:00,  1.95s/it]\n",
      "Epoch 22/30 - Avg val Loss: 0.289443: 100%|██████████████████████████████████████████████████████████████████████████████████████████████████████████████████████████████████| 7/7 [00:09<00:00,  1.35s/it]\n",
      "Epoch 23/30 - Avg train Loss: 0.220214: 100%|██████████████████████████████████████████████████████████████████████████████████████████████████████████████████████████████| 25/25 [00:49<00:00,  1.97s/it]\n",
      "Epoch 23/30 - Avg val Loss: 0.316467: 100%|██████████████████████████████████████████████████████████████████████████████████████████████████████████████████████████████████| 7/7 [00:10<00:00,  1.46s/it]\n",
      "Epoch 24/30 - Avg train Loss: 0.220248: 100%|██████████████████████████████████████████████████████████████████████████████████████████████████████████████████████████████| 25/25 [00:51<00:00,  2.06s/it]\n",
      "Epoch 24/30 - Avg val Loss: 0.341670: 100%|██████████████████████████████████████████████████████████████████████████████████████████████████████████████████████████████████| 7/7 [00:11<00:00,  1.59s/it]\n",
      "Epoch 25/30 - Avg train Loss: 0.220359: 100%|██████████████████████████████████████████████████████████████████████████████████████████████████████████████████████████████| 25/25 [00:51<00:00,  2.06s/it]\n",
      "Epoch 25/30 - Avg val Loss: 0.328195: 100%|██████████████████████████████████████████████████████████████████████████████████████████████████████████████████████████████████| 7/7 [00:11<00:00,  1.63s/it]\n",
      "Epoch 26/30 - Avg train Loss: 0.220812: 100%|██████████████████████████████████████████████████████████████████████████████████████████████████████████████████████████████| 25/25 [00:54<00:00,  2.18s/it]\n",
      "Epoch 26/30 - Avg val Loss: 0.338335: 100%|██████████████████████████████████████████████████████████████████████████████████████████████████████████████████████████████████| 7/7 [00:11<00:00,  1.67s/it]\n",
      "Epoch 27/30 - Avg train Loss: 0.219807: 100%|██████████████████████████████████████████████████████████████████████████████████████████████████████████████████████████████| 25/25 [00:55<00:00,  2.22s/it]\n",
      "Epoch 27/30 - Avg val Loss: 0.369416: 100%|██████████████████████████████████████████████████████████████████████████████████████████████████████████████████████████████████| 7/7 [00:12<00:00,  1.82s/it]\n",
      "Epoch 28/30 - Avg train Loss: 0.220542: 100%|██████████████████████████████████████████████████████████████████████████████████████████████████████████████████████████████| 25/25 [00:55<00:00,  2.21s/it]\n",
      "Epoch 28/30 - Avg val Loss: 0.331268: 100%|██████████████████████████████████████████████████████████████████████████████████████████████████████████████████████████████████| 7/7 [00:11<00:00,  1.58s/it]\n",
      "Epoch 29/30 - Avg train Loss: 0.220329: 100%|██████████████████████████████████████████████████████████████████████████████████████████████████████████████████████████████| 25/25 [00:53<00:00,  2.16s/it]\n",
      "Epoch 29/30 - Avg val Loss: 0.334696: 100%|██████████████████████████████████████████████████████████████████████████████████████████████████████████████████████████████████| 7/7 [00:11<00:00,  1.60s/it]\n",
      "Epoch 30/30 - Avg train Loss: 0.220468: 100%|██████████████████████████████████████████████████████████████████████████████████████████████████████████████████████████████| 25/25 [00:54<00:00,  2.16s/it]\n",
      "Epoch 30/30 - Avg val Loss: 0.330828: 100%|██████████████████████████████████████████████████████████████████████████████████████████████████████████████████████████████████| 7/7 [00:10<00:00,  1.47s/it]\n"
     ]
    },
    {
     "data": {
      "application/vnd.jupyter.widget-view+json": {
       "model_id": "",
       "version_major": 2,
       "version_minor": 0
      },
      "text/plain": [
       "VBox(children=(Label(value='0.008 MB of 0.008 MB uploaded\\r'), FloatProgress(value=1.0, max=1.0)))"
      ]
     },
     "metadata": {},
     "output_type": "display_data"
    },
    {
     "data": {
      "text/html": [
       "<style>\n",
       "    table.wandb td:nth-child(1) { padding: 0 10px; text-align: left ; width: auto;} td:nth-child(2) {text-align: left ; width: 100%}\n",
       "    .wandb-row { display: flex; flex-direction: row; flex-wrap: wrap; justify-content: flex-start; width: 100% }\n",
       "    .wandb-col { display: flex; flex-direction: column; flex-basis: 100%; flex: 1; padding: 10px; }\n",
       "    </style>\n",
       "<div class=\"wandb-row\"><div class=\"wandb-col\"><h3>Run history:</h3><br/><table class=\"wandb\"><tr><td>accuracy</td><td>▁▄▅▂▄▅▇▄▇▅▄▃▄▃▄▅▅▅▆▆██▆▅▆▅▃▆▆▆</td></tr><tr><td>auprc</td><td>▂▄▆▄▄▅▇█▇▅▂▃▁▃▄▅▄▄▅▆▇▇▆▆▆▅▃▅▄▅</td></tr><tr><td>auroc</td><td>▃▃▆▃▂▅▇█▇▅▃▂▁▄▄▅▅▄▅▆▇▇▆▆▆▅▂▅▅▅</td></tr><tr><td>avg_train_loss</td><td>█▅▄▃▂▂▂▂▂▂▁▁▁▁▁▁▁▁▁▁▁▁▁▁▁▁▁▁▁▁</td></tr><tr><td>avg_val_loss</td><td>▄▇▄█▆▃▂▁▁▂▃▄▄▄▄▃▃▃▂▂▁▁▂▃▂▃▃▂▃▂</td></tr><tr><td>sensitivity</td><td>▆▁▃▄▃▄▇██▂▇▁██████████▃▃▃▃▁▂▁▁</td></tr><tr><td>specificity</td><td>▂████▇▇█▆█▂█▁▃▃▄▄▄▄▅▅▅████████</td></tr></table><br/></div><div class=\"wandb-col\"><h3>Run summary:</h3><br/><table class=\"wandb\"><tr><td>accuracy</td><td>0.81</td></tr><tr><td>auprc</td><td>0.91067</td></tr><tr><td>auroc</td><td>0.8784</td></tr><tr><td>avg_train_loss</td><td>0.22047</td></tr><tr><td>avg_val_loss</td><td>0.33083</td></tr><tr><td>sensitivity</td><td>0.68</td></tr><tr><td>specificity</td><td>1.0</td></tr></table><br/></div></div>"
      ],
      "text/plain": [
       "<IPython.core.display.HTML object>"
      ]
     },
     "metadata": {},
     "output_type": "display_data"
    },
    {
     "data": {
      "text/html": [
       " View run <strong style=\"color:#cdcd00\">vibrant-sweep-24</strong> at: <a href='https://wandb.ai/miccai-challenge-2024/task2/runs/0kro61zs' target=\"_blank\">https://wandb.ai/miccai-challenge-2024/task2/runs/0kro61zs</a><br/> View project at: <a href='https://wandb.ai/miccai-challenge-2024/task2' target=\"_blank\">https://wandb.ai/miccai-challenge-2024/task2</a><br/>Synced 6 W&B file(s), 0 media file(s), 0 artifact file(s) and 0 other file(s)"
      ],
      "text/plain": [
       "<IPython.core.display.HTML object>"
      ]
     },
     "metadata": {},
     "output_type": "display_data"
    },
    {
     "data": {
      "text/html": [
       "Find logs at: <code>./wandb/run-20240724_080820-0kro61zs/logs</code>"
      ],
      "text/plain": [
       "<IPython.core.display.HTML object>"
      ]
     },
     "metadata": {},
     "output_type": "display_data"
    },
    {
     "name": "stdout",
     "output_type": "stream",
     "text": [
      "Finished training\n"
     ]
    },
    {
     "name": "stderr",
     "output_type": "stream",
     "text": [
      "\u001b[34m\u001b[1mwandb\u001b[0m: Agent Starting Run: 7l5zryyr with config:\n",
      "\u001b[34m\u001b[1mwandb\u001b[0m: \tbatch_size: 16\n",
      "\u001b[34m\u001b[1mwandb\u001b[0m: \tepochs: 30\n",
      "\u001b[34m\u001b[1mwandb\u001b[0m: \tloss_weight: 0.5\n",
      "\u001b[34m\u001b[1mwandb\u001b[0m: \tlr: 0.001\n",
      "\u001b[34m\u001b[1mwandb\u001b[0m: \tlr_schedule_factor: 0.1\n",
      "\u001b[34m\u001b[1mwandb\u001b[0m: \tlr_schedule_patience: 5\n",
      "\u001b[34m\u001b[1mwandb\u001b[0m: \tmodel: Task2EfficientNetB0\n",
      "\u001b[34m\u001b[1mwandb\u001b[0m: \tp_affine: 0.3\n",
      "\u001b[34m\u001b[1mwandb\u001b[0m: \tp_clahe: 0.5\n",
      "\u001b[34m\u001b[1mwandb\u001b[0m: \tp_equalize: 0\n",
      "\u001b[34m\u001b[1mwandb\u001b[0m: \tp_gaussblur: 0.3\n",
      "\u001b[34m\u001b[1mwandb\u001b[0m: \tp_horizontalflip: 0.5\n",
      "\u001b[34m\u001b[1mwandb\u001b[0m: \tresampling_strategy: undersampling\n",
      "\u001b[34m\u001b[1mwandb\u001b[0m: \trotation: 10\n",
      "\u001b[34m\u001b[1mwandb\u001b[0m: \u001b[33mWARNING\u001b[0m Ignored wandb.init() arg project when running a sweep.\n"
     ]
    },
    {
     "data": {
      "text/html": [
       "wandb version 0.17.5 is available!  To upgrade, please run:\n",
       " $ pip install wandb --upgrade"
      ],
      "text/plain": [
       "<IPython.core.display.HTML object>"
      ]
     },
     "metadata": {},
     "output_type": "display_data"
    },
    {
     "data": {
      "text/html": [
       "Tracking run with wandb version 0.17.0"
      ],
      "text/plain": [
       "<IPython.core.display.HTML object>"
      ]
     },
     "metadata": {},
     "output_type": "display_data"
    },
    {
     "data": {
      "text/html": [
       "Run data is saved locally in <code>/home/optima/mhaderer/AILS-MICCAI-UWF4DR-Challenge/wandb/run-20240724_084026-7l5zryyr</code>"
      ],
      "text/plain": [
       "<IPython.core.display.HTML object>"
      ]
     },
     "metadata": {},
     "output_type": "display_data"
    },
    {
     "data": {
      "text/html": [
       "Syncing run <strong><a href='https://wandb.ai/miccai-challenge-2024/task2/runs/7l5zryyr' target=\"_blank\">woven-sweep-25</a></strong> to <a href='https://wandb.ai/miccai-challenge-2024/task2' target=\"_blank\">Weights & Biases</a> (<a href='https://wandb.me/run' target=\"_blank\">docs</a>)<br/>Sweep page: <a href='https://wandb.ai/miccai-challenge-2024/task2/sweeps/eo1h97d3' target=\"_blank\">https://wandb.ai/miccai-challenge-2024/task2/sweeps/eo1h97d3</a>"
      ],
      "text/plain": [
       "<IPython.core.display.HTML object>"
      ]
     },
     "metadata": {},
     "output_type": "display_data"
    },
    {
     "data": {
      "text/html": [
       " View project at <a href='https://wandb.ai/miccai-challenge-2024/task2' target=\"_blank\">https://wandb.ai/miccai-challenge-2024/task2</a>"
      ],
      "text/plain": [
       "<IPython.core.display.HTML object>"
      ]
     },
     "metadata": {},
     "output_type": "display_data"
    },
    {
     "data": {
      "text/html": [
       " View sweep at <a href='https://wandb.ai/miccai-challenge-2024/task2/sweeps/eo1h97d3' target=\"_blank\">https://wandb.ai/miccai-challenge-2024/task2/sweeps/eo1h97d3</a>"
      ],
      "text/plain": [
       "<IPython.core.display.HTML object>"
      ]
     },
     "metadata": {},
     "output_type": "display_data"
    },
    {
     "data": {
      "text/html": [
       " View run at <a href='https://wandb.ai/miccai-challenge-2024/task2/runs/7l5zryyr' target=\"_blank\">https://wandb.ai/miccai-challenge-2024/task2/runs/7l5zryyr</a>"
      ],
      "text/plain": [
       "<IPython.core.display.HTML object>"
      ]
     },
     "metadata": {},
     "output_type": "display_data"
    },
    {
     "name": "stdout",
     "output_type": "stream",
     "text": [
      "Using device: cuda\n",
      "Loaded pretrained weights for efficientnet-b0\n",
      "Now train train train\n"
     ]
    },
    {
     "name": "stderr",
     "output_type": "stream",
     "text": [
      "Epoch 1/30 - Avg train Loss: 0.363587: 100%|███████████████████████████████████████████████████████████████████████████████████████████████████████████████████████████████| 15/15 [00:27<00:00,  1.85s/it]\n",
      "Epoch 1/30 - Avg val Loss: 0.395040: 100%|███████████████████████████████████████████████████████████████████████████████████████████████████████████████████████████████████| 4/4 [00:06<00:00,  1.62s/it]\n"
     ]
    },
    {
     "name": "stdout",
     "output_type": "stream",
     "text": [
      "New best model found at epoch 1 with validation loss: 0.3950. Model saved to models/woven-sweep-25_2024-07-24_08-40.pth\n"
     ]
    },
    {
     "name": "stderr",
     "output_type": "stream",
     "text": [
      "Epoch 2/30 - Avg train Loss: 0.319911: 100%|███████████████████████████████████████████████████████████████████████████████████████████████████████████████████████████████| 15/15 [00:26<00:00,  1.79s/it]\n",
      "Epoch 2/30 - Avg val Loss: 0.562881: 100%|███████████████████████████████████████████████████████████████████████████████████████████████████████████████████████████████████| 4/4 [00:06<00:00,  1.55s/it]\n",
      "Epoch 3/30 - Avg train Loss: 0.319966: 100%|███████████████████████████████████████████████████████████████████████████████████████████████████████████████████████████████| 15/15 [00:27<00:00,  1.81s/it]\n",
      "Epoch 3/30 - Avg val Loss: 0.405593: 100%|███████████████████████████████████████████████████████████████████████████████████████████████████████████████████████████████████| 4/4 [00:05<00:00,  1.47s/it]\n",
      "Epoch 4/30 - Avg train Loss: 0.282546: 100%|███████████████████████████████████████████████████████████████████████████████████████████████████████████████████████████████| 15/15 [00:27<00:00,  1.83s/it]\n",
      "Epoch 4/30 - Avg val Loss: 0.436251: 100%|███████████████████████████████████████████████████████████████████████████████████████████████████████████████████████████████████| 4/4 [00:05<00:00,  1.46s/it]\n",
      "Epoch 5/30 - Avg train Loss: 0.293670: 100%|███████████████████████████████████████████████████████████████████████████████████████████████████████████████████████████████| 15/15 [00:29<00:00,  1.96s/it]\n",
      "Epoch 5/30 - Avg val Loss: 0.343497: 100%|███████████████████████████████████████████████████████████████████████████████████████████████████████████████████████████████████| 4/4 [00:05<00:00,  1.49s/it]\n"
     ]
    },
    {
     "name": "stdout",
     "output_type": "stream",
     "text": [
      "New best model found at epoch 5 with validation loss: 0.3435. Model saved to models/woven-sweep-25_2024-07-24_08-40.pth\n"
     ]
    },
    {
     "name": "stderr",
     "output_type": "stream",
     "text": [
      "Epoch 6/30 - Avg train Loss: 0.273697: 100%|███████████████████████████████████████████████████████████████████████████████████████████████████████████████████████████████| 15/15 [00:29<00:00,  1.99s/it]\n",
      "Epoch 6/30 - Avg val Loss: 0.340797: 100%|███████████████████████████████████████████████████████████████████████████████████████████████████████████████████████████████████| 4/4 [00:05<00:00,  1.44s/it]\n"
     ]
    },
    {
     "name": "stdout",
     "output_type": "stream",
     "text": [
      "New best model found at epoch 6 with validation loss: 0.3408. Model saved to models/woven-sweep-25_2024-07-24_08-40.pth\n"
     ]
    },
    {
     "name": "stderr",
     "output_type": "stream",
     "text": [
      "Epoch 7/30 - Avg train Loss: 0.265780: 100%|███████████████████████████████████████████████████████████████████████████████████████████████████████████████████████████████| 15/15 [00:28<00:00,  1.93s/it]\n",
      "Epoch 7/30 - Avg val Loss: 0.400961: 100%|███████████████████████████████████████████████████████████████████████████████████████████████████████████████████████████████████| 4/4 [00:05<00:00,  1.39s/it]\n",
      "Epoch 8/30 - Avg train Loss: 0.271459: 100%|███████████████████████████████████████████████████████████████████████████████████████████████████████████████████████████████| 15/15 [00:28<00:00,  1.90s/it]\n",
      "Epoch 8/30 - Avg val Loss: 0.396055: 100%|███████████████████████████████████████████████████████████████████████████████████████████████████████████████████████████████████| 4/4 [00:05<00:00,  1.48s/it]\n",
      "Epoch 9/30 - Avg train Loss: 0.252780: 100%|███████████████████████████████████████████████████████████████████████████████████████████████████████████████████████████████| 15/15 [00:28<00:00,  1.90s/it]\n",
      "Epoch 9/30 - Avg val Loss: 0.312874: 100%|███████████████████████████████████████████████████████████████████████████████████████████████████████████████████████████████████| 4/4 [00:06<00:00,  1.50s/it]\n"
     ]
    },
    {
     "name": "stdout",
     "output_type": "stream",
     "text": [
      "New best model found at epoch 9 with validation loss: 0.3129. Model saved to models/woven-sweep-25_2024-07-24_08-40.pth\n"
     ]
    },
    {
     "name": "stderr",
     "output_type": "stream",
     "text": [
      "Epoch 10/30 - Avg train Loss: 0.243940: 100%|██████████████████████████████████████████████████████████████████████████████████████████████████████████████████████████████| 15/15 [00:27<00:00,  1.85s/it]\n",
      "Epoch 10/30 - Avg val Loss: 0.317230: 100%|██████████████████████████████████████████████████████████████████████████████████████████████████████████████████████████████████| 4/4 [00:05<00:00,  1.45s/it]\n",
      "Epoch 11/30 - Avg train Loss: 0.244931: 100%|██████████████████████████████████████████████████████████████████████████████████████████████████████████████████████████████| 15/15 [00:26<00:00,  1.79s/it]\n",
      "Epoch 11/30 - Avg val Loss: 0.307375: 100%|██████████████████████████████████████████████████████████████████████████████████████████████████████████████████████████████████| 4/4 [00:05<00:00,  1.41s/it]\n"
     ]
    },
    {
     "name": "stdout",
     "output_type": "stream",
     "text": [
      "New best model found at epoch 11 with validation loss: 0.3074. Model saved to models/woven-sweep-25_2024-07-24_08-40.pth\n"
     ]
    },
    {
     "name": "stderr",
     "output_type": "stream",
     "text": [
      "Epoch 12/30 - Avg train Loss: 0.240127: 100%|██████████████████████████████████████████████████████████████████████████████████████████████████████████████████████████████| 15/15 [00:27<00:00,  1.82s/it]\n",
      "Epoch 12/30 - Avg val Loss: 0.310688: 100%|██████████████████████████████████████████████████████████████████████████████████████████████████████████████████████████████████| 4/4 [00:05<00:00,  1.38s/it]\n",
      "Epoch 13/30 - Avg train Loss: 0.237286: 100%|██████████████████████████████████████████████████████████████████████████████████████████████████████████████████████████████| 15/15 [00:26<00:00,  1.78s/it]\n",
      "Epoch 13/30 - Avg val Loss: 0.334625: 100%|██████████████████████████████████████████████████████████████████████████████████████████████████████████████████████████████████| 4/4 [00:05<00:00,  1.43s/it]\n",
      "Epoch 14/30 - Avg train Loss: 0.255121: 100%|██████████████████████████████████████████████████████████████████████████████████████████████████████████████████████████████| 15/15 [00:26<00:00,  1.77s/it]\n",
      "Epoch 14/30 - Avg val Loss: 0.448847: 100%|██████████████████████████████████████████████████████████████████████████████████████████████████████████████████████████████████| 4/4 [00:05<00:00,  1.42s/it]\n",
      "Epoch 15/30 - Avg train Loss: 0.252666: 100%|██████████████████████████████████████████████████████████████████████████████████████████████████████████████████████████████| 15/15 [00:26<00:00,  1.80s/it]\n",
      "Epoch 15/30 - Avg val Loss: 0.332482: 100%|██████████████████████████████████████████████████████████████████████████████████████████████████████████████████████████████████| 4/4 [00:05<00:00,  1.40s/it]\n",
      "Epoch 16/30 - Avg train Loss: 0.245121: 100%|██████████████████████████████████████████████████████████████████████████████████████████████████████████████████████████████| 15/15 [00:26<00:00,  1.77s/it]\n",
      "Epoch 16/30 - Avg val Loss: 0.312583: 100%|██████████████████████████████████████████████████████████████████████████████████████████████████████████████████████████████████| 4/4 [00:05<00:00,  1.42s/it]\n",
      "Epoch 17/30 - Avg train Loss: 0.242317: 100%|██████████████████████████████████████████████████████████████████████████████████████████████████████████████████████████████| 15/15 [00:26<00:00,  1.78s/it]\n",
      "Epoch 17/30 - Avg val Loss: 0.313469: 100%|██████████████████████████████████████████████████████████████████████████████████████████████████████████████████████████████████| 4/4 [00:05<00:00,  1.41s/it]\n",
      "Epoch 18/30 - Avg train Loss: 0.237422: 100%|██████████████████████████████████████████████████████████████████████████████████████████████████████████████████████████████| 15/15 [00:26<00:00,  1.78s/it]\n",
      "Epoch 18/30 - Avg val Loss: 0.302179: 100%|██████████████████████████████████████████████████████████████████████████████████████████████████████████████████████████████████| 4/4 [00:05<00:00,  1.41s/it]\n"
     ]
    },
    {
     "name": "stdout",
     "output_type": "stream",
     "text": [
      "New best model found at epoch 18 with validation loss: 0.3022. Model saved to models/woven-sweep-25_2024-07-24_08-40.pth\n"
     ]
    },
    {
     "name": "stderr",
     "output_type": "stream",
     "text": [
      "Epoch 19/30 - Avg train Loss: 0.232674: 100%|██████████████████████████████████████████████████████████████████████████████████████████████████████████████████████████████| 15/15 [00:27<00:00,  1.84s/it]\n",
      "Epoch 19/30 - Avg val Loss: 0.302177: 100%|██████████████████████████████████████████████████████████████████████████████████████████████████████████████████████████████████| 4/4 [00:05<00:00,  1.41s/it]\n"
     ]
    },
    {
     "name": "stdout",
     "output_type": "stream",
     "text": [
      "New best model found at epoch 19 with validation loss: 0.3022. Model saved to models/woven-sweep-25_2024-07-24_08-40.pth\n"
     ]
    },
    {
     "name": "stderr",
     "output_type": "stream",
     "text": [
      "Epoch 20/30 - Avg train Loss: 0.229312: 100%|██████████████████████████████████████████████████████████████████████████████████████████████████████████████████████████████| 15/15 [00:26<00:00,  1.78s/it]\n",
      "Epoch 20/30 - Avg val Loss: 0.298832: 100%|██████████████████████████████████████████████████████████████████████████████████████████████████████████████████████████████████| 4/4 [00:05<00:00,  1.46s/it]\n"
     ]
    },
    {
     "name": "stdout",
     "output_type": "stream",
     "text": [
      "New best model found at epoch 20 with validation loss: 0.2988. Model saved to models/woven-sweep-25_2024-07-24_08-40.pth\n"
     ]
    },
    {
     "name": "stderr",
     "output_type": "stream",
     "text": [
      "Epoch 21/30 - Avg train Loss: 0.226884: 100%|██████████████████████████████████████████████████████████████████████████████████████████████████████████████████████████████| 15/15 [00:27<00:00,  1.82s/it]\n",
      "Epoch 21/30 - Avg val Loss: 0.295373: 100%|██████████████████████████████████████████████████████████████████████████████████████████████████████████████████████████████████| 4/4 [00:05<00:00,  1.50s/it]\n"
     ]
    },
    {
     "name": "stdout",
     "output_type": "stream",
     "text": [
      "New best model found at epoch 21 with validation loss: 0.2954. Model saved to models/woven-sweep-25_2024-07-24_08-40.pth\n"
     ]
    },
    {
     "name": "stderr",
     "output_type": "stream",
     "text": [
      "Epoch 22/30 - Avg train Loss: 0.229155: 100%|██████████████████████████████████████████████████████████████████████████████████████████████████████████████████████████████| 15/15 [00:26<00:00,  1.79s/it]\n",
      "Epoch 22/30 - Avg val Loss: 0.295952: 100%|██████████████████████████████████████████████████████████████████████████████████████████████████████████████████████████████████| 4/4 [00:05<00:00,  1.39s/it]\n",
      "Epoch 23/30 - Avg train Loss: 0.227744: 100%|██████████████████████████████████████████████████████████████████████████████████████████████████████████████████████████████| 15/15 [00:28<00:00,  1.88s/it]\n",
      "Epoch 23/30 - Avg val Loss: 0.296664: 100%|██████████████████████████████████████████████████████████████████████████████████████████████████████████████████████████████████| 4/4 [00:05<00:00,  1.40s/it]\n",
      "Epoch 24/30 - Avg train Loss: 0.224170: 100%|██████████████████████████████████████████████████████████████████████████████████████████████████████████████████████████████| 15/15 [00:26<00:00,  1.77s/it]\n",
      "Epoch 24/30 - Avg val Loss: 0.297005: 100%|██████████████████████████████████████████████████████████████████████████████████████████████████████████████████████████████████| 4/4 [00:05<00:00,  1.39s/it]\n",
      "Epoch 25/30 - Avg train Loss: 0.227432: 100%|██████████████████████████████████████████████████████████████████████████████████████████████████████████████████████████████| 15/15 [00:26<00:00,  1.79s/it]\n",
      "Epoch 25/30 - Avg val Loss: 0.298044: 100%|██████████████████████████████████████████████████████████████████████████████████████████████████████████████████████████████████| 4/4 [00:05<00:00,  1.46s/it]\n",
      "Epoch 26/30 - Avg train Loss: 0.223440: 100%|██████████████████████████████████████████████████████████████████████████████████████████████████████████████████████████████| 15/15 [00:26<00:00,  1.80s/it]\n",
      "Epoch 26/30 - Avg val Loss: 0.298706: 100%|██████████████████████████████████████████████████████████████████████████████████████████████████████████████████████████████████| 4/4 [00:05<00:00,  1.40s/it]\n",
      "Epoch 27/30 - Avg train Loss: 0.224385: 100%|██████████████████████████████████████████████████████████████████████████████████████████████████████████████████████████████| 15/15 [00:26<00:00,  1.80s/it]\n",
      "Epoch 27/30 - Avg val Loss: 0.299882: 100%|██████████████████████████████████████████████████████████████████████████████████████████████████████████████████████████████████| 4/4 [00:05<00:00,  1.40s/it]\n",
      "Epoch 28/30 - Avg train Loss: 0.228338: 100%|██████████████████████████████████████████████████████████████████████████████████████████████████████████████████████████████| 15/15 [00:26<00:00,  1.77s/it]\n",
      "Epoch 28/30 - Avg val Loss: 0.300062: 100%|██████████████████████████████████████████████████████████████████████████████████████████████████████████████████████████████████| 4/4 [00:05<00:00,  1.39s/it]\n",
      "Epoch 29/30 - Avg train Loss: 0.223603: 100%|██████████████████████████████████████████████████████████████████████████████████████████████████████████████████████████████| 15/15 [00:27<00:00,  1.84s/it]\n",
      "Epoch 29/30 - Avg val Loss: 0.300169: 100%|██████████████████████████████████████████████████████████████████████████████████████████████████████████████████████████████████| 4/4 [00:05<00:00,  1.45s/it]\n",
      "Epoch 30/30 - Avg train Loss: 0.223477: 100%|██████████████████████████████████████████████████████████████████████████████████████████████████████████████████████████████| 15/15 [00:26<00:00,  1.79s/it]\n",
      "Epoch 30/30 - Avg val Loss: 0.300237: 100%|██████████████████████████████████████████████████████████████████████████████████████████████████████████████████████████████████| 4/4 [00:05<00:00,  1.42s/it]\n"
     ]
    },
    {
     "data": {
      "application/vnd.jupyter.widget-view+json": {
       "model_id": "",
       "version_major": 2,
       "version_minor": 0
      },
      "text/plain": [
       "VBox(children=(Label(value='0.008 MB of 0.008 MB uploaded\\r'), FloatProgress(value=1.0, max=1.0)))"
      ]
     },
     "metadata": {},
     "output_type": "display_data"
    },
    {
     "data": {
      "text/html": [
       "<style>\n",
       "    table.wandb td:nth-child(1) { padding: 0 10px; text-align: left ; width: auto;} td:nth-child(2) {text-align: left ; width: 100%}\n",
       "    .wandb-row { display: flex; flex-direction: row; flex-wrap: wrap; justify-content: flex-start; width: 100% }\n",
       "    .wandb-col { display: flex; flex-direction: column; flex-basis: 100%; flex: 1; padding: 10px; }\n",
       "    </style>\n",
       "<div class=\"wandb-row\"><div class=\"wandb-col\"><h3>Run history:</h3><br/><table class=\"wandb\"><tr><td>accuracy</td><td>▁▁▅▇▆▇▇▆▅▇▆█▆▄▅▅▇▆▇▇▆▆▆▆▆▆▆▆▆▆</td></tr><tr><td>auprc</td><td>▁▄▅▅▅▅▆█▇▇▇▇▆▆▆▇█▇▇███████████</td></tr><tr><td>auroc</td><td>▁▄▄▄▄▄▅█▇▆▆▆▅▅▆▆▇▇▆▇▇▇▇▇▇▇▇▇▇▇</td></tr><tr><td>avg_train_loss</td><td>█▆▆▄▅▄▃▃▂▂▂▂▂▃▂▂▂▂▁▁▁▁▁▁▁▁▁▁▁▁</td></tr><tr><td>avg_val_loss</td><td>▄█▄▅▂▂▄▄▁▂▁▁▂▅▂▁▁▁▁▁▁▁▁▁▁▁▁▁▁▁</td></tr><tr><td>sensitivity</td><td>▆▃▃▅▁▃▆█▇▃▅▆▅▅▅▃▅▅▅▅▅▅▅▅▅▅▅▅▅▅</td></tr><tr><td>specificity</td><td>▁▅▇▇▇▇▇▆▇█▇▇▆▆▅▇██████████████</td></tr></table><br/></div><div class=\"wandb-col\"><h3>Run summary:</h3><br/><table class=\"wandb\"><tr><td>accuracy</td><td>0.83333</td></tr><tr><td>auprc</td><td>0.94679</td></tr><tr><td>auroc</td><td>0.93111</td></tr><tr><td>avg_train_loss</td><td>0.22348</td></tr><tr><td>avg_val_loss</td><td>0.30024</td></tr><tr><td>sensitivity</td><td>0.8</td></tr><tr><td>specificity</td><td>1.0</td></tr></table><br/></div></div>"
      ],
      "text/plain": [
       "<IPython.core.display.HTML object>"
      ]
     },
     "metadata": {},
     "output_type": "display_data"
    },
    {
     "data": {
      "text/html": [
       " View run <strong style=\"color:#cdcd00\">woven-sweep-25</strong> at: <a href='https://wandb.ai/miccai-challenge-2024/task2/runs/7l5zryyr' target=\"_blank\">https://wandb.ai/miccai-challenge-2024/task2/runs/7l5zryyr</a><br/> View project at: <a href='https://wandb.ai/miccai-challenge-2024/task2' target=\"_blank\">https://wandb.ai/miccai-challenge-2024/task2</a><br/>Synced 6 W&B file(s), 0 media file(s), 0 artifact file(s) and 0 other file(s)"
      ],
      "text/plain": [
       "<IPython.core.display.HTML object>"
      ]
     },
     "metadata": {},
     "output_type": "display_data"
    },
    {
     "data": {
      "text/html": [
       "Find logs at: <code>./wandb/run-20240724_084026-7l5zryyr/logs</code>"
      ],
      "text/plain": [
       "<IPython.core.display.HTML object>"
      ]
     },
     "metadata": {},
     "output_type": "display_data"
    },
    {
     "name": "stdout",
     "output_type": "stream",
     "text": [
      "Finished training\n"
     ]
    },
    {
     "name": "stderr",
     "output_type": "stream",
     "text": [
      "\u001b[34m\u001b[1mwandb\u001b[0m: Agent Starting Run: i5p2jg1a with config:\n",
      "\u001b[34m\u001b[1mwandb\u001b[0m: \tbatch_size: 16\n",
      "\u001b[34m\u001b[1mwandb\u001b[0m: \tepochs: 30\n",
      "\u001b[34m\u001b[1mwandb\u001b[0m: \tloss_weight: 0.5\n",
      "\u001b[34m\u001b[1mwandb\u001b[0m: \tlr: 0.001\n",
      "\u001b[34m\u001b[1mwandb\u001b[0m: \tlr_schedule_factor: 0.1\n",
      "\u001b[34m\u001b[1mwandb\u001b[0m: \tlr_schedule_patience: 5\n",
      "\u001b[34m\u001b[1mwandb\u001b[0m: \tmodel: Task2EfficientNetB0\n",
      "\u001b[34m\u001b[1mwandb\u001b[0m: \tp_affine: 0.3\n",
      "\u001b[34m\u001b[1mwandb\u001b[0m: \tp_clahe: 0.5\n",
      "\u001b[34m\u001b[1mwandb\u001b[0m: \tp_equalize: 0\n",
      "\u001b[34m\u001b[1mwandb\u001b[0m: \tp_gaussblur: 0\n",
      "\u001b[34m\u001b[1mwandb\u001b[0m: \tp_horizontalflip: 0.5\n",
      "\u001b[34m\u001b[1mwandb\u001b[0m: \tresampling_strategy: oversampling\n",
      "\u001b[34m\u001b[1mwandb\u001b[0m: \trotation: 10\n",
      "\u001b[34m\u001b[1mwandb\u001b[0m: \u001b[33mWARNING\u001b[0m Ignored wandb.init() arg project when running a sweep.\n"
     ]
    },
    {
     "data": {
      "text/html": [
       "wandb version 0.17.5 is available!  To upgrade, please run:\n",
       " $ pip install wandb --upgrade"
      ],
      "text/plain": [
       "<IPython.core.display.HTML object>"
      ]
     },
     "metadata": {},
     "output_type": "display_data"
    },
    {
     "data": {
      "text/html": [
       "Tracking run with wandb version 0.17.0"
      ],
      "text/plain": [
       "<IPython.core.display.HTML object>"
      ]
     },
     "metadata": {},
     "output_type": "display_data"
    },
    {
     "data": {
      "text/html": [
       "Run data is saved locally in <code>/home/optima/mhaderer/AILS-MICCAI-UWF4DR-Challenge/wandb/run-20240724_085724-i5p2jg1a</code>"
      ],
      "text/plain": [
       "<IPython.core.display.HTML object>"
      ]
     },
     "metadata": {},
     "output_type": "display_data"
    },
    {
     "data": {
      "text/html": [
       "Syncing run <strong><a href='https://wandb.ai/miccai-challenge-2024/task2/runs/i5p2jg1a' target=\"_blank\">fallen-sweep-26</a></strong> to <a href='https://wandb.ai/miccai-challenge-2024/task2' target=\"_blank\">Weights & Biases</a> (<a href='https://wandb.me/run' target=\"_blank\">docs</a>)<br/>Sweep page: <a href='https://wandb.ai/miccai-challenge-2024/task2/sweeps/eo1h97d3' target=\"_blank\">https://wandb.ai/miccai-challenge-2024/task2/sweeps/eo1h97d3</a>"
      ],
      "text/plain": [
       "<IPython.core.display.HTML object>"
      ]
     },
     "metadata": {},
     "output_type": "display_data"
    },
    {
     "data": {
      "text/html": [
       " View project at <a href='https://wandb.ai/miccai-challenge-2024/task2' target=\"_blank\">https://wandb.ai/miccai-challenge-2024/task2</a>"
      ],
      "text/plain": [
       "<IPython.core.display.HTML object>"
      ]
     },
     "metadata": {},
     "output_type": "display_data"
    },
    {
     "data": {
      "text/html": [
       " View sweep at <a href='https://wandb.ai/miccai-challenge-2024/task2/sweeps/eo1h97d3' target=\"_blank\">https://wandb.ai/miccai-challenge-2024/task2/sweeps/eo1h97d3</a>"
      ],
      "text/plain": [
       "<IPython.core.display.HTML object>"
      ]
     },
     "metadata": {},
     "output_type": "display_data"
    },
    {
     "data": {
      "text/html": [
       " View run at <a href='https://wandb.ai/miccai-challenge-2024/task2/runs/i5p2jg1a' target=\"_blank\">https://wandb.ai/miccai-challenge-2024/task2/runs/i5p2jg1a</a>"
      ],
      "text/plain": [
       "<IPython.core.display.HTML object>"
      ]
     },
     "metadata": {},
     "output_type": "display_data"
    },
    {
     "name": "stdout",
     "output_type": "stream",
     "text": [
      "Using device: cuda\n",
      "Loaded pretrained weights for efficientnet-b0\n",
      "Now train train train\n"
     ]
    },
    {
     "name": "stderr",
     "output_type": "stream",
     "text": [
      "Epoch 1/30 - Avg train Loss: 0.347148: 100%|███████████████████████████████████████████████████████████████████████████████████████████████████████████████████████████████| 25/25 [00:45<00:00,  1.81s/it]\n",
      "Epoch 1/30 - Avg val Loss: 0.383515: 100%|███████████████████████████████████████████████████████████████████████████████████████████████████████████████████████████████████| 7/7 [00:10<00:00,  1.50s/it]\n"
     ]
    },
    {
     "name": "stdout",
     "output_type": "stream",
     "text": [
      "New best model found at epoch 1 with validation loss: 0.3835. Model saved to models/fallen-sweep-26_2024-07-24_08-57.pth\n"
     ]
    },
    {
     "name": "stderr",
     "output_type": "stream",
     "text": [
      "Epoch 2/30 - Avg train Loss: 0.282504: 100%|███████████████████████████████████████████████████████████████████████████████████████████████████████████████████████████████| 25/25 [00:41<00:00,  1.66s/it]\n",
      "Epoch 2/30 - Avg val Loss: 0.361312: 100%|███████████████████████████████████████████████████████████████████████████████████████████████████████████████████████████████████| 7/7 [00:09<00:00,  1.29s/it]\n"
     ]
    },
    {
     "name": "stdout",
     "output_type": "stream",
     "text": [
      "New best model found at epoch 2 with validation loss: 0.3613. Model saved to models/fallen-sweep-26_2024-07-24_08-57.pth\n"
     ]
    },
    {
     "name": "stderr",
     "output_type": "stream",
     "text": [
      "Epoch 3/30 - Avg train Loss: 0.252914: 100%|███████████████████████████████████████████████████████████████████████████████████████████████████████████████████████████████| 25/25 [00:41<00:00,  1.67s/it]\n",
      "Epoch 3/30 - Avg val Loss: 0.375672: 100%|███████████████████████████████████████████████████████████████████████████████████████████████████████████████████████████████████| 7/7 [00:09<00:00,  1.32s/it]\n",
      "Epoch 4/30 - Avg train Loss: 0.247012: 100%|███████████████████████████████████████████████████████████████████████████████████████████████████████████████████████████████| 25/25 [00:40<00:00,  1.63s/it]\n",
      "Epoch 4/30 - Avg val Loss: 0.346283: 100%|███████████████████████████████████████████████████████████████████████████████████████████████████████████████████████████████████| 7/7 [00:09<00:00,  1.39s/it]\n"
     ]
    },
    {
     "name": "stdout",
     "output_type": "stream",
     "text": [
      "New best model found at epoch 4 with validation loss: 0.3463. Model saved to models/fallen-sweep-26_2024-07-24_08-57.pth\n"
     ]
    },
    {
     "name": "stderr",
     "output_type": "stream",
     "text": [
      "Epoch 5/30 - Avg train Loss: 0.231537: 100%|███████████████████████████████████████████████████████████████████████████████████████████████████████████████████████████████| 25/25 [00:38<00:00,  1.55s/it]\n",
      "Epoch 5/30 - Avg val Loss: 0.329678: 100%|███████████████████████████████████████████████████████████████████████████████████████████████████████████████████████████████████| 7/7 [00:09<00:00,  1.37s/it]\n"
     ]
    },
    {
     "name": "stdout",
     "output_type": "stream",
     "text": [
      "New best model found at epoch 5 with validation loss: 0.3297. Model saved to models/fallen-sweep-26_2024-07-24_08-57.pth\n"
     ]
    },
    {
     "name": "stderr",
     "output_type": "stream",
     "text": [
      "Epoch 6/30 - Avg train Loss: 0.233263: 100%|███████████████████████████████████████████████████████████████████████████████████████████████████████████████████████████████| 25/25 [00:39<00:00,  1.58s/it]\n",
      "Epoch 6/30 - Avg val Loss: 0.392987: 100%|███████████████████████████████████████████████████████████████████████████████████████████████████████████████████████████████████| 7/7 [00:09<00:00,  1.41s/it]\n",
      "Epoch 7/30 - Avg train Loss: 0.232071: 100%|███████████████████████████████████████████████████████████████████████████████████████████████████████████████████████████████| 25/25 [00:38<00:00,  1.55s/it]\n",
      "Epoch 7/30 - Avg val Loss: 0.453539: 100%|███████████████████████████████████████████████████████████████████████████████████████████████████████████████████████████████████| 7/7 [00:09<00:00,  1.41s/it]\n",
      "Epoch 8/30 - Avg train Loss: 0.235448: 100%|███████████████████████████████████████████████████████████████████████████████████████████████████████████████████████████████| 25/25 [00:40<00:00,  1.60s/it]\n",
      "Epoch 8/30 - Avg val Loss: 0.334537: 100%|███████████████████████████████████████████████████████████████████████████████████████████████████████████████████████████████████| 7/7 [00:10<00:00,  1.50s/it]\n",
      "Epoch 9/30 - Avg train Loss: 0.238891: 100%|███████████████████████████████████████████████████████████████████████████████████████████████████████████████████████████████| 25/25 [00:38<00:00,  1.52s/it]\n",
      "Epoch 9/30 - Avg val Loss: 0.477596: 100%|███████████████████████████████████████████████████████████████████████████████████████████████████████████████████████████████████| 7/7 [00:10<00:00,  1.51s/it]\n",
      "Epoch 10/30 - Avg train Loss: 0.227462: 100%|██████████████████████████████████████████████████████████████████████████████████████████████████████████████████████████████| 25/25 [00:38<00:00,  1.53s/it]\n",
      "Epoch 10/30 - Avg val Loss: 0.510280: 100%|██████████████████████████████████████████████████████████████████████████████████████████████████████████████████████████████████| 7/7 [00:11<00:00,  1.63s/it]\n",
      "Epoch 11/30 - Avg train Loss: 0.228821: 100%|██████████████████████████████████████████████████████████████████████████████████████████████████████████████████████████████| 25/25 [00:37<00:00,  1.52s/it]\n",
      "Epoch 11/30 - Avg val Loss: 0.478496: 100%|██████████████████████████████████████████████████████████████████████████████████████████████████████████████████████████████████| 7/7 [00:11<00:00,  1.66s/it]\n",
      "Epoch 12/30 - Avg train Loss: 0.222058: 100%|██████████████████████████████████████████████████████████████████████████████████████████████████████████████████████████████| 25/25 [00:38<00:00,  1.52s/it]\n",
      "Epoch 12/30 - Avg val Loss: 0.440039: 100%|██████████████████████████████████████████████████████████████████████████████████████████████████████████████████████████████████| 7/7 [00:11<00:00,  1.68s/it]\n",
      "Epoch 13/30 - Avg train Loss: 0.221581: 100%|██████████████████████████████████████████████████████████████████████████████████████████████████████████████████████████████| 25/25 [00:39<00:00,  1.56s/it]\n",
      "Epoch 13/30 - Avg val Loss: 0.474941: 100%|██████████████████████████████████████████████████████████████████████████████████████████████████████████████████████████████████| 7/7 [00:11<00:00,  1.60s/it]\n",
      "Epoch 14/30 - Avg train Loss: 0.220930: 100%|██████████████████████████████████████████████████████████████████████████████████████████████████████████████████████████████| 25/25 [00:41<00:00,  1.65s/it]\n",
      "Epoch 14/30 - Avg val Loss: 0.461452: 100%|██████████████████████████████████████████████████████████████████████████████████████████████████████████████████████████████████| 7/7 [00:11<00:00,  1.62s/it]\n",
      "Epoch 15/30 - Avg train Loss: 0.220175: 100%|██████████████████████████████████████████████████████████████████████████████████████████████████████████████████████████████| 25/25 [00:39<00:00,  1.59s/it]\n",
      "Epoch 15/30 - Avg val Loss: 0.424823: 100%|██████████████████████████████████████████████████████████████████████████████████████████████████████████████████████████████████| 7/7 [00:08<00:00,  1.25s/it]\n",
      "Epoch 16/30 - Avg train Loss: 0.221206: 100%|██████████████████████████████████████████████████████████████████████████████████████████████████████████████████████████████| 25/25 [00:36<00:00,  1.48s/it]\n",
      "Epoch 16/30 - Avg val Loss: 0.418796: 100%|██████████████████████████████████████████████████████████████████████████████████████████████████████████████████████████████████| 7/7 [00:08<00:00,  1.25s/it]\n",
      "Epoch 17/30 - Avg train Loss: 0.220055: 100%|██████████████████████████████████████████████████████████████████████████████████████████████████████████████████████████████| 25/25 [00:34<00:00,  1.39s/it]\n",
      "Epoch 17/30 - Avg val Loss: 0.375060: 100%|██████████████████████████████████████████████████████████████████████████████████████████████████████████████████████████████████| 7/7 [00:09<00:00,  1.42s/it]\n",
      "Epoch 18/30 - Avg train Loss: 0.220490: 100%|██████████████████████████████████████████████████████████████████████████████████████████████████████████████████████████████| 25/25 [00:33<00:00,  1.33s/it]\n",
      "Epoch 18/30 - Avg val Loss: 0.435106: 100%|██████████████████████████████████████████████████████████████████████████████████████████████████████████████████████████████████| 7/7 [00:10<00:00,  1.57s/it]\n",
      "Epoch 19/30 - Avg train Loss: 0.219959: 100%|██████████████████████████████████████████████████████████████████████████████████████████████████████████████████████████████| 25/25 [00:35<00:00,  1.41s/it]\n",
      "Epoch 19/30 - Avg val Loss: 0.404516: 100%|██████████████████████████████████████████████████████████████████████████████████████████████████████████████████████████████████| 7/7 [00:09<00:00,  1.36s/it]\n",
      "Epoch 20/30 - Avg train Loss: 0.220089: 100%|██████████████████████████████████████████████████████████████████████████████████████████████████████████████████████████████| 25/25 [00:32<00:00,  1.29s/it]\n",
      "Epoch 20/30 - Avg val Loss: 0.411707: 100%|██████████████████████████████████████████████████████████████████████████████████████████████████████████████████████████████████| 7/7 [00:09<00:00,  1.36s/it]\n",
      "Epoch 21/30 - Avg train Loss: 0.220674: 100%|██████████████████████████████████████████████████████████████████████████████████████████████████████████████████████████████| 25/25 [00:32<00:00,  1.31s/it]\n",
      "Epoch 21/30 - Avg val Loss: 0.406259: 100%|██████████████████████████████████████████████████████████████████████████████████████████████████████████████████████████████████| 7/7 [00:10<00:00,  1.45s/it]\n",
      "Epoch 22/30 - Avg train Loss: 0.220800: 100%|██████████████████████████████████████████████████████████████████████████████████████████████████████████████████████████████| 25/25 [00:33<00:00,  1.35s/it]\n",
      "Epoch 22/30 - Avg val Loss: 0.381688: 100%|██████████████████████████████████████████████████████████████████████████████████████████████████████████████████████████████████| 7/7 [00:09<00:00,  1.37s/it]\n",
      "Epoch 23/30 - Avg train Loss: 0.219929: 100%|██████████████████████████████████████████████████████████████████████████████████████████████████████████████████████████████| 25/25 [00:33<00:00,  1.35s/it]\n",
      "Epoch 23/30 - Avg val Loss: 0.374163: 100%|██████████████████████████████████████████████████████████████████████████████████████████████████████████████████████████████████| 7/7 [00:10<00:00,  1.46s/it]\n",
      "Epoch 24/30 - Avg train Loss: 0.219947: 100%|██████████████████████████████████████████████████████████████████████████████████████████████████████████████████████████████| 25/25 [00:36<00:00,  1.46s/it]\n",
      "Epoch 24/30 - Avg val Loss: 0.360655: 100%|██████████████████████████████████████████████████████████████████████████████████████████████████████████████████████████████████| 7/7 [00:08<00:00,  1.25s/it]\n",
      "Epoch 25/30 - Avg train Loss: 0.220026: 100%|██████████████████████████████████████████████████████████████████████████████████████████████████████████████████████████████| 25/25 [00:37<00:00,  1.50s/it]\n",
      "Epoch 25/30 - Avg val Loss: 0.358575: 100%|██████████████████████████████████████████████████████████████████████████████████████████████████████████████████████████████████| 7/7 [00:09<00:00,  1.42s/it]\n",
      "Epoch 26/30 - Avg train Loss: 0.219903: 100%|██████████████████████████████████████████████████████████████████████████████████████████████████████████████████████████████| 25/25 [00:36<00:00,  1.47s/it]\n",
      "Epoch 26/30 - Avg val Loss: 0.315038: 100%|██████████████████████████████████████████████████████████████████████████████████████████████████████████████████████████████████| 7/7 [00:08<00:00,  1.27s/it]\n"
     ]
    },
    {
     "name": "stdout",
     "output_type": "stream",
     "text": [
      "New best model found at epoch 26 with validation loss: 0.3150. Model saved to models/fallen-sweep-26_2024-07-24_08-57.pth\n"
     ]
    },
    {
     "name": "stderr",
     "output_type": "stream",
     "text": [
      "Epoch 27/30 - Avg train Loss: 0.219998: 100%|██████████████████████████████████████████████████████████████████████████████████████████████████████████████████████████████| 25/25 [00:34<00:00,  1.39s/it]\n",
      "Epoch 27/30 - Avg val Loss: 0.321470: 100%|██████████████████████████████████████████████████████████████████████████████████████████████████████████████████████████████████| 7/7 [00:08<00:00,  1.27s/it]\n",
      "Epoch 28/30 - Avg train Loss: 0.219858: 100%|██████████████████████████████████████████████████████████████████████████████████████████████████████████████████████████████| 25/25 [00:33<00:00,  1.34s/it]\n",
      "Epoch 28/30 - Avg val Loss: 0.336522: 100%|██████████████████████████████████████████████████████████████████████████████████████████████████████████████████████████████████| 7/7 [00:09<00:00,  1.31s/it]\n",
      "Epoch 29/30 - Avg train Loss: 0.220108: 100%|██████████████████████████████████████████████████████████████████████████████████████████████████████████████████████████████| 25/25 [00:33<00:00,  1.34s/it]\n",
      "Epoch 29/30 - Avg val Loss: 0.370984: 100%|██████████████████████████████████████████████████████████████████████████████████████████████████████████████████████████████████| 7/7 [00:09<00:00,  1.31s/it]\n",
      "Epoch 30/30 - Avg train Loss: 0.219918: 100%|██████████████████████████████████████████████████████████████████████████████████████████████████████████████████████████████| 25/25 [00:34<00:00,  1.40s/it]\n",
      "Epoch 30/30 - Avg val Loss: 0.369086: 100%|██████████████████████████████████████████████████████████████████████████████████████████████████████████████████████████████████| 7/7 [00:08<00:00,  1.24s/it]\n"
     ]
    },
    {
     "data": {
      "application/vnd.jupyter.widget-view+json": {
       "model_id": "",
       "version_major": 2,
       "version_minor": 0
      },
      "text/plain": [
       "VBox(children=(Label(value='0.008 MB of 0.008 MB uploaded\\r'), FloatProgress(value=1.0, max=1.0)))"
      ]
     },
     "metadata": {},
     "output_type": "display_data"
    },
    {
     "data": {
      "text/html": [
       "<style>\n",
       "    table.wandb td:nth-child(1) { padding: 0 10px; text-align: left ; width: auto;} td:nth-child(2) {text-align: left ; width: 100%}\n",
       "    .wandb-row { display: flex; flex-direction: row; flex-wrap: wrap; justify-content: flex-start; width: 100% }\n",
       "    .wandb-col { display: flex; flex-direction: column; flex-basis: 100%; flex: 1; padding: 10px; }\n",
       "    </style>\n",
       "<div class=\"wandb-row\"><div class=\"wandb-col\"><h3>Run history:</h3><br/><table class=\"wandb\"><tr><td>accuracy</td><td>▁▆▅▇█▅▄▇▄▂▄▄▄▄▅▅▆▃▄▃▃▄▃▄▄▄▃▃▃▃</td></tr><tr><td>auprc</td><td>▆█▇▇█▃▁▇▁▄▅▅▃▁▄▅▆▅▆▃▄▅▅▅▅▆▆▆▄▅</td></tr><tr><td>auroc</td><td>▅█▇▇█▄▁▇▁▂▄▄▃▁▃▄▆▅▅▃▄▆▅▅▅▇▇▇▅▅</td></tr><tr><td>avg_train_loss</td><td>█▄▃▂▂▂▂▂▂▁▁▁▁▁▁▁▁▁▁▁▁▁▁▁▁▁▁▁▁▁</td></tr><tr><td>avg_val_loss</td><td>▃▃▃▂▂▄▆▂▇█▇▅▇▆▅▅▃▅▄▄▄▃▃▃▃▁▁▂▃▃</td></tr><tr><td>sensitivity</td><td>▄▅▇▇▇▇▇▆▇▁███▇▇▇█▂▇▇▇▇████████</td></tr><tr><td>specificity</td><td>▇█▆▅█▄▂█▂█▂▃▁▁▂▂▃█▂▂▃▄▄▄▄▆▆▅▄▄</td></tr></table><br/></div><div class=\"wandb-col\"><h3>Run summary:</h3><br/><table class=\"wandb\"><tr><td>accuracy</td><td>0.66</td></tr><tr><td>auprc</td><td>0.76714</td></tr><tr><td>auroc</td><td>0.76</td></tr><tr><td>avg_train_loss</td><td>0.21992</td></tr><tr><td>avg_val_loss</td><td>0.36909</td></tr><tr><td>sensitivity</td><td>1.0</td></tr><tr><td>specificity</td><td>0.7</td></tr></table><br/></div></div>"
      ],
      "text/plain": [
       "<IPython.core.display.HTML object>"
      ]
     },
     "metadata": {},
     "output_type": "display_data"
    },
    {
     "data": {
      "text/html": [
       " View run <strong style=\"color:#cdcd00\">fallen-sweep-26</strong> at: <a href='https://wandb.ai/miccai-challenge-2024/task2/runs/i5p2jg1a' target=\"_blank\">https://wandb.ai/miccai-challenge-2024/task2/runs/i5p2jg1a</a><br/> View project at: <a href='https://wandb.ai/miccai-challenge-2024/task2' target=\"_blank\">https://wandb.ai/miccai-challenge-2024/task2</a><br/>Synced 6 W&B file(s), 0 media file(s), 0 artifact file(s) and 0 other file(s)"
      ],
      "text/plain": [
       "<IPython.core.display.HTML object>"
      ]
     },
     "metadata": {},
     "output_type": "display_data"
    },
    {
     "data": {
      "text/html": [
       "Find logs at: <code>./wandb/run-20240724_085724-i5p2jg1a/logs</code>"
      ],
      "text/plain": [
       "<IPython.core.display.HTML object>"
      ]
     },
     "metadata": {},
     "output_type": "display_data"
    },
    {
     "name": "stdout",
     "output_type": "stream",
     "text": [
      "Finished training\n"
     ]
    },
    {
     "name": "stderr",
     "output_type": "stream",
     "text": [
      "\u001b[34m\u001b[1mwandb\u001b[0m: Agent Starting Run: p2xuvjfe with config:\n",
      "\u001b[34m\u001b[1mwandb\u001b[0m: \tbatch_size: 16\n",
      "\u001b[34m\u001b[1mwandb\u001b[0m: \tepochs: 30\n",
      "\u001b[34m\u001b[1mwandb\u001b[0m: \tloss_weight: 0.5\n",
      "\u001b[34m\u001b[1mwandb\u001b[0m: \tlr: 0.001\n",
      "\u001b[34m\u001b[1mwandb\u001b[0m: \tlr_schedule_factor: 0.1\n",
      "\u001b[34m\u001b[1mwandb\u001b[0m: \tlr_schedule_patience: 5\n",
      "\u001b[34m\u001b[1mwandb\u001b[0m: \tmodel: Task2EfficientNetB0\n",
      "\u001b[34m\u001b[1mwandb\u001b[0m: \tp_affine: 0.3\n",
      "\u001b[34m\u001b[1mwandb\u001b[0m: \tp_clahe: 0.3\n",
      "\u001b[34m\u001b[1mwandb\u001b[0m: \tp_equalize: 0\n",
      "\u001b[34m\u001b[1mwandb\u001b[0m: \tp_gaussblur: 0.3\n",
      "\u001b[34m\u001b[1mwandb\u001b[0m: \tp_horizontalflip: 0.5\n",
      "\u001b[34m\u001b[1mwandb\u001b[0m: \tresampling_strategy: undersampling\n",
      "\u001b[34m\u001b[1mwandb\u001b[0m: \trotation: 10\n",
      "\u001b[34m\u001b[1mwandb\u001b[0m: \u001b[33mWARNING\u001b[0m Ignored wandb.init() arg project when running a sweep.\n"
     ]
    },
    {
     "data": {
      "text/html": [
       "wandb version 0.17.5 is available!  To upgrade, please run:\n",
       " $ pip install wandb --upgrade"
      ],
      "text/plain": [
       "<IPython.core.display.HTML object>"
      ]
     },
     "metadata": {},
     "output_type": "display_data"
    },
    {
     "data": {
      "text/html": [
       "Tracking run with wandb version 0.17.0"
      ],
      "text/plain": [
       "<IPython.core.display.HTML object>"
      ]
     },
     "metadata": {},
     "output_type": "display_data"
    },
    {
     "data": {
      "text/html": [
       "Run data is saved locally in <code>/home/optima/mhaderer/AILS-MICCAI-UWF4DR-Challenge/wandb/run-20240724_092124-p2xuvjfe</code>"
      ],
      "text/plain": [
       "<IPython.core.display.HTML object>"
      ]
     },
     "metadata": {},
     "output_type": "display_data"
    },
    {
     "data": {
      "text/html": [
       "Syncing run <strong><a href='https://wandb.ai/miccai-challenge-2024/task2/runs/p2xuvjfe' target=\"_blank\">amber-sweep-27</a></strong> to <a href='https://wandb.ai/miccai-challenge-2024/task2' target=\"_blank\">Weights & Biases</a> (<a href='https://wandb.me/run' target=\"_blank\">docs</a>)<br/>Sweep page: <a href='https://wandb.ai/miccai-challenge-2024/task2/sweeps/eo1h97d3' target=\"_blank\">https://wandb.ai/miccai-challenge-2024/task2/sweeps/eo1h97d3</a>"
      ],
      "text/plain": [
       "<IPython.core.display.HTML object>"
      ]
     },
     "metadata": {},
     "output_type": "display_data"
    },
    {
     "data": {
      "text/html": [
       " View project at <a href='https://wandb.ai/miccai-challenge-2024/task2' target=\"_blank\">https://wandb.ai/miccai-challenge-2024/task2</a>"
      ],
      "text/plain": [
       "<IPython.core.display.HTML object>"
      ]
     },
     "metadata": {},
     "output_type": "display_data"
    },
    {
     "data": {
      "text/html": [
       " View sweep at <a href='https://wandb.ai/miccai-challenge-2024/task2/sweeps/eo1h97d3' target=\"_blank\">https://wandb.ai/miccai-challenge-2024/task2/sweeps/eo1h97d3</a>"
      ],
      "text/plain": [
       "<IPython.core.display.HTML object>"
      ]
     },
     "metadata": {},
     "output_type": "display_data"
    },
    {
     "data": {
      "text/html": [
       " View run at <a href='https://wandb.ai/miccai-challenge-2024/task2/runs/p2xuvjfe' target=\"_blank\">https://wandb.ai/miccai-challenge-2024/task2/runs/p2xuvjfe</a>"
      ],
      "text/plain": [
       "<IPython.core.display.HTML object>"
      ]
     },
     "metadata": {},
     "output_type": "display_data"
    },
    {
     "name": "stdout",
     "output_type": "stream",
     "text": [
      "Using device: cuda\n",
      "Loaded pretrained weights for efficientnet-b0\n",
      "Now train train train\n"
     ]
    },
    {
     "name": "stderr",
     "output_type": "stream",
     "text": [
      "Epoch 1/30 - Avg train Loss: 0.375978: 100%|███████████████████████████████████████████████████████████████████████████████████████████████████████████████████████████████| 15/15 [00:29<00:00,  1.98s/it]\n",
      "Epoch 1/30 - Avg val Loss: 0.398065: 100%|███████████████████████████████████████████████████████████████████████████████████████████████████████████████████████████████████| 4/4 [00:06<00:00,  1.71s/it]\n"
     ]
    },
    {
     "name": "stdout",
     "output_type": "stream",
     "text": [
      "New best model found at epoch 1 with validation loss: 0.3981. Model saved to models/amber-sweep-27_2024-07-24_09-21.pth\n"
     ]
    },
    {
     "name": "stderr",
     "output_type": "stream",
     "text": [
      "Epoch 2/30 - Avg train Loss: 0.319107: 100%|███████████████████████████████████████████████████████████████████████████████████████████████████████████████████████████████| 15/15 [00:30<00:00,  2.01s/it]\n",
      "Epoch 2/30 - Avg val Loss: 0.356435: 100%|███████████████████████████████████████████████████████████████████████████████████████████████████████████████████████████████████| 4/4 [00:06<00:00,  1.62s/it]\n"
     ]
    },
    {
     "name": "stdout",
     "output_type": "stream",
     "text": [
      "New best model found at epoch 2 with validation loss: 0.3564. Model saved to models/amber-sweep-27_2024-07-24_09-21.pth\n"
     ]
    },
    {
     "name": "stderr",
     "output_type": "stream",
     "text": [
      "Epoch 3/30 - Avg train Loss: 0.318657: 100%|███████████████████████████████████████████████████████████████████████████████████████████████████████████████████████████████| 15/15 [00:29<00:00,  1.95s/it]\n",
      "Epoch 3/30 - Avg val Loss: 0.448985: 100%|███████████████████████████████████████████████████████████████████████████████████████████████████████████████████████████████████| 4/4 [00:06<00:00,  1.62s/it]\n",
      "Epoch 4/30 - Avg train Loss: 0.304427: 100%|███████████████████████████████████████████████████████████████████████████████████████████████████████████████████████████████| 15/15 [00:28<00:00,  1.90s/it]\n",
      "Epoch 4/30 - Avg val Loss: 0.322195: 100%|███████████████████████████████████████████████████████████████████████████████████████████████████████████████████████████████████| 4/4 [00:06<00:00,  1.60s/it]\n"
     ]
    },
    {
     "name": "stdout",
     "output_type": "stream",
     "text": [
      "New best model found at epoch 4 with validation loss: 0.3222. Model saved to models/amber-sweep-27_2024-07-24_09-21.pth\n"
     ]
    },
    {
     "name": "stderr",
     "output_type": "stream",
     "text": [
      "Epoch 5/30 - Avg train Loss: 0.277044: 100%|███████████████████████████████████████████████████████████████████████████████████████████████████████████████████████████████| 15/15 [00:29<00:00,  1.94s/it]\n",
      "Epoch 5/30 - Avg val Loss: 0.324118: 100%|███████████████████████████████████████████████████████████████████████████████████████████████████████████████████████████████████| 4/4 [00:06<00:00,  1.63s/it]\n",
      "Epoch 6/30 - Avg train Loss: 0.271160: 100%|███████████████████████████████████████████████████████████████████████████████████████████████████████████████████████████████| 15/15 [00:29<00:00,  1.97s/it]\n",
      "Epoch 6/30 - Avg val Loss: 0.381625: 100%|███████████████████████████████████████████████████████████████████████████████████████████████████████████████████████████████████| 4/4 [00:06<00:00,  1.67s/it]\n",
      "Epoch 7/30 - Avg train Loss: 0.268601: 100%|███████████████████████████████████████████████████████████████████████████████████████████████████████████████████████████████| 15/15 [00:30<00:00,  2.01s/it]\n",
      "Epoch 7/30 - Avg val Loss: 0.344589: 100%|███████████████████████████████████████████████████████████████████████████████████████████████████████████████████████████████████| 4/4 [00:05<00:00,  1.50s/it]\n",
      "Epoch 8/30 - Avg train Loss: 0.256409: 100%|███████████████████████████████████████████████████████████████████████████████████████████████████████████████████████████████| 15/15 [00:30<00:00,  2.01s/it]\n",
      "Epoch 8/30 - Avg val Loss: 0.341260: 100%|███████████████████████████████████████████████████████████████████████████████████████████████████████████████████████████████████| 4/4 [00:06<00:00,  1.66s/it]\n",
      "Epoch 9/30 - Avg train Loss: 0.243939: 100%|███████████████████████████████████████████████████████████████████████████████████████████████████████████████████████████████| 15/15 [00:28<00:00,  1.88s/it]\n",
      "Epoch 9/30 - Avg val Loss: 0.350764: 100%|███████████████████████████████████████████████████████████████████████████████████████████████████████████████████████████████████| 4/4 [00:06<00:00,  1.62s/it]\n",
      "Epoch 10/30 - Avg train Loss: 0.250649: 100%|██████████████████████████████████████████████████████████████████████████████████████████████████████████████████████████████| 15/15 [00:27<00:00,  1.82s/it]\n",
      "Epoch 10/30 - Avg val Loss: 0.317616: 100%|██████████████████████████████████████████████████████████████████████████████████████████████████████████████████████████████████| 4/4 [00:06<00:00,  1.60s/it]\n"
     ]
    },
    {
     "name": "stdout",
     "output_type": "stream",
     "text": [
      "New best model found at epoch 10 with validation loss: 0.3176. Model saved to models/amber-sweep-27_2024-07-24_09-21.pth\n"
     ]
    },
    {
     "name": "stderr",
     "output_type": "stream",
     "text": [
      "Epoch 11/30 - Avg train Loss: 0.243050: 100%|██████████████████████████████████████████████████████████████████████████████████████████████████████████████████████████████| 15/15 [00:29<00:00,  1.94s/it]\n",
      "Epoch 11/30 - Avg val Loss: 0.291694: 100%|██████████████████████████████████████████████████████████████████████████████████████████████████████████████████████████████████| 4/4 [00:06<00:00,  1.58s/it]\n"
     ]
    },
    {
     "name": "stdout",
     "output_type": "stream",
     "text": [
      "New best model found at epoch 11 with validation loss: 0.2917. Model saved to models/amber-sweep-27_2024-07-24_09-21.pth\n"
     ]
    },
    {
     "name": "stderr",
     "output_type": "stream",
     "text": [
      "Epoch 12/30 - Avg train Loss: 0.245051: 100%|██████████████████████████████████████████████████████████████████████████████████████████████████████████████████████████████| 15/15 [00:29<00:00,  1.95s/it]\n",
      "Epoch 12/30 - Avg val Loss: 0.338179: 100%|██████████████████████████████████████████████████████████████████████████████████████████████████████████████████████████████████| 4/4 [00:06<00:00,  1.65s/it]\n",
      "Epoch 13/30 - Avg train Loss: 0.245918: 100%|██████████████████████████████████████████████████████████████████████████████████████████████████████████████████████████████| 15/15 [00:29<00:00,  1.94s/it]\n",
      "Epoch 13/30 - Avg val Loss: 0.307655: 100%|██████████████████████████████████████████████████████████████████████████████████████████████████████████████████████████████████| 4/4 [00:06<00:00,  1.62s/it]\n",
      "Epoch 14/30 - Avg train Loss: 0.245251: 100%|██████████████████████████████████████████████████████████████████████████████████████████████████████████████████████████████| 15/15 [00:29<00:00,  1.99s/it]\n",
      "Epoch 14/30 - Avg val Loss: 0.322529: 100%|██████████████████████████████████████████████████████████████████████████████████████████████████████████████████████████████████| 4/4 [00:06<00:00,  1.57s/it]\n",
      "Epoch 15/30 - Avg train Loss: 0.260196: 100%|██████████████████████████████████████████████████████████████████████████████████████████████████████████████████████████████| 15/15 [00:28<00:00,  1.91s/it]\n",
      "Epoch 15/30 - Avg val Loss: 0.310052: 100%|██████████████████████████████████████████████████████████████████████████████████████████████████████████████████████████████████| 4/4 [00:06<00:00,  1.56s/it]\n",
      "Epoch 16/30 - Avg train Loss: 0.256381: 100%|██████████████████████████████████████████████████████████████████████████████████████████████████████████████████████████████| 15/15 [00:29<00:00,  1.97s/it]\n",
      "Epoch 16/30 - Avg val Loss: 0.341526: 100%|██████████████████████████████████████████████████████████████████████████████████████████████████████████████████████████████████| 4/4 [00:05<00:00,  1.49s/it]\n",
      "Epoch 17/30 - Avg train Loss: 0.239080: 100%|██████████████████████████████████████████████████████████████████████████████████████████████████████████████████████████████| 15/15 [00:27<00:00,  1.83s/it]\n",
      "Epoch 17/30 - Avg val Loss: 0.307488: 100%|██████████████████████████████████████████████████████████████████████████████████████████████████████████████████████████████████| 4/4 [00:06<00:00,  1.54s/it]\n",
      "Epoch 18/30 - Avg train Loss: 0.243382: 100%|██████████████████████████████████████████████████████████████████████████████████████████████████████████████████████████████| 15/15 [00:27<00:00,  1.83s/it]\n",
      "Epoch 18/30 - Avg val Loss: 0.296504: 100%|██████████████████████████████████████████████████████████████████████████████████████████████████████████████████████████████████| 4/4 [00:06<00:00,  1.57s/it]\n",
      "Epoch 19/30 - Avg train Loss: 0.231224: 100%|██████████████████████████████████████████████████████████████████████████████████████████████████████████████████████████████| 15/15 [00:27<00:00,  1.86s/it]\n",
      "Epoch 19/30 - Avg val Loss: 0.293795: 100%|██████████████████████████████████████████████████████████████████████████████████████████████████████████████████████████████████| 4/4 [00:06<00:00,  1.64s/it]\n",
      "Epoch 20/30 - Avg train Loss: 0.231210: 100%|██████████████████████████████████████████████████████████████████████████████████████████████████████████████████████████████| 15/15 [00:28<00:00,  1.90s/it]\n",
      "Epoch 20/30 - Avg val Loss: 0.293165: 100%|██████████████████████████████████████████████████████████████████████████████████████████████████████████████████████████████████| 4/4 [00:06<00:00,  1.70s/it]\n",
      "Epoch 21/30 - Avg train Loss: 0.235604: 100%|██████████████████████████████████████████████████████████████████████████████████████████████████████████████████████████████| 15/15 [00:29<00:00,  1.98s/it]\n",
      "Epoch 21/30 - Avg val Loss: 0.294629: 100%|██████████████████████████████████████████████████████████████████████████████████████████████████████████████████████████████████| 4/4 [00:05<00:00,  1.49s/it]\n",
      "Epoch 22/30 - Avg train Loss: 0.226426: 100%|██████████████████████████████████████████████████████████████████████████████████████████████████████████████████████████████| 15/15 [00:28<00:00,  1.91s/it]\n",
      "Epoch 22/30 - Avg val Loss: 0.293319: 100%|██████████████████████████████████████████████████████████████████████████████████████████████████████████████████████████████████| 4/4 [00:06<00:00,  1.52s/it]\n",
      "Epoch 23/30 - Avg train Loss: 0.226527: 100%|██████████████████████████████████████████████████████████████████████████████████████████████████████████████████████████████| 15/15 [00:27<00:00,  1.87s/it]\n",
      "Epoch 23/30 - Avg val Loss: 0.292329: 100%|██████████████████████████████████████████████████████████████████████████████████████████████████████████████████████████████████| 4/4 [00:06<00:00,  1.54s/it]\n",
      "Epoch 24/30 - Avg train Loss: 0.228248: 100%|██████████████████████████████████████████████████████████████████████████████████████████████████████████████████████████████| 15/15 [00:29<00:00,  1.95s/it]\n",
      "Epoch 24/30 - Avg val Loss: 0.293002: 100%|██████████████████████████████████████████████████████████████████████████████████████████████████████████████████████████████████| 4/4 [00:06<00:00,  1.69s/it]\n",
      "Epoch 25/30 - Avg train Loss: 0.225810: 100%|██████████████████████████████████████████████████████████████████████████████████████████████████████████████████████████████| 15/15 [00:30<00:00,  2.01s/it]\n",
      "Epoch 25/30 - Avg val Loss: 0.293777: 100%|██████████████████████████████████████████████████████████████████████████████████████████████████████████████████████████████████| 4/4 [00:06<00:00,  1.51s/it]\n",
      "Epoch 26/30 - Avg train Loss: 0.223263: 100%|██████████████████████████████████████████████████████████████████████████████████████████████████████████████████████████████| 15/15 [00:29<00:00,  1.99s/it]\n",
      "Epoch 26/30 - Avg val Loss: 0.294352: 100%|██████████████████████████████████████████████████████████████████████████████████████████████████████████████████████████████████| 4/4 [00:07<00:00,  1.77s/it]\n",
      "Epoch 27/30 - Avg train Loss: 0.230074: 100%|██████████████████████████████████████████████████████████████████████████████████████████████████████████████████████████████| 15/15 [00:29<00:00,  1.99s/it]\n",
      "Epoch 27/30 - Avg val Loss: 0.294617: 100%|██████████████████████████████████████████████████████████████████████████████████████████████████████████████████████████████████| 4/4 [00:06<00:00,  1.64s/it]\n",
      "Epoch 28/30 - Avg train Loss: 0.225315: 100%|██████████████████████████████████████████████████████████████████████████████████████████████████████████████████████████████| 15/15 [00:30<00:00,  2.01s/it]\n",
      "Epoch 28/30 - Avg val Loss: 0.294608: 100%|██████████████████████████████████████████████████████████████████████████████████████████████████████████████████████████████████| 4/4 [00:07<00:00,  1.75s/it]\n",
      "Epoch 29/30 - Avg train Loss: 0.225593: 100%|██████████████████████████████████████████████████████████████████████████████████████████████████████████████████████████████| 15/15 [00:28<00:00,  1.92s/it]\n",
      "Epoch 29/30 - Avg val Loss: 0.295118: 100%|██████████████████████████████████████████████████████████████████████████████████████████████████████████████████████████████████| 4/4 [00:06<00:00,  1.59s/it]\n",
      "Epoch 30/30 - Avg train Loss: 0.228584: 100%|██████████████████████████████████████████████████████████████████████████████████████████████████████████████████████████████| 15/15 [00:27<00:00,  1.86s/it]\n",
      "Epoch 30/30 - Avg val Loss: 0.295463: 100%|██████████████████████████████████████████████████████████████████████████████████████████████████████████████████████████████████| 4/4 [00:06<00:00,  1.59s/it]\n"
     ]
    },
    {
     "data": {
      "application/vnd.jupyter.widget-view+json": {
       "model_id": "",
       "version_major": 2,
       "version_minor": 0
      },
      "text/plain": [
       "VBox(children=(Label(value='0.008 MB of 0.008 MB uploaded\\r'), FloatProgress(value=1.0, max=1.0)))"
      ]
     },
     "metadata": {},
     "output_type": "display_data"
    },
    {
     "data": {
      "text/html": [
       "<style>\n",
       "    table.wandb td:nth-child(1) { padding: 0 10px; text-align: left ; width: auto;} td:nth-child(2) {text-align: left ; width: 100%}\n",
       "    .wandb-row { display: flex; flex-direction: row; flex-wrap: wrap; justify-content: flex-start; width: 100% }\n",
       "    .wandb-col { display: flex; flex-direction: column; flex-basis: 100%; flex: 1; padding: 10px; }\n",
       "    </style>\n",
       "<div class=\"wandb-row\"><div class=\"wandb-col\"><h3>Run history:</h3><br/><table class=\"wandb\"><tr><td>accuracy</td><td>▅▃▁▆▆▆▆▆▆██▆▆▇▆▇▇▆▇▇▆▇▇▇▆▆▆▆▇▆</td></tr><tr><td>auprc</td><td>▁▇▇▇▇█▇█▇▇█▇█▇█▇▇▇▇▇▇█████████</td></tr><tr><td>auroc</td><td>▁▆▇▇▆▇▇█▆▅▆▇█▆▇▆▆▆▆▆▇▇▇▇▇▇█▇▇▇</td></tr><tr><td>avg_train_loss</td><td>█▅▅▅▃▃▃▃▂▂▂▂▂▂▃▃▂▂▁▁▂▁▁▁▁▁▁▁▁▁</td></tr><tr><td>avg_val_loss</td><td>▆▄█▂▂▅▃▃▄▂▁▃▂▂▂▃▂▁▁▁▁▁▁▁▁▁▁▁▁▁</td></tr><tr><td>sensitivity</td><td>█▁▃▁▃▅▃▅▅▅▅▃▁▅▅▅▁▁▃▃▃▁▁▁▁▁▁▁▃▃</td></tr><tr><td>specificity</td><td>▁▇▆█▇▇██▇▇█▇█▇█▇████▇█████████</td></tr></table><br/></div><div class=\"wandb-col\"><h3>Run summary:</h3><br/><table class=\"wandb\"><tr><td>accuracy</td><td>0.81667</td></tr><tr><td>auprc</td><td>0.95811</td></tr><tr><td>auroc</td><td>0.94222</td></tr><tr><td>avg_train_loss</td><td>0.22858</td></tr><tr><td>avg_val_loss</td><td>0.29546</td></tr><tr><td>sensitivity</td><td>0.83333</td></tr><tr><td>specificity</td><td>1.0</td></tr></table><br/></div></div>"
      ],
      "text/plain": [
       "<IPython.core.display.HTML object>"
      ]
     },
     "metadata": {},
     "output_type": "display_data"
    },
    {
     "data": {
      "text/html": [
       " View run <strong style=\"color:#cdcd00\">amber-sweep-27</strong> at: <a href='https://wandb.ai/miccai-challenge-2024/task2/runs/p2xuvjfe' target=\"_blank\">https://wandb.ai/miccai-challenge-2024/task2/runs/p2xuvjfe</a><br/> View project at: <a href='https://wandb.ai/miccai-challenge-2024/task2' target=\"_blank\">https://wandb.ai/miccai-challenge-2024/task2</a><br/>Synced 6 W&B file(s), 0 media file(s), 0 artifact file(s) and 0 other file(s)"
      ],
      "text/plain": [
       "<IPython.core.display.HTML object>"
      ]
     },
     "metadata": {},
     "output_type": "display_data"
    },
    {
     "data": {
      "text/html": [
       "Find logs at: <code>./wandb/run-20240724_092124-p2xuvjfe/logs</code>"
      ],
      "text/plain": [
       "<IPython.core.display.HTML object>"
      ]
     },
     "metadata": {},
     "output_type": "display_data"
    },
    {
     "name": "stdout",
     "output_type": "stream",
     "text": [
      "Finished training\n"
     ]
    },
    {
     "name": "stderr",
     "output_type": "stream",
     "text": [
      "\u001b[34m\u001b[1mwandb\u001b[0m: Agent Starting Run: he9v6f46 with config:\n",
      "\u001b[34m\u001b[1mwandb\u001b[0m: \tbatch_size: 16\n",
      "\u001b[34m\u001b[1mwandb\u001b[0m: \tepochs: 30\n",
      "\u001b[34m\u001b[1mwandb\u001b[0m: \tloss_weight: 0.5\n",
      "\u001b[34m\u001b[1mwandb\u001b[0m: \tlr: 0.001\n",
      "\u001b[34m\u001b[1mwandb\u001b[0m: \tlr_schedule_factor: 0.1\n",
      "\u001b[34m\u001b[1mwandb\u001b[0m: \tlr_schedule_patience: 5\n",
      "\u001b[34m\u001b[1mwandb\u001b[0m: \tmodel: Task2EfficientNetB0\n",
      "\u001b[34m\u001b[1mwandb\u001b[0m: \tp_affine: 0.3\n",
      "\u001b[34m\u001b[1mwandb\u001b[0m: \tp_clahe: 0.5\n",
      "\u001b[34m\u001b[1mwandb\u001b[0m: \tp_equalize: 0\n",
      "\u001b[34m\u001b[1mwandb\u001b[0m: \tp_gaussblur: 0\n",
      "\u001b[34m\u001b[1mwandb\u001b[0m: \tp_horizontalflip: 0.5\n",
      "\u001b[34m\u001b[1mwandb\u001b[0m: \tresampling_strategy: undersampling\n",
      "\u001b[34m\u001b[1mwandb\u001b[0m: \trotation: 10\n",
      "\u001b[34m\u001b[1mwandb\u001b[0m: \u001b[33mWARNING\u001b[0m Ignored wandb.init() arg project when running a sweep.\n"
     ]
    },
    {
     "data": {
      "text/html": [
       "wandb version 0.17.5 is available!  To upgrade, please run:\n",
       " $ pip install wandb --upgrade"
      ],
      "text/plain": [
       "<IPython.core.display.HTML object>"
      ]
     },
     "metadata": {},
     "output_type": "display_data"
    },
    {
     "data": {
      "text/html": [
       "Tracking run with wandb version 0.17.0"
      ],
      "text/plain": [
       "<IPython.core.display.HTML object>"
      ]
     },
     "metadata": {},
     "output_type": "display_data"
    },
    {
     "data": {
      "text/html": [
       "Run data is saved locally in <code>/home/optima/mhaderer/AILS-MICCAI-UWF4DR-Challenge/wandb/run-20240724_093945-he9v6f46</code>"
      ],
      "text/plain": [
       "<IPython.core.display.HTML object>"
      ]
     },
     "metadata": {},
     "output_type": "display_data"
    },
    {
     "data": {
      "text/html": [
       "Syncing run <strong><a href='https://wandb.ai/miccai-challenge-2024/task2/runs/he9v6f46' target=\"_blank\">firm-sweep-28</a></strong> to <a href='https://wandb.ai/miccai-challenge-2024/task2' target=\"_blank\">Weights & Biases</a> (<a href='https://wandb.me/run' target=\"_blank\">docs</a>)<br/>Sweep page: <a href='https://wandb.ai/miccai-challenge-2024/task2/sweeps/eo1h97d3' target=\"_blank\">https://wandb.ai/miccai-challenge-2024/task2/sweeps/eo1h97d3</a>"
      ],
      "text/plain": [
       "<IPython.core.display.HTML object>"
      ]
     },
     "metadata": {},
     "output_type": "display_data"
    },
    {
     "data": {
      "text/html": [
       " View project at <a href='https://wandb.ai/miccai-challenge-2024/task2' target=\"_blank\">https://wandb.ai/miccai-challenge-2024/task2</a>"
      ],
      "text/plain": [
       "<IPython.core.display.HTML object>"
      ]
     },
     "metadata": {},
     "output_type": "display_data"
    },
    {
     "data": {
      "text/html": [
       " View sweep at <a href='https://wandb.ai/miccai-challenge-2024/task2/sweeps/eo1h97d3' target=\"_blank\">https://wandb.ai/miccai-challenge-2024/task2/sweeps/eo1h97d3</a>"
      ],
      "text/plain": [
       "<IPython.core.display.HTML object>"
      ]
     },
     "metadata": {},
     "output_type": "display_data"
    },
    {
     "data": {
      "text/html": [
       " View run at <a href='https://wandb.ai/miccai-challenge-2024/task2/runs/he9v6f46' target=\"_blank\">https://wandb.ai/miccai-challenge-2024/task2/runs/he9v6f46</a>"
      ],
      "text/plain": [
       "<IPython.core.display.HTML object>"
      ]
     },
     "metadata": {},
     "output_type": "display_data"
    },
    {
     "name": "stdout",
     "output_type": "stream",
     "text": [
      "Using device: cuda\n",
      "Loaded pretrained weights for efficientnet-b0\n",
      "Now train train train\n"
     ]
    },
    {
     "name": "stderr",
     "output_type": "stream",
     "text": [
      "Epoch 1/30 - Avg train Loss: 0.351675: 100%|███████████████████████████████████████████████████████████████████████████████████████████████████████████████████████████████| 15/15 [00:30<00:00,  2.03s/it]\n",
      "Epoch 1/30 - Avg val Loss: 0.474678: 100%|███████████████████████████████████████████████████████████████████████████████████████████████████████████████████████████████████| 4/4 [00:06<00:00,  1.67s/it]\n"
     ]
    },
    {
     "name": "stdout",
     "output_type": "stream",
     "text": [
      "New best model found at epoch 1 with validation loss: 0.4747. Model saved to models/firm-sweep-28_2024-07-24_09-39.pth\n"
     ]
    },
    {
     "name": "stderr",
     "output_type": "stream",
     "text": [
      "Epoch 2/30 - Avg train Loss: 0.318929: 100%|███████████████████████████████████████████████████████████████████████████████████████████████████████████████████████████████| 15/15 [00:28<00:00,  1.93s/it]\n",
      "Epoch 2/30 - Avg val Loss: 0.355199: 100%|███████████████████████████████████████████████████████████████████████████████████████████████████████████████████████████████████| 4/4 [00:06<00:00,  1.57s/it]\n"
     ]
    },
    {
     "name": "stdout",
     "output_type": "stream",
     "text": [
      "New best model found at epoch 2 with validation loss: 0.3552. Model saved to models/firm-sweep-28_2024-07-24_09-39.pth\n"
     ]
    },
    {
     "name": "stderr",
     "output_type": "stream",
     "text": [
      "Epoch 3/30 - Avg train Loss: 0.318172: 100%|███████████████████████████████████████████████████████████████████████████████████████████████████████████████████████████████| 15/15 [00:28<00:00,  1.88s/it]\n",
      "Epoch 3/30 - Avg val Loss: 0.334023: 100%|███████████████████████████████████████████████████████████████████████████████████████████████████████████████████████████████████| 4/4 [00:06<00:00,  1.62s/it]\n"
     ]
    },
    {
     "name": "stdout",
     "output_type": "stream",
     "text": [
      "New best model found at epoch 3 with validation loss: 0.3340. Model saved to models/firm-sweep-28_2024-07-24_09-39.pth\n"
     ]
    },
    {
     "name": "stderr",
     "output_type": "stream",
     "text": [
      "Epoch 4/30 - Avg train Loss: 0.269030: 100%|███████████████████████████████████████████████████████████████████████████████████████████████████████████████████████████████| 15/15 [00:27<00:00,  1.86s/it]\n",
      "Epoch 4/30 - Avg val Loss: 0.321747: 100%|███████████████████████████████████████████████████████████████████████████████████████████████████████████████████████████████████| 4/4 [00:06<00:00,  1.66s/it]\n"
     ]
    },
    {
     "name": "stdout",
     "output_type": "stream",
     "text": [
      "New best model found at epoch 4 with validation loss: 0.3217. Model saved to models/firm-sweep-28_2024-07-24_09-39.pth\n"
     ]
    },
    {
     "name": "stderr",
     "output_type": "stream",
     "text": [
      "Epoch 5/30 - Avg train Loss: 0.271172: 100%|███████████████████████████████████████████████████████████████████████████████████████████████████████████████████████████████| 15/15 [00:29<00:00,  1.99s/it]\n",
      "Epoch 5/30 - Avg val Loss: 0.345847: 100%|███████████████████████████████████████████████████████████████████████████████████████████████████████████████████████████████████| 4/4 [00:07<00:00,  1.76s/it]\n",
      "Epoch 6/30 - Avg train Loss: 0.261570: 100%|███████████████████████████████████████████████████████████████████████████████████████████████████████████████████████████████| 15/15 [00:28<00:00,  1.88s/it]\n",
      "Epoch 6/30 - Avg val Loss: 0.299684: 100%|███████████████████████████████████████████████████████████████████████████████████████████████████████████████████████████████████| 4/4 [00:05<00:00,  1.48s/it]\n"
     ]
    },
    {
     "name": "stdout",
     "output_type": "stream",
     "text": [
      "New best model found at epoch 6 with validation loss: 0.2997. Model saved to models/firm-sweep-28_2024-07-24_09-39.pth\n"
     ]
    },
    {
     "name": "stderr",
     "output_type": "stream",
     "text": [
      "Epoch 7/30 - Avg train Loss: 0.252690: 100%|███████████████████████████████████████████████████████████████████████████████████████████████████████████████████████████████| 15/15 [00:26<00:00,  1.79s/it]\n",
      "Epoch 7/30 - Avg val Loss: 0.338247: 100%|███████████████████████████████████████████████████████████████████████████████████████████████████████████████████████████████████| 4/4 [00:05<00:00,  1.46s/it]\n",
      "Epoch 8/30 - Avg train Loss: 0.236511: 100%|███████████████████████████████████████████████████████████████████████████████████████████████████████████████████████████████| 15/15 [00:26<00:00,  1.76s/it]\n",
      "Epoch 8/30 - Avg val Loss: 0.303748: 100%|███████████████████████████████████████████████████████████████████████████████████████████████████████████████████████████████████| 4/4 [00:05<00:00,  1.45s/it]\n",
      "Epoch 9/30 - Avg train Loss: 0.242464: 100%|███████████████████████████████████████████████████████████████████████████████████████████████████████████████████████████████| 15/15 [00:27<00:00,  1.81s/it]\n",
      "Epoch 9/30 - Avg val Loss: 0.301232: 100%|███████████████████████████████████████████████████████████████████████████████████████████████████████████████████████████████████| 4/4 [00:05<00:00,  1.49s/it]\n",
      "Epoch 10/30 - Avg train Loss: 0.237952: 100%|██████████████████████████████████████████████████████████████████████████████████████████████████████████████████████████████| 15/15 [00:26<00:00,  1.79s/it]\n",
      "Epoch 10/30 - Avg val Loss: 0.291955: 100%|██████████████████████████████████████████████████████████████████████████████████████████████████████████████████████████████████| 4/4 [00:05<00:00,  1.46s/it]\n"
     ]
    },
    {
     "name": "stdout",
     "output_type": "stream",
     "text": [
      "New best model found at epoch 10 with validation loss: 0.2920. Model saved to models/firm-sweep-28_2024-07-24_09-39.pth\n"
     ]
    },
    {
     "name": "stderr",
     "output_type": "stream",
     "text": [
      "Epoch 11/30 - Avg train Loss: 0.239532: 100%|██████████████████████████████████████████████████████████████████████████████████████████████████████████████████████████████| 15/15 [00:27<00:00,  1.82s/it]\n",
      "Epoch 11/30 - Avg val Loss: 0.263183: 100%|██████████████████████████████████████████████████████████████████████████████████████████████████████████████████████████████████| 4/4 [00:06<00:00,  1.61s/it]\n"
     ]
    },
    {
     "name": "stdout",
     "output_type": "stream",
     "text": [
      "New best model found at epoch 11 with validation loss: 0.2632. Model saved to models/firm-sweep-28_2024-07-24_09-39.pth\n"
     ]
    },
    {
     "name": "stderr",
     "output_type": "stream",
     "text": [
      "Epoch 12/30 - Avg train Loss: 0.241264: 100%|██████████████████████████████████████████████████████████████████████████████████████████████████████████████████████████████| 15/15 [00:28<00:00,  1.91s/it]\n",
      "Epoch 12/30 - Avg val Loss: 0.291381: 100%|██████████████████████████████████████████████████████████████████████████████████████████████████████████████████████████████████| 4/4 [00:06<00:00,  1.60s/it]\n",
      "Epoch 13/30 - Avg train Loss: 0.237831: 100%|██████████████████████████████████████████████████████████████████████████████████████████████████████████████████████████████| 15/15 [00:27<00:00,  1.83s/it]\n",
      "Epoch 13/30 - Avg val Loss: 0.301736: 100%|██████████████████████████████████████████████████████████████████████████████████████████████████████████████████████████████████| 4/4 [00:06<00:00,  1.51s/it]\n",
      "Epoch 14/30 - Avg train Loss: 0.251680: 100%|██████████████████████████████████████████████████████████████████████████████████████████████████████████████████████████████| 15/15 [00:26<00:00,  1.80s/it]\n",
      "Epoch 14/30 - Avg val Loss: 0.348228: 100%|██████████████████████████████████████████████████████████████████████████████████████████████████████████████████████████████████| 4/4 [00:05<00:00,  1.50s/it]\n",
      "Epoch 15/30 - Avg train Loss: 0.243258:  33%|██████████████████████████████████████████▎                                                                                    | 5/15 [00:09<00:17,  1.77s/it]\u001b[34m\u001b[1mwandb\u001b[0m: Ctrl + C detected. Stopping sweep.\n"
     ]
    }
   ],
   "source": [
    "\n",
    "# Define the sweep configuration\n",
    "sweep_config = {\n",
    "    \"method\": \"random\",  # or \"grid\", or \"bayes\"\n",
    "    \"parameters\": {\n",
    "        \"model\": {\n",
    "            \"values\": [\"Task2EfficientNetB0\"]\n",
    "        },\n",
    "        \"lr\": {\n",
    "            \"values\": [1e-3]\n",
    "        },\n",
    "        \"epochs\": {\n",
    "            \"values\": [30]\n",
    "        },\n",
    "        \"batch_size\": {\n",
    "            \"values\": [16]\n",
    "        },\n",
    "        \"p_gaussblur\": {\n",
    "            \"values\": [0, 0.3]\n",
    "        },\n",
    "        \"p_equalize\": {\n",
    "            \"values\": [0]\n",
    "        },\n",
    "        \"p_clahe\": {\n",
    "            \"values\": [0.3, 0.5]\n",
    "        },\n",
    "        \"p_horizontalflip\": {\n",
    "            \"values\": [0.5]\n",
    "        },\n",
    "        \"rotation\": {\n",
    "            \"values\": [10]\n",
    "        },\n",
    "        \"p_affine\": {\n",
    "            \"values\": [0.3]\n",
    "        },\n",
    "        \"loss_weight\": {\n",
    "            \"values\": [0.5]\n",
    "        },\n",
    "        \"lr_schedule_factor\": {\n",
    "            \"values\": [0.1]\n",
    "        },\n",
    "        \"lr_schedule_patience\": {\n",
    "            \"values\": [5]\n",
    "        },\n",
    "        \"resampling_strategy\": {\n",
    "            \"values\": ['oversampling', 'undersampling']\n",
    "        }\n",
    "    }\n",
    "}\n",
    "\n",
    "# Initialize the sweep\n",
    "sweep_id = wandb.sweep(sweep=sweep_config, project=\"task2\")\n",
    "\n",
    "# Start the sweep\n",
    "wandb.agent(sweep_id, function=train_model)"
   ]
  },
  {
   "cell_type": "markdown",
   "metadata": {},
   "source": [
    "'''\n",
    "class ResamplingStrategy(ABC):\n",
    "    @abstractmethod\n",
    "    def apply(self, dataloader, epoch):\n",
    "        pass\n",
    "\n",
    "\n",
    "    def _calculate_weights(self, dataloader):\n",
    "        dataset = dataloader.dataset\n",
    "        labels = [item[1] for item in dataset]\n",
    "        \n",
    "        class_counts = Counter(labels)\n",
    "        \n",
    "        weights = [1.0 / class_counts[label] for label in labels]\n",
    "        return weights\n",
    "    \n",
    "\n",
    "class DefaultResamplingStrategy(ResamplingStrategy):\n",
    "    def apply(self, dataloader, epoch):\n",
    "        # no resampling is applied by default\n",
    "        return dataloader\n",
    "    \n",
    "\n",
    "class OversamplingResamplingStrategy(ResamplingStrategy):\n",
    "    def apply(self, dataloader, epoch):\n",
    "\n",
    "        weights = self._calculate_weights(dataloader)\n",
    "\n",
    "        sampler = WeightedRandomSampler(weights, len(weights), replacement=True)\n",
    "\n",
    "        oversampled_loader = DataLoader(dataloader.dataset, \n",
    "                                        batch_size=dataloader.batch_size, \n",
    "                                        sampler=sampler, \n",
    "                                        num_workers=dataloader.num_workers)\n",
    "        \n",
    "        return oversampled_loader\n",
    "    \n",
    "    \n",
    "'''"
   ]
  },
  {
   "cell_type": "markdown",
   "metadata": {},
   "source": []
  }
 ],
 "metadata": {
  "kernelspec": {
   "display_name": "Python 3 (ipykernel)",
   "language": "python",
   "name": "python3"
  },
  "language_info": {
   "codemirror_mode": {
    "name": "ipython",
    "version": 3
   },
   "file_extension": ".py",
   "mimetype": "text/x-python",
   "name": "python",
   "nbconvert_exporter": "python",
   "pygments_lexer": "ipython3",
   "version": "3.10.14"
  }
 },
 "nbformat": 4,
 "nbformat_minor": 4
}
