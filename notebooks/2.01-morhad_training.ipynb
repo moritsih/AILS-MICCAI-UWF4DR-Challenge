{
 "cells": [
  {
   "cell_type": "code",
   "execution_count": 1,
   "metadata": {},
   "outputs": [],
   "source": [
    "%load_ext autoreload\n",
    "%autoreload 2"
   ]
  },
  {
   "cell_type": "code",
   "execution_count": 2,
   "metadata": {},
   "outputs": [
    {
     "name": "stdout",
     "output_type": "stream",
     "text": [
      "/home/optima/mhaderer/AILS-MICCAI-UWF4DR-Challenge\n"
     ]
    },
    {
     "name": "stderr",
     "output_type": "stream",
     "text": [
      "/opt/conda/lib/python3.10/site-packages/IPython/core/magics/osm.py:417: UserWarning: using dhist requires you to install the `pickleshare` library.\n",
      "  self.shell.db['dhist'] = compress_dhist(dhist)[-100:]\n"
     ]
    }
   ],
   "source": [
    "from pathlib import Path\n",
    "base_path = Path().resolve().parent\n",
    "%cd {base_path}"
   ]
  },
  {
   "cell_type": "code",
   "execution_count": 3,
   "metadata": {},
   "outputs": [],
   "source": [
    "# setup\n",
    "#!apt-get update\n",
    "#!pip install python-dotenv\n",
    "#!pip install loguru\n",
    "#!pip install gdown\n",
    "#!pip install typer\n",
    "#!pip install imbalanced-learn"
   ]
  },
  {
   "cell_type": "code",
   "execution_count": 4,
   "metadata": {},
   "outputs": [],
   "source": [
    "# load data and unzip data\n",
    "\n",
    "#!python tools/download_data_and_chkpts.py"
   ]
  },
  {
   "cell_type": "code",
   "execution_count": 5,
   "metadata": {},
   "outputs": [
    {
     "name": "stderr",
     "output_type": "stream",
     "text": [
      "INFO:albumentations.check_version:A new version of Albumentations is available: 1.4.12 (you have 1.4.7). Upgrade using: pip install --upgrade albumentations\n",
      "\u001b[34m\u001b[1mwandb\u001b[0m: Currently logged in as: \u001b[33mmmarinschek\u001b[0m (\u001b[33mmiccai-challenge-2024\u001b[0m). Use \u001b[1m`wandb login --relogin`\u001b[0m to force relogin\n",
      "\u001b[34m\u001b[1mwandb\u001b[0m: \u001b[33mWARNING\u001b[0m If you're specifying your api key in code, ensure this code is not shared publicly.\n",
      "\u001b[34m\u001b[1mwandb\u001b[0m: \u001b[33mWARNING\u001b[0m Consider setting the WANDB_API_KEY environment variable, or running `wandb login` from the command line.\n",
      "\u001b[34m\u001b[1mwandb\u001b[0m: Appending key for api.wandb.ai to your netrc file: /home/optima/mhaderer/.netrc\n"
     ]
    },
    {
     "data": {
      "text/plain": [
       "True"
      ]
     },
     "execution_count": 5,
     "metadata": {},
     "output_type": "execute_result"
    }
   ],
   "source": [
    "# imports\n",
    "\n",
    "import torch\n",
    "import torch.nn as nn\n",
    "from torch import optim\n",
    "import torch.nn.functional as F\n",
    "from torch.utils.data import DataLoader\n",
    "import wandb\n",
    "\n",
    "from sklearn.metrics import roc_auc_score, average_precision_score\n",
    "\n",
    "import albumentations as A\n",
    "from albumentations.pytorch.transforms import ToTensorV2\n",
    "\n",
    "import time\n",
    "\n",
    "# data\n",
    "from ails_miccai_uwf4dr_challenge.dataset_strategy import CustomDataset, DatasetStrategy, CombinedDatasetStrategy, \\\n",
    "    Task1Strategy, Task2Strategy, Task3Strategy, DatasetBuilder\n",
    "\n",
    "# augmentation\n",
    "from ails_miccai_uwf4dr_challenge.preprocess_augmentations import ResidualGaussBlur, MultiplyMask\n",
    "\n",
    "# trainer\n",
    "from ails_miccai_uwf4dr_challenge.models.trainer import DefaultMetricsEvaluationStrategy, Metric, MetricCalculatedHook, \\\n",
    "    NumBatches, Trainer, EpochTrainingStrategy, EpochValidationStrategy, DefaultEpochTrainingStrategy, \\\n",
    "    DefaultBatchTrainingStrategy, TrainingContext, PersistBestModelOnEpochEndHook, \\\n",
    "        OversamplingResamplingStrategy, UndersamplingResamplingStrategy\n",
    "\n",
    "from ails_miccai_uwf4dr_challenge.models.metrics import sensitivity_score, specificity_score\n",
    "from ails_miccai_uwf4dr_challenge.config import Config\n",
    "\n",
    "# models\n",
    "from ails_miccai_uwf4dr_challenge.models.architectures.task1_automorph_plain import AutoMorphModel\n",
    "from ails_miccai_uwf4dr_challenge.models.architectures.task1_efficientnet_plain import Task1EfficientNetB4\n",
    "from ails_miccai_uwf4dr_challenge.models.architectures.task2_efficientnetb0_plain import Task2EfficientNetB0 \n",
    "from ails_miccai_uwf4dr_challenge.models.architectures.task1_convnext import Task1ConvNeXt \n",
    "from ails_miccai_uwf4dr_challenge.models.architectures.dinov2 import DinoV2Classifier, ModelSize\n",
    "from ails_miccai_uwf4dr_challenge.models.architectures.ResNets import ResNet, ResNetVariant\n",
    "from ails_miccai_uwf4dr_challenge.models.architectures.shufflenet import ShuffleNet\n",
    "\n",
    "from ails_miccai_uwf4dr_challenge.config import WANDB_API_KEY, PROJ_ROOT\n",
    "\n",
    "wandb.login(key=WANDB_API_KEY)"
   ]
  },
  {
   "cell_type": "code",
   "execution_count": 6,
   "metadata": {},
   "outputs": [
    {
     "name": "stdout",
     "output_type": "stream",
     "text": [
      "Device: cuda\n"
     ]
    }
   ],
   "source": [
    "# select device for training\n",
    "device = torch.device(\"cuda\" if torch.cuda.is_available() else \"cpu\")\n",
    "print(\"Device: \" + str(device))"
   ]
  },
  {
   "cell_type": "markdown",
   "metadata": {},
   "source": [
    "## Train some model"
   ]
  },
  {
   "cell_type": "code",
   "execution_count": 7,
   "metadata": {},
   "outputs": [],
   "source": [
    "def train_model(cfg=None):\n",
    "\n",
    "    WANDB_HTTP_TIMEOUT=300\n",
    "    WANDB_INIT_TIMEOUT =600\n",
    "    WANDB_DEBUG=True\n",
    "\n",
    "    wandb.init(project=\"task2\", config=cfg)\n",
    "    cfg = wandb.config\n",
    "\n",
    "    transforms_train = A.Compose([\n",
    "        A.Resize(800, 1016, p=1),\n",
    "        MultiplyMask(p=1),\n",
    "        ResidualGaussBlur(p=cfg.p_gaussblur),\n",
    "        A.Equalize(p=cfg.p_equalize),\n",
    "        A.CLAHE(clip_limit=5., p=cfg.p_clahe),\n",
    "        A.HorizontalFlip(p=cfg.p_horizontalflip),\n",
    "        A.Affine(rotate=cfg.rotation, rotate_method='ellipse', p=cfg.p_affine),\n",
    "        A.Normalize(mean=[0.406, 0.485, 0.456], std=[0.225, 0.229, 0.224], p=1),\n",
    "        #A.Resize(770, 1022, p=1), # comment whenever not using DinoV2\n",
    "        ToTensorV2(p=1)\n",
    "    ])\n",
    "\n",
    "    transforms_val = A.Compose([\n",
    "            A.Resize(800, 1016, p=1),\n",
    "            MultiplyMask(p=1),\n",
    "            A.Normalize(mean=[0.406, 0.485, 0.456], std=[0.225, 0.229, 0.224], p=1),\n",
    "            #A.Resize(770, 1022, p=1), # comment whenever not using DinoV2\n",
    "            ToTensorV2(p=1)\n",
    "        ])\n",
    "\n",
    "    dataset_strategy = CombinedDatasetStrategy()\n",
    "    task_strategy = Task2Strategy()\n",
    "\n",
    "    builder = DatasetBuilder(dataset_strategy, task_strategy, split_ratio=0.8)\n",
    "    train_data, val_data = builder.build()\n",
    "\n",
    "    train_dataset = CustomDataset(train_data, transform=transforms_train)\n",
    "    val_dataset = CustomDataset(val_data, transform=transforms_val)\n",
    "\n",
    "    train_loader = DataLoader(train_dataset, batch_size=cfg.batch_size, shuffle=True)\n",
    "    val_loader = DataLoader(val_dataset, batch_size=cfg.batch_size, shuffle=False)\n",
    "    \n",
    "    device = torch.device(\"cuda\" if torch.cuda.is_available() else \"cpu\" if torch.backends.mps.is_available() else \"mps\")\n",
    "    print(f\"Using device: {device}\")\n",
    "\n",
    "    assert cfg.model is not None, \"Model type must be specified in the config\"\n",
    "\n",
    "    if cfg.model == \"Task2EfficientNetB0\":\n",
    "        model = Task2EfficientNetB0(num_classes=1)\n",
    "    elif cfg.model == \"AutoMorphModel\":\n",
    "        model = AutoMorphModel(enc_frozen=True)\n",
    "    elif cfg.model == \"DinoV2Classifier\":\n",
    "        model = DinoV2Classifier(ModelSize.SMALL)\n",
    "    elif cfg.model == \"ShuffleNet\":\n",
    "        model = ShuffleNet()\n",
    "    elif cfg.model == \"ResNet\":\n",
    "        model = ResNet(ResNetVariant.RESNET18)\n",
    "    else:\n",
    "        raise ValueError(f\"Model type {cfg.model} not recognized\")\n",
    "\n",
    "    model.to(device)\n",
    "\n",
    "    metrics = [\n",
    "        Metric('auroc', roc_auc_score),\n",
    "        Metric('auprc', average_precision_score),\n",
    "        Metric('accuracy', lambda y_true, y_pred: (y_pred.round() == y_true).mean()),\n",
    "        Metric('sensitivity', sensitivity_score),\n",
    "        Metric('specificity', specificity_score)\n",
    "    ]\n",
    "\n",
    "    class WandbLoggingHook(MetricCalculatedHook):\n",
    "        def on_metric_calculated(self, training_context: TrainingContext, metric: Metric, result, last_metric_for_epoch: bool):\n",
    "            import wandb\n",
    "            wandb.log(data={metric.name: result}, commit=last_metric_for_epoch)\n",
    "\n",
    "    metrics_eval_strategy = DefaultMetricsEvaluationStrategy(metrics).register_metric_calculated_hook(WandbLoggingHook())\n",
    "\n",
    "    def combined_losses(pred, target):\n",
    "        bce = F.binary_cross_entropy_with_logits(pred, target) * cfg.loss_weight\n",
    "        smooth_l1 = F.smooth_l1_loss(pred, target) * (1 - cfg.loss_weight)\n",
    "        return bce + smooth_l1\n",
    "\n",
    "    criterion = combined_losses\n",
    "    optimizer = optim.AdamW(model.parameters(), lr=cfg.lr)\n",
    "    #lr_scheduler = optim.lr_scheduler.ReduceLROnPlateau(optimizer, \n",
    "    #                                                    mode='min', \n",
    "    #                                                    factor=cfg.lr_schedule_factor, \n",
    "    #                                                    patience=cfg.lr_schedule_patience, \n",
    "    #                                                    verbose=True)\n",
    "\n",
    "    lr_scheduler = optim.lr_scheduler.CosineAnnealingLR(optimizer, \n",
    "                                                        T_max=cfg.tmax, \n",
    "                                                        eta_min=cfg.min_lr)\n",
    "\n",
    "    def resampling_factory(strategy_type):\n",
    "        if strategy_type == \"undersampling\":\n",
    "            return UndersamplingResamplingStrategy()\n",
    "        elif strategy_type == \"oversampling\":\n",
    "            return OversamplingResamplingStrategy()\n",
    "        else:\n",
    "            raise ValueError(f\"Unknown strategy type: {strategy_type}\")\n",
    "            \n",
    "    trainer = Trainer(model, train_loader, val_loader, criterion, optimizer, lr_scheduler, device, \n",
    "                        metrics_eval_strategy=metrics_eval_strategy,\n",
    "                        val_dataloader_adapter=resampling_factory(cfg.resampling_strategy),\n",
    "                        train_dataloader_adapter=resampling_factory(cfg.resampling_strategy))\n",
    "    \n",
    "    # build a file name for the model weights containing current timestamp and the model class\n",
    "    wandb_run_name = wandb.run.name\n",
    "\n",
    "    training_timestamp = time.strftime(\"%Y-%m-%d_%H-%M\")\n",
    "    persist_model_hook = PersistBestModelOnEpochEndHook(f\"models/{wandb_run_name}.pth\")\n",
    "    trainer.add_epoch_end_hook(persist_model_hook) # TODO uncomment this line to save the best model\n",
    "\n",
    "    #print(\"First train 2 epochs 2 batches to check if everything works - you can comment these two lines after the code has stabilized...\")\n",
    "    #trainer.train(num_epochs=2, num_batches=NumBatches.TWO_FOR_INITIAL_TESTING)\n",
    "    \n",
    "    print(\"Now train train train\")\n",
    "    trainer.train(num_epochs=cfg.epochs)\n",
    "    wandb.finish()\n",
    "    print(\"Finished training\")"
   ]
  },
  {
   "cell_type": "code",
   "execution_count": 8,
   "metadata": {},
   "outputs": [],
   "source": [
    "cfg = Config(\n",
    "    batch_size=16,\n",
    "    epochs=30,\n",
    "    lr=0.001,\n",
    "    lr_schedule_factor=0.1,\n",
    "    lr_schedule_patience=5,\n",
    "    p_gaussblur=5,\n",
    "    p_equalize=0.0,\n",
    "    p_clahe=0.5,\n",
    "    p_horizontalflip=0.5,\n",
    "    rotation=15,\n",
    "    p_affine=0.3,\n",
    "    loss_weight=0.5,\n",
    "    resampling_strategy='oversampling',\n",
    "    model=\"ShuffleNet\",\n",
    "    tmax=9,\n",
    "    min_lr=1e-6\n",
    ")"
   ]
  },
  {
   "cell_type": "code",
   "execution_count": 9,
   "metadata": {},
   "outputs": [
    {
     "data": {
      "text/html": [
       "wandb version 0.17.5 is available!  To upgrade, please run:\n",
       " $ pip install wandb --upgrade"
      ],
      "text/plain": [
       "<IPython.core.display.HTML object>"
      ]
     },
     "metadata": {},
     "output_type": "display_data"
    },
    {
     "data": {
      "text/html": [
       "Tracking run with wandb version 0.17.0"
      ],
      "text/plain": [
       "<IPython.core.display.HTML object>"
      ]
     },
     "metadata": {},
     "output_type": "display_data"
    },
    {
     "data": {
      "text/html": [
       "Run data is saved locally in <code>/home/optima/mhaderer/AILS-MICCAI-UWF4DR-Challenge/wandb/run-20240730_165647-vrt22quc</code>"
      ],
      "text/plain": [
       "<IPython.core.display.HTML object>"
      ]
     },
     "metadata": {},
     "output_type": "display_data"
    },
    {
     "data": {
      "text/html": [
       "Syncing run <strong><a href='https://wandb.ai/miccai-challenge-2024/task2/runs/vrt22quc' target=\"_blank\">astral-frost-117</a></strong> to <a href='https://wandb.ai/miccai-challenge-2024/task2' target=\"_blank\">Weights & Biases</a> (<a href='https://wandb.me/run' target=\"_blank\">docs</a>)<br/>"
      ],
      "text/plain": [
       "<IPython.core.display.HTML object>"
      ]
     },
     "metadata": {},
     "output_type": "display_data"
    },
    {
     "data": {
      "text/html": [
       " View project at <a href='https://wandb.ai/miccai-challenge-2024/task2' target=\"_blank\">https://wandb.ai/miccai-challenge-2024/task2</a>"
      ],
      "text/plain": [
       "<IPython.core.display.HTML object>"
      ]
     },
     "metadata": {},
     "output_type": "display_data"
    },
    {
     "data": {
      "text/html": [
       " View run at <a href='https://wandb.ai/miccai-challenge-2024/task2/runs/vrt22quc' target=\"_blank\">https://wandb.ai/miccai-challenge-2024/task2/runs/vrt22quc</a>"
      ],
      "text/plain": [
       "<IPython.core.display.HTML object>"
      ]
     },
     "metadata": {},
     "output_type": "display_data"
    },
    {
     "name": "stdout",
     "output_type": "stream",
     "text": [
      "Using device: cuda\n"
     ]
    },
    {
     "name": "stderr",
     "output_type": "stream",
     "text": [
      "Using cache found in /home/optima/mhaderer/.cache/torch/hub/pytorch_vision_v0.10.0\n"
     ]
    },
    {
     "name": "stdout",
     "output_type": "stream",
     "text": [
      "Now train train train\n"
     ]
    },
    {
     "name": "stderr",
     "output_type": "stream",
     "text": [
      "Epoch 1/30 - Avg train Loss: 0.402331: 100%|████| 25/25 [01:05<00:00,  2.63s/it]\n",
      "Epoch 1/30 - Avg val Loss: 0.385563: 100%|████████| 7/7 [00:10<00:00,  1.46s/it]\n"
     ]
    },
    {
     "name": "stdout",
     "output_type": "stream",
     "text": [
      "New best weights found at epoch 1 with validation loss: 0.3856. Model saved to models/astral-frost-117.pth\n",
      "Epoch 1/30 Summary : Train Loss: 0.4023, Val Loss: 0.3856, LR: 9.70e-04, auroc: 0.8744, auprc: 0.8729, accuracy: 0.5000, sensitivity: 0.8600, specificity: 0.8200, avg_train_loss: 0.4023, avg_val_loss: 0.3856\n"
     ]
    },
    {
     "name": "stderr",
     "output_type": "stream",
     "text": [
      "Epoch 2/30 - Avg train Loss: 0.356103: 100%|████| 25/25 [01:01<00:00,  2.45s/it]\n",
      "Epoch 2/30 - Avg val Loss: 0.342011: 100%|████████| 7/7 [00:09<00:00,  1.35s/it]\n"
     ]
    },
    {
     "name": "stdout",
     "output_type": "stream",
     "text": [
      "New best weights found at epoch 2 with validation loss: 0.3420. Model saved to models/astral-frost-117.pth\n",
      "Epoch 2/30 Summary : Train Loss: 0.3561, Val Loss: 0.3420, LR: 8.83e-04, auroc: 0.8680, auprc: 0.9227, accuracy: 0.5000, sensitivity: 0.8000, specificity: 1.0000, avg_train_loss: 0.3561, avg_val_loss: 0.3420\n"
     ]
    },
    {
     "name": "stderr",
     "output_type": "stream",
     "text": [
      "Epoch 3/30 - Avg train Loss: 0.321999: 100%|████| 25/25 [01:04<00:00,  2.58s/it]\n",
      "Epoch 3/30 - Avg val Loss: 0.363817: 100%|████████| 7/7 [00:07<00:00,  1.02s/it]\n"
     ]
    },
    {
     "name": "stdout",
     "output_type": "stream",
     "text": [
      "Epoch 3/30 Summary : Train Loss: 0.3220, Val Loss: 0.3638, LR: 7.50e-04, auroc: 0.9700, auprc: 0.9729, accuracy: 0.8400, sensitivity: 0.8200, specificity: 1.0000, avg_train_loss: 0.3220, avg_val_loss: 0.3638\n"
     ]
    },
    {
     "name": "stderr",
     "output_type": "stream",
     "text": [
      "Epoch 4/30 - Avg train Loss: 0.315363: 100%|████| 25/25 [01:04<00:00,  2.60s/it]\n",
      "Epoch 4/30 - Avg val Loss: 0.275561: 100%|████████| 7/7 [00:06<00:00,  1.08it/s]\n"
     ]
    },
    {
     "name": "stdout",
     "output_type": "stream",
     "text": [
      "New best weights found at epoch 4 with validation loss: 0.2756. Model saved to models/astral-frost-117.pth\n",
      "Epoch 4/30 Summary : Train Loss: 0.3154, Val Loss: 0.2756, LR: 5.87e-04, auroc: 0.9932, auprc: 0.9946, accuracy: 0.9600, sensitivity: 0.9600, specificity: 1.0000, avg_train_loss: 0.3154, avg_val_loss: 0.2756\n"
     ]
    },
    {
     "name": "stderr",
     "output_type": "stream",
     "text": [
      "Epoch 5/30 - Avg train Loss: 0.278039: 100%|████| 25/25 [01:09<00:00,  2.79s/it]\n",
      "Epoch 5/30 - Avg val Loss: 0.316538: 100%|████████| 7/7 [00:06<00:00,  1.10it/s]\n"
     ]
    },
    {
     "name": "stdout",
     "output_type": "stream",
     "text": [
      "Epoch 5/30 Summary : Train Loss: 0.2780, Val Loss: 0.3165, LR: 4.14e-04, auroc: 0.9892, auprc: 0.9908, accuracy: 0.9400, sensitivity: 0.9400, specificity: 1.0000, avg_train_loss: 0.2780, avg_val_loss: 0.3165\n"
     ]
    },
    {
     "name": "stderr",
     "output_type": "stream",
     "text": [
      "Epoch 6/30 - Avg train Loss: 0.259485: 100%|████| 25/25 [01:06<00:00,  2.64s/it]\n",
      "Epoch 6/30 - Avg val Loss: 0.286773: 100%|████████| 7/7 [00:06<00:00,  1.01it/s]\n"
     ]
    },
    {
     "name": "stdout",
     "output_type": "stream",
     "text": [
      "Epoch 6/30 Summary : Train Loss: 0.2595, Val Loss: 0.2868, LR: 2.51e-04, auroc: 0.9824, auprc: 0.9846, accuracy: 0.9400, sensitivity: 0.8800, specificity: 1.0000, avg_train_loss: 0.2595, avg_val_loss: 0.2868\n"
     ]
    },
    {
     "name": "stderr",
     "output_type": "stream",
     "text": [
      "Epoch 7/30 - Avg train Loss: 0.253689: 100%|████| 25/25 [01:06<00:00,  2.67s/it]\n",
      "Epoch 7/30 - Avg val Loss: 0.305931: 100%|████████| 7/7 [00:08<00:00,  1.15s/it]\n"
     ]
    },
    {
     "name": "stdout",
     "output_type": "stream",
     "text": [
      "Epoch 7/30 Summary : Train Loss: 0.2537, Val Loss: 0.3059, LR: 1.18e-04, auroc: 0.9720, auprc: 0.9755, accuracy: 0.9200, sensitivity: 0.8400, specificity: 1.0000, avg_train_loss: 0.2537, avg_val_loss: 0.3059\n"
     ]
    },
    {
     "name": "stderr",
     "output_type": "stream",
     "text": [
      "Epoch 8/30 - Avg train Loss: 0.247033: 100%|████| 25/25 [01:06<00:00,  2.67s/it]\n",
      "Epoch 8/30 - Avg val Loss: 0.293251: 100%|████████| 7/7 [00:07<00:00,  1.08s/it]\n"
     ]
    },
    {
     "name": "stdout",
     "output_type": "stream",
     "text": [
      "Epoch 8/30 Summary : Train Loss: 0.2470, Val Loss: 0.2933, LR: 3.11e-05, auroc: 0.9720, auprc: 0.9757, accuracy: 0.8300, sensitivity: 0.8600, specificity: 1.0000, avg_train_loss: 0.2470, avg_val_loss: 0.2933\n"
     ]
    },
    {
     "name": "stderr",
     "output_type": "stream",
     "text": [
      "Epoch 9/30 - Avg train Loss: 0.237520: 100%|████| 25/25 [01:08<00:00,  2.73s/it]\n",
      "Epoch 9/30 - Avg val Loss: 0.304928: 100%|████████| 7/7 [00:08<00:00,  1.21s/it]\n"
     ]
    },
    {
     "name": "stdout",
     "output_type": "stream",
     "text": [
      "Epoch 9/30 Summary : Train Loss: 0.2375, Val Loss: 0.3049, LR: 1.00e-06, auroc: 0.9524, auprc: 0.9620, accuracy: 0.8400, sensitivity: 0.8200, specificity: 1.0000, avg_train_loss: 0.2375, avg_val_loss: 0.3049\n"
     ]
    },
    {
     "name": "stderr",
     "output_type": "stream",
     "text": [
      "Epoch 10/30 - Avg train Loss: 0.241493: 100%|███| 25/25 [01:08<00:00,  2.73s/it]\n",
      "Epoch 10/30 - Avg val Loss: 0.277939: 100%|███████| 7/7 [00:07<00:00,  1.12s/it]\n"
     ]
    },
    {
     "name": "stdout",
     "output_type": "stream",
     "text": [
      "Epoch 10/30 Summary : Train Loss: 0.2415, Val Loss: 0.2779, LR: 3.11e-05, auroc: 0.9820, auprc: 0.9845, accuracy: 0.8600, sensitivity: 0.9000, specificity: 1.0000, avg_train_loss: 0.2415, avg_val_loss: 0.2779\n"
     ]
    },
    {
     "name": "stderr",
     "output_type": "stream",
     "text": [
      "Epoch 11/30 - Avg train Loss: 0.246118: 100%|███| 25/25 [01:14<00:00,  2.97s/it]\n",
      "Epoch 11/30 - Avg val Loss: 0.266413: 100%|███████| 7/7 [00:08<00:00,  1.24s/it]\n"
     ]
    },
    {
     "name": "stdout",
     "output_type": "stream",
     "text": [
      "New best weights found at epoch 11 with validation loss: 0.2664. Model saved to models/astral-frost-117.pth\n",
      "Epoch 11/30 Summary : Train Loss: 0.2461, Val Loss: 0.2664, LR: 1.18e-04, auroc: 0.9760, auprc: 0.9827, accuracy: 0.8400, sensitivity: 0.9400, specificity: 1.0000, avg_train_loss: 0.2461, avg_val_loss: 0.2664\n"
     ]
    },
    {
     "name": "stderr",
     "output_type": "stream",
     "text": [
      "Epoch 12/30 - Avg train Loss: 0.241266: 100%|███| 25/25 [01:15<00:00,  3.01s/it]\n",
      "Epoch 12/30 - Avg val Loss: 0.254002: 100%|███████| 7/7 [00:07<00:00,  1.10s/it]\n"
     ]
    },
    {
     "name": "stdout",
     "output_type": "stream",
     "text": [
      "New best weights found at epoch 12 with validation loss: 0.2540. Model saved to models/astral-frost-117.pth\n",
      "Epoch 12/30 Summary : Train Loss: 0.2413, Val Loss: 0.2540, LR: 2.51e-04, auroc: 0.9808, auprc: 0.9870, accuracy: 0.8700, sensitivity: 0.9600, specificity: 1.0000, avg_train_loss: 0.2413, avg_val_loss: 0.2540\n"
     ]
    },
    {
     "name": "stderr",
     "output_type": "stream",
     "text": [
      "Epoch 13/30 - Avg train Loss: 0.240410: 100%|███| 25/25 [01:15<00:00,  3.03s/it]\n",
      "Epoch 13/30 - Avg val Loss: 0.261489: 100%|███████| 7/7 [00:08<00:00,  1.16s/it]\n"
     ]
    },
    {
     "name": "stdout",
     "output_type": "stream",
     "text": [
      "Epoch 13/30 Summary : Train Loss: 0.2404, Val Loss: 0.2615, LR: 4.14e-04, auroc: 0.9868, auprc: 0.9892, accuracy: 0.8600, sensitivity: 0.9400, specificity: 1.0000, avg_train_loss: 0.2404, avg_val_loss: 0.2615\n"
     ]
    },
    {
     "name": "stderr",
     "output_type": "stream",
     "text": [
      "Epoch 14/30 - Avg train Loss: 0.247896: 100%|███| 25/25 [01:14<00:00,  3.00s/it]\n",
      "Epoch 14/30 - Avg val Loss: 0.280367: 100%|███████| 7/7 [00:07<00:00,  1.06s/it]\n"
     ]
    },
    {
     "name": "stdout",
     "output_type": "stream",
     "text": [
      "Epoch 14/30 Summary : Train Loss: 0.2479, Val Loss: 0.2804, LR: 5.87e-04, auroc: 0.9792, auprc: 0.9833, accuracy: 0.8700, sensitivity: 0.9200, specificity: 1.0000, avg_train_loss: 0.2479, avg_val_loss: 0.2804\n"
     ]
    },
    {
     "name": "stderr",
     "output_type": "stream",
     "text": [
      "Epoch 15/30 - Avg train Loss: 0.242824: 100%|███| 25/25 [01:09<00:00,  2.79s/it]\n",
      "Epoch 15/30 - Avg val Loss: 0.290603: 100%|███████| 7/7 [00:06<00:00,  1.15it/s]\n"
     ]
    },
    {
     "name": "stdout",
     "output_type": "stream",
     "text": [
      "Epoch 15/30 Summary : Train Loss: 0.2428, Val Loss: 0.2906, LR: 7.50e-04, auroc: 0.9920, auprc: 0.9933, accuracy: 0.9400, sensitivity: 0.9600, specificity: 1.0000, avg_train_loss: 0.2428, avg_val_loss: 0.2906\n"
     ]
    },
    {
     "name": "stderr",
     "output_type": "stream",
     "text": [
      "Epoch 16/30 - Avg train Loss: 0.249109: 100%|███| 25/25 [01:13<00:00,  2.92s/it]\n",
      "Epoch 16/30 - Avg val Loss: 0.296433: 100%|███████| 7/7 [00:07<00:00,  1.01s/it]\n"
     ]
    },
    {
     "name": "stdout",
     "output_type": "stream",
     "text": [
      "Epoch 16/30 Summary : Train Loss: 0.2491, Val Loss: 0.2964, LR: 8.83e-04, auroc: 0.9500, auprc: 0.9667, accuracy: 0.9500, sensitivity: 0.9000, specificity: 1.0000, avg_train_loss: 0.2491, avg_val_loss: 0.2964\n"
     ]
    },
    {
     "name": "stderr",
     "output_type": "stream",
     "text": [
      "Epoch 17/30 - Avg train Loss: 0.240986: 100%|███| 25/25 [01:11<00:00,  2.85s/it]\n",
      "Epoch 17/30 - Avg val Loss: 0.381148: 100%|███████| 7/7 [00:07<00:00,  1.13s/it]\n"
     ]
    },
    {
     "name": "stdout",
     "output_type": "stream",
     "text": [
      "Epoch 17/30 Summary : Train Loss: 0.2410, Val Loss: 0.3811, LR: 9.70e-04, auroc: 0.9252, auprc: 0.9416, accuracy: 0.8900, sensitivity: 0.7800, specificity: 1.0000, avg_train_loss: 0.2410, avg_val_loss: 0.3811\n"
     ]
    },
    {
     "name": "stderr",
     "output_type": "stream",
     "text": [
      "Epoch 18/30 - Avg train Loss: 0.238230: 100%|███| 25/25 [01:13<00:00,  2.94s/it]\n",
      "Epoch 18/30 - Avg val Loss: 0.345926: 100%|███████| 7/7 [00:07<00:00,  1.07s/it]\n"
     ]
    },
    {
     "name": "stdout",
     "output_type": "stream",
     "text": [
      "Epoch 18/30 Summary : Train Loss: 0.2382, Val Loss: 0.3459, LR: 1.00e-03, auroc: 0.9140, auprc: 0.9538, accuracy: 0.8700, sensitivity: 0.9000, specificity: 1.0000, avg_train_loss: 0.2382, avg_val_loss: 0.3459\n"
     ]
    },
    {
     "name": "stderr",
     "output_type": "stream",
     "text": [
      "Epoch 19/30 - Avg train Loss: 0.242073: 100%|███| 25/25 [01:10<00:00,  2.80s/it]\n",
      "Epoch 19/30 - Avg val Loss: 0.250170: 100%|███████| 7/7 [00:07<00:00,  1.03s/it]\n"
     ]
    },
    {
     "name": "stdout",
     "output_type": "stream",
     "text": [
      "New best weights found at epoch 19 with validation loss: 0.2502. Model saved to models/astral-frost-117.pth\n",
      "Epoch 19/30 Summary : Train Loss: 0.2421, Val Loss: 0.2502, LR: 9.70e-04, auroc: 0.9808, auprc: 0.9855, accuracy: 0.9700, sensitivity: 0.9400, specificity: 1.0000, avg_train_loss: 0.2421, avg_val_loss: 0.2502\n"
     ]
    },
    {
     "name": "stderr",
     "output_type": "stream",
     "text": [
      "Epoch 20/30 - Avg train Loss: 0.239151: 100%|███| 25/25 [01:07<00:00,  2.69s/it]\n",
      "Epoch 20/30 - Avg val Loss: 0.342043: 100%|███████| 7/7 [00:07<00:00,  1.01s/it]\n"
     ]
    },
    {
     "name": "stdout",
     "output_type": "stream",
     "text": [
      "Epoch 20/30 Summary : Train Loss: 0.2392, Val Loss: 0.3420, LR: 8.83e-04, auroc: 0.9000, auprc: 0.9401, accuracy: 0.9200, sensitivity: 0.8400, specificity: 1.0000, avg_train_loss: 0.2392, avg_val_loss: 0.3420\n"
     ]
    },
    {
     "name": "stderr",
     "output_type": "stream",
     "text": [
      "Epoch 21/30 - Avg train Loss: 0.235312: 100%|███| 25/25 [01:08<00:00,  2.72s/it]\n",
      "Epoch 21/30 - Avg val Loss: 0.274334: 100%|███████| 7/7 [00:06<00:00,  1.04it/s]\n"
     ]
    },
    {
     "name": "stdout",
     "output_type": "stream",
     "text": [
      "Epoch 21/30 Summary : Train Loss: 0.2353, Val Loss: 0.2743, LR: 7.50e-04, auroc: 0.9856, auprc: 0.9916, accuracy: 0.9300, sensitivity: 0.9800, specificity: 1.0000, avg_train_loss: 0.2353, avg_val_loss: 0.2743\n"
     ]
    },
    {
     "name": "stderr",
     "output_type": "stream",
     "text": [
      "Epoch 22/30 - Avg train Loss: 0.233532: 100%|███| 25/25 [01:07<00:00,  2.68s/it]\n",
      "Epoch 22/30 - Avg val Loss: 0.253529: 100%|███████| 7/7 [00:05<00:00,  1.22it/s]\n"
     ]
    },
    {
     "name": "stdout",
     "output_type": "stream",
     "text": [
      "Epoch 22/30 Summary : Train Loss: 0.2335, Val Loss: 0.2535, LR: 5.87e-04, auroc: 0.9440, auprc: 0.9668, accuracy: 0.9600, sensitivity: 0.9200, specificity: 1.0000, avg_train_loss: 0.2335, avg_val_loss: 0.2535\n"
     ]
    },
    {
     "name": "stderr",
     "output_type": "stream",
     "text": [
      "Epoch 23/30 - Avg train Loss: 0.229271: 100%|███| 25/25 [01:07<00:00,  2.69s/it]\n",
      "Epoch 23/30 - Avg val Loss: 0.252486: 100%|███████| 7/7 [00:06<00:00,  1.10it/s]\n"
     ]
    },
    {
     "name": "stdout",
     "output_type": "stream",
     "text": [
      "Epoch 23/30 Summary : Train Loss: 0.2293, Val Loss: 0.2525, LR: 4.14e-04, auroc: 1.0000, auprc: 1.0000, accuracy: 0.9500, sensitivity: 1.0000, specificity: 1.0000, avg_train_loss: 0.2293, avg_val_loss: 0.2525\n"
     ]
    },
    {
     "name": "stderr",
     "output_type": "stream",
     "text": [
      "Epoch 24/30 - Avg train Loss: 0.230995: 100%|███| 25/25 [01:11<00:00,  2.86s/it]\n",
      "Epoch 24/30 - Avg val Loss: 0.259444: 100%|███████| 7/7 [00:07<00:00,  1.13s/it]\n"
     ]
    },
    {
     "name": "stdout",
     "output_type": "stream",
     "text": [
      "Epoch 24/30 Summary : Train Loss: 0.2310, Val Loss: 0.2594, LR: 2.51e-04, auroc: 1.0000, auprc: 1.0000, accuracy: 0.9500, sensitivity: 1.0000, specificity: 1.0000, avg_train_loss: 0.2310, avg_val_loss: 0.2594\n"
     ]
    },
    {
     "name": "stderr",
     "output_type": "stream",
     "text": [
      "Epoch 25/30 - Avg train Loss: 0.227519: 100%|███| 25/25 [01:07<00:00,  2.69s/it]\n",
      "Epoch 25/30 - Avg val Loss: 0.232841: 100%|███████| 7/7 [00:07<00:00,  1.01s/it]\n"
     ]
    },
    {
     "name": "stdout",
     "output_type": "stream",
     "text": [
      "New best weights found at epoch 25 with validation loss: 0.2328. Model saved to models/astral-frost-117.pth\n",
      "Epoch 25/30 Summary : Train Loss: 0.2275, Val Loss: 0.2328, LR: 1.18e-04, auroc: 1.0000, auprc: 1.0000, accuracy: 1.0000, sensitivity: 1.0000, specificity: 1.0000, avg_train_loss: 0.2275, avg_val_loss: 0.2328\n"
     ]
    },
    {
     "name": "stderr",
     "output_type": "stream",
     "text": [
      "Epoch 26/30 - Avg train Loss: 0.226123: 100%|███| 25/25 [01:09<00:00,  2.77s/it]\n",
      "Epoch 26/30 - Avg val Loss: 0.236841: 100%|███████| 7/7 [00:06<00:00,  1.01it/s]\n"
     ]
    },
    {
     "name": "stdout",
     "output_type": "stream",
     "text": [
      "Epoch 26/30 Summary : Train Loss: 0.2261, Val Loss: 0.2368, LR: 3.11e-05, auroc: 1.0000, auprc: 1.0000, accuracy: 1.0000, sensitivity: 1.0000, specificity: 1.0000, avg_train_loss: 0.2261, avg_val_loss: 0.2368\n"
     ]
    },
    {
     "name": "stderr",
     "output_type": "stream",
     "text": [
      "Epoch 27/30 - Avg train Loss: 0.228335: 100%|███| 25/25 [01:14<00:00,  3.00s/it]\n",
      "Epoch 27/30 - Avg val Loss: 0.225137: 100%|███████| 7/7 [00:07<00:00,  1.02s/it]\n"
     ]
    },
    {
     "name": "stdout",
     "output_type": "stream",
     "text": [
      "New best weights found at epoch 27 with validation loss: 0.2251. Model saved to models/astral-frost-117.pth\n",
      "Epoch 27/30 Summary : Train Loss: 0.2283, Val Loss: 0.2251, LR: 1.00e-06, auroc: 1.0000, auprc: 1.0000, accuracy: 1.0000, sensitivity: 1.0000, specificity: 1.0000, avg_train_loss: 0.2283, avg_val_loss: 0.2251\n"
     ]
    },
    {
     "name": "stderr",
     "output_type": "stream",
     "text": [
      "Epoch 28/30 - Avg train Loss: 0.229235: 100%|███| 25/25 [01:20<00:00,  3.23s/it]\n",
      "Epoch 28/30 - Avg val Loss: 0.223433: 100%|███████| 7/7 [00:06<00:00,  1.15it/s]\n"
     ]
    },
    {
     "name": "stdout",
     "output_type": "stream",
     "text": [
      "New best weights found at epoch 28 with validation loss: 0.2234. Model saved to models/astral-frost-117.pth\n",
      "Epoch 28/30 Summary : Train Loss: 0.2292, Val Loss: 0.2234, LR: 3.11e-05, auroc: 1.0000, auprc: 1.0000, accuracy: 1.0000, sensitivity: 1.0000, specificity: 1.0000, avg_train_loss: 0.2292, avg_val_loss: 0.2234\n"
     ]
    },
    {
     "name": "stderr",
     "output_type": "stream",
     "text": [
      "Epoch 29/30 - Avg train Loss: 0.227096: 100%|███| 25/25 [01:09<00:00,  2.80s/it]\n",
      "Epoch 29/30 - Avg val Loss: 0.220898: 100%|███████| 7/7 [00:05<00:00,  1.25it/s]\n"
     ]
    },
    {
     "name": "stdout",
     "output_type": "stream",
     "text": [
      "New best weights found at epoch 29 with validation loss: 0.2209. Model saved to models/astral-frost-117.pth\n",
      "Epoch 29/30 Summary : Train Loss: 0.2271, Val Loss: 0.2209, LR: 1.18e-04, auroc: 1.0000, auprc: 1.0000, accuracy: 1.0000, sensitivity: 1.0000, specificity: 1.0000, avg_train_loss: 0.2271, avg_val_loss: 0.2209\n"
     ]
    },
    {
     "name": "stderr",
     "output_type": "stream",
     "text": [
      "Epoch 30/30 - Avg train Loss: 0.225957: 100%|███| 25/25 [01:12<00:00,  2.90s/it]\n",
      "Epoch 30/30 - Avg val Loss: 0.221160: 100%|███████| 7/7 [00:05<00:00,  1.29it/s]\n"
     ]
    },
    {
     "name": "stdout",
     "output_type": "stream",
     "text": [
      "Epoch 30/30 Summary : Train Loss: 0.2260, Val Loss: 0.2212, LR: 2.51e-04, auroc: 1.0000, auprc: 1.0000, accuracy: 1.0000, sensitivity: 1.0000, specificity: 1.0000, avg_train_loss: 0.2260, avg_val_loss: 0.2212\n"
     ]
    },
    {
     "data": {
      "application/vnd.jupyter.widget-view+json": {
       "model_id": "54aaf236db904f4e89f2067010c091ad",
       "version_major": 2,
       "version_minor": 0
      },
      "text/plain": [
       "VBox(children=(Label(value='0.008 MB of 0.008 MB uploaded\\r'), FloatProgress(value=1.0, max=1.0)))"
      ]
     },
     "metadata": {},
     "output_type": "display_data"
    },
    {
     "data": {
      "text/html": [
       "<style>\n",
       "    table.wandb td:nth-child(1) { padding: 0 10px; text-align: left ; width: auto;} td:nth-child(2) {text-align: left ; width: 100%}\n",
       "    .wandb-row { display: flex; flex-direction: row; flex-wrap: wrap; justify-content: flex-start; width: 100% }\n",
       "    .wandb-col { display: flex; flex-direction: column; flex-basis: 100%; flex: 1; padding: 10px; }\n",
       "    </style>\n",
       "<div class=\"wandb-row\"><div class=\"wandb-col\"><h3>Run history:</h3><br/><table class=\"wandb\"><tr><td>accuracy</td><td>▁▁▆▇▇▇▇▆▆▆▆▆▆▆▇▇▆▆█▇▇▇▇▇██████</td></tr><tr><td>auprc</td><td>▁▄▇█▇▇▇▇▆▇▇▇▇▇█▆▅▅▇▅█▆████████</td></tr><tr><td>auroc</td><td>▁▁▆█▇▇▇▇▅▇▇▇▇▇█▅▄▃▇▃▇▅████████</td></tr><tr><td>avg_train_loss</td><td>█▆▅▅▃▂▂▂▁▂▂▂▂▂▂▂▂▁▂▂▁▁▁▁▁▁▁▁▁▁</td></tr><tr><td>avg_val_loss</td><td>█▆▇▃▅▄▅▄▅▃▃▂▃▄▄▄█▆▂▆▃▂▂▃▂▂▁▁▁▁</td></tr><tr><td>sensitivity</td><td>▄▂▂▇▆▄▃▄▂▅▆▇▆▅▇▅▁▅▆▃▇▅████████</td></tr><tr><td>specificity</td><td>▁█████████████████████████████</td></tr></table><br/></div><div class=\"wandb-col\"><h3>Run summary:</h3><br/><table class=\"wandb\"><tr><td>accuracy</td><td>1.0</td></tr><tr><td>auprc</td><td>1.0</td></tr><tr><td>auroc</td><td>1.0</td></tr><tr><td>avg_train_loss</td><td>0.22596</td></tr><tr><td>avg_val_loss</td><td>0.22116</td></tr><tr><td>sensitivity</td><td>1.0</td></tr><tr><td>specificity</td><td>1.0</td></tr></table><br/></div></div>"
      ],
      "text/plain": [
       "<IPython.core.display.HTML object>"
      ]
     },
     "metadata": {},
     "output_type": "display_data"
    },
    {
     "data": {
      "text/html": [
       " View run <strong style=\"color:#cdcd00\">astral-frost-117</strong> at: <a href='https://wandb.ai/miccai-challenge-2024/task2/runs/vrt22quc' target=\"_blank\">https://wandb.ai/miccai-challenge-2024/task2/runs/vrt22quc</a><br/> View project at: <a href='https://wandb.ai/miccai-challenge-2024/task2' target=\"_blank\">https://wandb.ai/miccai-challenge-2024/task2</a><br/>Synced 6 W&B file(s), 0 media file(s), 0 artifact file(s) and 0 other file(s)"
      ],
      "text/plain": [
       "<IPython.core.display.HTML object>"
      ]
     },
     "metadata": {},
     "output_type": "display_data"
    },
    {
     "data": {
      "text/html": [
       "Find logs at: <code>./wandb/run-20240730_165647-vrt22quc/logs</code>"
      ],
      "text/plain": [
       "<IPython.core.display.HTML object>"
      ]
     },
     "metadata": {},
     "output_type": "display_data"
    },
    {
     "name": "stdout",
     "output_type": "stream",
     "text": [
      "Finished training\n"
     ]
    }
   ],
   "source": [
    "train_model(cfg)"
   ]
  },
  {
   "cell_type": "markdown",
   "metadata": {},
   "source": [
    "## SWEEP"
   ]
  },
  {
   "cell_type": "code",
   "execution_count": 10,
   "metadata": {},
   "outputs": [
    {
     "name": "stderr",
     "output_type": "stream",
     "text": [
      "INFO:wandb.agents.pyagent:Starting sweep agent: entity=None, project=None, count=None\n"
     ]
    },
    {
     "name": "stdout",
     "output_type": "stream",
     "text": [
      "Create sweep with ID: qrlfmohp\n",
      "Sweep URL: https://wandb.ai/miccai-challenge-2024/task2/sweeps/qrlfmohp\n"
     ]
    },
    {
     "name": "stderr",
     "output_type": "stream",
     "text": [
      "\u001b[34m\u001b[1mwandb\u001b[0m: Agent Starting Run: i6ndxryw with config:\n",
      "\u001b[34m\u001b[1mwandb\u001b[0m: \tbatch_size: 32\n",
      "\u001b[34m\u001b[1mwandb\u001b[0m: \tepochs: 40\n",
      "\u001b[34m\u001b[1mwandb\u001b[0m: \tloss_weight: 0.5\n",
      "\u001b[34m\u001b[1mwandb\u001b[0m: \tlr: 0.001\n",
      "\u001b[34m\u001b[1mwandb\u001b[0m: \tmin_lr: 1e-06\n",
      "\u001b[34m\u001b[1mwandb\u001b[0m: \tmodel: ShuffleNet\n",
      "\u001b[34m\u001b[1mwandb\u001b[0m: \tp_affine: 0.3\n",
      "\u001b[34m\u001b[1mwandb\u001b[0m: \tp_clahe: 0.5\n",
      "\u001b[34m\u001b[1mwandb\u001b[0m: \tp_equalize: 0.5\n",
      "\u001b[34m\u001b[1mwandb\u001b[0m: \tp_gaussblur: 0.5\n",
      "\u001b[34m\u001b[1mwandb\u001b[0m: \tp_horizontalflip: 0.5\n",
      "\u001b[34m\u001b[1mwandb\u001b[0m: \tresampling_strategy: oversampling\n",
      "\u001b[34m\u001b[1mwandb\u001b[0m: \trotation: 10\n",
      "\u001b[34m\u001b[1mwandb\u001b[0m: \ttmax: 9\n",
      "\u001b[34m\u001b[1mwandb\u001b[0m: \u001b[33mWARNING\u001b[0m Ignored wandb.init() arg project when running a sweep.\n"
     ]
    },
    {
     "data": {
      "text/html": [
       "wandb version 0.17.5 is available!  To upgrade, please run:\n",
       " $ pip install wandb --upgrade"
      ],
      "text/plain": [
       "<IPython.core.display.HTML object>"
      ]
     },
     "metadata": {},
     "output_type": "display_data"
    },
    {
     "data": {
      "text/html": [
       "Tracking run with wandb version 0.17.0"
      ],
      "text/plain": [
       "<IPython.core.display.HTML object>"
      ]
     },
     "metadata": {},
     "output_type": "display_data"
    },
    {
     "data": {
      "text/html": [
       "Run data is saved locally in <code>/home/optima/mhaderer/AILS-MICCAI-UWF4DR-Challenge/wandb/run-20240730_153201-i6ndxryw</code>"
      ],
      "text/plain": [
       "<IPython.core.display.HTML object>"
      ]
     },
     "metadata": {},
     "output_type": "display_data"
    },
    {
     "data": {
      "text/html": [
       "Syncing run <strong><a href='https://wandb.ai/miccai-challenge-2024/task2/runs/i6ndxryw' target=\"_blank\">crimson-sweep-1</a></strong> to <a href='https://wandb.ai/miccai-challenge-2024/task2' target=\"_blank\">Weights & Biases</a> (<a href='https://wandb.me/run' target=\"_blank\">docs</a>)<br/>Sweep page: <a href='https://wandb.ai/miccai-challenge-2024/task2/sweeps/qrlfmohp' target=\"_blank\">https://wandb.ai/miccai-challenge-2024/task2/sweeps/qrlfmohp</a>"
      ],
      "text/plain": [
       "<IPython.core.display.HTML object>"
      ]
     },
     "metadata": {},
     "output_type": "display_data"
    },
    {
     "data": {
      "text/html": [
       " View project at <a href='https://wandb.ai/miccai-challenge-2024/task2' target=\"_blank\">https://wandb.ai/miccai-challenge-2024/task2</a>"
      ],
      "text/plain": [
       "<IPython.core.display.HTML object>"
      ]
     },
     "metadata": {},
     "output_type": "display_data"
    },
    {
     "data": {
      "text/html": [
       " View sweep at <a href='https://wandb.ai/miccai-challenge-2024/task2/sweeps/qrlfmohp' target=\"_blank\">https://wandb.ai/miccai-challenge-2024/task2/sweeps/qrlfmohp</a>"
      ],
      "text/plain": [
       "<IPython.core.display.HTML object>"
      ]
     },
     "metadata": {},
     "output_type": "display_data"
    },
    {
     "data": {
      "text/html": [
       " View run at <a href='https://wandb.ai/miccai-challenge-2024/task2/runs/i6ndxryw' target=\"_blank\">https://wandb.ai/miccai-challenge-2024/task2/runs/i6ndxryw</a>"
      ],
      "text/plain": [
       "<IPython.core.display.HTML object>"
      ]
     },
     "metadata": {},
     "output_type": "display_data"
    },
    {
     "name": "stdout",
     "output_type": "stream",
     "text": [
      "Using device: cuda\n"
     ]
    },
    {
     "name": "stderr",
     "output_type": "stream",
     "text": [
      "Using cache found in /home/optima/mhaderer/.cache/torch/hub/pytorch_vision_v0.10.0\n"
     ]
    },
    {
     "name": "stdout",
     "output_type": "stream",
     "text": [
      "Now train train train\n"
     ]
    },
    {
     "name": "stderr",
     "output_type": "stream",
     "text": [
      "Epoch 1/40 - Avg train Loss: 0.425319: 100%|████| 13/13 [00:45<00:00,  3.47s/it]\n",
      "Epoch 1/40 - Avg val Loss: 0.366471: 100%|████████| 4/4 [00:09<00:00,  2.30s/it]\n"
     ]
    },
    {
     "name": "stdout",
     "output_type": "stream",
     "text": [
      "New best weights found at epoch 1 with validation loss: 0.3665. Model saved to models/crimson-sweep-1.pth\n",
      "Epoch 1/40 Summary : Train Loss: 0.4253, Val Loss: 0.3665, LR: 9.70e-04, auroc: 0.8776, auprc: 0.9084, accuracy: 0.5000, sensitivity: 0.7600, specificity: 0.9200, avg_train_loss: 0.4253, avg_val_loss: 0.3665\n"
     ]
    },
    {
     "name": "stderr",
     "output_type": "stream",
     "text": [
      "Epoch 2/40 - Avg train Loss: 0.382700: 100%|████| 13/13 [00:43<00:00,  3.38s/it]\n",
      "Epoch 2/40 - Avg val Loss: 0.461199: 100%|████████| 4/4 [00:09<00:00,  2.27s/it]\n"
     ]
    },
    {
     "name": "stdout",
     "output_type": "stream",
     "text": [
      "Epoch 2/40 Summary : Train Loss: 0.3827, Val Loss: 0.4612, LR: 8.83e-04, auroc: 0.9144, auprc: 0.9408, accuracy: 0.5000, sensitivity: 0.9400, specificity: 0.8200, avg_train_loss: 0.3827, avg_val_loss: 0.4612\n"
     ]
    },
    {
     "name": "stderr",
     "output_type": "stream",
     "text": [
      "Epoch 3/40 - Avg train Loss: 0.357409: 100%|████| 13/13 [00:41<00:00,  3.19s/it]\n",
      "Epoch 3/40 - Avg val Loss: 0.337773: 100%|████████| 4/4 [00:08<00:00,  2.13s/it]\n"
     ]
    },
    {
     "name": "stdout",
     "output_type": "stream",
     "text": [
      "New best weights found at epoch 3 with validation loss: 0.3378. Model saved to models/crimson-sweep-1.pth\n",
      "Epoch 3/40 Summary : Train Loss: 0.3574, Val Loss: 0.3378, LR: 7.50e-04, auroc: 0.9508, auprc: 0.9563, accuracy: 0.5000, sensitivity: 1.0000, specificity: 0.7800, avg_train_loss: 0.3574, avg_val_loss: 0.3378\n"
     ]
    },
    {
     "name": "stderr",
     "output_type": "stream",
     "text": [
      "Epoch 4/40 - Avg train Loss: 0.339155: 100%|████| 13/13 [00:39<00:00,  3.06s/it]\n",
      "Epoch 4/40 - Avg val Loss: 0.344151: 100%|████████| 4/4 [00:07<00:00,  1.85s/it]\n"
     ]
    },
    {
     "name": "stdout",
     "output_type": "stream",
     "text": [
      "Epoch 4/40 Summary : Train Loss: 0.3392, Val Loss: 0.3442, LR: 5.87e-04, auroc: 0.9720, auprc: 0.9731, accuracy: 0.5000, sensitivity: 0.9400, specificity: 0.9200, avg_train_loss: 0.3392, avg_val_loss: 0.3442\n"
     ]
    },
    {
     "name": "stderr",
     "output_type": "stream",
     "text": [
      "Epoch 5/40 - Avg train Loss: 0.314083: 100%|████| 13/13 [00:41<00:00,  3.18s/it]\n",
      "Epoch 5/40 - Avg val Loss: 0.295457: 100%|████████| 4/4 [00:07<00:00,  1.80s/it]\n"
     ]
    },
    {
     "name": "stdout",
     "output_type": "stream",
     "text": [
      "New best weights found at epoch 5 with validation loss: 0.2955. Model saved to models/crimson-sweep-1.pth\n",
      "Epoch 5/40 Summary : Train Loss: 0.3141, Val Loss: 0.2955, LR: 4.14e-04, auroc: 0.9792, auprc: 0.9796, accuracy: 0.7500, sensitivity: 1.0000, specificity: 0.9000, avg_train_loss: 0.3141, avg_val_loss: 0.2955\n"
     ]
    },
    {
     "name": "stderr",
     "output_type": "stream",
     "text": [
      "Epoch 6/40 - Avg train Loss: 0.298311: 100%|████| 13/13 [00:41<00:00,  3.18s/it]\n",
      "Epoch 6/40 - Avg val Loss: 0.290408: 100%|████████| 4/4 [00:07<00:00,  1.87s/it]\n"
     ]
    },
    {
     "name": "stdout",
     "output_type": "stream",
     "text": [
      "New best weights found at epoch 6 with validation loss: 0.2904. Model saved to models/crimson-sweep-1.pth\n",
      "Epoch 6/40 Summary : Train Loss: 0.2983, Val Loss: 0.2904, LR: 2.51e-04, auroc: 0.9840, auprc: 0.9838, accuracy: 0.8100, sensitivity: 1.0000, specificity: 0.9400, avg_train_loss: 0.2983, avg_val_loss: 0.2904\n"
     ]
    },
    {
     "name": "stderr",
     "output_type": "stream",
     "text": [
      "Epoch 7/40 - Avg train Loss: 0.282847: 100%|████| 13/13 [00:40<00:00,  3.13s/it]\n",
      "Epoch 7/40 - Avg val Loss: 0.279015: 100%|████████| 4/4 [00:06<00:00,  1.57s/it]\n"
     ]
    },
    {
     "name": "stdout",
     "output_type": "stream",
     "text": [
      "New best weights found at epoch 7 with validation loss: 0.2790. Model saved to models/crimson-sweep-1.pth\n",
      "Epoch 7/40 Summary : Train Loss: 0.2828, Val Loss: 0.2790, LR: 1.18e-04, auroc: 0.9936, auprc: 0.9932, accuracy: 0.9200, sensitivity: 1.0000, specificity: 0.9800, avg_train_loss: 0.2828, avg_val_loss: 0.2790\n"
     ]
    },
    {
     "name": "stderr",
     "output_type": "stream",
     "text": [
      "Epoch 8/40 - Avg train Loss: 0.282746: 100%|████| 13/13 [00:41<00:00,  3.19s/it]\n",
      "Epoch 8/40 - Avg val Loss: 0.261396: 100%|████████| 4/4 [00:05<00:00,  1.32s/it]\n"
     ]
    },
    {
     "name": "stdout",
     "output_type": "stream",
     "text": [
      "New best weights found at epoch 8 with validation loss: 0.2614. Model saved to models/crimson-sweep-1.pth\n",
      "Epoch 8/40 Summary : Train Loss: 0.2827, Val Loss: 0.2614, LR: 3.11e-05, auroc: 1.0000, auprc: 1.0000, accuracy: 0.9900, sensitivity: 1.0000, specificity: 1.0000, avg_train_loss: 0.2827, avg_val_loss: 0.2614\n"
     ]
    },
    {
     "name": "stderr",
     "output_type": "stream",
     "text": [
      "Epoch 9/40 - Avg train Loss: 0.278804: 100%|████| 13/13 [00:44<00:00,  3.40s/it]\n",
      "Epoch 9/40 - Avg val Loss: 0.254708: 100%|████████| 4/4 [00:06<00:00,  1.52s/it]\n"
     ]
    },
    {
     "name": "stdout",
     "output_type": "stream",
     "text": [
      "New best weights found at epoch 9 with validation loss: 0.2547. Model saved to models/crimson-sweep-1.pth\n",
      "Epoch 9/40 Summary : Train Loss: 0.2788, Val Loss: 0.2547, LR: 1.00e-06, auroc: 1.0000, auprc: 1.0000, accuracy: 0.9900, sensitivity: 1.0000, specificity: 1.0000, avg_train_loss: 0.2788, avg_val_loss: 0.2547\n"
     ]
    },
    {
     "name": "stderr",
     "output_type": "stream",
     "text": [
      "Epoch 10/40 - Avg train Loss: 0.274559: 100%|███| 13/13 [00:41<00:00,  3.23s/it]\n",
      "Epoch 10/40 - Avg val Loss: 0.257957: 100%|███████| 4/4 [00:05<00:00,  1.39s/it]\n"
     ]
    },
    {
     "name": "stdout",
     "output_type": "stream",
     "text": [
      "Epoch 10/40 Summary : Train Loss: 0.2746, Val Loss: 0.2580, LR: 3.11e-05, auroc: 1.0000, auprc: 1.0000, accuracy: 1.0000, sensitivity: 1.0000, specificity: 1.0000, avg_train_loss: 0.2746, avg_val_loss: 0.2580\n"
     ]
    },
    {
     "name": "stderr",
     "output_type": "stream",
     "text": [
      "Epoch 11/40 - Avg train Loss: 0.272299: 100%|███| 13/13 [00:41<00:00,  3.19s/it]\n",
      "Epoch 11/40 - Avg val Loss: 0.262047: 100%|███████| 4/4 [00:06<00:00,  1.67s/it]\n"
     ]
    },
    {
     "name": "stdout",
     "output_type": "stream",
     "text": [
      "Epoch 11/40 Summary : Train Loss: 0.2723, Val Loss: 0.2620, LR: 1.18e-04, auroc: 1.0000, auprc: 1.0000, accuracy: 1.0000, sensitivity: 1.0000, specificity: 1.0000, avg_train_loss: 0.2723, avg_val_loss: 0.2620\n"
     ]
    },
    {
     "name": "stderr",
     "output_type": "stream",
     "text": [
      "Epoch 12/40 - Avg train Loss: 0.269513: 100%|███| 13/13 [00:41<00:00,  3.20s/it]\n",
      "Epoch 12/40 - Avg val Loss: 0.260100: 100%|███████| 4/4 [00:05<00:00,  1.29s/it]\n"
     ]
    },
    {
     "name": "stdout",
     "output_type": "stream",
     "text": [
      "Epoch 12/40 Summary : Train Loss: 0.2695, Val Loss: 0.2601, LR: 2.51e-04, auroc: 1.0000, auprc: 1.0000, accuracy: 1.0000, sensitivity: 1.0000, specificity: 1.0000, avg_train_loss: 0.2695, avg_val_loss: 0.2601\n"
     ]
    },
    {
     "name": "stderr",
     "output_type": "stream",
     "text": [
      "Epoch 13/40 - Avg train Loss: 0.264298: 100%|███| 13/13 [00:42<00:00,  3.25s/it]\n",
      "Epoch 13/40 - Avg val Loss: 0.244295: 100%|███████| 4/4 [00:04<00:00,  1.24s/it]\n"
     ]
    },
    {
     "name": "stdout",
     "output_type": "stream",
     "text": [
      "New best weights found at epoch 13 with validation loss: 0.2443. Model saved to models/crimson-sweep-1.pth\n",
      "Epoch 13/40 Summary : Train Loss: 0.2643, Val Loss: 0.2443, LR: 4.14e-04, auroc: 1.0000, auprc: 1.0000, accuracy: 1.0000, sensitivity: 1.0000, specificity: 1.0000, avg_train_loss: 0.2643, avg_val_loss: 0.2443\n"
     ]
    },
    {
     "name": "stderr",
     "output_type": "stream",
     "text": [
      "Epoch 14/40 - Avg train Loss: 0.259679: 100%|███| 13/13 [00:46<00:00,  3.59s/it]\n",
      "Epoch 14/40 - Avg val Loss: 0.398340: 100%|███████| 4/4 [00:05<00:00,  1.26s/it]\n"
     ]
    },
    {
     "name": "stdout",
     "output_type": "stream",
     "text": [
      "Epoch 14/40 Summary : Train Loss: 0.2597, Val Loss: 0.3983, LR: 5.87e-04, auroc: 1.0000, auprc: 1.0000, accuracy: 1.0000, sensitivity: 1.0000, specificity: 1.0000, avg_train_loss: 0.2597, avg_val_loss: 0.3983\n"
     ]
    },
    {
     "name": "stderr",
     "output_type": "stream",
     "text": [
      "Epoch 15/40 - Avg train Loss: 0.255683: 100%|███| 13/13 [00:44<00:00,  3.44s/it]\n",
      "Epoch 15/40 - Avg val Loss: 0.279705: 100%|███████| 4/4 [00:04<00:00,  1.20s/it]\n"
     ]
    },
    {
     "name": "stdout",
     "output_type": "stream",
     "text": [
      "Epoch 15/40 Summary : Train Loss: 0.2557, Val Loss: 0.2797, LR: 7.50e-04, auroc: 1.0000, auprc: 1.0000, accuracy: 1.0000, sensitivity: 1.0000, specificity: 1.0000, avg_train_loss: 0.2557, avg_val_loss: 0.2797\n"
     ]
    },
    {
     "name": "stderr",
     "output_type": "stream",
     "text": [
      "Epoch 16/40 - Avg train Loss: 0.252204: 100%|███| 13/13 [00:43<00:00,  3.33s/it]\n",
      "Epoch 16/40 - Avg val Loss: 0.236757: 100%|███████| 4/4 [00:04<00:00,  1.23s/it]\n"
     ]
    },
    {
     "name": "stdout",
     "output_type": "stream",
     "text": [
      "New best weights found at epoch 16 with validation loss: 0.2368. Model saved to models/crimson-sweep-1.pth\n",
      "Epoch 16/40 Summary : Train Loss: 0.2522, Val Loss: 0.2368, LR: 8.83e-04, auroc: 1.0000, auprc: 1.0000, accuracy: 1.0000, sensitivity: 1.0000, specificity: 1.0000, avg_train_loss: 0.2522, avg_val_loss: 0.2368\n"
     ]
    },
    {
     "name": "stderr",
     "output_type": "stream",
     "text": [
      "Epoch 17/40 - Avg train Loss: 0.244523: 100%|███| 13/13 [00:41<00:00,  3.23s/it]\n",
      "Epoch 17/40 - Avg val Loss: 0.239355: 100%|███████| 4/4 [00:05<00:00,  1.40s/it]\n"
     ]
    },
    {
     "name": "stdout",
     "output_type": "stream",
     "text": [
      "Epoch 17/40 Summary : Train Loss: 0.2445, Val Loss: 0.2394, LR: 9.70e-04, auroc: 1.0000, auprc: 1.0000, accuracy: 1.0000, sensitivity: 1.0000, specificity: 1.0000, avg_train_loss: 0.2445, avg_val_loss: 0.2394\n"
     ]
    },
    {
     "name": "stderr",
     "output_type": "stream",
     "text": [
      "Epoch 18/40 - Avg train Loss: 0.241558: 100%|███| 13/13 [00:39<00:00,  3.05s/it]\n",
      "Epoch 18/40 - Avg val Loss: 0.229741: 100%|███████| 4/4 [00:05<00:00,  1.25s/it]\n"
     ]
    },
    {
     "name": "stdout",
     "output_type": "stream",
     "text": [
      "New best weights found at epoch 18 with validation loss: 0.2297. Model saved to models/crimson-sweep-1.pth\n",
      "Epoch 18/40 Summary : Train Loss: 0.2416, Val Loss: 0.2297, LR: 1.00e-03, auroc: 1.0000, auprc: 1.0000, accuracy: 1.0000, sensitivity: 1.0000, specificity: 1.0000, avg_train_loss: 0.2416, avg_val_loss: 0.2297\n"
     ]
    },
    {
     "name": "stderr",
     "output_type": "stream",
     "text": [
      "Epoch 19/40 - Avg train Loss: 0.243958: 100%|███| 13/13 [00:40<00:00,  3.15s/it]\n",
      "Epoch 19/40 - Avg val Loss: 0.240275: 100%|███████| 4/4 [00:04<00:00,  1.18s/it]\n"
     ]
    },
    {
     "name": "stdout",
     "output_type": "stream",
     "text": [
      "Epoch 19/40 Summary : Train Loss: 0.2440, Val Loss: 0.2403, LR: 9.70e-04, auroc: 1.0000, auprc: 1.0000, accuracy: 0.9800, sensitivity: 1.0000, specificity: 1.0000, avg_train_loss: 0.2440, avg_val_loss: 0.2403\n"
     ]
    },
    {
     "name": "stderr",
     "output_type": "stream",
     "text": [
      "Epoch 20/40 - Avg train Loss: 0.246086: 100%|███| 13/13 [00:39<00:00,  3.03s/it]\n",
      "Epoch 20/40 - Avg val Loss: 0.240952: 100%|███████| 4/4 [00:04<00:00,  1.15s/it]\n"
     ]
    },
    {
     "name": "stdout",
     "output_type": "stream",
     "text": [
      "Epoch 20/40 Summary : Train Loss: 0.2461, Val Loss: 0.2410, LR: 8.83e-04, auroc: 1.0000, auprc: 1.0000, accuracy: 1.0000, sensitivity: 1.0000, specificity: 1.0000, avg_train_loss: 0.2461, avg_val_loss: 0.2410\n"
     ]
    },
    {
     "name": "stderr",
     "output_type": "stream",
     "text": [
      "Epoch 21/40 - Avg train Loss: 0.245456: 100%|███| 13/13 [00:38<00:00,  2.97s/it]\n",
      "Epoch 21/40 - Avg val Loss: 0.226735: 100%|███████| 4/4 [00:04<00:00,  1.12s/it]\n"
     ]
    },
    {
     "name": "stdout",
     "output_type": "stream",
     "text": [
      "New best weights found at epoch 21 with validation loss: 0.2267. Model saved to models/crimson-sweep-1.pth\n",
      "Epoch 21/40 Summary : Train Loss: 0.2455, Val Loss: 0.2267, LR: 7.50e-04, auroc: 1.0000, auprc: 1.0000, accuracy: 1.0000, sensitivity: 1.0000, specificity: 1.0000, avg_train_loss: 0.2455, avg_val_loss: 0.2267\n"
     ]
    },
    {
     "name": "stderr",
     "output_type": "stream",
     "text": [
      "Epoch 22/40 - Avg train Loss: 0.236059: 100%|███| 13/13 [00:37<00:00,  2.90s/it]\n",
      "Epoch 22/40 - Avg val Loss: 0.232377: 100%|███████| 4/4 [00:05<00:00,  1.26s/it]\n"
     ]
    },
    {
     "name": "stdout",
     "output_type": "stream",
     "text": [
      "Epoch 22/40 Summary : Train Loss: 0.2361, Val Loss: 0.2324, LR: 5.87e-04, auroc: 1.0000, auprc: 1.0000, accuracy: 1.0000, sensitivity: 1.0000, specificity: 1.0000, avg_train_loss: 0.2361, avg_val_loss: 0.2324\n"
     ]
    },
    {
     "name": "stderr",
     "output_type": "stream",
     "text": [
      "Epoch 23/40 - Avg train Loss: 0.233632: 100%|███| 13/13 [00:40<00:00,  3.08s/it]\n",
      "Epoch 23/40 - Avg val Loss: 0.223404: 100%|███████| 4/4 [00:05<00:00,  1.29s/it]\n"
     ]
    },
    {
     "name": "stdout",
     "output_type": "stream",
     "text": [
      "New best weights found at epoch 23 with validation loss: 0.2234. Model saved to models/crimson-sweep-1.pth\n",
      "Epoch 23/40 Summary : Train Loss: 0.2336, Val Loss: 0.2234, LR: 4.14e-04, auroc: 1.0000, auprc: 1.0000, accuracy: 1.0000, sensitivity: 1.0000, specificity: 1.0000, avg_train_loss: 0.2336, avg_val_loss: 0.2234\n"
     ]
    },
    {
     "name": "stderr",
     "output_type": "stream",
     "text": [
      "Epoch 24/40 - Avg train Loss: 0.232726: 100%|███| 13/13 [00:39<00:00,  3.02s/it]\n",
      "Epoch 24/40 - Avg val Loss: 0.225873: 100%|███████| 4/4 [00:04<00:00,  1.15s/it]\n"
     ]
    },
    {
     "name": "stdout",
     "output_type": "stream",
     "text": [
      "Epoch 24/40 Summary : Train Loss: 0.2327, Val Loss: 0.2259, LR: 2.51e-04, auroc: 1.0000, auprc: 1.0000, accuracy: 1.0000, sensitivity: 1.0000, specificity: 1.0000, avg_train_loss: 0.2327, avg_val_loss: 0.2259\n"
     ]
    },
    {
     "name": "stderr",
     "output_type": "stream",
     "text": [
      "Epoch 25/40 - Avg train Loss: 0.233081: 100%|███| 13/13 [00:39<00:00,  3.05s/it]\n",
      "Epoch 25/40 - Avg val Loss: 0.224811: 100%|███████| 4/4 [00:04<00:00,  1.22s/it]\n"
     ]
    },
    {
     "name": "stdout",
     "output_type": "stream",
     "text": [
      "Epoch 25/40 Summary : Train Loss: 0.2331, Val Loss: 0.2248, LR: 1.18e-04, auroc: 1.0000, auprc: 1.0000, accuracy: 1.0000, sensitivity: 1.0000, specificity: 1.0000, avg_train_loss: 0.2331, avg_val_loss: 0.2248\n"
     ]
    },
    {
     "name": "stderr",
     "output_type": "stream",
     "text": [
      "Epoch 26/40 - Avg train Loss: 0.230334: 100%|███| 13/13 [00:38<00:00,  2.98s/it]\n",
      "Epoch 26/40 - Avg val Loss: 0.225124: 100%|███████| 4/4 [00:05<00:00,  1.29s/it]\n"
     ]
    },
    {
     "name": "stdout",
     "output_type": "stream",
     "text": [
      "Epoch 26/40 Summary : Train Loss: 0.2303, Val Loss: 0.2251, LR: 3.11e-05, auroc: 1.0000, auprc: 1.0000, accuracy: 1.0000, sensitivity: 1.0000, specificity: 1.0000, avg_train_loss: 0.2303, avg_val_loss: 0.2251\n"
     ]
    },
    {
     "name": "stderr",
     "output_type": "stream",
     "text": [
      "Epoch 27/40 - Avg train Loss: 0.231733: 100%|███| 13/13 [00:40<00:00,  3.13s/it]\n",
      "Epoch 27/40 - Avg val Loss: 0.225400: 100%|███████| 4/4 [00:05<00:00,  1.33s/it]\n"
     ]
    },
    {
     "name": "stdout",
     "output_type": "stream",
     "text": [
      "Epoch 27/40 Summary : Train Loss: 0.2317, Val Loss: 0.2254, LR: 1.00e-06, auroc: 1.0000, auprc: 1.0000, accuracy: 1.0000, sensitivity: 1.0000, specificity: 1.0000, avg_train_loss: 0.2317, avg_val_loss: 0.2254\n"
     ]
    },
    {
     "name": "stderr",
     "output_type": "stream",
     "text": [
      "Epoch 28/40 - Avg train Loss: 0.233381: 100%|███| 13/13 [00:41<00:00,  3.21s/it]\n",
      "Epoch 28/40 - Avg val Loss: 0.223280: 100%|███████| 4/4 [00:05<00:00,  1.36s/it]\n"
     ]
    },
    {
     "name": "stdout",
     "output_type": "stream",
     "text": [
      "New best weights found at epoch 28 with validation loss: 0.2233. Model saved to models/crimson-sweep-1.pth\n",
      "Epoch 28/40 Summary : Train Loss: 0.2334, Val Loss: 0.2233, LR: 3.11e-05, auroc: 1.0000, auprc: 1.0000, accuracy: 1.0000, sensitivity: 1.0000, specificity: 1.0000, avg_train_loss: 0.2334, avg_val_loss: 0.2233\n"
     ]
    },
    {
     "name": "stderr",
     "output_type": "stream",
     "text": [
      "Epoch 29/40 - Avg train Loss: 0.231039: 100%|███| 13/13 [00:40<00:00,  3.14s/it]\n",
      "Epoch 29/40 - Avg val Loss: 0.222797: 100%|███████| 4/4 [00:04<00:00,  1.23s/it]\n"
     ]
    },
    {
     "name": "stdout",
     "output_type": "stream",
     "text": [
      "New best weights found at epoch 29 with validation loss: 0.2228. Model saved to models/crimson-sweep-1.pth\n",
      "Epoch 29/40 Summary : Train Loss: 0.2310, Val Loss: 0.2228, LR: 1.18e-04, auroc: 1.0000, auprc: 1.0000, accuracy: 1.0000, sensitivity: 1.0000, specificity: 1.0000, avg_train_loss: 0.2310, avg_val_loss: 0.2228\n"
     ]
    },
    {
     "name": "stderr",
     "output_type": "stream",
     "text": [
      "Epoch 30/40 - Avg train Loss: 0.229598: 100%|███| 13/13 [00:40<00:00,  3.12s/it]\n",
      "Epoch 30/40 - Avg val Loss: 0.227015: 100%|███████| 4/4 [00:05<00:00,  1.45s/it]\n"
     ]
    },
    {
     "name": "stdout",
     "output_type": "stream",
     "text": [
      "Epoch 30/40 Summary : Train Loss: 0.2296, Val Loss: 0.2270, LR: 2.51e-04, auroc: 1.0000, auprc: 1.0000, accuracy: 1.0000, sensitivity: 1.0000, specificity: 1.0000, avg_train_loss: 0.2296, avg_val_loss: 0.2270\n"
     ]
    },
    {
     "name": "stderr",
     "output_type": "stream",
     "text": [
      "Epoch 31/40 - Avg train Loss: 0.230208: 100%|███| 13/13 [00:38<00:00,  2.96s/it]\n",
      "Epoch 31/40 - Avg val Loss: 0.226743: 100%|███████| 4/4 [00:06<00:00,  1.59s/it]\n"
     ]
    },
    {
     "name": "stdout",
     "output_type": "stream",
     "text": [
      "Epoch 31/40 Summary : Train Loss: 0.2302, Val Loss: 0.2267, LR: 4.14e-04, auroc: 1.0000, auprc: 1.0000, accuracy: 1.0000, sensitivity: 1.0000, specificity: 1.0000, avg_train_loss: 0.2302, avg_val_loss: 0.2267\n"
     ]
    },
    {
     "name": "stderr",
     "output_type": "stream",
     "text": [
      "Epoch 32/40 - Avg train Loss: 0.232699: 100%|███| 13/13 [00:37<00:00,  2.91s/it]\n",
      "Epoch 32/40 - Avg val Loss: 0.226419: 100%|███████| 4/4 [00:06<00:00,  1.58s/it]\n"
     ]
    },
    {
     "name": "stdout",
     "output_type": "stream",
     "text": [
      "Epoch 32/40 Summary : Train Loss: 0.2327, Val Loss: 0.2264, LR: 5.87e-04, auroc: 1.0000, auprc: 1.0000, accuracy: 1.0000, sensitivity: 1.0000, specificity: 1.0000, avg_train_loss: 0.2327, avg_val_loss: 0.2264\n"
     ]
    },
    {
     "name": "stderr",
     "output_type": "stream",
     "text": [
      "Epoch 33/40 - Avg train Loss: 0.233824: 100%|███| 13/13 [00:37<00:00,  2.92s/it]\n",
      "Epoch 33/40 - Avg val Loss: 0.245137: 100%|███████| 4/4 [00:07<00:00,  1.76s/it]\n"
     ]
    },
    {
     "name": "stdout",
     "output_type": "stream",
     "text": [
      "Epoch 33/40 Summary : Train Loss: 0.2338, Val Loss: 0.2451, LR: 7.50e-04, auroc: 1.0000, auprc: 1.0000, accuracy: 1.0000, sensitivity: 1.0000, specificity: 1.0000, avg_train_loss: 0.2338, avg_val_loss: 0.2451\n"
     ]
    },
    {
     "name": "stderr",
     "output_type": "stream",
     "text": [
      "Epoch 34/40 - Avg train Loss: 0.230637: 100%|███| 13/13 [00:41<00:00,  3.16s/it]\n",
      "Epoch 34/40 - Avg val Loss: 0.241948: 100%|███████| 4/4 [00:07<00:00,  1.85s/it]\n"
     ]
    },
    {
     "name": "stdout",
     "output_type": "stream",
     "text": [
      "Epoch 34/40 Summary : Train Loss: 0.2306, Val Loss: 0.2419, LR: 8.83e-04, auroc: 1.0000, auprc: 1.0000, accuracy: 1.0000, sensitivity: 1.0000, specificity: 1.0000, avg_train_loss: 0.2306, avg_val_loss: 0.2419\n"
     ]
    },
    {
     "name": "stderr",
     "output_type": "stream",
     "text": [
      "Epoch 35/40 - Avg train Loss: 0.229497: 100%|███| 13/13 [00:39<00:00,  3.02s/it]\n",
      "Epoch 35/40 - Avg val Loss: 0.235824: 100%|███████| 4/4 [00:06<00:00,  1.64s/it]\n"
     ]
    },
    {
     "name": "stdout",
     "output_type": "stream",
     "text": [
      "Epoch 35/40 Summary : Train Loss: 0.2295, Val Loss: 0.2358, LR: 9.70e-04, auroc: 1.0000, auprc: 1.0000, accuracy: 1.0000, sensitivity: 1.0000, specificity: 1.0000, avg_train_loss: 0.2295, avg_val_loss: 0.2358\n"
     ]
    },
    {
     "name": "stderr",
     "output_type": "stream",
     "text": [
      "Epoch 36/40 - Avg train Loss: 0.230128: 100%|███| 13/13 [00:37<00:00,  2.91s/it]\n",
      "Epoch 36/40 - Avg val Loss: 0.224542: 100%|███████| 4/4 [00:07<00:00,  1.84s/it]\n"
     ]
    },
    {
     "name": "stdout",
     "output_type": "stream",
     "text": [
      "Epoch 36/40 Summary : Train Loss: 0.2301, Val Loss: 0.2245, LR: 1.00e-03, auroc: 1.0000, auprc: 1.0000, accuracy: 1.0000, sensitivity: 1.0000, specificity: 1.0000, avg_train_loss: 0.2301, avg_val_loss: 0.2245\n"
     ]
    },
    {
     "name": "stderr",
     "output_type": "stream",
     "text": [
      "Epoch 37/40 - Avg train Loss: 0.232169: 100%|███| 13/13 [00:36<00:00,  2.78s/it]\n",
      "Epoch 37/40 - Avg val Loss: 0.223802: 100%|███████| 4/4 [00:07<00:00,  1.79s/it]\n"
     ]
    },
    {
     "name": "stdout",
     "output_type": "stream",
     "text": [
      "Epoch 37/40 Summary : Train Loss: 0.2322, Val Loss: 0.2238, LR: 9.70e-04, auroc: 1.0000, auprc: 1.0000, accuracy: 1.0000, sensitivity: 1.0000, specificity: 1.0000, avg_train_loss: 0.2322, avg_val_loss: 0.2238\n"
     ]
    },
    {
     "name": "stderr",
     "output_type": "stream",
     "text": [
      "Epoch 38/40 - Avg train Loss: 0.232532: 100%|███| 13/13 [00:37<00:00,  2.90s/it]\n",
      "Epoch 38/40 - Avg val Loss: 0.220946: 100%|███████| 4/4 [00:07<00:00,  1.93s/it]\n"
     ]
    },
    {
     "name": "stdout",
     "output_type": "stream",
     "text": [
      "New best weights found at epoch 38 with validation loss: 0.2209. Model saved to models/crimson-sweep-1.pth\n",
      "Epoch 38/40 Summary : Train Loss: 0.2325, Val Loss: 0.2209, LR: 8.83e-04, auroc: 1.0000, auprc: 1.0000, accuracy: 1.0000, sensitivity: 1.0000, specificity: 1.0000, avg_train_loss: 0.2325, avg_val_loss: 0.2209\n"
     ]
    },
    {
     "name": "stderr",
     "output_type": "stream",
     "text": [
      "Epoch 39/40 - Avg train Loss: 0.227142: 100%|███| 13/13 [00:36<00:00,  2.78s/it]\n",
      "Epoch 39/40 - Avg val Loss: 0.231475: 100%|███████| 4/4 [00:07<00:00,  1.86s/it]\n"
     ]
    },
    {
     "name": "stdout",
     "output_type": "stream",
     "text": [
      "Epoch 39/40 Summary : Train Loss: 0.2271, Val Loss: 0.2315, LR: 7.50e-04, auroc: 1.0000, auprc: 1.0000, accuracy: 1.0000, sensitivity: 1.0000, specificity: 1.0000, avg_train_loss: 0.2271, avg_val_loss: 0.2315\n"
     ]
    },
    {
     "name": "stderr",
     "output_type": "stream",
     "text": [
      "Epoch 40/40 - Avg train Loss: 0.228724: 100%|███| 13/13 [00:37<00:00,  2.88s/it]\n",
      "Epoch 40/40 - Avg val Loss: 0.229187: 100%|███████| 4/4 [00:07<00:00,  1.91s/it]\n"
     ]
    },
    {
     "name": "stdout",
     "output_type": "stream",
     "text": [
      "Epoch 40/40 Summary : Train Loss: 0.2287, Val Loss: 0.2292, LR: 5.87e-04, auroc: 1.0000, auprc: 1.0000, accuracy: 1.0000, sensitivity: 1.0000, specificity: 1.0000, avg_train_loss: 0.2287, avg_val_loss: 0.2292\n"
     ]
    },
    {
     "data": {
      "application/vnd.jupyter.widget-view+json": {
       "model_id": "",
       "version_major": 2,
       "version_minor": 0
      },
      "text/plain": [
       "VBox(children=(Label(value='0.008 MB of 0.008 MB uploaded\\r'), FloatProgress(value=1.0, max=1.0)))"
      ]
     },
     "metadata": {},
     "output_type": "display_data"
    },
    {
     "data": {
      "text/html": [
       "<style>\n",
       "    table.wandb td:nth-child(1) { padding: 0 10px; text-align: left ; width: auto;} td:nth-child(2) {text-align: left ; width: 100%}\n",
       "    .wandb-row { display: flex; flex-direction: row; flex-wrap: wrap; justify-content: flex-start; width: 100% }\n",
       "    .wandb-col { display: flex; flex-direction: column; flex-basis: 100%; flex: 1; padding: 10px; }\n",
       "    </style>\n",
       "<div class=\"wandb-row\"><div class=\"wandb-col\"><h3>Run history:</h3><br/><table class=\"wandb\"><tr><td>accuracy</td><td>▁▁▁▁▅▅▇█████████████████████████████████</td></tr><tr><td>auprc</td><td>▁▃▅▆▆▇▇█████████████████████████████████</td></tr><tr><td>auroc</td><td>▁▃▅▆▇▇██████████████████████████████████</td></tr><tr><td>avg_train_loss</td><td>█▆▆▅▄▄▃▃▃▃▃▂▂▂▂▂▂▂▂▂▂▁▁▁▁▁▁▁▁▁▁▁▁▁▁▁▁▁▁▁</td></tr><tr><td>avg_val_loss</td><td>▅█▄▅▃▃▃▂▂▂▂▂▂▆▃▁▂▁▂▂▁▁▁▁▁▁▁▁▁▁▁▁▂▂▁▁▁▁▁▁</td></tr><tr><td>sensitivity</td><td>▁▆█▆████████████████████████████████████</td></tr><tr><td>specificity</td><td>▅▂▁▅▅▆▇█████████████████████████████████</td></tr></table><br/></div><div class=\"wandb-col\"><h3>Run summary:</h3><br/><table class=\"wandb\"><tr><td>accuracy</td><td>1.0</td></tr><tr><td>auprc</td><td>1.0</td></tr><tr><td>auroc</td><td>1.0</td></tr><tr><td>avg_train_loss</td><td>0.22872</td></tr><tr><td>avg_val_loss</td><td>0.22919</td></tr><tr><td>sensitivity</td><td>1.0</td></tr><tr><td>specificity</td><td>1.0</td></tr></table><br/></div></div>"
      ],
      "text/plain": [
       "<IPython.core.display.HTML object>"
      ]
     },
     "metadata": {},
     "output_type": "display_data"
    },
    {
     "data": {
      "text/html": [
       " View run <strong style=\"color:#cdcd00\">crimson-sweep-1</strong> at: <a href='https://wandb.ai/miccai-challenge-2024/task2/runs/i6ndxryw' target=\"_blank\">https://wandb.ai/miccai-challenge-2024/task2/runs/i6ndxryw</a><br/> View project at: <a href='https://wandb.ai/miccai-challenge-2024/task2' target=\"_blank\">https://wandb.ai/miccai-challenge-2024/task2</a><br/>Synced 6 W&B file(s), 0 media file(s), 0 artifact file(s) and 0 other file(s)"
      ],
      "text/plain": [
       "<IPython.core.display.HTML object>"
      ]
     },
     "metadata": {},
     "output_type": "display_data"
    },
    {
     "data": {
      "text/html": [
       "Find logs at: <code>./wandb/run-20240730_153201-i6ndxryw/logs</code>"
      ],
      "text/plain": [
       "<IPython.core.display.HTML object>"
      ]
     },
     "metadata": {},
     "output_type": "display_data"
    },
    {
     "name": "stdout",
     "output_type": "stream",
     "text": [
      "Finished training\n"
     ]
    },
    {
     "name": "stderr",
     "output_type": "stream",
     "text": [
      "\u001b[34m\u001b[1mwandb\u001b[0m: Agent Starting Run: g2day2pe with config:\n",
      "\u001b[34m\u001b[1mwandb\u001b[0m: \tbatch_size: 32\n",
      "\u001b[34m\u001b[1mwandb\u001b[0m: \tepochs: 40\n",
      "\u001b[34m\u001b[1mwandb\u001b[0m: \tloss_weight: 0.5\n",
      "\u001b[34m\u001b[1mwandb\u001b[0m: \tlr: 0.001\n",
      "\u001b[34m\u001b[1mwandb\u001b[0m: \tmin_lr: 1e-06\n",
      "\u001b[34m\u001b[1mwandb\u001b[0m: \tmodel: ShuffleNet\n",
      "\u001b[34m\u001b[1mwandb\u001b[0m: \tp_affine: 0.3\n",
      "\u001b[34m\u001b[1mwandb\u001b[0m: \tp_clahe: 0.5\n",
      "\u001b[34m\u001b[1mwandb\u001b[0m: \tp_equalize: 0.3\n",
      "\u001b[34m\u001b[1mwandb\u001b[0m: \tp_gaussblur: 0.5\n",
      "\u001b[34m\u001b[1mwandb\u001b[0m: \tp_horizontalflip: 0.5\n",
      "\u001b[34m\u001b[1mwandb\u001b[0m: \tresampling_strategy: oversampling\n",
      "\u001b[34m\u001b[1mwandb\u001b[0m: \trotation: 10\n",
      "\u001b[34m\u001b[1mwandb\u001b[0m: \ttmax: 6\n",
      "\u001b[34m\u001b[1mwandb\u001b[0m: \u001b[33mWARNING\u001b[0m Ignored wandb.init() arg project when running a sweep.\n"
     ]
    },
    {
     "data": {
      "text/html": [
       "wandb version 0.17.5 is available!  To upgrade, please run:\n",
       " $ pip install wandb --upgrade"
      ],
      "text/plain": [
       "<IPython.core.display.HTML object>"
      ]
     },
     "metadata": {},
     "output_type": "display_data"
    },
    {
     "data": {
      "text/html": [
       "Tracking run with wandb version 0.17.0"
      ],
      "text/plain": [
       "<IPython.core.display.HTML object>"
      ]
     },
     "metadata": {},
     "output_type": "display_data"
    },
    {
     "data": {
      "text/html": [
       "Run data is saved locally in <code>/home/optima/mhaderer/AILS-MICCAI-UWF4DR-Challenge/wandb/run-20240730_160336-g2day2pe</code>"
      ],
      "text/plain": [
       "<IPython.core.display.HTML object>"
      ]
     },
     "metadata": {},
     "output_type": "display_data"
    },
    {
     "data": {
      "text/html": [
       "Syncing run <strong><a href='https://wandb.ai/miccai-challenge-2024/task2/runs/g2day2pe' target=\"_blank\">classic-sweep-2</a></strong> to <a href='https://wandb.ai/miccai-challenge-2024/task2' target=\"_blank\">Weights & Biases</a> (<a href='https://wandb.me/run' target=\"_blank\">docs</a>)<br/>Sweep page: <a href='https://wandb.ai/miccai-challenge-2024/task2/sweeps/qrlfmohp' target=\"_blank\">https://wandb.ai/miccai-challenge-2024/task2/sweeps/qrlfmohp</a>"
      ],
      "text/plain": [
       "<IPython.core.display.HTML object>"
      ]
     },
     "metadata": {},
     "output_type": "display_data"
    },
    {
     "data": {
      "text/html": [
       " View project at <a href='https://wandb.ai/miccai-challenge-2024/task2' target=\"_blank\">https://wandb.ai/miccai-challenge-2024/task2</a>"
      ],
      "text/plain": [
       "<IPython.core.display.HTML object>"
      ]
     },
     "metadata": {},
     "output_type": "display_data"
    },
    {
     "data": {
      "text/html": [
       " View sweep at <a href='https://wandb.ai/miccai-challenge-2024/task2/sweeps/qrlfmohp' target=\"_blank\">https://wandb.ai/miccai-challenge-2024/task2/sweeps/qrlfmohp</a>"
      ],
      "text/plain": [
       "<IPython.core.display.HTML object>"
      ]
     },
     "metadata": {},
     "output_type": "display_data"
    },
    {
     "data": {
      "text/html": [
       " View run at <a href='https://wandb.ai/miccai-challenge-2024/task2/runs/g2day2pe' target=\"_blank\">https://wandb.ai/miccai-challenge-2024/task2/runs/g2day2pe</a>"
      ],
      "text/plain": [
       "<IPython.core.display.HTML object>"
      ]
     },
     "metadata": {},
     "output_type": "display_data"
    },
    {
     "name": "stdout",
     "output_type": "stream",
     "text": [
      "Using device: cuda\n"
     ]
    },
    {
     "name": "stderr",
     "output_type": "stream",
     "text": [
      "Using cache found in /home/optima/mhaderer/.cache/torch/hub/pytorch_vision_v0.10.0\n"
     ]
    },
    {
     "name": "stdout",
     "output_type": "stream",
     "text": [
      "Now train train train\n"
     ]
    },
    {
     "name": "stderr",
     "output_type": "stream",
     "text": [
      "Epoch 1/40 - Avg train Loss: 0.435006: 100%|████| 13/13 [00:47<00:00,  3.68s/it]\n",
      "Epoch 1/40 - Avg val Loss: 0.482352: 100%|████████| 4/4 [00:10<00:00,  2.68s/it]\n"
     ]
    },
    {
     "name": "stdout",
     "output_type": "stream",
     "text": [
      "New best weights found at epoch 1 with validation loss: 0.4824. Model saved to models/classic-sweep-2.pth\n",
      "Epoch 1/40 Summary : Train Loss: 0.4350, Val Loss: 0.4824, LR: 9.33e-04, auroc: 0.8244, auprc: 0.8391, accuracy: 0.5000, sensitivity: 0.7600, specificity: 0.7600, avg_train_loss: 0.4350, avg_val_loss: 0.4824\n"
     ]
    },
    {
     "name": "stderr",
     "output_type": "stream",
     "text": [
      "Epoch 2/40 - Avg train Loss: 0.374293: 100%|████| 13/13 [00:45<00:00,  3.50s/it]\n",
      "Epoch 2/40 - Avg val Loss: 0.357591: 100%|████████| 4/4 [00:10<00:00,  2.71s/it]\n"
     ]
    },
    {
     "name": "stdout",
     "output_type": "stream",
     "text": [
      "New best weights found at epoch 2 with validation loss: 0.3576. Model saved to models/classic-sweep-2.pth\n",
      "Epoch 2/40 Summary : Train Loss: 0.3743, Val Loss: 0.3576, LR: 7.50e-04, auroc: 0.8752, auprc: 0.8977, accuracy: 0.5000, sensitivity: 0.6800, specificity: 0.9600, avg_train_loss: 0.3743, avg_val_loss: 0.3576\n"
     ]
    },
    {
     "name": "stderr",
     "output_type": "stream",
     "text": [
      "Epoch 3/40 - Avg train Loss: 0.355116: 100%|████| 13/13 [00:45<00:00,  3.51s/it]\n",
      "Epoch 3/40 - Avg val Loss: 0.378430: 100%|████████| 4/4 [00:12<00:00,  3.04s/it]\n"
     ]
    },
    {
     "name": "stdout",
     "output_type": "stream",
     "text": [
      "Epoch 3/40 Summary : Train Loss: 0.3551, Val Loss: 0.3784, LR: 5.01e-04, auroc: 0.8404, auprc: 0.8464, accuracy: 0.5000, sensitivity: 1.0000, specificity: 0.6000, avg_train_loss: 0.3551, avg_val_loss: 0.3784\n"
     ]
    },
    {
     "name": "stderr",
     "output_type": "stream",
     "text": [
      "Epoch 4/40 - Avg train Loss: 0.347648: 100%|████| 13/13 [00:47<00:00,  3.62s/it]\n",
      "Epoch 4/40 - Avg val Loss: 0.364394: 100%|████████| 4/4 [00:12<00:00,  3.17s/it]\n"
     ]
    },
    {
     "name": "stdout",
     "output_type": "stream",
     "text": [
      "Epoch 4/40 Summary : Train Loss: 0.3476, Val Loss: 0.3644, LR: 2.51e-04, auroc: 0.8524, auprc: 0.8669, accuracy: 0.5000, sensitivity: 0.9400, specificity: 0.7200, avg_train_loss: 0.3476, avg_val_loss: 0.3644\n"
     ]
    },
    {
     "name": "stderr",
     "output_type": "stream",
     "text": [
      "Epoch 5/40 - Avg train Loss: 0.330989: 100%|████| 13/13 [00:49<00:00,  3.78s/it]\n",
      "Epoch 5/40 - Avg val Loss: 0.377988: 100%|████████| 4/4 [00:11<00:00,  2.80s/it]\n"
     ]
    },
    {
     "name": "stdout",
     "output_type": "stream",
     "text": [
      "Epoch 5/40 Summary : Train Loss: 0.3310, Val Loss: 0.3780, LR: 6.79e-05, auroc: 0.7856, auprc: 0.8015, accuracy: 0.5300, sensitivity: 0.9600, specificity: 0.6200, avg_train_loss: 0.3310, avg_val_loss: 0.3780\n"
     ]
    },
    {
     "name": "stderr",
     "output_type": "stream",
     "text": [
      "Epoch 6/40 - Avg train Loss: 0.323545: 100%|████| 13/13 [00:46<00:00,  3.62s/it]\n",
      "Epoch 6/40 - Avg val Loss: 0.384556: 100%|████████| 4/4 [00:11<00:00,  2.79s/it]\n"
     ]
    },
    {
     "name": "stdout",
     "output_type": "stream",
     "text": [
      "Epoch 6/40 Summary : Train Loss: 0.3235, Val Loss: 0.3846, LR: 1.00e-06, auroc: 0.7896, auprc: 0.8290, accuracy: 0.5300, sensitivity: 0.9600, specificity: 0.5600, avg_train_loss: 0.3235, avg_val_loss: 0.3846\n"
     ]
    },
    {
     "name": "stderr",
     "output_type": "stream",
     "text": [
      "Epoch 7/40 - Avg train Loss: 0.316694: 100%|████| 13/13 [00:45<00:00,  3.52s/it]\n",
      "Epoch 7/40 - Avg val Loss: 0.382653: 100%|████████| 4/4 [00:10<00:00,  2.72s/it]\n"
     ]
    },
    {
     "name": "stdout",
     "output_type": "stream",
     "text": [
      "Epoch 7/40 Summary : Train Loss: 0.3167, Val Loss: 0.3827, LR: 6.79e-05, auroc: 0.7676, auprc: 0.8089, accuracy: 0.5500, sensitivity: 0.9600, specificity: 0.5600, avg_train_loss: 0.3167, avg_val_loss: 0.3827\n"
     ]
    },
    {
     "name": "stderr",
     "output_type": "stream",
     "text": [
      "Epoch 8/40 - Avg train Loss: 0.316041: 100%|████| 13/13 [00:51<00:00,  3.98s/it]\n",
      "Epoch 8/40 - Avg val Loss: 0.387425: 100%|████████| 4/4 [00:10<00:00,  2.72s/it]\n"
     ]
    },
    {
     "name": "stdout",
     "output_type": "stream",
     "text": [
      "Epoch 8/40 Summary : Train Loss: 0.3160, Val Loss: 0.3874, LR: 2.51e-04, auroc: 0.7668, auprc: 0.7954, accuracy: 0.5800, sensitivity: 1.0000, specificity: 0.6000, avg_train_loss: 0.3160, avg_val_loss: 0.3874\n"
     ]
    },
    {
     "name": "stderr",
     "output_type": "stream",
     "text": [
      "Epoch 9/40 - Avg train Loss: 0.318143: 100%|████| 13/13 [00:50<00:00,  3.85s/it]\n",
      "Epoch 9/40 - Avg val Loss: 0.361210: 100%|████████| 4/4 [00:10<00:00,  2.53s/it]\n"
     ]
    },
    {
     "name": "stdout",
     "output_type": "stream",
     "text": [
      "Epoch 9/40 Summary : Train Loss: 0.3181, Val Loss: 0.3612, LR: 5.01e-04, auroc: 0.7488, auprc: 0.7703, accuracy: 0.6900, sensitivity: 1.0000, specificity: 0.6200, avg_train_loss: 0.3181, avg_val_loss: 0.3612\n"
     ]
    },
    {
     "name": "stderr",
     "output_type": "stream",
     "text": [
      "Epoch 10/40 - Avg train Loss: 0.299529: 100%|███| 13/13 [00:48<00:00,  3.74s/it]\n",
      "Epoch 10/40 - Avg val Loss: 0.297080: 100%|███████| 4/4 [00:08<00:00,  2.24s/it]\n"
     ]
    },
    {
     "name": "stdout",
     "output_type": "stream",
     "text": [
      "New best weights found at epoch 10 with validation loss: 0.2971. Model saved to models/classic-sweep-2.pth\n",
      "Epoch 10/40 Summary : Train Loss: 0.2995, Val Loss: 0.2971, LR: 7.50e-04, auroc: 0.9856, auprc: 0.9848, accuracy: 0.8000, sensitivity: 1.0000, specificity: 0.9600, avg_train_loss: 0.2995, avg_val_loss: 0.2971\n"
     ]
    },
    {
     "name": "stderr",
     "output_type": "stream",
     "text": [
      "Epoch 11/40 - Avg train Loss: 0.291759: 100%|███| 13/13 [00:47<00:00,  3.68s/it]\n",
      "Epoch 11/40 - Avg val Loss: 0.328454: 100%|███████| 4/4 [00:08<00:00,  2.15s/it]\n"
     ]
    },
    {
     "name": "stdout",
     "output_type": "stream",
     "text": [
      "Epoch 11/40 Summary : Train Loss: 0.2918, Val Loss: 0.3285, LR: 9.33e-04, auroc: 0.9360, auprc: 0.9474, accuracy: 0.7400, sensitivity: 0.8800, specificity: 0.9200, avg_train_loss: 0.2918, avg_val_loss: 0.3285\n"
     ]
    },
    {
     "name": "stderr",
     "output_type": "stream",
     "text": [
      "Epoch 12/40 - Avg train Loss: 0.273757: 100%|███| 13/13 [00:49<00:00,  3.80s/it]\n",
      "Epoch 12/40 - Avg val Loss: 0.281901: 100%|███████| 4/4 [00:09<00:00,  2.26s/it]\n"
     ]
    },
    {
     "name": "stdout",
     "output_type": "stream",
     "text": [
      "New best weights found at epoch 12 with validation loss: 0.2819. Model saved to models/classic-sweep-2.pth\n",
      "Epoch 12/40 Summary : Train Loss: 0.2738, Val Loss: 0.2819, LR: 1.00e-03, auroc: 0.9952, auprc: 0.9957, accuracy: 0.7300, sensitivity: 0.9600, specificity: 1.0000, avg_train_loss: 0.2738, avg_val_loss: 0.2819\n"
     ]
    },
    {
     "name": "stderr",
     "output_type": "stream",
     "text": [
      "Epoch 13/40 - Avg train Loss: 0.277850: 100%|███| 13/13 [00:54<00:00,  4.17s/it]\n",
      "Epoch 13/40 - Avg val Loss: 0.365773: 100%|███████| 4/4 [00:08<00:00,  2.02s/it]\n"
     ]
    },
    {
     "name": "stdout",
     "output_type": "stream",
     "text": [
      "Epoch 13/40 Summary : Train Loss: 0.2778, Val Loss: 0.3658, LR: 9.33e-04, auroc: 0.8948, auprc: 0.8917, accuracy: 0.7900, sensitivity: 0.9400, specificity: 0.8600, avg_train_loss: 0.2778, avg_val_loss: 0.3658\n"
     ]
    },
    {
     "name": "stderr",
     "output_type": "stream",
     "text": [
      "Epoch 14/40 - Avg train Loss: 0.283001: 100%|███| 13/13 [00:55<00:00,  4.28s/it]\n",
      "Epoch 14/40 - Avg val Loss: 0.352144: 100%|███████| 4/4 [00:07<00:00,  1.79s/it]\n"
     ]
    },
    {
     "name": "stdout",
     "output_type": "stream",
     "text": [
      "Epoch 14/40 Summary : Train Loss: 0.2830, Val Loss: 0.3521, LR: 7.50e-04, auroc: 0.8936, auprc: 0.8665, accuracy: 0.7500, sensitivity: 1.0000, specificity: 0.8600, avg_train_loss: 0.2830, avg_val_loss: 0.3521\n"
     ]
    },
    {
     "name": "stderr",
     "output_type": "stream",
     "text": [
      "Epoch 15/40 - Avg train Loss: 0.261560: 100%|███| 13/13 [00:56<00:00,  4.31s/it]\n",
      "Epoch 15/40 - Avg val Loss: 0.290000: 100%|███████| 4/4 [00:05<00:00,  1.49s/it]\n"
     ]
    },
    {
     "name": "stdout",
     "output_type": "stream",
     "text": [
      "Epoch 15/40 Summary : Train Loss: 0.2616, Val Loss: 0.2900, LR: 5.01e-04, auroc: 0.9808, auprc: 0.9834, accuracy: 0.8600, sensitivity: 0.8800, specificity: 1.0000, avg_train_loss: 0.2616, avg_val_loss: 0.2900\n"
     ]
    },
    {
     "name": "stderr",
     "output_type": "stream",
     "text": [
      "Epoch 16/40 - Avg train Loss: 0.245589: 100%|███| 13/13 [00:53<00:00,  4.10s/it]\n",
      "Epoch 16/40 - Avg val Loss: 0.302201: 100%|███████| 4/4 [00:05<00:00,  1.50s/it]\n"
     ]
    },
    {
     "name": "stdout",
     "output_type": "stream",
     "text": [
      "Epoch 16/40 Summary : Train Loss: 0.2456, Val Loss: 0.3022, LR: 2.51e-04, auroc: 0.9036, auprc: 0.8824, accuracy: 0.8900, sensitivity: 0.8800, specificity: 0.9000, avg_train_loss: 0.2456, avg_val_loss: 0.3022\n"
     ]
    },
    {
     "name": "stderr",
     "output_type": "stream",
     "text": [
      "Epoch 17/40 - Avg train Loss: 0.245944: 100%|███| 13/13 [00:52<00:00,  4.02s/it]\n",
      "Epoch 17/40 - Avg val Loss: 0.319419: 100%|███████| 4/4 [00:06<00:00,  1.56s/it]\n"
     ]
    },
    {
     "name": "stdout",
     "output_type": "stream",
     "text": [
      "Epoch 17/40 Summary : Train Loss: 0.2459, Val Loss: 0.3194, LR: 6.79e-05, auroc: 0.8936, auprc: 0.8972, accuracy: 0.8400, sensitivity: 0.8600, specificity: 0.8600, avg_train_loss: 0.2459, avg_val_loss: 0.3194\n"
     ]
    },
    {
     "name": "stderr",
     "output_type": "stream",
     "text": [
      "Epoch 18/40 - Avg train Loss: 0.241518: 100%|███| 13/13 [00:48<00:00,  3.69s/it]\n",
      "Epoch 18/40 - Avg val Loss: 0.298074: 100%|███████| 4/4 [00:05<00:00,  1.49s/it]\n"
     ]
    },
    {
     "name": "stdout",
     "output_type": "stream",
     "text": [
      "Epoch 18/40 Summary : Train Loss: 0.2415, Val Loss: 0.2981, LR: 1.00e-06, auroc: 0.9188, auprc: 0.9185, accuracy: 0.8200, sensitivity: 1.0000, specificity: 0.8600, avg_train_loss: 0.2415, avg_val_loss: 0.2981\n"
     ]
    },
    {
     "name": "stderr",
     "output_type": "stream",
     "text": [
      "Epoch 19/40 - Avg train Loss: 0.243240: 100%|███| 13/13 [00:50<00:00,  3.90s/it]\n",
      "Epoch 19/40 - Avg val Loss: 0.283274: 100%|███████| 4/4 [00:06<00:00,  1.51s/it]\n"
     ]
    },
    {
     "name": "stdout",
     "output_type": "stream",
     "text": [
      "Epoch 19/40 Summary : Train Loss: 0.2432, Val Loss: 0.2833, LR: 6.79e-05, auroc: 0.9768, auprc: 0.9749, accuracy: 0.8400, sensitivity: 1.0000, specificity: 0.9600, avg_train_loss: 0.2432, avg_val_loss: 0.2833\n"
     ]
    },
    {
     "name": "stderr",
     "output_type": "stream",
     "text": [
      "Epoch 20/40 - Avg train Loss: 0.243639: 100%|███| 13/13 [00:47<00:00,  3.64s/it]\n",
      "Epoch 20/40 - Avg val Loss: 0.282863: 100%|███████| 4/4 [00:05<00:00,  1.45s/it]\n"
     ]
    },
    {
     "name": "stdout",
     "output_type": "stream",
     "text": [
      "Epoch 20/40 Summary : Train Loss: 0.2436, Val Loss: 0.2829, LR: 2.51e-04, auroc: 0.9864, auprc: 0.9847, accuracy: 0.8500, sensitivity: 1.0000, specificity: 0.9800, avg_train_loss: 0.2436, avg_val_loss: 0.2829\n"
     ]
    },
    {
     "name": "stderr",
     "output_type": "stream",
     "text": [
      "Epoch 21/40 - Avg train Loss: 0.238251: 100%|███| 13/13 [00:47<00:00,  3.66s/it]\n",
      "Epoch 21/40 - Avg val Loss: 0.277730: 100%|███████| 4/4 [00:05<00:00,  1.41s/it]\n"
     ]
    },
    {
     "name": "stdout",
     "output_type": "stream",
     "text": [
      "New best weights found at epoch 21 with validation loss: 0.2777. Model saved to models/classic-sweep-2.pth\n",
      "Epoch 21/40 Summary : Train Loss: 0.2383, Val Loss: 0.2777, LR: 5.01e-04, auroc: 0.9760, auprc: 0.9815, accuracy: 0.8500, sensitivity: 0.9200, specificity: 1.0000, avg_train_loss: 0.2383, avg_val_loss: 0.2777\n"
     ]
    },
    {
     "name": "stderr",
     "output_type": "stream",
     "text": [
      "Epoch 22/40 - Avg train Loss: 0.245993: 100%|███| 13/13 [00:49<00:00,  3.84s/it]\n",
      "Epoch 22/40 - Avg val Loss: 0.271780: 100%|███████| 4/4 [00:05<00:00,  1.39s/it]\n"
     ]
    },
    {
     "name": "stdout",
     "output_type": "stream",
     "text": [
      "New best weights found at epoch 22 with validation loss: 0.2718. Model saved to models/classic-sweep-2.pth\n",
      "Epoch 22/40 Summary : Train Loss: 0.2460, Val Loss: 0.2718, LR: 7.50e-04, auroc: 0.9808, auprc: 0.9845, accuracy: 0.8800, sensitivity: 0.9200, specificity: 1.0000, avg_train_loss: 0.2460, avg_val_loss: 0.2718\n"
     ]
    },
    {
     "name": "stderr",
     "output_type": "stream",
     "text": [
      "Epoch 23/40 - Avg train Loss: 0.244850: 100%|███| 13/13 [00:48<00:00,  3.73s/it]\n",
      "Epoch 23/40 - Avg val Loss: 0.290907: 100%|███████| 4/4 [00:04<00:00,  1.20s/it]\n"
     ]
    },
    {
     "name": "stdout",
     "output_type": "stream",
     "text": [
      "Epoch 23/40 Summary : Train Loss: 0.2448, Val Loss: 0.2909, LR: 9.33e-04, auroc: 0.9820, auprc: 0.9847, accuracy: 0.9100, sensitivity: 0.9000, specificity: 1.0000, avg_train_loss: 0.2448, avg_val_loss: 0.2909\n"
     ]
    },
    {
     "name": "stderr",
     "output_type": "stream",
     "text": [
      "Epoch 24/40 - Avg train Loss: 0.247565:  31%|█▏  | 4/13 [00:15<00:32,  3.66s/it]\u001b[34m\u001b[1mwandb\u001b[0m: Ctrl + C detected. Stopping sweep.\n",
      "Epoch 24/40 - Avg train Loss: 0.256348:  38%|█▌  | 5/13 [00:19<00:30,  3.80s/it]"
     ]
    }
   ],
   "source": [
    "\n",
    "# Define the sweep configuration\n",
    "sweep_config = {\n",
    "    \"method\": \"random\",  # or \"grid\", or \"bayes\"\n",
    "    \"parameters\": {\n",
    "        \"model\": {\n",
    "            \"values\": [\"ShuffleNet\"]\n",
    "        },\n",
    "        \"lr\": {\n",
    "            \"values\": [1e-3]\n",
    "        },\n",
    "        \"epochs\": {\n",
    "            \"values\": [40]\n",
    "        },\n",
    "        \"batch_size\": {\n",
    "            \"values\": [16, 32]\n",
    "        },\n",
    "        \"p_gaussblur\": {\n",
    "            \"values\": [0.5]\n",
    "        },\n",
    "        \"p_equalize\": {\n",
    "            \"values\": [0.3, 0.5]\n",
    "        },\n",
    "        \"p_clahe\": {\n",
    "            \"values\": [0.5]\n",
    "        },\n",
    "        \"p_horizontalflip\": {\n",
    "            \"values\": [0.5]\n",
    "        },\n",
    "        \"rotation\": {\n",
    "            \"values\": [10]\n",
    "        },\n",
    "        \"p_affine\": {\n",
    "            \"values\": [0.3]\n",
    "        },\n",
    "        \"loss_weight\": {\n",
    "            \"values\": [0.5]\n",
    "        },\n",
    "        #\"lr_schedule_factor\": {\n",
    "        #    \"values\": [0.1, 0.5]\n",
    "        #},\n",
    "        #\"lr_schedule_patience\": {\n",
    "        #    \"values\": [5]\n",
    "        #},\n",
    "        \"resampling_strategy\": {\n",
    "            \"values\": ['oversampling']\n",
    "        },\n",
    "        \"tmax\": {\n",
    "            \"values\": [3, 6, 9]\n",
    "        },\n",
    "        \"min_lr\": {\n",
    "            \"values\": [1e-4, 1e-6]\n",
    "        },\n",
    "    }\n",
    "}\n",
    "\n",
    "# Initialize the sweep\n",
    "sweep_id = wandb.sweep(sweep=sweep_config, project=\"task2\")\n",
    "\n",
    "# Start the sweep\n",
    "wandb.agent(sweep_id, function=train_model)"
   ]
  },
  {
   "cell_type": "code",
   "execution_count": 13,
   "metadata": {},
   "outputs": [
    {
     "name": "stdout",
     "output_type": "stream",
     "text": [
      "Testing instantiating the model and predict based on a random image...\n"
     ]
    },
    {
     "name": "stderr",
     "output_type": "stream",
     "text": [
      "Using cache found in /home/optima/mhaderer/.cache/torch/hub/pytorch_vision_v0.10.0\n"
     ]
    },
    {
     "name": "stdout",
     "output_type": "stream",
     "text": [
      "Prediction on random image: 0.5158900022506714\n",
      "Creating submission zip file './submissions/distinctive_sweep.zip'\n",
      "-- Adding file metadata\n",
      "-- Adding file distinctive-sweep-2_2024-07-29_23-13.pth\n",
      "-- Adding file model.py\n",
      "-- Adding file model.cpython-310.pyc\n",
      "Submission zip file './submissions/distinctive_sweep.zip' created successfully.\n"
     ]
    }
   ],
   "source": [
    "# build a submission zip file\n",
    "from tools.build_submission import SubmissionBuilder\n",
    "\n",
    "path_to_codalab_model_file = './models/task_2_shufflenet/model.py'\n",
    "path_to_checkpoint_file = './models/task_2_shufflenet/fragrant-sweep-2_2024-07-30_14-13.pth'\n",
    "submission_zip_label = f\"crimson-sweep\"\n",
    "output_dir = './submissions'\n",
    "\n",
    "builder = SubmissionBuilder(model_file=path_to_codalab_model_file, checkpoint_file=path_to_checkpoint_file, label=submission_zip_label, output_dir=output_dir)\n",
    "builder.create_submission_zip()"
   ]
  },
  {
   "cell_type": "code",
   "execution_count": null,
   "metadata": {},
   "outputs": [],
   "source": []
  }
 ],
 "metadata": {
  "kernelspec": {
   "display_name": "Python 3 (ipykernel)",
   "language": "python",
   "name": "python3"
  },
  "language_info": {
   "codemirror_mode": {
    "name": "ipython",
    "version": 3
   },
   "file_extension": ".py",
   "mimetype": "text/x-python",
   "name": "python",
   "nbconvert_exporter": "python",
   "pygments_lexer": "ipython3",
   "version": "3.10.14"
  }
 },
 "nbformat": 4,
 "nbformat_minor": 4
}
