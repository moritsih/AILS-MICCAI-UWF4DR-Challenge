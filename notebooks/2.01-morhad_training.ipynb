{
 "cells": [
  {
   "cell_type": "code",
   "execution_count": 1,
   "metadata": {},
   "outputs": [],
   "source": [
    "%load_ext autoreload\n",
    "%autoreload 2"
   ]
  },
  {
   "cell_type": "code",
   "execution_count": 2,
   "metadata": {},
   "outputs": [
    {
     "name": "stdout",
     "output_type": "stream",
     "text": [
      "/home/optima/mhaderer/AILS-MICCAI-UWF4DR-Challenge\n"
     ]
    },
    {
     "name": "stderr",
     "output_type": "stream",
     "text": [
      "/opt/conda/lib/python3.10/site-packages/IPython/core/magics/osm.py:417: UserWarning: using dhist requires you to install the `pickleshare` library.\n",
      "  self.shell.db['dhist'] = compress_dhist(dhist)[-100:]\n"
     ]
    }
   ],
   "source": [
    "from pathlib import Path\n",
    "base_path = Path().resolve().parent\n",
    "%cd {base_path}"
   ]
  },
  {
   "cell_type": "code",
   "execution_count": 3,
   "metadata": {},
   "outputs": [],
   "source": [
    "# setup\n",
    "#!apt-get update\n",
    "#!pip install python-dotenv\n",
    "#!pip install loguru\n",
    "#!pip install gdown\n",
    "#!pip install typer\n",
    "#!pip install imbalanced-learn"
   ]
  },
  {
   "cell_type": "code",
   "execution_count": 4,
   "metadata": {},
   "outputs": [],
   "source": [
    "# load data and unzip data\n",
    "\n",
    "#!python tools/download_data_and_chkpts.py"
   ]
  },
  {
   "cell_type": "code",
   "execution_count": 5,
   "metadata": {},
   "outputs": [
    {
     "name": "stderr",
     "output_type": "stream",
     "text": [
      "INFO:albumentations.check_version:A new version of Albumentations is available: 1.4.12 (you have 1.4.7). Upgrade using: pip install --upgrade albumentations\n",
      "\u001b[34m\u001b[1mwandb\u001b[0m: Currently logged in as: \u001b[33mmmarinschek\u001b[0m (\u001b[33mmiccai-challenge-2024\u001b[0m). Use \u001b[1m`wandb login --relogin`\u001b[0m to force relogin\n",
      "\u001b[34m\u001b[1mwandb\u001b[0m: \u001b[33mWARNING\u001b[0m If you're specifying your api key in code, ensure this code is not shared publicly.\n",
      "\u001b[34m\u001b[1mwandb\u001b[0m: \u001b[33mWARNING\u001b[0m Consider setting the WANDB_API_KEY environment variable, or running `wandb login` from the command line.\n",
      "\u001b[34m\u001b[1mwandb\u001b[0m: Appending key for api.wandb.ai to your netrc file: /home/optima/mhaderer/.netrc\n"
     ]
    },
    {
     "data": {
      "text/plain": [
       "True"
      ]
     },
     "execution_count": 5,
     "metadata": {},
     "output_type": "execute_result"
    }
   ],
   "source": [
    "# imports\n",
    "\n",
    "import torch\n",
    "import torch.nn as nn\n",
    "from torch import optim\n",
    "import torch.nn.functional as F\n",
    "from torch.utils.data import DataLoader\n",
    "import wandb\n",
    "\n",
    "from sklearn.metrics import roc_auc_score, average_precision_score\n",
    "\n",
    "import albumentations as A\n",
    "from albumentations.pytorch.transforms import ToTensorV2\n",
    "\n",
    "import time\n",
    "\n",
    "# data\n",
    "from ails_miccai_uwf4dr_challenge.dataset_strategy import CustomDataset, DatasetStrategy, CombinedDatasetStrategy, \\\n",
    "    Task1Strategy, Task2Strategy, Task3Strategy, DatasetBuilder\n",
    "\n",
    "# augmentation\n",
    "from ails_miccai_uwf4dr_challenge.preprocess_augmentations import ResidualGaussBlur, MultiplyMask\n",
    "\n",
    "# trainer\n",
    "from ails_miccai_uwf4dr_challenge.models.trainer import DefaultMetricsEvaluationStrategy, Metric, MetricCalculatedHook, \\\n",
    "    NumBatches, Trainer, EpochTrainingStrategy, EpochValidationStrategy, DefaultEpochTrainingStrategy, \\\n",
    "    DefaultBatchTrainingStrategy, TrainingContext, PersistBestModelOnEpochEndHook, \\\n",
    "        OversamplingResamplingStrategy, UndersamplingResamplingStrategy\n",
    "\n",
    "from ails_miccai_uwf4dr_challenge.models.metrics import sensitivity_score, specificity_score\n",
    "from ails_miccai_uwf4dr_challenge.config import Config\n",
    "\n",
    "# models\n",
    "from ails_miccai_uwf4dr_challenge.models.architectures.task1_automorph_plain import AutoMorphModel\n",
    "from ails_miccai_uwf4dr_challenge.models.architectures.task1_efficientnet_plain import Task1EfficientNetB4\n",
    "from ails_miccai_uwf4dr_challenge.models.architectures.task2_efficientnetb0_plain import Task2EfficientNetB0 \n",
    "from ails_miccai_uwf4dr_challenge.models.architectures.task1_convnext import Task1ConvNeXt \n",
    "from ails_miccai_uwf4dr_challenge.models.architectures.dinov2 import DinoV2Classifier, ModelSize\n",
    "from ails_miccai_uwf4dr_challenge.models.architectures.ResNets import ResNet, ResNetVariant\n",
    "from ails_miccai_uwf4dr_challenge.models.architectures.shufflenet import ShuffleNet\n",
    "\n",
    "from ails_miccai_uwf4dr_challenge.config import WANDB_API_KEY, PROJ_ROOT\n",
    "\n",
    "wandb.login(key=WANDB_API_KEY)"
   ]
  },
  {
   "cell_type": "code",
   "execution_count": 6,
   "metadata": {},
   "outputs": [
    {
     "name": "stdout",
     "output_type": "stream",
     "text": [
      "Device: cuda\n"
     ]
    }
   ],
   "source": [
    "# select device for training\n",
    "device = torch.device(\"cuda\" if torch.cuda.is_available() else \"cpu\")\n",
    "print(\"Device: \" + str(device))"
   ]
  },
  {
   "cell_type": "markdown",
   "metadata": {},
   "source": [
    "## Train some model"
   ]
  },
  {
   "cell_type": "code",
   "execution_count": 14,
   "metadata": {},
   "outputs": [],
   "source": [
    "def train_model(cfg=None):\n",
    "\n",
    "    WANDB_HTTP_TIMEOUT=300\n",
    "    WANDB_INIT_TIMEOUT =600\n",
    "    WANDB_DEBUG=True\n",
    "\n",
    "    wandb.init(project=\"task2\", config=cfg)\n",
    "    cfg = wandb.config\n",
    "\n",
    "    transforms_train = A.Compose([\n",
    "        A.Resize(800, 1016, p=1),\n",
    "        MultiplyMask(p=1),\n",
    "        ResidualGaussBlur(p=cfg.p_gaussblur),\n",
    "        A.Equalize(p=cfg.p_equalize),\n",
    "        A.CLAHE(clip_limit=5., p=cfg.p_clahe),\n",
    "        A.HorizontalFlip(p=cfg.p_horizontalflip),\n",
    "        A.Affine(rotate=cfg.rotation, rotate_method='ellipse', p=cfg.p_affine),\n",
    "        A.Normalize(mean=[0.406, 0.485, 0.456], std=[0.225, 0.229, 0.224], p=1),\n",
    "        #A.Resize(770, 1022, p=1), # comment whenever not using DinoV2\n",
    "        ToTensorV2(p=1)\n",
    "    ])\n",
    "\n",
    "    transforms_val = A.Compose([\n",
    "            A.Resize(800, 1016, p=1),\n",
    "            MultiplyMask(p=1),\n",
    "            A.Normalize(mean=[0.406, 0.485, 0.456], std=[0.225, 0.229, 0.224], p=1),\n",
    "            #A.Resize(770, 1022, p=1), # comment whenever not using DinoV2\n",
    "            ToTensorV2(p=1)\n",
    "        ])\n",
    "\n",
    "    dataset_strategy = CombinedDatasetStrategy()\n",
    "    task_strategy = Task2Strategy()\n",
    "\n",
    "    builder = DatasetBuilder(dataset_strategy, task_strategy, split_ratio=0.8)\n",
    "    train_data, val_data = builder.build()\n",
    "\n",
    "    train_dataset = CustomDataset(train_data, transform=transforms_train)\n",
    "    val_dataset = CustomDataset(val_data, transform=transforms_val)\n",
    "\n",
    "    train_loader = DataLoader(train_dataset, batch_size=cfg.batch_size, shuffle=True)\n",
    "    val_loader = DataLoader(val_dataset, batch_size=cfg.batch_size, shuffle=False)\n",
    "    \n",
    "    device = torch.device(\"cuda\" if torch.cuda.is_available() else \"cpu\" if torch.backends.mps.is_available() else \"mps\")\n",
    "    print(f\"Using device: {device}\")\n",
    "\n",
    "    assert cfg.model is not None, \"Model type must be specified in the config\"\n",
    "\n",
    "    if cfg.model == \"Task2EfficientNetB0\":\n",
    "        model = Task2EfficientNetB0(num_classes=1)\n",
    "    elif cfg.model == \"AutoMorphModel\":\n",
    "        model = AutoMorphModel(enc_frozen=True)\n",
    "    elif cfg.model == \"DinoV2Classifier\":\n",
    "        model = DinoV2Classifier(ModelSize.SMALL)\n",
    "    elif cfg.model == \"ShuffleNet\":\n",
    "        model = ShuffleNet()\n",
    "    elif cfg.model == \"ResNet\":\n",
    "        model = ResNet(ResNetVariant.RESNET18)\n",
    "    else:\n",
    "        raise ValueError(f\"Model type {cfg.model} not recognized\")\n",
    "\n",
    "    model.to(device)\n",
    "\n",
    "    metrics = [\n",
    "        Metric('auroc', roc_auc_score),\n",
    "        Metric('auprc', average_precision_score),\n",
    "        Metric('accuracy', lambda y_true, y_pred: (y_pred.round() == y_true).mean()),\n",
    "        Metric('sensitivity', sensitivity_score),\n",
    "        Metric('specificity', specificity_score)\n",
    "    ]\n",
    "\n",
    "    class WandbLoggingHook(MetricCalculatedHook):\n",
    "        def on_metric_calculated(self, training_context: TrainingContext, metric: Metric, result, last_metric_for_epoch: bool):\n",
    "            import wandb\n",
    "            wandb.log(data={metric.name: result}, commit=last_metric_for_epoch)\n",
    "\n",
    "    metrics_eval_strategy = DefaultMetricsEvaluationStrategy(metrics).register_metric_calculated_hook(WandbLoggingHook())\n",
    "\n",
    "    def combined_losses(pred, target):\n",
    "        bce = F.binary_cross_entropy_with_logits(pred, target) * cfg.loss_weight\n",
    "        smooth_l1 = F.smooth_l1_loss(pred, target) * (1 - cfg.loss_weight)\n",
    "        return bce + smooth_l1\n",
    "\n",
    "    criterion = combined_losses\n",
    "    optimizer = optim.AdamW(model.parameters(), lr=cfg.lr)\n",
    "    lr_scheduler = optim.lr_scheduler.ReduceLROnPlateau(optimizer, \n",
    "                                                        mode='min', \n",
    "                                                        factor=cfg.lr_schedule_factor, \n",
    "                                                        patience=cfg.lr_schedule_patience, \n",
    "                                                        verbose=True)\n",
    "\n",
    "    def resampling_factory(strategy_type):\n",
    "        if strategy_type == \"undersampling\":\n",
    "            return UndersamplingResamplingStrategy()\n",
    "        elif strategy_type == \"oversampling\":\n",
    "            return OversamplingResamplingStrategy()\n",
    "        else:\n",
    "            raise ValueError(f\"Unknown strategy type: {strategy_type}\")\n",
    "            \n",
    "    trainer = Trainer(model, train_loader, val_loader, criterion, optimizer, lr_scheduler, device, \n",
    "                        metrics_eval_strategy=metrics_eval_strategy,\n",
    "                        val_dataloader_adapter=resampling_factory(cfg.resampling_strategy),\n",
    "                        train_dataloader_adapter=resampling_factory(cfg.resampling_strategy))\n",
    "    \n",
    "    # build a file name for the model weights containing current timestamp and the model class\n",
    "    wandb_run_name = wandb.run.name\n",
    "\n",
    "    training_timestamp = time.strftime(\"%Y-%m-%d_%H-%M\")\n",
    "    persist_model_hook = PersistBestModelOnEpochEndHook(f\"models/{wandb_run_name}_{training_timestamp}.pth\")\n",
    "    trainer.add_epoch_end_hook(persist_model_hook) # TODO uncomment this line to save the best model\n",
    "\n",
    "    #print(\"First train 2 epochs 2 batches to check if everything works - you can comment these two lines after the code has stabilized...\")\n",
    "    #trainer.train(num_epochs=2, num_batches=NumBatches.TWO_FOR_INITIAL_TESTING)\n",
    "    \n",
    "    print(\"Now train train train\")\n",
    "    trainer.train(num_epochs=cfg.epochs)\n",
    "    wandb.finish()\n",
    "    print(\"Finished training\")"
   ]
  },
  {
   "cell_type": "code",
   "execution_count": 8,
   "metadata": {},
   "outputs": [],
   "source": [
    "cfg = Config(\n",
    "    batch_size=32,\n",
    "    epochs=25,\n",
    "    lr=0.001,\n",
    "    lr_schedule_factor=0.1,\n",
    "    lr_schedule_patience=5,\n",
    "    p_gaussblur=0,\n",
    "    p_equalize=0,\n",
    "    p_clahe=0.5,\n",
    "    p_horizontalflip=0.3,\n",
    "    rotation=15,\n",
    "    p_affine=0.3,\n",
    "    loss_weight=0.5,\n",
    "    resampling_strategy='undersampling',\n",
    "    model=\"ShuffleNet\",\n",
    ")"
   ]
  },
  {
   "cell_type": "code",
   "execution_count": 9,
   "metadata": {},
   "outputs": [],
   "source": [
    "#train_model(cfg)"
   ]
  },
  {
   "cell_type": "markdown",
   "metadata": {},
   "source": [
    "## SWEEP"
   ]
  },
  {
   "cell_type": "code",
   "execution_count": 10,
   "metadata": {},
   "outputs": [
    {
     "name": "stderr",
     "output_type": "stream",
     "text": [
      "INFO:wandb.agents.pyagent:Starting sweep agent: entity=None, project=None, count=None\n"
     ]
    },
    {
     "name": "stdout",
     "output_type": "stream",
     "text": [
      "Create sweep with ID: f4v5vt07\n",
      "Sweep URL: https://wandb.ai/miccai-challenge-2024/task2/sweeps/f4v5vt07\n"
     ]
    },
    {
     "name": "stderr",
     "output_type": "stream",
     "text": [
      "\u001b[34m\u001b[1mwandb\u001b[0m: Agent Starting Run: 1zmnw68g with config:\n",
      "\u001b[34m\u001b[1mwandb\u001b[0m: \tbatch_size: 16\n",
      "\u001b[34m\u001b[1mwandb\u001b[0m: \tepochs: 30\n",
      "\u001b[34m\u001b[1mwandb\u001b[0m: \tloss_weight: 0.5\n",
      "\u001b[34m\u001b[1mwandb\u001b[0m: \tlr: 0.001\n",
      "\u001b[34m\u001b[1mwandb\u001b[0m: \tlr_schedule_factor: 0.1\n",
      "\u001b[34m\u001b[1mwandb\u001b[0m: \tlr_schedule_patience: 5\n",
      "\u001b[34m\u001b[1mwandb\u001b[0m: \tmodel: ShuffleNet\n",
      "\u001b[34m\u001b[1mwandb\u001b[0m: \tp_affine: 0.3\n",
      "\u001b[34m\u001b[1mwandb\u001b[0m: \tp_clahe: 0.5\n",
      "\u001b[34m\u001b[1mwandb\u001b[0m: \tp_equalize: 0\n",
      "\u001b[34m\u001b[1mwandb\u001b[0m: \tp_gaussblur: 0\n",
      "\u001b[34m\u001b[1mwandb\u001b[0m: \tp_horizontalflip: 0.5\n",
      "\u001b[34m\u001b[1mwandb\u001b[0m: \tresampling_strategy: undersampling\n",
      "\u001b[34m\u001b[1mwandb\u001b[0m: \trotation: 10\n",
      "\u001b[34m\u001b[1mwandb\u001b[0m: \u001b[33mWARNING\u001b[0m Ignored wandb.init() arg project when running a sweep.\n"
     ]
    },
    {
     "data": {
      "text/html": [
       "wandb version 0.17.5 is available!  To upgrade, please run:\n",
       " $ pip install wandb --upgrade"
      ],
      "text/plain": [
       "<IPython.core.display.HTML object>"
      ]
     },
     "metadata": {},
     "output_type": "display_data"
    },
    {
     "data": {
      "text/html": [
       "Tracking run with wandb version 0.17.0"
      ],
      "text/plain": [
       "<IPython.core.display.HTML object>"
      ]
     },
     "metadata": {},
     "output_type": "display_data"
    },
    {
     "data": {
      "text/html": [
       "Run data is saved locally in <code>/home/optima/mhaderer/AILS-MICCAI-UWF4DR-Challenge/wandb/run-20240729_225833-1zmnw68g</code>"
      ],
      "text/plain": [
       "<IPython.core.display.HTML object>"
      ]
     },
     "metadata": {},
     "output_type": "display_data"
    },
    {
     "data": {
      "text/html": [
       "Syncing run <strong><a href='https://wandb.ai/miccai-challenge-2024/task2/runs/1zmnw68g' target=\"_blank\">icy-sweep-1</a></strong> to <a href='https://wandb.ai/miccai-challenge-2024/task2' target=\"_blank\">Weights & Biases</a> (<a href='https://wandb.me/run' target=\"_blank\">docs</a>)<br/>Sweep page: <a href='https://wandb.ai/miccai-challenge-2024/task2/sweeps/f4v5vt07' target=\"_blank\">https://wandb.ai/miccai-challenge-2024/task2/sweeps/f4v5vt07</a>"
      ],
      "text/plain": [
       "<IPython.core.display.HTML object>"
      ]
     },
     "metadata": {},
     "output_type": "display_data"
    },
    {
     "data": {
      "text/html": [
       " View project at <a href='https://wandb.ai/miccai-challenge-2024/task2' target=\"_blank\">https://wandb.ai/miccai-challenge-2024/task2</a>"
      ],
      "text/plain": [
       "<IPython.core.display.HTML object>"
      ]
     },
     "metadata": {},
     "output_type": "display_data"
    },
    {
     "data": {
      "text/html": [
       " View sweep at <a href='https://wandb.ai/miccai-challenge-2024/task2/sweeps/f4v5vt07' target=\"_blank\">https://wandb.ai/miccai-challenge-2024/task2/sweeps/f4v5vt07</a>"
      ],
      "text/plain": [
       "<IPython.core.display.HTML object>"
      ]
     },
     "metadata": {},
     "output_type": "display_data"
    },
    {
     "data": {
      "text/html": [
       " View run at <a href='https://wandb.ai/miccai-challenge-2024/task2/runs/1zmnw68g' target=\"_blank\">https://wandb.ai/miccai-challenge-2024/task2/runs/1zmnw68g</a>"
      ],
      "text/plain": [
       "<IPython.core.display.HTML object>"
      ]
     },
     "metadata": {},
     "output_type": "display_data"
    },
    {
     "name": "stdout",
     "output_type": "stream",
     "text": [
      "Using device: cuda\n",
      "Number of output features in ShuffleNet encoder:  1\n"
     ]
    },
    {
     "name": "stderr",
     "output_type": "stream",
     "text": [
      "Using cache found in /home/optima/mhaderer/.cache/torch/hub/pytorch_vision_v0.10.0\n"
     ]
    },
    {
     "name": "stdout",
     "output_type": "stream",
     "text": [
      "Now train train train\n"
     ]
    },
    {
     "name": "stderr",
     "output_type": "stream",
     "text": [
      "Epoch 1/30 - Avg train Loss: 0.409402: 100%|████| 15/15 [00:36<00:00,  2.42s/it]\n",
      "Epoch 1/30 - Avg val Loss: 0.503060: 100%|████████| 4/4 [00:07<00:00,  1.81s/it]\n"
     ]
    },
    {
     "name": "stdout",
     "output_type": "stream",
     "text": [
      "New best weights found at epoch 1 with validation loss: 0.5031. Model saved to models/icy-sweep-1_2024-07-29_22-58.pth\n",
      "Epoch 1/30 Summary : Train Loss: 0.4094, Val Loss: 0.5031, LR: 1.00e-03, auroc: 0.8811, auprc: 0.9036, accuracy: 0.5000, sensitivity: 0.8000, specificity: 0.8667, avg_train_loss: 0.4094, avg_val_loss: 0.5031\n"
     ]
    },
    {
     "name": "stderr",
     "output_type": "stream",
     "text": [
      "Epoch 2/30 - Avg train Loss: 0.345217: 100%|████| 15/15 [00:24<00:00,  1.64s/it]\n",
      "Epoch 2/30 - Avg val Loss: 0.456235: 100%|████████| 4/4 [00:06<00:00,  1.72s/it]\n"
     ]
    },
    {
     "name": "stdout",
     "output_type": "stream",
     "text": [
      "New best weights found at epoch 2 with validation loss: 0.4562. Model saved to models/icy-sweep-1_2024-07-29_22-58.pth\n",
      "Epoch 2/30 Summary : Train Loss: 0.3452, Val Loss: 0.4562, LR: 1.00e-03, auroc: 0.9178, auprc: 0.9292, accuracy: 0.5000, sensitivity: 0.7667, specificity: 0.9000, avg_train_loss: 0.3452, avg_val_loss: 0.4562\n"
     ]
    },
    {
     "name": "stderr",
     "output_type": "stream",
     "text": [
      "Epoch 3/30 - Avg train Loss: 0.327885: 100%|████| 15/15 [00:23<00:00,  1.55s/it]\n",
      "Epoch 3/30 - Avg val Loss: 0.351586: 100%|████████| 4/4 [00:07<00:00,  1.79s/it]\n"
     ]
    },
    {
     "name": "stdout",
     "output_type": "stream",
     "text": [
      "New best weights found at epoch 3 with validation loss: 0.3516. Model saved to models/icy-sweep-1_2024-07-29_22-58.pth\n",
      "Epoch 3/30 Summary : Train Loss: 0.3279, Val Loss: 0.3516, LR: 1.00e-03, auroc: 0.8989, auprc: 0.8965, accuracy: 0.5667, sensitivity: 0.8000, specificity: 0.8667, avg_train_loss: 0.3279, avg_val_loss: 0.3516\n"
     ]
    },
    {
     "name": "stderr",
     "output_type": "stream",
     "text": [
      "Epoch 4/30 - Avg train Loss: 0.315639: 100%|████| 15/15 [00:23<00:00,  1.53s/it]\n",
      "Epoch 4/30 - Avg val Loss: 0.362301: 100%|████████| 4/4 [00:06<00:00,  1.74s/it]\n"
     ]
    },
    {
     "name": "stdout",
     "output_type": "stream",
     "text": [
      "Epoch 4/30 Summary : Train Loss: 0.3156, Val Loss: 0.3623, LR: 1.00e-03, auroc: 0.9156, auprc: 0.9270, accuracy: 0.6833, sensitivity: 0.8000, specificity: 0.9000, avg_train_loss: 0.3156, avg_val_loss: 0.3623\n"
     ]
    },
    {
     "name": "stderr",
     "output_type": "stream",
     "text": [
      "Epoch 5/30 - Avg train Loss: 0.306819: 100%|████| 15/15 [00:20<00:00,  1.36s/it]\n",
      "Epoch 5/30 - Avg val Loss: 0.330312: 100%|████████| 4/4 [00:05<00:00,  1.47s/it]\n"
     ]
    },
    {
     "name": "stdout",
     "output_type": "stream",
     "text": [
      "New best weights found at epoch 5 with validation loss: 0.3303. Model saved to models/icy-sweep-1_2024-07-29_22-58.pth\n",
      "Epoch 5/30 Summary : Train Loss: 0.3068, Val Loss: 0.3303, LR: 1.00e-03, auroc: 0.8967, auprc: 0.8972, accuracy: 0.7500, sensitivity: 0.8667, specificity: 0.7667, avg_train_loss: 0.3068, avg_val_loss: 0.3303\n"
     ]
    },
    {
     "name": "stderr",
     "output_type": "stream",
     "text": [
      "Epoch 6/30 - Avg train Loss: 0.287522: 100%|████| 15/15 [00:20<00:00,  1.34s/it]\n",
      "Epoch 6/30 - Avg val Loss: 0.368151: 100%|████████| 4/4 [00:06<00:00,  1.51s/it]\n"
     ]
    },
    {
     "name": "stdout",
     "output_type": "stream",
     "text": [
      "Epoch 6/30 Summary : Train Loss: 0.2875, Val Loss: 0.3682, LR: 1.00e-03, auroc: 0.9144, auprc: 0.9145, accuracy: 0.6667, sensitivity: 0.7667, specificity: 0.9000, avg_train_loss: 0.2875, avg_val_loss: 0.3682\n"
     ]
    },
    {
     "name": "stderr",
     "output_type": "stream",
     "text": [
      "Epoch 7/30 - Avg train Loss: 0.281149: 100%|████| 15/15 [00:19<00:00,  1.32s/it]\n",
      "Epoch 7/30 - Avg val Loss: 0.334850: 100%|████████| 4/4 [00:05<00:00,  1.45s/it]\n"
     ]
    },
    {
     "name": "stdout",
     "output_type": "stream",
     "text": [
      "Epoch 7/30 Summary : Train Loss: 0.2811, Val Loss: 0.3348, LR: 1.00e-03, auroc: 0.9189, auprc: 0.9267, accuracy: 0.7833, sensitivity: 0.8333, specificity: 0.8667, avg_train_loss: 0.2811, avg_val_loss: 0.3348\n"
     ]
    },
    {
     "name": "stderr",
     "output_type": "stream",
     "text": [
      "Epoch 8/30 - Avg train Loss: 0.274708: 100%|████| 15/15 [00:20<00:00,  1.35s/it]\n",
      "Epoch 8/30 - Avg val Loss: 0.386149: 100%|████████| 4/4 [00:06<00:00,  1.51s/it]\n"
     ]
    },
    {
     "name": "stdout",
     "output_type": "stream",
     "text": [
      "Epoch 8/30 Summary : Train Loss: 0.2747, Val Loss: 0.3861, LR: 1.00e-03, auroc: 0.8322, auprc: 0.7709, accuracy: 0.7667, sensitivity: 0.9667, specificity: 0.6333, avg_train_loss: 0.2747, avg_val_loss: 0.3861\n"
     ]
    },
    {
     "name": "stderr",
     "output_type": "stream",
     "text": [
      "Epoch 9/30 - Avg train Loss: 0.264156: 100%|████| 15/15 [00:20<00:00,  1.33s/it]\n",
      "Epoch 9/30 - Avg val Loss: 0.343517: 100%|████████| 4/4 [00:05<00:00,  1.50s/it]\n"
     ]
    },
    {
     "name": "stdout",
     "output_type": "stream",
     "text": [
      "Epoch 9/30 Summary : Train Loss: 0.2642, Val Loss: 0.3435, LR: 1.00e-03, auroc: 0.8722, auprc: 0.8880, accuracy: 0.7500, sensitivity: 0.7333, specificity: 0.8667, avg_train_loss: 0.2642, avg_val_loss: 0.3435\n"
     ]
    },
    {
     "name": "stderr",
     "output_type": "stream",
     "text": [
      "Epoch 10/30 - Avg train Loss: 0.274008: 100%|███| 15/15 [00:20<00:00,  1.38s/it]\n",
      "Epoch 10/30 - Avg val Loss: 0.338402: 100%|███████| 4/4 [00:05<00:00,  1.46s/it]\n"
     ]
    },
    {
     "name": "stdout",
     "output_type": "stream",
     "text": [
      "Epoch 10/30 Summary : Train Loss: 0.2740, Val Loss: 0.3384, LR: 1.00e-03, auroc: 0.8633, auprc: 0.8733, accuracy: 0.7500, sensitivity: 0.7667, specificity: 0.8667, avg_train_loss: 0.2740, avg_val_loss: 0.3384\n"
     ]
    },
    {
     "name": "stderr",
     "output_type": "stream",
     "text": [
      "Epoch 11/30 - Avg train Loss: 0.263004: 100%|███| 15/15 [00:19<00:00,  1.33s/it]\n",
      "Epoch 11/30 - Avg val Loss: 0.378156: 100%|███████| 4/4 [00:06<00:00,  1.57s/it]\n"
     ]
    },
    {
     "name": "stdout",
     "output_type": "stream",
     "text": [
      "Epoch 11/30 Summary : Train Loss: 0.2630, Val Loss: 0.3782, LR: 1.00e-04, auroc: 0.8744, auprc: 0.8805, accuracy: 0.7333, sensitivity: 0.7000, specificity: 0.8667, avg_train_loss: 0.2630, avg_val_loss: 0.3782\n"
     ]
    },
    {
     "name": "stderr",
     "output_type": "stream",
     "text": [
      "Epoch 12/30 - Avg train Loss: 0.265655: 100%|███| 15/15 [00:20<00:00,  1.38s/it]\n",
      "Epoch 12/30 - Avg val Loss: 0.341346: 100%|███████| 4/4 [00:05<00:00,  1.48s/it]\n"
     ]
    },
    {
     "name": "stdout",
     "output_type": "stream",
     "text": [
      "Epoch 12/30 Summary : Train Loss: 0.2657, Val Loss: 0.3413, LR: 1.00e-04, auroc: 0.8822, auprc: 0.8769, accuracy: 0.7167, sensitivity: 0.8000, specificity: 0.8000, avg_train_loss: 0.2657, avg_val_loss: 0.3413\n"
     ]
    },
    {
     "name": "stderr",
     "output_type": "stream",
     "text": [
      "Epoch 13/30 - Avg train Loss: 0.257990: 100%|███| 15/15 [00:20<00:00,  1.34s/it]\n",
      "Epoch 13/30 - Avg val Loss: 0.330764: 100%|███████| 4/4 [00:06<00:00,  1.62s/it]\n"
     ]
    },
    {
     "name": "stdout",
     "output_type": "stream",
     "text": [
      "Epoch 13/30 Summary : Train Loss: 0.2580, Val Loss: 0.3308, LR: 1.00e-04, auroc: 0.8922, auprc: 0.8862, accuracy: 0.8000, sensitivity: 1.0000, specificity: 0.6667, avg_train_loss: 0.2580, avg_val_loss: 0.3308\n"
     ]
    },
    {
     "name": "stderr",
     "output_type": "stream",
     "text": [
      "Epoch 14/30 - Avg train Loss: 0.252984: 100%|███| 15/15 [00:21<00:00,  1.41s/it]\n",
      "Epoch 14/30 - Avg val Loss: 0.322091: 100%|███████| 4/4 [00:05<00:00,  1.48s/it]\n"
     ]
    },
    {
     "name": "stdout",
     "output_type": "stream",
     "text": [
      "New best weights found at epoch 14 with validation loss: 0.3221. Model saved to models/icy-sweep-1_2024-07-29_22-58.pth\n",
      "Epoch 14/30 Summary : Train Loss: 0.2530, Val Loss: 0.3221, LR: 1.00e-04, auroc: 0.9122, auprc: 0.9152, accuracy: 0.8000, sensitivity: 0.7667, specificity: 0.9000, avg_train_loss: 0.2530, avg_val_loss: 0.3221\n"
     ]
    },
    {
     "name": "stderr",
     "output_type": "stream",
     "text": [
      "Epoch 15/30 - Avg train Loss: 0.245342: 100%|███| 15/15 [00:20<00:00,  1.36s/it]\n",
      "Epoch 15/30 - Avg val Loss: 0.319914: 100%|███████| 4/4 [00:06<00:00,  1.61s/it]\n"
     ]
    },
    {
     "name": "stdout",
     "output_type": "stream",
     "text": [
      "New best weights found at epoch 15 with validation loss: 0.3199. Model saved to models/icy-sweep-1_2024-07-29_22-58.pth\n",
      "Epoch 15/30 Summary : Train Loss: 0.2453, Val Loss: 0.3199, LR: 1.00e-04, auroc: 0.9233, auprc: 0.9278, accuracy: 0.8500, sensitivity: 0.9667, specificity: 0.7333, avg_train_loss: 0.2453, avg_val_loss: 0.3199\n"
     ]
    },
    {
     "name": "stderr",
     "output_type": "stream",
     "text": [
      "Epoch 16/30 - Avg train Loss: 0.243160: 100%|███| 15/15 [00:20<00:00,  1.38s/it]\n",
      "Epoch 16/30 - Avg val Loss: 0.321125: 100%|███████| 4/4 [00:05<00:00,  1.49s/it]\n"
     ]
    },
    {
     "name": "stdout",
     "output_type": "stream",
     "text": [
      "Epoch 16/30 Summary : Train Loss: 0.2432, Val Loss: 0.3211, LR: 1.00e-04, auroc: 0.9133, auprc: 0.9174, accuracy: 0.8000, sensitivity: 0.7667, specificity: 0.9000, avg_train_loss: 0.2432, avg_val_loss: 0.3211\n"
     ]
    },
    {
     "name": "stderr",
     "output_type": "stream",
     "text": [
      "Epoch 17/30 - Avg train Loss: 0.244257: 100%|███| 15/15 [00:20<00:00,  1.35s/it]\n",
      "Epoch 17/30 - Avg val Loss: 0.322763: 100%|███████| 4/4 [00:05<00:00,  1.46s/it]\n"
     ]
    },
    {
     "name": "stdout",
     "output_type": "stream",
     "text": [
      "Epoch 17/30 Summary : Train Loss: 0.2443, Val Loss: 0.3228, LR: 1.00e-04, auroc: 0.9178, auprc: 0.9198, accuracy: 0.8167, sensitivity: 1.0000, specificity: 0.7000, avg_train_loss: 0.2443, avg_val_loss: 0.3228\n"
     ]
    },
    {
     "name": "stderr",
     "output_type": "stream",
     "text": [
      "Epoch 18/30 - Avg train Loss: 0.242689: 100%|███| 15/15 [00:20<00:00,  1.34s/it]\n",
      "Epoch 18/30 - Avg val Loss: 0.323501: 100%|███████| 4/4 [00:05<00:00,  1.49s/it]\n"
     ]
    },
    {
     "name": "stdout",
     "output_type": "stream",
     "text": [
      "Epoch 18/30 Summary : Train Loss: 0.2427, Val Loss: 0.3235, LR: 1.00e-04, auroc: 0.9189, auprc: 0.9221, accuracy: 0.8167, sensitivity: 0.9667, specificity: 0.7333, avg_train_loss: 0.2427, avg_val_loss: 0.3235\n"
     ]
    },
    {
     "name": "stderr",
     "output_type": "stream",
     "text": [
      "Epoch 19/30 - Avg train Loss: 0.238483: 100%|███| 15/15 [00:20<00:00,  1.38s/it]\n",
      "Epoch 19/30 - Avg val Loss: 0.329778: 100%|███████| 4/4 [00:06<00:00,  1.62s/it]\n"
     ]
    },
    {
     "name": "stdout",
     "output_type": "stream",
     "text": [
      "Epoch 19/30 Summary : Train Loss: 0.2385, Val Loss: 0.3298, LR: 1.00e-04, auroc: 0.9011, auprc: 0.8928, accuracy: 0.7833, sensitivity: 1.0000, specificity: 0.7333, avg_train_loss: 0.2385, avg_val_loss: 0.3298\n"
     ]
    },
    {
     "name": "stderr",
     "output_type": "stream",
     "text": [
      "Epoch 20/30 - Avg train Loss: 0.242653: 100%|███| 15/15 [00:20<00:00,  1.34s/it]\n",
      "Epoch 20/30 - Avg val Loss: 0.328011: 100%|███████| 4/4 [00:06<00:00,  1.54s/it]\n"
     ]
    },
    {
     "name": "stdout",
     "output_type": "stream",
     "text": [
      "Epoch 20/30 Summary : Train Loss: 0.2427, Val Loss: 0.3280, LR: 1.00e-04, auroc: 0.9067, auprc: 0.8997, accuracy: 0.8167, sensitivity: 1.0000, specificity: 0.7333, avg_train_loss: 0.2427, avg_val_loss: 0.3280\n"
     ]
    },
    {
     "name": "stderr",
     "output_type": "stream",
     "text": [
      "Epoch 21/30 - Avg train Loss: 0.239404: 100%|███| 15/15 [00:20<00:00,  1.37s/it]\n",
      "Epoch 21/30 - Avg val Loss: 0.325425: 100%|███████| 4/4 [00:06<00:00,  1.58s/it]\n"
     ]
    },
    {
     "name": "stdout",
     "output_type": "stream",
     "text": [
      "Epoch 21/30 Summary : Train Loss: 0.2394, Val Loss: 0.3254, LR: 1.00e-05, auroc: 0.9067, auprc: 0.9005, accuracy: 0.8167, sensitivity: 1.0000, specificity: 0.7000, avg_train_loss: 0.2394, avg_val_loss: 0.3254\n"
     ]
    },
    {
     "name": "stderr",
     "output_type": "stream",
     "text": [
      "Epoch 22/30 - Avg train Loss: 0.241238: 100%|███| 15/15 [00:19<00:00,  1.33s/it]\n",
      "Epoch 22/30 - Avg val Loss: 0.325915: 100%|███████| 4/4 [00:05<00:00,  1.47s/it]\n"
     ]
    },
    {
     "name": "stdout",
     "output_type": "stream",
     "text": [
      "Epoch 22/30 Summary : Train Loss: 0.2412, Val Loss: 0.3259, LR: 1.00e-05, auroc: 0.9056, auprc: 0.8983, accuracy: 0.8167, sensitivity: 1.0000, specificity: 0.7000, avg_train_loss: 0.2412, avg_val_loss: 0.3259\n"
     ]
    },
    {
     "name": "stderr",
     "output_type": "stream",
     "text": [
      "Epoch 23/30 - Avg train Loss: 0.240956: 100%|███| 15/15 [00:20<00:00,  1.38s/it]\n",
      "Epoch 23/30 - Avg val Loss: 0.327828: 100%|███████| 4/4 [00:06<00:00,  1.51s/it]\n"
     ]
    },
    {
     "name": "stdout",
     "output_type": "stream",
     "text": [
      "Epoch 23/30 Summary : Train Loss: 0.2410, Val Loss: 0.3278, LR: 1.00e-05, auroc: 0.9044, auprc: 0.8973, accuracy: 0.8167, sensitivity: 1.0000, specificity: 0.7000, avg_train_loss: 0.2410, avg_val_loss: 0.3278\n"
     ]
    },
    {
     "name": "stderr",
     "output_type": "stream",
     "text": [
      "Epoch 24/30 - Avg train Loss: 0.238847: 100%|███| 15/15 [00:20<00:00,  1.36s/it]\n",
      "Epoch 24/30 - Avg val Loss: 0.326454: 100%|███████| 4/4 [00:05<00:00,  1.47s/it]\n"
     ]
    },
    {
     "name": "stdout",
     "output_type": "stream",
     "text": [
      "Epoch 24/30 Summary : Train Loss: 0.2388, Val Loss: 0.3265, LR: 1.00e-05, auroc: 0.9056, auprc: 0.8980, accuracy: 0.8167, sensitivity: 0.9667, specificity: 0.7333, avg_train_loss: 0.2388, avg_val_loss: 0.3265\n"
     ]
    },
    {
     "name": "stderr",
     "output_type": "stream",
     "text": [
      "Epoch 25/30 - Avg train Loss: 0.245182: 100%|███| 15/15 [00:19<00:00,  1.32s/it]\n",
      "Epoch 25/30 - Avg val Loss: 0.324896: 100%|███████| 4/4 [00:06<00:00,  1.54s/it]\n"
     ]
    },
    {
     "name": "stdout",
     "output_type": "stream",
     "text": [
      "Epoch 25/30 Summary : Train Loss: 0.2452, Val Loss: 0.3249, LR: 1.00e-05, auroc: 0.9078, auprc: 0.8997, accuracy: 0.8167, sensitivity: 1.0000, specificity: 0.7333, avg_train_loss: 0.2452, avg_val_loss: 0.3249\n"
     ]
    },
    {
     "name": "stderr",
     "output_type": "stream",
     "text": [
      "Epoch 26/30 - Avg train Loss: 0.242160: 100%|███| 15/15 [00:21<00:00,  1.43s/it]\n",
      "Epoch 26/30 - Avg val Loss: 0.324272: 100%|███████| 4/4 [00:06<00:00,  1.60s/it]\n"
     ]
    },
    {
     "name": "stdout",
     "output_type": "stream",
     "text": [
      "Epoch 26/30 Summary : Train Loss: 0.2422, Val Loss: 0.3243, LR: 1.00e-05, auroc: 0.9056, auprc: 0.8980, accuracy: 0.8167, sensitivity: 0.9667, specificity: 0.7333, avg_train_loss: 0.2422, avg_val_loss: 0.3243\n"
     ]
    },
    {
     "name": "stderr",
     "output_type": "stream",
     "text": [
      "Epoch 27/30 - Avg train Loss: 0.250251: 100%|███| 15/15 [00:21<00:00,  1.45s/it]\n",
      "Epoch 27/30 - Avg val Loss: 0.327416: 100%|███████| 4/4 [00:06<00:00,  1.65s/it]\n"
     ]
    },
    {
     "name": "stdout",
     "output_type": "stream",
     "text": [
      "Epoch 27/30 Summary : Train Loss: 0.2503, Val Loss: 0.3274, LR: 1.00e-06, auroc: 0.9033, auprc: 0.8952, accuracy: 0.8167, sensitivity: 1.0000, specificity: 0.7333, avg_train_loss: 0.2503, avg_val_loss: 0.3274\n"
     ]
    },
    {
     "name": "stderr",
     "output_type": "stream",
     "text": [
      "Epoch 28/30 - Avg train Loss: 0.237878: 100%|███| 15/15 [00:21<00:00,  1.42s/it]\n",
      "Epoch 28/30 - Avg val Loss: 0.325258: 100%|███████| 4/4 [00:06<00:00,  1.64s/it]\n"
     ]
    },
    {
     "name": "stdout",
     "output_type": "stream",
     "text": [
      "Epoch 28/30 Summary : Train Loss: 0.2379, Val Loss: 0.3253, LR: 1.00e-06, auroc: 0.9044, auprc: 0.8973, accuracy: 0.8167, sensitivity: 1.0000, specificity: 0.7000, avg_train_loss: 0.2379, avg_val_loss: 0.3253\n"
     ]
    },
    {
     "name": "stderr",
     "output_type": "stream",
     "text": [
      "Epoch 29/30 - Avg train Loss: 0.246640: 100%|███| 15/15 [00:22<00:00,  1.47s/it]\n",
      "Epoch 29/30 - Avg val Loss: 0.326334: 100%|███████| 4/4 [00:06<00:00,  1.63s/it]\n"
     ]
    },
    {
     "name": "stdout",
     "output_type": "stream",
     "text": [
      "Epoch 29/30 Summary : Train Loss: 0.2466, Val Loss: 0.3263, LR: 1.00e-06, auroc: 0.9044, auprc: 0.8969, accuracy: 0.8167, sensitivity: 0.9667, specificity: 0.7333, avg_train_loss: 0.2466, avg_val_loss: 0.3263\n"
     ]
    },
    {
     "name": "stderr",
     "output_type": "stream",
     "text": [
      "Epoch 30/30 - Avg train Loss: 0.240762: 100%|███| 15/15 [00:22<00:00,  1.53s/it]\n",
      "Epoch 30/30 - Avg val Loss: 0.325649: 100%|███████| 4/4 [00:06<00:00,  1.60s/it]\n"
     ]
    },
    {
     "name": "stdout",
     "output_type": "stream",
     "text": [
      "Epoch 30/30 Summary : Train Loss: 0.2408, Val Loss: 0.3256, LR: 1.00e-06, auroc: 0.9044, auprc: 0.8973, accuracy: 0.8167, sensitivity: 1.0000, specificity: 0.7000, avg_train_loss: 0.2408, avg_val_loss: 0.3256\n"
     ]
    },
    {
     "data": {
      "application/vnd.jupyter.widget-view+json": {
       "model_id": "3234905f22b24d40b8e3c5ccebdfa43f",
       "version_major": 2,
       "version_minor": 0
      },
      "text/plain": [
       "VBox(children=(Label(value='0.008 MB of 0.008 MB uploaded\\r'), FloatProgress(value=1.0, max=1.0)))"
      ]
     },
     "metadata": {},
     "output_type": "display_data"
    },
    {
     "data": {
      "text/html": [
       "<style>\n",
       "    table.wandb td:nth-child(1) { padding: 0 10px; text-align: left ; width: auto;} td:nth-child(2) {text-align: left ; width: 100%}\n",
       "    .wandb-row { display: flex; flex-direction: row; flex-wrap: wrap; justify-content: flex-start; width: 100% }\n",
       "    .wandb-col { display: flex; flex-direction: column; flex-basis: 100%; flex: 1; padding: 10px; }\n",
       "    </style>\n",
       "<div class=\"wandb-row\"><div class=\"wandb-col\"><h3>Run history:</h3><br/><table class=\"wandb\"><tr><td>accuracy</td><td>▁▁▂▅▆▄▇▆▆▆▆▅▇▇█▇▇▇▇▇▇▇▇▇▇▇▇▇▇▇</td></tr><tr><td>auprc</td><td>▇█▇█▇▇█▁▆▆▆▆▆▇█▇██▆▇▇▇▇▇▇▇▆▇▇▇</td></tr><tr><td>auroc</td><td>▅█▆▇▆▇█▁▄▃▄▅▆▇█▇██▆▇▇▇▇▇▇▇▆▇▇▇</td></tr><tr><td>avg_train_loss</td><td>█▅▅▄▄▃▃▃▂▂▂▂▂▂▁▁▁▁▁▁▁▁▁▁▁▁▂▁▁▁</td></tr><tr><td>avg_val_loss</td><td>█▆▂▃▁▃▂▄▂▂▃▂▁▁▁▁▁▁▁▁▁▁▁▁▁▁▁▁▁▁</td></tr><tr><td>sensitivity</td><td>▃▃▃▃▅▃▄▇▂▃▁▃█▃▇▃█▇█████▇█▇██▇█</td></tr><tr><td>specificity</td><td>▇█▇█▅█▇▁▇▇▇▅▂█▄█▃▄▄▄▃▃▃▄▄▄▄▃▄▃</td></tr></table><br/></div><div class=\"wandb-col\"><h3>Run summary:</h3><br/><table class=\"wandb\"><tr><td>accuracy</td><td>0.81667</td></tr><tr><td>auprc</td><td>0.89731</td></tr><tr><td>auroc</td><td>0.90444</td></tr><tr><td>avg_train_loss</td><td>0.24076</td></tr><tr><td>avg_val_loss</td><td>0.32565</td></tr><tr><td>sensitivity</td><td>1.0</td></tr><tr><td>specificity</td><td>0.7</td></tr></table><br/></div></div>"
      ],
      "text/plain": [
       "<IPython.core.display.HTML object>"
      ]
     },
     "metadata": {},
     "output_type": "display_data"
    },
    {
     "data": {
      "text/html": [
       " View run <strong style=\"color:#cdcd00\">icy-sweep-1</strong> at: <a href='https://wandb.ai/miccai-challenge-2024/task2/runs/1zmnw68g' target=\"_blank\">https://wandb.ai/miccai-challenge-2024/task2/runs/1zmnw68g</a><br/> View project at: <a href='https://wandb.ai/miccai-challenge-2024/task2' target=\"_blank\">https://wandb.ai/miccai-challenge-2024/task2</a><br/>Synced 6 W&B file(s), 0 media file(s), 0 artifact file(s) and 0 other file(s)"
      ],
      "text/plain": [
       "<IPython.core.display.HTML object>"
      ]
     },
     "metadata": {},
     "output_type": "display_data"
    },
    {
     "data": {
      "text/html": [
       "Find logs at: <code>./wandb/run-20240729_225833-1zmnw68g/logs</code>"
      ],
      "text/plain": [
       "<IPython.core.display.HTML object>"
      ]
     },
     "metadata": {},
     "output_type": "display_data"
    },
    {
     "name": "stdout",
     "output_type": "stream",
     "text": [
      "Finished training\n"
     ]
    },
    {
     "name": "stderr",
     "output_type": "stream",
     "text": [
      "\u001b[34m\u001b[1mwandb\u001b[0m: Agent Starting Run: q2a02s0o with config:\n",
      "\u001b[34m\u001b[1mwandb\u001b[0m: \tbatch_size: 16\n",
      "\u001b[34m\u001b[1mwandb\u001b[0m: \tepochs: 30\n",
      "\u001b[34m\u001b[1mwandb\u001b[0m: \tloss_weight: 0.5\n",
      "\u001b[34m\u001b[1mwandb\u001b[0m: \tlr: 0.001\n",
      "\u001b[34m\u001b[1mwandb\u001b[0m: \tlr_schedule_factor: 0.1\n",
      "\u001b[34m\u001b[1mwandb\u001b[0m: \tlr_schedule_patience: 5\n",
      "\u001b[34m\u001b[1mwandb\u001b[0m: \tmodel: ShuffleNet\n",
      "\u001b[34m\u001b[1mwandb\u001b[0m: \tp_affine: 0.3\n",
      "\u001b[34m\u001b[1mwandb\u001b[0m: \tp_clahe: 0.5\n",
      "\u001b[34m\u001b[1mwandb\u001b[0m: \tp_equalize: 0\n",
      "\u001b[34m\u001b[1mwandb\u001b[0m: \tp_gaussblur: 0.5\n",
      "\u001b[34m\u001b[1mwandb\u001b[0m: \tp_horizontalflip: 0.5\n",
      "\u001b[34m\u001b[1mwandb\u001b[0m: \tresampling_strategy: undersampling\n",
      "\u001b[34m\u001b[1mwandb\u001b[0m: \trotation: 10\n",
      "\u001b[34m\u001b[1mwandb\u001b[0m: \u001b[33mWARNING\u001b[0m Ignored wandb.init() arg project when running a sweep.\n"
     ]
    },
    {
     "data": {
      "text/html": [
       "wandb version 0.17.5 is available!  To upgrade, please run:\n",
       " $ pip install wandb --upgrade"
      ],
      "text/plain": [
       "<IPython.core.display.HTML object>"
      ]
     },
     "metadata": {},
     "output_type": "display_data"
    },
    {
     "data": {
      "text/html": [
       "Tracking run with wandb version 0.17.0"
      ],
      "text/plain": [
       "<IPython.core.display.HTML object>"
      ]
     },
     "metadata": {},
     "output_type": "display_data"
    },
    {
     "data": {
      "text/html": [
       "Run data is saved locally in <code>/home/optima/mhaderer/AILS-MICCAI-UWF4DR-Challenge/wandb/run-20240729_231302-q2a02s0o</code>"
      ],
      "text/plain": [
       "<IPython.core.display.HTML object>"
      ]
     },
     "metadata": {},
     "output_type": "display_data"
    },
    {
     "data": {
      "text/html": [
       "Syncing run <strong><a href='https://wandb.ai/miccai-challenge-2024/task2/runs/q2a02s0o' target=\"_blank\">distinctive-sweep-2</a></strong> to <a href='https://wandb.ai/miccai-challenge-2024/task2' target=\"_blank\">Weights & Biases</a> (<a href='https://wandb.me/run' target=\"_blank\">docs</a>)<br/>Sweep page: <a href='https://wandb.ai/miccai-challenge-2024/task2/sweeps/f4v5vt07' target=\"_blank\">https://wandb.ai/miccai-challenge-2024/task2/sweeps/f4v5vt07</a>"
      ],
      "text/plain": [
       "<IPython.core.display.HTML object>"
      ]
     },
     "metadata": {},
     "output_type": "display_data"
    },
    {
     "data": {
      "text/html": [
       " View project at <a href='https://wandb.ai/miccai-challenge-2024/task2' target=\"_blank\">https://wandb.ai/miccai-challenge-2024/task2</a>"
      ],
      "text/plain": [
       "<IPython.core.display.HTML object>"
      ]
     },
     "metadata": {},
     "output_type": "display_data"
    },
    {
     "data": {
      "text/html": [
       " View sweep at <a href='https://wandb.ai/miccai-challenge-2024/task2/sweeps/f4v5vt07' target=\"_blank\">https://wandb.ai/miccai-challenge-2024/task2/sweeps/f4v5vt07</a>"
      ],
      "text/plain": [
       "<IPython.core.display.HTML object>"
      ]
     },
     "metadata": {},
     "output_type": "display_data"
    },
    {
     "data": {
      "text/html": [
       " View run at <a href='https://wandb.ai/miccai-challenge-2024/task2/runs/q2a02s0o' target=\"_blank\">https://wandb.ai/miccai-challenge-2024/task2/runs/q2a02s0o</a>"
      ],
      "text/plain": [
       "<IPython.core.display.HTML object>"
      ]
     },
     "metadata": {},
     "output_type": "display_data"
    },
    {
     "name": "stderr",
     "output_type": "stream",
     "text": [
      "Using cache found in /home/optima/mhaderer/.cache/torch/hub/pytorch_vision_v0.10.0\n"
     ]
    },
    {
     "name": "stdout",
     "output_type": "stream",
     "text": [
      "Using device: cuda\n",
      "Number of output features in ShuffleNet encoder:  1\n",
      "Now train train train\n"
     ]
    },
    {
     "name": "stderr",
     "output_type": "stream",
     "text": [
      "Epoch 1/30 - Avg train Loss: 0.405057: 100%|████| 15/15 [00:26<00:00,  1.74s/it]\n",
      "Epoch 1/30 - Avg val Loss: 0.556744: 100%|████████| 4/4 [00:05<00:00,  1.43s/it]\n"
     ]
    },
    {
     "name": "stdout",
     "output_type": "stream",
     "text": [
      "New best weights found at epoch 1 with validation loss: 0.5567. Model saved to models/distinctive-sweep-2_2024-07-29_23-13.pth\n",
      "Epoch 1/30 Summary : Train Loss: 0.4051, Val Loss: 0.5567, LR: 1.00e-03, auroc: 0.8978, auprc: 0.9185, accuracy: 0.5000, sensitivity: 0.7667, specificity: 0.9000, avg_train_loss: 0.4051, avg_val_loss: 0.5567\n"
     ]
    },
    {
     "name": "stderr",
     "output_type": "stream",
     "text": [
      "Epoch 2/30 - Avg train Loss: 0.351438: 100%|████| 15/15 [00:27<00:00,  1.85s/it]\n",
      "Epoch 2/30 - Avg val Loss: 0.417447: 100%|████████| 4/4 [00:05<00:00,  1.33s/it]\n"
     ]
    },
    {
     "name": "stdout",
     "output_type": "stream",
     "text": [
      "New best weights found at epoch 2 with validation loss: 0.4174. Model saved to models/distinctive-sweep-2_2024-07-29_23-13.pth\n",
      "Epoch 2/30 Summary : Train Loss: 0.3514, Val Loss: 0.4174, LR: 1.00e-03, auroc: 0.8856, auprc: 0.8970, accuracy: 0.5000, sensitivity: 0.9000, specificity: 0.7667, avg_train_loss: 0.3514, avg_val_loss: 0.4174\n"
     ]
    },
    {
     "name": "stderr",
     "output_type": "stream",
     "text": [
      "Epoch 3/30 - Avg train Loss: 0.335228: 100%|████| 15/15 [00:24<00:00,  1.63s/it]\n",
      "Epoch 3/30 - Avg val Loss: 0.343227: 100%|████████| 4/4 [00:05<00:00,  1.31s/it]\n"
     ]
    },
    {
     "name": "stdout",
     "output_type": "stream",
     "text": [
      "New best weights found at epoch 3 with validation loss: 0.3432. Model saved to models/distinctive-sweep-2_2024-07-29_23-13.pth\n",
      "Epoch 3/30 Summary : Train Loss: 0.3352, Val Loss: 0.3432, LR: 1.00e-03, auroc: 0.9167, auprc: 0.9257, accuracy: 0.5833, sensitivity: 0.9000, specificity: 0.8000, avg_train_loss: 0.3352, avg_val_loss: 0.3432\n"
     ]
    },
    {
     "name": "stderr",
     "output_type": "stream",
     "text": [
      "Epoch 4/30 - Avg train Loss: 0.329378: 100%|████| 15/15 [00:24<00:00,  1.65s/it]\n",
      "Epoch 4/30 - Avg val Loss: 0.333299: 100%|████████| 4/4 [00:05<00:00,  1.29s/it]\n"
     ]
    },
    {
     "name": "stdout",
     "output_type": "stream",
     "text": [
      "New best weights found at epoch 4 with validation loss: 0.3333. Model saved to models/distinctive-sweep-2_2024-07-29_23-13.pth\n",
      "Epoch 4/30 Summary : Train Loss: 0.3294, Val Loss: 0.3333, LR: 1.00e-03, auroc: 0.9233, auprc: 0.9342, accuracy: 0.7000, sensitivity: 0.7667, specificity: 0.9000, avg_train_loss: 0.3294, avg_val_loss: 0.3333\n"
     ]
    },
    {
     "name": "stderr",
     "output_type": "stream",
     "text": [
      "Epoch 5/30 - Avg train Loss: 0.313631: 100%|████| 15/15 [00:24<00:00,  1.63s/it]\n",
      "Epoch 5/30 - Avg val Loss: 0.324901: 100%|████████| 4/4 [00:05<00:00,  1.28s/it]\n"
     ]
    },
    {
     "name": "stdout",
     "output_type": "stream",
     "text": [
      "New best weights found at epoch 5 with validation loss: 0.3249. Model saved to models/distinctive-sweep-2_2024-07-29_23-13.pth\n",
      "Epoch 5/30 Summary : Train Loss: 0.3136, Val Loss: 0.3249, LR: 1.00e-03, auroc: 0.9300, auprc: 0.9342, accuracy: 0.7333, sensitivity: 0.9333, specificity: 0.8000, avg_train_loss: 0.3136, avg_val_loss: 0.3249\n"
     ]
    },
    {
     "name": "stderr",
     "output_type": "stream",
     "text": [
      "Epoch 6/30 - Avg train Loss: 0.299068: 100%|████| 15/15 [00:26<00:00,  1.75s/it]\n",
      "Epoch 6/30 - Avg val Loss: 0.330952: 100%|████████| 4/4 [00:05<00:00,  1.40s/it]\n"
     ]
    },
    {
     "name": "stdout",
     "output_type": "stream",
     "text": [
      "Epoch 6/30 Summary : Train Loss: 0.2991, Val Loss: 0.3310, LR: 1.00e-03, auroc: 0.9178, auprc: 0.9277, accuracy: 0.7167, sensitivity: 0.8667, specificity: 0.8000, avg_train_loss: 0.2991, avg_val_loss: 0.3310\n"
     ]
    },
    {
     "name": "stderr",
     "output_type": "stream",
     "text": [
      "Epoch 7/30 - Avg train Loss: 0.305276: 100%|████| 15/15 [00:25<00:00,  1.70s/it]\n",
      "Epoch 7/30 - Avg val Loss: 0.337821: 100%|████████| 4/4 [00:05<00:00,  1.48s/it]\n"
     ]
    },
    {
     "name": "stdout",
     "output_type": "stream",
     "text": [
      "Epoch 7/30 Summary : Train Loss: 0.3053, Val Loss: 0.3378, LR: 1.00e-03, auroc: 0.9111, auprc: 0.9157, accuracy: 0.6333, sensitivity: 0.8333, specificity: 0.9000, avg_train_loss: 0.3053, avg_val_loss: 0.3378\n"
     ]
    },
    {
     "name": "stderr",
     "output_type": "stream",
     "text": [
      "Epoch 8/30 - Avg train Loss: 0.285306: 100%|████| 15/15 [00:26<00:00,  1.79s/it]\n",
      "Epoch 8/30 - Avg val Loss: 0.319495: 100%|████████| 4/4 [00:05<00:00,  1.32s/it]\n"
     ]
    },
    {
     "name": "stdout",
     "output_type": "stream",
     "text": [
      "New best weights found at epoch 8 with validation loss: 0.3195. Model saved to models/distinctive-sweep-2_2024-07-29_23-13.pth\n",
      "Epoch 8/30 Summary : Train Loss: 0.2853, Val Loss: 0.3195, LR: 1.00e-03, auroc: 0.9267, auprc: 0.9315, accuracy: 0.8500, sensitivity: 0.7667, specificity: 0.9667, avg_train_loss: 0.2853, avg_val_loss: 0.3195\n"
     ]
    },
    {
     "name": "stderr",
     "output_type": "stream",
     "text": [
      "Epoch 9/30 - Avg train Loss: 0.291048: 100%|████| 15/15 [00:25<00:00,  1.73s/it]\n",
      "Epoch 9/30 - Avg val Loss: 0.340604: 100%|████████| 4/4 [00:05<00:00,  1.45s/it]\n"
     ]
    },
    {
     "name": "stdout",
     "output_type": "stream",
     "text": [
      "Epoch 9/30 Summary : Train Loss: 0.2910, Val Loss: 0.3406, LR: 1.00e-03, auroc: 0.9189, auprc: 0.9309, accuracy: 0.8333, sensitivity: 0.8000, specificity: 0.9000, avg_train_loss: 0.2910, avg_val_loss: 0.3406\n"
     ]
    },
    {
     "name": "stderr",
     "output_type": "stream",
     "text": [
      "Epoch 10/30 - Avg train Loss: 0.277876: 100%|███| 15/15 [00:26<00:00,  1.78s/it]\n",
      "Epoch 10/30 - Avg val Loss: 0.335199: 100%|███████| 4/4 [00:05<00:00,  1.33s/it]\n"
     ]
    },
    {
     "name": "stdout",
     "output_type": "stream",
     "text": [
      "Epoch 10/30 Summary : Train Loss: 0.2779, Val Loss: 0.3352, LR: 1.00e-03, auroc: 0.9022, auprc: 0.9135, accuracy: 0.6833, sensitivity: 0.9000, specificity: 0.7667, avg_train_loss: 0.2779, avg_val_loss: 0.3352\n"
     ]
    },
    {
     "name": "stderr",
     "output_type": "stream",
     "text": [
      "Epoch 11/30 - Avg train Loss: 0.274603: 100%|███| 15/15 [00:25<00:00,  1.69s/it]\n",
      "Epoch 11/30 - Avg val Loss: 0.319268: 100%|███████| 4/4 [00:05<00:00,  1.44s/it]\n"
     ]
    },
    {
     "name": "stdout",
     "output_type": "stream",
     "text": [
      "New best weights found at epoch 11 with validation loss: 0.3193. Model saved to models/distinctive-sweep-2_2024-07-29_23-13.pth\n",
      "Epoch 11/30 Summary : Train Loss: 0.2746, Val Loss: 0.3193, LR: 1.00e-03, auroc: 0.9189, auprc: 0.9092, accuracy: 0.7500, sensitivity: 0.8000, specificity: 0.9333, avg_train_loss: 0.2746, avg_val_loss: 0.3193\n"
     ]
    },
    {
     "name": "stderr",
     "output_type": "stream",
     "text": [
      "Epoch 12/30 - Avg train Loss: 0.275844: 100%|███| 15/15 [00:24<00:00,  1.62s/it]\n",
      "Epoch 12/30 - Avg val Loss: 0.320503: 100%|███████| 4/4 [00:05<00:00,  1.28s/it]\n"
     ]
    },
    {
     "name": "stdout",
     "output_type": "stream",
     "text": [
      "Epoch 12/30 Summary : Train Loss: 0.2758, Val Loss: 0.3205, LR: 1.00e-03, auroc: 0.9233, auprc: 0.9329, accuracy: 0.8167, sensitivity: 0.8333, specificity: 0.9000, avg_train_loss: 0.2758, avg_val_loss: 0.3205\n"
     ]
    },
    {
     "name": "stderr",
     "output_type": "stream",
     "text": [
      "Epoch 13/30 - Avg train Loss: 0.256754: 100%|███| 15/15 [00:24<00:00,  1.66s/it]\n",
      "Epoch 13/30 - Avg val Loss: 0.337226: 100%|███████| 4/4 [00:05<00:00,  1.27s/it]\n"
     ]
    },
    {
     "name": "stdout",
     "output_type": "stream",
     "text": [
      "Epoch 13/30 Summary : Train Loss: 0.2568, Val Loss: 0.3372, LR: 1.00e-03, auroc: 0.9289, auprc: 0.9343, accuracy: 0.8167, sensitivity: 0.7667, specificity: 0.9667, avg_train_loss: 0.2568, avg_val_loss: 0.3372\n"
     ]
    },
    {
     "name": "stderr",
     "output_type": "stream",
     "text": [
      "Epoch 14/30 - Avg train Loss: 0.270134: 100%|███| 15/15 [00:24<00:00,  1.65s/it]\n",
      "Epoch 14/30 - Avg val Loss: 0.333396: 100%|███████| 4/4 [00:05<00:00,  1.31s/it]\n"
     ]
    },
    {
     "name": "stdout",
     "output_type": "stream",
     "text": [
      "Epoch 14/30 Summary : Train Loss: 0.2701, Val Loss: 0.3334, LR: 1.00e-03, auroc: 0.9222, auprc: 0.9330, accuracy: 0.7833, sensitivity: 0.8667, specificity: 0.9000, avg_train_loss: 0.2701, avg_val_loss: 0.3334\n"
     ]
    },
    {
     "name": "stderr",
     "output_type": "stream",
     "text": [
      "Epoch 15/30 - Avg train Loss: 0.251942: 100%|███| 15/15 [00:26<00:00,  1.77s/it]\n",
      "Epoch 15/30 - Avg val Loss: 0.314543: 100%|███████| 4/4 [00:05<00:00,  1.29s/it]\n"
     ]
    },
    {
     "name": "stdout",
     "output_type": "stream",
     "text": [
      "New best weights found at epoch 15 with validation loss: 0.3145. Model saved to models/distinctive-sweep-2_2024-07-29_23-13.pth\n",
      "Epoch 15/30 Summary : Train Loss: 0.2519, Val Loss: 0.3145, LR: 1.00e-03, auroc: 0.9178, auprc: 0.9333, accuracy: 0.8000, sensitivity: 0.8333, specificity: 0.9000, avg_train_loss: 0.2519, avg_val_loss: 0.3145\n"
     ]
    },
    {
     "name": "stderr",
     "output_type": "stream",
     "text": [
      "Epoch 16/30 - Avg train Loss: 0.249379: 100%|███| 15/15 [00:24<00:00,  1.66s/it]\n",
      "Epoch 16/30 - Avg val Loss: 0.314084: 100%|███████| 4/4 [00:05<00:00,  1.48s/it]\n"
     ]
    },
    {
     "name": "stdout",
     "output_type": "stream",
     "text": [
      "New best weights found at epoch 16 with validation loss: 0.3141. Model saved to models/distinctive-sweep-2_2024-07-29_23-13.pth\n",
      "Epoch 16/30 Summary : Train Loss: 0.2494, Val Loss: 0.3141, LR: 1.00e-03, auroc: 0.9311, auprc: 0.9260, accuracy: 0.7667, sensitivity: 0.9333, specificity: 0.9000, avg_train_loss: 0.2494, avg_val_loss: 0.3141\n"
     ]
    },
    {
     "name": "stderr",
     "output_type": "stream",
     "text": [
      "Epoch 17/30 - Avg train Loss: 0.257240: 100%|███| 15/15 [00:26<00:00,  1.73s/it]\n",
      "Epoch 17/30 - Avg val Loss: 0.299939: 100%|███████| 4/4 [00:05<00:00,  1.30s/it]\n"
     ]
    },
    {
     "name": "stdout",
     "output_type": "stream",
     "text": [
      "New best weights found at epoch 17 with validation loss: 0.2999. Model saved to models/distinctive-sweep-2_2024-07-29_23-13.pth\n",
      "Epoch 17/30 Summary : Train Loss: 0.2572, Val Loss: 0.2999, LR: 1.00e-03, auroc: 0.9522, auprc: 0.9575, accuracy: 0.8333, sensitivity: 0.7667, specificity: 0.9667, avg_train_loss: 0.2572, avg_val_loss: 0.2999\n"
     ]
    },
    {
     "name": "stderr",
     "output_type": "stream",
     "text": [
      "Epoch 18/30 - Avg train Loss: 0.256027: 100%|███| 15/15 [00:26<00:00,  1.75s/it]\n",
      "Epoch 18/30 - Avg val Loss: 0.294124: 100%|███████| 4/4 [00:05<00:00,  1.45s/it]\n"
     ]
    },
    {
     "name": "stdout",
     "output_type": "stream",
     "text": [
      "New best weights found at epoch 18 with validation loss: 0.2941. Model saved to models/distinctive-sweep-2_2024-07-29_23-13.pth\n",
      "Epoch 18/30 Summary : Train Loss: 0.2560, Val Loss: 0.2941, LR: 1.00e-03, auroc: 0.9611, auprc: 0.9647, accuracy: 0.8833, sensitivity: 0.7667, specificity: 1.0000, avg_train_loss: 0.2560, avg_val_loss: 0.2941\n"
     ]
    },
    {
     "name": "stderr",
     "output_type": "stream",
     "text": [
      "Epoch 19/30 - Avg train Loss: 0.246801: 100%|███| 15/15 [00:24<00:00,  1.63s/it]\n",
      "Epoch 19/30 - Avg val Loss: 0.305482: 100%|███████| 4/4 [00:05<00:00,  1.29s/it]\n"
     ]
    },
    {
     "name": "stdout",
     "output_type": "stream",
     "text": [
      "Epoch 19/30 Summary : Train Loss: 0.2468, Val Loss: 0.3055, LR: 1.00e-03, auroc: 0.9389, auprc: 0.9514, accuracy: 0.7500, sensitivity: 0.8000, specificity: 1.0000, avg_train_loss: 0.2468, avg_val_loss: 0.3055\n"
     ]
    },
    {
     "name": "stderr",
     "output_type": "stream",
     "text": [
      "Epoch 20/30 - Avg train Loss: 0.253276: 100%|███| 15/15 [00:24<00:00,  1.61s/it]\n",
      "Epoch 20/30 - Avg val Loss: 0.313268: 100%|███████| 4/4 [00:05<00:00,  1.28s/it]\n"
     ]
    },
    {
     "name": "stdout",
     "output_type": "stream",
     "text": [
      "Epoch 20/30 Summary : Train Loss: 0.2533, Val Loss: 0.3133, LR: 1.00e-03, auroc: 0.9289, auprc: 0.9466, accuracy: 0.8333, sensitivity: 0.8000, specificity: 0.9667, avg_train_loss: 0.2533, avg_val_loss: 0.3133\n"
     ]
    },
    {
     "name": "stderr",
     "output_type": "stream",
     "text": [
      "Epoch 21/30 - Avg train Loss: 0.262898: 100%|███| 15/15 [00:24<00:00,  1.60s/it]\n",
      "Epoch 21/30 - Avg val Loss: 0.321864: 100%|███████| 4/4 [00:05<00:00,  1.45s/it]\n"
     ]
    },
    {
     "name": "stdout",
     "output_type": "stream",
     "text": [
      "Epoch 21/30 Summary : Train Loss: 0.2629, Val Loss: 0.3219, LR: 1.00e-03, auroc: 0.9044, auprc: 0.9256, accuracy: 0.8000, sensitivity: 0.8333, specificity: 0.9000, avg_train_loss: 0.2629, avg_val_loss: 0.3219\n"
     ]
    },
    {
     "name": "stderr",
     "output_type": "stream",
     "text": [
      "Epoch 22/30 - Avg train Loss: 0.243238: 100%|███| 15/15 [00:24<00:00,  1.64s/it]\n",
      "Epoch 22/30 - Avg val Loss: 0.312262: 100%|███████| 4/4 [00:05<00:00,  1.28s/it]\n"
     ]
    },
    {
     "name": "stdout",
     "output_type": "stream",
     "text": [
      "Epoch 22/30 Summary : Train Loss: 0.2432, Val Loss: 0.3123, LR: 1.00e-03, auroc: 0.9300, auprc: 0.9448, accuracy: 0.7500, sensitivity: 0.8667, specificity: 0.9333, avg_train_loss: 0.2432, avg_val_loss: 0.3123\n"
     ]
    },
    {
     "name": "stderr",
     "output_type": "stream",
     "text": [
      "Epoch 23/30 - Avg train Loss: 0.251899: 100%|███| 15/15 [00:25<00:00,  1.69s/it]\n",
      "Epoch 23/30 - Avg val Loss: 0.325395: 100%|███████| 4/4 [00:05<00:00,  1.29s/it]\n"
     ]
    },
    {
     "name": "stdout",
     "output_type": "stream",
     "text": [
      "Epoch 23/30 Summary : Train Loss: 0.2519, Val Loss: 0.3254, LR: 1.00e-03, auroc: 0.9222, auprc: 0.9397, accuracy: 0.7667, sensitivity: 0.8667, specificity: 0.9333, avg_train_loss: 0.2519, avg_val_loss: 0.3254\n"
     ]
    },
    {
     "name": "stderr",
     "output_type": "stream",
     "text": [
      "Epoch 24/30 - Avg train Loss: 0.242246: 100%|███| 15/15 [00:24<00:00,  1.66s/it]\n",
      "Epoch 24/30 - Avg val Loss: 0.319708: 100%|███████| 4/4 [00:05<00:00,  1.33s/it]\n"
     ]
    },
    {
     "name": "stdout",
     "output_type": "stream",
     "text": [
      "Epoch 24/30 Summary : Train Loss: 0.2422, Val Loss: 0.3197, LR: 1.00e-04, auroc: 0.9156, auprc: 0.9363, accuracy: 0.8167, sensitivity: 0.8667, specificity: 0.8667, avg_train_loss: 0.2422, avg_val_loss: 0.3197\n"
     ]
    },
    {
     "name": "stderr",
     "output_type": "stream",
     "text": [
      "Epoch 25/30 - Avg train Loss: 0.249198: 100%|███| 15/15 [00:25<00:00,  1.71s/it]\n",
      "Epoch 25/30 - Avg val Loss: 0.305184: 100%|███████| 4/4 [00:05<00:00,  1.41s/it]\n"
     ]
    },
    {
     "name": "stdout",
     "output_type": "stream",
     "text": [
      "Epoch 25/30 Summary : Train Loss: 0.2492, Val Loss: 0.3052, LR: 1.00e-04, auroc: 0.9244, auprc: 0.9453, accuracy: 0.8333, sensitivity: 0.8000, specificity: 0.9667, avg_train_loss: 0.2492, avg_val_loss: 0.3052\n"
     ]
    },
    {
     "name": "stderr",
     "output_type": "stream",
     "text": [
      "Epoch 26/30 - Avg train Loss: 0.247354: 100%|███| 15/15 [00:25<00:00,  1.72s/it]\n",
      "Epoch 26/30 - Avg val Loss: 0.305587: 100%|███████| 4/4 [00:05<00:00,  1.28s/it]\n"
     ]
    },
    {
     "name": "stdout",
     "output_type": "stream",
     "text": [
      "Epoch 26/30 Summary : Train Loss: 0.2474, Val Loss: 0.3056, LR: 1.00e-04, auroc: 0.9233, auprc: 0.9458, accuracy: 0.8000, sensitivity: 0.8000, specificity: 0.9333, avg_train_loss: 0.2474, avg_val_loss: 0.3056\n"
     ]
    },
    {
     "name": "stderr",
     "output_type": "stream",
     "text": [
      "Epoch 27/30 - Avg train Loss: 0.245661: 100%|███| 15/15 [00:25<00:00,  1.68s/it]\n",
      "Epoch 27/30 - Avg val Loss: 0.306055: 100%|███████| 4/4 [00:05<00:00,  1.28s/it]\n"
     ]
    },
    {
     "name": "stdout",
     "output_type": "stream",
     "text": [
      "Epoch 27/30 Summary : Train Loss: 0.2457, Val Loss: 0.3061, LR: 1.00e-04, auroc: 0.9233, auprc: 0.9469, accuracy: 0.8000, sensitivity: 0.7667, specificity: 1.0000, avg_train_loss: 0.2457, avg_val_loss: 0.3061\n"
     ]
    },
    {
     "name": "stderr",
     "output_type": "stream",
     "text": [
      "Epoch 28/30 - Avg train Loss: 0.244957: 100%|███| 15/15 [00:24<00:00,  1.66s/it]\n",
      "Epoch 28/30 - Avg val Loss: 0.305019: 100%|███████| 4/4 [00:05<00:00,  1.30s/it]\n"
     ]
    },
    {
     "name": "stdout",
     "output_type": "stream",
     "text": [
      "Epoch 28/30 Summary : Train Loss: 0.2450, Val Loss: 0.3050, LR: 1.00e-04, auroc: 0.9267, auprc: 0.9474, accuracy: 0.8167, sensitivity: 0.9000, specificity: 0.8667, avg_train_loss: 0.2450, avg_val_loss: 0.3050\n"
     ]
    },
    {
     "name": "stderr",
     "output_type": "stream",
     "text": [
      "Epoch 29/30 - Avg train Loss: 0.239951: 100%|███| 15/15 [00:24<00:00,  1.62s/it]\n",
      "Epoch 29/30 - Avg val Loss: 0.306170: 100%|███████| 4/4 [00:05<00:00,  1.29s/it]\n"
     ]
    },
    {
     "name": "stdout",
     "output_type": "stream",
     "text": [
      "Epoch 29/30 Summary : Train Loss: 0.2400, Val Loss: 0.3062, LR: 1.00e-04, auroc: 0.9267, auprc: 0.9481, accuracy: 0.8167, sensitivity: 0.7667, specificity: 1.0000, avg_train_loss: 0.2400, avg_val_loss: 0.3062\n"
     ]
    },
    {
     "name": "stderr",
     "output_type": "stream",
     "text": [
      "Epoch 30/30 - Avg train Loss: 0.233993: 100%|███| 15/15 [00:24<00:00,  1.63s/it]\n",
      "Epoch 30/30 - Avg val Loss: 0.306443: 100%|███████| 4/4 [00:05<00:00,  1.48s/it]\n"
     ]
    },
    {
     "name": "stdout",
     "output_type": "stream",
     "text": [
      "Epoch 30/30 Summary : Train Loss: 0.2340, Val Loss: 0.3064, LR: 1.00e-05, auroc: 0.9233, auprc: 0.9447, accuracy: 0.8000, sensitivity: 0.7667, specificity: 0.9667, avg_train_loss: 0.2340, avg_val_loss: 0.3064\n"
     ]
    },
    {
     "data": {
      "application/vnd.jupyter.widget-view+json": {
       "model_id": "c4a8a4895a164841bf3a96fe4cf2b6ca",
       "version_major": 2,
       "version_minor": 0
      },
      "text/plain": [
       "VBox(children=(Label(value='0.008 MB of 0.008 MB uploaded\\r'), FloatProgress(value=1.0, max=1.0)))"
      ]
     },
     "metadata": {},
     "output_type": "display_data"
    },
    {
     "data": {
      "text/html": [
       "<style>\n",
       "    table.wandb td:nth-child(1) { padding: 0 10px; text-align: left ; width: auto;} td:nth-child(2) {text-align: left ; width: 100%}\n",
       "    .wandb-row { display: flex; flex-direction: row; flex-wrap: wrap; justify-content: flex-start; width: 100% }\n",
       "    .wandb-col { display: flex; flex-direction: column; flex-basis: 100%; flex: 1; padding: 10px; }\n",
       "    </style>\n",
       "<div class=\"wandb-row\"><div class=\"wandb-col\"><h3>Run history:</h3><br/><table class=\"wandb\"><tr><td>accuracy</td><td>▁▁▃▅▅▅▃▇▇▄▆▇▇▆▆▆▇█▆▇▆▆▆▇▇▆▆▇▇▆</td></tr><tr><td>auprc</td><td>▃▁▄▅▅▄▃▅▅▃▂▅▅▅▅▄▇█▇▆▄▆▅▅▆▆▆▆▆▆</td></tr><tr><td>auroc</td><td>▂▁▄▅▅▄▃▅▄▃▄▅▅▄▄▅▇█▆▅▃▅▄▄▅▅▅▅▅▅</td></tr><tr><td>avg_train_loss</td><td>█▆▅▅▄▄▄▃▃▃▃▃▂▂▂▂▂▂▂▂▂▁▂▁▂▂▁▁▁▁</td></tr><tr><td>avg_val_loss</td><td>█▄▂▂▂▂▂▂▂▂▂▂▂▂▂▂▁▁▁▂▂▁▂▂▁▁▁▁▁▁</td></tr><tr><td>sensitivity</td><td>▁▇▇▁█▅▄▁▂▇▂▄▁▅▄█▁▁▂▂▄▅▅▅▂▂▁▇▁▁</td></tr><tr><td>specificity</td><td>▅▁▂▅▂▂▅▇▅▁▆▅▇▅▅▅▇██▇▅▆▆▄▇▆█▄█▇</td></tr></table><br/></div><div class=\"wandb-col\"><h3>Run summary:</h3><br/><table class=\"wandb\"><tr><td>accuracy</td><td>0.8</td></tr><tr><td>auprc</td><td>0.9447</td></tr><tr><td>auroc</td><td>0.92333</td></tr><tr><td>avg_train_loss</td><td>0.23399</td></tr><tr><td>avg_val_loss</td><td>0.30644</td></tr><tr><td>sensitivity</td><td>0.76667</td></tr><tr><td>specificity</td><td>0.96667</td></tr></table><br/></div></div>"
      ],
      "text/plain": [
       "<IPython.core.display.HTML object>"
      ]
     },
     "metadata": {},
     "output_type": "display_data"
    },
    {
     "data": {
      "text/html": [
       " View run <strong style=\"color:#cdcd00\">distinctive-sweep-2</strong> at: <a href='https://wandb.ai/miccai-challenge-2024/task2/runs/q2a02s0o' target=\"_blank\">https://wandb.ai/miccai-challenge-2024/task2/runs/q2a02s0o</a><br/> View project at: <a href='https://wandb.ai/miccai-challenge-2024/task2' target=\"_blank\">https://wandb.ai/miccai-challenge-2024/task2</a><br/>Synced 6 W&B file(s), 0 media file(s), 0 artifact file(s) and 0 other file(s)"
      ],
      "text/plain": [
       "<IPython.core.display.HTML object>"
      ]
     },
     "metadata": {},
     "output_type": "display_data"
    },
    {
     "data": {
      "text/html": [
       "Find logs at: <code>./wandb/run-20240729_231302-q2a02s0o/logs</code>"
      ],
      "text/plain": [
       "<IPython.core.display.HTML object>"
      ]
     },
     "metadata": {},
     "output_type": "display_data"
    },
    {
     "name": "stdout",
     "output_type": "stream",
     "text": [
      "Finished training\n"
     ]
    },
    {
     "name": "stderr",
     "output_type": "stream",
     "text": [
      "\u001b[34m\u001b[1mwandb\u001b[0m: Agent Starting Run: t48nfnbl with config:\n",
      "\u001b[34m\u001b[1mwandb\u001b[0m: \tbatch_size: 16\n",
      "\u001b[34m\u001b[1mwandb\u001b[0m: \tepochs: 30\n",
      "\u001b[34m\u001b[1mwandb\u001b[0m: \tloss_weight: 0.5\n",
      "\u001b[34m\u001b[1mwandb\u001b[0m: \tlr: 0.001\n",
      "\u001b[34m\u001b[1mwandb\u001b[0m: \tlr_schedule_factor: 0.1\n",
      "\u001b[34m\u001b[1mwandb\u001b[0m: \tlr_schedule_patience: 5\n",
      "\u001b[34m\u001b[1mwandb\u001b[0m: \tmodel: ShuffleNet\n",
      "\u001b[34m\u001b[1mwandb\u001b[0m: \tp_affine: 0.3\n",
      "\u001b[34m\u001b[1mwandb\u001b[0m: \tp_clahe: 0.5\n",
      "\u001b[34m\u001b[1mwandb\u001b[0m: \tp_equalize: 0\n",
      "\u001b[34m\u001b[1mwandb\u001b[0m: \tp_gaussblur: 1\n",
      "\u001b[34m\u001b[1mwandb\u001b[0m: \tp_horizontalflip: 0.5\n",
      "\u001b[34m\u001b[1mwandb\u001b[0m: \tresampling_strategy: undersampling\n",
      "\u001b[34m\u001b[1mwandb\u001b[0m: \trotation: 10\n",
      "\u001b[34m\u001b[1mwandb\u001b[0m: \u001b[33mWARNING\u001b[0m Ignored wandb.init() arg project when running a sweep.\n"
     ]
    },
    {
     "data": {
      "text/html": [
       "wandb version 0.17.5 is available!  To upgrade, please run:\n",
       " $ pip install wandb --upgrade"
      ],
      "text/plain": [
       "<IPython.core.display.HTML object>"
      ]
     },
     "metadata": {},
     "output_type": "display_data"
    },
    {
     "data": {
      "text/html": [
       "Tracking run with wandb version 0.17.0"
      ],
      "text/plain": [
       "<IPython.core.display.HTML object>"
      ]
     },
     "metadata": {},
     "output_type": "display_data"
    },
    {
     "data": {
      "text/html": [
       "Run data is saved locally in <code>/home/optima/mhaderer/AILS-MICCAI-UWF4DR-Challenge/wandb/run-20240729_232849-t48nfnbl</code>"
      ],
      "text/plain": [
       "<IPython.core.display.HTML object>"
      ]
     },
     "metadata": {},
     "output_type": "display_data"
    },
    {
     "data": {
      "text/html": [
       "Syncing run <strong><a href='https://wandb.ai/miccai-challenge-2024/task2/runs/t48nfnbl' target=\"_blank\">different-sweep-3</a></strong> to <a href='https://wandb.ai/miccai-challenge-2024/task2' target=\"_blank\">Weights & Biases</a> (<a href='https://wandb.me/run' target=\"_blank\">docs</a>)<br/>Sweep page: <a href='https://wandb.ai/miccai-challenge-2024/task2/sweeps/f4v5vt07' target=\"_blank\">https://wandb.ai/miccai-challenge-2024/task2/sweeps/f4v5vt07</a>"
      ],
      "text/plain": [
       "<IPython.core.display.HTML object>"
      ]
     },
     "metadata": {},
     "output_type": "display_data"
    },
    {
     "data": {
      "text/html": [
       " View project at <a href='https://wandb.ai/miccai-challenge-2024/task2' target=\"_blank\">https://wandb.ai/miccai-challenge-2024/task2</a>"
      ],
      "text/plain": [
       "<IPython.core.display.HTML object>"
      ]
     },
     "metadata": {},
     "output_type": "display_data"
    },
    {
     "data": {
      "text/html": [
       " View sweep at <a href='https://wandb.ai/miccai-challenge-2024/task2/sweeps/f4v5vt07' target=\"_blank\">https://wandb.ai/miccai-challenge-2024/task2/sweeps/f4v5vt07</a>"
      ],
      "text/plain": [
       "<IPython.core.display.HTML object>"
      ]
     },
     "metadata": {},
     "output_type": "display_data"
    },
    {
     "data": {
      "text/html": [
       " View run at <a href='https://wandb.ai/miccai-challenge-2024/task2/runs/t48nfnbl' target=\"_blank\">https://wandb.ai/miccai-challenge-2024/task2/runs/t48nfnbl</a>"
      ],
      "text/plain": [
       "<IPython.core.display.HTML object>"
      ]
     },
     "metadata": {},
     "output_type": "display_data"
    },
    {
     "name": "stdout",
     "output_type": "stream",
     "text": [
      "Using device: cuda\n",
      "Number of output features in ShuffleNet encoder:  1\n"
     ]
    },
    {
     "name": "stderr",
     "output_type": "stream",
     "text": [
      "Using cache found in /home/optima/mhaderer/.cache/torch/hub/pytorch_vision_v0.10.0\n"
     ]
    },
    {
     "name": "stdout",
     "output_type": "stream",
     "text": [
      "Now train train train\n"
     ]
    },
    {
     "name": "stderr",
     "output_type": "stream",
     "text": [
      "Epoch 1/30 - Avg train Loss: 0.405947: 100%|████| 15/15 [00:37<00:00,  2.48s/it]\n",
      "Epoch 1/30 - Avg val Loss: 0.464820: 100%|████████| 4/4 [00:05<00:00,  1.41s/it]\n"
     ]
    },
    {
     "name": "stdout",
     "output_type": "stream",
     "text": [
      "New best weights found at epoch 1 with validation loss: 0.4648. Model saved to models/different-sweep-3_2024-07-29_23-28.pth\n",
      "Epoch 1/30 Summary : Train Loss: 0.4059, Val Loss: 0.4648, LR: 1.00e-03, auroc: 0.8889, auprc: 0.8951, accuracy: 0.5000, sensitivity: 0.7667, specificity: 0.8333, avg_train_loss: 0.4059, avg_val_loss: 0.4648\n"
     ]
    },
    {
     "name": "stderr",
     "output_type": "stream",
     "text": [
      "Epoch 2/30 - Avg train Loss: 0.353058: 100%|████| 15/15 [00:35<00:00,  2.38s/it]\n",
      "Epoch 2/30 - Avg val Loss: 0.452042: 100%|████████| 4/4 [00:05<00:00,  1.42s/it]\n"
     ]
    },
    {
     "name": "stdout",
     "output_type": "stream",
     "text": [
      "New best weights found at epoch 2 with validation loss: 0.4520. Model saved to models/different-sweep-3_2024-07-29_23-28.pth\n",
      "Epoch 2/30 Summary : Train Loss: 0.3531, Val Loss: 0.4520, LR: 1.00e-03, auroc: 0.8944, auprc: 0.9027, accuracy: 0.5000, sensitivity: 0.9667, specificity: 0.7000, avg_train_loss: 0.3531, avg_val_loss: 0.4520\n"
     ]
    },
    {
     "name": "stderr",
     "output_type": "stream",
     "text": [
      "Epoch 3/30 - Avg train Loss: 0.333540: 100%|████| 15/15 [00:36<00:00,  2.40s/it]\n",
      "Epoch 3/30 - Avg val Loss: 0.338821: 100%|████████| 4/4 [00:05<00:00,  1.50s/it]\n"
     ]
    },
    {
     "name": "stdout",
     "output_type": "stream",
     "text": [
      "New best weights found at epoch 3 with validation loss: 0.3388. Model saved to models/different-sweep-3_2024-07-29_23-28.pth\n",
      "Epoch 3/30 Summary : Train Loss: 0.3335, Val Loss: 0.3388, LR: 1.00e-03, auroc: 0.9133, auprc: 0.9151, accuracy: 0.6667, sensitivity: 0.9667, specificity: 0.8000, avg_train_loss: 0.3335, avg_val_loss: 0.3388\n"
     ]
    },
    {
     "name": "stderr",
     "output_type": "stream",
     "text": [
      "Epoch 4/30 - Avg train Loss: 0.314592: 100%|████| 15/15 [00:36<00:00,  2.43s/it]\n",
      "Epoch 4/30 - Avg val Loss: 0.334853: 100%|████████| 4/4 [00:06<00:00,  1.56s/it]\n"
     ]
    },
    {
     "name": "stdout",
     "output_type": "stream",
     "text": [
      "New best weights found at epoch 4 with validation loss: 0.3349. Model saved to models/different-sweep-3_2024-07-29_23-28.pth\n",
      "Epoch 4/30 Summary : Train Loss: 0.3146, Val Loss: 0.3349, LR: 1.00e-03, auroc: 0.9400, auprc: 0.9451, accuracy: 0.8333, sensitivity: 0.9000, specificity: 0.8667, avg_train_loss: 0.3146, avg_val_loss: 0.3349\n"
     ]
    },
    {
     "name": "stderr",
     "output_type": "stream",
     "text": [
      "Epoch 5/30 - Avg train Loss: 0.310450: 100%|████| 15/15 [00:40<00:00,  2.72s/it]\n",
      "Epoch 5/30 - Avg val Loss: 0.392135: 100%|████████| 4/4 [00:06<00:00,  1.64s/it]\n"
     ]
    },
    {
     "name": "stdout",
     "output_type": "stream",
     "text": [
      "Epoch 5/30 Summary : Train Loss: 0.3105, Val Loss: 0.3921, LR: 1.00e-03, auroc: 0.9344, auprc: 0.9405, accuracy: 0.7833, sensitivity: 0.8667, specificity: 0.8667, avg_train_loss: 0.3105, avg_val_loss: 0.3921\n"
     ]
    },
    {
     "name": "stderr",
     "output_type": "stream",
     "text": [
      "Epoch 6/30 - Avg train Loss: 0.293613: 100%|████| 15/15 [00:39<00:00,  2.65s/it]\n",
      "Epoch 6/30 - Avg val Loss: 0.367187: 100%|████████| 4/4 [00:06<00:00,  1.71s/it]\n"
     ]
    },
    {
     "name": "stdout",
     "output_type": "stream",
     "text": [
      "Epoch 6/30 Summary : Train Loss: 0.2936, Val Loss: 0.3672, LR: 1.00e-03, auroc: 0.9156, auprc: 0.9042, accuracy: 0.8667, sensitivity: 0.9000, specificity: 0.8667, avg_train_loss: 0.2936, avg_val_loss: 0.3672\n"
     ]
    },
    {
     "name": "stderr",
     "output_type": "stream",
     "text": [
      "Epoch 7/30 - Avg train Loss: 0.297750: 100%|████| 15/15 [00:40<00:00,  2.69s/it]\n",
      "Epoch 7/30 - Avg val Loss: 0.403695: 100%|████████| 4/4 [00:05<00:00,  1.48s/it]\n"
     ]
    },
    {
     "name": "stdout",
     "output_type": "stream",
     "text": [
      "Epoch 7/30 Summary : Train Loss: 0.2977, Val Loss: 0.4037, LR: 1.00e-03, auroc: 0.9422, auprc: 0.9505, accuracy: 0.8000, sensitivity: 0.8333, specificity: 0.9667, avg_train_loss: 0.2977, avg_val_loss: 0.4037\n"
     ]
    },
    {
     "name": "stderr",
     "output_type": "stream",
     "text": [
      "Epoch 8/30 - Avg train Loss: 0.295426: 100%|████| 15/15 [00:38<00:00,  2.57s/it]\n",
      "Epoch 8/30 - Avg val Loss: 0.340320: 100%|████████| 4/4 [00:05<00:00,  1.44s/it]\n"
     ]
    },
    {
     "name": "stdout",
     "output_type": "stream",
     "text": [
      "Epoch 8/30 Summary : Train Loss: 0.2954, Val Loss: 0.3403, LR: 1.00e-03, auroc: 0.9244, auprc: 0.9164, accuracy: 0.8000, sensitivity: 0.9667, specificity: 0.7667, avg_train_loss: 0.2954, avg_val_loss: 0.3403\n"
     ]
    },
    {
     "name": "stderr",
     "output_type": "stream",
     "text": [
      "Epoch 9/30 - Avg train Loss: 0.283034: 100%|████| 15/15 [00:38<00:00,  2.55s/it]\n",
      "Epoch 9/30 - Avg val Loss: 0.382849: 100%|████████| 4/4 [00:06<00:00,  1.55s/it]\n"
     ]
    },
    {
     "name": "stdout",
     "output_type": "stream",
     "text": [
      "Epoch 9/30 Summary : Train Loss: 0.2830, Val Loss: 0.3828, LR: 1.00e-03, auroc: 0.8944, auprc: 0.8714, accuracy: 0.6833, sensitivity: 1.0000, specificity: 0.7333, avg_train_loss: 0.2830, avg_val_loss: 0.3828\n"
     ]
    },
    {
     "name": "stderr",
     "output_type": "stream",
     "text": [
      "Epoch 10/30 - Avg train Loss: 0.277108: 100%|███| 15/15 [00:36<00:00,  2.44s/it]\n",
      "Epoch 10/30 - Avg val Loss: 0.336270: 100%|███████| 4/4 [00:05<00:00,  1.40s/it]\n"
     ]
    },
    {
     "name": "stdout",
     "output_type": "stream",
     "text": [
      "Epoch 10/30 Summary : Train Loss: 0.2771, Val Loss: 0.3363, LR: 1.00e-04, auroc: 0.9167, auprc: 0.9247, accuracy: 0.8333, sensitivity: 0.9000, specificity: 0.8333, avg_train_loss: 0.2771, avg_val_loss: 0.3363\n"
     ]
    },
    {
     "name": "stderr",
     "output_type": "stream",
     "text": [
      "Epoch 11/30 - Avg train Loss: 0.270412: 100%|███| 15/15 [00:38<00:00,  2.55s/it]\n",
      "Epoch 11/30 - Avg val Loss: 0.332765: 100%|███████| 4/4 [00:06<00:00,  1.60s/it]\n"
     ]
    },
    {
     "name": "stdout",
     "output_type": "stream",
     "text": [
      "New best weights found at epoch 11 with validation loss: 0.3328. Model saved to models/different-sweep-3_2024-07-29_23-28.pth\n",
      "Epoch 11/30 Summary : Train Loss: 0.2704, Val Loss: 0.3328, LR: 1.00e-04, auroc: 0.9067, auprc: 0.9132, accuracy: 0.7833, sensitivity: 0.8667, specificity: 0.8333, avg_train_loss: 0.2704, avg_val_loss: 0.3328\n"
     ]
    },
    {
     "name": "stderr",
     "output_type": "stream",
     "text": [
      "Epoch 12/30 - Avg train Loss: 0.258311: 100%|███| 15/15 [00:38<00:00,  2.58s/it]\n",
      "Epoch 12/30 - Avg val Loss: 0.328896: 100%|███████| 4/4 [00:05<00:00,  1.40s/it]\n"
     ]
    },
    {
     "name": "stdout",
     "output_type": "stream",
     "text": [
      "New best weights found at epoch 12 with validation loss: 0.3289. Model saved to models/different-sweep-3_2024-07-29_23-28.pth\n",
      "Epoch 12/30 Summary : Train Loss: 0.2583, Val Loss: 0.3289, LR: 1.00e-04, auroc: 0.9222, auprc: 0.9266, accuracy: 0.7667, sensitivity: 0.8667, specificity: 0.8667, avg_train_loss: 0.2583, avg_val_loss: 0.3289\n"
     ]
    },
    {
     "name": "stderr",
     "output_type": "stream",
     "text": [
      "Epoch 13/30 - Avg train Loss: 0.265800: 100%|███| 15/15 [00:36<00:00,  2.43s/it]\n",
      "Epoch 13/30 - Avg val Loss: 0.327655: 100%|███████| 4/4 [00:06<00:00,  1.55s/it]\n"
     ]
    },
    {
     "name": "stdout",
     "output_type": "stream",
     "text": [
      "New best weights found at epoch 13 with validation loss: 0.3277. Model saved to models/different-sweep-3_2024-07-29_23-28.pth\n",
      "Epoch 13/30 Summary : Train Loss: 0.2658, Val Loss: 0.3277, LR: 1.00e-04, auroc: 0.9111, auprc: 0.9137, accuracy: 0.7833, sensitivity: 0.8333, specificity: 0.8667, avg_train_loss: 0.2658, avg_val_loss: 0.3277\n"
     ]
    },
    {
     "name": "stderr",
     "output_type": "stream",
     "text": [
      "Epoch 14/30 - Avg train Loss: 0.254361: 100%|███| 15/15 [00:36<00:00,  2.46s/it]\n",
      "Epoch 14/30 - Avg val Loss: 0.323621: 100%|███████| 4/4 [00:05<00:00,  1.40s/it]\n"
     ]
    },
    {
     "name": "stdout",
     "output_type": "stream",
     "text": [
      "New best weights found at epoch 14 with validation loss: 0.3236. Model saved to models/different-sweep-3_2024-07-29_23-28.pth\n",
      "Epoch 14/30 Summary : Train Loss: 0.2544, Val Loss: 0.3236, LR: 1.00e-04, auroc: 0.9233, auprc: 0.9223, accuracy: 0.7833, sensitivity: 0.8333, specificity: 0.8667, avg_train_loss: 0.2544, avg_val_loss: 0.3236\n"
     ]
    },
    {
     "name": "stderr",
     "output_type": "stream",
     "text": [
      "Epoch 15/30 - Avg train Loss: 0.257869: 100%|███| 15/15 [00:35<00:00,  2.40s/it]\n",
      "Epoch 15/30 - Avg val Loss: 0.321942: 100%|███████| 4/4 [00:05<00:00,  1.41s/it]\n"
     ]
    },
    {
     "name": "stdout",
     "output_type": "stream",
     "text": [
      "New best weights found at epoch 15 with validation loss: 0.3219. Model saved to models/different-sweep-3_2024-07-29_23-28.pth\n",
      "Epoch 15/30 Summary : Train Loss: 0.2579, Val Loss: 0.3219, LR: 1.00e-04, auroc: 0.9244, auprc: 0.9241, accuracy: 0.7833, sensitivity: 0.8333, specificity: 0.8667, avg_train_loss: 0.2579, avg_val_loss: 0.3219\n"
     ]
    },
    {
     "name": "stderr",
     "output_type": "stream",
     "text": [
      "Epoch 16/30 - Avg train Loss: 0.255031: 100%|███| 15/15 [00:36<00:00,  2.40s/it]\n",
      "Epoch 16/30 - Avg val Loss: 0.322192: 100%|███████| 4/4 [00:05<00:00,  1.39s/it]\n"
     ]
    },
    {
     "name": "stdout",
     "output_type": "stream",
     "text": [
      "Epoch 16/30 Summary : Train Loss: 0.2550, Val Loss: 0.3222, LR: 1.00e-04, auroc: 0.9278, auprc: 0.9294, accuracy: 0.8000, sensitivity: 0.8333, specificity: 0.9000, avg_train_loss: 0.2550, avg_val_loss: 0.3222\n"
     ]
    },
    {
     "name": "stderr",
     "output_type": "stream",
     "text": [
      "Epoch 17/30 - Avg train Loss: 0.247971: 100%|███| 15/15 [00:36<00:00,  2.40s/it]\n",
      "Epoch 17/30 - Avg val Loss: 0.318107: 100%|███████| 4/4 [00:05<00:00,  1.41s/it]\n"
     ]
    },
    {
     "name": "stdout",
     "output_type": "stream",
     "text": [
      "New best weights found at epoch 17 with validation loss: 0.3181. Model saved to models/different-sweep-3_2024-07-29_23-28.pth\n",
      "Epoch 17/30 Summary : Train Loss: 0.2480, Val Loss: 0.3181, LR: 1.00e-04, auroc: 0.9211, auprc: 0.9197, accuracy: 0.7667, sensitivity: 0.8667, specificity: 0.8667, avg_train_loss: 0.2480, avg_val_loss: 0.3181\n"
     ]
    },
    {
     "name": "stderr",
     "output_type": "stream",
     "text": [
      "Epoch 18/30 - Avg train Loss: 0.255129: 100%|███| 15/15 [00:37<00:00,  2.51s/it]\n",
      "Epoch 18/30 - Avg val Loss: 0.318243: 100%|███████| 4/4 [00:06<00:00,  1.52s/it]\n"
     ]
    },
    {
     "name": "stdout",
     "output_type": "stream",
     "text": [
      "Epoch 18/30 Summary : Train Loss: 0.2551, Val Loss: 0.3182, LR: 1.00e-04, auroc: 0.9211, auprc: 0.9264, accuracy: 0.7500, sensitivity: 0.8667, specificity: 0.9000, avg_train_loss: 0.2551, avg_val_loss: 0.3182\n"
     ]
    },
    {
     "name": "stderr",
     "output_type": "stream",
     "text": [
      "Epoch 19/30 - Avg train Loss: 0.252628: 100%|███| 15/15 [00:36<00:00,  2.41s/it]\n",
      "Epoch 19/30 - Avg val Loss: 0.320459: 100%|███████| 4/4 [00:06<00:00,  1.54s/it]\n"
     ]
    },
    {
     "name": "stdout",
     "output_type": "stream",
     "text": [
      "Epoch 19/30 Summary : Train Loss: 0.2526, Val Loss: 0.3205, LR: 1.00e-04, auroc: 0.9178, auprc: 0.9147, accuracy: 0.7833, sensitivity: 0.8667, specificity: 0.8667, avg_train_loss: 0.2526, avg_val_loss: 0.3205\n"
     ]
    },
    {
     "name": "stderr",
     "output_type": "stream",
     "text": [
      "Epoch 20/30 - Avg train Loss: 0.249326: 100%|███| 15/15 [00:40<00:00,  2.71s/it]\n",
      "Epoch 20/30 - Avg val Loss: 0.319283: 100%|███████| 4/4 [00:05<00:00,  1.47s/it]\n"
     ]
    },
    {
     "name": "stdout",
     "output_type": "stream",
     "text": [
      "Epoch 20/30 Summary : Train Loss: 0.2493, Val Loss: 0.3193, LR: 1.00e-04, auroc: 0.9156, auprc: 0.9135, accuracy: 0.8000, sensitivity: 0.8333, specificity: 0.8667, avg_train_loss: 0.2493, avg_val_loss: 0.3193\n"
     ]
    },
    {
     "name": "stderr",
     "output_type": "stream",
     "text": [
      "Epoch 21/30 - Avg train Loss: 0.243814: 100%|███| 15/15 [00:36<00:00,  2.44s/it]\n",
      "Epoch 21/30 - Avg val Loss: 0.318818: 100%|███████| 4/4 [00:05<00:00,  1.42s/it]\n"
     ]
    },
    {
     "name": "stdout",
     "output_type": "stream",
     "text": [
      "Epoch 21/30 Summary : Train Loss: 0.2438, Val Loss: 0.3188, LR: 1.00e-04, auroc: 0.9233, auprc: 0.9249, accuracy: 0.8000, sensitivity: 0.8000, specificity: 0.9000, avg_train_loss: 0.2438, avg_val_loss: 0.3188\n"
     ]
    },
    {
     "name": "stderr",
     "output_type": "stream",
     "text": [
      "Epoch 22/30 - Avg train Loss: 0.241654: 100%|███| 15/15 [00:35<00:00,  2.39s/it]\n",
      "Epoch 22/30 - Avg val Loss: 0.324137: 100%|███████| 4/4 [00:05<00:00,  1.44s/it]\n"
     ]
    },
    {
     "name": "stdout",
     "output_type": "stream",
     "text": [
      "Epoch 22/30 Summary : Train Loss: 0.2417, Val Loss: 0.3241, LR: 1.00e-04, auroc: 0.9111, auprc: 0.9118, accuracy: 0.8000, sensitivity: 0.8333, specificity: 0.8667, avg_train_loss: 0.2417, avg_val_loss: 0.3241\n"
     ]
    },
    {
     "name": "stderr",
     "output_type": "stream",
     "text": [
      "Epoch 23/30 - Avg train Loss: 0.258825: 100%|███| 15/15 [00:37<00:00,  2.50s/it]\n",
      "Epoch 23/30 - Avg val Loss: 0.324626: 100%|███████| 4/4 [00:05<00:00,  1.48s/it]\n"
     ]
    },
    {
     "name": "stdout",
     "output_type": "stream",
     "text": [
      "Epoch 23/30 Summary : Train Loss: 0.2588, Val Loss: 0.3246, LR: 1.00e-05, auroc: 0.9111, auprc: 0.9081, accuracy: 0.7833, sensitivity: 0.8667, specificity: 0.8333, avg_train_loss: 0.2588, avg_val_loss: 0.3246\n"
     ]
    },
    {
     "name": "stderr",
     "output_type": "stream",
     "text": [
      "Epoch 24/30 - Avg train Loss: 0.252854: 100%|███| 15/15 [00:38<00:00,  2.55s/it]\n",
      "Epoch 24/30 - Avg val Loss: 0.323514: 100%|███████| 4/4 [00:06<00:00,  1.59s/it]\n"
     ]
    },
    {
     "name": "stdout",
     "output_type": "stream",
     "text": [
      "Epoch 24/30 Summary : Train Loss: 0.2529, Val Loss: 0.3235, LR: 1.00e-05, auroc: 0.9144, auprc: 0.9092, accuracy: 0.8000, sensitivity: 0.8667, specificity: 0.8333, avg_train_loss: 0.2529, avg_val_loss: 0.3235\n"
     ]
    },
    {
     "name": "stderr",
     "output_type": "stream",
     "text": [
      "Epoch 25/30 - Avg train Loss: 0.237126: 100%|███| 15/15 [00:38<00:00,  2.58s/it]\n",
      "Epoch 25/30 - Avg val Loss: 0.323914: 100%|███████| 4/4 [00:06<00:00,  1.57s/it]\n"
     ]
    },
    {
     "name": "stdout",
     "output_type": "stream",
     "text": [
      "Epoch 25/30 Summary : Train Loss: 0.2371, Val Loss: 0.3239, LR: 1.00e-05, auroc: 0.9100, auprc: 0.9066, accuracy: 0.7833, sensitivity: 0.8667, specificity: 0.8333, avg_train_loss: 0.2371, avg_val_loss: 0.3239\n"
     ]
    },
    {
     "name": "stderr",
     "output_type": "stream",
     "text": [
      "Epoch 26/30 - Avg train Loss: 0.245558: 100%|███| 15/15 [00:37<00:00,  2.51s/it]\n",
      "Epoch 26/30 - Avg val Loss: 0.322633: 100%|███████| 4/4 [00:05<00:00,  1.39s/it]\n"
     ]
    },
    {
     "name": "stdout",
     "output_type": "stream",
     "text": [
      "Epoch 26/30 Summary : Train Loss: 0.2456, Val Loss: 0.3226, LR: 1.00e-05, auroc: 0.9133, auprc: 0.9111, accuracy: 0.7833, sensitivity: 0.8000, specificity: 0.8667, avg_train_loss: 0.2456, avg_val_loss: 0.3226\n"
     ]
    },
    {
     "name": "stderr",
     "output_type": "stream",
     "text": [
      "Epoch 27/30 - Avg train Loss: 0.258535: 100%|███| 15/15 [00:35<00:00,  2.39s/it]\n",
      "Epoch 27/30 - Avg val Loss: 0.321618: 100%|███████| 4/4 [00:05<00:00,  1.38s/it]\n"
     ]
    },
    {
     "name": "stdout",
     "output_type": "stream",
     "text": [
      "Epoch 27/30 Summary : Train Loss: 0.2585, Val Loss: 0.3216, LR: 1.00e-05, auroc: 0.9144, auprc: 0.9147, accuracy: 0.7667, sensitivity: 0.7667, specificity: 0.9000, avg_train_loss: 0.2585, avg_val_loss: 0.3216\n"
     ]
    },
    {
     "name": "stderr",
     "output_type": "stream",
     "text": [
      "Epoch 28/30 - Avg train Loss: 0.250430: 100%|███| 15/15 [00:36<00:00,  2.41s/it]\n",
      "Epoch 28/30 - Avg val Loss: 0.321920: 100%|███████| 4/4 [00:05<00:00,  1.42s/it]\n"
     ]
    },
    {
     "name": "stdout",
     "output_type": "stream",
     "text": [
      "Epoch 28/30 Summary : Train Loss: 0.2504, Val Loss: 0.3219, LR: 1.00e-05, auroc: 0.9178, auprc: 0.9168, accuracy: 0.8000, sensitivity: 0.8667, specificity: 0.8333, avg_train_loss: 0.2504, avg_val_loss: 0.3219\n"
     ]
    },
    {
     "name": "stderr",
     "output_type": "stream",
     "text": [
      "Epoch 29/30 - Avg train Loss: 0.244556: 100%|███| 15/15 [00:36<00:00,  2.40s/it]\n",
      "Epoch 29/30 - Avg val Loss: 0.321350: 100%|███████| 4/4 [00:05<00:00,  1.40s/it]\n"
     ]
    },
    {
     "name": "stdout",
     "output_type": "stream",
     "text": [
      "Epoch 29/30 Summary : Train Loss: 0.2446, Val Loss: 0.3214, LR: 1.00e-06, auroc: 0.9178, auprc: 0.9171, accuracy: 0.7667, sensitivity: 0.8667, specificity: 0.8333, avg_train_loss: 0.2446, avg_val_loss: 0.3214\n"
     ]
    },
    {
     "name": "stderr",
     "output_type": "stream",
     "text": [
      "Epoch 30/30 - Avg train Loss: 0.242955: 100%|███| 15/15 [00:37<00:00,  2.47s/it]\n",
      "Epoch 30/30 - Avg val Loss: 0.321246: 100%|███████| 4/4 [00:05<00:00,  1.40s/it]\n"
     ]
    },
    {
     "name": "stdout",
     "output_type": "stream",
     "text": [
      "Epoch 30/30 Summary : Train Loss: 0.2430, Val Loss: 0.3212, LR: 1.00e-06, auroc: 0.9178, auprc: 0.9168, accuracy: 0.7833, sensitivity: 0.8667, specificity: 0.8333, avg_train_loss: 0.2430, avg_val_loss: 0.3212\n"
     ]
    },
    {
     "data": {
      "application/vnd.jupyter.widget-view+json": {
       "model_id": "",
       "version_major": 2,
       "version_minor": 0
      },
      "text/plain": [
       "VBox(children=(Label(value='0.008 MB of 0.008 MB uploaded\\r'), FloatProgress(value=1.0, max=1.0)))"
      ]
     },
     "metadata": {},
     "output_type": "display_data"
    },
    {
     "data": {
      "text/html": [
       "<style>\n",
       "    table.wandb td:nth-child(1) { padding: 0 10px; text-align: left ; width: auto;} td:nth-child(2) {text-align: left ; width: 100%}\n",
       "    .wandb-row { display: flex; flex-direction: row; flex-wrap: wrap; justify-content: flex-start; width: 100% }\n",
       "    .wandb-col { display: flex; flex-direction: column; flex-basis: 100%; flex: 1; padding: 10px; }\n",
       "    </style>\n",
       "<div class=\"wandb-row\"><div class=\"wandb-col\"><h3>Run history:</h3><br/><table class=\"wandb\"><tr><td>accuracy</td><td>▁▁▄▇▆█▇▇▅▇▆▆▆▆▆▇▆▆▆▇▇▇▆▇▆▆▆▇▆▆</td></tr><tr><td>auprc</td><td>▃▄▅█▇▄█▅▁▆▅▆▅▆▆▆▅▆▅▅▆▅▄▄▄▅▅▅▅▅</td></tr><tr><td>auroc</td><td>▁▂▄█▇▄█▆▂▅▃▅▄▆▆▆▅▅▅▄▆▄▄▄▄▄▄▅▅▅</td></tr><tr><td>avg_train_loss</td><td>█▆▅▄▄▃▄▃▃▃▂▂▂▂▂▂▁▂▂▂▁▁▂▂▁▁▂▂▁▁</td></tr><tr><td>avg_val_loss</td><td>█▇▂▂▅▃▅▂▄▂▂▂▁▁▁▁▁▁▁▁▁▁▁▁▁▁▁▁▁▁</td></tr><tr><td>sensitivity</td><td>▁▇▇▅▄▅▃▇█▅▄▄▃▃▃▃▄▄▄▃▂▃▄▄▄▂▁▄▄▄</td></tr><tr><td>specificity</td><td>▅▁▄▅▅▅█▃▂▅▅▅▅▅▅▆▅▆▅▅▆▅▅▅▅▅▆▅▅▅</td></tr></table><br/></div><div class=\"wandb-col\"><h3>Run summary:</h3><br/><table class=\"wandb\"><tr><td>accuracy</td><td>0.78333</td></tr><tr><td>auprc</td><td>0.91677</td></tr><tr><td>auroc</td><td>0.91778</td></tr><tr><td>avg_train_loss</td><td>0.24295</td></tr><tr><td>avg_val_loss</td><td>0.32125</td></tr><tr><td>sensitivity</td><td>0.86667</td></tr><tr><td>specificity</td><td>0.83333</td></tr></table><br/></div></div>"
      ],
      "text/plain": [
       "<IPython.core.display.HTML object>"
      ]
     },
     "metadata": {},
     "output_type": "display_data"
    },
    {
     "data": {
      "text/html": [
       " View run <strong style=\"color:#cdcd00\">different-sweep-3</strong> at: <a href='https://wandb.ai/miccai-challenge-2024/task2/runs/t48nfnbl' target=\"_blank\">https://wandb.ai/miccai-challenge-2024/task2/runs/t48nfnbl</a><br/> View project at: <a href='https://wandb.ai/miccai-challenge-2024/task2' target=\"_blank\">https://wandb.ai/miccai-challenge-2024/task2</a><br/>Synced 6 W&B file(s), 0 media file(s), 0 artifact file(s) and 0 other file(s)"
      ],
      "text/plain": [
       "<IPython.core.display.HTML object>"
      ]
     },
     "metadata": {},
     "output_type": "display_data"
    },
    {
     "data": {
      "text/html": [
       "Find logs at: <code>./wandb/run-20240729_232849-t48nfnbl/logs</code>"
      ],
      "text/plain": [
       "<IPython.core.display.HTML object>"
      ]
     },
     "metadata": {},
     "output_type": "display_data"
    },
    {
     "name": "stdout",
     "output_type": "stream",
     "text": [
      "Finished training\n"
     ]
    },
    {
     "name": "stderr",
     "output_type": "stream",
     "text": [
      "\u001b[34m\u001b[1mwandb\u001b[0m: Agent Starting Run: e98kpwfr with config:\n",
      "\u001b[34m\u001b[1mwandb\u001b[0m: \tbatch_size: 16\n",
      "\u001b[34m\u001b[1mwandb\u001b[0m: \tepochs: 30\n",
      "\u001b[34m\u001b[1mwandb\u001b[0m: \tloss_weight: 0.5\n",
      "\u001b[34m\u001b[1mwandb\u001b[0m: \tlr: 0.001\n",
      "\u001b[34m\u001b[1mwandb\u001b[0m: \tlr_schedule_factor: 0.1\n",
      "\u001b[34m\u001b[1mwandb\u001b[0m: \tlr_schedule_patience: 5\n",
      "\u001b[34m\u001b[1mwandb\u001b[0m: \tmodel: ShuffleNet\n",
      "\u001b[34m\u001b[1mwandb\u001b[0m: \tp_affine: 0.3\n",
      "\u001b[34m\u001b[1mwandb\u001b[0m: \tp_clahe: 1\n",
      "\u001b[34m\u001b[1mwandb\u001b[0m: \tp_equalize: 0\n",
      "\u001b[34m\u001b[1mwandb\u001b[0m: \tp_gaussblur: 0\n",
      "\u001b[34m\u001b[1mwandb\u001b[0m: \tp_horizontalflip: 0.5\n",
      "\u001b[34m\u001b[1mwandb\u001b[0m: \tresampling_strategy: undersampling\n",
      "\u001b[34m\u001b[1mwandb\u001b[0m: \trotation: 10\n",
      "\u001b[34m\u001b[1mwandb\u001b[0m: \u001b[33mWARNING\u001b[0m Ignored wandb.init() arg project when running a sweep.\n"
     ]
    },
    {
     "data": {
      "text/html": [
       "wandb version 0.17.5 is available!  To upgrade, please run:\n",
       " $ pip install wandb --upgrade"
      ],
      "text/plain": [
       "<IPython.core.display.HTML object>"
      ]
     },
     "metadata": {},
     "output_type": "display_data"
    },
    {
     "data": {
      "text/html": [
       "Tracking run with wandb version 0.17.0"
      ],
      "text/plain": [
       "<IPython.core.display.HTML object>"
      ]
     },
     "metadata": {},
     "output_type": "display_data"
    },
    {
     "data": {
      "text/html": [
       "Run data is saved locally in <code>/home/optima/mhaderer/AILS-MICCAI-UWF4DR-Challenge/wandb/run-20240729_235054-e98kpwfr</code>"
      ],
      "text/plain": [
       "<IPython.core.display.HTML object>"
      ]
     },
     "metadata": {},
     "output_type": "display_data"
    },
    {
     "data": {
      "text/html": [
       "Syncing run <strong><a href='https://wandb.ai/miccai-challenge-2024/task2/runs/e98kpwfr' target=\"_blank\">swift-sweep-4</a></strong> to <a href='https://wandb.ai/miccai-challenge-2024/task2' target=\"_blank\">Weights & Biases</a> (<a href='https://wandb.me/run' target=\"_blank\">docs</a>)<br/>Sweep page: <a href='https://wandb.ai/miccai-challenge-2024/task2/sweeps/f4v5vt07' target=\"_blank\">https://wandb.ai/miccai-challenge-2024/task2/sweeps/f4v5vt07</a>"
      ],
      "text/plain": [
       "<IPython.core.display.HTML object>"
      ]
     },
     "metadata": {},
     "output_type": "display_data"
    },
    {
     "data": {
      "text/html": [
       " View project at <a href='https://wandb.ai/miccai-challenge-2024/task2' target=\"_blank\">https://wandb.ai/miccai-challenge-2024/task2</a>"
      ],
      "text/plain": [
       "<IPython.core.display.HTML object>"
      ]
     },
     "metadata": {},
     "output_type": "display_data"
    },
    {
     "data": {
      "text/html": [
       " View sweep at <a href='https://wandb.ai/miccai-challenge-2024/task2/sweeps/f4v5vt07' target=\"_blank\">https://wandb.ai/miccai-challenge-2024/task2/sweeps/f4v5vt07</a>"
      ],
      "text/plain": [
       "<IPython.core.display.HTML object>"
      ]
     },
     "metadata": {},
     "output_type": "display_data"
    },
    {
     "data": {
      "text/html": [
       " View run at <a href='https://wandb.ai/miccai-challenge-2024/task2/runs/e98kpwfr' target=\"_blank\">https://wandb.ai/miccai-challenge-2024/task2/runs/e98kpwfr</a>"
      ],
      "text/plain": [
       "<IPython.core.display.HTML object>"
      ]
     },
     "metadata": {},
     "output_type": "display_data"
    },
    {
     "name": "stderr",
     "output_type": "stream",
     "text": [
      "Using cache found in /home/optima/mhaderer/.cache/torch/hub/pytorch_vision_v0.10.0\n"
     ]
    },
    {
     "name": "stdout",
     "output_type": "stream",
     "text": [
      "Using device: cuda\n",
      "Number of output features in ShuffleNet encoder:  1\n",
      "Now train train train\n"
     ]
    },
    {
     "name": "stderr",
     "output_type": "stream",
     "text": [
      "Epoch 1/30 - Avg train Loss: 0.403320: 100%|████| 15/15 [00:21<00:00,  1.45s/it]\n",
      "Epoch 1/30 - Avg val Loss: 0.396835: 100%|████████| 4/4 [00:05<00:00,  1.40s/it]\n"
     ]
    },
    {
     "name": "stdout",
     "output_type": "stream",
     "text": [
      "New best weights found at epoch 1 with validation loss: 0.3968. Model saved to models/swift-sweep-4_2024-07-29_23-51.pth\n",
      "Epoch 1/30 Summary : Train Loss: 0.4033, Val Loss: 0.3968, LR: 1.00e-03, auroc: 0.7844, auprc: 0.8002, accuracy: 0.5000, sensitivity: 0.6667, specificity: 0.8000, avg_train_loss: 0.4033, avg_val_loss: 0.3968\n"
     ]
    },
    {
     "name": "stderr",
     "output_type": "stream",
     "text": [
      "Epoch 2/30 - Avg train Loss: 0.322321: 100%|████| 15/15 [00:20<00:00,  1.40s/it]\n",
      "Epoch 2/30 - Avg val Loss: 0.381032: 100%|████████| 4/4 [00:05<00:00,  1.38s/it]\n"
     ]
    },
    {
     "name": "stdout",
     "output_type": "stream",
     "text": [
      "New best weights found at epoch 2 with validation loss: 0.3810. Model saved to models/swift-sweep-4_2024-07-29_23-51.pth\n",
      "Epoch 2/30 Summary : Train Loss: 0.3223, Val Loss: 0.3810, LR: 1.00e-03, auroc: 0.7789, auprc: 0.7746, accuracy: 0.6667, sensitivity: 0.9333, specificity: 0.5333, avg_train_loss: 0.3223, avg_val_loss: 0.3810\n"
     ]
    },
    {
     "name": "stderr",
     "output_type": "stream",
     "text": [
      "Epoch 3/30 - Avg train Loss: 0.292568: 100%|████| 15/15 [00:22<00:00,  1.50s/it]\n",
      "Epoch 3/30 - Avg val Loss: 0.348200: 100%|████████| 4/4 [00:05<00:00,  1.42s/it]\n"
     ]
    },
    {
     "name": "stdout",
     "output_type": "stream",
     "text": [
      "New best weights found at epoch 3 with validation loss: 0.3482. Model saved to models/swift-sweep-4_2024-07-29_23-51.pth\n",
      "Epoch 3/30 Summary : Train Loss: 0.2926, Val Loss: 0.3482, LR: 1.00e-03, auroc: 0.8667, auprc: 0.8752, accuracy: 0.6167, sensitivity: 0.8667, specificity: 0.7333, avg_train_loss: 0.2926, avg_val_loss: 0.3482\n"
     ]
    },
    {
     "name": "stderr",
     "output_type": "stream",
     "text": [
      "Epoch 4/30 - Avg train Loss: 0.293383: 100%|████| 15/15 [00:21<00:00,  1.40s/it]\n",
      "Epoch 4/30 - Avg val Loss: 0.458078: 100%|████████| 4/4 [00:05<00:00,  1.39s/it]\n"
     ]
    },
    {
     "name": "stdout",
     "output_type": "stream",
     "text": [
      "Epoch 4/30 Summary : Train Loss: 0.2934, Val Loss: 0.4581, LR: 1.00e-03, auroc: 0.8678, auprc: 0.8680, accuracy: 0.5000, sensitivity: 0.7333, specificity: 0.8333, avg_train_loss: 0.2934, avg_val_loss: 0.4581\n"
     ]
    },
    {
     "name": "stderr",
     "output_type": "stream",
     "text": [
      "Epoch 5/30 - Avg train Loss: 0.278270: 100%|████| 15/15 [00:20<00:00,  1.40s/it]\n",
      "Epoch 5/30 - Avg val Loss: 0.372761: 100%|████████| 4/4 [00:05<00:00,  1.38s/it]\n"
     ]
    },
    {
     "name": "stdout",
     "output_type": "stream",
     "text": [
      "Epoch 5/30 Summary : Train Loss: 0.2783, Val Loss: 0.3728, LR: 1.00e-03, auroc: 0.8811, auprc: 0.8796, accuracy: 0.5833, sensitivity: 0.7333, specificity: 0.9000, avg_train_loss: 0.2783, avg_val_loss: 0.3728\n"
     ]
    },
    {
     "name": "stderr",
     "output_type": "stream",
     "text": [
      "Epoch 6/30 - Avg train Loss: 0.269761: 100%|████| 15/15 [00:22<00:00,  1.47s/it]\n",
      "Epoch 6/30 - Avg val Loss: 0.346326: 100%|████████| 4/4 [00:06<00:00,  1.56s/it]\n"
     ]
    },
    {
     "name": "stdout",
     "output_type": "stream",
     "text": [
      "New best weights found at epoch 6 with validation loss: 0.3463. Model saved to models/swift-sweep-4_2024-07-29_23-51.pth\n",
      "Epoch 6/30 Summary : Train Loss: 0.2698, Val Loss: 0.3463, LR: 1.00e-03, auroc: 0.8733, auprc: 0.8835, accuracy: 0.6500, sensitivity: 0.6667, specificity: 0.9000, avg_train_loss: 0.2698, avg_val_loss: 0.3463\n"
     ]
    },
    {
     "name": "stderr",
     "output_type": "stream",
     "text": [
      "Epoch 7/30 - Avg train Loss: 0.267653: 100%|████| 15/15 [00:21<00:00,  1.42s/it]\n",
      "Epoch 7/30 - Avg val Loss: 0.343934: 100%|████████| 4/4 [00:05<00:00,  1.39s/it]\n"
     ]
    },
    {
     "name": "stdout",
     "output_type": "stream",
     "text": [
      "New best weights found at epoch 7 with validation loss: 0.3439. Model saved to models/swift-sweep-4_2024-07-29_23-51.pth\n",
      "Epoch 7/30 Summary : Train Loss: 0.2677, Val Loss: 0.3439, LR: 1.00e-03, auroc: 0.8667, auprc: 0.8697, accuracy: 0.7000, sensitivity: 0.8000, specificity: 0.8000, avg_train_loss: 0.2677, avg_val_loss: 0.3439\n"
     ]
    },
    {
     "name": "stderr",
     "output_type": "stream",
     "text": [
      "Epoch 8/30 - Avg train Loss: 0.254488: 100%|████| 15/15 [00:20<00:00,  1.39s/it]\n",
      "Epoch 8/30 - Avg val Loss: 0.346860: 100%|████████| 4/4 [00:05<00:00,  1.42s/it]\n"
     ]
    },
    {
     "name": "stdout",
     "output_type": "stream",
     "text": [
      "Epoch 8/30 Summary : Train Loss: 0.2545, Val Loss: 0.3469, LR: 1.00e-03, auroc: 0.8544, auprc: 0.8650, accuracy: 0.6667, sensitivity: 0.7667, specificity: 0.8667, avg_train_loss: 0.2545, avg_val_loss: 0.3469\n"
     ]
    },
    {
     "name": "stderr",
     "output_type": "stream",
     "text": [
      "Epoch 9/30 - Avg train Loss: 0.258590: 100%|████| 15/15 [00:20<00:00,  1.39s/it]\n",
      "Epoch 9/30 - Avg val Loss: 0.377154: 100%|████████| 4/4 [00:05<00:00,  1.42s/it]\n"
     ]
    },
    {
     "name": "stdout",
     "output_type": "stream",
     "text": [
      "Epoch 9/30 Summary : Train Loss: 0.2586, Val Loss: 0.3772, LR: 1.00e-03, auroc: 0.8611, auprc: 0.8896, accuracy: 0.7833, sensitivity: 0.7667, specificity: 0.8667, avg_train_loss: 0.2586, avg_val_loss: 0.3772\n"
     ]
    },
    {
     "name": "stderr",
     "output_type": "stream",
     "text": [
      "Epoch 10/30 - Avg train Loss: 0.249792: 100%|███| 15/15 [00:21<00:00,  1.40s/it]\n",
      "Epoch 10/30 - Avg val Loss: 0.346550: 100%|███████| 4/4 [00:05<00:00,  1.38s/it]\n"
     ]
    },
    {
     "name": "stdout",
     "output_type": "stream",
     "text": [
      "Epoch 10/30 Summary : Train Loss: 0.2498, Val Loss: 0.3466, LR: 1.00e-03, auroc: 0.8711, auprc: 0.8876, accuracy: 0.6667, sensitivity: 0.8000, specificity: 0.8333, avg_train_loss: 0.2498, avg_val_loss: 0.3466\n"
     ]
    },
    {
     "name": "stderr",
     "output_type": "stream",
     "text": [
      "Epoch 11/30 - Avg train Loss: 0.246445: 100%|███| 15/15 [00:21<00:00,  1.40s/it]\n",
      "Epoch 11/30 - Avg val Loss: 0.395800: 100%|███████| 4/4 [00:05<00:00,  1.39s/it]\n"
     ]
    },
    {
     "name": "stdout",
     "output_type": "stream",
     "text": [
      "Epoch 11/30 Summary : Train Loss: 0.2464, Val Loss: 0.3958, LR: 1.00e-03, auroc: 0.8500, auprc: 0.8342, accuracy: 0.5667, sensitivity: 0.7667, specificity: 0.8333, avg_train_loss: 0.2464, avg_val_loss: 0.3958\n"
     ]
    },
    {
     "name": "stderr",
     "output_type": "stream",
     "text": [
      "Epoch 12/30 - Avg train Loss: 0.246678: 100%|███| 15/15 [00:22<00:00,  1.47s/it]\n",
      "Epoch 12/30 - Avg val Loss: 0.330749: 100%|███████| 4/4 [00:06<00:00,  1.55s/it]\n"
     ]
    },
    {
     "name": "stdout",
     "output_type": "stream",
     "text": [
      "New best weights found at epoch 12 with validation loss: 0.3307. Model saved to models/swift-sweep-4_2024-07-29_23-51.pth\n",
      "Epoch 12/30 Summary : Train Loss: 0.2467, Val Loss: 0.3307, LR: 1.00e-03, auroc: 0.9022, auprc: 0.9028, accuracy: 0.6833, sensitivity: 0.8333, specificity: 0.8333, avg_train_loss: 0.2467, avg_val_loss: 0.3307\n"
     ]
    },
    {
     "name": "stderr",
     "output_type": "stream",
     "text": [
      "Epoch 13/30 - Avg train Loss: 0.249332: 100%|███| 15/15 [00:23<00:00,  1.55s/it]\n",
      "Epoch 13/30 - Avg val Loss: 0.347958: 100%|███████| 4/4 [00:06<00:00,  1.58s/it]\n"
     ]
    },
    {
     "name": "stdout",
     "output_type": "stream",
     "text": [
      "Epoch 13/30 Summary : Train Loss: 0.2493, Val Loss: 0.3480, LR: 1.00e-03, auroc: 0.8722, auprc: 0.8816, accuracy: 0.5667, sensitivity: 0.7667, specificity: 0.9000, avg_train_loss: 0.2493, avg_val_loss: 0.3480\n"
     ]
    },
    {
     "name": "stderr",
     "output_type": "stream",
     "text": [
      "Epoch 14/30 - Avg train Loss: 0.251611: 100%|███| 15/15 [00:23<00:00,  1.54s/it]\n",
      "Epoch 14/30 - Avg val Loss: 0.342466: 100%|███████| 4/4 [00:06<00:00,  1.57s/it]\n"
     ]
    },
    {
     "name": "stdout",
     "output_type": "stream",
     "text": [
      "Epoch 14/30 Summary : Train Loss: 0.2516, Val Loss: 0.3425, LR: 1.00e-03, auroc: 0.8856, auprc: 0.9071, accuracy: 0.8167, sensitivity: 0.9000, specificity: 0.7667, avg_train_loss: 0.2516, avg_val_loss: 0.3425\n"
     ]
    },
    {
     "name": "stderr",
     "output_type": "stream",
     "text": [
      "Epoch 15/30 - Avg train Loss: 0.252476: 100%|███| 15/15 [00:23<00:00,  1.55s/it]\n",
      "Epoch 15/30 - Avg val Loss: 0.334694: 100%|███████| 4/4 [00:06<00:00,  1.60s/it]\n"
     ]
    },
    {
     "name": "stdout",
     "output_type": "stream",
     "text": [
      "Epoch 15/30 Summary : Train Loss: 0.2525, Val Loss: 0.3347, LR: 1.00e-03, auroc: 0.8922, auprc: 0.9006, accuracy: 0.6833, sensitivity: 0.7667, specificity: 0.9000, avg_train_loss: 0.2525, avg_val_loss: 0.3347\n"
     ]
    },
    {
     "name": "stderr",
     "output_type": "stream",
     "text": [
      "Epoch 16/30 - Avg train Loss: 0.236588: 100%|███| 15/15 [00:23<00:00,  1.56s/it]\n",
      "Epoch 16/30 - Avg val Loss: 0.343697: 100%|███████| 4/4 [00:06<00:00,  1.60s/it]\n"
     ]
    },
    {
     "name": "stdout",
     "output_type": "stream",
     "text": [
      "Epoch 16/30 Summary : Train Loss: 0.2366, Val Loss: 0.3437, LR: 1.00e-03, auroc: 0.8878, auprc: 0.8837, accuracy: 0.6500, sensitivity: 0.8000, specificity: 0.8333, avg_train_loss: 0.2366, avg_val_loss: 0.3437\n"
     ]
    },
    {
     "name": "stderr",
     "output_type": "stream",
     "text": [
      "Epoch 17/30 - Avg train Loss: 0.237887: 100%|███| 15/15 [00:24<00:00,  1.62s/it]\n",
      "Epoch 17/30 - Avg val Loss: 0.340033: 100%|███████| 4/4 [00:06<00:00,  1.58s/it]\n"
     ]
    },
    {
     "name": "stdout",
     "output_type": "stream",
     "text": [
      "Epoch 17/30 Summary : Train Loss: 0.2379, Val Loss: 0.3400, LR: 1.00e-03, auroc: 0.9122, auprc: 0.9104, accuracy: 0.6333, sensitivity: 1.0000, specificity: 0.7000, avg_train_loss: 0.2379, avg_val_loss: 0.3400\n"
     ]
    },
    {
     "name": "stderr",
     "output_type": "stream",
     "text": [
      "Epoch 18/30 - Avg train Loss: 0.238716: 100%|███| 15/15 [00:22<00:00,  1.53s/it]\n",
      "Epoch 18/30 - Avg val Loss: 0.346377: 100%|███████| 4/4 [00:06<00:00,  1.52s/it]\n"
     ]
    },
    {
     "name": "stdout",
     "output_type": "stream",
     "text": [
      "Epoch 18/30 Summary : Train Loss: 0.2387, Val Loss: 0.3464, LR: 1.00e-04, auroc: 0.9133, auprc: 0.9153, accuracy: 0.6167, sensitivity: 0.9333, specificity: 0.7333, avg_train_loss: 0.2387, avg_val_loss: 0.3464\n"
     ]
    },
    {
     "name": "stderr",
     "output_type": "stream",
     "text": [
      "Epoch 19/30 - Avg train Loss: 0.234305: 100%|███| 15/15 [00:23<00:00,  1.56s/it]\n",
      "Epoch 19/30 - Avg val Loss: 0.348956: 100%|███████| 4/4 [00:06<00:00,  1.56s/it]\n"
     ]
    },
    {
     "name": "stdout",
     "output_type": "stream",
     "text": [
      "Epoch 19/30 Summary : Train Loss: 0.2343, Val Loss: 0.3490, LR: 1.00e-04, auroc: 0.9044, auprc: 0.9046, accuracy: 0.6000, sensitivity: 1.0000, specificity: 0.6667, avg_train_loss: 0.2343, avg_val_loss: 0.3490\n"
     ]
    },
    {
     "name": "stderr",
     "output_type": "stream",
     "text": [
      "Epoch 20/30 - Avg train Loss: 0.234289: 100%|███| 15/15 [00:23<00:00,  1.56s/it]\n",
      "Epoch 20/30 - Avg val Loss: 0.341300: 100%|███████| 4/4 [00:06<00:00,  1.58s/it]\n"
     ]
    },
    {
     "name": "stdout",
     "output_type": "stream",
     "text": [
      "Epoch 20/30 Summary : Train Loss: 0.2343, Val Loss: 0.3413, LR: 1.00e-04, auroc: 0.9100, auprc: 0.9115, accuracy: 0.6333, sensitivity: 0.8000, specificity: 0.8667, avg_train_loss: 0.2343, avg_val_loss: 0.3413\n"
     ]
    },
    {
     "name": "stderr",
     "output_type": "stream",
     "text": [
      "Epoch 21/30 - Avg train Loss: 0.231318: 100%|███| 15/15 [00:23<00:00,  1.55s/it]\n",
      "Epoch 21/30 - Avg val Loss: 0.340577: 100%|███████| 4/4 [00:06<00:00,  1.58s/it]\n"
     ]
    },
    {
     "name": "stdout",
     "output_type": "stream",
     "text": [
      "Epoch 21/30 Summary : Train Loss: 0.2313, Val Loss: 0.3406, LR: 1.00e-04, auroc: 0.9078, auprc: 0.9102, accuracy: 0.6333, sensitivity: 1.0000, specificity: 0.6667, avg_train_loss: 0.2313, avg_val_loss: 0.3406\n"
     ]
    },
    {
     "name": "stderr",
     "output_type": "stream",
     "text": [
      "Epoch 22/30 - Avg train Loss: 0.233385: 100%|███| 15/15 [00:23<00:00,  1.57s/it]\n",
      "Epoch 22/30 - Avg val Loss: 0.334954: 100%|███████| 4/4 [00:06<00:00,  1.57s/it]\n"
     ]
    },
    {
     "name": "stdout",
     "output_type": "stream",
     "text": [
      "Epoch 22/30 Summary : Train Loss: 0.2334, Val Loss: 0.3350, LR: 1.00e-04, auroc: 0.9100, auprc: 0.9136, accuracy: 0.6500, sensitivity: 1.0000, specificity: 0.6667, avg_train_loss: 0.2334, avg_val_loss: 0.3350\n"
     ]
    },
    {
     "name": "stderr",
     "output_type": "stream",
     "text": [
      "Epoch 23/30 - Avg train Loss: 0.233481: 100%|███| 15/15 [00:23<00:00,  1.54s/it]\n",
      "Epoch 23/30 - Avg val Loss: 0.344847: 100%|███████| 4/4 [00:06<00:00,  1.58s/it]\n"
     ]
    },
    {
     "name": "stdout",
     "output_type": "stream",
     "text": [
      "Epoch 23/30 Summary : Train Loss: 0.2335, Val Loss: 0.3448, LR: 1.00e-04, auroc: 0.9056, auprc: 0.9090, accuracy: 0.6167, sensitivity: 1.0000, specificity: 0.6667, avg_train_loss: 0.2335, avg_val_loss: 0.3448\n"
     ]
    },
    {
     "name": "stderr",
     "output_type": "stream",
     "text": [
      "Epoch 24/30 - Avg train Loss: 0.236621: 100%|███| 15/15 [00:23<00:00,  1.54s/it]\n",
      "Epoch 24/30 - Avg val Loss: 0.339821: 100%|███████| 4/4 [00:06<00:00,  1.58s/it]\n"
     ]
    },
    {
     "name": "stdout",
     "output_type": "stream",
     "text": [
      "Epoch 24/30 Summary : Train Loss: 0.2366, Val Loss: 0.3398, LR: 1.00e-05, auroc: 0.9033, auprc: 0.9073, accuracy: 0.6333, sensitivity: 1.0000, specificity: 0.6667, avg_train_loss: 0.2366, avg_val_loss: 0.3398\n"
     ]
    },
    {
     "name": "stderr",
     "output_type": "stream",
     "text": [
      "Epoch 25/30 - Avg train Loss: 0.234838: 100%|███| 15/15 [00:23<00:00,  1.54s/it]\n",
      "Epoch 25/30 - Avg val Loss: 0.337425: 100%|███████| 4/4 [00:06<00:00,  1.58s/it]\n"
     ]
    },
    {
     "name": "stdout",
     "output_type": "stream",
     "text": [
      "Epoch 25/30 Summary : Train Loss: 0.2348, Val Loss: 0.3374, LR: 1.00e-05, auroc: 0.9078, auprc: 0.9104, accuracy: 0.6333, sensitivity: 1.0000, specificity: 0.6667, avg_train_loss: 0.2348, avg_val_loss: 0.3374\n"
     ]
    },
    {
     "name": "stderr",
     "output_type": "stream",
     "text": [
      "Epoch 26/30 - Avg train Loss: 0.236137: 100%|███| 15/15 [00:23<00:00,  1.54s/it]\n",
      "Epoch 26/30 - Avg val Loss: 0.343168: 100%|███████| 4/4 [00:06<00:00,  1.57s/it]\n"
     ]
    },
    {
     "name": "stdout",
     "output_type": "stream",
     "text": [
      "Epoch 26/30 Summary : Train Loss: 0.2361, Val Loss: 0.3432, LR: 1.00e-05, auroc: 0.9067, auprc: 0.9095, accuracy: 0.6167, sensitivity: 1.0000, specificity: 0.6667, avg_train_loss: 0.2361, avg_val_loss: 0.3432\n"
     ]
    },
    {
     "name": "stderr",
     "output_type": "stream",
     "text": [
      "Epoch 27/30 - Avg train Loss: 0.226657: 100%|███| 15/15 [00:23<00:00,  1.56s/it]\n",
      "Epoch 27/30 - Avg val Loss: 0.339216: 100%|███████| 4/4 [00:06<00:00,  1.58s/it]\n"
     ]
    },
    {
     "name": "stdout",
     "output_type": "stream",
     "text": [
      "Epoch 27/30 Summary : Train Loss: 0.2267, Val Loss: 0.3392, LR: 1.00e-05, auroc: 0.9067, auprc: 0.9095, accuracy: 0.6333, sensitivity: 1.0000, specificity: 0.6667, avg_train_loss: 0.2267, avg_val_loss: 0.3392\n"
     ]
    },
    {
     "name": "stderr",
     "output_type": "stream",
     "text": [
      "Epoch 28/30 - Avg train Loss: 0.232277: 100%|███| 15/15 [00:23<00:00,  1.59s/it]\n",
      "Epoch 28/30 - Avg val Loss: 0.342840: 100%|███████| 4/4 [00:06<00:00,  1.73s/it]\n"
     ]
    },
    {
     "name": "stdout",
     "output_type": "stream",
     "text": [
      "Epoch 28/30 Summary : Train Loss: 0.2323, Val Loss: 0.3428, LR: 1.00e-05, auroc: 0.9067, auprc: 0.9101, accuracy: 0.6167, sensitivity: 1.0000, specificity: 0.6667, avg_train_loss: 0.2323, avg_val_loss: 0.3428\n"
     ]
    },
    {
     "name": "stderr",
     "output_type": "stream",
     "text": [
      "Epoch 29/30 - Avg train Loss: 0.233685: 100%|███| 15/15 [00:23<00:00,  1.60s/it]\n",
      "Epoch 29/30 - Avg val Loss: 0.341798: 100%|███████| 4/4 [00:05<00:00,  1.40s/it]\n"
     ]
    },
    {
     "name": "stdout",
     "output_type": "stream",
     "text": [
      "Epoch 29/30 Summary : Train Loss: 0.2337, Val Loss: 0.3418, LR: 1.00e-05, auroc: 0.9067, auprc: 0.9087, accuracy: 0.6333, sensitivity: 1.0000, specificity: 0.6667, avg_train_loss: 0.2337, avg_val_loss: 0.3418\n"
     ]
    },
    {
     "name": "stderr",
     "output_type": "stream",
     "text": [
      "Epoch 30/30 - Avg train Loss: 0.236373: 100%|███| 15/15 [00:22<00:00,  1.53s/it]\n",
      "Epoch 30/30 - Avg val Loss: 0.338467: 100%|███████| 4/4 [00:06<00:00,  1.56s/it]\n"
     ]
    },
    {
     "name": "stdout",
     "output_type": "stream",
     "text": [
      "Epoch 30/30 Summary : Train Loss: 0.2364, Val Loss: 0.3385, LR: 1.00e-06, auroc: 0.9067, auprc: 0.9090, accuracy: 0.6333, sensitivity: 1.0000, specificity: 0.6667, avg_train_loss: 0.2364, avg_val_loss: 0.3385\n"
     ]
    },
    {
     "data": {
      "application/vnd.jupyter.widget-view+json": {
       "model_id": "",
       "version_major": 2,
       "version_minor": 0
      },
      "text/plain": [
       "VBox(children=(Label(value='0.008 MB of 0.008 MB uploaded\\r'), FloatProgress(value=1.0, max=1.0)))"
      ]
     },
     "metadata": {},
     "output_type": "display_data"
    },
    {
     "data": {
      "text/html": [
       "<style>\n",
       "    table.wandb td:nth-child(1) { padding: 0 10px; text-align: left ; width: auto;} td:nth-child(2) {text-align: left ; width: 100%}\n",
       "    .wandb-row { display: flex; flex-direction: row; flex-wrap: wrap; justify-content: flex-start; width: 100% }\n",
       "    .wandb-col { display: flex; flex-direction: column; flex-basis: 100%; flex: 1; padding: 10px; }\n",
       "    </style>\n",
       "<div class=\"wandb-row\"><div class=\"wandb-col\"><h3>Run history:</h3><br/><table class=\"wandb\"><tr><td>accuracy</td><td>▁▅▄▁▃▄▅▅▇▅▂▅▂█▅▄▄▄▃▄▄▄▄▄▄▄▄▄▄▄</td></tr><tr><td>auprc</td><td>▂▁▆▆▆▆▆▅▇▇▄▇▆█▇▆██▇███████████</td></tr><tr><td>auroc</td><td>▁▁▆▆▆▆▆▅▅▆▅▇▆▇▇▇███████▇██████</td></tr><tr><td>avg_train_loss</td><td>█▅▄▄▃▃▃▂▂▂▂▂▂▂▂▁▁▁▁▁▁▁▁▁▁▁▁▁▁▁</td></tr><tr><td>avg_val_loss</td><td>▅▄▂█▃▂▂▂▄▂▅▁▂▂▁▂▂▂▂▂▂▁▂▁▁▂▁▂▂▁</td></tr><tr><td>sensitivity</td><td>▁▇▅▂▂▁▄▃▃▄▃▄▃▆▃▄█▇█▄██████████</td></tr><tr><td>specificity</td><td>▆▁▅▇██▆▇▇▇▇▇█▅█▇▄▅▄▇▄▄▄▄▄▄▄▄▄▄</td></tr></table><br/></div><div class=\"wandb-col\"><h3>Run summary:</h3><br/><table class=\"wandb\"><tr><td>accuracy</td><td>0.63333</td></tr><tr><td>auprc</td><td>0.90902</td></tr><tr><td>auroc</td><td>0.90667</td></tr><tr><td>avg_train_loss</td><td>0.23637</td></tr><tr><td>avg_val_loss</td><td>0.33847</td></tr><tr><td>sensitivity</td><td>1.0</td></tr><tr><td>specificity</td><td>0.66667</td></tr></table><br/></div></div>"
      ],
      "text/plain": [
       "<IPython.core.display.HTML object>"
      ]
     },
     "metadata": {},
     "output_type": "display_data"
    },
    {
     "data": {
      "text/html": [
       " View run <strong style=\"color:#cdcd00\">swift-sweep-4</strong> at: <a href='https://wandb.ai/miccai-challenge-2024/task2/runs/e98kpwfr' target=\"_blank\">https://wandb.ai/miccai-challenge-2024/task2/runs/e98kpwfr</a><br/> View project at: <a href='https://wandb.ai/miccai-challenge-2024/task2' target=\"_blank\">https://wandb.ai/miccai-challenge-2024/task2</a><br/>Synced 6 W&B file(s), 0 media file(s), 0 artifact file(s) and 0 other file(s)"
      ],
      "text/plain": [
       "<IPython.core.display.HTML object>"
      ]
     },
     "metadata": {},
     "output_type": "display_data"
    },
    {
     "data": {
      "text/html": [
       "Find logs at: <code>./wandb/run-20240729_235054-e98kpwfr/logs</code>"
      ],
      "text/plain": [
       "<IPython.core.display.HTML object>"
      ]
     },
     "metadata": {},
     "output_type": "display_data"
    },
    {
     "name": "stdout",
     "output_type": "stream",
     "text": [
      "Finished training\n"
     ]
    },
    {
     "name": "stderr",
     "output_type": "stream",
     "text": [
      "\u001b[34m\u001b[1mwandb\u001b[0m: Sweep Agent: Waiting for job.\n",
      "\u001b[34m\u001b[1mwandb\u001b[0m: Job received.\n",
      "\u001b[34m\u001b[1mwandb\u001b[0m: Agent Starting Run: 9uigw834 with config:\n",
      "\u001b[34m\u001b[1mwandb\u001b[0m: \tbatch_size: 16\n",
      "\u001b[34m\u001b[1mwandb\u001b[0m: \tepochs: 30\n",
      "\u001b[34m\u001b[1mwandb\u001b[0m: \tloss_weight: 0.5\n",
      "\u001b[34m\u001b[1mwandb\u001b[0m: \tlr: 0.001\n",
      "\u001b[34m\u001b[1mwandb\u001b[0m: \tlr_schedule_factor: 0.1\n",
      "\u001b[34m\u001b[1mwandb\u001b[0m: \tlr_schedule_patience: 5\n",
      "\u001b[34m\u001b[1mwandb\u001b[0m: \tmodel: ShuffleNet\n",
      "\u001b[34m\u001b[1mwandb\u001b[0m: \tp_affine: 0.3\n",
      "\u001b[34m\u001b[1mwandb\u001b[0m: \tp_clahe: 1\n",
      "\u001b[34m\u001b[1mwandb\u001b[0m: \tp_equalize: 0\n",
      "\u001b[34m\u001b[1mwandb\u001b[0m: \tp_gaussblur: 0.5\n",
      "\u001b[34m\u001b[1mwandb\u001b[0m: \tp_horizontalflip: 0.5\n",
      "\u001b[34m\u001b[1mwandb\u001b[0m: \tresampling_strategy: undersampling\n",
      "\u001b[34m\u001b[1mwandb\u001b[0m: \trotation: 10\n",
      "\u001b[34m\u001b[1mwandb\u001b[0m: \u001b[33mWARNING\u001b[0m Ignored wandb.init() arg project when running a sweep.\n"
     ]
    },
    {
     "data": {
      "text/html": [
       "wandb version 0.17.5 is available!  To upgrade, please run:\n",
       " $ pip install wandb --upgrade"
      ],
      "text/plain": [
       "<IPython.core.display.HTML object>"
      ]
     },
     "metadata": {},
     "output_type": "display_data"
    },
    {
     "data": {
      "text/html": [
       "Tracking run with wandb version 0.17.0"
      ],
      "text/plain": [
       "<IPython.core.display.HTML object>"
      ]
     },
     "metadata": {},
     "output_type": "display_data"
    },
    {
     "data": {
      "text/html": [
       "Run data is saved locally in <code>/home/optima/mhaderer/AILS-MICCAI-UWF4DR-Challenge/wandb/run-20240730_000544-9uigw834</code>"
      ],
      "text/plain": [
       "<IPython.core.display.HTML object>"
      ]
     },
     "metadata": {},
     "output_type": "display_data"
    },
    {
     "data": {
      "text/html": [
       "Syncing run <strong><a href='https://wandb.ai/miccai-challenge-2024/task2/runs/9uigw834' target=\"_blank\">bright-sweep-5</a></strong> to <a href='https://wandb.ai/miccai-challenge-2024/task2' target=\"_blank\">Weights & Biases</a> (<a href='https://wandb.me/run' target=\"_blank\">docs</a>)<br/>Sweep page: <a href='https://wandb.ai/miccai-challenge-2024/task2/sweeps/f4v5vt07' target=\"_blank\">https://wandb.ai/miccai-challenge-2024/task2/sweeps/f4v5vt07</a>"
      ],
      "text/plain": [
       "<IPython.core.display.HTML object>"
      ]
     },
     "metadata": {},
     "output_type": "display_data"
    },
    {
     "data": {
      "text/html": [
       " View project at <a href='https://wandb.ai/miccai-challenge-2024/task2' target=\"_blank\">https://wandb.ai/miccai-challenge-2024/task2</a>"
      ],
      "text/plain": [
       "<IPython.core.display.HTML object>"
      ]
     },
     "metadata": {},
     "output_type": "display_data"
    },
    {
     "data": {
      "text/html": [
       " View sweep at <a href='https://wandb.ai/miccai-challenge-2024/task2/sweeps/f4v5vt07' target=\"_blank\">https://wandb.ai/miccai-challenge-2024/task2/sweeps/f4v5vt07</a>"
      ],
      "text/plain": [
       "<IPython.core.display.HTML object>"
      ]
     },
     "metadata": {},
     "output_type": "display_data"
    },
    {
     "data": {
      "text/html": [
       " View run at <a href='https://wandb.ai/miccai-challenge-2024/task2/runs/9uigw834' target=\"_blank\">https://wandb.ai/miccai-challenge-2024/task2/runs/9uigw834</a>"
      ],
      "text/plain": [
       "<IPython.core.display.HTML object>"
      ]
     },
     "metadata": {},
     "output_type": "display_data"
    },
    {
     "name": "stderr",
     "output_type": "stream",
     "text": [
      "Using cache found in /home/optima/mhaderer/.cache/torch/hub/pytorch_vision_v0.10.0\n"
     ]
    },
    {
     "name": "stdout",
     "output_type": "stream",
     "text": [
      "Using device: cuda\n",
      "Number of output features in ShuffleNet encoder:  1\n",
      "Now train train train\n"
     ]
    },
    {
     "name": "stderr",
     "output_type": "stream",
     "text": [
      "Epoch 1/30 - Avg train Loss: 0.396966: 100%|████| 15/15 [00:28<00:00,  1.88s/it]\n",
      "Epoch 1/30 - Avg val Loss: 0.386967: 100%|████████| 4/4 [00:06<00:00,  1.56s/it]\n"
     ]
    },
    {
     "name": "stdout",
     "output_type": "stream",
     "text": [
      "New best weights found at epoch 1 with validation loss: 0.3870. Model saved to models/bright-sweep-5_2024-07-30_00-05.pth\n",
      "Epoch 1/30 Summary : Train Loss: 0.3970, Val Loss: 0.3870, LR: 1.00e-03, auroc: 0.8989, auprc: 0.9002, accuracy: 0.5000, sensitivity: 0.9667, specificity: 0.7667, avg_train_loss: 0.3970, avg_val_loss: 0.3870\n"
     ]
    },
    {
     "name": "stderr",
     "output_type": "stream",
     "text": [
      "Epoch 2/30 - Avg train Loss: 0.357699: 100%|████| 15/15 [00:26<00:00,  1.80s/it]\n",
      "Epoch 2/30 - Avg val Loss: 0.345953: 100%|████████| 4/4 [00:06<00:00,  1.55s/it]\n"
     ]
    },
    {
     "name": "stdout",
     "output_type": "stream",
     "text": [
      "New best weights found at epoch 2 with validation loss: 0.3460. Model saved to models/bright-sweep-5_2024-07-30_00-05.pth\n",
      "Epoch 2/30 Summary : Train Loss: 0.3577, Val Loss: 0.3460, LR: 1.00e-03, auroc: 0.9156, auprc: 0.9166, accuracy: 0.5000, sensitivity: 0.9333, specificity: 0.7667, avg_train_loss: 0.3577, avg_val_loss: 0.3460\n"
     ]
    },
    {
     "name": "stderr",
     "output_type": "stream",
     "text": [
      "Epoch 3/30 - Avg train Loss: 0.338639: 100%|████| 15/15 [00:26<00:00,  1.77s/it]\n",
      "Epoch 3/30 - Avg val Loss: 0.404022: 100%|████████| 4/4 [00:05<00:00,  1.46s/it]\n"
     ]
    },
    {
     "name": "stdout",
     "output_type": "stream",
     "text": [
      "Epoch 3/30 Summary : Train Loss: 0.3386, Val Loss: 0.4040, LR: 1.00e-03, auroc: 0.8611, auprc: 0.8717, accuracy: 0.5000, sensitivity: 0.7667, specificity: 0.7667, avg_train_loss: 0.3386, avg_val_loss: 0.4040\n"
     ]
    },
    {
     "name": "stderr",
     "output_type": "stream",
     "text": [
      "Epoch 4/30 - Avg train Loss: 0.326153: 100%|████| 15/15 [00:26<00:00,  1.79s/it]\n",
      "Epoch 4/30 - Avg val Loss: 0.352138: 100%|████████| 4/4 [00:06<00:00,  1.58s/it]\n"
     ]
    },
    {
     "name": "stdout",
     "output_type": "stream",
     "text": [
      "Epoch 4/30 Summary : Train Loss: 0.3262, Val Loss: 0.3521, LR: 1.00e-03, auroc: 0.9711, auprc: 0.9726, accuracy: 0.5000, sensitivity: 0.9667, specificity: 0.8667, avg_train_loss: 0.3262, avg_val_loss: 0.3521\n"
     ]
    },
    {
     "name": "stderr",
     "output_type": "stream",
     "text": [
      "Epoch 5/30 - Avg train Loss: 0.297655: 100%|████| 15/15 [00:27<00:00,  1.80s/it]\n",
      "Epoch 5/30 - Avg val Loss: 0.319557: 100%|████████| 4/4 [00:06<00:00,  1.61s/it]\n"
     ]
    },
    {
     "name": "stdout",
     "output_type": "stream",
     "text": [
      "New best weights found at epoch 5 with validation loss: 0.3196. Model saved to models/bright-sweep-5_2024-07-30_00-05.pth\n",
      "Epoch 5/30 Summary : Train Loss: 0.2977, Val Loss: 0.3196, LR: 1.00e-03, auroc: 0.9467, auprc: 0.9459, accuracy: 0.7000, sensitivity: 0.9000, specificity: 0.8667, avg_train_loss: 0.2977, avg_val_loss: 0.3196\n"
     ]
    },
    {
     "name": "stderr",
     "output_type": "stream",
     "text": [
      "Epoch 6/30 - Avg train Loss: 0.305738: 100%|████| 15/15 [00:28<00:00,  1.93s/it]\n",
      "Epoch 6/30 - Avg val Loss: 0.350546: 100%|████████| 4/4 [00:06<00:00,  1.62s/it]\n"
     ]
    },
    {
     "name": "stdout",
     "output_type": "stream",
     "text": [
      "Epoch 6/30 Summary : Train Loss: 0.3057, Val Loss: 0.3505, LR: 1.00e-03, auroc: 0.9067, auprc: 0.9354, accuracy: 0.7000, sensitivity: 0.7667, specificity: 0.9667, avg_train_loss: 0.3057, avg_val_loss: 0.3505\n"
     ]
    },
    {
     "name": "stderr",
     "output_type": "stream",
     "text": [
      "Epoch 7/30 - Avg train Loss: 0.291809: 100%|████| 15/15 [00:28<00:00,  1.92s/it]\n",
      "Epoch 7/30 - Avg val Loss: 0.368159: 100%|████████| 4/4 [00:06<00:00,  1.61s/it]\n"
     ]
    },
    {
     "name": "stdout",
     "output_type": "stream",
     "text": [
      "Epoch 7/30 Summary : Train Loss: 0.2918, Val Loss: 0.3682, LR: 1.00e-03, auroc: 0.9211, auprc: 0.9262, accuracy: 0.8000, sensitivity: 0.8000, specificity: 0.9333, avg_train_loss: 0.2918, avg_val_loss: 0.3682\n"
     ]
    },
    {
     "name": "stderr",
     "output_type": "stream",
     "text": [
      "Epoch 8/30 - Avg train Loss: 0.275261: 100%|████| 15/15 [00:28<00:00,  1.89s/it]\n",
      "Epoch 8/30 - Avg val Loss: 0.376394: 100%|████████| 4/4 [00:06<00:00,  1.61s/it]\n"
     ]
    },
    {
     "name": "stdout",
     "output_type": "stream",
     "text": [
      "Epoch 8/30 Summary : Train Loss: 0.2753, Val Loss: 0.3764, LR: 1.00e-03, auroc: 0.9344, auprc: 0.9355, accuracy: 0.8333, sensitivity: 0.8000, specificity: 0.9333, avg_train_loss: 0.2753, avg_val_loss: 0.3764\n"
     ]
    },
    {
     "name": "stderr",
     "output_type": "stream",
     "text": [
      "Epoch 9/30 - Avg train Loss: 0.270155: 100%|████| 15/15 [00:31<00:00,  2.08s/it]\n",
      "Epoch 9/30 - Avg val Loss: 0.309289: 100%|████████| 4/4 [00:06<00:00,  1.65s/it]\n"
     ]
    },
    {
     "name": "stdout",
     "output_type": "stream",
     "text": [
      "New best weights found at epoch 9 with validation loss: 0.3093. Model saved to models/bright-sweep-5_2024-07-30_00-05.pth\n",
      "Epoch 9/30 Summary : Train Loss: 0.2702, Val Loss: 0.3093, LR: 1.00e-03, auroc: 0.9456, auprc: 0.9522, accuracy: 0.8500, sensitivity: 0.9333, specificity: 0.8000, avg_train_loss: 0.2702, avg_val_loss: 0.3093\n"
     ]
    },
    {
     "name": "stderr",
     "output_type": "stream",
     "text": [
      "Epoch 10/30 - Avg train Loss: 0.276555: 100%|███| 15/15 [00:28<00:00,  1.88s/it]\n",
      "Epoch 10/30 - Avg val Loss: 0.360273: 100%|███████| 4/4 [00:06<00:00,  1.66s/it]\n"
     ]
    },
    {
     "name": "stdout",
     "output_type": "stream",
     "text": [
      "Epoch 10/30 Summary : Train Loss: 0.2766, Val Loss: 0.3603, LR: 1.00e-03, auroc: 0.9167, auprc: 0.9238, accuracy: 0.6667, sensitivity: 0.7667, specificity: 0.9000, avg_train_loss: 0.2766, avg_val_loss: 0.3603\n"
     ]
    },
    {
     "name": "stderr",
     "output_type": "stream",
     "text": [
      "Epoch 11/30 - Avg train Loss: 0.263291: 100%|███| 15/15 [00:28<00:00,  1.90s/it]\n",
      "Epoch 11/30 - Avg val Loss: 0.314681: 100%|███████| 4/4 [00:07<00:00,  1.75s/it]\n"
     ]
    },
    {
     "name": "stdout",
     "output_type": "stream",
     "text": [
      "Epoch 11/30 Summary : Train Loss: 0.2633, Val Loss: 0.3147, LR: 1.00e-03, auroc: 0.9156, auprc: 0.9311, accuracy: 0.7833, sensitivity: 0.8000, specificity: 0.9000, avg_train_loss: 0.2633, avg_val_loss: 0.3147\n"
     ]
    },
    {
     "name": "stderr",
     "output_type": "stream",
     "text": [
      "Epoch 12/30 - Avg train Loss: 0.265821: 100%|███| 15/15 [00:29<00:00,  1.97s/it]\n",
      "Epoch 12/30 - Avg val Loss: 0.346521: 100%|███████| 4/4 [00:06<00:00,  1.65s/it]\n"
     ]
    },
    {
     "name": "stdout",
     "output_type": "stream",
     "text": [
      "Epoch 12/30 Summary : Train Loss: 0.2658, Val Loss: 0.3465, LR: 1.00e-03, auroc: 0.8411, auprc: 0.8798, accuracy: 0.6500, sensitivity: 0.8333, specificity: 0.8667, avg_train_loss: 0.2658, avg_val_loss: 0.3465\n"
     ]
    },
    {
     "name": "stderr",
     "output_type": "stream",
     "text": [
      "Epoch 13/30 - Avg train Loss: 0.254164: 100%|███| 15/15 [00:31<00:00,  2.07s/it]\n",
      "Epoch 13/30 - Avg val Loss: 0.328160: 100%|███████| 4/4 [00:05<00:00,  1.47s/it]\n"
     ]
    },
    {
     "name": "stdout",
     "output_type": "stream",
     "text": [
      "Epoch 13/30 Summary : Train Loss: 0.2542, Val Loss: 0.3282, LR: 1.00e-03, auroc: 0.9033, auprc: 0.9214, accuracy: 0.8000, sensitivity: 0.7667, specificity: 0.9667, avg_train_loss: 0.2542, avg_val_loss: 0.3282\n"
     ]
    },
    {
     "name": "stderr",
     "output_type": "stream",
     "text": [
      "Epoch 14/30 - Avg train Loss: 0.264363: 100%|███| 15/15 [00:30<00:00,  2.01s/it]\n",
      "Epoch 14/30 - Avg val Loss: 0.336839: 100%|███████| 4/4 [00:07<00:00,  1.78s/it]\n"
     ]
    },
    {
     "name": "stdout",
     "output_type": "stream",
     "text": [
      "Epoch 14/30 Summary : Train Loss: 0.2644, Val Loss: 0.3368, LR: 1.00e-03, auroc: 0.9100, auprc: 0.9192, accuracy: 0.7167, sensitivity: 0.8000, specificity: 0.9667, avg_train_loss: 0.2644, avg_val_loss: 0.3368\n"
     ]
    },
    {
     "name": "stderr",
     "output_type": "stream",
     "text": [
      "Epoch 15/30 - Avg train Loss: 0.253405: 100%|███| 15/15 [00:26<00:00,  1.78s/it]\n",
      "Epoch 15/30 - Avg val Loss: 0.319031: 100%|███████| 4/4 [00:05<00:00,  1.47s/it]\n"
     ]
    },
    {
     "name": "stdout",
     "output_type": "stream",
     "text": [
      "Epoch 15/30 Summary : Train Loss: 0.2534, Val Loss: 0.3190, LR: 1.00e-04, auroc: 0.9289, auprc: 0.9322, accuracy: 0.8333, sensitivity: 0.8000, specificity: 0.9333, avg_train_loss: 0.2534, avg_val_loss: 0.3190\n"
     ]
    },
    {
     "name": "stderr",
     "output_type": "stream",
     "text": [
      "Epoch 16/30 - Avg train Loss: 0.251239: 100%|███| 15/15 [00:26<00:00,  1.75s/it]\n",
      "Epoch 16/30 - Avg val Loss: 0.323153: 100%|███████| 4/4 [00:05<00:00,  1.48s/it]\n"
     ]
    },
    {
     "name": "stdout",
     "output_type": "stream",
     "text": [
      "Epoch 16/30 Summary : Train Loss: 0.2512, Val Loss: 0.3232, LR: 1.00e-04, auroc: 0.9267, auprc: 0.9312, accuracy: 0.7667, sensitivity: 0.8667, specificity: 0.8667, avg_train_loss: 0.2512, avg_val_loss: 0.3232\n"
     ]
    },
    {
     "name": "stderr",
     "output_type": "stream",
     "text": [
      "Epoch 17/30 - Avg train Loss: 0.253391: 100%|███| 15/15 [00:26<00:00,  1.79s/it]\n",
      "Epoch 17/30 - Avg val Loss: 0.334501: 100%|███████| 4/4 [00:05<00:00,  1.48s/it]\n"
     ]
    },
    {
     "name": "stdout",
     "output_type": "stream",
     "text": [
      "Epoch 17/30 Summary : Train Loss: 0.2534, Val Loss: 0.3345, LR: 1.00e-04, auroc: 0.9156, auprc: 0.9198, accuracy: 0.7167, sensitivity: 0.7667, specificity: 0.9333, avg_train_loss: 0.2534, avg_val_loss: 0.3345\n"
     ]
    },
    {
     "name": "stderr",
     "output_type": "stream",
     "text": [
      "Epoch 18/30 - Avg train Loss: 0.243090: 100%|███| 15/15 [00:25<00:00,  1.69s/it]\n",
      "Epoch 18/30 - Avg val Loss: 0.330503: 100%|███████| 4/4 [00:06<00:00,  1.66s/it]\n"
     ]
    },
    {
     "name": "stdout",
     "output_type": "stream",
     "text": [
      "Epoch 18/30 Summary : Train Loss: 0.2431, Val Loss: 0.3305, LR: 1.00e-04, auroc: 0.9167, auprc: 0.9193, accuracy: 0.7167, sensitivity: 0.8333, specificity: 0.9000, avg_train_loss: 0.2431, avg_val_loss: 0.3305\n"
     ]
    },
    {
     "name": "stderr",
     "output_type": "stream",
     "text": [
      "Epoch 19/30 - Avg train Loss: 0.247442: 100%|███| 15/15 [00:30<00:00,  2.00s/it]\n",
      "Epoch 19/30 - Avg val Loss: 0.312670: 100%|███████| 4/4 [00:06<00:00,  1.66s/it]\n"
     ]
    },
    {
     "name": "stdout",
     "output_type": "stream",
     "text": [
      "Epoch 19/30 Summary : Train Loss: 0.2474, Val Loss: 0.3127, LR: 1.00e-04, auroc: 0.9278, auprc: 0.9333, accuracy: 0.8000, sensitivity: 0.8333, specificity: 0.9000, avg_train_loss: 0.2474, avg_val_loss: 0.3127\n"
     ]
    },
    {
     "name": "stderr",
     "output_type": "stream",
     "text": [
      "Epoch 20/30 - Avg train Loss: 0.239839: 100%|███| 15/15 [00:29<00:00,  1.97s/it]\n",
      "Epoch 20/30 - Avg val Loss: 0.315622: 100%|███████| 4/4 [00:06<00:00,  1.66s/it]\n"
     ]
    },
    {
     "name": "stdout",
     "output_type": "stream",
     "text": [
      "Epoch 20/30 Summary : Train Loss: 0.2398, Val Loss: 0.3156, LR: 1.00e-04, auroc: 0.9289, auprc: 0.9341, accuracy: 0.7500, sensitivity: 0.8333, specificity: 0.9000, avg_train_loss: 0.2398, avg_val_loss: 0.3156\n"
     ]
    },
    {
     "name": "stderr",
     "output_type": "stream",
     "text": [
      "Epoch 21/30 - Avg train Loss: 0.248126: 100%|███| 15/15 [00:29<00:00,  1.93s/it]\n",
      "Epoch 21/30 - Avg val Loss: 0.313577: 100%|███████| 4/4 [00:06<00:00,  1.63s/it]\n"
     ]
    },
    {
     "name": "stdout",
     "output_type": "stream",
     "text": [
      "Epoch 21/30 Summary : Train Loss: 0.2481, Val Loss: 0.3136, LR: 1.00e-05, auroc: 0.9256, auprc: 0.9315, accuracy: 0.7833, sensitivity: 0.8000, specificity: 0.9333, avg_train_loss: 0.2481, avg_val_loss: 0.3136\n"
     ]
    },
    {
     "name": "stderr",
     "output_type": "stream",
     "text": [
      "Epoch 22/30 - Avg train Loss: 0.251919: 100%|███| 15/15 [00:28<00:00,  1.93s/it]\n",
      "Epoch 22/30 - Avg val Loss: 0.311387: 100%|███████| 4/4 [00:06<00:00,  1.64s/it]\n"
     ]
    },
    {
     "name": "stdout",
     "output_type": "stream",
     "text": [
      "Epoch 22/30 Summary : Train Loss: 0.2519, Val Loss: 0.3114, LR: 1.00e-05, auroc: 0.9233, auprc: 0.9300, accuracy: 0.8000, sensitivity: 0.8000, specificity: 0.9333, avg_train_loss: 0.2519, avg_val_loss: 0.3114\n"
     ]
    },
    {
     "name": "stderr",
     "output_type": "stream",
     "text": [
      "Epoch 23/30 - Avg train Loss: 0.242034: 100%|███| 15/15 [00:27<00:00,  1.87s/it]\n",
      "Epoch 23/30 - Avg val Loss: 0.311875: 100%|███████| 4/4 [00:06<00:00,  1.62s/it]\n"
     ]
    },
    {
     "name": "stdout",
     "output_type": "stream",
     "text": [
      "Epoch 23/30 Summary : Train Loss: 0.2420, Val Loss: 0.3119, LR: 1.00e-05, auroc: 0.9222, auprc: 0.9282, accuracy: 0.8000, sensitivity: 0.8000, specificity: 0.9333, avg_train_loss: 0.2420, avg_val_loss: 0.3119\n"
     ]
    },
    {
     "name": "stderr",
     "output_type": "stream",
     "text": [
      "Epoch 24/30 - Avg train Loss: 0.250102: 100%|███| 15/15 [00:29<00:00,  1.96s/it]\n",
      "Epoch 24/30 - Avg val Loss: 0.312017: 100%|███████| 4/4 [00:06<00:00,  1.63s/it]\n"
     ]
    },
    {
     "name": "stdout",
     "output_type": "stream",
     "text": [
      "Epoch 24/30 Summary : Train Loss: 0.2501, Val Loss: 0.3120, LR: 1.00e-05, auroc: 0.9233, auprc: 0.9296, accuracy: 0.8000, sensitivity: 0.8000, specificity: 0.9333, avg_train_loss: 0.2501, avg_val_loss: 0.3120\n"
     ]
    },
    {
     "name": "stderr",
     "output_type": "stream",
     "text": [
      "Epoch 25/30 - Avg train Loss: 0.245593: 100%|███| 15/15 [00:28<00:00,  1.90s/it]\n",
      "Epoch 25/30 - Avg val Loss: 0.310016: 100%|███████| 4/4 [00:06<00:00,  1.61s/it]\n"
     ]
    },
    {
     "name": "stdout",
     "output_type": "stream",
     "text": [
      "Epoch 25/30 Summary : Train Loss: 0.2456, Val Loss: 0.3100, LR: 1.00e-05, auroc: 0.9267, auprc: 0.9312, accuracy: 0.8000, sensitivity: 0.8000, specificity: 0.9333, avg_train_loss: 0.2456, avg_val_loss: 0.3100\n"
     ]
    },
    {
     "name": "stderr",
     "output_type": "stream",
     "text": [
      "Epoch 26/30 - Avg train Loss: 0.241941: 100%|███| 15/15 [00:28<00:00,  1.91s/it]\n",
      "Epoch 26/30 - Avg val Loss: 0.312075: 100%|███████| 4/4 [00:06<00:00,  1.64s/it]\n"
     ]
    },
    {
     "name": "stdout",
     "output_type": "stream",
     "text": [
      "Epoch 26/30 Summary : Train Loss: 0.2419, Val Loss: 0.3121, LR: 1.00e-05, auroc: 0.9233, auprc: 0.9296, accuracy: 0.7833, sensitivity: 0.8000, specificity: 0.9333, avg_train_loss: 0.2419, avg_val_loss: 0.3121\n"
     ]
    },
    {
     "name": "stderr",
     "output_type": "stream",
     "text": [
      "Epoch 27/30 - Avg train Loss: 0.248855: 100%|███| 15/15 [00:29<00:00,  1.98s/it]\n",
      "Epoch 27/30 - Avg val Loss: 0.311542: 100%|███████| 4/4 [00:06<00:00,  1.68s/it]\n"
     ]
    },
    {
     "name": "stdout",
     "output_type": "stream",
     "text": [
      "Epoch 27/30 Summary : Train Loss: 0.2489, Val Loss: 0.3115, LR: 1.00e-06, auroc: 0.9233, auprc: 0.9299, accuracy: 0.7833, sensitivity: 0.8000, specificity: 0.9333, avg_train_loss: 0.2489, avg_val_loss: 0.3115\n"
     ]
    },
    {
     "name": "stderr",
     "output_type": "stream",
     "text": [
      "Epoch 28/30 - Avg train Loss: 0.250123: 100%|███| 15/15 [00:28<00:00,  1.88s/it]\n",
      "Epoch 28/30 - Avg val Loss: 0.312723: 100%|███████| 4/4 [00:05<00:00,  1.49s/it]\n"
     ]
    },
    {
     "name": "stdout",
     "output_type": "stream",
     "text": [
      "Epoch 28/30 Summary : Train Loss: 0.2501, Val Loss: 0.3127, LR: 1.00e-06, auroc: 0.9233, auprc: 0.9287, accuracy: 0.8000, sensitivity: 0.8000, specificity: 0.9333, avg_train_loss: 0.2501, avg_val_loss: 0.3127\n"
     ]
    },
    {
     "name": "stderr",
     "output_type": "stream",
     "text": [
      "Epoch 29/30 - Avg train Loss: 0.236493: 100%|███| 15/15 [00:25<00:00,  1.72s/it]\n",
      "Epoch 29/30 - Avg val Loss: 0.310152: 100%|███████| 4/4 [00:05<00:00,  1.47s/it]\n"
     ]
    },
    {
     "name": "stdout",
     "output_type": "stream",
     "text": [
      "Epoch 29/30 Summary : Train Loss: 0.2365, Val Loss: 0.3102, LR: 1.00e-06, auroc: 0.9233, auprc: 0.9299, accuracy: 0.8000, sensitivity: 0.8000, specificity: 0.9333, avg_train_loss: 0.2365, avg_val_loss: 0.3102\n"
     ]
    },
    {
     "name": "stderr",
     "output_type": "stream",
     "text": [
      "Epoch 30/30 - Avg train Loss: 0.256771: 100%|███| 15/15 [00:25<00:00,  1.71s/it]\n",
      "Epoch 30/30 - Avg val Loss: 0.310409: 100%|███████| 4/4 [00:05<00:00,  1.44s/it]\n"
     ]
    },
    {
     "name": "stdout",
     "output_type": "stream",
     "text": [
      "Epoch 30/30 Summary : Train Loss: 0.2568, Val Loss: 0.3104, LR: 1.00e-06, auroc: 0.9256, auprc: 0.9292, accuracy: 0.8000, sensitivity: 0.8000, specificity: 0.9333, avg_train_loss: 0.2568, avg_val_loss: 0.3104\n"
     ]
    },
    {
     "data": {
      "application/vnd.jupyter.widget-view+json": {
       "model_id": "",
       "version_major": 2,
       "version_minor": 0
      },
      "text/plain": [
       "VBox(children=(Label(value='0.008 MB of 0.008 MB uploaded\\r'), FloatProgress(value=1.0, max=1.0)))"
      ]
     },
     "metadata": {},
     "output_type": "display_data"
    },
    {
     "data": {
      "text/html": [
       "<style>\n",
       "    table.wandb td:nth-child(1) { padding: 0 10px; text-align: left ; width: auto;} td:nth-child(2) {text-align: left ; width: 100%}\n",
       "    .wandb-row { display: flex; flex-direction: row; flex-wrap: wrap; justify-content: flex-start; width: 100% }\n",
       "    .wandb-col { display: flex; flex-direction: column; flex-basis: 100%; flex: 1; padding: 10px; }\n",
       "    </style>\n",
       "<div class=\"wandb-row\"><div class=\"wandb-col\"><h3>Run history:</h3><br/><table class=\"wandb\"><tr><td>accuracy</td><td>▁▁▁▁▅▅▇██▄▇▄▇▅█▆▅▅▇▆▇▇▇▇▇▇▇▇▇▇</td></tr><tr><td>auprc</td><td>▃▄▁█▆▅▅▅▇▅▅▂▄▄▅▅▄▄▅▅▅▅▅▅▅▅▅▅▅▅</td></tr><tr><td>auroc</td><td>▄▅▂█▇▅▅▆▇▅▅▁▄▅▆▆▅▅▆▆▆▅▅▅▆▅▅▅▅▆</td></tr><tr><td>avg_train_loss</td><td>█▆▅▅▄▄▃▃▂▃▂▂▂▂▂▂▂▁▁▁▂▂▁▂▁▁▂▂▁▂</td></tr><tr><td>avg_val_loss</td><td>▇▄█▄▂▄▅▆▁▅▁▄▂▃▂▂▃▃▁▁▁▁▁▁▁▁▁▁▁▁</td></tr><tr><td>sensitivity</td><td>█▇▁█▆▁▂▂▇▁▂▃▁▂▂▅▁▃▃▃▂▂▂▂▂▂▂▂▂▂</td></tr><tr><td>specificity</td><td>▁▁▁▅▅█▇▇▂▆▆▅██▇▅▇▆▆▆▇▇▇▇▇▇▇▇▇▇</td></tr></table><br/></div><div class=\"wandb-col\"><h3>Run summary:</h3><br/><table class=\"wandb\"><tr><td>accuracy</td><td>0.8</td></tr><tr><td>auprc</td><td>0.92919</td></tr><tr><td>auroc</td><td>0.92556</td></tr><tr><td>avg_train_loss</td><td>0.25677</td></tr><tr><td>avg_val_loss</td><td>0.31041</td></tr><tr><td>sensitivity</td><td>0.8</td></tr><tr><td>specificity</td><td>0.93333</td></tr></table><br/></div></div>"
      ],
      "text/plain": [
       "<IPython.core.display.HTML object>"
      ]
     },
     "metadata": {},
     "output_type": "display_data"
    },
    {
     "data": {
      "text/html": [
       " View run <strong style=\"color:#cdcd00\">bright-sweep-5</strong> at: <a href='https://wandb.ai/miccai-challenge-2024/task2/runs/9uigw834' target=\"_blank\">https://wandb.ai/miccai-challenge-2024/task2/runs/9uigw834</a><br/> View project at: <a href='https://wandb.ai/miccai-challenge-2024/task2' target=\"_blank\">https://wandb.ai/miccai-challenge-2024/task2</a><br/>Synced 6 W&B file(s), 0 media file(s), 0 artifact file(s) and 0 other file(s)"
      ],
      "text/plain": [
       "<IPython.core.display.HTML object>"
      ]
     },
     "metadata": {},
     "output_type": "display_data"
    },
    {
     "data": {
      "text/html": [
       "Find logs at: <code>./wandb/run-20240730_000544-9uigw834/logs</code>"
      ],
      "text/plain": [
       "<IPython.core.display.HTML object>"
      ]
     },
     "metadata": {},
     "output_type": "display_data"
    },
    {
     "name": "stdout",
     "output_type": "stream",
     "text": [
      "Finished training\n"
     ]
    },
    {
     "name": "stderr",
     "output_type": "stream",
     "text": [
      "\u001b[34m\u001b[1mwandb\u001b[0m: Agent Starting Run: bg8a2fx3 with config:\n",
      "\u001b[34m\u001b[1mwandb\u001b[0m: \tbatch_size: 16\n",
      "\u001b[34m\u001b[1mwandb\u001b[0m: \tepochs: 30\n",
      "\u001b[34m\u001b[1mwandb\u001b[0m: \tloss_weight: 0.5\n",
      "\u001b[34m\u001b[1mwandb\u001b[0m: \tlr: 0.001\n",
      "\u001b[34m\u001b[1mwandb\u001b[0m: \tlr_schedule_factor: 0.1\n",
      "\u001b[34m\u001b[1mwandb\u001b[0m: \tlr_schedule_patience: 5\n",
      "\u001b[34m\u001b[1mwandb\u001b[0m: \tmodel: ShuffleNet\n",
      "\u001b[34m\u001b[1mwandb\u001b[0m: \tp_affine: 0.3\n",
      "\u001b[34m\u001b[1mwandb\u001b[0m: \tp_clahe: 1\n",
      "\u001b[34m\u001b[1mwandb\u001b[0m: \tp_equalize: 0\n",
      "\u001b[34m\u001b[1mwandb\u001b[0m: \tp_gaussblur: 1\n",
      "\u001b[34m\u001b[1mwandb\u001b[0m: \tp_horizontalflip: 0.5\n",
      "\u001b[34m\u001b[1mwandb\u001b[0m: \tresampling_strategy: undersampling\n",
      "\u001b[34m\u001b[1mwandb\u001b[0m: \trotation: 10\n",
      "\u001b[34m\u001b[1mwandb\u001b[0m: \u001b[33mWARNING\u001b[0m Ignored wandb.init() arg project when running a sweep.\n"
     ]
    },
    {
     "data": {
      "text/html": [
       "wandb version 0.17.5 is available!  To upgrade, please run:\n",
       " $ pip install wandb --upgrade"
      ],
      "text/plain": [
       "<IPython.core.display.HTML object>"
      ]
     },
     "metadata": {},
     "output_type": "display_data"
    },
    {
     "data": {
      "text/html": [
       "Tracking run with wandb version 0.17.0"
      ],
      "text/plain": [
       "<IPython.core.display.HTML object>"
      ]
     },
     "metadata": {},
     "output_type": "display_data"
    },
    {
     "data": {
      "text/html": [
       "Run data is saved locally in <code>/home/optima/mhaderer/AILS-MICCAI-UWF4DR-Challenge/wandb/run-20240730_002324-bg8a2fx3</code>"
      ],
      "text/plain": [
       "<IPython.core.display.HTML object>"
      ]
     },
     "metadata": {},
     "output_type": "display_data"
    },
    {
     "data": {
      "text/html": [
       "Syncing run <strong><a href='https://wandb.ai/miccai-challenge-2024/task2/runs/bg8a2fx3' target=\"_blank\">lunar-sweep-6</a></strong> to <a href='https://wandb.ai/miccai-challenge-2024/task2' target=\"_blank\">Weights & Biases</a> (<a href='https://wandb.me/run' target=\"_blank\">docs</a>)<br/>Sweep page: <a href='https://wandb.ai/miccai-challenge-2024/task2/sweeps/f4v5vt07' target=\"_blank\">https://wandb.ai/miccai-challenge-2024/task2/sweeps/f4v5vt07</a>"
      ],
      "text/plain": [
       "<IPython.core.display.HTML object>"
      ]
     },
     "metadata": {},
     "output_type": "display_data"
    },
    {
     "data": {
      "text/html": [
       " View project at <a href='https://wandb.ai/miccai-challenge-2024/task2' target=\"_blank\">https://wandb.ai/miccai-challenge-2024/task2</a>"
      ],
      "text/plain": [
       "<IPython.core.display.HTML object>"
      ]
     },
     "metadata": {},
     "output_type": "display_data"
    },
    {
     "data": {
      "text/html": [
       " View sweep at <a href='https://wandb.ai/miccai-challenge-2024/task2/sweeps/f4v5vt07' target=\"_blank\">https://wandb.ai/miccai-challenge-2024/task2/sweeps/f4v5vt07</a>"
      ],
      "text/plain": [
       "<IPython.core.display.HTML object>"
      ]
     },
     "metadata": {},
     "output_type": "display_data"
    },
    {
     "data": {
      "text/html": [
       " View run at <a href='https://wandb.ai/miccai-challenge-2024/task2/runs/bg8a2fx3' target=\"_blank\">https://wandb.ai/miccai-challenge-2024/task2/runs/bg8a2fx3</a>"
      ],
      "text/plain": [
       "<IPython.core.display.HTML object>"
      ]
     },
     "metadata": {},
     "output_type": "display_data"
    },
    {
     "name": "stderr",
     "output_type": "stream",
     "text": [
      "Using cache found in /home/optima/mhaderer/.cache/torch/hub/pytorch_vision_v0.10.0\n"
     ]
    },
    {
     "name": "stdout",
     "output_type": "stream",
     "text": [
      "Using device: cuda\n",
      "Number of output features in ShuffleNet encoder:  1\n",
      "Now train train train\n"
     ]
    },
    {
     "name": "stderr",
     "output_type": "stream",
     "text": [
      "Epoch 1/30 - Avg train Loss: 0.397232: 100%|████| 15/15 [00:39<00:00,  2.65s/it]\n",
      "Epoch 1/30 - Avg val Loss: 0.443827: 100%|████████| 4/4 [00:06<00:00,  1.61s/it]\n"
     ]
    },
    {
     "name": "stdout",
     "output_type": "stream",
     "text": [
      "New best weights found at epoch 1 with validation loss: 0.4438. Model saved to models/lunar-sweep-6_2024-07-30_00-23.pth\n",
      "Epoch 1/30 Summary : Train Loss: 0.3972, Val Loss: 0.4438, LR: 1.00e-03, auroc: 0.8500, auprc: 0.8819, accuracy: 0.5000, sensitivity: 0.8000, specificity: 0.8000, avg_train_loss: 0.3972, avg_val_loss: 0.4438\n"
     ]
    },
    {
     "name": "stderr",
     "output_type": "stream",
     "text": [
      "Epoch 2/30 - Avg train Loss: 0.357411: 100%|████| 15/15 [00:39<00:00,  2.61s/it]\n",
      "Epoch 2/30 - Avg val Loss: 0.411287: 100%|████████| 4/4 [00:05<00:00,  1.49s/it]\n"
     ]
    },
    {
     "name": "stdout",
     "output_type": "stream",
     "text": [
      "New best weights found at epoch 2 with validation loss: 0.4113. Model saved to models/lunar-sweep-6_2024-07-30_00-23.pth\n",
      "Epoch 2/30 Summary : Train Loss: 0.3574, Val Loss: 0.4113, LR: 1.00e-03, auroc: 0.8311, auprc: 0.8800, accuracy: 0.5000, sensitivity: 0.6333, specificity: 0.9667, avg_train_loss: 0.3574, avg_val_loss: 0.4113\n"
     ]
    },
    {
     "name": "stderr",
     "output_type": "stream",
     "text": [
      "Epoch 3/30 - Avg train Loss: 0.329834: 100%|████| 15/15 [00:37<00:00,  2.49s/it]\n",
      "Epoch 3/30 - Avg val Loss: 0.439610: 100%|████████| 4/4 [00:05<00:00,  1.42s/it]\n"
     ]
    },
    {
     "name": "stdout",
     "output_type": "stream",
     "text": [
      "Epoch 3/30 Summary : Train Loss: 0.3298, Val Loss: 0.4396, LR: 1.00e-03, auroc: 0.8689, auprc: 0.8822, accuracy: 0.5000, sensitivity: 0.9000, specificity: 0.7667, avg_train_loss: 0.3298, avg_val_loss: 0.4396\n"
     ]
    },
    {
     "name": "stderr",
     "output_type": "stream",
     "text": [
      "Epoch 4/30 - Avg train Loss: 0.318444: 100%|████| 15/15 [00:38<00:00,  2.55s/it]\n",
      "Epoch 4/30 - Avg val Loss: 0.431653: 100%|████████| 4/4 [00:06<00:00,  1.51s/it]\n"
     ]
    },
    {
     "name": "stdout",
     "output_type": "stream",
     "text": [
      "Epoch 4/30 Summary : Train Loss: 0.3184, Val Loss: 0.4317, LR: 1.00e-03, auroc: 0.8456, auprc: 0.8833, accuracy: 0.6333, sensitivity: 0.8000, specificity: 0.8667, avg_train_loss: 0.3184, avg_val_loss: 0.4317\n"
     ]
    },
    {
     "name": "stderr",
     "output_type": "stream",
     "text": [
      "Epoch 5/30 - Avg train Loss: 0.308419: 100%|████| 15/15 [00:37<00:00,  2.50s/it]\n",
      "Epoch 5/30 - Avg val Loss: 0.371802: 100%|████████| 4/4 [00:06<00:00,  1.69s/it]\n"
     ]
    },
    {
     "name": "stdout",
     "output_type": "stream",
     "text": [
      "New best weights found at epoch 5 with validation loss: 0.3718. Model saved to models/lunar-sweep-6_2024-07-30_00-23.pth\n",
      "Epoch 5/30 Summary : Train Loss: 0.3084, Val Loss: 0.3718, LR: 1.00e-03, auroc: 0.8911, auprc: 0.9057, accuracy: 0.8167, sensitivity: 0.8000, specificity: 0.8667, avg_train_loss: 0.3084, avg_val_loss: 0.3718\n"
     ]
    },
    {
     "name": "stderr",
     "output_type": "stream",
     "text": [
      "Epoch 6/30 - Avg train Loss: 0.287460: 100%|████| 15/15 [00:37<00:00,  2.53s/it]\n",
      "Epoch 6/30 - Avg val Loss: 0.444725: 100%|████████| 4/4 [00:05<00:00,  1.40s/it]\n"
     ]
    },
    {
     "name": "stdout",
     "output_type": "stream",
     "text": [
      "Epoch 6/30 Summary : Train Loss: 0.2875, Val Loss: 0.4447, LR: 1.00e-03, auroc: 0.8267, auprc: 0.8525, accuracy: 0.8000, sensitivity: 0.7667, specificity: 0.8667, avg_train_loss: 0.2875, avg_val_loss: 0.4447\n"
     ]
    },
    {
     "name": "stderr",
     "output_type": "stream",
     "text": [
      "Epoch 7/30 - Avg train Loss: 0.288936: 100%|████| 15/15 [00:36<00:00,  2.42s/it]\n",
      "Epoch 7/30 - Avg val Loss: 0.392063: 100%|████████| 4/4 [00:06<00:00,  1.55s/it]\n"
     ]
    },
    {
     "name": "stdout",
     "output_type": "stream",
     "text": [
      "Epoch 7/30 Summary : Train Loss: 0.2889, Val Loss: 0.3921, LR: 1.00e-03, auroc: 0.8589, auprc: 0.8886, accuracy: 0.8167, sensitivity: 0.8000, specificity: 0.8333, avg_train_loss: 0.2889, avg_val_loss: 0.3921\n"
     ]
    },
    {
     "name": "stderr",
     "output_type": "stream",
     "text": [
      "Epoch 8/30 - Avg train Loss: 0.271165: 100%|████| 15/15 [00:37<00:00,  2.52s/it]\n",
      "Epoch 8/30 - Avg val Loss: 0.342357: 100%|████████| 4/4 [00:05<00:00,  1.47s/it]\n"
     ]
    },
    {
     "name": "stdout",
     "output_type": "stream",
     "text": [
      "New best weights found at epoch 8 with validation loss: 0.3424. Model saved to models/lunar-sweep-6_2024-07-30_00-23.pth\n",
      "Epoch 8/30 Summary : Train Loss: 0.2712, Val Loss: 0.3424, LR: 1.00e-03, auroc: 0.8822, auprc: 0.9127, accuracy: 0.6667, sensitivity: 0.8333, specificity: 0.8333, avg_train_loss: 0.2712, avg_val_loss: 0.3424\n"
     ]
    },
    {
     "name": "stderr",
     "output_type": "stream",
     "text": [
      "Epoch 9/30 - Avg train Loss: 0.259188: 100%|████| 15/15 [00:36<00:00,  2.42s/it]\n",
      "Epoch 9/30 - Avg val Loss: 0.354778: 100%|████████| 4/4 [00:05<00:00,  1.41s/it]\n"
     ]
    },
    {
     "name": "stdout",
     "output_type": "stream",
     "text": [
      "Epoch 9/30 Summary : Train Loss: 0.2592, Val Loss: 0.3548, LR: 1.00e-03, auroc: 0.8622, auprc: 0.8808, accuracy: 0.7167, sensitivity: 0.8000, specificity: 0.8000, avg_train_loss: 0.2592, avg_val_loss: 0.3548\n"
     ]
    },
    {
     "name": "stderr",
     "output_type": "stream",
     "text": [
      "Epoch 10/30 - Avg train Loss: 0.262116: 100%|███| 15/15 [00:37<00:00,  2.52s/it]\n",
      "Epoch 10/30 - Avg val Loss: 0.398658: 100%|███████| 4/4 [00:05<00:00,  1.47s/it]\n"
     ]
    },
    {
     "name": "stdout",
     "output_type": "stream",
     "text": [
      "Epoch 10/30 Summary : Train Loss: 0.2621, Val Loss: 0.3987, LR: 1.00e-03, auroc: 0.7922, auprc: 0.8035, accuracy: 0.6333, sensitivity: 0.7667, specificity: 0.7333, avg_train_loss: 0.2621, avg_val_loss: 0.3987\n"
     ]
    },
    {
     "name": "stderr",
     "output_type": "stream",
     "text": [
      "Epoch 11/30 - Avg train Loss: 0.262724: 100%|███| 15/15 [00:37<00:00,  2.51s/it]\n",
      "Epoch 11/30 - Avg val Loss: 0.371061: 100%|███████| 4/4 [00:06<00:00,  1.51s/it]\n"
     ]
    },
    {
     "name": "stdout",
     "output_type": "stream",
     "text": [
      "Epoch 11/30 Summary : Train Loss: 0.2627, Val Loss: 0.3711, LR: 1.00e-03, auroc: 0.8756, auprc: 0.9059, accuracy: 0.8500, sensitivity: 0.8667, specificity: 0.8333, avg_train_loss: 0.2627, avg_val_loss: 0.3711\n"
     ]
    },
    {
     "name": "stderr",
     "output_type": "stream",
     "text": [
      "Epoch 12/30 - Avg train Loss: 0.257544: 100%|███| 15/15 [00:36<00:00,  2.44s/it]\n",
      "Epoch 12/30 - Avg val Loss: 0.384569: 100%|███████| 4/4 [00:05<00:00,  1.40s/it]\n"
     ]
    },
    {
     "name": "stdout",
     "output_type": "stream",
     "text": [
      "Epoch 12/30 Summary : Train Loss: 0.2575, Val Loss: 0.3846, LR: 1.00e-03, auroc: 0.8122, auprc: 0.8449, accuracy: 0.6333, sensitivity: 0.6667, specificity: 0.8667, avg_train_loss: 0.2575, avg_val_loss: 0.3846\n"
     ]
    },
    {
     "name": "stderr",
     "output_type": "stream",
     "text": [
      "Epoch 13/30 - Avg train Loss: 0.258087: 100%|███| 15/15 [00:38<00:00,  2.56s/it]\n",
      "Epoch 13/30 - Avg val Loss: 0.364638: 100%|███████| 4/4 [00:05<00:00,  1.41s/it]\n"
     ]
    },
    {
     "name": "stdout",
     "output_type": "stream",
     "text": [
      "Epoch 13/30 Summary : Train Loss: 0.2581, Val Loss: 0.3646, LR: 1.00e-03, auroc: 0.8867, auprc: 0.9030, accuracy: 0.7333, sensitivity: 0.8333, specificity: 0.8667, avg_train_loss: 0.2581, avg_val_loss: 0.3646\n"
     ]
    },
    {
     "name": "stderr",
     "output_type": "stream",
     "text": [
      "Epoch 14/30 - Avg train Loss: 0.269572: 100%|███| 15/15 [00:36<00:00,  2.42s/it]\n",
      "Epoch 14/30 - Avg val Loss: 0.345062: 100%|███████| 4/4 [00:05<00:00,  1.41s/it]\n"
     ]
    },
    {
     "name": "stdout",
     "output_type": "stream",
     "text": [
      "Epoch 14/30 Summary : Train Loss: 0.2696, Val Loss: 0.3451, LR: 1.00e-04, auroc: 0.8811, auprc: 0.9094, accuracy: 0.5833, sensitivity: 0.8333, specificity: 0.8333, avg_train_loss: 0.2696, avg_val_loss: 0.3451\n"
     ]
    },
    {
     "name": "stderr",
     "output_type": "stream",
     "text": [
      "Epoch 15/30 - Avg train Loss: 0.257427: 100%|███| 15/15 [00:36<00:00,  2.44s/it]\n",
      "Epoch 15/30 - Avg val Loss: 0.353101: 100%|███████| 4/4 [00:05<00:00,  1.42s/it]\n"
     ]
    },
    {
     "name": "stdout",
     "output_type": "stream",
     "text": [
      "Epoch 15/30 Summary : Train Loss: 0.2574, Val Loss: 0.3531, LR: 1.00e-04, auroc: 0.8567, auprc: 0.8886, accuracy: 0.6167, sensitivity: 0.8000, specificity: 0.8000, avg_train_loss: 0.2574, avg_val_loss: 0.3531\n"
     ]
    },
    {
     "name": "stderr",
     "output_type": "stream",
     "text": [
      "Epoch 16/30 - Avg train Loss: 0.244047: 100%|███| 15/15 [00:36<00:00,  2.41s/it]\n",
      "Epoch 16/30 - Avg val Loss: 0.357363: 100%|███████| 4/4 [00:05<00:00,  1.46s/it]\n"
     ]
    },
    {
     "name": "stdout",
     "output_type": "stream",
     "text": [
      "Epoch 16/30 Summary : Train Loss: 0.2440, Val Loss: 0.3574, LR: 1.00e-04, auroc: 0.8600, auprc: 0.8845, accuracy: 0.6500, sensitivity: 0.8333, specificity: 0.7667, avg_train_loss: 0.2440, avg_val_loss: 0.3574\n"
     ]
    },
    {
     "name": "stderr",
     "output_type": "stream",
     "text": [
      "Epoch 17/30 - Avg train Loss: 0.246022: 100%|███| 15/15 [00:36<00:00,  2.43s/it]\n",
      "Epoch 17/30 - Avg val Loss: 0.357465: 100%|███████| 4/4 [00:05<00:00,  1.40s/it]\n"
     ]
    },
    {
     "name": "stdout",
     "output_type": "stream",
     "text": [
      "Epoch 17/30 Summary : Train Loss: 0.2460, Val Loss: 0.3575, LR: 1.00e-04, auroc: 0.8544, auprc: 0.8749, accuracy: 0.7000, sensitivity: 0.8333, specificity: 0.7667, avg_train_loss: 0.2460, avg_val_loss: 0.3575\n"
     ]
    },
    {
     "name": "stderr",
     "output_type": "stream",
     "text": [
      "Epoch 18/30 - Avg train Loss: 0.245719: 100%|███| 15/15 [00:35<00:00,  2.40s/it]\n",
      "Epoch 18/30 - Avg val Loss: 0.366173: 100%|███████| 4/4 [00:05<00:00,  1.44s/it]\n"
     ]
    },
    {
     "name": "stdout",
     "output_type": "stream",
     "text": [
      "Epoch 18/30 Summary : Train Loss: 0.2457, Val Loss: 0.3662, LR: 1.00e-04, auroc: 0.8633, auprc: 0.8829, accuracy: 0.7833, sensitivity: 0.9333, specificity: 0.6667, avg_train_loss: 0.2457, avg_val_loss: 0.3662\n"
     ]
    },
    {
     "name": "stderr",
     "output_type": "stream",
     "text": [
      "Epoch 19/30 - Avg train Loss: 0.238831: 100%|███| 15/15 [00:36<00:00,  2.44s/it]\n",
      "Epoch 19/30 - Avg val Loss: 0.371574: 100%|███████| 4/4 [00:05<00:00,  1.45s/it]\n"
     ]
    },
    {
     "name": "stdout",
     "output_type": "stream",
     "text": [
      "Epoch 19/30 Summary : Train Loss: 0.2388, Val Loss: 0.3716, LR: 1.00e-04, auroc: 0.8622, auprc: 0.8830, accuracy: 0.7833, sensitivity: 0.7667, specificity: 0.8333, avg_train_loss: 0.2388, avg_val_loss: 0.3716\n"
     ]
    },
    {
     "name": "stderr",
     "output_type": "stream",
     "text": [
      "Epoch 20/30 - Avg train Loss: 0.235897: 100%|███| 15/15 [00:36<00:00,  2.43s/it]\n",
      "Epoch 20/30 - Avg val Loss: 0.371535: 100%|███████| 4/4 [00:06<00:00,  1.58s/it]\n"
     ]
    },
    {
     "name": "stdout",
     "output_type": "stream",
     "text": [
      "Epoch 20/30 Summary : Train Loss: 0.2359, Val Loss: 0.3715, LR: 1.00e-05, auroc: 0.8767, auprc: 0.8944, accuracy: 0.7833, sensitivity: 0.7667, specificity: 0.8667, avg_train_loss: 0.2359, avg_val_loss: 0.3715\n"
     ]
    },
    {
     "name": "stderr",
     "output_type": "stream",
     "text": [
      "Epoch 21/30 - Avg train Loss: 0.241023: 100%|███| 15/15 [00:40<00:00,  2.72s/it]\n",
      "Epoch 21/30 - Avg val Loss: 0.373188: 100%|███████| 4/4 [00:06<00:00,  1.58s/it]\n"
     ]
    },
    {
     "name": "stdout",
     "output_type": "stream",
     "text": [
      "Epoch 21/30 Summary : Train Loss: 0.2410, Val Loss: 0.3732, LR: 1.00e-05, auroc: 0.8689, auprc: 0.8880, accuracy: 0.7833, sensitivity: 0.7667, specificity: 0.8667, avg_train_loss: 0.2410, avg_val_loss: 0.3732\n"
     ]
    },
    {
     "name": "stderr",
     "output_type": "stream",
     "text": [
      "Epoch 22/30 - Avg train Loss: 0.239712: 100%|███| 15/15 [00:42<00:00,  2.81s/it]\n",
      "Epoch 22/30 - Avg val Loss: 0.371703: 100%|███████| 4/4 [00:07<00:00,  1.77s/it]\n"
     ]
    },
    {
     "name": "stdout",
     "output_type": "stream",
     "text": [
      "Epoch 22/30 Summary : Train Loss: 0.2397, Val Loss: 0.3717, LR: 1.00e-05, auroc: 0.8733, auprc: 0.8925, accuracy: 0.7667, sensitivity: 0.7667, specificity: 0.8667, avg_train_loss: 0.2397, avg_val_loss: 0.3717\n"
     ]
    },
    {
     "name": "stderr",
     "output_type": "stream",
     "text": [
      "Epoch 23/30 - Avg train Loss: 0.233528: 100%|███| 15/15 [00:41<00:00,  2.76s/it]\n",
      "Epoch 23/30 - Avg val Loss: 0.372924: 100%|███████| 4/4 [00:06<00:00,  1.50s/it]\n"
     ]
    },
    {
     "name": "stdout",
     "output_type": "stream",
     "text": [
      "Epoch 23/30 Summary : Train Loss: 0.2335, Val Loss: 0.3729, LR: 1.00e-05, auroc: 0.8700, auprc: 0.8890, accuracy: 0.7667, sensitivity: 0.7667, specificity: 0.8667, avg_train_loss: 0.2335, avg_val_loss: 0.3729\n"
     ]
    },
    {
     "name": "stderr",
     "output_type": "stream",
     "text": [
      "Epoch 24/30 - Avg train Loss: 0.238786: 100%|███| 15/15 [00:37<00:00,  2.52s/it]\n",
      "Epoch 24/30 - Avg val Loss: 0.368815: 100%|███████| 4/4 [00:05<00:00,  1.48s/it]\n"
     ]
    },
    {
     "name": "stdout",
     "output_type": "stream",
     "text": [
      "Epoch 24/30 Summary : Train Loss: 0.2388, Val Loss: 0.3688, LR: 1.00e-05, auroc: 0.8722, auprc: 0.8907, accuracy: 0.7833, sensitivity: 0.7667, specificity: 0.8667, avg_train_loss: 0.2388, avg_val_loss: 0.3688\n"
     ]
    },
    {
     "name": "stderr",
     "output_type": "stream",
     "text": [
      "Epoch 25/30 - Avg train Loss: 0.240876: 100%|███| 15/15 [00:37<00:00,  2.49s/it]\n",
      "Epoch 25/30 - Avg val Loss: 0.369401: 100%|███████| 4/4 [00:06<00:00,  1.61s/it]\n"
     ]
    },
    {
     "name": "stdout",
     "output_type": "stream",
     "text": [
      "Epoch 25/30 Summary : Train Loss: 0.2409, Val Loss: 0.3694, LR: 1.00e-05, auroc: 0.8722, auprc: 0.8906, accuracy: 0.7833, sensitivity: 0.7667, specificity: 0.8667, avg_train_loss: 0.2409, avg_val_loss: 0.3694\n"
     ]
    },
    {
     "name": "stderr",
     "output_type": "stream",
     "text": [
      "Epoch 26/30 - Avg train Loss: 0.246899: 100%|███| 15/15 [00:39<00:00,  2.62s/it]\n",
      "Epoch 26/30 - Avg val Loss: 0.372814: 100%|███████| 4/4 [00:06<00:00,  1.53s/it]\n"
     ]
    },
    {
     "name": "stdout",
     "output_type": "stream",
     "text": [
      "Epoch 26/30 Summary : Train Loss: 0.2469, Val Loss: 0.3728, LR: 1.00e-06, auroc: 0.8700, auprc: 0.8884, accuracy: 0.7667, sensitivity: 0.7667, specificity: 0.8667, avg_train_loss: 0.2469, avg_val_loss: 0.3728\n"
     ]
    },
    {
     "name": "stderr",
     "output_type": "stream",
     "text": [
      "Epoch 27/30 - Avg train Loss: 0.239819: 100%|███| 15/15 [00:36<00:00,  2.43s/it]\n",
      "Epoch 27/30 - Avg val Loss: 0.371636: 100%|███████| 4/4 [00:05<00:00,  1.48s/it]\n"
     ]
    },
    {
     "name": "stdout",
     "output_type": "stream",
     "text": [
      "Epoch 27/30 Summary : Train Loss: 0.2398, Val Loss: 0.3716, LR: 1.00e-06, auroc: 0.8700, auprc: 0.8878, accuracy: 0.7833, sensitivity: 0.7667, specificity: 0.8667, avg_train_loss: 0.2398, avg_val_loss: 0.3716\n"
     ]
    },
    {
     "name": "stderr",
     "output_type": "stream",
     "text": [
      "Epoch 28/30 - Avg train Loss: 0.238333: 100%|███| 15/15 [00:37<00:00,  2.51s/it]\n",
      "Epoch 28/30 - Avg val Loss: 0.370323: 100%|███████| 4/4 [00:05<00:00,  1.40s/it]\n"
     ]
    },
    {
     "name": "stdout",
     "output_type": "stream",
     "text": [
      "Epoch 28/30 Summary : Train Loss: 0.2383, Val Loss: 0.3703, LR: 1.00e-06, auroc: 0.8733, auprc: 0.8909, accuracy: 0.7833, sensitivity: 0.7667, specificity: 0.8667, avg_train_loss: 0.2383, avg_val_loss: 0.3703\n"
     ]
    },
    {
     "name": "stderr",
     "output_type": "stream",
     "text": [
      "Epoch 29/30 - Avg train Loss: 0.244995: 100%|███| 15/15 [00:35<00:00,  2.39s/it]\n",
      "Epoch 29/30 - Avg val Loss: 0.371918: 100%|███████| 4/4 [00:05<00:00,  1.45s/it]\n"
     ]
    },
    {
     "name": "stdout",
     "output_type": "stream",
     "text": [
      "Epoch 29/30 Summary : Train Loss: 0.2450, Val Loss: 0.3719, LR: 1.00e-06, auroc: 0.8733, auprc: 0.8919, accuracy: 0.7833, sensitivity: 0.7667, specificity: 0.8667, avg_train_loss: 0.2450, avg_val_loss: 0.3719\n"
     ]
    },
    {
     "name": "stderr",
     "output_type": "stream",
     "text": [
      "Epoch 30/30 - Avg train Loss: 0.239303: 100%|███| 15/15 [00:38<00:00,  2.60s/it]\n",
      "Epoch 30/30 - Avg val Loss: 0.363297: 100%|███████| 4/4 [00:05<00:00,  1.44s/it]\n"
     ]
    },
    {
     "name": "stdout",
     "output_type": "stream",
     "text": [
      "Epoch 30/30 Summary : Train Loss: 0.2393, Val Loss: 0.3633, LR: 1.00e-06, auroc: 0.8789, auprc: 0.8942, accuracy: 0.7833, sensitivity: 0.7667, specificity: 0.8667, avg_train_loss: 0.2393, avg_val_loss: 0.3633\n"
     ]
    },
    {
     "data": {
      "application/vnd.jupyter.widget-view+json": {
       "model_id": "",
       "version_major": 2,
       "version_minor": 0
      },
      "text/plain": [
       "VBox(children=(Label(value='0.008 MB of 0.008 MB uploaded\\r'), FloatProgress(value=1.0, max=1.0)))"
      ]
     },
     "metadata": {},
     "output_type": "display_data"
    },
    {
     "data": {
      "text/html": [
       "<style>\n",
       "    table.wandb td:nth-child(1) { padding: 0 10px; text-align: left ; width: auto;} td:nth-child(2) {text-align: left ; width: 100%}\n",
       "    .wandb-row { display: flex; flex-direction: row; flex-wrap: wrap; justify-content: flex-start; width: 100% }\n",
       "    .wandb-col { display: flex; flex-direction: column; flex-basis: 100%; flex: 1; padding: 10px; }\n",
       "    </style>\n",
       "<div class=\"wandb-row\"><div class=\"wandb-col\"><h3>Run history:</h3><br/><table class=\"wandb\"><tr><td>accuracy</td><td>▁▁▁▄▇▇▇▄▅▄█▄▆▃▃▄▅▇▇▇▇▆▆▇▇▆▇▇▇▇</td></tr><tr><td>auprc</td><td>▆▆▆▆█▄▆█▆▁█▄▇█▆▆▆▆▆▇▆▇▆▇▇▆▆▇▇▇</td></tr><tr><td>auroc</td><td>▅▄▆▅█▃▆▇▆▁▇▂█▇▆▆▅▆▆▇▆▇▇▇▇▇▇▇▇▇</td></tr><tr><td>avg_train_loss</td><td>█▆▅▅▄▃▃▃▂▂▂▂▂▃▂▁▂▂▁▁▁▁▁▁▁▂▁▁▁▁</td></tr><tr><td>avg_val_loss</td><td>█▆█▇▃█▄▁▂▅▃▄▃▁▂▂▂▃▃▃▃▃▃▃▃▃▃▃▃▂</td></tr><tr><td>sensitivity</td><td>▅▁▇▅▅▄▅▆▅▄▆▂▆▆▅▆▆█▄▄▄▄▄▄▄▄▄▄▄▄</td></tr><tr><td>specificity</td><td>▄█▃▆▆▆▅▅▄▃▅▆▆▅▄▃▃▁▅▆▆▆▆▆▆▆▆▆▆▆</td></tr></table><br/></div><div class=\"wandb-col\"><h3>Run summary:</h3><br/><table class=\"wandb\"><tr><td>accuracy</td><td>0.78333</td></tr><tr><td>auprc</td><td>0.89425</td></tr><tr><td>auroc</td><td>0.87889</td></tr><tr><td>avg_train_loss</td><td>0.2393</td></tr><tr><td>avg_val_loss</td><td>0.3633</td></tr><tr><td>sensitivity</td><td>0.76667</td></tr><tr><td>specificity</td><td>0.86667</td></tr></table><br/></div></div>"
      ],
      "text/plain": [
       "<IPython.core.display.HTML object>"
      ]
     },
     "metadata": {},
     "output_type": "display_data"
    },
    {
     "data": {
      "text/html": [
       " View run <strong style=\"color:#cdcd00\">lunar-sweep-6</strong> at: <a href='https://wandb.ai/miccai-challenge-2024/task2/runs/bg8a2fx3' target=\"_blank\">https://wandb.ai/miccai-challenge-2024/task2/runs/bg8a2fx3</a><br/> View project at: <a href='https://wandb.ai/miccai-challenge-2024/task2' target=\"_blank\">https://wandb.ai/miccai-challenge-2024/task2</a><br/>Synced 6 W&B file(s), 0 media file(s), 0 artifact file(s) and 0 other file(s)"
      ],
      "text/plain": [
       "<IPython.core.display.HTML object>"
      ]
     },
     "metadata": {},
     "output_type": "display_data"
    },
    {
     "data": {
      "text/html": [
       "Find logs at: <code>./wandb/run-20240730_002324-bg8a2fx3/logs</code>"
      ],
      "text/plain": [
       "<IPython.core.display.HTML object>"
      ]
     },
     "metadata": {},
     "output_type": "display_data"
    },
    {
     "name": "stdout",
     "output_type": "stream",
     "text": [
      "Finished training\n"
     ]
    },
    {
     "name": "stderr",
     "output_type": "stream",
     "text": [
      "\u001b[34m\u001b[1mwandb\u001b[0m: Agent Starting Run: 7xgzbwfe with config:\n",
      "\u001b[34m\u001b[1mwandb\u001b[0m: \tbatch_size: 16\n",
      "\u001b[34m\u001b[1mwandb\u001b[0m: \tepochs: 30\n",
      "\u001b[34m\u001b[1mwandb\u001b[0m: \tloss_weight: 0.5\n",
      "\u001b[34m\u001b[1mwandb\u001b[0m: \tlr: 0.001\n",
      "\u001b[34m\u001b[1mwandb\u001b[0m: \tlr_schedule_factor: 0.1\n",
      "\u001b[34m\u001b[1mwandb\u001b[0m: \tlr_schedule_patience: 5\n",
      "\u001b[34m\u001b[1mwandb\u001b[0m: \tmodel: ResNet\n",
      "\u001b[34m\u001b[1mwandb\u001b[0m: \tp_affine: 0.3\n",
      "\u001b[34m\u001b[1mwandb\u001b[0m: \tp_clahe: 0.5\n",
      "\u001b[34m\u001b[1mwandb\u001b[0m: \tp_equalize: 0\n",
      "\u001b[34m\u001b[1mwandb\u001b[0m: \tp_gaussblur: 0\n",
      "\u001b[34m\u001b[1mwandb\u001b[0m: \tp_horizontalflip: 0.5\n",
      "\u001b[34m\u001b[1mwandb\u001b[0m: \tresampling_strategy: undersampling\n",
      "\u001b[34m\u001b[1mwandb\u001b[0m: \trotation: 10\n",
      "\u001b[34m\u001b[1mwandb\u001b[0m: \u001b[33mWARNING\u001b[0m Ignored wandb.init() arg project when running a sweep.\n"
     ]
    },
    {
     "data": {
      "text/html": [
       "wandb version 0.17.5 is available!  To upgrade, please run:\n",
       " $ pip install wandb --upgrade"
      ],
      "text/plain": [
       "<IPython.core.display.HTML object>"
      ]
     },
     "metadata": {},
     "output_type": "display_data"
    },
    {
     "data": {
      "text/html": [
       "Tracking run with wandb version 0.17.0"
      ],
      "text/plain": [
       "<IPython.core.display.HTML object>"
      ]
     },
     "metadata": {},
     "output_type": "display_data"
    },
    {
     "data": {
      "text/html": [
       "Run data is saved locally in <code>/home/optima/mhaderer/AILS-MICCAI-UWF4DR-Challenge/wandb/run-20240730_004539-7xgzbwfe</code>"
      ],
      "text/plain": [
       "<IPython.core.display.HTML object>"
      ]
     },
     "metadata": {},
     "output_type": "display_data"
    },
    {
     "data": {
      "text/html": [
       "Syncing run <strong><a href='https://wandb.ai/miccai-challenge-2024/task2/runs/7xgzbwfe' target=\"_blank\">glowing-sweep-7</a></strong> to <a href='https://wandb.ai/miccai-challenge-2024/task2' target=\"_blank\">Weights & Biases</a> (<a href='https://wandb.me/run' target=\"_blank\">docs</a>)<br/>Sweep page: <a href='https://wandb.ai/miccai-challenge-2024/task2/sweeps/f4v5vt07' target=\"_blank\">https://wandb.ai/miccai-challenge-2024/task2/sweeps/f4v5vt07</a>"
      ],
      "text/plain": [
       "<IPython.core.display.HTML object>"
      ]
     },
     "metadata": {},
     "output_type": "display_data"
    },
    {
     "data": {
      "text/html": [
       " View project at <a href='https://wandb.ai/miccai-challenge-2024/task2' target=\"_blank\">https://wandb.ai/miccai-challenge-2024/task2</a>"
      ],
      "text/plain": [
       "<IPython.core.display.HTML object>"
      ]
     },
     "metadata": {},
     "output_type": "display_data"
    },
    {
     "data": {
      "text/html": [
       " View sweep at <a href='https://wandb.ai/miccai-challenge-2024/task2/sweeps/f4v5vt07' target=\"_blank\">https://wandb.ai/miccai-challenge-2024/task2/sweeps/f4v5vt07</a>"
      ],
      "text/plain": [
       "<IPython.core.display.HTML object>"
      ]
     },
     "metadata": {},
     "output_type": "display_data"
    },
    {
     "data": {
      "text/html": [
       " View run at <a href='https://wandb.ai/miccai-challenge-2024/task2/runs/7xgzbwfe' target=\"_blank\">https://wandb.ai/miccai-challenge-2024/task2/runs/7xgzbwfe</a>"
      ],
      "text/plain": [
       "<IPython.core.display.HTML object>"
      ]
     },
     "metadata": {},
     "output_type": "display_data"
    },
    {
     "name": "stdout",
     "output_type": "stream",
     "text": [
      "Using device: cuda\n"
     ]
    },
    {
     "name": "stderr",
     "output_type": "stream",
     "text": [
      "Using cache found in /home/optima/mhaderer/.cache/torch/hub/pytorch_vision_v0.10.0\n",
      "Downloading: \"https://download.pytorch.org/models/resnet18-f37072fd.pth\" to /home/optima/mhaderer/.cache/torch/hub/checkpoints/resnet18-f37072fd.pth\n",
      "100%|██████████████████████████████████████| 44.7M/44.7M [00:00<00:00, 53.3MB/s]\n"
     ]
    },
    {
     "name": "stdout",
     "output_type": "stream",
     "text": [
      "Number of output features in resnet18 encoder:  1\n",
      "Now train train train\n"
     ]
    },
    {
     "name": "stderr",
     "output_type": "stream",
     "text": [
      "Epoch 1/30 - Avg train Loss: 0.532180: 100%|████| 15/15 [00:25<00:00,  1.67s/it]\n",
      "Epoch 1/30 - Avg val Loss: 14.399827: 100%|███████| 4/4 [00:06<00:00,  1.51s/it]\n"
     ]
    },
    {
     "name": "stdout",
     "output_type": "stream",
     "text": [
      "New best weights found at epoch 1 with validation loss: 14.3998. Model saved to models/glowing-sweep-7_2024-07-30_00-45.pth\n",
      "Epoch 1/30 Summary : Train Loss: 0.5322, Val Loss: 14.3998, LR: 1.00e-03, auroc: 0.5611, auprc: 0.6680, accuracy: 0.5000, sensitivity: 0.3000, specificity: 1.0000, avg_train_loss: 0.5322, avg_val_loss: 14.3998\n"
     ]
    },
    {
     "name": "stderr",
     "output_type": "stream",
     "text": [
      "Epoch 2/30 - Avg train Loss: 0.402028: 100%|████| 15/15 [00:22<00:00,  1.53s/it]\n",
      "Epoch 2/30 - Avg val Loss: 1.009993: 100%|████████| 4/4 [00:05<00:00,  1.43s/it]\n"
     ]
    },
    {
     "name": "stdout",
     "output_type": "stream",
     "text": [
      "New best weights found at epoch 2 with validation loss: 1.0100. Model saved to models/glowing-sweep-7_2024-07-30_00-45.pth\n",
      "Epoch 2/30 Summary : Train Loss: 0.4020, Val Loss: 1.0100, LR: 1.00e-03, auroc: 0.7400, auprc: 0.7824, accuracy: 0.5000, sensitivity: 0.7667, specificity: 0.7000, avg_train_loss: 0.4020, avg_val_loss: 1.0100\n"
     ]
    },
    {
     "name": "stderr",
     "output_type": "stream",
     "text": [
      "Epoch 3/30 - Avg train Loss: 0.381390: 100%|████| 15/15 [00:24<00:00,  1.62s/it]\n",
      "Epoch 3/30 - Avg val Loss: 0.661145: 100%|████████| 4/4 [00:05<00:00,  1.33s/it]\n"
     ]
    },
    {
     "name": "stdout",
     "output_type": "stream",
     "text": [
      "New best weights found at epoch 3 with validation loss: 0.6611. Model saved to models/glowing-sweep-7_2024-07-30_00-45.pth\n",
      "Epoch 3/30 Summary : Train Loss: 0.3814, Val Loss: 0.6611, LR: 1.00e-03, auroc: 0.8411, auprc: 0.8780, accuracy: 0.5000, sensitivity: 0.8000, specificity: 0.8667, avg_train_loss: 0.3814, avg_val_loss: 0.6611\n"
     ]
    },
    {
     "name": "stderr",
     "output_type": "stream",
     "text": [
      "Epoch 4/30 - Avg train Loss: 0.361261: 100%|████| 15/15 [00:21<00:00,  1.46s/it]\n",
      "Epoch 4/30 - Avg val Loss: 0.426865: 100%|████████| 4/4 [00:05<00:00,  1.35s/it]\n"
     ]
    },
    {
     "name": "stdout",
     "output_type": "stream",
     "text": [
      "New best weights found at epoch 4 with validation loss: 0.4269. Model saved to models/glowing-sweep-7_2024-07-30_00-45.pth\n",
      "Epoch 4/30 Summary : Train Loss: 0.3613, Val Loss: 0.4269, LR: 1.00e-03, auroc: 0.6767, auprc: 0.7559, accuracy: 0.4833, sensitivity: 0.4000, specificity: 0.9667, avg_train_loss: 0.3613, avg_val_loss: 0.4269\n"
     ]
    },
    {
     "name": "stderr",
     "output_type": "stream",
     "text": [
      "Epoch 5/30 - Avg train Loss: 0.350478: 100%|████| 15/15 [00:23<00:00,  1.56s/it]\n",
      "Epoch 5/30 - Avg val Loss: 1.467593: 100%|████████| 4/4 [00:05<00:00,  1.48s/it]\n"
     ]
    },
    {
     "name": "stdout",
     "output_type": "stream",
     "text": [
      "Epoch 5/30 Summary : Train Loss: 0.3505, Val Loss: 1.4676, LR: 1.00e-03, auroc: 0.5044, auprc: 0.5223, accuracy: 0.5000, sensitivity: 0.9333, specificity: 0.2333, avg_train_loss: 0.3505, avg_val_loss: 1.4676\n"
     ]
    },
    {
     "name": "stderr",
     "output_type": "stream",
     "text": [
      "Epoch 6/30 - Avg train Loss: 0.377549: 100%|████| 15/15 [00:25<00:00,  1.68s/it]\n",
      "Epoch 6/30 - Avg val Loss: 0.376214: 100%|████████| 4/4 [00:05<00:00,  1.41s/it]\n"
     ]
    },
    {
     "name": "stdout",
     "output_type": "stream",
     "text": [
      "New best weights found at epoch 6 with validation loss: 0.3762. Model saved to models/glowing-sweep-7_2024-07-30_00-45.pth\n",
      "Epoch 6/30 Summary : Train Loss: 0.3775, Val Loss: 0.3762, LR: 1.00e-03, auroc: 0.8567, auprc: 0.8485, accuracy: 0.5000, sensitivity: 0.8667, specificity: 0.7667, avg_train_loss: 0.3775, avg_val_loss: 0.3762\n"
     ]
    },
    {
     "name": "stderr",
     "output_type": "stream",
     "text": [
      "Epoch 7/30 - Avg train Loss: 0.386960: 100%|████| 15/15 [00:22<00:00,  1.49s/it]\n",
      "Epoch 7/30 - Avg val Loss: 0.381260: 100%|████████| 4/4 [00:05<00:00,  1.49s/it]\n"
     ]
    },
    {
     "name": "stdout",
     "output_type": "stream",
     "text": [
      "Epoch 7/30 Summary : Train Loss: 0.3870, Val Loss: 0.3813, LR: 1.00e-03, auroc: 0.8967, auprc: 0.9034, accuracy: 0.5000, sensitivity: 0.8333, specificity: 0.8667, avg_train_loss: 0.3870, avg_val_loss: 0.3813\n"
     ]
    },
    {
     "name": "stderr",
     "output_type": "stream",
     "text": [
      "Epoch 8/30 - Avg train Loss: 0.349634: 100%|████| 15/15 [00:23<00:00,  1.54s/it]\n",
      "Epoch 8/30 - Avg val Loss: 0.409411: 100%|████████| 4/4 [00:05<00:00,  1.34s/it]\n"
     ]
    },
    {
     "name": "stdout",
     "output_type": "stream",
     "text": [
      "Epoch 8/30 Summary : Train Loss: 0.3496, Val Loss: 0.4094, LR: 1.00e-03, auroc: 0.9089, auprc: 0.9134, accuracy: 0.8000, sensitivity: 0.8333, specificity: 0.9000, avg_train_loss: 0.3496, avg_val_loss: 0.4094\n"
     ]
    },
    {
     "name": "stderr",
     "output_type": "stream",
     "text": [
      "Epoch 9/30 - Avg train Loss: 0.334055: 100%|████| 15/15 [00:22<00:00,  1.47s/it]\n",
      "Epoch 9/30 - Avg val Loss: 0.389389: 100%|████████| 4/4 [00:06<00:00,  1.51s/it]\n"
     ]
    },
    {
     "name": "stdout",
     "output_type": "stream",
     "text": [
      "Epoch 9/30 Summary : Train Loss: 0.3341, Val Loss: 0.3894, LR: 1.00e-03, auroc: 0.9233, auprc: 0.9411, accuracy: 0.8500, sensitivity: 0.7667, specificity: 0.9667, avg_train_loss: 0.3341, avg_val_loss: 0.3894\n"
     ]
    },
    {
     "name": "stderr",
     "output_type": "stream",
     "text": [
      "Epoch 10/30 - Avg train Loss: 0.334054: 100%|███| 15/15 [00:22<00:00,  1.52s/it]\n",
      "Epoch 10/30 - Avg val Loss: 0.365630: 100%|███████| 4/4 [00:05<00:00,  1.35s/it]\n"
     ]
    },
    {
     "name": "stdout",
     "output_type": "stream",
     "text": [
      "New best weights found at epoch 10 with validation loss: 0.3656. Model saved to models/glowing-sweep-7_2024-07-30_00-45.pth\n",
      "Epoch 10/30 Summary : Train Loss: 0.3341, Val Loss: 0.3656, LR: 1.00e-03, auroc: 0.9078, auprc: 0.9127, accuracy: 0.8667, sensitivity: 0.8333, specificity: 0.9333, avg_train_loss: 0.3341, avg_val_loss: 0.3656\n"
     ]
    },
    {
     "name": "stderr",
     "output_type": "stream",
     "text": [
      "Epoch 11/30 - Avg train Loss: 0.332410: 100%|███| 15/15 [00:22<00:00,  1.51s/it]\n",
      "Epoch 11/30 - Avg val Loss: 0.584949: 100%|███████| 4/4 [00:05<00:00,  1.32s/it]\n"
     ]
    },
    {
     "name": "stdout",
     "output_type": "stream",
     "text": [
      "Epoch 11/30 Summary : Train Loss: 0.3324, Val Loss: 0.5849, LR: 1.00e-03, auroc: 0.9289, auprc: 0.9347, accuracy: 0.6667, sensitivity: 0.9333, specificity: 0.8333, avg_train_loss: 0.3324, avg_val_loss: 0.5849\n"
     ]
    },
    {
     "name": "stderr",
     "output_type": "stream",
     "text": [
      "Epoch 12/30 - Avg train Loss: 0.331768: 100%|███| 15/15 [00:22<00:00,  1.52s/it]\n",
      "Epoch 12/30 - Avg val Loss: 0.323190: 100%|███████| 4/4 [00:05<00:00,  1.33s/it]\n"
     ]
    },
    {
     "name": "stdout",
     "output_type": "stream",
     "text": [
      "New best weights found at epoch 12 with validation loss: 0.3232. Model saved to models/glowing-sweep-7_2024-07-30_00-45.pth\n",
      "Epoch 12/30 Summary : Train Loss: 0.3318, Val Loss: 0.3232, LR: 1.00e-03, auroc: 0.9278, auprc: 0.9376, accuracy: 0.8500, sensitivity: 0.8000, specificity: 0.9667, avg_train_loss: 0.3318, avg_val_loss: 0.3232\n"
     ]
    },
    {
     "name": "stderr",
     "output_type": "stream",
     "text": [
      "Epoch 13/30 - Avg train Loss: 0.313455: 100%|███| 15/15 [00:23<00:00,  1.54s/it]\n",
      "Epoch 13/30 - Avg val Loss: 0.336104: 100%|███████| 4/4 [00:05<00:00,  1.37s/it]\n"
     ]
    },
    {
     "name": "stdout",
     "output_type": "stream",
     "text": [
      "Epoch 13/30 Summary : Train Loss: 0.3135, Val Loss: 0.3361, LR: 1.00e-03, auroc: 0.9267, auprc: 0.9359, accuracy: 0.5833, sensitivity: 0.7667, specificity: 0.9333, avg_train_loss: 0.3135, avg_val_loss: 0.3361\n"
     ]
    },
    {
     "name": "stderr",
     "output_type": "stream",
     "text": [
      "Epoch 14/30 - Avg train Loss: 0.317099: 100%|███| 15/15 [00:23<00:00,  1.55s/it]\n",
      "Epoch 14/30 - Avg val Loss: 0.312749: 100%|███████| 4/4 [00:05<00:00,  1.36s/it]\n"
     ]
    },
    {
     "name": "stdout",
     "output_type": "stream",
     "text": [
      "New best weights found at epoch 14 with validation loss: 0.3127. Model saved to models/glowing-sweep-7_2024-07-30_00-45.pth\n",
      "Epoch 14/30 Summary : Train Loss: 0.3171, Val Loss: 0.3127, LR: 1.00e-03, auroc: 0.9400, auprc: 0.9449, accuracy: 0.7333, sensitivity: 1.0000, specificity: 0.7333, avg_train_loss: 0.3171, avg_val_loss: 0.3127\n"
     ]
    },
    {
     "name": "stderr",
     "output_type": "stream",
     "text": [
      "Epoch 15/30 - Avg train Loss: 0.307590: 100%|███| 15/15 [00:22<00:00,  1.51s/it]\n",
      "Epoch 15/30 - Avg val Loss: 0.344873: 100%|███████| 4/4 [00:05<00:00,  1.47s/it]\n"
     ]
    },
    {
     "name": "stdout",
     "output_type": "stream",
     "text": [
      "Epoch 15/30 Summary : Train Loss: 0.3076, Val Loss: 0.3449, LR: 1.00e-03, auroc: 0.8967, auprc: 0.9184, accuracy: 0.6500, sensitivity: 0.7667, specificity: 0.9333, avg_train_loss: 0.3076, avg_val_loss: 0.3449\n"
     ]
    },
    {
     "name": "stderr",
     "output_type": "stream",
     "text": [
      "Epoch 16/30 - Avg train Loss: 0.304671: 100%|███| 15/15 [00:24<00:00,  1.64s/it]\n",
      "Epoch 16/30 - Avg val Loss: 0.328894: 100%|███████| 4/4 [00:05<00:00,  1.46s/it]\n"
     ]
    },
    {
     "name": "stdout",
     "output_type": "stream",
     "text": [
      "Epoch 16/30 Summary : Train Loss: 0.3047, Val Loss: 0.3289, LR: 1.00e-03, auroc: 0.9211, auprc: 0.9084, accuracy: 0.5833, sensitivity: 0.8667, specificity: 0.9333, avg_train_loss: 0.3047, avg_val_loss: 0.3289\n"
     ]
    },
    {
     "name": "stderr",
     "output_type": "stream",
     "text": [
      "Epoch 17/30 - Avg train Loss: 0.321603: 100%|███| 15/15 [00:24<00:00,  1.61s/it]\n",
      "Epoch 17/30 - Avg val Loss: 0.318088: 100%|███████| 4/4 [00:05<00:00,  1.43s/it]\n"
     ]
    },
    {
     "name": "stdout",
     "output_type": "stream",
     "text": [
      "Epoch 17/30 Summary : Train Loss: 0.3216, Val Loss: 0.3181, LR: 1.00e-03, auroc: 0.9311, auprc: 0.9407, accuracy: 0.7000, sensitivity: 0.8000, specificity: 0.9333, avg_train_loss: 0.3216, avg_val_loss: 0.3181\n"
     ]
    },
    {
     "name": "stderr",
     "output_type": "stream",
     "text": [
      "Epoch 18/30 - Avg train Loss: 0.305259: 100%|███| 15/15 [00:24<00:00,  1.61s/it]\n",
      "Epoch 18/30 - Avg val Loss: 0.420388: 100%|███████| 4/4 [00:05<00:00,  1.46s/it]\n"
     ]
    },
    {
     "name": "stdout",
     "output_type": "stream",
     "text": [
      "Epoch 18/30 Summary : Train Loss: 0.3053, Val Loss: 0.4204, LR: 1.00e-03, auroc: 0.9456, auprc: 0.9531, accuracy: 0.8333, sensitivity: 0.9333, specificity: 0.8667, avg_train_loss: 0.3053, avg_val_loss: 0.4204\n"
     ]
    },
    {
     "name": "stderr",
     "output_type": "stream",
     "text": [
      "Epoch 19/30 - Avg train Loss: 0.276951: 100%|███| 15/15 [00:24<00:00,  1.60s/it]\n",
      "Epoch 19/30 - Avg val Loss: 0.301173: 100%|███████| 4/4 [00:05<00:00,  1.44s/it]\n"
     ]
    },
    {
     "name": "stdout",
     "output_type": "stream",
     "text": [
      "New best weights found at epoch 19 with validation loss: 0.3012. Model saved to models/glowing-sweep-7_2024-07-30_00-45.pth\n",
      "Epoch 19/30 Summary : Train Loss: 0.2770, Val Loss: 0.3012, LR: 1.00e-03, auroc: 0.9556, auprc: 0.9593, accuracy: 0.8167, sensitivity: 0.9333, specificity: 0.9000, avg_train_loss: 0.2770, avg_val_loss: 0.3012\n"
     ]
    },
    {
     "name": "stderr",
     "output_type": "stream",
     "text": [
      "Epoch 20/30 - Avg train Loss: 0.294567: 100%|███| 15/15 [00:24<00:00,  1.62s/it]\n",
      "Epoch 20/30 - Avg val Loss: 0.312240: 100%|███████| 4/4 [00:05<00:00,  1.44s/it]\n"
     ]
    },
    {
     "name": "stdout",
     "output_type": "stream",
     "text": [
      "Epoch 20/30 Summary : Train Loss: 0.2946, Val Loss: 0.3122, LR: 1.00e-03, auroc: 0.9211, auprc: 0.9279, accuracy: 0.7833, sensitivity: 0.7667, specificity: 0.9333, avg_train_loss: 0.2946, avg_val_loss: 0.3122\n"
     ]
    },
    {
     "name": "stderr",
     "output_type": "stream",
     "text": [
      "Epoch 21/30 - Avg train Loss: 0.305146: 100%|███| 15/15 [00:24<00:00,  1.63s/it]\n",
      "Epoch 21/30 - Avg val Loss: 0.508155: 100%|███████| 4/4 [00:06<00:00,  1.52s/it]\n"
     ]
    },
    {
     "name": "stdout",
     "output_type": "stream",
     "text": [
      "Epoch 21/30 Summary : Train Loss: 0.3051, Val Loss: 0.5082, LR: 1.00e-03, auroc: 0.9656, auprc: 0.9669, accuracy: 0.5000, sensitivity: 0.8667, specificity: 0.9333, avg_train_loss: 0.3051, avg_val_loss: 0.5082\n"
     ]
    },
    {
     "name": "stderr",
     "output_type": "stream",
     "text": [
      "Epoch 22/30 - Avg train Loss: 0.293713: 100%|███| 15/15 [00:24<00:00,  1.66s/it]\n",
      "Epoch 22/30 - Avg val Loss: 0.329505: 100%|███████| 4/4 [00:06<00:00,  1.57s/it]\n"
     ]
    },
    {
     "name": "stdout",
     "output_type": "stream",
     "text": [
      "Epoch 22/30 Summary : Train Loss: 0.2937, Val Loss: 0.3295, LR: 1.00e-03, auroc: 0.9667, auprc: 0.9630, accuracy: 0.6333, sensitivity: 0.9000, specificity: 0.9333, avg_train_loss: 0.2937, avg_val_loss: 0.3295\n"
     ]
    },
    {
     "name": "stderr",
     "output_type": "stream",
     "text": [
      "Epoch 23/30 - Avg train Loss: 0.281216: 100%|███| 15/15 [00:25<00:00,  1.67s/it]\n",
      "Epoch 23/30 - Avg val Loss: 0.499130: 100%|███████| 4/4 [00:06<00:00,  1.51s/it]\n"
     ]
    },
    {
     "name": "stdout",
     "output_type": "stream",
     "text": [
      "Epoch 23/30 Summary : Train Loss: 0.2812, Val Loss: 0.4991, LR: 1.00e-03, auroc: 0.9467, auprc: 0.9540, accuracy: 0.7833, sensitivity: 0.7667, specificity: 0.9667, avg_train_loss: 0.2812, avg_val_loss: 0.4991\n"
     ]
    },
    {
     "name": "stderr",
     "output_type": "stream",
     "text": [
      "Epoch 24/30 - Avg train Loss: 0.269867: 100%|███| 15/15 [00:24<00:00,  1.62s/it]\n",
      "Epoch 24/30 - Avg val Loss: 0.344528: 100%|███████| 4/4 [00:05<00:00,  1.47s/it]\n"
     ]
    },
    {
     "name": "stdout",
     "output_type": "stream",
     "text": [
      "Epoch 24/30 Summary : Train Loss: 0.2699, Val Loss: 0.3445, LR: 1.00e-03, auroc: 0.9411, auprc: 0.9274, accuracy: 0.8833, sensitivity: 0.9000, specificity: 0.9333, avg_train_loss: 0.2699, avg_val_loss: 0.3445\n"
     ]
    },
    {
     "name": "stderr",
     "output_type": "stream",
     "text": [
      "Epoch 25/30 - Avg train Loss: 0.265242: 100%|███| 15/15 [00:23<00:00,  1.60s/it]\n",
      "Epoch 25/30 - Avg val Loss: 0.290009: 100%|███████| 4/4 [00:05<00:00,  1.49s/it]\n"
     ]
    },
    {
     "name": "stdout",
     "output_type": "stream",
     "text": [
      "New best weights found at epoch 25 with validation loss: 0.2900. Model saved to models/glowing-sweep-7_2024-07-30_00-45.pth\n",
      "Epoch 25/30 Summary : Train Loss: 0.2652, Val Loss: 0.2900, LR: 1.00e-03, auroc: 0.9656, auprc: 0.9637, accuracy: 0.8500, sensitivity: 0.8667, specificity: 0.9667, avg_train_loss: 0.2652, avg_val_loss: 0.2900\n"
     ]
    },
    {
     "name": "stderr",
     "output_type": "stream",
     "text": [
      "Epoch 26/30 - Avg train Loss: 0.271719: 100%|███| 15/15 [00:26<00:00,  1.78s/it]\n",
      "Epoch 26/30 - Avg val Loss: 0.304085: 100%|███████| 4/4 [00:06<00:00,  1.65s/it]\n"
     ]
    },
    {
     "name": "stdout",
     "output_type": "stream",
     "text": [
      "Epoch 26/30 Summary : Train Loss: 0.2717, Val Loss: 0.3041, LR: 1.00e-03, auroc: 0.9756, auprc: 0.9768, accuracy: 0.9000, sensitivity: 0.9667, specificity: 0.9000, avg_train_loss: 0.2717, avg_val_loss: 0.3041\n"
     ]
    },
    {
     "name": "stderr",
     "output_type": "stream",
     "text": [
      "Epoch 27/30 - Avg train Loss: 0.271730: 100%|███| 15/15 [00:25<00:00,  1.68s/it]\n",
      "Epoch 27/30 - Avg val Loss: 0.286843: 100%|███████| 4/4 [00:05<00:00,  1.48s/it]\n"
     ]
    },
    {
     "name": "stdout",
     "output_type": "stream",
     "text": [
      "New best weights found at epoch 27 with validation loss: 0.2868. Model saved to models/glowing-sweep-7_2024-07-30_00-45.pth\n",
      "Epoch 27/30 Summary : Train Loss: 0.2717, Val Loss: 0.2868, LR: 1.00e-03, auroc: 0.9778, auprc: 0.9788, accuracy: 0.8833, sensitivity: 0.9333, specificity: 0.9000, avg_train_loss: 0.2717, avg_val_loss: 0.2868\n"
     ]
    },
    {
     "name": "stderr",
     "output_type": "stream",
     "text": [
      "Epoch 28/30 - Avg train Loss: 0.266570: 100%|███| 15/15 [00:24<00:00,  1.65s/it]\n",
      "Epoch 28/30 - Avg val Loss: 0.319539: 100%|███████| 4/4 [00:06<00:00,  1.52s/it]\n"
     ]
    },
    {
     "name": "stdout",
     "output_type": "stream",
     "text": [
      "Epoch 28/30 Summary : Train Loss: 0.2666, Val Loss: 0.3195, LR: 1.00e-03, auroc: 0.9656, auprc: 0.9715, accuracy: 0.6500, sensitivity: 0.8333, specificity: 1.0000, avg_train_loss: 0.2666, avg_val_loss: 0.3195\n"
     ]
    },
    {
     "name": "stderr",
     "output_type": "stream",
     "text": [
      "Epoch 29/30 - Avg train Loss: 0.275991: 100%|███| 15/15 [00:26<00:00,  1.75s/it]\n",
      "Epoch 29/30 - Avg val Loss: 0.325430: 100%|███████| 4/4 [00:06<00:00,  1.66s/it]\n"
     ]
    },
    {
     "name": "stdout",
     "output_type": "stream",
     "text": [
      "Epoch 29/30 Summary : Train Loss: 0.2760, Val Loss: 0.3254, LR: 1.00e-03, auroc: 0.9611, auprc: 0.9692, accuracy: 0.8500, sensitivity: 0.8667, specificity: 1.0000, avg_train_loss: 0.2760, avg_val_loss: 0.3254\n"
     ]
    },
    {
     "name": "stderr",
     "output_type": "stream",
     "text": [
      "Epoch 30/30 - Avg train Loss: 0.298572: 100%|███| 15/15 [00:25<00:00,  1.70s/it]\n",
      "Epoch 30/30 - Avg val Loss: 0.416291: 100%|███████| 4/4 [00:06<00:00,  1.63s/it]\n"
     ]
    },
    {
     "name": "stdout",
     "output_type": "stream",
     "text": [
      "Epoch 30/30 Summary : Train Loss: 0.2986, Val Loss: 0.4163, LR: 1.00e-03, auroc: 0.9689, auprc: 0.9725, accuracy: 0.6333, sensitivity: 0.9667, specificity: 0.8667, avg_train_loss: 0.2986, avg_val_loss: 0.4163\n"
     ]
    },
    {
     "data": {
      "application/vnd.jupyter.widget-view+json": {
       "model_id": "",
       "version_major": 2,
       "version_minor": 0
      },
      "text/plain": [
       "VBox(children=(Label(value='0.008 MB of 0.008 MB uploaded\\r'), FloatProgress(value=1.0, max=1.0)))"
      ]
     },
     "metadata": {},
     "output_type": "display_data"
    },
    {
     "data": {
      "text/html": [
       "<style>\n",
       "    table.wandb td:nth-child(1) { padding: 0 10px; text-align: left ; width: auto;} td:nth-child(2) {text-align: left ; width: 100%}\n",
       "    .wandb-row { display: flex; flex-direction: row; flex-wrap: wrap; justify-content: flex-start; width: 100% }\n",
       "    .wandb-col { display: flex; flex-direction: column; flex-basis: 100%; flex: 1; padding: 10px; }\n",
       "    </style>\n",
       "<div class=\"wandb-row\"><div class=\"wandb-col\"><h3>Run history:</h3><br/><table class=\"wandb\"><tr><td>accuracy</td><td>▁▁▁▁▁▁▁▆▇▇▄▇▃▅▄▃▅▇▇▆▁▄▆█▇██▄▇▄</td></tr><tr><td>auprc</td><td>▃▅▆▅▁▆▇▇▇▇▇▇▇▇▇▇▇██▇███▇██████</td></tr><tr><td>auroc</td><td>▂▄▆▄▁▆▇▇▇▇▇▇▇▇▇▇▇██▇███▇██████</td></tr><tr><td>avg_train_loss</td><td>█▅▄▄▃▄▄▃▃▃▃▃▂▂▂▂▂▂▁▂▂▂▁▁▁▁▁▁▁▂</td></tr><tr><td>avg_val_loss</td><td>█▁▁▁▂▁▁▁▁▁▁▁▁▁▁▁▁▁▁▁▁▁▁▁▁▁▁▁▁▁</td></tr><tr><td>sensitivity</td><td>▁▆▆▂▇▇▆▆▆▆▇▆▆█▆▇▆▇▇▆▇▇▆▇▇█▇▆▇█</td></tr><tr><td>specificity</td><td>█▅▇█▁▆▇▇█▇▆█▇▆▇▇▇▇▇▇▇▇█▇█▇▇██▇</td></tr></table><br/></div><div class=\"wandb-col\"><h3>Run summary:</h3><br/><table class=\"wandb\"><tr><td>accuracy</td><td>0.63333</td></tr><tr><td>auprc</td><td>0.97249</td></tr><tr><td>auroc</td><td>0.96889</td></tr><tr><td>avg_train_loss</td><td>0.29857</td></tr><tr><td>avg_val_loss</td><td>0.41629</td></tr><tr><td>sensitivity</td><td>0.96667</td></tr><tr><td>specificity</td><td>0.86667</td></tr></table><br/></div></div>"
      ],
      "text/plain": [
       "<IPython.core.display.HTML object>"
      ]
     },
     "metadata": {},
     "output_type": "display_data"
    },
    {
     "data": {
      "text/html": [
       " View run <strong style=\"color:#cdcd00\">glowing-sweep-7</strong> at: <a href='https://wandb.ai/miccai-challenge-2024/task2/runs/7xgzbwfe' target=\"_blank\">https://wandb.ai/miccai-challenge-2024/task2/runs/7xgzbwfe</a><br/> View project at: <a href='https://wandb.ai/miccai-challenge-2024/task2' target=\"_blank\">https://wandb.ai/miccai-challenge-2024/task2</a><br/>Synced 6 W&B file(s), 0 media file(s), 0 artifact file(s) and 0 other file(s)"
      ],
      "text/plain": [
       "<IPython.core.display.HTML object>"
      ]
     },
     "metadata": {},
     "output_type": "display_data"
    },
    {
     "data": {
      "text/html": [
       "Find logs at: <code>./wandb/run-20240730_004539-7xgzbwfe/logs</code>"
      ],
      "text/plain": [
       "<IPython.core.display.HTML object>"
      ]
     },
     "metadata": {},
     "output_type": "display_data"
    },
    {
     "name": "stdout",
     "output_type": "stream",
     "text": [
      "Finished training\n"
     ]
    },
    {
     "name": "stderr",
     "output_type": "stream",
     "text": [
      "\u001b[34m\u001b[1mwandb\u001b[0m: Agent Starting Run: 3szz86sx with config:\n",
      "\u001b[34m\u001b[1mwandb\u001b[0m: \tbatch_size: 16\n",
      "\u001b[34m\u001b[1mwandb\u001b[0m: \tepochs: 30\n",
      "\u001b[34m\u001b[1mwandb\u001b[0m: \tloss_weight: 0.5\n",
      "\u001b[34m\u001b[1mwandb\u001b[0m: \tlr: 0.001\n",
      "\u001b[34m\u001b[1mwandb\u001b[0m: \tlr_schedule_factor: 0.1\n",
      "\u001b[34m\u001b[1mwandb\u001b[0m: \tlr_schedule_patience: 5\n",
      "\u001b[34m\u001b[1mwandb\u001b[0m: \tmodel: ResNet\n",
      "\u001b[34m\u001b[1mwandb\u001b[0m: \tp_affine: 0.3\n",
      "\u001b[34m\u001b[1mwandb\u001b[0m: \tp_clahe: 0.5\n",
      "\u001b[34m\u001b[1mwandb\u001b[0m: \tp_equalize: 0\n",
      "\u001b[34m\u001b[1mwandb\u001b[0m: \tp_gaussblur: 0.5\n",
      "\u001b[34m\u001b[1mwandb\u001b[0m: \tp_horizontalflip: 0.5\n",
      "\u001b[34m\u001b[1mwandb\u001b[0m: \tresampling_strategy: undersampling\n",
      "\u001b[34m\u001b[1mwandb\u001b[0m: \trotation: 10\n",
      "\u001b[34m\u001b[1mwandb\u001b[0m: \u001b[33mWARNING\u001b[0m Ignored wandb.init() arg project when running a sweep.\n"
     ]
    },
    {
     "data": {
      "text/html": [
       "wandb version 0.17.5 is available!  To upgrade, please run:\n",
       " $ pip install wandb --upgrade"
      ],
      "text/plain": [
       "<IPython.core.display.HTML object>"
      ]
     },
     "metadata": {},
     "output_type": "display_data"
    },
    {
     "data": {
      "text/html": [
       "Tracking run with wandb version 0.17.0"
      ],
      "text/plain": [
       "<IPython.core.display.HTML object>"
      ]
     },
     "metadata": {},
     "output_type": "display_data"
    },
    {
     "data": {
      "text/html": [
       "Run data is saved locally in <code>/home/optima/mhaderer/AILS-MICCAI-UWF4DR-Challenge/wandb/run-20240730_010105-3szz86sx</code>"
      ],
      "text/plain": [
       "<IPython.core.display.HTML object>"
      ]
     },
     "metadata": {},
     "output_type": "display_data"
    },
    {
     "data": {
      "text/html": [
       "Syncing run <strong><a href='https://wandb.ai/miccai-challenge-2024/task2/runs/3szz86sx' target=\"_blank\">astral-sweep-8</a></strong> to <a href='https://wandb.ai/miccai-challenge-2024/task2' target=\"_blank\">Weights & Biases</a> (<a href='https://wandb.me/run' target=\"_blank\">docs</a>)<br/>Sweep page: <a href='https://wandb.ai/miccai-challenge-2024/task2/sweeps/f4v5vt07' target=\"_blank\">https://wandb.ai/miccai-challenge-2024/task2/sweeps/f4v5vt07</a>"
      ],
      "text/plain": [
       "<IPython.core.display.HTML object>"
      ]
     },
     "metadata": {},
     "output_type": "display_data"
    },
    {
     "data": {
      "text/html": [
       " View project at <a href='https://wandb.ai/miccai-challenge-2024/task2' target=\"_blank\">https://wandb.ai/miccai-challenge-2024/task2</a>"
      ],
      "text/plain": [
       "<IPython.core.display.HTML object>"
      ]
     },
     "metadata": {},
     "output_type": "display_data"
    },
    {
     "data": {
      "text/html": [
       " View sweep at <a href='https://wandb.ai/miccai-challenge-2024/task2/sweeps/f4v5vt07' target=\"_blank\">https://wandb.ai/miccai-challenge-2024/task2/sweeps/f4v5vt07</a>"
      ],
      "text/plain": [
       "<IPython.core.display.HTML object>"
      ]
     },
     "metadata": {},
     "output_type": "display_data"
    },
    {
     "data": {
      "text/html": [
       " View run at <a href='https://wandb.ai/miccai-challenge-2024/task2/runs/3szz86sx' target=\"_blank\">https://wandb.ai/miccai-challenge-2024/task2/runs/3szz86sx</a>"
      ],
      "text/plain": [
       "<IPython.core.display.HTML object>"
      ]
     },
     "metadata": {},
     "output_type": "display_data"
    },
    {
     "name": "stdout",
     "output_type": "stream",
     "text": [
      "Using device: cuda\n"
     ]
    },
    {
     "name": "stderr",
     "output_type": "stream",
     "text": [
      "Using cache found in /home/optima/mhaderer/.cache/torch/hub/pytorch_vision_v0.10.0\n"
     ]
    },
    {
     "name": "stdout",
     "output_type": "stream",
     "text": [
      "Number of output features in resnet18 encoder:  1\n",
      "Now train train train\n"
     ]
    },
    {
     "name": "stderr",
     "output_type": "stream",
     "text": [
      "Epoch 1/30 - Avg train Loss: 0.701062: 100%|████| 15/15 [00:27<00:00,  1.81s/it]\n",
      "Epoch 1/30 - Avg val Loss: 3.514429: 100%|████████| 4/4 [00:06<00:00,  1.56s/it]\n"
     ]
    },
    {
     "name": "stdout",
     "output_type": "stream",
     "text": [
      "New best weights found at epoch 1 with validation loss: 3.5144. Model saved to models/astral-sweep-8_2024-07-30_01-01.pth\n",
      "Epoch 1/30 Summary : Train Loss: 0.7011, Val Loss: 3.5144, LR: 1.00e-03, auroc: 0.5800, auprc: 0.5692, accuracy: 0.5000, sensitivity: 0.5000, specificity: 0.7333, avg_train_loss: 0.7011, avg_val_loss: 3.5144\n"
     ]
    },
    {
     "name": "stderr",
     "output_type": "stream",
     "text": [
      "Epoch 2/30 - Avg train Loss: 0.443814: 100%|████| 15/15 [00:29<00:00,  1.94s/it]\n",
      "Epoch 2/30 - Avg val Loss: 1.044312: 100%|████████| 4/4 [00:06<00:00,  1.73s/it]\n"
     ]
    },
    {
     "name": "stdout",
     "output_type": "stream",
     "text": [
      "New best weights found at epoch 2 with validation loss: 1.0443. Model saved to models/astral-sweep-8_2024-07-30_01-01.pth\n",
      "Epoch 2/30 Summary : Train Loss: 0.4438, Val Loss: 1.0443, LR: 1.00e-03, auroc: 0.5444, auprc: 0.5466, accuracy: 0.5000, sensitivity: 0.4667, specificity: 0.6667, avg_train_loss: 0.4438, avg_val_loss: 1.0443\n"
     ]
    },
    {
     "name": "stderr",
     "output_type": "stream",
     "text": [
      "Epoch 3/30 - Avg train Loss: 0.418499: 100%|████| 15/15 [00:28<00:00,  1.93s/it]\n",
      "Epoch 3/30 - Avg val Loss: 0.412007: 100%|████████| 4/4 [00:06<00:00,  1.52s/it]\n"
     ]
    },
    {
     "name": "stdout",
     "output_type": "stream",
     "text": [
      "New best weights found at epoch 3 with validation loss: 0.4120. Model saved to models/astral-sweep-8_2024-07-30_01-01.pth\n",
      "Epoch 3/30 Summary : Train Loss: 0.4185, Val Loss: 0.4120, LR: 1.00e-03, auroc: 0.6733, auprc: 0.6450, accuracy: 0.5000, sensitivity: 0.7667, specificity: 0.6000, avg_train_loss: 0.4185, avg_val_loss: 0.4120\n"
     ]
    },
    {
     "name": "stderr",
     "output_type": "stream",
     "text": [
      "Epoch 4/30 - Avg train Loss: 0.400150: 100%|████| 15/15 [00:29<00:00,  1.99s/it]\n",
      "Epoch 4/30 - Avg val Loss: 0.395388: 100%|████████| 4/4 [00:06<00:00,  1.69s/it]\n"
     ]
    },
    {
     "name": "stdout",
     "output_type": "stream",
     "text": [
      "New best weights found at epoch 4 with validation loss: 0.3954. Model saved to models/astral-sweep-8_2024-07-30_01-01.pth\n",
      "Epoch 4/30 Summary : Train Loss: 0.4002, Val Loss: 0.3954, LR: 1.00e-03, auroc: 0.7500, auprc: 0.7774, accuracy: 0.5000, sensitivity: 0.5667, specificity: 0.8667, avg_train_loss: 0.4002, avg_val_loss: 0.3954\n"
     ]
    },
    {
     "name": "stderr",
     "output_type": "stream",
     "text": [
      "Epoch 5/30 - Avg train Loss: 0.385122: 100%|████| 15/15 [00:30<00:00,  2.07s/it]\n",
      "Epoch 5/30 - Avg val Loss: 0.378307: 100%|████████| 4/4 [00:06<00:00,  1.64s/it]\n"
     ]
    },
    {
     "name": "stdout",
     "output_type": "stream",
     "text": [
      "New best weights found at epoch 5 with validation loss: 0.3783. Model saved to models/astral-sweep-8_2024-07-30_01-01.pth\n",
      "Epoch 5/30 Summary : Train Loss: 0.3851, Val Loss: 0.3783, LR: 1.00e-03, auroc: 0.7733, auprc: 0.7988, accuracy: 0.6167, sensitivity: 0.8333, specificity: 0.6333, avg_train_loss: 0.3851, avg_val_loss: 0.3783\n"
     ]
    },
    {
     "name": "stderr",
     "output_type": "stream",
     "text": [
      "Epoch 6/30 - Avg train Loss: 0.377357: 100%|████| 15/15 [00:28<00:00,  1.88s/it]\n",
      "Epoch 6/30 - Avg val Loss: 0.402797: 100%|████████| 4/4 [00:06<00:00,  1.54s/it]\n"
     ]
    },
    {
     "name": "stdout",
     "output_type": "stream",
     "text": [
      "Epoch 6/30 Summary : Train Loss: 0.3774, Val Loss: 0.4028, LR: 1.00e-03, auroc: 0.7644, auprc: 0.7998, accuracy: 0.5667, sensitivity: 0.7667, specificity: 0.7000, avg_train_loss: 0.3774, avg_val_loss: 0.4028\n"
     ]
    },
    {
     "name": "stderr",
     "output_type": "stream",
     "text": [
      "Epoch 7/30 - Avg train Loss: 0.379687: 100%|████| 15/15 [00:27<00:00,  1.87s/it]\n",
      "Epoch 7/30 - Avg val Loss: 0.406315: 100%|████████| 4/4 [00:06<00:00,  1.53s/it]\n"
     ]
    },
    {
     "name": "stdout",
     "output_type": "stream",
     "text": [
      "Epoch 7/30 Summary : Train Loss: 0.3797, Val Loss: 0.4063, LR: 1.00e-03, auroc: 0.6433, auprc: 0.7119, accuracy: 0.5167, sensitivity: 0.3333, specificity: 0.9667, avg_train_loss: 0.3797, avg_val_loss: 0.4063\n"
     ]
    },
    {
     "name": "stderr",
     "output_type": "stream",
     "text": [
      "Epoch 8/30 - Avg train Loss: 0.361321: 100%|████| 15/15 [00:29<00:00,  1.95s/it]\n",
      "Epoch 8/30 - Avg val Loss: 0.359674: 100%|████████| 4/4 [00:05<00:00,  1.50s/it]\n"
     ]
    },
    {
     "name": "stdout",
     "output_type": "stream",
     "text": [
      "New best weights found at epoch 8 with validation loss: 0.3597. Model saved to models/astral-sweep-8_2024-07-30_01-01.pth\n",
      "Epoch 8/30 Summary : Train Loss: 0.3613, Val Loss: 0.3597, LR: 1.00e-03, auroc: 0.8700, auprc: 0.8848, accuracy: 0.6167, sensitivity: 0.7333, specificity: 0.9000, avg_train_loss: 0.3613, avg_val_loss: 0.3597\n"
     ]
    },
    {
     "name": "stderr",
     "output_type": "stream",
     "text": [
      "Epoch 9/30 - Avg train Loss: 0.356474: 100%|████| 15/15 [00:28<00:00,  1.89s/it]\n",
      "Epoch 9/30 - Avg val Loss: 0.368028: 100%|████████| 4/4 [00:06<00:00,  1.61s/it]\n"
     ]
    },
    {
     "name": "stdout",
     "output_type": "stream",
     "text": [
      "Epoch 9/30 Summary : Train Loss: 0.3565, Val Loss: 0.3680, LR: 1.00e-03, auroc: 0.8500, auprc: 0.8727, accuracy: 0.7000, sensitivity: 0.8333, specificity: 0.8000, avg_train_loss: 0.3565, avg_val_loss: 0.3680\n"
     ]
    },
    {
     "name": "stderr",
     "output_type": "stream",
     "text": [
      "Epoch 10/30 - Avg train Loss: 0.349732: 100%|███| 15/15 [00:27<00:00,  1.81s/it]\n",
      "Epoch 10/30 - Avg val Loss: 0.381166: 100%|███████| 4/4 [00:05<00:00,  1.47s/it]\n"
     ]
    },
    {
     "name": "stdout",
     "output_type": "stream",
     "text": [
      "Epoch 10/30 Summary : Train Loss: 0.3497, Val Loss: 0.3812, LR: 1.00e-03, auroc: 0.8189, auprc: 0.8511, accuracy: 0.6500, sensitivity: 0.7667, specificity: 0.8667, avg_train_loss: 0.3497, avg_val_loss: 0.3812\n"
     ]
    },
    {
     "name": "stderr",
     "output_type": "stream",
     "text": [
      "Epoch 11/30 - Avg train Loss: 0.351507: 100%|███| 15/15 [00:28<00:00,  1.91s/it]\n",
      "Epoch 11/30 - Avg val Loss: 0.365646: 100%|███████| 4/4 [00:06<00:00,  1.62s/it]\n"
     ]
    },
    {
     "name": "stdout",
     "output_type": "stream",
     "text": [
      "Epoch 11/30 Summary : Train Loss: 0.3515, Val Loss: 0.3656, LR: 1.00e-03, auroc: 0.8578, auprc: 0.8707, accuracy: 0.7167, sensitivity: 0.8000, specificity: 0.8000, avg_train_loss: 0.3515, avg_val_loss: 0.3656\n"
     ]
    },
    {
     "name": "stderr",
     "output_type": "stream",
     "text": [
      "Epoch 12/30 - Avg train Loss: 0.350194: 100%|███| 15/15 [00:29<00:00,  1.98s/it]\n",
      "Epoch 12/30 - Avg val Loss: 0.417275: 100%|███████| 4/4 [00:06<00:00,  1.61s/it]\n"
     ]
    },
    {
     "name": "stdout",
     "output_type": "stream",
     "text": [
      "Epoch 12/30 Summary : Train Loss: 0.3502, Val Loss: 0.4173, LR: 1.00e-03, auroc: 0.8856, auprc: 0.8938, accuracy: 0.7667, sensitivity: 0.8000, specificity: 0.9000, avg_train_loss: 0.3502, avg_val_loss: 0.4173\n"
     ]
    },
    {
     "name": "stderr",
     "output_type": "stream",
     "text": [
      "Epoch 13/30 - Avg train Loss: 0.372575: 100%|███| 15/15 [00:29<00:00,  1.95s/it]\n",
      "Epoch 13/30 - Avg val Loss: 0.372473: 100%|███████| 4/4 [00:06<00:00,  1.57s/it]\n"
     ]
    },
    {
     "name": "stdout",
     "output_type": "stream",
     "text": [
      "Epoch 13/30 Summary : Train Loss: 0.3726, Val Loss: 0.3725, LR: 1.00e-03, auroc: 0.8700, auprc: 0.8862, accuracy: 0.8167, sensitivity: 0.8667, specificity: 0.8333, avg_train_loss: 0.3726, avg_val_loss: 0.3725\n"
     ]
    },
    {
     "name": "stderr",
     "output_type": "stream",
     "text": [
      "Epoch 14/30 - Avg train Loss: 0.338488: 100%|███| 15/15 [00:28<00:00,  1.92s/it]\n",
      "Epoch 14/30 - Avg val Loss: 0.338772: 100%|███████| 4/4 [00:06<00:00,  1.65s/it]\n"
     ]
    },
    {
     "name": "stdout",
     "output_type": "stream",
     "text": [
      "New best weights found at epoch 14 with validation loss: 0.3388. Model saved to models/astral-sweep-8_2024-07-30_01-01.pth\n",
      "Epoch 14/30 Summary : Train Loss: 0.3385, Val Loss: 0.3388, LR: 1.00e-03, auroc: 0.8956, auprc: 0.9089, accuracy: 0.6833, sensitivity: 0.8667, specificity: 0.8333, avg_train_loss: 0.3385, avg_val_loss: 0.3388\n"
     ]
    },
    {
     "name": "stderr",
     "output_type": "stream",
     "text": [
      "Epoch 15/30 - Avg train Loss: 0.311062: 100%|███| 15/15 [00:30<00:00,  2.00s/it]\n",
      "Epoch 15/30 - Avg val Loss: 0.334634: 100%|███████| 4/4 [00:06<00:00,  1.67s/it]\n"
     ]
    },
    {
     "name": "stdout",
     "output_type": "stream",
     "text": [
      "New best weights found at epoch 15 with validation loss: 0.3346. Model saved to models/astral-sweep-8_2024-07-30_01-01.pth\n",
      "Epoch 15/30 Summary : Train Loss: 0.3111, Val Loss: 0.3346, LR: 1.00e-03, auroc: 0.8878, auprc: 0.8948, accuracy: 0.7333, sensitivity: 0.8000, specificity: 0.9333, avg_train_loss: 0.3111, avg_val_loss: 0.3346\n"
     ]
    },
    {
     "name": "stderr",
     "output_type": "stream",
     "text": [
      "Epoch 16/30 - Avg train Loss: 0.348704: 100%|███| 15/15 [00:30<00:00,  2.04s/it]\n",
      "Epoch 16/30 - Avg val Loss: 0.339294: 100%|███████| 4/4 [00:06<00:00,  1.61s/it]\n"
     ]
    },
    {
     "name": "stdout",
     "output_type": "stream",
     "text": [
      "Epoch 16/30 Summary : Train Loss: 0.3487, Val Loss: 0.3393, LR: 1.00e-03, auroc: 0.8967, auprc: 0.9113, accuracy: 0.6500, sensitivity: 0.8333, specificity: 0.9333, avg_train_loss: 0.3487, avg_val_loss: 0.3393\n"
     ]
    },
    {
     "name": "stderr",
     "output_type": "stream",
     "text": [
      "Epoch 17/30 - Avg train Loss: 0.325643: 100%|███| 15/15 [00:28<00:00,  1.93s/it]\n",
      "Epoch 17/30 - Avg val Loss: 0.381281: 100%|███████| 4/4 [00:06<00:00,  1.61s/it]\n"
     ]
    },
    {
     "name": "stdout",
     "output_type": "stream",
     "text": [
      "Epoch 17/30 Summary : Train Loss: 0.3256, Val Loss: 0.3813, LR: 1.00e-03, auroc: 0.8844, auprc: 0.9046, accuracy: 0.8167, sensitivity: 0.8000, specificity: 0.9000, avg_train_loss: 0.3256, avg_val_loss: 0.3813\n"
     ]
    },
    {
     "name": "stderr",
     "output_type": "stream",
     "text": [
      "Epoch 18/30 - Avg train Loss: 0.340798: 100%|███| 15/15 [00:29<00:00,  1.98s/it]\n",
      "Epoch 18/30 - Avg val Loss: 0.363421: 100%|███████| 4/4 [00:06<00:00,  1.60s/it]\n"
     ]
    },
    {
     "name": "stdout",
     "output_type": "stream",
     "text": [
      "Epoch 18/30 Summary : Train Loss: 0.3408, Val Loss: 0.3634, LR: 1.00e-03, auroc: 0.8522, auprc: 0.8780, accuracy: 0.5667, sensitivity: 0.8000, specificity: 0.8333, avg_train_loss: 0.3408, avg_val_loss: 0.3634\n"
     ]
    },
    {
     "name": "stderr",
     "output_type": "stream",
     "text": [
      "Epoch 19/30 - Avg train Loss: 0.339542: 100%|███| 15/15 [00:29<00:00,  1.95s/it]\n",
      "Epoch 19/30 - Avg val Loss: 0.330887: 100%|███████| 4/4 [00:06<00:00,  1.62s/it]\n"
     ]
    },
    {
     "name": "stdout",
     "output_type": "stream",
     "text": [
      "New best weights found at epoch 19 with validation loss: 0.3309. Model saved to models/astral-sweep-8_2024-07-30_01-01.pth\n",
      "Epoch 19/30 Summary : Train Loss: 0.3395, Val Loss: 0.3309, LR: 1.00e-03, auroc: 0.9056, auprc: 0.9224, accuracy: 0.7167, sensitivity: 0.8000, specificity: 0.9667, avg_train_loss: 0.3395, avg_val_loss: 0.3309\n"
     ]
    },
    {
     "name": "stderr",
     "output_type": "stream",
     "text": [
      "Epoch 20/30 - Avg train Loss: 0.316994: 100%|███| 15/15 [00:29<00:00,  1.99s/it]\n",
      "Epoch 20/30 - Avg val Loss: 0.334223: 100%|███████| 4/4 [00:06<00:00,  1.60s/it]\n"
     ]
    },
    {
     "name": "stdout",
     "output_type": "stream",
     "text": [
      "Epoch 20/30 Summary : Train Loss: 0.3170, Val Loss: 0.3342, LR: 1.00e-03, auroc: 0.8956, auprc: 0.9212, accuracy: 0.8167, sensitivity: 0.8667, specificity: 0.8667, avg_train_loss: 0.3170, avg_val_loss: 0.3342\n"
     ]
    },
    {
     "name": "stderr",
     "output_type": "stream",
     "text": [
      "Epoch 21/30 - Avg train Loss: 0.331363: 100%|███| 15/15 [00:29<00:00,  1.99s/it]\n",
      "Epoch 21/30 - Avg val Loss: 0.332073: 100%|███████| 4/4 [00:06<00:00,  1.63s/it]\n"
     ]
    },
    {
     "name": "stdout",
     "output_type": "stream",
     "text": [
      "Epoch 21/30 Summary : Train Loss: 0.3314, Val Loss: 0.3321, LR: 1.00e-03, auroc: 0.9056, auprc: 0.9175, accuracy: 0.6333, sensitivity: 0.8667, specificity: 0.9000, avg_train_loss: 0.3314, avg_val_loss: 0.3321\n"
     ]
    },
    {
     "name": "stderr",
     "output_type": "stream",
     "text": [
      "Epoch 22/30 - Avg train Loss: 0.323863: 100%|███| 15/15 [00:29<00:00,  1.99s/it]\n",
      "Epoch 22/30 - Avg val Loss: 0.335157: 100%|███████| 4/4 [00:06<00:00,  1.63s/it]\n"
     ]
    },
    {
     "name": "stdout",
     "output_type": "stream",
     "text": [
      "Epoch 22/30 Summary : Train Loss: 0.3239, Val Loss: 0.3352, LR: 1.00e-03, auroc: 0.9311, auprc: 0.9447, accuracy: 0.8833, sensitivity: 0.8000, specificity: 0.9667, avg_train_loss: 0.3239, avg_val_loss: 0.3352\n"
     ]
    },
    {
     "name": "stderr",
     "output_type": "stream",
     "text": [
      "Epoch 23/30 - Avg train Loss: 0.372649: 100%|███| 15/15 [00:29<00:00,  2.00s/it]\n",
      "Epoch 23/30 - Avg val Loss: 0.411187: 100%|███████| 4/4 [00:06<00:00,  1.59s/it]\n"
     ]
    },
    {
     "name": "stdout",
     "output_type": "stream",
     "text": [
      "Epoch 23/30 Summary : Train Loss: 0.3726, Val Loss: 0.4112, LR: 1.00e-03, auroc: 0.9067, auprc: 0.9304, accuracy: 0.5500, sensitivity: 0.7667, specificity: 0.9667, avg_train_loss: 0.3726, avg_val_loss: 0.4112\n"
     ]
    },
    {
     "name": "stderr",
     "output_type": "stream",
     "text": [
      "Epoch 24/30 - Avg train Loss: 0.326159: 100%|███| 15/15 [00:30<00:00,  2.01s/it]\n",
      "Epoch 24/30 - Avg val Loss: 0.338470: 100%|███████| 4/4 [00:06<00:00,  1.59s/it]\n"
     ]
    },
    {
     "name": "stdout",
     "output_type": "stream",
     "text": [
      "Epoch 24/30 Summary : Train Loss: 0.3262, Val Loss: 0.3385, LR: 1.00e-03, auroc: 0.9233, auprc: 0.9351, accuracy: 0.8833, sensitivity: 0.8333, specificity: 0.9333, avg_train_loss: 0.3262, avg_val_loss: 0.3385\n"
     ]
    },
    {
     "name": "stderr",
     "output_type": "stream",
     "text": [
      "Epoch 25/30 - Avg train Loss: 0.312536: 100%|███| 15/15 [00:28<00:00,  1.88s/it]\n",
      "Epoch 25/30 - Avg val Loss: 0.312925: 100%|███████| 4/4 [00:05<00:00,  1.48s/it]\n"
     ]
    },
    {
     "name": "stdout",
     "output_type": "stream",
     "text": [
      "New best weights found at epoch 25 with validation loss: 0.3129. Model saved to models/astral-sweep-8_2024-07-30_01-01.pth\n",
      "Epoch 25/30 Summary : Train Loss: 0.3125, Val Loss: 0.3129, LR: 1.00e-03, auroc: 0.9122, auprc: 0.9371, accuracy: 0.8000, sensitivity: 0.7667, specificity: 1.0000, avg_train_loss: 0.3125, avg_val_loss: 0.3129\n"
     ]
    },
    {
     "name": "stderr",
     "output_type": "stream",
     "text": [
      "Epoch 26/30 - Avg train Loss: 0.311059: 100%|███| 15/15 [00:27<00:00,  1.85s/it]\n",
      "Epoch 26/30 - Avg val Loss: 0.305607: 100%|███████| 4/4 [00:05<00:00,  1.49s/it]\n"
     ]
    },
    {
     "name": "stdout",
     "output_type": "stream",
     "text": [
      "New best weights found at epoch 26 with validation loss: 0.3056. Model saved to models/astral-sweep-8_2024-07-30_01-01.pth\n",
      "Epoch 26/30 Summary : Train Loss: 0.3111, Val Loss: 0.3056, LR: 1.00e-03, auroc: 0.9322, auprc: 0.9505, accuracy: 0.8167, sensitivity: 0.9000, specificity: 0.9000, avg_train_loss: 0.3111, avg_val_loss: 0.3056\n"
     ]
    },
    {
     "name": "stderr",
     "output_type": "stream",
     "text": [
      "Epoch 27/30 - Avg train Loss: 0.294901: 100%|███| 15/15 [00:28<00:00,  1.88s/it]\n",
      "Epoch 27/30 - Avg val Loss: 0.464671: 100%|███████| 4/4 [00:06<00:00,  1.64s/it]\n"
     ]
    },
    {
     "name": "stdout",
     "output_type": "stream",
     "text": [
      "Epoch 27/30 Summary : Train Loss: 0.2949, Val Loss: 0.4647, LR: 1.00e-03, auroc: 0.8633, auprc: 0.8726, accuracy: 0.7500, sensitivity: 0.8333, specificity: 0.9000, avg_train_loss: 0.2949, avg_val_loss: 0.4647\n"
     ]
    },
    {
     "name": "stderr",
     "output_type": "stream",
     "text": [
      "Epoch 28/30 - Avg train Loss: 0.324039: 100%|███| 15/15 [00:30<00:00,  2.03s/it]\n",
      "Epoch 28/30 - Avg val Loss: 0.348901: 100%|███████| 4/4 [00:06<00:00,  1.57s/it]\n"
     ]
    },
    {
     "name": "stdout",
     "output_type": "stream",
     "text": [
      "Epoch 28/30 Summary : Train Loss: 0.3240, Val Loss: 0.3489, LR: 1.00e-03, auroc: 0.9100, auprc: 0.9316, accuracy: 0.6167, sensitivity: 0.8333, specificity: 0.9333, avg_train_loss: 0.3240, avg_val_loss: 0.3489\n"
     ]
    },
    {
     "name": "stderr",
     "output_type": "stream",
     "text": [
      "Epoch 29/30 - Avg train Loss: 0.311655: 100%|███| 15/15 [00:30<00:00,  2.03s/it]\n",
      "Epoch 29/30 - Avg val Loss: 0.308316: 100%|███████| 4/4 [00:06<00:00,  1.64s/it]\n"
     ]
    },
    {
     "name": "stdout",
     "output_type": "stream",
     "text": [
      "Epoch 29/30 Summary : Train Loss: 0.3117, Val Loss: 0.3083, LR: 1.00e-03, auroc: 0.9322, auprc: 0.9460, accuracy: 0.8000, sensitivity: 0.8000, specificity: 0.9333, avg_train_loss: 0.3117, avg_val_loss: 0.3083\n"
     ]
    },
    {
     "name": "stderr",
     "output_type": "stream",
     "text": [
      "Epoch 30/30 - Avg train Loss: 0.296497: 100%|███| 15/15 [00:29<00:00,  1.95s/it]\n",
      "Epoch 30/30 - Avg val Loss: 0.323637: 100%|███████| 4/4 [00:06<00:00,  1.61s/it]\n"
     ]
    },
    {
     "name": "stdout",
     "output_type": "stream",
     "text": [
      "Epoch 30/30 Summary : Train Loss: 0.2965, Val Loss: 0.3236, LR: 1.00e-03, auroc: 0.8956, auprc: 0.9244, accuracy: 0.6667, sensitivity: 0.8000, specificity: 0.9333, avg_train_loss: 0.2965, avg_val_loss: 0.3236\n"
     ]
    },
    {
     "data": {
      "application/vnd.jupyter.widget-view+json": {
       "model_id": "",
       "version_major": 2,
       "version_minor": 0
      },
      "text/plain": [
       "VBox(children=(Label(value='0.008 MB of 0.008 MB uploaded\\r'), FloatProgress(value=1.0, max=1.0)))"
      ]
     },
     "metadata": {},
     "output_type": "display_data"
    },
    {
     "data": {
      "text/html": [
       "<style>\n",
       "    table.wandb td:nth-child(1) { padding: 0 10px; text-align: left ; width: auto;} td:nth-child(2) {text-align: left ; width: 100%}\n",
       "    .wandb-row { display: flex; flex-direction: row; flex-wrap: wrap; justify-content: flex-start; width: 100% }\n",
       "    .wandb-col { display: flex; flex-direction: column; flex-basis: 100%; flex: 1; padding: 10px; }\n",
       "    </style>\n",
       "<div class=\"wandb-row\"><div class=\"wandb-col\"><h3>Run history:</h3><br/><table class=\"wandb\"><tr><td>accuracy</td><td>▁▁▁▁▃▂▁▃▅▄▅▆▇▄▅▄▇▂▅▇▃█▂█▆▇▆▃▆▄</td></tr><tr><td>auprc</td><td>▁▁▃▅▅▅▄▇▇▆▇▇▇▇▇▇▇▇█▇▇█████▇███</td></tr><tr><td>auroc</td><td>▂▁▃▅▅▅▃▇▇▆▇▇▇▇▇▇▇▇█▇██████▇██▇</td></tr><tr><td>avg_train_loss</td><td>█▄▃▃▃▂▂▂▂▂▂▂▂▂▁▂▂▂▂▁▂▁▂▂▁▁▁▂▁▁</td></tr><tr><td>avg_val_loss</td><td>█▃▁▁▁▁▁▁▁▁▁▁▁▁▁▁▁▁▁▁▁▁▁▁▁▁▁▁▁▁</td></tr><tr><td>sensitivity</td><td>▃▃▆▄▇▆▁▆▇▆▇▇██▇▇▇▇▇██▇▆▇▆█▇▇▇▇</td></tr><tr><td>specificity</td><td>▃▂▁▆▂▃▇▆▅▆▅▆▅▅▇▇▆▅▇▆▆▇▇▇█▆▆▇▇▇</td></tr></table><br/></div><div class=\"wandb-col\"><h3>Run summary:</h3><br/><table class=\"wandb\"><tr><td>accuracy</td><td>0.66667</td></tr><tr><td>auprc</td><td>0.92437</td></tr><tr><td>auroc</td><td>0.89556</td></tr><tr><td>avg_train_loss</td><td>0.2965</td></tr><tr><td>avg_val_loss</td><td>0.32364</td></tr><tr><td>sensitivity</td><td>0.8</td></tr><tr><td>specificity</td><td>0.93333</td></tr></table><br/></div></div>"
      ],
      "text/plain": [
       "<IPython.core.display.HTML object>"
      ]
     },
     "metadata": {},
     "output_type": "display_data"
    },
    {
     "data": {
      "text/html": [
       " View run <strong style=\"color:#cdcd00\">astral-sweep-8</strong> at: <a href='https://wandb.ai/miccai-challenge-2024/task2/runs/3szz86sx' target=\"_blank\">https://wandb.ai/miccai-challenge-2024/task2/runs/3szz86sx</a><br/> View project at: <a href='https://wandb.ai/miccai-challenge-2024/task2' target=\"_blank\">https://wandb.ai/miccai-challenge-2024/task2</a><br/>Synced 6 W&B file(s), 0 media file(s), 0 artifact file(s) and 0 other file(s)"
      ],
      "text/plain": [
       "<IPython.core.display.HTML object>"
      ]
     },
     "metadata": {},
     "output_type": "display_data"
    },
    {
     "data": {
      "text/html": [
       "Find logs at: <code>./wandb/run-20240730_010105-3szz86sx/logs</code>"
      ],
      "text/plain": [
       "<IPython.core.display.HTML object>"
      ]
     },
     "metadata": {},
     "output_type": "display_data"
    },
    {
     "name": "stdout",
     "output_type": "stream",
     "text": [
      "Finished training\n"
     ]
    },
    {
     "name": "stderr",
     "output_type": "stream",
     "text": [
      "\u001b[34m\u001b[1mwandb\u001b[0m: Agent Starting Run: enjx33pz with config:\n",
      "\u001b[34m\u001b[1mwandb\u001b[0m: \tbatch_size: 16\n",
      "\u001b[34m\u001b[1mwandb\u001b[0m: \tepochs: 30\n",
      "\u001b[34m\u001b[1mwandb\u001b[0m: \tloss_weight: 0.5\n",
      "\u001b[34m\u001b[1mwandb\u001b[0m: \tlr: 0.001\n",
      "\u001b[34m\u001b[1mwandb\u001b[0m: \tlr_schedule_factor: 0.1\n",
      "\u001b[34m\u001b[1mwandb\u001b[0m: \tlr_schedule_patience: 5\n",
      "\u001b[34m\u001b[1mwandb\u001b[0m: \tmodel: ResNet\n",
      "\u001b[34m\u001b[1mwandb\u001b[0m: \tp_affine: 0.3\n",
      "\u001b[34m\u001b[1mwandb\u001b[0m: \tp_clahe: 0.5\n",
      "\u001b[34m\u001b[1mwandb\u001b[0m: \tp_equalize: 0\n",
      "\u001b[34m\u001b[1mwandb\u001b[0m: \tp_gaussblur: 1\n",
      "\u001b[34m\u001b[1mwandb\u001b[0m: \tp_horizontalflip: 0.5\n",
      "\u001b[34m\u001b[1mwandb\u001b[0m: \tresampling_strategy: undersampling\n",
      "\u001b[34m\u001b[1mwandb\u001b[0m: \trotation: 10\n",
      "\u001b[34m\u001b[1mwandb\u001b[0m: \u001b[33mWARNING\u001b[0m Ignored wandb.init() arg project when running a sweep.\n"
     ]
    },
    {
     "data": {
      "text/html": [
       "wandb version 0.17.5 is available!  To upgrade, please run:\n",
       " $ pip install wandb --upgrade"
      ],
      "text/plain": [
       "<IPython.core.display.HTML object>"
      ]
     },
     "metadata": {},
     "output_type": "display_data"
    },
    {
     "data": {
      "text/html": [
       "Tracking run with wandb version 0.17.0"
      ],
      "text/plain": [
       "<IPython.core.display.HTML object>"
      ]
     },
     "metadata": {},
     "output_type": "display_data"
    },
    {
     "data": {
      "text/html": [
       "Run data is saved locally in <code>/home/optima/mhaderer/AILS-MICCAI-UWF4DR-Challenge/wandb/run-20240730_011918-enjx33pz</code>"
      ],
      "text/plain": [
       "<IPython.core.display.HTML object>"
      ]
     },
     "metadata": {},
     "output_type": "display_data"
    },
    {
     "data": {
      "text/html": [
       "Syncing run <strong><a href='https://wandb.ai/miccai-challenge-2024/task2/runs/enjx33pz' target=\"_blank\">chocolate-sweep-9</a></strong> to <a href='https://wandb.ai/miccai-challenge-2024/task2' target=\"_blank\">Weights & Biases</a> (<a href='https://wandb.me/run' target=\"_blank\">docs</a>)<br/>Sweep page: <a href='https://wandb.ai/miccai-challenge-2024/task2/sweeps/f4v5vt07' target=\"_blank\">https://wandb.ai/miccai-challenge-2024/task2/sweeps/f4v5vt07</a>"
      ],
      "text/plain": [
       "<IPython.core.display.HTML object>"
      ]
     },
     "metadata": {},
     "output_type": "display_data"
    },
    {
     "data": {
      "text/html": [
       " View project at <a href='https://wandb.ai/miccai-challenge-2024/task2' target=\"_blank\">https://wandb.ai/miccai-challenge-2024/task2</a>"
      ],
      "text/plain": [
       "<IPython.core.display.HTML object>"
      ]
     },
     "metadata": {},
     "output_type": "display_data"
    },
    {
     "data": {
      "text/html": [
       " View sweep at <a href='https://wandb.ai/miccai-challenge-2024/task2/sweeps/f4v5vt07' target=\"_blank\">https://wandb.ai/miccai-challenge-2024/task2/sweeps/f4v5vt07</a>"
      ],
      "text/plain": [
       "<IPython.core.display.HTML object>"
      ]
     },
     "metadata": {},
     "output_type": "display_data"
    },
    {
     "data": {
      "text/html": [
       " View run at <a href='https://wandb.ai/miccai-challenge-2024/task2/runs/enjx33pz' target=\"_blank\">https://wandb.ai/miccai-challenge-2024/task2/runs/enjx33pz</a>"
      ],
      "text/plain": [
       "<IPython.core.display.HTML object>"
      ]
     },
     "metadata": {},
     "output_type": "display_data"
    },
    {
     "name": "stdout",
     "output_type": "stream",
     "text": [
      "Using device: cuda\n"
     ]
    },
    {
     "name": "stderr",
     "output_type": "stream",
     "text": [
      "Using cache found in /home/optima/mhaderer/.cache/torch/hub/pytorch_vision_v0.10.0\n"
     ]
    },
    {
     "name": "stdout",
     "output_type": "stream",
     "text": [
      "Number of output features in resnet18 encoder:  1\n",
      "Now train train train\n"
     ]
    },
    {
     "name": "stderr",
     "output_type": "stream",
     "text": [
      "Epoch 1/30 - Avg train Loss: 0.635285: 100%|████| 15/15 [00:43<00:00,  2.91s/it]\n",
      "Epoch 1/30 - Avg val Loss: 0.453061: 100%|████████| 4/4 [00:07<00:00,  1.87s/it]\n"
     ]
    },
    {
     "name": "stdout",
     "output_type": "stream",
     "text": [
      "New best weights found at epoch 1 with validation loss: 0.4531. Model saved to models/chocolate-sweep-9_2024-07-30_01-19.pth\n",
      "Epoch 1/30 Summary : Train Loss: 0.6353, Val Loss: 0.4531, LR: 1.00e-03, auroc: 0.5867, auprc: 0.5796, accuracy: 0.5500, sensitivity: 0.7333, specificity: 0.5000, avg_train_loss: 0.6353, avg_val_loss: 0.4531\n"
     ]
    },
    {
     "name": "stderr",
     "output_type": "stream",
     "text": [
      "Epoch 2/30 - Avg train Loss: 0.410424: 100%|████| 15/15 [00:45<00:00,  3.05s/it]\n",
      "Epoch 2/30 - Avg val Loss: 0.410138: 100%|████████| 4/4 [00:07<00:00,  1.84s/it]\n"
     ]
    },
    {
     "name": "stdout",
     "output_type": "stream",
     "text": [
      "New best weights found at epoch 2 with validation loss: 0.4101. Model saved to models/chocolate-sweep-9_2024-07-30_01-19.pth\n",
      "Epoch 2/30 Summary : Train Loss: 0.4104, Val Loss: 0.4101, LR: 1.00e-03, auroc: 0.6800, auprc: 0.7119, accuracy: 0.5000, sensitivity: 0.5000, specificity: 0.8333, avg_train_loss: 0.4104, avg_val_loss: 0.4101\n"
     ]
    },
    {
     "name": "stderr",
     "output_type": "stream",
     "text": [
      "Epoch 3/30 - Avg train Loss: 0.408071: 100%|████| 15/15 [00:46<00:00,  3.08s/it]\n",
      "Epoch 3/30 - Avg val Loss: 0.521256: 100%|████████| 4/4 [00:07<00:00,  1.83s/it]\n"
     ]
    },
    {
     "name": "stdout",
     "output_type": "stream",
     "text": [
      "Epoch 3/30 Summary : Train Loss: 0.4081, Val Loss: 0.5213, LR: 1.00e-03, auroc: 0.6144, auprc: 0.6077, accuracy: 0.5000, sensitivity: 0.8000, specificity: 0.4333, avg_train_loss: 0.4081, avg_val_loss: 0.5213\n"
     ]
    },
    {
     "name": "stderr",
     "output_type": "stream",
     "text": [
      "Epoch 4/30 - Avg train Loss: 0.410635: 100%|████| 15/15 [00:45<00:00,  3.01s/it]\n",
      "Epoch 4/30 - Avg val Loss: 0.397960: 100%|████████| 4/4 [00:06<00:00,  1.68s/it]\n"
     ]
    },
    {
     "name": "stdout",
     "output_type": "stream",
     "text": [
      "New best weights found at epoch 4 with validation loss: 0.3980. Model saved to models/chocolate-sweep-9_2024-07-30_01-19.pth\n",
      "Epoch 4/30 Summary : Train Loss: 0.4106, Val Loss: 0.3980, LR: 1.00e-03, auroc: 0.7500, auprc: 0.7836, accuracy: 0.5000, sensitivity: 0.5333, specificity: 0.9000, avg_train_loss: 0.4106, avg_val_loss: 0.3980\n"
     ]
    },
    {
     "name": "stderr",
     "output_type": "stream",
     "text": [
      "Epoch 5/30 - Avg train Loss: 0.383389: 100%|████| 15/15 [00:45<00:00,  3.02s/it]\n",
      "Epoch 5/30 - Avg val Loss: 0.404066: 100%|████████| 4/4 [00:07<00:00,  1.85s/it]\n"
     ]
    },
    {
     "name": "stdout",
     "output_type": "stream",
     "text": [
      "Epoch 5/30 Summary : Train Loss: 0.3834, Val Loss: 0.4041, LR: 1.00e-03, auroc: 0.7144, auprc: 0.7279, accuracy: 0.6333, sensitivity: 0.8333, specificity: 0.5333, avg_train_loss: 0.3834, avg_val_loss: 0.4041\n"
     ]
    },
    {
     "name": "stderr",
     "output_type": "stream",
     "text": [
      "Epoch 6/30 - Avg train Loss: 0.386554: 100%|████| 15/15 [00:45<00:00,  3.03s/it]\n",
      "Epoch 6/30 - Avg val Loss: 0.376796: 100%|████████| 4/4 [00:06<00:00,  1.59s/it]\n"
     ]
    },
    {
     "name": "stdout",
     "output_type": "stream",
     "text": [
      "New best weights found at epoch 6 with validation loss: 0.3768. Model saved to models/chocolate-sweep-9_2024-07-30_01-19.pth\n",
      "Epoch 6/30 Summary : Train Loss: 0.3866, Val Loss: 0.3768, LR: 1.00e-03, auroc: 0.8033, auprc: 0.8176, accuracy: 0.5000, sensitivity: 0.9667, specificity: 0.6000, avg_train_loss: 0.3866, avg_val_loss: 0.3768\n"
     ]
    },
    {
     "name": "stderr",
     "output_type": "stream",
     "text": [
      "Epoch 7/30 - Avg train Loss: 0.368736: 100%|████| 15/15 [00:39<00:00,  2.66s/it]\n",
      "Epoch 7/30 - Avg val Loss: 0.396939: 100%|████████| 4/4 [00:06<00:00,  1.51s/it]\n"
     ]
    },
    {
     "name": "stdout",
     "output_type": "stream",
     "text": [
      "Epoch 7/30 Summary : Train Loss: 0.3687, Val Loss: 0.3969, LR: 1.00e-03, auroc: 0.8000, auprc: 0.8470, accuracy: 0.5000, sensitivity: 0.7000, specificity: 0.9000, avg_train_loss: 0.3687, avg_val_loss: 0.3969\n"
     ]
    },
    {
     "name": "stderr",
     "output_type": "stream",
     "text": [
      "Epoch 8/30 - Avg train Loss: 0.367325: 100%|████| 15/15 [00:43<00:00,  2.92s/it]\n",
      "Epoch 8/30 - Avg val Loss: 0.398416: 100%|████████| 4/4 [00:06<00:00,  1.74s/it]\n"
     ]
    },
    {
     "name": "stdout",
     "output_type": "stream",
     "text": [
      "Epoch 8/30 Summary : Train Loss: 0.3673, Val Loss: 0.3984, LR: 1.00e-03, auroc: 0.8578, auprc: 0.8688, accuracy: 0.7667, sensitivity: 0.8333, specificity: 0.8333, avg_train_loss: 0.3673, avg_val_loss: 0.3984\n"
     ]
    },
    {
     "name": "stderr",
     "output_type": "stream",
     "text": [
      "Epoch 9/30 - Avg train Loss: 0.361067: 100%|████| 15/15 [00:40<00:00,  2.72s/it]\n",
      "Epoch 9/30 - Avg val Loss: 0.383523: 100%|████████| 4/4 [00:05<00:00,  1.50s/it]\n"
     ]
    },
    {
     "name": "stdout",
     "output_type": "stream",
     "text": [
      "Epoch 9/30 Summary : Train Loss: 0.3611, Val Loss: 0.3835, LR: 1.00e-03, auroc: 0.8356, auprc: 0.8427, accuracy: 0.5500, sensitivity: 0.7667, specificity: 0.8333, avg_train_loss: 0.3611, avg_val_loss: 0.3835\n"
     ]
    },
    {
     "name": "stderr",
     "output_type": "stream",
     "text": [
      "Epoch 10/30 - Avg train Loss: 0.363563: 100%|███| 15/15 [00:40<00:00,  2.67s/it]\n",
      "Epoch 10/30 - Avg val Loss: 0.416897: 100%|███████| 4/4 [00:05<00:00,  1.48s/it]\n"
     ]
    },
    {
     "name": "stdout",
     "output_type": "stream",
     "text": [
      "Epoch 10/30 Summary : Train Loss: 0.3636, Val Loss: 0.4169, LR: 1.00e-03, auroc: 0.8133, auprc: 0.8325, accuracy: 0.7000, sensitivity: 0.8333, specificity: 0.7000, avg_train_loss: 0.3636, avg_val_loss: 0.4169\n"
     ]
    },
    {
     "name": "stderr",
     "output_type": "stream",
     "text": [
      "Epoch 11/30 - Avg train Loss: 0.360561: 100%|███| 15/15 [00:37<00:00,  2.53s/it]\n",
      "Epoch 11/30 - Avg val Loss: 0.429722: 100%|███████| 4/4 [00:06<00:00,  1.56s/it]\n"
     ]
    },
    {
     "name": "stdout",
     "output_type": "stream",
     "text": [
      "Epoch 11/30 Summary : Train Loss: 0.3606, Val Loss: 0.4297, LR: 1.00e-03, auroc: 0.8844, auprc: 0.8876, accuracy: 0.7000, sensitivity: 0.7667, specificity: 0.9000, avg_train_loss: 0.3606, avg_val_loss: 0.4297\n"
     ]
    },
    {
     "name": "stderr",
     "output_type": "stream",
     "text": [
      "Epoch 12/30 - Avg train Loss: 0.360599: 100%|███| 15/15 [00:43<00:00,  2.87s/it]\n",
      "Epoch 12/30 - Avg val Loss: 0.390443: 100%|███████| 4/4 [00:06<00:00,  1.66s/it]\n"
     ]
    },
    {
     "name": "stdout",
     "output_type": "stream",
     "text": [
      "Epoch 12/30 Summary : Train Loss: 0.3606, Val Loss: 0.3904, LR: 1.00e-04, auroc: 0.8022, auprc: 0.8194, accuracy: 0.7333, sensitivity: 0.8667, specificity: 0.6333, avg_train_loss: 0.3606, avg_val_loss: 0.3904\n"
     ]
    },
    {
     "name": "stderr",
     "output_type": "stream",
     "text": [
      "Epoch 13/30 - Avg train Loss: 0.334747: 100%|███| 15/15 [00:43<00:00,  2.90s/it]\n",
      "Epoch 13/30 - Avg val Loss: 0.395409: 100%|███████| 4/4 [00:06<00:00,  1.65s/it]\n"
     ]
    },
    {
     "name": "stdout",
     "output_type": "stream",
     "text": [
      "Epoch 13/30 Summary : Train Loss: 0.3347, Val Loss: 0.3954, LR: 1.00e-04, auroc: 0.8111, auprc: 0.8188, accuracy: 0.6833, sensitivity: 0.6000, specificity: 0.9000, avg_train_loss: 0.3347, avg_val_loss: 0.3954\n"
     ]
    },
    {
     "name": "stderr",
     "output_type": "stream",
     "text": [
      "Epoch 14/30 - Avg train Loss: 0.327006: 100%|███| 15/15 [00:41<00:00,  2.77s/it]\n",
      "Epoch 14/30 - Avg val Loss: 0.389848: 100%|███████| 4/4 [00:06<00:00,  1.67s/it]\n"
     ]
    },
    {
     "name": "stdout",
     "output_type": "stream",
     "text": [
      "Epoch 14/30 Summary : Train Loss: 0.3270, Val Loss: 0.3898, LR: 1.00e-04, auroc: 0.8100, auprc: 0.8240, accuracy: 0.6833, sensitivity: 0.8667, specificity: 0.6333, avg_train_loss: 0.3270, avg_val_loss: 0.3898\n"
     ]
    },
    {
     "name": "stderr",
     "output_type": "stream",
     "text": [
      "Epoch 15/30 - Avg train Loss: 0.337666: 100%|███| 15/15 [00:38<00:00,  2.57s/it]\n",
      "Epoch 15/30 - Avg val Loss: 0.378660: 100%|███████| 4/4 [00:06<00:00,  1.55s/it]\n"
     ]
    },
    {
     "name": "stdout",
     "output_type": "stream",
     "text": [
      "Epoch 15/30 Summary : Train Loss: 0.3377, Val Loss: 0.3787, LR: 1.00e-04, auroc: 0.8100, auprc: 0.8243, accuracy: 0.7167, sensitivity: 0.8000, specificity: 0.7000, avg_train_loss: 0.3377, avg_val_loss: 0.3787\n"
     ]
    },
    {
     "name": "stderr",
     "output_type": "stream",
     "text": [
      "Epoch 16/30 - Avg train Loss: 0.326693: 100%|███| 15/15 [00:41<00:00,  2.74s/it]\n",
      "Epoch 16/30 - Avg val Loss: 0.384957: 100%|███████| 4/4 [00:06<00:00,  1.53s/it]\n"
     ]
    },
    {
     "name": "stdout",
     "output_type": "stream",
     "text": [
      "Epoch 16/30 Summary : Train Loss: 0.3267, Val Loss: 0.3850, LR: 1.00e-04, auroc: 0.8078, auprc: 0.8229, accuracy: 0.7333, sensitivity: 0.8333, specificity: 0.6667, avg_train_loss: 0.3267, avg_val_loss: 0.3850\n"
     ]
    },
    {
     "name": "stderr",
     "output_type": "stream",
     "text": [
      "Epoch 17/30 - Avg train Loss: 0.327800: 100%|███| 15/15 [00:42<00:00,  2.82s/it]\n",
      "Epoch 17/30 - Avg val Loss: 0.409884: 100%|███████| 4/4 [00:06<00:00,  1.67s/it]\n"
     ]
    },
    {
     "name": "stdout",
     "output_type": "stream",
     "text": [
      "Epoch 17/30 Summary : Train Loss: 0.3278, Val Loss: 0.4099, LR: 1.00e-04, auroc: 0.8122, auprc: 0.8239, accuracy: 0.7000, sensitivity: 0.9000, specificity: 0.6667, avg_train_loss: 0.3278, avg_val_loss: 0.4099\n"
     ]
    },
    {
     "name": "stderr",
     "output_type": "stream",
     "text": [
      "Epoch 18/30 - Avg train Loss: 0.322758: 100%|███| 15/15 [00:44<00:00,  2.98s/it]\n",
      "Epoch 18/30 - Avg val Loss: 0.373205: 100%|███████| 4/4 [00:07<00:00,  1.83s/it]\n"
     ]
    },
    {
     "name": "stdout",
     "output_type": "stream",
     "text": [
      "New best weights found at epoch 18 with validation loss: 0.3732. Model saved to models/chocolate-sweep-9_2024-07-30_01-19.pth\n",
      "Epoch 18/30 Summary : Train Loss: 0.3228, Val Loss: 0.3732, LR: 1.00e-04, auroc: 0.8144, auprc: 0.8267, accuracy: 0.7333, sensitivity: 0.9333, specificity: 0.6000, avg_train_loss: 0.3228, avg_val_loss: 0.3732\n"
     ]
    },
    {
     "name": "stderr",
     "output_type": "stream",
     "text": [
      "Epoch 19/30 - Avg train Loss: 0.318081: 100%|███| 15/15 [00:43<00:00,  2.93s/it]\n",
      "Epoch 19/30 - Avg val Loss: 0.366983: 100%|███████| 4/4 [00:06<00:00,  1.71s/it]\n"
     ]
    },
    {
     "name": "stdout",
     "output_type": "stream",
     "text": [
      "New best weights found at epoch 19 with validation loss: 0.3670. Model saved to models/chocolate-sweep-9_2024-07-30_01-19.pth\n",
      "Epoch 19/30 Summary : Train Loss: 0.3181, Val Loss: 0.3670, LR: 1.00e-04, auroc: 0.8222, auprc: 0.8422, accuracy: 0.7333, sensitivity: 0.9333, specificity: 0.6000, avg_train_loss: 0.3181, avg_val_loss: 0.3670\n"
     ]
    },
    {
     "name": "stderr",
     "output_type": "stream",
     "text": [
      "Epoch 20/30 - Avg train Loss: 0.315760: 100%|███| 15/15 [00:45<00:00,  3.04s/it]\n",
      "Epoch 20/30 - Avg val Loss: 0.385407: 100%|███████| 4/4 [00:07<00:00,  1.75s/it]\n"
     ]
    },
    {
     "name": "stdout",
     "output_type": "stream",
     "text": [
      "Epoch 20/30 Summary : Train Loss: 0.3158, Val Loss: 0.3854, LR: 1.00e-04, auroc: 0.8256, auprc: 0.8448, accuracy: 0.7500, sensitivity: 0.9000, specificity: 0.6667, avg_train_loss: 0.3158, avg_val_loss: 0.3854\n"
     ]
    },
    {
     "name": "stderr",
     "output_type": "stream",
     "text": [
      "Epoch 21/30 - Avg train Loss: 0.306638: 100%|███| 15/15 [00:45<00:00,  3.01s/it]\n",
      "Epoch 21/30 - Avg val Loss: 0.381365: 100%|███████| 4/4 [00:06<00:00,  1.68s/it]\n"
     ]
    },
    {
     "name": "stdout",
     "output_type": "stream",
     "text": [
      "Epoch 21/30 Summary : Train Loss: 0.3066, Val Loss: 0.3814, LR: 1.00e-04, auroc: 0.8189, auprc: 0.8358, accuracy: 0.7333, sensitivity: 0.9000, specificity: 0.6667, avg_train_loss: 0.3066, avg_val_loss: 0.3814\n"
     ]
    },
    {
     "name": "stderr",
     "output_type": "stream",
     "text": [
      "Epoch 22/30 - Avg train Loss: 0.311397: 100%|███| 15/15 [00:43<00:00,  2.88s/it]\n",
      "Epoch 22/30 - Avg val Loss: 0.366162: 100%|███████| 4/4 [00:06<00:00,  1.68s/it]\n"
     ]
    },
    {
     "name": "stdout",
     "output_type": "stream",
     "text": [
      "New best weights found at epoch 22 with validation loss: 0.3662. Model saved to models/chocolate-sweep-9_2024-07-30_01-19.pth\n",
      "Epoch 22/30 Summary : Train Loss: 0.3114, Val Loss: 0.3662, LR: 1.00e-04, auroc: 0.8444, auprc: 0.8617, accuracy: 0.7833, sensitivity: 0.7000, specificity: 0.8667, avg_train_loss: 0.3114, avg_val_loss: 0.3662\n"
     ]
    },
    {
     "name": "stderr",
     "output_type": "stream",
     "text": [
      "Epoch 23/30 - Avg train Loss: 0.316434: 100%|███| 15/15 [00:43<00:00,  2.90s/it]\n",
      "Epoch 23/30 - Avg val Loss: 0.378365: 100%|███████| 4/4 [00:06<00:00,  1.67s/it]\n"
     ]
    },
    {
     "name": "stdout",
     "output_type": "stream",
     "text": [
      "Epoch 23/30 Summary : Train Loss: 0.3164, Val Loss: 0.3784, LR: 1.00e-04, auroc: 0.8244, auprc: 0.8392, accuracy: 0.7333, sensitivity: 0.9333, specificity: 0.6333, avg_train_loss: 0.3164, avg_val_loss: 0.3784\n"
     ]
    },
    {
     "name": "stderr",
     "output_type": "stream",
     "text": [
      "Epoch 24/30 - Avg train Loss: 0.317710: 100%|███| 15/15 [00:43<00:00,  2.92s/it]\n",
      "Epoch 24/30 - Avg val Loss: 0.371454: 100%|███████| 4/4 [00:06<00:00,  1.74s/it]\n"
     ]
    },
    {
     "name": "stdout",
     "output_type": "stream",
     "text": [
      "Epoch 24/30 Summary : Train Loss: 0.3177, Val Loss: 0.3715, LR: 1.00e-04, auroc: 0.8511, auprc: 0.8548, accuracy: 0.8167, sensitivity: 0.9000, specificity: 0.7333, avg_train_loss: 0.3177, avg_val_loss: 0.3715\n"
     ]
    },
    {
     "name": "stderr",
     "output_type": "stream",
     "text": [
      "Epoch 25/30 - Avg train Loss: 0.308898: 100%|███| 15/15 [00:40<00:00,  2.69s/it]\n",
      "Epoch 25/30 - Avg val Loss: 0.376420: 100%|███████| 4/4 [00:07<00:00,  1.84s/it]\n"
     ]
    },
    {
     "name": "stdout",
     "output_type": "stream",
     "text": [
      "Epoch 25/30 Summary : Train Loss: 0.3089, Val Loss: 0.3764, LR: 1.00e-04, auroc: 0.8622, auprc: 0.8643, accuracy: 0.7833, sensitivity: 0.7667, specificity: 0.8333, avg_train_loss: 0.3089, avg_val_loss: 0.3764\n"
     ]
    },
    {
     "name": "stderr",
     "output_type": "stream",
     "text": [
      "Epoch 26/30 - Avg train Loss: 0.310737: 100%|███| 15/15 [00:43<00:00,  2.88s/it]\n",
      "Epoch 26/30 - Avg val Loss: 0.355085: 100%|███████| 4/4 [00:06<00:00,  1.67s/it]\n"
     ]
    },
    {
     "name": "stdout",
     "output_type": "stream",
     "text": [
      "New best weights found at epoch 26 with validation loss: 0.3551. Model saved to models/chocolate-sweep-9_2024-07-30_01-19.pth\n",
      "Epoch 26/30 Summary : Train Loss: 0.3107, Val Loss: 0.3551, LR: 1.00e-04, auroc: 0.8444, auprc: 0.8593, accuracy: 0.7667, sensitivity: 0.9667, specificity: 0.6333, avg_train_loss: 0.3107, avg_val_loss: 0.3551\n"
     ]
    },
    {
     "name": "stderr",
     "output_type": "stream",
     "text": [
      "Epoch 27/30 - Avg train Loss: 0.293532: 100%|███| 15/15 [00:42<00:00,  2.86s/it]\n",
      "Epoch 27/30 - Avg val Loss: 0.367024: 100%|███████| 4/4 [00:06<00:00,  1.73s/it]\n"
     ]
    },
    {
     "name": "stdout",
     "output_type": "stream",
     "text": [
      "Epoch 27/30 Summary : Train Loss: 0.2935, Val Loss: 0.3670, LR: 1.00e-04, auroc: 0.8633, auprc: 0.8771, accuracy: 0.8000, sensitivity: 0.9000, specificity: 0.7000, avg_train_loss: 0.2935, avg_val_loss: 0.3670\n"
     ]
    },
    {
     "name": "stderr",
     "output_type": "stream",
     "text": [
      "Epoch 28/30 - Avg train Loss: 0.297557: 100%|███| 15/15 [00:42<00:00,  2.85s/it]\n",
      "Epoch 28/30 - Avg val Loss: 0.360293: 100%|███████| 4/4 [00:05<00:00,  1.49s/it]\n"
     ]
    },
    {
     "name": "stdout",
     "output_type": "stream",
     "text": [
      "Epoch 28/30 Summary : Train Loss: 0.2976, Val Loss: 0.3603, LR: 1.00e-04, auroc: 0.8711, auprc: 0.8855, accuracy: 0.7833, sensitivity: 0.7667, specificity: 0.8667, avg_train_loss: 0.2976, avg_val_loss: 0.3603\n"
     ]
    },
    {
     "name": "stderr",
     "output_type": "stream",
     "text": [
      "Epoch 29/30 - Avg train Loss: 0.288436: 100%|███| 15/15 [00:38<00:00,  2.53s/it]\n",
      "Epoch 29/30 - Avg val Loss: 0.361970: 100%|███████| 4/4 [00:06<00:00,  1.60s/it]\n"
     ]
    },
    {
     "name": "stdout",
     "output_type": "stream",
     "text": [
      "Epoch 29/30 Summary : Train Loss: 0.2884, Val Loss: 0.3620, LR: 1.00e-04, auroc: 0.8600, auprc: 0.8720, accuracy: 0.7667, sensitivity: 0.7667, specificity: 0.8333, avg_train_loss: 0.2884, avg_val_loss: 0.3620\n"
     ]
    },
    {
     "name": "stderr",
     "output_type": "stream",
     "text": [
      "Epoch 30/30 - Avg train Loss: 0.292933: 100%|███| 15/15 [00:44<00:00,  2.96s/it]\n",
      "Epoch 30/30 - Avg val Loss: 0.396791: 100%|███████| 4/4 [00:07<00:00,  1.82s/it]\n"
     ]
    },
    {
     "name": "stdout",
     "output_type": "stream",
     "text": [
      "Epoch 30/30 Summary : Train Loss: 0.2929, Val Loss: 0.3968, LR: 1.00e-04, auroc: 0.8633, auprc: 0.8676, accuracy: 0.7667, sensitivity: 0.8000, specificity: 0.8667, avg_train_loss: 0.2929, avg_val_loss: 0.3968\n"
     ]
    },
    {
     "data": {
      "application/vnd.jupyter.widget-view+json": {
       "model_id": "",
       "version_major": 2,
       "version_minor": 0
      },
      "text/plain": [
       "VBox(children=(Label(value='0.008 MB of 0.008 MB uploaded\\r'), FloatProgress(value=1.0, max=1.0)))"
      ]
     },
     "metadata": {},
     "output_type": "display_data"
    },
    {
     "data": {
      "text/html": [
       "<style>\n",
       "    table.wandb td:nth-child(1) { padding: 0 10px; text-align: left ; width: auto;} td:nth-child(2) {text-align: left ; width: 100%}\n",
       "    .wandb-row { display: flex; flex-direction: row; flex-wrap: wrap; justify-content: flex-start; width: 100% }\n",
       "    .wandb-col { display: flex; flex-direction: column; flex-basis: 100%; flex: 1; padding: 10px; }\n",
       "    </style>\n",
       "<div class=\"wandb-row\"><div class=\"wandb-col\"><h3>Run history:</h3><br/><table class=\"wandb\"><tr><td>accuracy</td><td>▂▁▁▁▄▁▁▇▂▅▅▆▅▅▆▆▅▆▆▇▆▇▆█▇▇█▇▇▇</td></tr><tr><td>auprc</td><td>▁▄▂▆▄▆▇█▇▇█▆▆▇▇▇▇▇▇▇▇▇▇▇▇▇████</td></tr><tr><td>auroc</td><td>▁▃▂▅▄▆▆▇▇▆█▆▆▆▆▆▆▆▇▇▆▇▇▇▇▇██▇█</td></tr><tr><td>avg_train_loss</td><td>█▃▃▃▃▃▃▃▂▃▂▂▂▂▂▂▂▂▂▂▁▁▂▂▁▁▁▁▁▁</td></tr><tr><td>avg_val_loss</td><td>▅▃█▃▃▂▃▃▂▄▄▂▃▂▂▂▃▂▂▂▂▁▂▂▂▁▂▁▁▃</td></tr><tr><td>sensitivity</td><td>▅▁▆▂▆█▄▆▅▆▅▇▃▇▆▆▇██▇▇▄█▇▅█▇▅▅▆</td></tr><tr><td>specificity</td><td>▂▇▁█▃▄█▇▇▅█▄█▄▅▅▅▄▄▅▅█▄▆▇▄▅█▇█</td></tr></table><br/></div><div class=\"wandb-col\"><h3>Run summary:</h3><br/><table class=\"wandb\"><tr><td>accuracy</td><td>0.76667</td></tr><tr><td>auprc</td><td>0.8676</td></tr><tr><td>auroc</td><td>0.86333</td></tr><tr><td>avg_train_loss</td><td>0.29293</td></tr><tr><td>avg_val_loss</td><td>0.39679</td></tr><tr><td>sensitivity</td><td>0.8</td></tr><tr><td>specificity</td><td>0.86667</td></tr></table><br/></div></div>"
      ],
      "text/plain": [
       "<IPython.core.display.HTML object>"
      ]
     },
     "metadata": {},
     "output_type": "display_data"
    },
    {
     "data": {
      "text/html": [
       " View run <strong style=\"color:#cdcd00\">chocolate-sweep-9</strong> at: <a href='https://wandb.ai/miccai-challenge-2024/task2/runs/enjx33pz' target=\"_blank\">https://wandb.ai/miccai-challenge-2024/task2/runs/enjx33pz</a><br/> View project at: <a href='https://wandb.ai/miccai-challenge-2024/task2' target=\"_blank\">https://wandb.ai/miccai-challenge-2024/task2</a><br/>Synced 6 W&B file(s), 0 media file(s), 0 artifact file(s) and 0 other file(s)"
      ],
      "text/plain": [
       "<IPython.core.display.HTML object>"
      ]
     },
     "metadata": {},
     "output_type": "display_data"
    },
    {
     "data": {
      "text/html": [
       "Find logs at: <code>./wandb/run-20240730_011918-enjx33pz/logs</code>"
      ],
      "text/plain": [
       "<IPython.core.display.HTML object>"
      ]
     },
     "metadata": {},
     "output_type": "display_data"
    },
    {
     "name": "stdout",
     "output_type": "stream",
     "text": [
      "Finished training\n"
     ]
    },
    {
     "name": "stderr",
     "output_type": "stream",
     "text": [
      "\u001b[34m\u001b[1mwandb\u001b[0m: Agent Starting Run: ra0nrq92 with config:\n",
      "\u001b[34m\u001b[1mwandb\u001b[0m: \tbatch_size: 16\n",
      "\u001b[34m\u001b[1mwandb\u001b[0m: \tepochs: 30\n",
      "\u001b[34m\u001b[1mwandb\u001b[0m: \tloss_weight: 0.5\n",
      "\u001b[34m\u001b[1mwandb\u001b[0m: \tlr: 0.001\n",
      "\u001b[34m\u001b[1mwandb\u001b[0m: \tlr_schedule_factor: 0.1\n",
      "\u001b[34m\u001b[1mwandb\u001b[0m: \tlr_schedule_patience: 5\n",
      "\u001b[34m\u001b[1mwandb\u001b[0m: \tmodel: ResNet\n",
      "\u001b[34m\u001b[1mwandb\u001b[0m: \tp_affine: 0.3\n",
      "\u001b[34m\u001b[1mwandb\u001b[0m: \tp_clahe: 1\n",
      "\u001b[34m\u001b[1mwandb\u001b[0m: \tp_equalize: 0\n",
      "\u001b[34m\u001b[1mwandb\u001b[0m: \tp_gaussblur: 0\n",
      "\u001b[34m\u001b[1mwandb\u001b[0m: \tp_horizontalflip: 0.5\n",
      "\u001b[34m\u001b[1mwandb\u001b[0m: \tresampling_strategy: undersampling\n",
      "\u001b[34m\u001b[1mwandb\u001b[0m: \trotation: 10\n",
      "\u001b[34m\u001b[1mwandb\u001b[0m: \u001b[33mWARNING\u001b[0m Ignored wandb.init() arg project when running a sweep.\n"
     ]
    },
    {
     "data": {
      "text/html": [
       "wandb version 0.17.5 is available!  To upgrade, please run:\n",
       " $ pip install wandb --upgrade"
      ],
      "text/plain": [
       "<IPython.core.display.HTML object>"
      ]
     },
     "metadata": {},
     "output_type": "display_data"
    },
    {
     "data": {
      "text/html": [
       "Tracking run with wandb version 0.17.0"
      ],
      "text/plain": [
       "<IPython.core.display.HTML object>"
      ]
     },
     "metadata": {},
     "output_type": "display_data"
    },
    {
     "data": {
      "text/html": [
       "Run data is saved locally in <code>/home/optima/mhaderer/AILS-MICCAI-UWF4DR-Challenge/wandb/run-20240730_014431-ra0nrq92</code>"
      ],
      "text/plain": [
       "<IPython.core.display.HTML object>"
      ]
     },
     "metadata": {},
     "output_type": "display_data"
    },
    {
     "data": {
      "text/html": [
       "Syncing run <strong><a href='https://wandb.ai/miccai-challenge-2024/task2/runs/ra0nrq92' target=\"_blank\">vital-sweep-10</a></strong> to <a href='https://wandb.ai/miccai-challenge-2024/task2' target=\"_blank\">Weights & Biases</a> (<a href='https://wandb.me/run' target=\"_blank\">docs</a>)<br/>Sweep page: <a href='https://wandb.ai/miccai-challenge-2024/task2/sweeps/f4v5vt07' target=\"_blank\">https://wandb.ai/miccai-challenge-2024/task2/sweeps/f4v5vt07</a>"
      ],
      "text/plain": [
       "<IPython.core.display.HTML object>"
      ]
     },
     "metadata": {},
     "output_type": "display_data"
    },
    {
     "data": {
      "text/html": [
       " View project at <a href='https://wandb.ai/miccai-challenge-2024/task2' target=\"_blank\">https://wandb.ai/miccai-challenge-2024/task2</a>"
      ],
      "text/plain": [
       "<IPython.core.display.HTML object>"
      ]
     },
     "metadata": {},
     "output_type": "display_data"
    },
    {
     "data": {
      "text/html": [
       " View sweep at <a href='https://wandb.ai/miccai-challenge-2024/task2/sweeps/f4v5vt07' target=\"_blank\">https://wandb.ai/miccai-challenge-2024/task2/sweeps/f4v5vt07</a>"
      ],
      "text/plain": [
       "<IPython.core.display.HTML object>"
      ]
     },
     "metadata": {},
     "output_type": "display_data"
    },
    {
     "data": {
      "text/html": [
       " View run at <a href='https://wandb.ai/miccai-challenge-2024/task2/runs/ra0nrq92' target=\"_blank\">https://wandb.ai/miccai-challenge-2024/task2/runs/ra0nrq92</a>"
      ],
      "text/plain": [
       "<IPython.core.display.HTML object>"
      ]
     },
     "metadata": {},
     "output_type": "display_data"
    },
    {
     "name": "stdout",
     "output_type": "stream",
     "text": [
      "Using device: cuda\n"
     ]
    },
    {
     "name": "stderr",
     "output_type": "stream",
     "text": [
      "Using cache found in /home/optima/mhaderer/.cache/torch/hub/pytorch_vision_v0.10.0\n"
     ]
    },
    {
     "name": "stdout",
     "output_type": "stream",
     "text": [
      "Number of output features in resnet18 encoder:  1\n",
      "Now train train train\n"
     ]
    },
    {
     "name": "stderr",
     "output_type": "stream",
     "text": [
      "Epoch 1/30 - Avg train Loss: 0.428381: 100%|████| 15/15 [00:25<00:00,  1.73s/it]\n",
      "Epoch 1/30 - Avg val Loss: 1.017945: 100%|████████| 4/4 [00:06<00:00,  1.64s/it]\n"
     ]
    },
    {
     "name": "stdout",
     "output_type": "stream",
     "text": [
      "New best weights found at epoch 1 with validation loss: 1.0179. Model saved to models/vital-sweep-10_2024-07-30_01-44.pth\n",
      "Epoch 1/30 Summary : Train Loss: 0.4284, Val Loss: 1.0179, LR: 1.00e-03, auroc: 0.7100, auprc: 0.7158, accuracy: 0.5667, sensitivity: 0.8667, specificity: 0.5000, avg_train_loss: 0.4284, avg_val_loss: 1.0179\n"
     ]
    },
    {
     "name": "stderr",
     "output_type": "stream",
     "text": [
      "Epoch 2/30 - Avg train Loss: 0.333848: 100%|████| 15/15 [00:24<00:00,  1.61s/it]\n",
      "Epoch 2/30 - Avg val Loss: 0.468497: 100%|████████| 4/4 [00:05<00:00,  1.39s/it]\n"
     ]
    },
    {
     "name": "stdout",
     "output_type": "stream",
     "text": [
      "New best weights found at epoch 2 with validation loss: 0.4685. Model saved to models/vital-sweep-10_2024-07-30_01-44.pth\n",
      "Epoch 2/30 Summary : Train Loss: 0.3338, Val Loss: 0.4685, LR: 1.00e-03, auroc: 0.4800, auprc: 0.5641, accuracy: 0.5000, sensitivity: 0.2333, specificity: 0.9333, avg_train_loss: 0.3338, avg_val_loss: 0.4685\n"
     ]
    },
    {
     "name": "stderr",
     "output_type": "stream",
     "text": [
      "Epoch 3/30 - Avg train Loss: 0.313682: 100%|████| 15/15 [00:22<00:00,  1.53s/it]\n",
      "Epoch 3/30 - Avg val Loss: 0.377025: 100%|████████| 4/4 [00:05<00:00,  1.49s/it]\n"
     ]
    },
    {
     "name": "stdout",
     "output_type": "stream",
     "text": [
      "New best weights found at epoch 3 with validation loss: 0.3770. Model saved to models/vital-sweep-10_2024-07-30_01-44.pth\n",
      "Epoch 3/30 Summary : Train Loss: 0.3137, Val Loss: 0.3770, LR: 1.00e-03, auroc: 0.8033, auprc: 0.8478, accuracy: 0.5000, sensitivity: 0.6000, specificity: 0.9333, avg_train_loss: 0.3137, avg_val_loss: 0.3770\n"
     ]
    },
    {
     "name": "stderr",
     "output_type": "stream",
     "text": [
      "Epoch 4/30 - Avg train Loss: 0.313482: 100%|████| 15/15 [00:23<00:00,  1.58s/it]\n",
      "Epoch 4/30 - Avg val Loss: 0.362856: 100%|████████| 4/4 [00:06<00:00,  1.56s/it]\n"
     ]
    },
    {
     "name": "stdout",
     "output_type": "stream",
     "text": [
      "New best weights found at epoch 4 with validation loss: 0.3629. Model saved to models/vital-sweep-10_2024-07-30_01-44.pth\n",
      "Epoch 4/30 Summary : Train Loss: 0.3135, Val Loss: 0.3629, LR: 1.00e-03, auroc: 0.8222, auprc: 0.8428, accuracy: 0.5833, sensitivity: 0.8333, specificity: 0.8333, avg_train_loss: 0.3135, avg_val_loss: 0.3629\n"
     ]
    },
    {
     "name": "stderr",
     "output_type": "stream",
     "text": [
      "Epoch 5/30 - Avg train Loss: 0.295758: 100%|████| 15/15 [00:24<00:00,  1.66s/it]\n",
      "Epoch 5/30 - Avg val Loss: 0.373611: 100%|████████| 4/4 [00:06<00:00,  1.56s/it]\n"
     ]
    },
    {
     "name": "stdout",
     "output_type": "stream",
     "text": [
      "Epoch 5/30 Summary : Train Loss: 0.2958, Val Loss: 0.3736, LR: 1.00e-03, auroc: 0.8400, auprc: 0.8486, accuracy: 0.7833, sensitivity: 0.8000, specificity: 0.8000, avg_train_loss: 0.2958, avg_val_loss: 0.3736\n"
     ]
    },
    {
     "name": "stderr",
     "output_type": "stream",
     "text": [
      "Epoch 6/30 - Avg train Loss: 0.320678: 100%|████| 15/15 [00:25<00:00,  1.67s/it]\n",
      "Epoch 6/30 - Avg val Loss: 0.403740: 100%|████████| 4/4 [00:05<00:00,  1.50s/it]\n"
     ]
    },
    {
     "name": "stdout",
     "output_type": "stream",
     "text": [
      "Epoch 6/30 Summary : Train Loss: 0.3207, Val Loss: 0.4037, LR: 1.00e-03, auroc: 0.8044, auprc: 0.8322, accuracy: 0.7167, sensitivity: 0.9000, specificity: 0.6000, avg_train_loss: 0.3207, avg_val_loss: 0.4037\n"
     ]
    },
    {
     "name": "stderr",
     "output_type": "stream",
     "text": [
      "Epoch 7/30 - Avg train Loss: 0.293359: 100%|████| 15/15 [00:25<00:00,  1.67s/it]\n",
      "Epoch 7/30 - Avg val Loss: 0.406687: 100%|████████| 4/4 [00:06<00:00,  1.53s/it]\n"
     ]
    },
    {
     "name": "stdout",
     "output_type": "stream",
     "text": [
      "Epoch 7/30 Summary : Train Loss: 0.2934, Val Loss: 0.4067, LR: 1.00e-03, auroc: 0.6444, auprc: 0.7095, accuracy: 0.5167, sensitivity: 0.5000, specificity: 0.8667, avg_train_loss: 0.2934, avg_val_loss: 0.4067\n"
     ]
    },
    {
     "name": "stderr",
     "output_type": "stream",
     "text": [
      "Epoch 8/30 - Avg train Loss: 0.304027: 100%|████| 15/15 [00:25<00:00,  1.72s/it]\n",
      "Epoch 8/30 - Avg val Loss: 0.617425: 100%|████████| 4/4 [00:06<00:00,  1.54s/it]\n"
     ]
    },
    {
     "name": "stdout",
     "output_type": "stream",
     "text": [
      "Epoch 8/30 Summary : Train Loss: 0.3040, Val Loss: 0.6174, LR: 1.00e-03, auroc: 0.8133, auprc: 0.8537, accuracy: 0.5500, sensitivity: 0.7667, specificity: 0.7667, avg_train_loss: 0.3040, avg_val_loss: 0.6174\n"
     ]
    },
    {
     "name": "stderr",
     "output_type": "stream",
     "text": [
      "Epoch 9/30 - Avg train Loss: 0.302995: 100%|████| 15/15 [00:25<00:00,  1.72s/it]\n",
      "Epoch 9/30 - Avg val Loss: 0.430727: 100%|████████| 4/4 [00:06<00:00,  1.74s/it]\n"
     ]
    },
    {
     "name": "stdout",
     "output_type": "stream",
     "text": [
      "Epoch 9/30 Summary : Train Loss: 0.3030, Val Loss: 0.4307, LR: 1.00e-03, auroc: 0.8356, auprc: 0.8914, accuracy: 0.8333, sensitivity: 0.7000, specificity: 0.9667, avg_train_loss: 0.3030, avg_val_loss: 0.4307\n"
     ]
    },
    {
     "name": "stderr",
     "output_type": "stream",
     "text": [
      "Epoch 10/30 - Avg train Loss: 0.282096: 100%|███| 15/15 [00:25<00:00,  1.68s/it]\n",
      "Epoch 10/30 - Avg val Loss: 0.493789: 100%|███████| 4/4 [00:06<00:00,  1.69s/it]\n"
     ]
    },
    {
     "name": "stdout",
     "output_type": "stream",
     "text": [
      "Epoch 10/30 Summary : Train Loss: 0.2821, Val Loss: 0.4938, LR: 1.00e-04, auroc: 0.8433, auprc: 0.8468, accuracy: 0.6667, sensitivity: 0.7333, specificity: 0.8667, avg_train_loss: 0.2821, avg_val_loss: 0.4938\n"
     ]
    },
    {
     "name": "stderr",
     "output_type": "stream",
     "text": [
      "Epoch 11/30 - Avg train Loss: 0.263230: 100%|███| 15/15 [00:25<00:00,  1.73s/it]\n",
      "Epoch 11/30 - Avg val Loss: 0.373892: 100%|███████| 4/4 [00:06<00:00,  1.70s/it]\n"
     ]
    },
    {
     "name": "stdout",
     "output_type": "stream",
     "text": [
      "Epoch 11/30 Summary : Train Loss: 0.2632, Val Loss: 0.3739, LR: 1.00e-04, auroc: 0.8822, auprc: 0.8965, accuracy: 0.7833, sensitivity: 0.8667, specificity: 0.8000, avg_train_loss: 0.2632, avg_val_loss: 0.3739\n"
     ]
    },
    {
     "name": "stderr",
     "output_type": "stream",
     "text": [
      "Epoch 12/30 - Avg train Loss: 0.250068: 100%|███| 15/15 [00:26<00:00,  1.76s/it]\n",
      "Epoch 12/30 - Avg val Loss: 0.347443: 100%|███████| 4/4 [00:06<00:00,  1.53s/it]\n"
     ]
    },
    {
     "name": "stdout",
     "output_type": "stream",
     "text": [
      "New best weights found at epoch 12 with validation loss: 0.3474. Model saved to models/vital-sweep-10_2024-07-30_01-44.pth\n",
      "Epoch 12/30 Summary : Train Loss: 0.2501, Val Loss: 0.3474, LR: 1.00e-04, auroc: 0.8833, auprc: 0.8984, accuracy: 0.8000, sensitivity: 0.9000, specificity: 0.7333, avg_train_loss: 0.2501, avg_val_loss: 0.3474\n"
     ]
    },
    {
     "name": "stderr",
     "output_type": "stream",
     "text": [
      "Epoch 13/30 - Avg train Loss: 0.263796: 100%|███| 15/15 [00:25<00:00,  1.70s/it]\n",
      "Epoch 13/30 - Avg val Loss: 0.344223: 100%|███████| 4/4 [00:06<00:00,  1.71s/it]\n"
     ]
    },
    {
     "name": "stdout",
     "output_type": "stream",
     "text": [
      "New best weights found at epoch 13 with validation loss: 0.3442. Model saved to models/vital-sweep-10_2024-07-30_01-44.pth\n",
      "Epoch 13/30 Summary : Train Loss: 0.2638, Val Loss: 0.3442, LR: 1.00e-04, auroc: 0.8856, auprc: 0.9040, accuracy: 0.8167, sensitivity: 0.8667, specificity: 0.7667, avg_train_loss: 0.2638, avg_val_loss: 0.3442\n"
     ]
    },
    {
     "name": "stderr",
     "output_type": "stream",
     "text": [
      "Epoch 14/30 - Avg train Loss: 0.252149: 100%|███| 15/15 [00:25<00:00,  1.70s/it]\n",
      "Epoch 14/30 - Avg val Loss: 0.350896: 100%|███████| 4/4 [00:06<00:00,  1.70s/it]\n"
     ]
    },
    {
     "name": "stdout",
     "output_type": "stream",
     "text": [
      "Epoch 14/30 Summary : Train Loss: 0.2521, Val Loss: 0.3509, LR: 1.00e-04, auroc: 0.8844, auprc: 0.9019, accuracy: 0.7667, sensitivity: 0.8667, specificity: 0.7667, avg_train_loss: 0.2521, avg_val_loss: 0.3509\n"
     ]
    },
    {
     "name": "stderr",
     "output_type": "stream",
     "text": [
      "Epoch 15/30 - Avg train Loss: 0.251817: 100%|███| 15/15 [00:25<00:00,  1.69s/it]\n",
      "Epoch 15/30 - Avg val Loss: 0.337924: 100%|███████| 4/4 [00:06<00:00,  1.71s/it]\n"
     ]
    },
    {
     "name": "stdout",
     "output_type": "stream",
     "text": [
      "New best weights found at epoch 15 with validation loss: 0.3379. Model saved to models/vital-sweep-10_2024-07-30_01-44.pth\n",
      "Epoch 15/30 Summary : Train Loss: 0.2518, Val Loss: 0.3379, LR: 1.00e-04, auroc: 0.8933, auprc: 0.9075, accuracy: 0.7667, sensitivity: 0.9333, specificity: 0.7333, avg_train_loss: 0.2518, avg_val_loss: 0.3379\n"
     ]
    },
    {
     "name": "stderr",
     "output_type": "stream",
     "text": [
      "Epoch 16/30 - Avg train Loss: 0.248396: 100%|███| 15/15 [00:26<00:00,  1.77s/it]\n",
      "Epoch 16/30 - Avg val Loss: 0.329094: 100%|███████| 4/4 [00:06<00:00,  1.66s/it]\n"
     ]
    },
    {
     "name": "stdout",
     "output_type": "stream",
     "text": [
      "New best weights found at epoch 16 with validation loss: 0.3291. Model saved to models/vital-sweep-10_2024-07-30_01-44.pth\n",
      "Epoch 16/30 Summary : Train Loss: 0.2484, Val Loss: 0.3291, LR: 1.00e-04, auroc: 0.8867, auprc: 0.9124, accuracy: 0.7000, sensitivity: 0.8000, specificity: 0.8667, avg_train_loss: 0.2484, avg_val_loss: 0.3291\n"
     ]
    },
    {
     "name": "stderr",
     "output_type": "stream",
     "text": [
      "Epoch 17/30 - Avg train Loss: 0.260359: 100%|███| 15/15 [00:25<00:00,  1.72s/it]\n",
      "Epoch 17/30 - Avg val Loss: 0.329732: 100%|███████| 4/4 [00:06<00:00,  1.55s/it]\n"
     ]
    },
    {
     "name": "stdout",
     "output_type": "stream",
     "text": [
      "Epoch 17/30 Summary : Train Loss: 0.2604, Val Loss: 0.3297, LR: 1.00e-04, auroc: 0.8922, auprc: 0.9123, accuracy: 0.7500, sensitivity: 0.7667, specificity: 0.9000, avg_train_loss: 0.2604, avg_val_loss: 0.3297\n"
     ]
    },
    {
     "name": "stderr",
     "output_type": "stream",
     "text": [
      "Epoch 18/30 - Avg train Loss: 0.243882: 100%|███| 15/15 [00:26<00:00,  1.78s/it]\n",
      "Epoch 18/30 - Avg val Loss: 0.339377: 100%|███████| 4/4 [00:06<00:00,  1.73s/it]\n"
     ]
    },
    {
     "name": "stdout",
     "output_type": "stream",
     "text": [
      "Epoch 18/30 Summary : Train Loss: 0.2439, Val Loss: 0.3394, LR: 1.00e-04, auroc: 0.8833, auprc: 0.9071, accuracy: 0.7667, sensitivity: 0.7667, specificity: 0.8667, avg_train_loss: 0.2439, avg_val_loss: 0.3394\n"
     ]
    },
    {
     "name": "stderr",
     "output_type": "stream",
     "text": [
      "Epoch 19/30 - Avg train Loss: 0.245525: 100%|███| 15/15 [00:27<00:00,  1.83s/it]\n",
      "Epoch 19/30 - Avg val Loss: 0.352583: 100%|███████| 4/4 [00:06<00:00,  1.69s/it]\n"
     ]
    },
    {
     "name": "stdout",
     "output_type": "stream",
     "text": [
      "Epoch 19/30 Summary : Train Loss: 0.2455, Val Loss: 0.3526, LR: 1.00e-04, auroc: 0.8878, auprc: 0.9125, accuracy: 0.7833, sensitivity: 0.7667, specificity: 0.9000, avg_train_loss: 0.2455, avg_val_loss: 0.3526\n"
     ]
    },
    {
     "name": "stderr",
     "output_type": "stream",
     "text": [
      "Epoch 20/30 - Avg train Loss: 0.243116: 100%|███| 15/15 [00:25<00:00,  1.69s/it]\n",
      "Epoch 20/30 - Avg val Loss: 0.349415: 100%|███████| 4/4 [00:06<00:00,  1.59s/it]\n"
     ]
    },
    {
     "name": "stdout",
     "output_type": "stream",
     "text": [
      "Epoch 20/30 Summary : Train Loss: 0.2431, Val Loss: 0.3494, LR: 1.00e-04, auroc: 0.8944, auprc: 0.9098, accuracy: 0.8000, sensitivity: 0.9333, specificity: 0.7333, avg_train_loss: 0.2431, avg_val_loss: 0.3494\n"
     ]
    },
    {
     "name": "stderr",
     "output_type": "stream",
     "text": [
      "Epoch 21/30 - Avg train Loss: 0.242340: 100%|███| 15/15 [00:25<00:00,  1.67s/it]\n",
      "Epoch 21/30 - Avg val Loss: 0.338849: 100%|███████| 4/4 [00:06<00:00,  1.56s/it]\n"
     ]
    },
    {
     "name": "stdout",
     "output_type": "stream",
     "text": [
      "Epoch 21/30 Summary : Train Loss: 0.2423, Val Loss: 0.3388, LR: 1.00e-04, auroc: 0.8989, auprc: 0.9110, accuracy: 0.7833, sensitivity: 0.9667, specificity: 0.7333, avg_train_loss: 0.2423, avg_val_loss: 0.3388\n"
     ]
    },
    {
     "name": "stderr",
     "output_type": "stream",
     "text": [
      "Epoch 22/30 - Avg train Loss: 0.240694: 100%|███| 15/15 [00:24<00:00,  1.65s/it]\n",
      "Epoch 22/30 - Avg val Loss: 0.339987: 100%|███████| 4/4 [00:06<00:00,  1.57s/it]\n"
     ]
    },
    {
     "name": "stdout",
     "output_type": "stream",
     "text": [
      "Epoch 22/30 Summary : Train Loss: 0.2407, Val Loss: 0.3400, LR: 1.00e-05, auroc: 0.8978, auprc: 0.9093, accuracy: 0.8333, sensitivity: 0.9000, specificity: 0.7667, avg_train_loss: 0.2407, avg_val_loss: 0.3400\n"
     ]
    },
    {
     "name": "stderr",
     "output_type": "stream",
     "text": [
      "Epoch 23/30 - Avg train Loss: 0.238404: 100%|███| 15/15 [00:24<00:00,  1.65s/it]\n",
      "Epoch 23/30 - Avg val Loss: 0.339144: 100%|███████| 4/4 [00:06<00:00,  1.55s/it]\n"
     ]
    },
    {
     "name": "stdout",
     "output_type": "stream",
     "text": [
      "Epoch 23/30 Summary : Train Loss: 0.2384, Val Loss: 0.3391, LR: 1.00e-05, auroc: 0.9011, auprc: 0.9143, accuracy: 0.8333, sensitivity: 0.8333, specificity: 0.8333, avg_train_loss: 0.2384, avg_val_loss: 0.3391\n"
     ]
    },
    {
     "name": "stderr",
     "output_type": "stream",
     "text": [
      "Epoch 24/30 - Avg train Loss: 0.241319: 100%|███| 15/15 [00:24<00:00,  1.64s/it]\n",
      "Epoch 24/30 - Avg val Loss: 0.339770: 100%|███████| 4/4 [00:06<00:00,  1.58s/it]\n"
     ]
    },
    {
     "name": "stdout",
     "output_type": "stream",
     "text": [
      "Epoch 24/30 Summary : Train Loss: 0.2413, Val Loss: 0.3398, LR: 1.00e-05, auroc: 0.8967, auprc: 0.9100, accuracy: 0.8167, sensitivity: 0.9000, specificity: 0.7667, avg_train_loss: 0.2413, avg_val_loss: 0.3398\n"
     ]
    },
    {
     "name": "stderr",
     "output_type": "stream",
     "text": [
      "Epoch 25/30 - Avg train Loss: 0.238388: 100%|███| 15/15 [00:24<00:00,  1.66s/it]\n",
      "Epoch 25/30 - Avg val Loss: 0.343254: 100%|███████| 4/4 [00:06<00:00,  1.57s/it]\n"
     ]
    },
    {
     "name": "stdout",
     "output_type": "stream",
     "text": [
      "Epoch 25/30 Summary : Train Loss: 0.2384, Val Loss: 0.3433, LR: 1.00e-05, auroc: 0.8956, auprc: 0.9091, accuracy: 0.7833, sensitivity: 0.9000, specificity: 0.7667, avg_train_loss: 0.2384, avg_val_loss: 0.3433\n"
     ]
    },
    {
     "name": "stderr",
     "output_type": "stream",
     "text": [
      "Epoch 26/30 - Avg train Loss: 0.248447: 100%|███| 15/15 [00:24<00:00,  1.64s/it]\n",
      "Epoch 26/30 - Avg val Loss: 0.341059: 100%|███████| 4/4 [00:06<00:00,  1.58s/it]\n"
     ]
    },
    {
     "name": "stdout",
     "output_type": "stream",
     "text": [
      "Epoch 26/30 Summary : Train Loss: 0.2484, Val Loss: 0.3411, LR: 1.00e-05, auroc: 0.8967, auprc: 0.9099, accuracy: 0.8167, sensitivity: 0.9000, specificity: 0.7667, avg_train_loss: 0.2484, avg_val_loss: 0.3411\n"
     ]
    },
    {
     "name": "stderr",
     "output_type": "stream",
     "text": [
      "Epoch 27/30 - Avg train Loss: 0.233578: 100%|███| 15/15 [00:24<00:00,  1.65s/it]\n",
      "Epoch 27/30 - Avg val Loss: 0.342823: 100%|███████| 4/4 [00:06<00:00,  1.57s/it]\n"
     ]
    },
    {
     "name": "stdout",
     "output_type": "stream",
     "text": [
      "Epoch 27/30 Summary : Train Loss: 0.2336, Val Loss: 0.3428, LR: 1.00e-05, auroc: 0.8989, auprc: 0.9116, accuracy: 0.8000, sensitivity: 0.9000, specificity: 0.7667, avg_train_loss: 0.2336, avg_val_loss: 0.3428\n"
     ]
    },
    {
     "name": "stderr",
     "output_type": "stream",
     "text": [
      "Epoch 28/30 - Avg train Loss: 0.240110: 100%|███| 15/15 [00:24<00:00,  1.65s/it]\n",
      "Epoch 28/30 - Avg val Loss: 0.334520: 100%|███████| 4/4 [00:06<00:00,  1.55s/it]\n"
     ]
    },
    {
     "name": "stdout",
     "output_type": "stream",
     "text": [
      "Epoch 28/30 Summary : Train Loss: 0.2401, Val Loss: 0.3345, LR: 1.00e-06, auroc: 0.9011, auprc: 0.9143, accuracy: 0.8333, sensitivity: 0.9000, specificity: 0.7667, avg_train_loss: 0.2401, avg_val_loss: 0.3345\n"
     ]
    },
    {
     "name": "stderr",
     "output_type": "stream",
     "text": [
      "Epoch 29/30 - Avg train Loss: 0.238154: 100%|███| 15/15 [00:24<00:00,  1.65s/it]\n",
      "Epoch 29/30 - Avg val Loss: 0.339090: 100%|███████| 4/4 [00:06<00:00,  1.55s/it]\n"
     ]
    },
    {
     "name": "stdout",
     "output_type": "stream",
     "text": [
      "Epoch 29/30 Summary : Train Loss: 0.2382, Val Loss: 0.3391, LR: 1.00e-06, auroc: 0.8967, auprc: 0.9111, accuracy: 0.8167, sensitivity: 0.9000, specificity: 0.7667, avg_train_loss: 0.2382, avg_val_loss: 0.3391\n"
     ]
    },
    {
     "name": "stderr",
     "output_type": "stream",
     "text": [
      "Epoch 30/30 - Avg train Loss: 0.241070: 100%|███| 15/15 [00:24<00:00,  1.66s/it]\n",
      "Epoch 30/30 - Avg val Loss: 0.336751: 100%|███████| 4/4 [00:06<00:00,  1.55s/it]\n"
     ]
    },
    {
     "name": "stdout",
     "output_type": "stream",
     "text": [
      "Epoch 30/30 Summary : Train Loss: 0.2411, Val Loss: 0.3368, LR: 1.00e-06, auroc: 0.8978, auprc: 0.9122, accuracy: 0.8167, sensitivity: 0.9000, specificity: 0.7667, avg_train_loss: 0.2411, avg_val_loss: 0.3368\n"
     ]
    },
    {
     "data": {
      "application/vnd.jupyter.widget-view+json": {
       "model_id": "",
       "version_major": 2,
       "version_minor": 0
      },
      "text/plain": [
       "VBox(children=(Label(value='0.008 MB of 0.008 MB uploaded\\r'), FloatProgress(value=1.0, max=1.0)))"
      ]
     },
     "metadata": {},
     "output_type": "display_data"
    },
    {
     "data": {
      "text/html": [
       "<style>\n",
       "    table.wandb td:nth-child(1) { padding: 0 10px; text-align: left ; width: auto;} td:nth-child(2) {text-align: left ; width: 100%}\n",
       "    .wandb-row { display: flex; flex-direction: row; flex-wrap: wrap; justify-content: flex-start; width: 100% }\n",
       "    .wandb-col { display: flex; flex-direction: column; flex-basis: 100%; flex: 1; padding: 10px; }\n",
       "    </style>\n",
       "<div class=\"wandb-row\"><div class=\"wandb-col\"><h3>Run history:</h3><br/><table class=\"wandb\"><tr><td>accuracy</td><td>▂▁▁▃▇▆▁▂█▅▇▇█▇▇▅▆▇▇▇▇███▇█▇███</td></tr><tr><td>auprc</td><td>▄▁▇▇▇▆▄▇█▇████████████████████</td></tr><tr><td>auroc</td><td>▅▁▆▇▇▆▄▇▇▇████████████████████</td></tr><tr><td>avg_train_loss</td><td>█▅▄▄▃▄▃▄▃▃▂▂▂▂▂▂▂▁▁▁▁▁▁▁▁▂▁▁▁▁</td></tr><tr><td>avg_val_loss</td><td>█▂▁▁▁▂▂▄▂▃▁▁▁▁▁▁▁▁▁▁▁▁▁▁▁▁▁▁▁▁</td></tr><tr><td>sensitivity</td><td>▇▁▅▇▆▇▄▆▅▆▇▇▇▇█▆▆▆▆██▇▇▇▇▇▇▇▇▇</td></tr><tr><td>specificity</td><td>▁██▆▆▃▇▅█▇▆▅▅▅▅▇▇▇▇▅▅▅▆▅▅▅▅▅▅▅</td></tr></table><br/></div><div class=\"wandb-col\"><h3>Run summary:</h3><br/><table class=\"wandb\"><tr><td>accuracy</td><td>0.81667</td></tr><tr><td>auprc</td><td>0.91216</td></tr><tr><td>auroc</td><td>0.89778</td></tr><tr><td>avg_train_loss</td><td>0.24107</td></tr><tr><td>avg_val_loss</td><td>0.33675</td></tr><tr><td>sensitivity</td><td>0.9</td></tr><tr><td>specificity</td><td>0.76667</td></tr></table><br/></div></div>"
      ],
      "text/plain": [
       "<IPython.core.display.HTML object>"
      ]
     },
     "metadata": {},
     "output_type": "display_data"
    },
    {
     "data": {
      "text/html": [
       " View run <strong style=\"color:#cdcd00\">vital-sweep-10</strong> at: <a href='https://wandb.ai/miccai-challenge-2024/task2/runs/ra0nrq92' target=\"_blank\">https://wandb.ai/miccai-challenge-2024/task2/runs/ra0nrq92</a><br/> View project at: <a href='https://wandb.ai/miccai-challenge-2024/task2' target=\"_blank\">https://wandb.ai/miccai-challenge-2024/task2</a><br/>Synced 6 W&B file(s), 0 media file(s), 0 artifact file(s) and 0 other file(s)"
      ],
      "text/plain": [
       "<IPython.core.display.HTML object>"
      ]
     },
     "metadata": {},
     "output_type": "display_data"
    },
    {
     "data": {
      "text/html": [
       "Find logs at: <code>./wandb/run-20240730_014431-ra0nrq92/logs</code>"
      ],
      "text/plain": [
       "<IPython.core.display.HTML object>"
      ]
     },
     "metadata": {},
     "output_type": "display_data"
    },
    {
     "name": "stdout",
     "output_type": "stream",
     "text": [
      "Finished training\n"
     ]
    },
    {
     "name": "stderr",
     "output_type": "stream",
     "text": [
      "\u001b[34m\u001b[1mwandb\u001b[0m: Agent Starting Run: 9f75oq1x with config:\n",
      "\u001b[34m\u001b[1mwandb\u001b[0m: \tbatch_size: 16\n",
      "\u001b[34m\u001b[1mwandb\u001b[0m: \tepochs: 30\n",
      "\u001b[34m\u001b[1mwandb\u001b[0m: \tloss_weight: 0.5\n",
      "\u001b[34m\u001b[1mwandb\u001b[0m: \tlr: 0.001\n",
      "\u001b[34m\u001b[1mwandb\u001b[0m: \tlr_schedule_factor: 0.1\n",
      "\u001b[34m\u001b[1mwandb\u001b[0m: \tlr_schedule_patience: 5\n",
      "\u001b[34m\u001b[1mwandb\u001b[0m: \tmodel: ResNet\n",
      "\u001b[34m\u001b[1mwandb\u001b[0m: \tp_affine: 0.3\n",
      "\u001b[34m\u001b[1mwandb\u001b[0m: \tp_clahe: 1\n",
      "\u001b[34m\u001b[1mwandb\u001b[0m: \tp_equalize: 0\n",
      "\u001b[34m\u001b[1mwandb\u001b[0m: \tp_gaussblur: 0.5\n",
      "\u001b[34m\u001b[1mwandb\u001b[0m: \tp_horizontalflip: 0.5\n",
      "\u001b[34m\u001b[1mwandb\u001b[0m: \tresampling_strategy: undersampling\n",
      "\u001b[34m\u001b[1mwandb\u001b[0m: \trotation: 10\n",
      "\u001b[34m\u001b[1mwandb\u001b[0m: \u001b[33mWARNING\u001b[0m Ignored wandb.init() arg project when running a sweep.\n"
     ]
    },
    {
     "data": {
      "text/html": [
       "wandb version 0.17.5 is available!  To upgrade, please run:\n",
       " $ pip install wandb --upgrade"
      ],
      "text/plain": [
       "<IPython.core.display.HTML object>"
      ]
     },
     "metadata": {},
     "output_type": "display_data"
    },
    {
     "data": {
      "text/html": [
       "Tracking run with wandb version 0.17.0"
      ],
      "text/plain": [
       "<IPython.core.display.HTML object>"
      ]
     },
     "metadata": {},
     "output_type": "display_data"
    },
    {
     "data": {
      "text/html": [
       "Run data is saved locally in <code>/home/optima/mhaderer/AILS-MICCAI-UWF4DR-Challenge/wandb/run-20240730_020048-9f75oq1x</code>"
      ],
      "text/plain": [
       "<IPython.core.display.HTML object>"
      ]
     },
     "metadata": {},
     "output_type": "display_data"
    },
    {
     "data": {
      "text/html": [
       "Syncing run <strong><a href='https://wandb.ai/miccai-challenge-2024/task2/runs/9f75oq1x' target=\"_blank\">silvery-sweep-11</a></strong> to <a href='https://wandb.ai/miccai-challenge-2024/task2' target=\"_blank\">Weights & Biases</a> (<a href='https://wandb.me/run' target=\"_blank\">docs</a>)<br/>Sweep page: <a href='https://wandb.ai/miccai-challenge-2024/task2/sweeps/f4v5vt07' target=\"_blank\">https://wandb.ai/miccai-challenge-2024/task2/sweeps/f4v5vt07</a>"
      ],
      "text/plain": [
       "<IPython.core.display.HTML object>"
      ]
     },
     "metadata": {},
     "output_type": "display_data"
    },
    {
     "data": {
      "text/html": [
       " View project at <a href='https://wandb.ai/miccai-challenge-2024/task2' target=\"_blank\">https://wandb.ai/miccai-challenge-2024/task2</a>"
      ],
      "text/plain": [
       "<IPython.core.display.HTML object>"
      ]
     },
     "metadata": {},
     "output_type": "display_data"
    },
    {
     "data": {
      "text/html": [
       " View sweep at <a href='https://wandb.ai/miccai-challenge-2024/task2/sweeps/f4v5vt07' target=\"_blank\">https://wandb.ai/miccai-challenge-2024/task2/sweeps/f4v5vt07</a>"
      ],
      "text/plain": [
       "<IPython.core.display.HTML object>"
      ]
     },
     "metadata": {},
     "output_type": "display_data"
    },
    {
     "data": {
      "text/html": [
       " View run at <a href='https://wandb.ai/miccai-challenge-2024/task2/runs/9f75oq1x' target=\"_blank\">https://wandb.ai/miccai-challenge-2024/task2/runs/9f75oq1x</a>"
      ],
      "text/plain": [
       "<IPython.core.display.HTML object>"
      ]
     },
     "metadata": {},
     "output_type": "display_data"
    },
    {
     "name": "stdout",
     "output_type": "stream",
     "text": [
      "Using device: cuda\n"
     ]
    },
    {
     "name": "stderr",
     "output_type": "stream",
     "text": [
      "Using cache found in /home/optima/mhaderer/.cache/torch/hub/pytorch_vision_v0.10.0\n"
     ]
    },
    {
     "name": "stdout",
     "output_type": "stream",
     "text": [
      "Number of output features in resnet18 encoder:  1\n",
      "Now train train train\n"
     ]
    },
    {
     "name": "stderr",
     "output_type": "stream",
     "text": [
      "Epoch 1/30 - Avg train Loss: 0.616397: 100%|████| 15/15 [00:29<00:00,  1.98s/it]\n",
      "Epoch 1/30 - Avg val Loss: 1.162119: 100%|████████| 4/4 [00:06<00:00,  1.57s/it]\n"
     ]
    },
    {
     "name": "stdout",
     "output_type": "stream",
     "text": [
      "New best weights found at epoch 1 with validation loss: 1.1621. Model saved to models/silvery-sweep-11_2024-07-30_02-00.pth\n",
      "Epoch 1/30 Summary : Train Loss: 0.6164, Val Loss: 1.1621, LR: 1.00e-03, auroc: 0.6700, auprc: 0.7233, accuracy: 0.5167, sensitivity: 0.4000, specificity: 0.9667, avg_train_loss: 0.6164, avg_val_loss: 1.1621\n"
     ]
    },
    {
     "name": "stderr",
     "output_type": "stream",
     "text": [
      "Epoch 2/30 - Avg train Loss: 0.391771: 100%|████| 15/15 [00:29<00:00,  1.97s/it]\n",
      "Epoch 2/30 - Avg val Loss: 0.441701: 100%|████████| 4/4 [00:06<00:00,  1.72s/it]\n"
     ]
    },
    {
     "name": "stdout",
     "output_type": "stream",
     "text": [
      "New best weights found at epoch 2 with validation loss: 0.4417. Model saved to models/silvery-sweep-11_2024-07-30_02-00.pth\n",
      "Epoch 2/30 Summary : Train Loss: 0.3918, Val Loss: 0.4417, LR: 1.00e-03, auroc: 0.6611, auprc: 0.6711, accuracy: 0.5833, sensitivity: 0.5667, specificity: 0.8000, avg_train_loss: 0.3918, avg_val_loss: 0.4417\n"
     ]
    },
    {
     "name": "stderr",
     "output_type": "stream",
     "text": [
      "Epoch 3/30 - Avg train Loss: 0.366601: 100%|████| 15/15 [00:31<00:00,  2.07s/it]\n",
      "Epoch 3/30 - Avg val Loss: 0.398476: 100%|████████| 4/4 [00:06<00:00,  1.70s/it]\n"
     ]
    },
    {
     "name": "stdout",
     "output_type": "stream",
     "text": [
      "New best weights found at epoch 3 with validation loss: 0.3985. Model saved to models/silvery-sweep-11_2024-07-30_02-00.pth\n",
      "Epoch 3/30 Summary : Train Loss: 0.3666, Val Loss: 0.3985, LR: 1.00e-03, auroc: 0.7689, auprc: 0.7689, accuracy: 0.5000, sensitivity: 0.7667, specificity: 0.7000, avg_train_loss: 0.3666, avg_val_loss: 0.3985\n"
     ]
    },
    {
     "name": "stderr",
     "output_type": "stream",
     "text": [
      "Epoch 4/30 - Avg train Loss: 0.362083: 100%|████| 15/15 [00:31<00:00,  2.08s/it]\n",
      "Epoch 4/30 - Avg val Loss: 0.469083: 100%|████████| 4/4 [00:06<00:00,  1.74s/it]\n"
     ]
    },
    {
     "name": "stdout",
     "output_type": "stream",
     "text": [
      "Epoch 4/30 Summary : Train Loss: 0.3621, Val Loss: 0.4691, LR: 1.00e-03, auroc: 0.5267, auprc: 0.5425, accuracy: 0.4833, sensitivity: 0.6333, specificity: 0.5000, avg_train_loss: 0.3621, avg_val_loss: 0.4691\n"
     ]
    },
    {
     "name": "stderr",
     "output_type": "stream",
     "text": [
      "Epoch 5/30 - Avg train Loss: 0.343200: 100%|████| 15/15 [00:29<00:00,  1.94s/it]\n",
      "Epoch 5/30 - Avg val Loss: 0.442651: 100%|████████| 4/4 [00:06<00:00,  1.64s/it]\n"
     ]
    },
    {
     "name": "stdout",
     "output_type": "stream",
     "text": [
      "Epoch 5/30 Summary : Train Loss: 0.3432, Val Loss: 0.4427, LR: 1.00e-03, auroc: 0.7689, auprc: 0.8061, accuracy: 0.6833, sensitivity: 0.7667, specificity: 0.7000, avg_train_loss: 0.3432, avg_val_loss: 0.4427\n"
     ]
    },
    {
     "name": "stderr",
     "output_type": "stream",
     "text": [
      "Epoch 6/30 - Avg train Loss: 0.337077: 100%|████| 15/15 [00:30<00:00,  2.04s/it]\n",
      "Epoch 6/30 - Avg val Loss: 0.417026: 100%|████████| 4/4 [00:06<00:00,  1.66s/it]\n"
     ]
    },
    {
     "name": "stdout",
     "output_type": "stream",
     "text": [
      "Epoch 6/30 Summary : Train Loss: 0.3371, Val Loss: 0.4170, LR: 1.00e-03, auroc: 0.8267, auprc: 0.8445, accuracy: 0.7167, sensitivity: 0.7667, specificity: 0.8333, avg_train_loss: 0.3371, avg_val_loss: 0.4170\n"
     ]
    },
    {
     "name": "stderr",
     "output_type": "stream",
     "text": [
      "Epoch 7/30 - Avg train Loss: 0.325690: 100%|████| 15/15 [00:27<00:00,  1.86s/it]\n",
      "Epoch 7/30 - Avg val Loss: 0.446357: 100%|████████| 4/4 [00:06<00:00,  1.51s/it]\n"
     ]
    },
    {
     "name": "stdout",
     "output_type": "stream",
     "text": [
      "Epoch 7/30 Summary : Train Loss: 0.3257, Val Loss: 0.4464, LR: 1.00e-03, auroc: 0.7989, auprc: 0.8463, accuracy: 0.7167, sensitivity: 0.5333, specificity: 0.9667, avg_train_loss: 0.3257, avg_val_loss: 0.4464\n"
     ]
    },
    {
     "name": "stderr",
     "output_type": "stream",
     "text": [
      "Epoch 8/30 - Avg train Loss: 0.329681: 100%|████| 15/15 [00:28<00:00,  1.88s/it]\n",
      "Epoch 8/30 - Avg val Loss: 0.382736: 100%|████████| 4/4 [00:06<00:00,  1.51s/it]\n"
     ]
    },
    {
     "name": "stdout",
     "output_type": "stream",
     "text": [
      "New best weights found at epoch 8 with validation loss: 0.3827. Model saved to models/silvery-sweep-11_2024-07-30_02-00.pth\n",
      "Epoch 8/30 Summary : Train Loss: 0.3297, Val Loss: 0.3827, LR: 1.00e-03, auroc: 0.8667, auprc: 0.8864, accuracy: 0.7333, sensitivity: 0.9333, specificity: 0.6667, avg_train_loss: 0.3297, avg_val_loss: 0.3827\n"
     ]
    },
    {
     "name": "stderr",
     "output_type": "stream",
     "text": [
      "Epoch 9/30 - Avg train Loss: 0.319612: 100%|████| 15/15 [00:29<00:00,  2.00s/it]\n",
      "Epoch 9/30 - Avg val Loss: 0.425712: 100%|████████| 4/4 [00:06<00:00,  1.69s/it]\n"
     ]
    },
    {
     "name": "stdout",
     "output_type": "stream",
     "text": [
      "Epoch 9/30 Summary : Train Loss: 0.3196, Val Loss: 0.4257, LR: 1.00e-03, auroc: 0.6189, auprc: 0.6424, accuracy: 0.5167, sensitivity: 0.7667, specificity: 0.5333, avg_train_loss: 0.3196, avg_val_loss: 0.4257\n"
     ]
    },
    {
     "name": "stderr",
     "output_type": "stream",
     "text": [
      "Epoch 10/30 - Avg train Loss: 0.323620: 100%|███| 15/15 [00:29<00:00,  1.98s/it]\n",
      "Epoch 10/30 - Avg val Loss: 0.405982: 100%|███████| 4/4 [00:06<00:00,  1.67s/it]\n"
     ]
    },
    {
     "name": "stdout",
     "output_type": "stream",
     "text": [
      "Epoch 10/30 Summary : Train Loss: 0.3236, Val Loss: 0.4060, LR: 1.00e-03, auroc: 0.7733, auprc: 0.7951, accuracy: 0.5000, sensitivity: 0.8333, specificity: 0.7333, avg_train_loss: 0.3236, avg_val_loss: 0.4060\n"
     ]
    },
    {
     "name": "stderr",
     "output_type": "stream",
     "text": [
      "Epoch 11/30 - Avg train Loss: 0.328429: 100%|███| 15/15 [00:29<00:00,  1.97s/it]\n",
      "Epoch 11/30 - Avg val Loss: 0.400768: 100%|███████| 4/4 [00:06<00:00,  1.67s/it]\n"
     ]
    },
    {
     "name": "stdout",
     "output_type": "stream",
     "text": [
      "Epoch 11/30 Summary : Train Loss: 0.3284, Val Loss: 0.4008, LR: 1.00e-03, auroc: 0.7811, auprc: 0.7963, accuracy: 0.6833, sensitivity: 0.9000, specificity: 0.6333, avg_train_loss: 0.3284, avg_val_loss: 0.4008\n"
     ]
    },
    {
     "name": "stderr",
     "output_type": "stream",
     "text": [
      "Epoch 12/30 - Avg train Loss: 0.301667: 100%|███| 15/15 [00:29<00:00,  1.99s/it]\n",
      "Epoch 12/30 - Avg val Loss: 0.437961: 100%|███████| 4/4 [00:06<00:00,  1.67s/it]\n"
     ]
    },
    {
     "name": "stdout",
     "output_type": "stream",
     "text": [
      "Epoch 12/30 Summary : Train Loss: 0.3017, Val Loss: 0.4380, LR: 1.00e-03, auroc: 0.5211, auprc: 0.5696, accuracy: 0.4667, sensitivity: 0.7333, specificity: 0.4333, avg_train_loss: 0.3017, avg_val_loss: 0.4380\n"
     ]
    },
    {
     "name": "stderr",
     "output_type": "stream",
     "text": [
      "Epoch 13/30 - Avg train Loss: 0.307342: 100%|███| 15/15 [00:30<00:00,  2.01s/it]\n",
      "Epoch 13/30 - Avg val Loss: 0.365949: 100%|███████| 4/4 [00:06<00:00,  1.73s/it]\n"
     ]
    },
    {
     "name": "stdout",
     "output_type": "stream",
     "text": [
      "New best weights found at epoch 13 with validation loss: 0.3659. Model saved to models/silvery-sweep-11_2024-07-30_02-00.pth\n",
      "Epoch 13/30 Summary : Train Loss: 0.3073, Val Loss: 0.3659, LR: 1.00e-03, auroc: 0.8367, auprc: 0.8577, accuracy: 0.5000, sensitivity: 0.8333, specificity: 0.7333, avg_train_loss: 0.3073, avg_val_loss: 0.3659\n"
     ]
    },
    {
     "name": "stderr",
     "output_type": "stream",
     "text": [
      "Epoch 14/30 - Avg train Loss: 0.312621: 100%|███| 15/15 [00:29<00:00,  1.97s/it]\n",
      "Epoch 14/30 - Avg val Loss: 0.395797: 100%|███████| 4/4 [00:06<00:00,  1.68s/it]\n"
     ]
    },
    {
     "name": "stdout",
     "output_type": "stream",
     "text": [
      "Epoch 14/30 Summary : Train Loss: 0.3126, Val Loss: 0.3958, LR: 1.00e-03, auroc: 0.7900, auprc: 0.7885, accuracy: 0.6833, sensitivity: 0.9000, specificity: 0.6000, avg_train_loss: 0.3126, avg_val_loss: 0.3958\n"
     ]
    },
    {
     "name": "stderr",
     "output_type": "stream",
     "text": [
      "Epoch 15/30 - Avg train Loss: 0.315300: 100%|███| 15/15 [00:30<00:00,  2.03s/it]\n",
      "Epoch 15/30 - Avg val Loss: 0.368140: 100%|███████| 4/4 [00:06<00:00,  1.60s/it]\n"
     ]
    },
    {
     "name": "stdout",
     "output_type": "stream",
     "text": [
      "Epoch 15/30 Summary : Train Loss: 0.3153, Val Loss: 0.3681, LR: 1.00e-03, auroc: 0.8244, auprc: 0.8613, accuracy: 0.5000, sensitivity: 0.6333, specificity: 0.9333, avg_train_loss: 0.3153, avg_val_loss: 0.3681\n"
     ]
    },
    {
     "name": "stderr",
     "output_type": "stream",
     "text": [
      "Epoch 16/30 - Avg train Loss: 0.280720: 100%|███| 15/15 [00:30<00:00,  2.02s/it]\n",
      "Epoch 16/30 - Avg val Loss: 0.399964: 100%|███████| 4/4 [00:06<00:00,  1.50s/it]\n"
     ]
    },
    {
     "name": "stdout",
     "output_type": "stream",
     "text": [
      "Epoch 16/30 Summary : Train Loss: 0.2807, Val Loss: 0.4000, LR: 1.00e-03, auroc: 0.9167, auprc: 0.9264, accuracy: 0.8000, sensitivity: 0.7667, specificity: 0.9000, avg_train_loss: 0.2807, avg_val_loss: 0.4000\n"
     ]
    },
    {
     "name": "stderr",
     "output_type": "stream",
     "text": [
      "Epoch 17/30 - Avg train Loss: 0.306397: 100%|███| 15/15 [00:28<00:00,  1.89s/it]\n",
      "Epoch 17/30 - Avg val Loss: 0.383304: 100%|███████| 4/4 [00:06<00:00,  1.50s/it]\n"
     ]
    },
    {
     "name": "stdout",
     "output_type": "stream",
     "text": [
      "Epoch 17/30 Summary : Train Loss: 0.3064, Val Loss: 0.3833, LR: 1.00e-03, auroc: 0.8744, auprc: 0.9071, accuracy: 0.5333, sensitivity: 0.6333, specificity: 1.0000, avg_train_loss: 0.3064, avg_val_loss: 0.3833\n"
     ]
    },
    {
     "name": "stderr",
     "output_type": "stream",
     "text": [
      "Epoch 18/30 - Avg train Loss: 0.299690: 100%|███| 15/15 [00:30<00:00,  2.00s/it]\n",
      "Epoch 18/30 - Avg val Loss: 0.335086: 100%|███████| 4/4 [00:06<00:00,  1.61s/it]\n"
     ]
    },
    {
     "name": "stdout",
     "output_type": "stream",
     "text": [
      "New best weights found at epoch 18 with validation loss: 0.3351. Model saved to models/silvery-sweep-11_2024-07-30_02-00.pth\n",
      "Epoch 18/30 Summary : Train Loss: 0.2997, Val Loss: 0.3351, LR: 1.00e-03, auroc: 0.8956, auprc: 0.9257, accuracy: 0.7167, sensitivity: 0.7667, specificity: 0.9333, avg_train_loss: 0.2997, avg_val_loss: 0.3351\n"
     ]
    },
    {
     "name": "stderr",
     "output_type": "stream",
     "text": [
      "Epoch 19/30 - Avg train Loss: 0.289268: 100%|███| 15/15 [00:30<00:00,  2.03s/it]\n",
      "Epoch 19/30 - Avg val Loss: 0.376976: 100%|███████| 4/4 [00:06<00:00,  1.68s/it]\n"
     ]
    },
    {
     "name": "stdout",
     "output_type": "stream",
     "text": [
      "Epoch 19/30 Summary : Train Loss: 0.2893, Val Loss: 0.3770, LR: 1.00e-03, auroc: 0.8533, auprc: 0.8800, accuracy: 0.7667, sensitivity: 0.8000, specificity: 0.8667, avg_train_loss: 0.2893, avg_val_loss: 0.3770\n"
     ]
    },
    {
     "name": "stderr",
     "output_type": "stream",
     "text": [
      "Epoch 20/30 - Avg train Loss: 0.282172: 100%|███| 15/15 [00:30<00:00,  2.05s/it]\n",
      "Epoch 20/30 - Avg val Loss: 0.419440: 100%|███████| 4/4 [00:06<00:00,  1.67s/it]\n"
     ]
    },
    {
     "name": "stdout",
     "output_type": "stream",
     "text": [
      "Epoch 20/30 Summary : Train Loss: 0.2822, Val Loss: 0.4194, LR: 1.00e-03, auroc: 0.8033, auprc: 0.7966, accuracy: 0.7333, sensitivity: 0.8000, specificity: 0.7333, avg_train_loss: 0.2822, avg_val_loss: 0.4194\n"
     ]
    },
    {
     "name": "stderr",
     "output_type": "stream",
     "text": [
      "Epoch 21/30 - Avg train Loss: 0.289614: 100%|███| 15/15 [00:30<00:00,  2.04s/it]\n",
      "Epoch 21/30 - Avg val Loss: 0.347869: 100%|███████| 4/4 [00:06<00:00,  1.68s/it]\n"
     ]
    },
    {
     "name": "stdout",
     "output_type": "stream",
     "text": [
      "Epoch 21/30 Summary : Train Loss: 0.2896, Val Loss: 0.3479, LR: 1.00e-03, auroc: 0.8878, auprc: 0.9086, accuracy: 0.5333, sensitivity: 0.8333, specificity: 0.8333, avg_train_loss: 0.2896, avg_val_loss: 0.3479\n"
     ]
    },
    {
     "name": "stderr",
     "output_type": "stream",
     "text": [
      "Epoch 22/30 - Avg train Loss: 0.282280: 100%|███| 15/15 [00:29<00:00,  1.97s/it]\n",
      "Epoch 22/30 - Avg val Loss: 0.349610: 100%|███████| 4/4 [00:06<00:00,  1.70s/it]\n"
     ]
    },
    {
     "name": "stdout",
     "output_type": "stream",
     "text": [
      "Epoch 22/30 Summary : Train Loss: 0.2823, Val Loss: 0.3496, LR: 1.00e-03, auroc: 0.8578, auprc: 0.8744, accuracy: 0.7500, sensitivity: 0.8667, specificity: 0.7667, avg_train_loss: 0.2823, avg_val_loss: 0.3496\n"
     ]
    },
    {
     "name": "stderr",
     "output_type": "stream",
     "text": [
      "Epoch 23/30 - Avg train Loss: 0.289513: 100%|███| 15/15 [00:29<00:00,  1.95s/it]\n",
      "Epoch 23/30 - Avg val Loss: 0.364113: 100%|███████| 4/4 [00:06<00:00,  1.68s/it]\n"
     ]
    },
    {
     "name": "stdout",
     "output_type": "stream",
     "text": [
      "Epoch 23/30 Summary : Train Loss: 0.2895, Val Loss: 0.3641, LR: 1.00e-03, auroc: 0.8167, auprc: 0.8241, accuracy: 0.6667, sensitivity: 0.9000, specificity: 0.7000, avg_train_loss: 0.2895, avg_val_loss: 0.3641\n"
     ]
    },
    {
     "name": "stderr",
     "output_type": "stream",
     "text": [
      "Epoch 24/30 - Avg train Loss: 0.263631: 100%|███| 15/15 [00:28<00:00,  1.93s/it]\n",
      "Epoch 24/30 - Avg val Loss: 0.393272: 100%|███████| 4/4 [00:06<00:00,  1.69s/it]\n"
     ]
    },
    {
     "name": "stdout",
     "output_type": "stream",
     "text": [
      "Epoch 24/30 Summary : Train Loss: 0.2636, Val Loss: 0.3933, LR: 1.00e-04, auroc: 0.9122, auprc: 0.9293, accuracy: 0.8333, sensitivity: 0.8333, specificity: 0.9000, avg_train_loss: 0.2636, avg_val_loss: 0.3933\n"
     ]
    },
    {
     "name": "stderr",
     "output_type": "stream",
     "text": [
      "Epoch 25/30 - Avg train Loss: 0.259800: 100%|███| 15/15 [00:28<00:00,  1.92s/it]\n",
      "Epoch 25/30 - Avg val Loss: 0.328017: 100%|███████| 4/4 [00:06<00:00,  1.66s/it]\n"
     ]
    },
    {
     "name": "stdout",
     "output_type": "stream",
     "text": [
      "New best weights found at epoch 25 with validation loss: 0.3280. Model saved to models/silvery-sweep-11_2024-07-30_02-00.pth\n",
      "Epoch 25/30 Summary : Train Loss: 0.2598, Val Loss: 0.3280, LR: 1.00e-04, auroc: 0.9111, auprc: 0.9275, accuracy: 0.7500, sensitivity: 0.8333, specificity: 0.9000, avg_train_loss: 0.2598, avg_val_loss: 0.3280\n"
     ]
    },
    {
     "name": "stderr",
     "output_type": "stream",
     "text": [
      "Epoch 26/30 - Avg train Loss: 0.261617: 100%|███| 15/15 [00:31<00:00,  2.08s/it]\n",
      "Epoch 26/30 - Avg val Loss: 0.330257: 100%|███████| 4/4 [00:06<00:00,  1.69s/it]\n"
     ]
    },
    {
     "name": "stdout",
     "output_type": "stream",
     "text": [
      "Epoch 26/30 Summary : Train Loss: 0.2616, Val Loss: 0.3303, LR: 1.00e-04, auroc: 0.8967, auprc: 0.9144, accuracy: 0.7000, sensitivity: 0.7667, specificity: 0.9333, avg_train_loss: 0.2616, avg_val_loss: 0.3303\n"
     ]
    },
    {
     "name": "stderr",
     "output_type": "stream",
     "text": [
      "Epoch 27/30 - Avg train Loss: 0.253602: 100%|███| 15/15 [00:30<00:00,  2.05s/it]\n",
      "Epoch 27/30 - Avg val Loss: 0.328176: 100%|███████| 4/4 [00:06<00:00,  1.68s/it]\n"
     ]
    },
    {
     "name": "stdout",
     "output_type": "stream",
     "text": [
      "Epoch 27/30 Summary : Train Loss: 0.2536, Val Loss: 0.3282, LR: 1.00e-04, auroc: 0.9044, auprc: 0.9205, accuracy: 0.6833, sensitivity: 0.7667, specificity: 0.9333, avg_train_loss: 0.2536, avg_val_loss: 0.3282\n"
     ]
    },
    {
     "name": "stderr",
     "output_type": "stream",
     "text": [
      "Epoch 28/30 - Avg train Loss: 0.254558: 100%|███| 15/15 [00:30<00:00,  2.04s/it]\n",
      "Epoch 28/30 - Avg val Loss: 0.329555: 100%|███████| 4/4 [00:06<00:00,  1.69s/it]\n"
     ]
    },
    {
     "name": "stdout",
     "output_type": "stream",
     "text": [
      "Epoch 28/30 Summary : Train Loss: 0.2546, Val Loss: 0.3296, LR: 1.00e-04, auroc: 0.9011, auprc: 0.9231, accuracy: 0.6833, sensitivity: 0.7667, specificity: 0.9333, avg_train_loss: 0.2546, avg_val_loss: 0.3296\n"
     ]
    },
    {
     "name": "stderr",
     "output_type": "stream",
     "text": [
      "Epoch 29/30 - Avg train Loss: 0.254758: 100%|███| 15/15 [00:30<00:00,  2.07s/it]\n",
      "Epoch 29/30 - Avg val Loss: 0.322307: 100%|███████| 4/4 [00:06<00:00,  1.52s/it]\n"
     ]
    },
    {
     "name": "stdout",
     "output_type": "stream",
     "text": [
      "New best weights found at epoch 29 with validation loss: 0.3223. Model saved to models/silvery-sweep-11_2024-07-30_02-00.pth\n",
      "Epoch 29/30 Summary : Train Loss: 0.2548, Val Loss: 0.3223, LR: 1.00e-04, auroc: 0.9100, auprc: 0.9305, accuracy: 0.7000, sensitivity: 0.7667, specificity: 0.9667, avg_train_loss: 0.2548, avg_val_loss: 0.3223\n"
     ]
    },
    {
     "name": "stderr",
     "output_type": "stream",
     "text": [
      "Epoch 30/30 - Avg train Loss: 0.248020: 100%|███| 15/15 [00:30<00:00,  2.00s/it]\n",
      "Epoch 30/30 - Avg val Loss: 0.321817: 100%|███████| 4/4 [00:06<00:00,  1.70s/it]\n"
     ]
    },
    {
     "name": "stdout",
     "output_type": "stream",
     "text": [
      "New best weights found at epoch 30 with validation loss: 0.3218. Model saved to models/silvery-sweep-11_2024-07-30_02-00.pth\n",
      "Epoch 30/30 Summary : Train Loss: 0.2480, Val Loss: 0.3218, LR: 1.00e-04, auroc: 0.9078, auprc: 0.9260, accuracy: 0.7333, sensitivity: 0.7667, specificity: 0.9333, avg_train_loss: 0.2480, avg_val_loss: 0.3218\n"
     ]
    },
    {
     "data": {
      "application/vnd.jupyter.widget-view+json": {
       "model_id": "",
       "version_major": 2,
       "version_minor": 0
      },
      "text/plain": [
       "VBox(children=(Label(value='0.008 MB of 0.008 MB uploaded\\r'), FloatProgress(value=1.0, max=1.0)))"
      ]
     },
     "metadata": {},
     "output_type": "display_data"
    },
    {
     "data": {
      "text/html": [
       "<style>\n",
       "    table.wandb td:nth-child(1) { padding: 0 10px; text-align: left ; width: auto;} td:nth-child(2) {text-align: left ; width: 100%}\n",
       "    .wandb-row { display: flex; flex-direction: row; flex-wrap: wrap; justify-content: flex-start; width: 100% }\n",
       "    .wandb-col { display: flex; flex-direction: column; flex-basis: 100%; flex: 1; padding: 10px; }\n",
       "    </style>\n",
       "<div class=\"wandb-row\"><div class=\"wandb-col\"><h3>Run history:</h3><br/><table class=\"wandb\"><tr><td>accuracy</td><td>▂▃▂▁▅▆▆▆▂▂▅▁▂▅▂▇▂▆▇▆▂▆▅█▆▅▅▅▅▆</td></tr><tr><td>auprc</td><td>▄▃▅▁▆▆▆▇▃▆▆▁▇▅▇███▇▆█▇▆███████</td></tr><tr><td>auroc</td><td>▄▃▅▁▅▆▆▇▃▅▆▁▇▆▆█▇█▇▆▇▇▆███████</td></tr><tr><td>avg_train_loss</td><td>█▄▃▃▃▃▂▃▂▂▃▂▂▂▂▂▂▂▂▂▂▂▂▁▁▁▁▁▁▁</td></tr><tr><td>avg_val_loss</td><td>█▂▂▂▂▂▂▂▂▂▂▂▁▂▁▂▂▁▁▂▁▁▁▂▁▁▁▁▁▁</td></tr><tr><td>sensitivity</td><td>▁▃▆▄▆▆▃█▆▇█▅▇█▄▆▄▆▆▆▇▇█▇▇▆▆▆▆▆</td></tr><tr><td>specificity</td><td>█▆▄▂▄▆█▄▂▅▃▁▅▃▇▇█▇▆▅▆▅▄▇▇▇▇▇█▇</td></tr></table><br/></div><div class=\"wandb-col\"><h3>Run summary:</h3><br/><table class=\"wandb\"><tr><td>accuracy</td><td>0.73333</td></tr><tr><td>auprc</td><td>0.92604</td></tr><tr><td>auroc</td><td>0.90778</td></tr><tr><td>avg_train_loss</td><td>0.24802</td></tr><tr><td>avg_val_loss</td><td>0.32182</td></tr><tr><td>sensitivity</td><td>0.76667</td></tr><tr><td>specificity</td><td>0.93333</td></tr></table><br/></div></div>"
      ],
      "text/plain": [
       "<IPython.core.display.HTML object>"
      ]
     },
     "metadata": {},
     "output_type": "display_data"
    },
    {
     "data": {
      "text/html": [
       " View run <strong style=\"color:#cdcd00\">silvery-sweep-11</strong> at: <a href='https://wandb.ai/miccai-challenge-2024/task2/runs/9f75oq1x' target=\"_blank\">https://wandb.ai/miccai-challenge-2024/task2/runs/9f75oq1x</a><br/> View project at: <a href='https://wandb.ai/miccai-challenge-2024/task2' target=\"_blank\">https://wandb.ai/miccai-challenge-2024/task2</a><br/>Synced 6 W&B file(s), 0 media file(s), 0 artifact file(s) and 0 other file(s)"
      ],
      "text/plain": [
       "<IPython.core.display.HTML object>"
      ]
     },
     "metadata": {},
     "output_type": "display_data"
    },
    {
     "data": {
      "text/html": [
       "Find logs at: <code>./wandb/run-20240730_020048-9f75oq1x/logs</code>"
      ],
      "text/plain": [
       "<IPython.core.display.HTML object>"
      ]
     },
     "metadata": {},
     "output_type": "display_data"
    },
    {
     "name": "stdout",
     "output_type": "stream",
     "text": [
      "Finished training\n"
     ]
    },
    {
     "name": "stderr",
     "output_type": "stream",
     "text": [
      "\u001b[34m\u001b[1mwandb\u001b[0m: Agent Starting Run: tqdy1r2w with config:\n",
      "\u001b[34m\u001b[1mwandb\u001b[0m: \tbatch_size: 16\n",
      "\u001b[34m\u001b[1mwandb\u001b[0m: \tepochs: 30\n",
      "\u001b[34m\u001b[1mwandb\u001b[0m: \tloss_weight: 0.5\n",
      "\u001b[34m\u001b[1mwandb\u001b[0m: \tlr: 0.001\n",
      "\u001b[34m\u001b[1mwandb\u001b[0m: \tlr_schedule_factor: 0.1\n",
      "\u001b[34m\u001b[1mwandb\u001b[0m: \tlr_schedule_patience: 5\n",
      "\u001b[34m\u001b[1mwandb\u001b[0m: \tmodel: ResNet\n",
      "\u001b[34m\u001b[1mwandb\u001b[0m: \tp_affine: 0.3\n",
      "\u001b[34m\u001b[1mwandb\u001b[0m: \tp_clahe: 1\n",
      "\u001b[34m\u001b[1mwandb\u001b[0m: \tp_equalize: 0\n",
      "\u001b[34m\u001b[1mwandb\u001b[0m: \tp_gaussblur: 1\n",
      "\u001b[34m\u001b[1mwandb\u001b[0m: \tp_horizontalflip: 0.5\n",
      "\u001b[34m\u001b[1mwandb\u001b[0m: \tresampling_strategy: undersampling\n",
      "\u001b[34m\u001b[1mwandb\u001b[0m: \trotation: 10\n",
      "\u001b[34m\u001b[1mwandb\u001b[0m: \u001b[33mWARNING\u001b[0m Ignored wandb.init() arg project when running a sweep.\n"
     ]
    },
    {
     "data": {
      "text/html": [
       "wandb version 0.17.5 is available!  To upgrade, please run:\n",
       " $ pip install wandb --upgrade"
      ],
      "text/plain": [
       "<IPython.core.display.HTML object>"
      ]
     },
     "metadata": {},
     "output_type": "display_data"
    },
    {
     "data": {
      "text/html": [
       "Tracking run with wandb version 0.17.0"
      ],
      "text/plain": [
       "<IPython.core.display.HTML object>"
      ]
     },
     "metadata": {},
     "output_type": "display_data"
    },
    {
     "data": {
      "text/html": [
       "Run data is saved locally in <code>/home/optima/mhaderer/AILS-MICCAI-UWF4DR-Challenge/wandb/run-20240730_021931-tqdy1r2w</code>"
      ],
      "text/plain": [
       "<IPython.core.display.HTML object>"
      ]
     },
     "metadata": {},
     "output_type": "display_data"
    },
    {
     "data": {
      "text/html": [
       "Syncing run <strong><a href='https://wandb.ai/miccai-challenge-2024/task2/runs/tqdy1r2w' target=\"_blank\">lively-sweep-12</a></strong> to <a href='https://wandb.ai/miccai-challenge-2024/task2' target=\"_blank\">Weights & Biases</a> (<a href='https://wandb.me/run' target=\"_blank\">docs</a>)<br/>Sweep page: <a href='https://wandb.ai/miccai-challenge-2024/task2/sweeps/f4v5vt07' target=\"_blank\">https://wandb.ai/miccai-challenge-2024/task2/sweeps/f4v5vt07</a>"
      ],
      "text/plain": [
       "<IPython.core.display.HTML object>"
      ]
     },
     "metadata": {},
     "output_type": "display_data"
    },
    {
     "data": {
      "text/html": [
       " View project at <a href='https://wandb.ai/miccai-challenge-2024/task2' target=\"_blank\">https://wandb.ai/miccai-challenge-2024/task2</a>"
      ],
      "text/plain": [
       "<IPython.core.display.HTML object>"
      ]
     },
     "metadata": {},
     "output_type": "display_data"
    },
    {
     "data": {
      "text/html": [
       " View sweep at <a href='https://wandb.ai/miccai-challenge-2024/task2/sweeps/f4v5vt07' target=\"_blank\">https://wandb.ai/miccai-challenge-2024/task2/sweeps/f4v5vt07</a>"
      ],
      "text/plain": [
       "<IPython.core.display.HTML object>"
      ]
     },
     "metadata": {},
     "output_type": "display_data"
    },
    {
     "data": {
      "text/html": [
       " View run at <a href='https://wandb.ai/miccai-challenge-2024/task2/runs/tqdy1r2w' target=\"_blank\">https://wandb.ai/miccai-challenge-2024/task2/runs/tqdy1r2w</a>"
      ],
      "text/plain": [
       "<IPython.core.display.HTML object>"
      ]
     },
     "metadata": {},
     "output_type": "display_data"
    },
    {
     "name": "stdout",
     "output_type": "stream",
     "text": [
      "Using device: cuda\n",
      "Number of output features in resnet18 encoder:  1\n"
     ]
    },
    {
     "name": "stderr",
     "output_type": "stream",
     "text": [
      "Using cache found in /home/optima/mhaderer/.cache/torch/hub/pytorch_vision_v0.10.0\n"
     ]
    },
    {
     "name": "stdout",
     "output_type": "stream",
     "text": [
      "Now train train train\n"
     ]
    },
    {
     "name": "stderr",
     "output_type": "stream",
     "text": [
      "Epoch 1/30 - Avg train Loss: 0.635651: 100%|████| 15/15 [00:44<00:00,  2.95s/it]\n",
      "Epoch 1/30 - Avg val Loss: 4.002787: 100%|████████| 4/4 [00:05<00:00,  1.48s/it]\n"
     ]
    },
    {
     "name": "stdout",
     "output_type": "stream",
     "text": [
      "New best weights found at epoch 1 with validation loss: 4.0028. Model saved to models/lively-sweep-12_2024-07-30_02-19.pth\n",
      "Epoch 1/30 Summary : Train Loss: 0.6357, Val Loss: 4.0028, LR: 1.00e-03, auroc: 0.4211, auprc: 0.4731, accuracy: 0.5000, sensitivity: 0.0333, specificity: 1.0000, avg_train_loss: 0.6357, avg_val_loss: 4.0028\n"
     ]
    },
    {
     "name": "stderr",
     "output_type": "stream",
     "text": [
      "Epoch 2/30 - Avg train Loss: 0.374539: 100%|████| 15/15 [00:44<00:00,  2.94s/it]\n",
      "Epoch 2/30 - Avg val Loss: 0.572012: 100%|████████| 4/4 [00:05<00:00,  1.47s/it]\n"
     ]
    },
    {
     "name": "stdout",
     "output_type": "stream",
     "text": [
      "New best weights found at epoch 2 with validation loss: 0.5720. Model saved to models/lively-sweep-12_2024-07-30_02-19.pth\n",
      "Epoch 2/30 Summary : Train Loss: 0.3745, Val Loss: 0.5720, LR: 1.00e-03, auroc: 0.3511, auprc: 0.4487, accuracy: 0.5000, sensitivity: 0.1000, specificity: 0.9333, avg_train_loss: 0.3745, avg_val_loss: 0.5720\n"
     ]
    },
    {
     "name": "stderr",
     "output_type": "stream",
     "text": [
      "Epoch 3/30 - Avg train Loss: 0.375346: 100%|████| 15/15 [00:44<00:00,  2.98s/it]\n",
      "Epoch 3/30 - Avg val Loss: 0.399762: 100%|████████| 4/4 [00:05<00:00,  1.46s/it]\n"
     ]
    },
    {
     "name": "stdout",
     "output_type": "stream",
     "text": [
      "New best weights found at epoch 3 with validation loss: 0.3998. Model saved to models/lively-sweep-12_2024-07-30_02-19.pth\n",
      "Epoch 3/30 Summary : Train Loss: 0.3753, Val Loss: 0.3998, LR: 1.00e-03, auroc: 0.8044, auprc: 0.8563, accuracy: 0.5000, sensitivity: 0.5667, specificity: 1.0000, avg_train_loss: 0.3753, avg_val_loss: 0.3998\n"
     ]
    },
    {
     "name": "stderr",
     "output_type": "stream",
     "text": [
      "Epoch 4/30 - Avg train Loss: 0.369475: 100%|████| 15/15 [00:44<00:00,  2.95s/it]\n",
      "Epoch 4/30 - Avg val Loss: 0.682542: 100%|████████| 4/4 [00:05<00:00,  1.42s/it]\n"
     ]
    },
    {
     "name": "stdout",
     "output_type": "stream",
     "text": [
      "Epoch 4/30 Summary : Train Loss: 0.3695, Val Loss: 0.6825, LR: 1.00e-03, auroc: 0.5878, auprc: 0.5972, accuracy: 0.5000, sensitivity: 0.8000, specificity: 0.4333, avg_train_loss: 0.3695, avg_val_loss: 0.6825\n"
     ]
    },
    {
     "name": "stderr",
     "output_type": "stream",
     "text": [
      "Epoch 5/30 - Avg train Loss: 0.359698: 100%|████| 15/15 [00:43<00:00,  2.91s/it]\n",
      "Epoch 5/30 - Avg val Loss: 0.401972: 100%|████████| 4/4 [00:06<00:00,  1.52s/it]\n"
     ]
    },
    {
     "name": "stdout",
     "output_type": "stream",
     "text": [
      "Epoch 5/30 Summary : Train Loss: 0.3597, Val Loss: 0.4020, LR: 1.00e-03, auroc: 0.7911, auprc: 0.8225, accuracy: 0.5833, sensitivity: 0.7000, specificity: 0.9333, avg_train_loss: 0.3597, avg_val_loss: 0.4020\n"
     ]
    },
    {
     "name": "stderr",
     "output_type": "stream",
     "text": [
      "Epoch 6/30 - Avg train Loss: 0.346538: 100%|████| 15/15 [00:42<00:00,  2.81s/it]\n",
      "Epoch 6/30 - Avg val Loss: 0.676959: 100%|████████| 4/4 [00:05<00:00,  1.41s/it]\n"
     ]
    },
    {
     "name": "stdout",
     "output_type": "stream",
     "text": [
      "Epoch 6/30 Summary : Train Loss: 0.3465, Val Loss: 0.6770, LR: 1.00e-03, auroc: 0.6911, auprc: 0.6971, accuracy: 0.5000, sensitivity: 0.8000, specificity: 0.6000, avg_train_loss: 0.3465, avg_val_loss: 0.6770\n"
     ]
    },
    {
     "name": "stderr",
     "output_type": "stream",
     "text": [
      "Epoch 7/30 - Avg train Loss: 0.340494: 100%|████| 15/15 [00:42<00:00,  2.83s/it]\n",
      "Epoch 7/30 - Avg val Loss: 0.420435: 100%|████████| 4/4 [00:06<00:00,  1.54s/it]\n"
     ]
    },
    {
     "name": "stdout",
     "output_type": "stream",
     "text": [
      "Epoch 7/30 Summary : Train Loss: 0.3405, Val Loss: 0.4204, LR: 1.00e-03, auroc: 0.6178, auprc: 0.6764, accuracy: 0.5000, sensitivity: 0.3667, specificity: 0.9667, avg_train_loss: 0.3405, avg_val_loss: 0.4204\n"
     ]
    },
    {
     "name": "stderr",
     "output_type": "stream",
     "text": [
      "Epoch 8/30 - Avg train Loss: 0.332895: 100%|████| 15/15 [00:43<00:00,  2.89s/it]\n",
      "Epoch 8/30 - Avg val Loss: 0.419180: 100%|████████| 4/4 [00:05<00:00,  1.43s/it]\n"
     ]
    },
    {
     "name": "stdout",
     "output_type": "stream",
     "text": [
      "Epoch 8/30 Summary : Train Loss: 0.3329, Val Loss: 0.4192, LR: 1.00e-03, auroc: 0.7500, auprc: 0.7910, accuracy: 0.7000, sensitivity: 0.5667, specificity: 0.8667, avg_train_loss: 0.3329, avg_val_loss: 0.4192\n"
     ]
    },
    {
     "name": "stderr",
     "output_type": "stream",
     "text": [
      "Epoch 9/30 - Avg train Loss: 0.337733: 100%|████| 15/15 [00:43<00:00,  2.89s/it]\n",
      "Epoch 9/30 - Avg val Loss: 1.421200: 100%|████████| 4/4 [00:05<00:00,  1.43s/it]\n"
     ]
    },
    {
     "name": "stdout",
     "output_type": "stream",
     "text": [
      "Epoch 9/30 Summary : Train Loss: 0.3377, Val Loss: 1.4212, LR: 1.00e-04, auroc: 0.4044, auprc: 0.4567, accuracy: 0.5000, sensitivity: 0.3667, specificity: 0.6667, avg_train_loss: 0.3377, avg_val_loss: 1.4212\n"
     ]
    },
    {
     "name": "stderr",
     "output_type": "stream",
     "text": [
      "Epoch 10/30 - Avg train Loss: 0.313308: 100%|███| 15/15 [00:43<00:00,  2.89s/it]\n",
      "Epoch 10/30 - Avg val Loss: 0.601771: 100%|███████| 4/4 [00:05<00:00,  1.45s/it]\n"
     ]
    },
    {
     "name": "stdout",
     "output_type": "stream",
     "text": [
      "Epoch 10/30 Summary : Train Loss: 0.3133, Val Loss: 0.6018, LR: 1.00e-04, auroc: 0.4756, auprc: 0.4908, accuracy: 0.5000, sensitivity: 0.5000, specificity: 0.6333, avg_train_loss: 0.3133, avg_val_loss: 0.6018\n"
     ]
    },
    {
     "name": "stderr",
     "output_type": "stream",
     "text": [
      "Epoch 11/30 - Avg train Loss: 0.312813: 100%|███| 15/15 [00:43<00:00,  2.91s/it]\n",
      "Epoch 11/30 - Avg val Loss: 0.555665: 100%|███████| 4/4 [00:05<00:00,  1.42s/it]\n"
     ]
    },
    {
     "name": "stdout",
     "output_type": "stream",
     "text": [
      "Epoch 11/30 Summary : Train Loss: 0.3128, Val Loss: 0.5557, LR: 1.00e-04, auroc: 0.4933, auprc: 0.5248, accuracy: 0.5000, sensitivity: 0.5000, specificity: 0.6333, avg_train_loss: 0.3128, avg_val_loss: 0.5557\n"
     ]
    },
    {
     "name": "stderr",
     "output_type": "stream",
     "text": [
      "Epoch 12/30 - Avg train Loss: 0.295561: 100%|███| 15/15 [00:43<00:00,  2.90s/it]\n",
      "Epoch 12/30 - Avg val Loss: 0.442196: 100%|███████| 4/4 [00:05<00:00,  1.44s/it]\n"
     ]
    },
    {
     "name": "stdout",
     "output_type": "stream",
     "text": [
      "Epoch 12/30 Summary : Train Loss: 0.2956, Val Loss: 0.4422, LR: 1.00e-04, auroc: 0.5411, auprc: 0.5698, accuracy: 0.4833, sensitivity: 0.5667, specificity: 0.6000, avg_train_loss: 0.2956, avg_val_loss: 0.4422\n"
     ]
    },
    {
     "name": "stderr",
     "output_type": "stream",
     "text": [
      "Epoch 13/30 - Avg train Loss: 0.309337: 100%|███| 15/15 [00:43<00:00,  2.87s/it]\n",
      "Epoch 13/30 - Avg val Loss: 0.435347: 100%|███████| 4/4 [00:05<00:00,  1.46s/it]\n"
     ]
    },
    {
     "name": "stdout",
     "output_type": "stream",
     "text": [
      "Epoch 13/30 Summary : Train Loss: 0.3093, Val Loss: 0.4353, LR: 1.00e-04, auroc: 0.5522, auprc: 0.5678, accuracy: 0.5000, sensitivity: 0.6667, specificity: 0.5667, avg_train_loss: 0.3093, avg_val_loss: 0.4353\n"
     ]
    },
    {
     "name": "stderr",
     "output_type": "stream",
     "text": [
      "Epoch 14/30 - Avg train Loss: 0.289326: 100%|███| 15/15 [00:45<00:00,  3.03s/it]\n",
      "Epoch 14/30 - Avg val Loss: 0.475837: 100%|███████| 4/4 [00:06<00:00,  1.60s/it]\n"
     ]
    },
    {
     "name": "stdout",
     "output_type": "stream",
     "text": [
      "Epoch 14/30 Summary : Train Loss: 0.2893, Val Loss: 0.4758, LR: 1.00e-04, auroc: 0.5267, auprc: 0.5286, accuracy: 0.5000, sensitivity: 0.6667, specificity: 0.5333, avg_train_loss: 0.2893, avg_val_loss: 0.4758\n"
     ]
    },
    {
     "name": "stderr",
     "output_type": "stream",
     "text": [
      "Epoch 15/30 - Avg train Loss: 0.291193: 100%|███| 15/15 [00:44<00:00,  2.95s/it]\n",
      "Epoch 15/30 - Avg val Loss: 0.446191: 100%|███████| 4/4 [00:06<00:00,  1.51s/it]\n"
     ]
    },
    {
     "name": "stdout",
     "output_type": "stream",
     "text": [
      "Epoch 15/30 Summary : Train Loss: 0.2912, Val Loss: 0.4462, LR: 1.00e-05, auroc: 0.5622, auprc: 0.5761, accuracy: 0.4667, sensitivity: 0.7000, specificity: 0.5667, avg_train_loss: 0.2912, avg_val_loss: 0.4462\n"
     ]
    },
    {
     "name": "stderr",
     "output_type": "stream",
     "text": [
      "Epoch 16/30 - Avg train Loss: 0.300379: 100%|███| 15/15 [00:41<00:00,  2.75s/it]\n",
      "Epoch 16/30 - Avg val Loss: 0.448922: 100%|███████| 4/4 [00:05<00:00,  1.30s/it]\n"
     ]
    },
    {
     "name": "stdout",
     "output_type": "stream",
     "text": [
      "Epoch 16/30 Summary : Train Loss: 0.3004, Val Loss: 0.4489, LR: 1.00e-05, auroc: 0.5678, auprc: 0.5792, accuracy: 0.4833, sensitivity: 0.6333, specificity: 0.5667, avg_train_loss: 0.3004, avg_val_loss: 0.4489\n"
     ]
    },
    {
     "name": "stderr",
     "output_type": "stream",
     "text": [
      "Epoch 17/30 - Avg train Loss: 0.293290: 100%|███| 15/15 [00:40<00:00,  2.70s/it]\n",
      "Epoch 17/30 - Avg val Loss: 0.447003: 100%|███████| 4/4 [00:05<00:00,  1.45s/it]\n"
     ]
    },
    {
     "name": "stdout",
     "output_type": "stream",
     "text": [
      "Epoch 17/30 Summary : Train Loss: 0.2933, Val Loss: 0.4470, LR: 1.00e-05, auroc: 0.5744, auprc: 0.5852, accuracy: 0.4667, sensitivity: 0.7000, specificity: 0.5333, avg_train_loss: 0.2933, avg_val_loss: 0.4470\n"
     ]
    },
    {
     "name": "stderr",
     "output_type": "stream",
     "text": [
      "Epoch 18/30 - Avg train Loss: 0.297028: 100%|███| 15/15 [00:44<00:00,  2.95s/it]\n",
      "Epoch 18/30 - Avg val Loss: 0.448458: 100%|███████| 4/4 [00:05<00:00,  1.46s/it]\n"
     ]
    },
    {
     "name": "stdout",
     "output_type": "stream",
     "text": [
      "Epoch 18/30 Summary : Train Loss: 0.2970, Val Loss: 0.4485, LR: 1.00e-05, auroc: 0.5811, auprc: 0.5887, accuracy: 0.4833, sensitivity: 0.7000, specificity: 0.5333, avg_train_loss: 0.2970, avg_val_loss: 0.4485\n"
     ]
    },
    {
     "name": "stderr",
     "output_type": "stream",
     "text": [
      "Epoch 19/30 - Avg train Loss: 0.289357: 100%|███| 15/15 [00:43<00:00,  2.92s/it]\n",
      "Epoch 19/30 - Avg val Loss: 0.450408: 100%|███████| 4/4 [00:05<00:00,  1.42s/it]\n"
     ]
    },
    {
     "name": "stdout",
     "output_type": "stream",
     "text": [
      "Epoch 19/30 Summary : Train Loss: 0.2894, Val Loss: 0.4504, LR: 1.00e-05, auroc: 0.5689, auprc: 0.5648, accuracy: 0.4833, sensitivity: 0.7333, specificity: 0.5333, avg_train_loss: 0.2894, avg_val_loss: 0.4504\n"
     ]
    },
    {
     "name": "stderr",
     "output_type": "stream",
     "text": [
      "Epoch 20/30 - Avg train Loss: 0.289989: 100%|███| 15/15 [00:42<00:00,  2.84s/it]\n",
      "Epoch 20/30 - Avg val Loss: 0.444288: 100%|███████| 4/4 [00:05<00:00,  1.46s/it]\n"
     ]
    },
    {
     "name": "stdout",
     "output_type": "stream",
     "text": [
      "Epoch 20/30 Summary : Train Loss: 0.2900, Val Loss: 0.4443, LR: 1.00e-05, auroc: 0.5789, auprc: 0.5892, accuracy: 0.4667, sensitivity: 0.7333, specificity: 0.5333, avg_train_loss: 0.2900, avg_val_loss: 0.4443\n"
     ]
    },
    {
     "name": "stderr",
     "output_type": "stream",
     "text": [
      "Epoch 21/30 - Avg train Loss: 0.290637: 100%|███| 15/15 [00:45<00:00,  3.01s/it]\n",
      "Epoch 21/30 - Avg val Loss: 0.442525: 100%|███████| 4/4 [00:06<00:00,  1.60s/it]\n"
     ]
    },
    {
     "name": "stdout",
     "output_type": "stream",
     "text": [
      "Epoch 21/30 Summary : Train Loss: 0.2906, Val Loss: 0.4425, LR: 1.00e-06, auroc: 0.5800, auprc: 0.5738, accuracy: 0.4667, sensitivity: 0.7333, specificity: 0.5667, avg_train_loss: 0.2906, avg_val_loss: 0.4425\n"
     ]
    },
    {
     "name": "stderr",
     "output_type": "stream",
     "text": [
      "Epoch 22/30 - Avg train Loss: 0.290057: 100%|███| 15/15 [00:44<00:00,  2.97s/it]\n",
      "Epoch 22/30 - Avg val Loss: 0.447342: 100%|███████| 4/4 [00:06<00:00,  1.54s/it]\n"
     ]
    },
    {
     "name": "stdout",
     "output_type": "stream",
     "text": [
      "Epoch 22/30 Summary : Train Loss: 0.2901, Val Loss: 0.4473, LR: 1.00e-06, auroc: 0.5700, auprc: 0.5670, accuracy: 0.4667, sensitivity: 0.7000, specificity: 0.5667, avg_train_loss: 0.2901, avg_val_loss: 0.4473\n"
     ]
    },
    {
     "name": "stderr",
     "output_type": "stream",
     "text": [
      "Epoch 23/30 - Avg train Loss: 0.286702: 100%|███| 15/15 [00:45<00:00,  3.07s/it]\n",
      "Epoch 23/30 - Avg val Loss: 0.447190: 100%|███████| 4/4 [00:06<00:00,  1.61s/it]\n"
     ]
    },
    {
     "name": "stdout",
     "output_type": "stream",
     "text": [
      "Epoch 23/30 Summary : Train Loss: 0.2867, Val Loss: 0.4472, LR: 1.00e-06, auroc: 0.5767, auprc: 0.5716, accuracy: 0.4667, sensitivity: 0.7000, specificity: 0.5667, avg_train_loss: 0.2867, avg_val_loss: 0.4472\n"
     ]
    },
    {
     "name": "stderr",
     "output_type": "stream",
     "text": [
      "Epoch 24/30 - Avg train Loss: 0.298387: 100%|███| 15/15 [00:45<00:00,  3.02s/it]\n",
      "Epoch 24/30 - Avg val Loss: 0.446763: 100%|███████| 4/4 [00:06<00:00,  1.62s/it]\n"
     ]
    },
    {
     "name": "stdout",
     "output_type": "stream",
     "text": [
      "Epoch 24/30 Summary : Train Loss: 0.2984, Val Loss: 0.4468, LR: 1.00e-06, auroc: 0.5767, auprc: 0.5725, accuracy: 0.4667, sensitivity: 0.7333, specificity: 0.5667, avg_train_loss: 0.2984, avg_val_loss: 0.4468\n"
     ]
    },
    {
     "name": "stderr",
     "output_type": "stream",
     "text": [
      "Epoch 25/30 - Avg train Loss: 0.296100: 100%|███| 15/15 [00:46<00:00,  3.07s/it]\n",
      "Epoch 25/30 - Avg val Loss: 0.442619: 100%|███████| 4/4 [00:06<00:00,  1.53s/it]\n"
     ]
    },
    {
     "name": "stdout",
     "output_type": "stream",
     "text": [
      "Epoch 25/30 Summary : Train Loss: 0.2961, Val Loss: 0.4426, LR: 1.00e-06, auroc: 0.5800, auprc: 0.5738, accuracy: 0.4667, sensitivity: 0.7333, specificity: 0.5667, avg_train_loss: 0.2961, avg_val_loss: 0.4426\n"
     ]
    },
    {
     "name": "stderr",
     "output_type": "stream",
     "text": [
      "Epoch 26/30 - Avg train Loss: 0.292131: 100%|███| 15/15 [00:45<00:00,  3.01s/it]\n",
      "Epoch 26/30 - Avg val Loss: 0.450394: 100%|███████| 4/4 [00:06<00:00,  1.62s/it]\n"
     ]
    },
    {
     "name": "stdout",
     "output_type": "stream",
     "text": [
      "Epoch 26/30 Summary : Train Loss: 0.2921, Val Loss: 0.4504, LR: 1.00e-06, auroc: 0.5667, auprc: 0.5644, accuracy: 0.4667, sensitivity: 0.7000, specificity: 0.5667, avg_train_loss: 0.2921, avg_val_loss: 0.4504\n"
     ]
    },
    {
     "name": "stderr",
     "output_type": "stream",
     "text": [
      "Epoch 27/30 - Avg train Loss: 0.284722: 100%|███| 15/15 [00:46<00:00,  3.08s/it]\n",
      "Epoch 27/30 - Avg val Loss: 0.449666: 100%|███████| 4/4 [00:06<00:00,  1.54s/it]\n"
     ]
    },
    {
     "name": "stdout",
     "output_type": "stream",
     "text": [
      "Epoch 27/30 Summary : Train Loss: 0.2847, Val Loss: 0.4497, LR: 1.00e-07, auroc: 0.5633, auprc: 0.5625, accuracy: 0.4667, sensitivity: 0.7000, specificity: 0.5667, avg_train_loss: 0.2847, avg_val_loss: 0.4497\n"
     ]
    },
    {
     "name": "stderr",
     "output_type": "stream",
     "text": [
      "Epoch 28/30 - Avg train Loss: 0.290258: 100%|███| 15/15 [00:46<00:00,  3.13s/it]\n",
      "Epoch 28/30 - Avg val Loss: 0.446998: 100%|███████| 4/4 [00:06<00:00,  1.59s/it]\n"
     ]
    },
    {
     "name": "stdout",
     "output_type": "stream",
     "text": [
      "Epoch 28/30 Summary : Train Loss: 0.2903, Val Loss: 0.4470, LR: 1.00e-07, auroc: 0.5733, auprc: 0.5692, accuracy: 0.4667, sensitivity: 0.7000, specificity: 0.5667, avg_train_loss: 0.2903, avg_val_loss: 0.4470\n"
     ]
    },
    {
     "name": "stderr",
     "output_type": "stream",
     "text": [
      "Epoch 29/30 - Avg train Loss: 0.293022: 100%|███| 15/15 [00:45<00:00,  3.01s/it]\n",
      "Epoch 29/30 - Avg val Loss: 0.447752: 100%|███████| 4/4 [00:06<00:00,  1.58s/it]\n"
     ]
    },
    {
     "name": "stdout",
     "output_type": "stream",
     "text": [
      "Epoch 29/30 Summary : Train Loss: 0.2930, Val Loss: 0.4478, LR: 1.00e-07, auroc: 0.5744, auprc: 0.5707, accuracy: 0.4667, sensitivity: 0.7000, specificity: 0.5667, avg_train_loss: 0.2930, avg_val_loss: 0.4478\n"
     ]
    },
    {
     "name": "stderr",
     "output_type": "stream",
     "text": [
      "Epoch 30/30 - Avg train Loss: 0.291678: 100%|███| 15/15 [00:44<00:00,  2.95s/it]\n",
      "Epoch 30/30 - Avg val Loss: 0.444019: 100%|███████| 4/4 [00:05<00:00,  1.43s/it]\n"
     ]
    },
    {
     "name": "stdout",
     "output_type": "stream",
     "text": [
      "Epoch 30/30 Summary : Train Loss: 0.2917, Val Loss: 0.4440, LR: 1.00e-07, auroc: 0.5789, auprc: 0.5896, accuracy: 0.4667, sensitivity: 0.7333, specificity: 0.5667, avg_train_loss: 0.2917, avg_val_loss: 0.4440\n"
     ]
    },
    {
     "data": {
      "application/vnd.jupyter.widget-view+json": {
       "model_id": "",
       "version_major": 2,
       "version_minor": 0
      },
      "text/plain": [
       "VBox(children=(Label(value='0.008 MB of 0.008 MB uploaded\\r'), FloatProgress(value=1.0, max=1.0)))"
      ]
     },
     "metadata": {},
     "output_type": "display_data"
    },
    {
     "data": {
      "text/html": [
       "<style>\n",
       "    table.wandb td:nth-child(1) { padding: 0 10px; text-align: left ; width: auto;} td:nth-child(2) {text-align: left ; width: 100%}\n",
       "    .wandb-row { display: flex; flex-direction: row; flex-wrap: wrap; justify-content: flex-start; width: 100% }\n",
       "    .wandb-col { display: flex; flex-direction: column; flex-basis: 100%; flex: 1; padding: 10px; }\n",
       "    </style>\n",
       "<div class=\"wandb-row\"><div class=\"wandb-col\"><h3>Run history:</h3><br/><table class=\"wandb\"><tr><td>accuracy</td><td>▂▂▂▂▄▂▂█▂▂▂▁▂▂▁▁▁▁▁▁▁▁▁▁▁▁▁▁▁▁</td></tr><tr><td>auprc</td><td>▁▁█▄▇▅▅▇▁▂▂▃▃▂▃▃▃▃▃▃▃▃▃▃▃▃▃▃▃▃</td></tr><tr><td>auroc</td><td>▂▁█▅█▆▅▇▂▃▃▄▄▄▄▄▄▅▄▅▅▄▄▄▅▄▄▄▄▅</td></tr><tr><td>avg_train_loss</td><td>█▃▃▃▂▂▂▂▂▂▂▁▁▁▁▁▁▁▁▁▁▁▁▁▁▁▁▁▁▁</td></tr><tr><td>avg_val_loss</td><td>█▁▁▂▁▂▁▁▃▁▁▁▁▁▁▁▁▁▁▁▁▁▁▁▁▁▁▁▁▁</td></tr><tr><td>sensitivity</td><td>▁▂▆█▇█▄▆▄▅▅▆▇▇▇▆▇▇▇▇▇▇▇▇▇▇▇▇▇▇</td></tr><tr><td>specificity</td><td>█▇█▁▇▃█▆▄▃▃▃▃▂▃▃▂▂▂▂▃▃▃▃▃▃▃▃▃▃</td></tr></table><br/></div><div class=\"wandb-col\"><h3>Run summary:</h3><br/><table class=\"wandb\"><tr><td>accuracy</td><td>0.46667</td></tr><tr><td>auprc</td><td>0.58959</td></tr><tr><td>auroc</td><td>0.57889</td></tr><tr><td>avg_train_loss</td><td>0.29168</td></tr><tr><td>avg_val_loss</td><td>0.44402</td></tr><tr><td>sensitivity</td><td>0.73333</td></tr><tr><td>specificity</td><td>0.56667</td></tr></table><br/></div></div>"
      ],
      "text/plain": [
       "<IPython.core.display.HTML object>"
      ]
     },
     "metadata": {},
     "output_type": "display_data"
    },
    {
     "data": {
      "text/html": [
       " View run <strong style=\"color:#cdcd00\">lively-sweep-12</strong> at: <a href='https://wandb.ai/miccai-challenge-2024/task2/runs/tqdy1r2w' target=\"_blank\">https://wandb.ai/miccai-challenge-2024/task2/runs/tqdy1r2w</a><br/> View project at: <a href='https://wandb.ai/miccai-challenge-2024/task2' target=\"_blank\">https://wandb.ai/miccai-challenge-2024/task2</a><br/>Synced 6 W&B file(s), 0 media file(s), 0 artifact file(s) and 0 other file(s)"
      ],
      "text/plain": [
       "<IPython.core.display.HTML object>"
      ]
     },
     "metadata": {},
     "output_type": "display_data"
    },
    {
     "data": {
      "text/html": [
       "Find logs at: <code>./wandb/run-20240730_021931-tqdy1r2w/logs</code>"
      ],
      "text/plain": [
       "<IPython.core.display.HTML object>"
      ]
     },
     "metadata": {},
     "output_type": "display_data"
    },
    {
     "name": "stdout",
     "output_type": "stream",
     "text": [
      "Finished training\n"
     ]
    },
    {
     "name": "stderr",
     "output_type": "stream",
     "text": [
      "\u001b[34m\u001b[1mwandb\u001b[0m: Sweep Agent: Waiting for job.\n",
      "\u001b[34m\u001b[1mwandb\u001b[0m: Sweep Agent: Exiting.\n"
     ]
    }
   ],
   "source": [
    "\n",
    "# Define the sweep configuration\n",
    "sweep_config = {\n",
    "    \"method\": \"grid\",  # or \"random\", or \"bayes\"\n",
    "    \"parameters\": {\n",
    "        \"model\": {\n",
    "            \"values\": [\"ShuffleNet\", \"ResNet\"]\n",
    "        },\n",
    "        \"lr\": {\n",
    "            \"values\": [1e-2]\n",
    "        },\n",
    "        \"epochs\": {\n",
    "            \"values\": [30]\n",
    "        },\n",
    "        \"batch_size\": {\n",
    "            \"values\": [16, 32]\n",
    "        },\n",
    "        \"p_gaussblur\": {\n",
    "            \"values\": [0.5]\n",
    "        },\n",
    "        \"p_equalize\": {\n",
    "            \"values\": [0.3]\n",
    "        },\n",
    "        \"p_clahe\": {\n",
    "            \"values\": [0.5]\n",
    "        },\n",
    "        \"p_horizontalflip\": {\n",
    "            \"values\": [0.5]\n",
    "        },\n",
    "        \"rotation\": {\n",
    "            \"values\": [10]\n",
    "        },\n",
    "        \"p_affine\": {\n",
    "            \"values\": [0.3]\n",
    "        },\n",
    "        \"loss_weight\": {\n",
    "            \"values\": [0.0, 0.5, 1.0]\n",
    "        },\n",
    "        \"lr_schedule_factor\": {\n",
    "            \"values\": [0.01]\n",
    "        },\n",
    "        \"lr_schedule_patience\": {\n",
    "            \"values\": [5]\n",
    "        },\n",
    "        \"resampling_strategy\": {\n",
    "            \"values\": ['undersampling', 'oversampling']\n",
    "        }\n",
    "    }\n",
    "}\n",
    "\n",
    "# Initialize the sweep\n",
    "sweep_id = wandb.sweep(sweep=sweep_config, project=\"task2\")\n",
    "\n",
    "# Start the sweep\n",
    "wandb.agent(sweep_id, function=train_model)"
   ]
  },
  {
   "cell_type": "markdown",
   "metadata": {},
   "source": [
    "'''\n",
    "class ResamplingStrategy(ABC):\n",
    "    @abstractmethod\n",
    "    def apply(self, dataloader, epoch):\n",
    "        pass\n",
    "\n",
    "\n",
    "    def _calculate_weights(self, dataloader):\n",
    "        dataset = dataloader.dataset\n",
    "        labels = [item[1] for item in dataset]\n",
    "        \n",
    "        class_counts = Counter(labels)\n",
    "        \n",
    "        weights = [1.0 / class_counts[label] for label in labels]\n",
    "        return weights\n",
    "    \n",
    "\n",
    "class DefaultResamplingStrategy(ResamplingStrategy):\n",
    "    def apply(self, dataloader, epoch):\n",
    "        # no resampling is applied by default\n",
    "        return dataloader\n",
    "    \n",
    "\n",
    "class OversamplingResamplingStrategy(ResamplingStrategy):\n",
    "    def apply(self, dataloader, epoch):\n",
    "\n",
    "        weights = self._calculate_weights(dataloader)\n",
    "\n",
    "        sampler = WeightedRandomSampler(weights, len(weights), replacement=True)\n",
    "\n",
    "        oversampled_loader = DataLoader(dataloader.dataset, \n",
    "                                        batch_size=dataloader.batch_size, \n",
    "                                        sampler=sampler, \n",
    "                                        num_workers=dataloader.num_workers)\n",
    "        \n",
    "        return oversampled_loader\n",
    "    \n",
    "    \n",
    "'''"
   ]
  },
  {
   "cell_type": "code",
   "execution_count": 13,
   "metadata": {},
   "outputs": [
    {
     "name": "stdout",
     "output_type": "stream",
     "text": [
      "Testing instantiating the model and predict based on a random image...\n"
     ]
    },
    {
     "name": "stderr",
     "output_type": "stream",
     "text": [
      "Using cache found in /home/optima/mhaderer/.cache/torch/hub/pytorch_vision_v0.10.0\n"
     ]
    },
    {
     "name": "stdout",
     "output_type": "stream",
     "text": [
      "Prediction on random image: 0.5158900022506714\n",
      "Creating submission zip file './submissions/distinctive_sweep.zip'\n",
      "-- Adding file metadata\n",
      "-- Adding file distinctive-sweep-2_2024-07-29_23-13.pth\n",
      "-- Adding file model.py\n",
      "-- Adding file model.cpython-310.pyc\n",
      "Submission zip file './submissions/distinctive_sweep.zip' created successfully.\n"
     ]
    }
   ],
   "source": [
    "# build a submission zip file\n",
    "from tools.build_submission import SubmissionBuilder\n",
    "\n",
    "path_to_codalab_model_file = './models/task_2_shufflenet/model.py'\n",
    "path_to_checkpoint_file = './models/task_2_shufflenet/distinctive-sweep-2_2024-07-29_23-13.pth'\n",
    "submission_zip_label = f\"distinctive_sweep\"\n",
    "output_dir = './submissions'\n",
    "\n",
    "builder = SubmissionBuilder(model_file=path_to_codalab_model_file, checkpoint_file=path_to_checkpoint_file, label=submission_zip_label, output_dir=output_dir)\n",
    "builder.create_submission_zip()"
   ]
  },
  {
   "cell_type": "code",
   "execution_count": null,
   "metadata": {},
   "outputs": [],
   "source": []
  }
 ],
 "metadata": {
  "kernelspec": {
   "display_name": "Python 3 (ipykernel)",
   "language": "python",
   "name": "python3"
  },
  "language_info": {
   "codemirror_mode": {
    "name": "ipython",
    "version": 3
   },
   "file_extension": ".py",
   "mimetype": "text/x-python",
   "name": "python",
   "nbconvert_exporter": "python",
   "pygments_lexer": "ipython3",
   "version": "3.10.14"
  }
 },
 "nbformat": 4,
 "nbformat_minor": 4
}
