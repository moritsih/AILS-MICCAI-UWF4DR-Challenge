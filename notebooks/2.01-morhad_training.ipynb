{
 "cells": [
  {
   "cell_type": "code",
   "execution_count": 1,
   "metadata": {},
   "outputs": [],
   "source": [
    "%load_ext autoreload\n",
    "%autoreload 2"
   ]
  },
  {
   "cell_type": "code",
   "execution_count": 2,
   "metadata": {},
   "outputs": [
    {
     "name": "stdout",
     "output_type": "stream",
     "text": [
      "/home/optima/mhaderer/AILS-MICCAI-UWF4DR-Challenge\n"
     ]
    },
    {
     "name": "stderr",
     "output_type": "stream",
     "text": [
      "/opt/conda/lib/python3.10/site-packages/IPython/core/magics/osm.py:417: UserWarning: using dhist requires you to install the `pickleshare` library.\n",
      "  self.shell.db['dhist'] = compress_dhist(dhist)[-100:]\n"
     ]
    }
   ],
   "source": [
    "from pathlib import Path\n",
    "base_path = Path().resolve().parent\n",
    "%cd {base_path}"
   ]
  },
  {
   "cell_type": "code",
   "execution_count": 3,
   "metadata": {},
   "outputs": [],
   "source": [
    "# setup\n",
    "#!apt-get update\n",
    "#!pip install python-dotenv\n",
    "#!pip install loguru\n",
    "#!pip install gdown\n",
    "#!pip install typer\n",
    "#!pip install imbalanced-learn"
   ]
  },
  {
   "cell_type": "code",
   "execution_count": 4,
   "metadata": {},
   "outputs": [],
   "source": [
    "# load data and unzip data\n",
    "\n",
    "#!python tools/download_data_and_chkpts.py"
   ]
  },
  {
   "cell_type": "code",
   "execution_count": 5,
   "metadata": {},
   "outputs": [
    {
     "name": "stderr",
     "output_type": "stream",
     "text": [
      "INFO:albumentations.check_version:A new version of Albumentations is available: 1.4.11 (you have 1.4.7). Upgrade using: pip install --upgrade albumentations\n",
      "\u001b[34m\u001b[1mwandb\u001b[0m: Currently logged in as: \u001b[33mmmarinschek\u001b[0m (\u001b[33mmiccai-challenge-2024\u001b[0m). Use \u001b[1m`wandb login --relogin`\u001b[0m to force relogin\n",
      "\u001b[34m\u001b[1mwandb\u001b[0m: \u001b[33mWARNING\u001b[0m If you're specifying your api key in code, ensure this code is not shared publicly.\n",
      "\u001b[34m\u001b[1mwandb\u001b[0m: \u001b[33mWARNING\u001b[0m Consider setting the WANDB_API_KEY environment variable, or running `wandb login` from the command line.\n",
      "\u001b[34m\u001b[1mwandb\u001b[0m: Appending key for api.wandb.ai to your netrc file: /home/optima/mhaderer/.netrc\n"
     ]
    },
    {
     "data": {
      "text/plain": [
       "True"
      ]
     },
     "execution_count": 5,
     "metadata": {},
     "output_type": "execute_result"
    }
   ],
   "source": [
    "# imports\n",
    "\n",
    "import torch\n",
    "import torch.nn as nn\n",
    "from torch import optim\n",
    "import torch.nn.functional as F\n",
    "from torch.utils.data import DataLoader\n",
    "import wandb\n",
    "\n",
    "from sklearn.metrics import roc_auc_score, average_precision_score\n",
    "\n",
    "import albumentations as A\n",
    "from albumentations.pytorch.transforms import ToTensorV2\n",
    "\n",
    "import time\n",
    "\n",
    "# data\n",
    "from ails_miccai_uwf4dr_challenge.dataset_strategy import CustomDataset, DatasetStrategy, CombinedDatasetStrategy, \\\n",
    "    Task1Strategy, Task2Strategy, Task3Strategy, TrainValSplitStrategy, RandomOverSamplingStrategy, DatasetBuilder\n",
    "\n",
    "# augmentation\n",
    "from ails_miccai_uwf4dr_challenge.preprocess_augmentations import ResidualGaussBlur, MultiplyMask\n",
    "\n",
    "# trainer\n",
    "from ails_miccai_uwf4dr_challenge.models.trainer import DefaultMetricsEvaluationStrategy, Metric, MetricCalculatedHook, \\\n",
    "    NumBatches, Trainer, EpochTrainingStrategy, EpochValidationStrategy, DefaultEpochTrainingStrategy, \\\n",
    "    DefaultBatchTrainingStrategy, TrainingContext, PersistBestModelOnEpochEndHook\n",
    "from ails_miccai_uwf4dr_challenge.models.metrics import sensitivity_score, specificity_score\n",
    "from ails_miccai_uwf4dr_challenge.config import Config\n",
    "\n",
    "# models\n",
    "from ails_miccai_uwf4dr_challenge.models.architectures.task1_automorph_plain import AutoMorphModel\n",
    "from ails_miccai_uwf4dr_challenge.models.architectures.task1_efficientnet_plain import Task1EfficientNetB4\n",
    "from ails_miccai_uwf4dr_challenge.models.architectures.task2_efficientnetb0_plain import Task2EfficientNetB0 \n",
    "from ails_miccai_uwf4dr_challenge.models.architectures.task1_convnext import Task1ConvNeXt \n",
    "\n",
    "from ails_miccai_uwf4dr_challenge.config import WANDB_API_KEY, PROJ_ROOT\n",
    "\n",
    "wandb.login(key=WANDB_API_KEY)"
   ]
  },
  {
   "cell_type": "code",
   "execution_count": 6,
   "metadata": {},
   "outputs": [
    {
     "name": "stdout",
     "output_type": "stream",
     "text": [
      "Device: cuda\n"
     ]
    }
   ],
   "source": [
    "# select device for training\n",
    "device = torch.device(\"cuda\" if torch.cuda.is_available() else \"cpu\")\n",
    "print(\"Device: \" + str(device))"
   ]
  },
  {
   "cell_type": "markdown",
   "metadata": {},
   "source": [
    "## Train some model"
   ]
  },
  {
   "cell_type": "code",
   "execution_count": 12,
   "metadata": {},
   "outputs": [],
   "source": [
    "def train_model(cfg=None):\n",
    "\n",
    "    WANDB_HTTP_TIMEOUT=300\n",
    "    WANDB_INIT_TIMEOUT =600\n",
    "    WANDB_DEBUG=True\n",
    "\n",
    "    wandb.init(project=\"task2\", config=cfg)\n",
    "    cfg = wandb.config\n",
    "\n",
    "    transforms_train = A.Compose([\n",
    "        A.Resize(800, 1016, p=1),\n",
    "        MultiplyMask(p=1),\n",
    "        ResidualGaussBlur(p=cfg.p_gaussblur),\n",
    "        A.Equalize(p=cfg.p_equalize),\n",
    "        A.CLAHE(clip_limit=5., p=cfg.p_clahe),\n",
    "        A.HorizontalFlip(p=cfg.p_horizontalflip),\n",
    "        A.Affine(rotate=cfg.rotation, rotate_method='ellipse', p=cfg.p_affine),\n",
    "        A.Normalize(mean=[0.406, 0.485, 0.456], std=[0.225, 0.229, 0.224], p=1),\n",
    "        ToTensorV2(p=1)\n",
    "    ])\n",
    "\n",
    "    transforms_val = A.Compose([\n",
    "            A.Resize(800, 1016, p=1),\n",
    "            MultiplyMask(p=1),\n",
    "            A.Normalize(mean=[0.406, 0.485, 0.456], std=[0.225, 0.229, 0.224], p=1),\n",
    "            ToTensorV2(p=1)\n",
    "        ])\n",
    "\n",
    "    dataset_strategy = CombinedDatasetStrategy()\n",
    "    task_strategy = Task2Strategy()\n",
    "    \n",
    "    split_strategy = TrainValSplitStrategy(split_ratio=0.8)\n",
    "    resampling_strategy = RandomOverSamplingStrategy()\n",
    "\n",
    "    builder = DatasetBuilder(dataset_strategy, task_strategy, split_strategy, resampling_strategy)\n",
    "    train_data, val_data = builder.build()\n",
    "\n",
    "    train_dataset = CustomDataset(train_data, transform=transforms_train)\n",
    "    val_dataset = CustomDataset(val_data, transform=transforms_val)\n",
    "\n",
    "    train_loader = DataLoader(train_dataset, batch_size=cfg.batch_size, shuffle=True)\n",
    "    val_loader = DataLoader(val_dataset, batch_size=cfg.batch_size, shuffle=False)\n",
    "    \n",
    "    device = torch.device(\"cuda\" if torch.cuda.is_available() else \"cpu\" if torch.backends.mps.is_available() else \"mps\")\n",
    "    print(f\"Using device: {device}\")\n",
    "\n",
    "    assert cfg.model is not None, \"Model type must be specified in the config\"\n",
    "\n",
    "    if cfg.model == \"Task2EfficientNetB0\":\n",
    "        model = Task2EfficientNetB0(num_classes=1)\n",
    "    elif cfg.model == \"AutoMorphModel\":\n",
    "        model = AutoMorphModel(enc_frozen=True)\n",
    "    #elif cfg.model == \"Task1ConvNeXt\":\n",
    "    #    model = Task1ConvNeXt()\n",
    "\n",
    "    model.to(device)\n",
    "\n",
    "    metrics = [\n",
    "        Metric('auroc', roc_auc_score),\n",
    "        Metric('auprc', average_precision_score),\n",
    "        Metric('accuracy', lambda y_true, y_pred: (y_pred.round() == y_true).mean()),\n",
    "        Metric('sensitivity', sensitivity_score),\n",
    "        Metric('specificity', specificity_score)\n",
    "    ]\n",
    "\n",
    "    class WandbLoggingHook(MetricCalculatedHook):\n",
    "        def on_metric_calculated(self, training_context: TrainingContext, metric: Metric, result, last_metric_for_epoch: bool):\n",
    "            import wandb\n",
    "            wandb.log(data={metric.name: result}, commit=last_metric_for_epoch)\n",
    "\n",
    "    metrics_eval_strategy = DefaultMetricsEvaluationStrategy(metrics).register_metric_calculated_hook(WandbLoggingHook())\n",
    "\n",
    "    def combined_losses(pred, target):\n",
    "        bce = F.binary_cross_entropy_with_logits(pred, target) * cfg.loss_weight\n",
    "        smooth_l1 = F.smooth_l1_loss(pred, target) * (1 - cfg.loss_weight)\n",
    "        return bce + smooth_l1\n",
    "\n",
    "    criterion = combined_losses\n",
    "    optimizer = optim.AdamW(model.parameters(), lr=cfg.lr)\n",
    "    lr_scheduler = optim.lr_scheduler.ReduceLROnPlateau(optimizer, mode='min', factor=cfg.lr_schedule_factor, patience=cfg.lr_schedule_patience, verbose=True)\n",
    "\n",
    "    trainer = Trainer(model, train_loader, val_loader, criterion, optimizer, lr_scheduler, device, \n",
    "                        metrics_eval_strategy=metrics_eval_strategy)\n",
    "\n",
    "    # build a file name for the model weights containing current timestamp and the model class\n",
    "    training_timestamp = time.strftime(\"%Y-%m-%d_%H-%M-%S\")\n",
    "    persist_model_hook = PersistBestModelOnEpochEndHook(f\"models/best_model_{training_timestamp}.pth\")\n",
    "    trainer.add_epoch_end_hook(persist_model_hook) # TODO uncomment this line to save the best model\n",
    "\n",
    "    #print(\"First train 2 epochs 2 batches to check if everything works - you can comment these two lines after the code has stabilized...\")\n",
    "    #trainer.train(num_epochs=2, num_batches=NumBatches.TWO_FOR_INITIAL_TESTING)\n",
    "    \n",
    "    print(\"Now train train train\")\n",
    "    trainer.train(num_epochs=cfg.epochs)\n",
    "    #wandb.finish()\n",
    "    print(\"Finished training\")"
   ]
  },
  {
   "cell_type": "code",
   "execution_count": 13,
   "metadata": {},
   "outputs": [],
   "source": [
    "cfg = Config(\n",
    "    batch_size=16,\n",
    "    epochs=25,\n",
    "    lr=0.001,\n",
    "    lr_schedule_factor=0.1,\n",
    "    lr_schedule_patience=5,\n",
    "    p_gaussblur=0,\n",
    "    p_equalize=0,\n",
    "    p_clahe=0.3,\n",
    "    p_horizontalflip=0.3,\n",
    "    rotation=15,\n",
    "    p_affine=0.3,\n",
    "    loss_weight=0.5,\n",
    "    model=\"Task2EfficientNetB0\",\n",
    ")"
   ]
  },
  {
   "cell_type": "code",
   "execution_count": 14,
   "metadata": {},
   "outputs": [
    {
     "data": {
      "text/html": [
       "wandb version 0.17.5 is available!  To upgrade, please run:\n",
       " $ pip install wandb --upgrade"
      ],
      "text/plain": [
       "<IPython.core.display.HTML object>"
      ]
     },
     "metadata": {},
     "output_type": "display_data"
    },
    {
     "data": {
      "text/html": [
       "Tracking run with wandb version 0.17.0"
      ],
      "text/plain": [
       "<IPython.core.display.HTML object>"
      ]
     },
     "metadata": {},
     "output_type": "display_data"
    },
    {
     "data": {
      "text/html": [
       "Run data is saved locally in <code>/home/optima/mhaderer/AILS-MICCAI-UWF4DR-Challenge/wandb/run-20240723_162913-te5v2l0c</code>"
      ],
      "text/plain": [
       "<IPython.core.display.HTML object>"
      ]
     },
     "metadata": {},
     "output_type": "display_data"
    },
    {
     "data": {
      "text/html": [
       "Syncing run <strong><a href='https://wandb.ai/miccai-challenge-2024/task2/runs/te5v2l0c' target=\"_blank\">fluent-firefly-22</a></strong> to <a href='https://wandb.ai/miccai-challenge-2024/task2' target=\"_blank\">Weights & Biases</a> (<a href='https://wandb.me/run' target=\"_blank\">docs</a>)<br/>"
      ],
      "text/plain": [
       "<IPython.core.display.HTML object>"
      ]
     },
     "metadata": {},
     "output_type": "display_data"
    },
    {
     "data": {
      "text/html": [
       " View project at <a href='https://wandb.ai/miccai-challenge-2024/task2' target=\"_blank\">https://wandb.ai/miccai-challenge-2024/task2</a>"
      ],
      "text/plain": [
       "<IPython.core.display.HTML object>"
      ]
     },
     "metadata": {},
     "output_type": "display_data"
    },
    {
     "data": {
      "text/html": [
       " View run at <a href='https://wandb.ai/miccai-challenge-2024/task2/runs/te5v2l0c' target=\"_blank\">https://wandb.ai/miccai-challenge-2024/task2/runs/te5v2l0c</a>"
      ],
      "text/plain": [
       "<IPython.core.display.HTML object>"
      ]
     },
     "metadata": {},
     "output_type": "display_data"
    },
    {
     "name": "stdout",
     "output_type": "stream",
     "text": [
      "\n",
      "Original class distribution:\n",
      "Class 0: 149\n",
      "Class 1: 250\n",
      "dr\n",
      "1    0.626566\n",
      "0    0.373434\n",
      "Name: proportion, dtype: Float64\n",
      "\n",
      "Resampled class distribution:\n",
      "dr\n",
      "1    0.5\n",
      "0    0.5\n",
      "Name: proportion, dtype: Float64\n",
      "Using device: cuda\n",
      "Loaded pretrained weights for efficientnet-b0\n"
     ]
    },
    {
     "name": "stderr",
     "output_type": "stream",
     "text": [
      "/opt/conda/lib/python3.10/site-packages/torch/optim/lr_scheduler.py:28: UserWarning: The verbose parameter is deprecated. Please use get_last_lr() to access the learning rate.\n",
      "  warnings.warn(\"The verbose parameter is deprecated. Please use get_last_lr() \"\n"
     ]
    },
    {
     "name": "stdout",
     "output_type": "stream",
     "text": [
      "Now train train train\n"
     ]
    },
    {
     "name": "stderr",
     "output_type": "stream",
     "text": [
      "Epoch 1/15 - Avg train Loss: 0.361197: 100%|███████████████████████████████████████████████████████████████████████████████████████████████████████████████████████████████| 25/25 [00:45<00:00,  1.82s/it]\n",
      "Epoch 1/15 - Avg val Loss: 0.442960: 100%|███████████████████████████████████████████████████████████████████████████████████████████████████████████████████████████████████| 7/7 [00:10<00:00,  1.48s/it]\n"
     ]
    },
    {
     "name": "stdout",
     "output_type": "stream",
     "text": [
      "New best model found at epoch 1 with validation loss: 0.4430. Model saved to models/best_model_2024-07-23_16-29-23.pth\n"
     ]
    },
    {
     "name": "stderr",
     "output_type": "stream",
     "text": [
      "Epoch 2/15 - Avg train Loss: 0.294700: 100%|███████████████████████████████████████████████████████████████████████████████████████████████████████████████████████████████| 25/25 [00:44<00:00,  1.76s/it]\n",
      "Epoch 2/15 - Avg val Loss: 0.441656: 100%|███████████████████████████████████████████████████████████████████████████████████████████████████████████████████████████████████| 7/7 [00:09<00:00,  1.31s/it]\n"
     ]
    },
    {
     "name": "stdout",
     "output_type": "stream",
     "text": [
      "New best model found at epoch 2 with validation loss: 0.4417. Model saved to models/best_model_2024-07-23_16-29-23.pth\n"
     ]
    },
    {
     "name": "stderr",
     "output_type": "stream",
     "text": [
      "Epoch 3/15 - Avg train Loss: 0.271906: 100%|███████████████████████████████████████████████████████████████████████████████████████████████████████████████████████████████| 25/25 [00:42<00:00,  1.71s/it]\n",
      "Epoch 3/15 - Avg val Loss: 0.456448: 100%|███████████████████████████████████████████████████████████████████████████████████████████████████████████████████████████████████| 7/7 [00:09<00:00,  1.33s/it]\n",
      "Epoch 4/15 - Avg train Loss: 0.287724: 100%|███████████████████████████████████████████████████████████████████████████████████████████████████████████████████████████████| 25/25 [00:43<00:00,  1.76s/it]\n",
      "Epoch 4/15 - Avg val Loss: 0.496122: 100%|███████████████████████████████████████████████████████████████████████████████████████████████████████████████████████████████████| 7/7 [00:09<00:00,  1.34s/it]\n",
      "Epoch 5/15 - Avg train Loss: 0.272934: 100%|███████████████████████████████████████████████████████████████████████████████████████████████████████████████████████████████| 25/25 [00:45<00:00,  1.83s/it]\n",
      "Epoch 5/15 - Avg val Loss: 0.380108: 100%|███████████████████████████████████████████████████████████████████████████████████████████████████████████████████████████████████| 7/7 [00:09<00:00,  1.36s/it]\n"
     ]
    },
    {
     "name": "stdout",
     "output_type": "stream",
     "text": [
      "New best model found at epoch 5 with validation loss: 0.3801. Model saved to models/best_model_2024-07-23_16-29-23.pth\n"
     ]
    },
    {
     "name": "stderr",
     "output_type": "stream",
     "text": [
      "Epoch 6/15 - Avg train Loss: 0.251513: 100%|███████████████████████████████████████████████████████████████████████████████████████████████████████████████████████████████| 25/25 [00:44<00:00,  1.77s/it]\n",
      "Epoch 6/15 - Avg val Loss: 0.306835: 100%|███████████████████████████████████████████████████████████████████████████████████████████████████████████████████████████████████| 7/7 [00:09<00:00,  1.40s/it]\n"
     ]
    },
    {
     "name": "stdout",
     "output_type": "stream",
     "text": [
      "New best model found at epoch 6 with validation loss: 0.3068. Model saved to models/best_model_2024-07-23_16-29-23.pth\n"
     ]
    },
    {
     "name": "stderr",
     "output_type": "stream",
     "text": [
      "Epoch 7/15 - Avg train Loss: 0.249924: 100%|███████████████████████████████████████████████████████████████████████████████████████████████████████████████████████████████| 25/25 [00:45<00:00,  1.83s/it]\n",
      "Epoch 7/15 - Avg val Loss: 0.362505: 100%|███████████████████████████████████████████████████████████████████████████████████████████████████████████████████████████████████| 7/7 [00:09<00:00,  1.35s/it]\n",
      "Epoch 8/15 - Avg train Loss: 0.254224: 100%|███████████████████████████████████████████████████████████████████████████████████████████████████████████████████████████████| 25/25 [00:44<00:00,  1.76s/it]\n",
      "Epoch 8/15 - Avg val Loss: 0.363823: 100%|███████████████████████████████████████████████████████████████████████████████████████████████████████████████████████████████████| 7/7 [00:10<00:00,  1.44s/it]\n",
      "Epoch 9/15 - Avg train Loss: 0.252967: 100%|███████████████████████████████████████████████████████████████████████████████████████████████████████████████████████████████| 25/25 [00:42<00:00,  1.69s/it]\n",
      "Epoch 9/15 - Avg val Loss: 0.398098: 100%|███████████████████████████████████████████████████████████████████████████████████████████████████████████████████████████████████| 7/7 [00:10<00:00,  1.44s/it]\n",
      "Epoch 10/15 - Avg train Loss: 0.239460: 100%|██████████████████████████████████████████████████████████████████████████████████████████████████████████████████████████████| 25/25 [00:42<00:00,  1.70s/it]\n",
      "Epoch 10/15 - Avg val Loss: 0.409912: 100%|██████████████████████████████████████████████████████████████████████████████████████████████████████████████████████████████████| 7/7 [00:09<00:00,  1.37s/it]\n",
      "Epoch 11/15 - Avg train Loss: 0.244485: 100%|██████████████████████████████████████████████████████████████████████████████████████████████████████████████████████████████| 25/25 [00:42<00:00,  1.70s/it]\n",
      "Epoch 11/15 - Avg val Loss: 0.347114: 100%|██████████████████████████████████████████████████████████████████████████████████████████████████████████████████████████████████| 7/7 [00:09<00:00,  1.30s/it]\n",
      "Epoch 12/15 - Avg train Loss: 0.249227: 100%|██████████████████████████████████████████████████████████████████████████████████████████████████████████████████████████████| 25/25 [00:42<00:00,  1.70s/it]\n",
      "Epoch 12/15 - Avg val Loss: 0.294975: 100%|██████████████████████████████████████████████████████████████████████████████████████████████████████████████████████████████████| 7/7 [00:09<00:00,  1.30s/it]\n"
     ]
    },
    {
     "name": "stdout",
     "output_type": "stream",
     "text": [
      "New best model found at epoch 12 with validation loss: 0.2950. Model saved to models/best_model_2024-07-23_16-29-23.pth\n"
     ]
    },
    {
     "name": "stderr",
     "output_type": "stream",
     "text": [
      "Epoch 13/15 - Avg train Loss: 0.245566: 100%|██████████████████████████████████████████████████████████████████████████████████████████████████████████████████████████████| 25/25 [00:42<00:00,  1.71s/it]\n",
      "Epoch 13/15 - Avg val Loss: 0.293087: 100%|██████████████████████████████████████████████████████████████████████████████████████████████████████████████████████████████████| 7/7 [00:09<00:00,  1.43s/it]\n"
     ]
    },
    {
     "name": "stdout",
     "output_type": "stream",
     "text": [
      "New best model found at epoch 13 with validation loss: 0.2931. Model saved to models/best_model_2024-07-23_16-29-23.pth\n"
     ]
    },
    {
     "name": "stderr",
     "output_type": "stream",
     "text": [
      "Epoch 14/15 - Avg train Loss: 0.244179: 100%|██████████████████████████████████████████████████████████████████████████████████████████████████████████████████████████████| 25/25 [00:44<00:00,  1.78s/it]\n",
      "Epoch 14/15 - Avg val Loss: 0.375390: 100%|██████████████████████████████████████████████████████████████████████████████████████████████████████████████████████████████████| 7/7 [00:10<00:00,  1.43s/it]\n",
      "Epoch 15/15 - Avg train Loss: 0.237142: 100%|██████████████████████████████████████████████████████████████████████████████████████████████████████████████████████████████| 25/25 [00:43<00:00,  1.74s/it]\n",
      "Epoch 15/15 - Avg val Loss: 0.335347: 100%|██████████████████████████████████████████████████████████████████████████████████████████████████████████████████████████████████| 7/7 [00:10<00:00,  1.45s/it]"
     ]
    },
    {
     "name": "stdout",
     "output_type": "stream",
     "text": [
      "Finished training\n"
     ]
    },
    {
     "name": "stderr",
     "output_type": "stream",
     "text": [
      "\n"
     ]
    }
   ],
   "source": [
    "train_model(cfg)"
   ]
  },
  {
   "cell_type": "markdown",
   "metadata": {},
   "source": [
    "## SWEEP"
   ]
  },
  {
   "cell_type": "code",
   "execution_count": 15,
   "metadata": {},
   "outputs": [
    {
     "name": "stderr",
     "output_type": "stream",
     "text": [
      "\u001b[34m\u001b[1mwandb\u001b[0m: \u001b[33mWARNING\u001b[0m Calling wandb.login() after wandb.init() has no effect.\n"
     ]
    },
    {
     "name": "stdout",
     "output_type": "stream",
     "text": [
      "Create sweep with ID: wku4858f\n",
      "Sweep URL: https://wandb.ai/miccai-challenge-2024/task2/sweeps/wku4858f\n",
      "VBox(children=(Label(value='0.008 MB of 0.008 MB uploaded\\r'), FloatProgress(value=1.0, max=1.0)))\n",
      "<IPython.core.display.HTML object>\n",
      "<IPython.core.display.HTML object>\n",
      "<IPython.core.display.HTML object>\n"
     ]
    },
    {
     "name": "stderr",
     "output_type": "stream",
     "text": [
      "\u001b[34m\u001b[1mwandb\u001b[0m: Agent Starting Run: msrumx0e with config:\n",
      "\u001b[34m\u001b[1mwandb\u001b[0m: \tbatch_size: 32\n",
      "\u001b[34m\u001b[1mwandb\u001b[0m: \tepochs: 20\n",
      "\u001b[34m\u001b[1mwandb\u001b[0m: \tloss_weight: 0.7\n",
      "\u001b[34m\u001b[1mwandb\u001b[0m: \tlr: 0.001\n",
      "\u001b[34m\u001b[1mwandb\u001b[0m: \tlr_schedule_factor: 0.1\n",
      "\u001b[34m\u001b[1mwandb\u001b[0m: \tlr_schedule_patience: 5\n",
      "\u001b[34m\u001b[1mwandb\u001b[0m: \tmodel: Task2EfficientNetB0\n",
      "\u001b[34m\u001b[1mwandb\u001b[0m: \tp_affine: 0\n",
      "\u001b[34m\u001b[1mwandb\u001b[0m: \tp_clahe: 0\n",
      "\u001b[34m\u001b[1mwandb\u001b[0m: \tp_equalize: 0\n",
      "\u001b[34m\u001b[1mwandb\u001b[0m: \tp_gaussblur: 0.3\n",
      "\u001b[34m\u001b[1mwandb\u001b[0m: \tp_horizontalflip: 0\n",
      "\u001b[34m\u001b[1mwandb\u001b[0m: \trotation: 30\n",
      "\u001b[34m\u001b[1mwandb\u001b[0m: \u001b[33mWARNING\u001b[0m Ignored wandb.init() arg project when running a sweep.\n"
     ]
    },
    {
     "data": {
      "text/html": [
       "wandb version 0.17.5 is available!  To upgrade, please run:\n",
       " $ pip install wandb --upgrade"
      ],
      "text/plain": [
       "<IPython.core.display.HTML object>"
      ]
     },
     "metadata": {},
     "output_type": "display_data"
    },
    {
     "data": {
      "text/html": [
       "Tracking run with wandb version 0.17.0"
      ],
      "text/plain": [
       "<IPython.core.display.HTML object>"
      ]
     },
     "metadata": {},
     "output_type": "display_data"
    },
    {
     "data": {
      "text/html": [
       "Run data is saved locally in <code>/home/optima/mhaderer/AILS-MICCAI-UWF4DR-Challenge/wandb/run-20240723_171947-msrumx0e</code>"
      ],
      "text/plain": [
       "<IPython.core.display.HTML object>"
      ]
     },
     "metadata": {},
     "output_type": "display_data"
    },
    {
     "data": {
      "text/html": [
       "Syncing run <strong><a href='https://wandb.ai/miccai-challenge-2024/task2/runs/msrumx0e' target=\"_blank\">smart-sweep-1</a></strong> to <a href='https://wandb.ai/miccai-challenge-2024/task2' target=\"_blank\">Weights & Biases</a> (<a href='https://wandb.me/run' target=\"_blank\">docs</a>)<br/>Sweep page: <a href='https://wandb.ai/miccai-challenge-2024/task2/sweeps/wku4858f' target=\"_blank\">https://wandb.ai/miccai-challenge-2024/task2/sweeps/wku4858f</a>"
      ],
      "text/plain": [
       "<IPython.core.display.HTML object>"
      ]
     },
     "metadata": {},
     "output_type": "display_data"
    },
    {
     "data": {
      "text/html": [
       " View project at <a href='https://wandb.ai/miccai-challenge-2024/task2' target=\"_blank\">https://wandb.ai/miccai-challenge-2024/task2</a>"
      ],
      "text/plain": [
       "<IPython.core.display.HTML object>"
      ]
     },
     "metadata": {},
     "output_type": "display_data"
    },
    {
     "data": {
      "text/html": [
       " View sweep at <a href='https://wandb.ai/miccai-challenge-2024/task2/sweeps/wku4858f' target=\"_blank\">https://wandb.ai/miccai-challenge-2024/task2/sweeps/wku4858f</a>"
      ],
      "text/plain": [
       "<IPython.core.display.HTML object>"
      ]
     },
     "metadata": {},
     "output_type": "display_data"
    },
    {
     "data": {
      "text/html": [
       " View run at <a href='https://wandb.ai/miccai-challenge-2024/task2/runs/msrumx0e' target=\"_blank\">https://wandb.ai/miccai-challenge-2024/task2/runs/msrumx0e</a>"
      ],
      "text/plain": [
       "<IPython.core.display.HTML object>"
      ]
     },
     "metadata": {},
     "output_type": "display_data"
    },
    {
     "name": "stderr",
     "output_type": "stream",
     "text": [
      "/opt/conda/lib/python3.10/site-packages/torch/optim/lr_scheduler.py:28: UserWarning: The verbose parameter is deprecated. Please use get_last_lr() to access the learning rate.\n",
      "  warnings.warn(\"The verbose parameter is deprecated. Please use get_last_lr() \"\n"
     ]
    },
    {
     "name": "stdout",
     "output_type": "stream",
     "text": [
      "\n",
      "Original class distribution:\n",
      "Class 0: 149\n",
      "Class 1: 250\n",
      "dr\n",
      "1    0.626566\n",
      "0    0.373434\n",
      "Name: proportion, dtype: Float64\n",
      "\n",
      "Resampled class distribution:\n",
      "dr\n",
      "1    0.5\n",
      "0    0.5\n",
      "Name: proportion, dtype: Float64\n",
      "Using device: cuda\n",
      "Loaded pretrained weights for efficientnet-b0\n",
      "Now train train train\n"
     ]
    },
    {
     "name": "stderr",
     "output_type": "stream",
     "text": [
      "Epoch 1/20 - Avg train Loss: 0.440391: 100%|███████████████████████████████████████████████████████████████████████████████████████████████████████████████████████████████| 13/13 [00:43<00:00,  3.33s/it]\n",
      "Epoch 1/20 - Avg val Loss: 0.583715: 100%|███████████████████████████████████████████████████████████████████████████████████████████████████████████████████████████████████| 4/4 [00:09<00:00,  2.49s/it]\n"
     ]
    },
    {
     "name": "stdout",
     "output_type": "stream",
     "text": [
      "New best model found at epoch 1 with validation loss: 0.5837. Model saved to models/best_model_2024-07-23_17-19-56.pth\n"
     ]
    },
    {
     "name": "stderr",
     "output_type": "stream",
     "text": [
      "Epoch 2/20 - Avg train Loss: 0.353717: 100%|███████████████████████████████████████████████████████████████████████████████████████████████████████████████████████████████| 13/13 [00:43<00:00,  3.31s/it]\n",
      "Epoch 2/20 - Avg val Loss: 1.110300: 100%|███████████████████████████████████████████████████████████████████████████████████████████████████████████████████████████████████| 4/4 [00:09<00:00,  2.30s/it]\n",
      "Epoch 3/20 - Avg train Loss: 0.327408: 100%|███████████████████████████████████████████████████████████████████████████████████████████████████████████████████████████████| 13/13 [00:43<00:00,  3.34s/it]\n",
      "Epoch 3/20 - Avg val Loss: 0.890804: 100%|███████████████████████████████████████████████████████████████████████████████████████████████████████████████████████████████████| 4/4 [00:09<00:00,  2.36s/it]\n",
      "Epoch 4/20 - Avg train Loss: 0.308916: 100%|███████████████████████████████████████████████████████████████████████████████████████████████████████████████████████████████| 13/13 [00:45<00:00,  3.48s/it]\n",
      "Epoch 4/20 - Avg val Loss: 0.833535: 100%|███████████████████████████████████████████████████████████████████████████████████████████████████████████████████████████████████| 4/4 [00:10<00:00,  2.59s/it]\n",
      "Epoch 5/20 - Avg train Loss: 0.302941: 100%|███████████████████████████████████████████████████████████████████████████████████████████████████████████████████████████████| 13/13 [00:43<00:00,  3.33s/it]\n",
      "Epoch 5/20 - Avg val Loss: 0.552369: 100%|███████████████████████████████████████████████████████████████████████████████████████████████████████████████████████████████████| 4/4 [00:09<00:00,  2.31s/it]\n"
     ]
    },
    {
     "name": "stdout",
     "output_type": "stream",
     "text": [
      "New best model found at epoch 5 with validation loss: 0.5524. Model saved to models/best_model_2024-07-23_17-19-56.pth\n"
     ]
    },
    {
     "name": "stderr",
     "output_type": "stream",
     "text": [
      "Epoch 6/20 - Avg train Loss: 0.303862: 100%|███████████████████████████████████████████████████████████████████████████████████████████████████████████████████████████████| 13/13 [00:43<00:00,  3.37s/it]\n",
      "Epoch 6/20 - Avg val Loss: 0.874547: 100%|███████████████████████████████████████████████████████████████████████████████████████████████████████████████████████████████████| 4/4 [00:09<00:00,  2.40s/it]\n",
      "Epoch 7/20 - Avg train Loss: 0.296219: 100%|███████████████████████████████████████████████████████████████████████████████████████████████████████████████████████████████| 13/13 [00:42<00:00,  3.30s/it]\n",
      "Epoch 7/20 - Avg val Loss: 0.616835: 100%|███████████████████████████████████████████████████████████████████████████████████████████████████████████████████████████████████| 4/4 [00:09<00:00,  2.26s/it]\n",
      "Epoch 8/20 - Avg train Loss: 0.289439: 100%|███████████████████████████████████████████████████████████████████████████████████████████████████████████████████████████████| 13/13 [00:42<00:00,  3.28s/it]\n",
      "Epoch 8/20 - Avg val Loss: 0.457406: 100%|███████████████████████████████████████████████████████████████████████████████████████████████████████████████████████████████████| 4/4 [00:09<00:00,  2.34s/it]\n"
     ]
    },
    {
     "name": "stdout",
     "output_type": "stream",
     "text": [
      "New best model found at epoch 8 with validation loss: 0.4574. Model saved to models/best_model_2024-07-23_17-19-56.pth\n"
     ]
    },
    {
     "name": "stderr",
     "output_type": "stream",
     "text": [
      "Epoch 9/20 - Avg train Loss: 0.281599: 100%|███████████████████████████████████████████████████████████████████████████████████████████████████████████████████████████████| 13/13 [00:42<00:00,  3.25s/it]\n",
      "Epoch 9/20 - Avg val Loss: 0.444321: 100%|███████████████████████████████████████████████████████████████████████████████████████████████████████████████████████████████████| 4/4 [00:09<00:00,  2.31s/it]\n"
     ]
    },
    {
     "name": "stdout",
     "output_type": "stream",
     "text": [
      "New best model found at epoch 9 with validation loss: 0.4443. Model saved to models/best_model_2024-07-23_17-19-56.pth\n"
     ]
    },
    {
     "name": "stderr",
     "output_type": "stream",
     "text": [
      "Epoch 10/20 - Avg train Loss: 0.285614: 100%|██████████████████████████████████████████████████████████████████████████████████████████████████████████████████████████████| 13/13 [00:42<00:00,  3.29s/it]\n",
      "Epoch 10/20 - Avg val Loss: 0.397710: 100%|██████████████████████████████████████████████████████████████████████████████████████████████████████████████████████████████████| 4/4 [00:09<00:00,  2.31s/it]\n"
     ]
    },
    {
     "name": "stdout",
     "output_type": "stream",
     "text": [
      "New best model found at epoch 10 with validation loss: 0.3977. Model saved to models/best_model_2024-07-23_17-19-56.pth\n"
     ]
    },
    {
     "name": "stderr",
     "output_type": "stream",
     "text": [
      "Epoch 11/20 - Avg train Loss: 0.285935: 100%|██████████████████████████████████████████████████████████████████████████████████████████████████████████████████████████████| 13/13 [00:44<00:00,  3.39s/it]\n",
      "Epoch 11/20 - Avg val Loss: 0.366231: 100%|██████████████████████████████████████████████████████████████████████████████████████████████████████████████████████████████████| 4/4 [00:09<00:00,  2.40s/it]\n"
     ]
    },
    {
     "name": "stdout",
     "output_type": "stream",
     "text": [
      "New best model found at epoch 11 with validation loss: 0.3662. Model saved to models/best_model_2024-07-23_17-19-56.pth\n"
     ]
    },
    {
     "name": "stderr",
     "output_type": "stream",
     "text": [
      "Epoch 12/20 - Avg train Loss: 0.280265: 100%|██████████████████████████████████████████████████████████████████████████████████████████████████████████████████████████████| 13/13 [00:43<00:00,  3.34s/it]\n",
      "Epoch 12/20 - Avg val Loss: 0.424489: 100%|██████████████████████████████████████████████████████████████████████████████████████████████████████████████████████████████████| 4/4 [00:09<00:00,  2.29s/it]\n",
      "Epoch 13/20 - Avg train Loss: 0.282539: 100%|██████████████████████████████████████████████████████████████████████████████████████████████████████████████████████████████| 13/13 [00:43<00:00,  3.31s/it]\n",
      "Epoch 13/20 - Avg val Loss: 0.439344: 100%|██████████████████████████████████████████████████████████████████████████████████████████████████████████████████████████████████| 4/4 [00:09<00:00,  2.26s/it]\n",
      "Epoch 14/20 - Avg train Loss: 0.281776: 100%|██████████████████████████████████████████████████████████████████████████████████████████████████████████████████████████████| 13/13 [00:42<00:00,  3.31s/it]\n",
      "Epoch 14/20 - Avg val Loss: 0.419417: 100%|██████████████████████████████████████████████████████████████████████████████████████████████████████████████████████████████████| 4/4 [00:08<00:00,  2.23s/it]\n",
      "Epoch 15/20 - Avg train Loss: 0.277408: 100%|██████████████████████████████████████████████████████████████████████████████████████████████████████████████████████████████| 13/13 [00:42<00:00,  3.30s/it]\n",
      "Epoch 15/20 - Avg val Loss: 0.354635: 100%|██████████████████████████████████████████████████████████████████████████████████████████████████████████████████████████████████| 4/4 [00:09<00:00,  2.34s/it]\n"
     ]
    },
    {
     "name": "stdout",
     "output_type": "stream",
     "text": [
      "New best model found at epoch 15 with validation loss: 0.3546. Model saved to models/best_model_2024-07-23_17-19-56.pth\n"
     ]
    },
    {
     "name": "stderr",
     "output_type": "stream",
     "text": [
      "Epoch 16/20 - Avg train Loss: 0.276772: 100%|██████████████████████████████████████████████████████████████████████████████████████████████████████████████████████████████| 13/13 [00:42<00:00,  3.29s/it]\n",
      "Epoch 16/20 - Avg val Loss: 0.338171: 100%|██████████████████████████████████████████████████████████████████████████████████████████████████████████████████████████████████| 4/4 [00:09<00:00,  2.29s/it]\n"
     ]
    },
    {
     "name": "stdout",
     "output_type": "stream",
     "text": [
      "New best model found at epoch 16 with validation loss: 0.3382. Model saved to models/best_model_2024-07-23_17-19-56.pth\n"
     ]
    },
    {
     "name": "stderr",
     "output_type": "stream",
     "text": [
      "Epoch 17/20 - Avg train Loss: 0.277251: 100%|██████████████████████████████████████████████████████████████████████████████████████████████████████████████████████████████| 13/13 [00:43<00:00,  3.31s/it]\n",
      "Epoch 17/20 - Avg val Loss: 0.396306: 100%|██████████████████████████████████████████████████████████████████████████████████████████████████████████████████████████████████| 4/4 [00:09<00:00,  2.33s/it]\n",
      "Epoch 18/20 - Avg train Loss: 0.274682: 100%|██████████████████████████████████████████████████████████████████████████████████████████████████████████████████████████████| 13/13 [00:43<00:00,  3.34s/it]\n",
      "Epoch 18/20 - Avg val Loss: 0.416902: 100%|██████████████████████████████████████████████████████████████████████████████████████████████████████████████████████████████████| 4/4 [00:09<00:00,  2.27s/it]\n",
      "Epoch 19/20 - Avg train Loss: 0.279111: 100%|██████████████████████████████████████████████████████████████████████████████████████████████████████████████████████████████| 13/13 [00:43<00:00,  3.34s/it]\n",
      "Epoch 19/20 - Avg val Loss: 0.557488: 100%|██████████████████████████████████████████████████████████████████████████████████████████████████████████████████████████████████| 4/4 [00:08<00:00,  2.23s/it]\n",
      "Epoch 20/20 - Avg train Loss: 0.276723: 100%|██████████████████████████████████████████████████████████████████████████████████████████████████████████████████████████████| 13/13 [00:43<00:00,  3.34s/it]\n",
      "Epoch 20/20 - Avg val Loss: 0.693784: 100%|██████████████████████████████████████████████████████████████████████████████████████████████████████████████████████████████████| 4/4 [00:09<00:00,  2.26s/it]\n"
     ]
    },
    {
     "name": "stdout",
     "output_type": "stream",
     "text": [
      "Finished training\n"
     ]
    },
    {
     "data": {
      "application/vnd.jupyter.widget-view+json": {
       "model_id": "",
       "version_major": 2,
       "version_minor": 0
      },
      "text/plain": [
       "VBox(children=(Label(value='0.008 MB of 0.008 MB uploaded\\r'), FloatProgress(value=1.0, max=1.0)))"
      ]
     },
     "metadata": {},
     "output_type": "display_data"
    },
    {
     "data": {
      "text/html": [
       "<style>\n",
       "    table.wandb td:nth-child(1) { padding: 0 10px; text-align: left ; width: auto;} td:nth-child(2) {text-align: left ; width: 100%}\n",
       "    .wandb-row { display: flex; flex-direction: row; flex-wrap: wrap; justify-content: flex-start; width: 100% }\n",
       "    .wandb-col { display: flex; flex-direction: column; flex-basis: 100%; flex: 1; padding: 10px; }\n",
       "    </style>\n",
       "<div class=\"wandb-row\"><div class=\"wandb-col\"><h3>Run history:</h3><br/><table class=\"wandb\"><tr><td>accuracy</td><td>▂▁▁▁▄▃▃▆▆▇▇▆▆▇▇█▇▆▄▂</td></tr><tr><td>auprc</td><td>▃▁▃▂▅▆▆▇▇▇█▇▇███▇▇▇▆</td></tr><tr><td>auroc</td><td>▅▁▃▁▅▆▅▆▇▇█▇▇▇██▇▇▇▆</td></tr><tr><td>avg_train_loss</td><td>█▄▃▂▂▂▂▂▁▁▁▁▁▁▁▁▁▁▁▁</td></tr><tr><td>avg_val_loss</td><td>▃█▆▅▃▆▄▂▂▂▁▂▂▂▁▁▂▂▃▄</td></tr><tr><td>sensitivity</td><td>▇▅▃▁▆▄▆▇▇▆▇▆▇▇▇█▇▇▇▅</td></tr><tr><td>specificity</td><td>▃▁▇▇▅█▇▇▇▇▇█▇▇▇▇█▇▆▇</td></tr></table><br/></div><div class=\"wandb-col\"><h3>Run summary:</h3><br/><table class=\"wandb\"><tr><td>accuracy</td><td>0.57</td></tr><tr><td>auprc</td><td>0.91341</td></tr><tr><td>auroc</td><td>0.884</td></tr><tr><td>avg_train_loss</td><td>0.27672</td></tr><tr><td>avg_val_loss</td><td>0.69378</td></tr><tr><td>sensitivity</td><td>0.74</td></tr><tr><td>specificity</td><td>0.94</td></tr></table><br/></div></div>"
      ],
      "text/plain": [
       "<IPython.core.display.HTML object>"
      ]
     },
     "metadata": {},
     "output_type": "display_data"
    },
    {
     "data": {
      "text/html": [
       " View run <strong style=\"color:#cdcd00\">smart-sweep-1</strong> at: <a href='https://wandb.ai/miccai-challenge-2024/task2/runs/msrumx0e' target=\"_blank\">https://wandb.ai/miccai-challenge-2024/task2/runs/msrumx0e</a><br/> View project at: <a href='https://wandb.ai/miccai-challenge-2024/task2' target=\"_blank\">https://wandb.ai/miccai-challenge-2024/task2</a><br/>Synced 6 W&B file(s), 0 media file(s), 0 artifact file(s) and 0 other file(s)"
      ],
      "text/plain": [
       "<IPython.core.display.HTML object>"
      ]
     },
     "metadata": {},
     "output_type": "display_data"
    },
    {
     "data": {
      "text/html": [
       "Find logs at: <code>./wandb/run-20240723_171947-msrumx0e/logs</code>"
      ],
      "text/plain": [
       "<IPython.core.display.HTML object>"
      ]
     },
     "metadata": {},
     "output_type": "display_data"
    },
    {
     "name": "stderr",
     "output_type": "stream",
     "text": [
      "\u001b[34m\u001b[1mwandb\u001b[0m: Agent Starting Run: xcyq7ev2 with config:\n",
      "\u001b[34m\u001b[1mwandb\u001b[0m: \tbatch_size: 32\n",
      "\u001b[34m\u001b[1mwandb\u001b[0m: \tepochs: 20\n",
      "\u001b[34m\u001b[1mwandb\u001b[0m: \tloss_weight: 0.7\n",
      "\u001b[34m\u001b[1mwandb\u001b[0m: \tlr: 0.001\n",
      "\u001b[34m\u001b[1mwandb\u001b[0m: \tlr_schedule_factor: 0.1\n",
      "\u001b[34m\u001b[1mwandb\u001b[0m: \tlr_schedule_patience: 5\n",
      "\u001b[34m\u001b[1mwandb\u001b[0m: \tmodel: Task2EfficientNetB0\n",
      "\u001b[34m\u001b[1mwandb\u001b[0m: \tp_affine: 0\n",
      "\u001b[34m\u001b[1mwandb\u001b[0m: \tp_clahe: 0.3\n",
      "\u001b[34m\u001b[1mwandb\u001b[0m: \tp_equalize: 0\n",
      "\u001b[34m\u001b[1mwandb\u001b[0m: \tp_gaussblur: 0.3\n",
      "\u001b[34m\u001b[1mwandb\u001b[0m: \tp_horizontalflip: 0.3\n",
      "\u001b[34m\u001b[1mwandb\u001b[0m: \trotation: 30\n",
      "\u001b[34m\u001b[1mwandb\u001b[0m: \u001b[33mWARNING\u001b[0m Ignored wandb.init() arg project when running a sweep.\n"
     ]
    },
    {
     "data": {
      "text/html": [
       "wandb version 0.17.5 is available!  To upgrade, please run:\n",
       " $ pip install wandb --upgrade"
      ],
      "text/plain": [
       "<IPython.core.display.HTML object>"
      ]
     },
     "metadata": {},
     "output_type": "display_data"
    },
    {
     "data": {
      "text/html": [
       "Tracking run with wandb version 0.17.0"
      ],
      "text/plain": [
       "<IPython.core.display.HTML object>"
      ]
     },
     "metadata": {},
     "output_type": "display_data"
    },
    {
     "data": {
      "text/html": [
       "Run data is saved locally in <code>/home/optima/mhaderer/AILS-MICCAI-UWF4DR-Challenge/wandb/run-20240723_173743-xcyq7ev2</code>"
      ],
      "text/plain": [
       "<IPython.core.display.HTML object>"
      ]
     },
     "metadata": {},
     "output_type": "display_data"
    },
    {
     "data": {
      "text/html": [
       "Syncing run <strong><a href='https://wandb.ai/miccai-challenge-2024/task2/runs/xcyq7ev2' target=\"_blank\">devout-sweep-2</a></strong> to <a href='https://wandb.ai/miccai-challenge-2024/task2' target=\"_blank\">Weights & Biases</a> (<a href='https://wandb.me/run' target=\"_blank\">docs</a>)<br/>Sweep page: <a href='https://wandb.ai/miccai-challenge-2024/task2/sweeps/wku4858f' target=\"_blank\">https://wandb.ai/miccai-challenge-2024/task2/sweeps/wku4858f</a>"
      ],
      "text/plain": [
       "<IPython.core.display.HTML object>"
      ]
     },
     "metadata": {},
     "output_type": "display_data"
    },
    {
     "data": {
      "text/html": [
       " View project at <a href='https://wandb.ai/miccai-challenge-2024/task2' target=\"_blank\">https://wandb.ai/miccai-challenge-2024/task2</a>"
      ],
      "text/plain": [
       "<IPython.core.display.HTML object>"
      ]
     },
     "metadata": {},
     "output_type": "display_data"
    },
    {
     "data": {
      "text/html": [
       " View sweep at <a href='https://wandb.ai/miccai-challenge-2024/task2/sweeps/wku4858f' target=\"_blank\">https://wandb.ai/miccai-challenge-2024/task2/sweeps/wku4858f</a>"
      ],
      "text/plain": [
       "<IPython.core.display.HTML object>"
      ]
     },
     "metadata": {},
     "output_type": "display_data"
    },
    {
     "data": {
      "text/html": [
       " View run at <a href='https://wandb.ai/miccai-challenge-2024/task2/runs/xcyq7ev2' target=\"_blank\">https://wandb.ai/miccai-challenge-2024/task2/runs/xcyq7ev2</a>"
      ],
      "text/plain": [
       "<IPython.core.display.HTML object>"
      ]
     },
     "metadata": {},
     "output_type": "display_data"
    },
    {
     "name": "stderr",
     "output_type": "stream",
     "text": [
      "/opt/conda/lib/python3.10/site-packages/torch/optim/lr_scheduler.py:28: UserWarning: The verbose parameter is deprecated. Please use get_last_lr() to access the learning rate.\n",
      "  warnings.warn(\"The verbose parameter is deprecated. Please use get_last_lr() \"\n"
     ]
    },
    {
     "name": "stdout",
     "output_type": "stream",
     "text": [
      "\n",
      "Original class distribution:\n",
      "Class 0: 149\n",
      "Class 1: 250\n",
      "dr\n",
      "1    0.626566\n",
      "0    0.373434\n",
      "Name: proportion, dtype: Float64\n",
      "\n",
      "Resampled class distribution:\n",
      "dr\n",
      "1    0.5\n",
      "0    0.5\n",
      "Name: proportion, dtype: Float64\n",
      "Using device: cuda\n",
      "Loaded pretrained weights for efficientnet-b0\n",
      "Now train train train\n"
     ]
    },
    {
     "name": "stderr",
     "output_type": "stream",
     "text": [
      "Epoch 1/20 - Avg train Loss: 0.444313: 100%|███████████████████████████████████████████████████████████████████████████████████████████████████████████████████████████████| 13/13 [00:45<00:00,  3.52s/it]\n",
      "Epoch 1/20 - Avg val Loss: 0.537306: 100%|███████████████████████████████████████████████████████████████████████████████████████████████████████████████████████████████████| 4/4 [00:09<00:00,  2.27s/it]\n"
     ]
    },
    {
     "name": "stdout",
     "output_type": "stream",
     "text": [
      "New best model found at epoch 1 with validation loss: 0.5373. Model saved to models/best_model_2024-07-23_17-37-52.pth\n"
     ]
    },
    {
     "name": "stderr",
     "output_type": "stream",
     "text": [
      "Epoch 2/20 - Avg train Loss: 0.372825: 100%|███████████████████████████████████████████████████████████████████████████████████████████████████████████████████████████████| 13/13 [00:45<00:00,  3.49s/it]\n",
      "Epoch 2/20 - Avg val Loss: 0.484414: 100%|███████████████████████████████████████████████████████████████████████████████████████████████████████████████████████████████████| 4/4 [00:09<00:00,  2.30s/it]\n"
     ]
    },
    {
     "name": "stdout",
     "output_type": "stream",
     "text": [
      "New best model found at epoch 2 with validation loss: 0.4844. Model saved to models/best_model_2024-07-23_17-37-52.pth\n"
     ]
    },
    {
     "name": "stderr",
     "output_type": "stream",
     "text": [
      "Epoch 3/20 - Avg train Loss: 0.341869: 100%|███████████████████████████████████████████████████████████████████████████████████████████████████████████████████████████████| 13/13 [00:45<00:00,  3.50s/it]\n",
      "Epoch 3/20 - Avg val Loss: 0.423797: 100%|███████████████████████████████████████████████████████████████████████████████████████████████████████████████████████████████████| 4/4 [00:09<00:00,  2.30s/it]\n"
     ]
    },
    {
     "name": "stdout",
     "output_type": "stream",
     "text": [
      "New best model found at epoch 3 with validation loss: 0.4238. Model saved to models/best_model_2024-07-23_17-37-52.pth\n"
     ]
    },
    {
     "name": "stderr",
     "output_type": "stream",
     "text": [
      "Epoch 4/20 - Avg train Loss: 0.309513: 100%|███████████████████████████████████████████████████████████████████████████████████████████████████████████████████████████████| 13/13 [00:44<00:00,  3.39s/it]\n",
      "Epoch 4/20 - Avg val Loss: 0.437933: 100%|███████████████████████████████████████████████████████████████████████████████████████████████████████████████████████████████████| 4/4 [00:09<00:00,  2.37s/it]\n",
      "Epoch 5/20 - Avg train Loss: 0.340811: 100%|███████████████████████████████████████████████████████████████████████████████████████████████████████████████████████████████| 13/13 [00:44<00:00,  3.41s/it]\n",
      "Epoch 5/20 - Avg val Loss: 0.388702: 100%|███████████████████████████████████████████████████████████████████████████████████████████████████████████████████████████████████| 4/4 [00:09<00:00,  2.39s/it]\n"
     ]
    },
    {
     "name": "stdout",
     "output_type": "stream",
     "text": [
      "New best model found at epoch 5 with validation loss: 0.3887. Model saved to models/best_model_2024-07-23_17-37-52.pth\n"
     ]
    },
    {
     "name": "stderr",
     "output_type": "stream",
     "text": [
      "Epoch 6/20 - Avg train Loss: 0.299103: 100%|███████████████████████████████████████████████████████████████████████████████████████████████████████████████████████████████| 13/13 [00:44<00:00,  3.45s/it]\n",
      "Epoch 6/20 - Avg val Loss: 0.381531: 100%|███████████████████████████████████████████████████████████████████████████████████████████████████████████████████████████████████| 4/4 [00:09<00:00,  2.34s/it]\n"
     ]
    },
    {
     "name": "stdout",
     "output_type": "stream",
     "text": [
      "New best model found at epoch 6 with validation loss: 0.3815. Model saved to models/best_model_2024-07-23_17-37-52.pth\n"
     ]
    },
    {
     "name": "stderr",
     "output_type": "stream",
     "text": [
      "Epoch 7/20 - Avg train Loss: 0.288521: 100%|███████████████████████████████████████████████████████████████████████████████████████████████████████████████████████████████| 13/13 [00:44<00:00,  3.45s/it]\n",
      "Epoch 7/20 - Avg val Loss: 0.407559: 100%|███████████████████████████████████████████████████████████████████████████████████████████████████████████████████████████████████| 4/4 [00:09<00:00,  2.25s/it]\n",
      "Epoch 8/20 - Avg train Loss: 0.290623: 100%|███████████████████████████████████████████████████████████████████████████████████████████████████████████████████████████████| 13/13 [00:44<00:00,  3.43s/it]\n",
      "Epoch 8/20 - Avg val Loss: 0.458510: 100%|███████████████████████████████████████████████████████████████████████████████████████████████████████████████████████████████████| 4/4 [00:08<00:00,  2.23s/it]\n",
      "Epoch 9/20 - Avg train Loss: 0.281817: 100%|███████████████████████████████████████████████████████████████████████████████████████████████████████████████████████████████| 13/13 [00:43<00:00,  3.38s/it]\n",
      "Epoch 9/20 - Avg val Loss: 0.417799: 100%|███████████████████████████████████████████████████████████████████████████████████████████████████████████████████████████████████| 4/4 [00:08<00:00,  2.22s/it]\n",
      "Epoch 10/20 - Avg train Loss: 0.282091: 100%|██████████████████████████████████████████████████████████████████████████████████████████████████████████████████████████████| 13/13 [00:44<00:00,  3.42s/it]\n",
      "Epoch 10/20 - Avg val Loss: 0.492089: 100%|██████████████████████████████████████████████████████████████████████████████████████████████████████████████████████████████████| 4/4 [00:09<00:00,  2.28s/it]\n",
      "Epoch 11/20 - Avg train Loss: 0.286523: 100%|██████████████████████████████████████████████████████████████████████████████████████████████████████████████████████████████| 13/13 [00:43<00:00,  3.35s/it]\n",
      "Epoch 11/20 - Avg val Loss: 0.401050: 100%|██████████████████████████████████████████████████████████████████████████████████████████████████████████████████████████████████| 4/4 [00:08<00:00,  2.23s/it]\n",
      "Epoch 12/20 - Avg train Loss: 0.303450: 100%|██████████████████████████████████████████████████████████████████████████████████████████████████████████████████████████████| 13/13 [00:44<00:00,  3.40s/it]\n",
      "Epoch 12/20 - Avg val Loss: 0.459245: 100%|██████████████████████████████████████████████████████████████████████████████████████████████████████████████████████████████████| 4/4 [00:08<00:00,  2.25s/it]\n",
      "Epoch 13/20 - Avg train Loss: 0.282822: 100%|██████████████████████████████████████████████████████████████████████████████████████████████████████████████████████████████| 13/13 [00:44<00:00,  3.41s/it]\n",
      "Epoch 13/20 - Avg val Loss: 0.445194: 100%|██████████████████████████████████████████████████████████████████████████████████████████████████████████████████████████████████| 4/4 [00:09<00:00,  2.27s/it]\n",
      "Epoch 14/20 - Avg train Loss: 0.284695: 100%|██████████████████████████████████████████████████████████████████████████████████████████████████████████████████████████████| 13/13 [00:44<00:00,  3.43s/it]\n",
      "Epoch 14/20 - Avg val Loss: 0.427788: 100%|██████████████████████████████████████████████████████████████████████████████████████████████████████████████████████████████████| 4/4 [00:09<00:00,  2.28s/it]\n",
      "Epoch 15/20 - Avg train Loss: 0.281577: 100%|██████████████████████████████████████████████████████████████████████████████████████████████████████████████████████████████| 13/13 [00:44<00:00,  3.40s/it]\n",
      "Epoch 15/20 - Avg val Loss: 0.409386: 100%|██████████████████████████████████████████████████████████████████████████████████████████████████████████████████████████████████| 4/4 [00:08<00:00,  2.25s/it]\n",
      "Epoch 16/20 - Avg train Loss: 0.274724: 100%|██████████████████████████████████████████████████████████████████████████████████████████████████████████████████████████████| 13/13 [00:44<00:00,  3.40s/it]\n",
      "Epoch 16/20 - Avg val Loss: 0.400907: 100%|██████████████████████████████████████████████████████████████████████████████████████████████████████████████████████████████████| 4/4 [00:09<00:00,  2.29s/it]\n",
      "Epoch 17/20 - Avg train Loss: 0.275664: 100%|██████████████████████████████████████████████████████████████████████████████████████████████████████████████████████████████| 13/13 [00:44<00:00,  3.39s/it]\n",
      "Epoch 17/20 - Avg val Loss: 0.397187: 100%|██████████████████████████████████████████████████████████████████████████████████████████████████████████████████████████████████| 4/4 [00:08<00:00,  2.24s/it]\n",
      "Epoch 18/20 - Avg train Loss: 0.272151: 100%|██████████████████████████████████████████████████████████████████████████████████████████████████████████████████████████████| 13/13 [00:42<00:00,  3.31s/it]\n",
      "Epoch 18/20 - Avg val Loss: 0.385203: 100%|██████████████████████████████████████████████████████████████████████████████████████████████████████████████████████████████████| 4/4 [00:09<00:00,  2.31s/it]\n",
      "Epoch 19/20 - Avg train Loss: 0.275382: 100%|██████████████████████████████████████████████████████████████████████████████████████████████████████████████████████████████| 13/13 [00:44<00:00,  3.40s/it]\n",
      "Epoch 19/20 - Avg val Loss: 0.380694: 100%|██████████████████████████████████████████████████████████████████████████████████████████████████████████████████████████████████| 4/4 [00:09<00:00,  2.26s/it]\n"
     ]
    },
    {
     "name": "stdout",
     "output_type": "stream",
     "text": [
      "New best model found at epoch 19 with validation loss: 0.3807. Model saved to models/best_model_2024-07-23_17-37-52.pth\n"
     ]
    },
    {
     "name": "stderr",
     "output_type": "stream",
     "text": [
      "Epoch 20/20 - Avg train Loss: 0.273810: 100%|██████████████████████████████████████████████████████████████████████████████████████████████████████████████████████████████| 13/13 [00:43<00:00,  3.33s/it]\n",
      "Epoch 20/20 - Avg val Loss: 0.376824: 100%|██████████████████████████████████████████████████████████████████████████████████████████████████████████████████████████████████| 4/4 [00:08<00:00,  2.23s/it]\n"
     ]
    },
    {
     "name": "stdout",
     "output_type": "stream",
     "text": [
      "New best model found at epoch 20 with validation loss: 0.3768. Model saved to models/best_model_2024-07-23_17-37-52.pth\n",
      "Finished training\n"
     ]
    },
    {
     "data": {
      "application/vnd.jupyter.widget-view+json": {
       "model_id": "6b65c031fdb74111b005badeb3a5467f",
       "version_major": 2,
       "version_minor": 0
      },
      "text/plain": [
       "VBox(children=(Label(value='0.008 MB of 0.008 MB uploaded\\r'), FloatProgress(value=1.0, max=1.0)))"
      ]
     },
     "metadata": {},
     "output_type": "display_data"
    },
    {
     "data": {
      "text/html": [
       "<style>\n",
       "    table.wandb td:nth-child(1) { padding: 0 10px; text-align: left ; width: auto;} td:nth-child(2) {text-align: left ; width: 100%}\n",
       "    .wandb-row { display: flex; flex-direction: row; flex-wrap: wrap; justify-content: flex-start; width: 100% }\n",
       "    .wandb-col { display: flex; flex-direction: column; flex-basis: 100%; flex: 1; padding: 10px; }\n",
       "    </style>\n",
       "<div class=\"wandb-row\"><div class=\"wandb-col\"><h3>Run history:</h3><br/><table class=\"wandb\"><tr><td>accuracy</td><td>▁▅▆▇▇██▆▇▅▇▅▅▆▇▇▇▇▇▇</td></tr><tr><td>auprc</td><td>▁▆▇▇▇█▇▅▇▆▇▇▇▇▇█████</td></tr><tr><td>auroc</td><td>▁▆▇▇▇█▇▄▇▆▆▇▇▇▇█████</td></tr><tr><td>avg_train_loss</td><td>█▅▄▃▄▂▂▂▁▁▂▂▁▂▁▁▁▁▁▁</td></tr><tr><td>avg_val_loss</td><td>█▆▃▄▂▁▂▅▃▆▂▅▄▃▂▂▂▁▁▁</td></tr><tr><td>sensitivity</td><td>▆▁▄▆▄▅▄▂▄▁▅▅▄▅▅█████</td></tr><tr><td>specificity</td><td>▁▇▇▇█▇████▇▇▇▇▇▇▇▇▇▇</td></tr></table><br/></div><div class=\"wandb-col\"><h3>Run summary:</h3><br/><table class=\"wandb\"><tr><td>accuracy</td><td>0.88</td></tr><tr><td>auprc</td><td>0.96193</td></tr><tr><td>auroc</td><td>0.9508</td></tr><tr><td>avg_train_loss</td><td>0.27381</td></tr><tr><td>avg_val_loss</td><td>0.37682</td></tr><tr><td>sensitivity</td><td>0.92</td></tr><tr><td>specificity</td><td>0.96</td></tr></table><br/></div></div>"
      ],
      "text/plain": [
       "<IPython.core.display.HTML object>"
      ]
     },
     "metadata": {},
     "output_type": "display_data"
    },
    {
     "data": {
      "text/html": [
       " View run <strong style=\"color:#cdcd00\">devout-sweep-2</strong> at: <a href='https://wandb.ai/miccai-challenge-2024/task2/runs/xcyq7ev2' target=\"_blank\">https://wandb.ai/miccai-challenge-2024/task2/runs/xcyq7ev2</a><br/> View project at: <a href='https://wandb.ai/miccai-challenge-2024/task2' target=\"_blank\">https://wandb.ai/miccai-challenge-2024/task2</a><br/>Synced 6 W&B file(s), 0 media file(s), 0 artifact file(s) and 0 other file(s)"
      ],
      "text/plain": [
       "<IPython.core.display.HTML object>"
      ]
     },
     "metadata": {},
     "output_type": "display_data"
    },
    {
     "data": {
      "text/html": [
       "Find logs at: <code>./wandb/run-20240723_173743-xcyq7ev2/logs</code>"
      ],
      "text/plain": [
       "<IPython.core.display.HTML object>"
      ]
     },
     "metadata": {},
     "output_type": "display_data"
    },
    {
     "name": "stderr",
     "output_type": "stream",
     "text": [
      "\u001b[34m\u001b[1mwandb\u001b[0m: Agent Starting Run: gq4m1uh1 with config:\n",
      "\u001b[34m\u001b[1mwandb\u001b[0m: \tbatch_size: 32\n",
      "\u001b[34m\u001b[1mwandb\u001b[0m: \tepochs: 20\n",
      "\u001b[34m\u001b[1mwandb\u001b[0m: \tloss_weight: 0.5\n",
      "\u001b[34m\u001b[1mwandb\u001b[0m: \tlr: 0.001\n",
      "\u001b[34m\u001b[1mwandb\u001b[0m: \tlr_schedule_factor: 0.1\n",
      "\u001b[34m\u001b[1mwandb\u001b[0m: \tlr_schedule_patience: 5\n",
      "\u001b[34m\u001b[1mwandb\u001b[0m: \tmodel: AutoMorphModel\n",
      "\u001b[34m\u001b[1mwandb\u001b[0m: \tp_affine: 0.3\n",
      "\u001b[34m\u001b[1mwandb\u001b[0m: \tp_clahe: 0.3\n",
      "\u001b[34m\u001b[1mwandb\u001b[0m: \tp_equalize: 0.3\n",
      "\u001b[34m\u001b[1mwandb\u001b[0m: \tp_gaussblur: 0.3\n",
      "\u001b[34m\u001b[1mwandb\u001b[0m: \tp_horizontalflip: 0\n",
      "\u001b[34m\u001b[1mwandb\u001b[0m: \trotation: 15\n",
      "\u001b[34m\u001b[1mwandb\u001b[0m: \u001b[33mWARNING\u001b[0m Ignored wandb.init() arg project when running a sweep.\n"
     ]
    },
    {
     "data": {
      "text/html": [
       "wandb version 0.17.5 is available!  To upgrade, please run:\n",
       " $ pip install wandb --upgrade"
      ],
      "text/plain": [
       "<IPython.core.display.HTML object>"
      ]
     },
     "metadata": {},
     "output_type": "display_data"
    },
    {
     "data": {
      "text/html": [
       "Tracking run with wandb version 0.17.0"
      ],
      "text/plain": [
       "<IPython.core.display.HTML object>"
      ]
     },
     "metadata": {},
     "output_type": "display_data"
    },
    {
     "data": {
      "text/html": [
       "Run data is saved locally in <code>/home/optima/mhaderer/AILS-MICCAI-UWF4DR-Challenge/wandb/run-20240723_175554-gq4m1uh1</code>"
      ],
      "text/plain": [
       "<IPython.core.display.HTML object>"
      ]
     },
     "metadata": {},
     "output_type": "display_data"
    },
    {
     "data": {
      "text/html": [
       "Syncing run <strong><a href='https://wandb.ai/miccai-challenge-2024/task2/runs/gq4m1uh1' target=\"_blank\">woven-sweep-3</a></strong> to <a href='https://wandb.ai/miccai-challenge-2024/task2' target=\"_blank\">Weights & Biases</a> (<a href='https://wandb.me/run' target=\"_blank\">docs</a>)<br/>Sweep page: <a href='https://wandb.ai/miccai-challenge-2024/task2/sweeps/wku4858f' target=\"_blank\">https://wandb.ai/miccai-challenge-2024/task2/sweeps/wku4858f</a>"
      ],
      "text/plain": [
       "<IPython.core.display.HTML object>"
      ]
     },
     "metadata": {},
     "output_type": "display_data"
    },
    {
     "data": {
      "text/html": [
       " View project at <a href='https://wandb.ai/miccai-challenge-2024/task2' target=\"_blank\">https://wandb.ai/miccai-challenge-2024/task2</a>"
      ],
      "text/plain": [
       "<IPython.core.display.HTML object>"
      ]
     },
     "metadata": {},
     "output_type": "display_data"
    },
    {
     "data": {
      "text/html": [
       " View sweep at <a href='https://wandb.ai/miccai-challenge-2024/task2/sweeps/wku4858f' target=\"_blank\">https://wandb.ai/miccai-challenge-2024/task2/sweeps/wku4858f</a>"
      ],
      "text/plain": [
       "<IPython.core.display.HTML object>"
      ]
     },
     "metadata": {},
     "output_type": "display_data"
    },
    {
     "data": {
      "text/html": [
       " View run at <a href='https://wandb.ai/miccai-challenge-2024/task2/runs/gq4m1uh1' target=\"_blank\">https://wandb.ai/miccai-challenge-2024/task2/runs/gq4m1uh1</a>"
      ],
      "text/plain": [
       "<IPython.core.display.HTML object>"
      ]
     },
     "metadata": {},
     "output_type": "display_data"
    },
    {
     "name": "stdout",
     "output_type": "stream",
     "text": [
      "\n",
      "Original class distribution:\n",
      "Class 0: 149\n",
      "Class 1: 250\n",
      "dr\n",
      "1    0.626566\n",
      "0    0.373434\n",
      "Name: proportion, dtype: Float64\n",
      "\n",
      "Resampled class distribution:\n",
      "dr\n",
      "1    0.5\n",
      "0    0.5\n",
      "Name: proportion, dtype: Float64\n",
      "Using device: cuda\n",
      "Loaded pretrained weights for efficientnet-b4\n"
     ]
    },
    {
     "name": "stderr",
     "output_type": "stream",
     "text": [
      "/opt/conda/lib/python3.10/site-packages/torch/optim/lr_scheduler.py:28: UserWarning: The verbose parameter is deprecated. Please use get_last_lr() to access the learning rate.\n",
      "  warnings.warn(\"The verbose parameter is deprecated. Please use get_last_lr() \"\n"
     ]
    },
    {
     "name": "stdout",
     "output_type": "stream",
     "text": [
      "Now train train train\n"
     ]
    },
    {
     "name": "stderr",
     "output_type": "stream",
     "text": [
      "Epoch 1/20 - Avg train Loss: 0.698111: 100%|███████████████████████████████████████████████████████████████████████████████████████████████████████████████████████████████| 13/13 [00:45<00:00,  3.53s/it]\n",
      "Epoch 1/20 - Avg val Loss: 0.458505: 100%|███████████████████████████████████████████████████████████████████████████████████████████████████████████████████████████████████| 4/4 [00:10<00:00,  2.66s/it]\n"
     ]
    },
    {
     "name": "stdout",
     "output_type": "stream",
     "text": [
      "New best model found at epoch 1 with validation loss: 0.4585. Model saved to models/best_model_2024-07-23_17-56-03.pth\n"
     ]
    },
    {
     "name": "stderr",
     "output_type": "stream",
     "text": [
      "Epoch 2/20 - Avg train Loss: 0.473403: 100%|███████████████████████████████████████████████████████████████████████████████████████████████████████████████████████████████| 13/13 [00:44<00:00,  3.44s/it]\n",
      "Epoch 2/20 - Avg val Loss: 0.479928: 100%|███████████████████████████████████████████████████████████████████████████████████████████████████████████████████████████████████| 4/4 [00:10<00:00,  2.59s/it]\n",
      "Epoch 3/20 - Avg train Loss: 0.421718: 100%|███████████████████████████████████████████████████████████████████████████████████████████████████████████████████████████████| 13/13 [00:43<00:00,  3.32s/it]\n",
      "Epoch 3/20 - Avg val Loss: 0.547962: 100%|███████████████████████████████████████████████████████████████████████████████████████████████████████████████████████████████████| 4/4 [00:10<00:00,  2.58s/it]\n",
      "Epoch 4/20 - Avg train Loss: 0.393713: 100%|███████████████████████████████████████████████████████████████████████████████████████████████████████████████████████████████| 13/13 [00:44<00:00,  3.44s/it]\n",
      "Epoch 4/20 - Avg val Loss: 0.546349: 100%|███████████████████████████████████████████████████████████████████████████████████████████████████████████████████████████████████| 4/4 [00:10<00:00,  2.55s/it]\n",
      "Epoch 5/20 - Avg train Loss: 0.405718: 100%|███████████████████████████████████████████████████████████████████████████████████████████████████████████████████████████████| 13/13 [00:44<00:00,  3.43s/it]\n",
      "Epoch 5/20 - Avg val Loss: 0.473302: 100%|███████████████████████████████████████████████████████████████████████████████████████████████████████████████████████████████████| 4/4 [00:10<00:00,  2.55s/it]\n",
      "Epoch 6/20 - Avg train Loss: 0.386300: 100%|███████████████████████████████████████████████████████████████████████████████████████████████████████████████████████████████| 13/13 [00:43<00:00,  3.35s/it]\n",
      "Epoch 6/20 - Avg val Loss: 0.447225: 100%|███████████████████████████████████████████████████████████████████████████████████████████████████████████████████████████████████| 4/4 [00:10<00:00,  2.63s/it]\n"
     ]
    },
    {
     "name": "stdout",
     "output_type": "stream",
     "text": [
      "New best model found at epoch 6 with validation loss: 0.4472. Model saved to models/best_model_2024-07-23_17-56-03.pth\n"
     ]
    },
    {
     "name": "stderr",
     "output_type": "stream",
     "text": [
      "Epoch 7/20 - Avg train Loss: 0.410056: 100%|███████████████████████████████████████████████████████████████████████████████████████████████████████████████████████████████| 13/13 [00:43<00:00,  3.34s/it]\n",
      "Epoch 7/20 - Avg val Loss: 0.541198: 100%|███████████████████████████████████████████████████████████████████████████████████████████████████████████████████████████████████| 4/4 [00:10<00:00,  2.57s/it]\n",
      "Epoch 8/20 - Avg train Loss: 0.368574: 100%|███████████████████████████████████████████████████████████████████████████████████████████████████████████████████████████████| 13/13 [00:43<00:00,  3.36s/it]\n",
      "Epoch 8/20 - Avg val Loss: 0.458647: 100%|███████████████████████████████████████████████████████████████████████████████████████████████████████████████████████████████████| 4/4 [00:10<00:00,  2.68s/it]\n",
      "Epoch 9/20 - Avg train Loss: 0.385179: 100%|███████████████████████████████████████████████████████████████████████████████████████████████████████████████████████████████| 13/13 [00:45<00:00,  3.48s/it]\n",
      "Epoch 9/20 - Avg val Loss: 0.410709: 100%|███████████████████████████████████████████████████████████████████████████████████████████████████████████████████████████████████| 4/4 [00:10<00:00,  2.56s/it]\n"
     ]
    },
    {
     "name": "stdout",
     "output_type": "stream",
     "text": [
      "New best model found at epoch 9 with validation loss: 0.4107. Model saved to models/best_model_2024-07-23_17-56-03.pth\n"
     ]
    },
    {
     "name": "stderr",
     "output_type": "stream",
     "text": [
      "Epoch 10/20 - Avg train Loss: 0.372435: 100%|██████████████████████████████████████████████████████████████████████████████████████████████████████████████████████████████| 13/13 [00:44<00:00,  3.46s/it]\n",
      "Epoch 10/20 - Avg val Loss: 0.369670: 100%|██████████████████████████████████████████████████████████████████████████████████████████████████████████████████████████████████| 4/4 [00:10<00:00,  2.67s/it]\n"
     ]
    },
    {
     "name": "stdout",
     "output_type": "stream",
     "text": [
      "New best model found at epoch 10 with validation loss: 0.3697. Model saved to models/best_model_2024-07-23_17-56-03.pth\n"
     ]
    },
    {
     "name": "stderr",
     "output_type": "stream",
     "text": [
      "Epoch 11/20 - Avg train Loss: 0.379173: 100%|██████████████████████████████████████████████████████████████████████████████████████████████████████████████████████████████| 13/13 [00:44<00:00,  3.40s/it]\n",
      "Epoch 11/20 - Avg val Loss: 0.411846: 100%|██████████████████████████████████████████████████████████████████████████████████████████████████████████████████████████████████| 4/4 [00:10<00:00,  2.61s/it]\n",
      "Epoch 12/20 - Avg train Loss: 0.374047: 100%|██████████████████████████████████████████████████████████████████████████████████████████████████████████████████████████████| 13/13 [00:44<00:00,  3.45s/it]\n",
      "Epoch 12/20 - Avg val Loss: 0.362703: 100%|██████████████████████████████████████████████████████████████████████████████████████████████████████████████████████████████████| 4/4 [00:10<00:00,  2.58s/it]\n"
     ]
    },
    {
     "name": "stdout",
     "output_type": "stream",
     "text": [
      "New best model found at epoch 12 with validation loss: 0.3627. Model saved to models/best_model_2024-07-23_17-56-03.pth\n"
     ]
    },
    {
     "name": "stderr",
     "output_type": "stream",
     "text": [
      "Epoch 13/20 - Avg train Loss: 0.374732: 100%|██████████████████████████████████████████████████████████████████████████████████████████████████████████████████████████████| 13/13 [00:44<00:00,  3.44s/it]\n",
      "Epoch 13/20 - Avg val Loss: 0.358704: 100%|██████████████████████████████████████████████████████████████████████████████████████████████████████████████████████████████████| 4/4 [00:10<00:00,  2.62s/it]\n"
     ]
    },
    {
     "name": "stdout",
     "output_type": "stream",
     "text": [
      "New best model found at epoch 13 with validation loss: 0.3587. Model saved to models/best_model_2024-07-23_17-56-03.pth\n"
     ]
    },
    {
     "name": "stderr",
     "output_type": "stream",
     "text": [
      "Epoch 14/20 - Avg train Loss: 0.351105: 100%|██████████████████████████████████████████████████████████████████████████████████████████████████████████████████████████████| 13/13 [00:44<00:00,  3.43s/it]\n",
      "Epoch 14/20 - Avg val Loss: 0.352269: 100%|██████████████████████████████████████████████████████████████████████████████████████████████████████████████████████████████████| 4/4 [00:10<00:00,  2.57s/it]\n"
     ]
    },
    {
     "name": "stdout",
     "output_type": "stream",
     "text": [
      "New best model found at epoch 14 with validation loss: 0.3523. Model saved to models/best_model_2024-07-23_17-56-03.pth\n"
     ]
    },
    {
     "name": "stderr",
     "output_type": "stream",
     "text": [
      "Epoch 15/20 - Avg train Loss: 0.360306: 100%|██████████████████████████████████████████████████████████████████████████████████████████████████████████████████████████████| 13/13 [00:45<00:00,  3.53s/it]\n",
      "Epoch 15/20 - Avg val Loss: 0.349989: 100%|██████████████████████████████████████████████████████████████████████████████████████████████████████████████████████████████████| 4/4 [00:10<00:00,  2.58s/it]\n"
     ]
    },
    {
     "name": "stdout",
     "output_type": "stream",
     "text": [
      "New best model found at epoch 15 with validation loss: 0.3500. Model saved to models/best_model_2024-07-23_17-56-03.pth\n"
     ]
    },
    {
     "name": "stderr",
     "output_type": "stream",
     "text": [
      "Epoch 16/20 - Avg train Loss: 0.355613: 100%|██████████████████████████████████████████████████████████████████████████████████████████████████████████████████████████████| 13/13 [00:44<00:00,  3.39s/it]\n",
      "Epoch 16/20 - Avg val Loss: 0.357081: 100%|██████████████████████████████████████████████████████████████████████████████████████████████████████████████████████████████████| 4/4 [00:10<00:00,  2.61s/it]\n",
      "Epoch 17/20 - Avg train Loss: 0.357467: 100%|██████████████████████████████████████████████████████████████████████████████████████████████████████████████████████████████| 13/13 [00:44<00:00,  3.41s/it]\n",
      "Epoch 17/20 - Avg val Loss: 0.354837: 100%|██████████████████████████████████████████████████████████████████████████████████████████████████████████████████████████████████| 4/4 [00:10<00:00,  2.66s/it]\n",
      "Epoch 18/20 - Avg train Loss: 0.354142: 100%|██████████████████████████████████████████████████████████████████████████████████████████████████████████████████████████████| 13/13 [00:45<00:00,  3.48s/it]\n",
      "Epoch 18/20 - Avg val Loss: 0.340586: 100%|██████████████████████████████████████████████████████████████████████████████████████████████████████████████████████████████████| 4/4 [00:10<00:00,  2.65s/it]\n"
     ]
    },
    {
     "name": "stdout",
     "output_type": "stream",
     "text": [
      "New best model found at epoch 18 with validation loss: 0.3406. Model saved to models/best_model_2024-07-23_17-56-03.pth\n"
     ]
    },
    {
     "name": "stderr",
     "output_type": "stream",
     "text": [
      "Epoch 19/20 - Avg train Loss: 0.348645: 100%|██████████████████████████████████████████████████████████████████████████████████████████████████████████████████████████████| 13/13 [00:43<00:00,  3.37s/it]\n",
      "Epoch 19/20 - Avg val Loss: 0.337979: 100%|██████████████████████████████████████████████████████████████████████████████████████████████████████████████████████████████████| 4/4 [00:10<00:00,  2.66s/it]\n"
     ]
    },
    {
     "name": "stdout",
     "output_type": "stream",
     "text": [
      "New best model found at epoch 19 with validation loss: 0.3380. Model saved to models/best_model_2024-07-23_17-56-03.pth\n"
     ]
    },
    {
     "name": "stderr",
     "output_type": "stream",
     "text": [
      "Epoch 20/20 - Avg train Loss: 0.345684: 100%|██████████████████████████████████████████████████████████████████████████████████████████████████████████████████████████████| 13/13 [00:44<00:00,  3.42s/it]\n",
      "Epoch 20/20 - Avg val Loss: 0.336612: 100%|██████████████████████████████████████████████████████████████████████████████████████████████████████████████████████████████████| 4/4 [00:10<00:00,  2.57s/it]\n"
     ]
    },
    {
     "name": "stdout",
     "output_type": "stream",
     "text": [
      "New best model found at epoch 20 with validation loss: 0.3366. Model saved to models/best_model_2024-07-23_17-56-03.pth\n",
      "Finished training\n"
     ]
    },
    {
     "data": {
      "application/vnd.jupyter.widget-view+json": {
       "model_id": "",
       "version_major": 2,
       "version_minor": 0
      },
      "text/plain": [
       "VBox(children=(Label(value='0.008 MB of 0.008 MB uploaded\\r'), FloatProgress(value=1.0, max=1.0)))"
      ]
     },
     "metadata": {},
     "output_type": "display_data"
    },
    {
     "data": {
      "text/html": [
       "<style>\n",
       "    table.wandb td:nth-child(1) { padding: 0 10px; text-align: left ; width: auto;} td:nth-child(2) {text-align: left ; width: 100%}\n",
       "    .wandb-row { display: flex; flex-direction: row; flex-wrap: wrap; justify-content: flex-start; width: 100% }\n",
       "    .wandb-col { display: flex; flex-direction: column; flex-basis: 100%; flex: 1; padding: 10px; }\n",
       "    </style>\n",
       "<div class=\"wandb-row\"><div class=\"wandb-col\"><h3>Run history:</h3><br/><table class=\"wandb\"><tr><td>accuracy</td><td>▁▂▂▂▂▂▂▂▂▃▂▃▃▇▆▆▄▆██</td></tr><tr><td>auprc</td><td>▁▃▄▆▆▆▆▆▇█▆████▇▇███</td></tr><tr><td>auroc</td><td>▁▄▅▆▆▆▆▆▇█▇████▇████</td></tr><tr><td>avg_train_loss</td><td>█▄▃▂▂▂▂▁▂▂▂▂▂▁▁▁▁▁▁▁</td></tr><tr><td>avg_val_loss</td><td>▅▆██▆▅█▅▃▂▃▂▂▂▁▂▂▁▁▁</td></tr><tr><td>sensitivity</td><td>█▁▅▆▇▇▆▇▅▆▅▆▆▇▅▇▅▅▇▇</td></tr><tr><td>specificity</td><td>▁▇▆▆▆▆▆▆█▇▇██▇█▇██▇█</td></tr></table><br/></div><div class=\"wandb-col\"><h3>Run summary:</h3><br/><table class=\"wandb\"><tr><td>accuracy</td><td>0.74</td></tr><tr><td>auprc</td><td>0.88267</td></tr><tr><td>auroc</td><td>0.874</td></tr><tr><td>avg_train_loss</td><td>0.34568</td></tr><tr><td>avg_val_loss</td><td>0.33661</td></tr><tr><td>sensitivity</td><td>0.88</td></tr><tr><td>specificity</td><td>0.8</td></tr></table><br/></div></div>"
      ],
      "text/plain": [
       "<IPython.core.display.HTML object>"
      ]
     },
     "metadata": {},
     "output_type": "display_data"
    },
    {
     "data": {
      "text/html": [
       " View run <strong style=\"color:#cdcd00\">woven-sweep-3</strong> at: <a href='https://wandb.ai/miccai-challenge-2024/task2/runs/gq4m1uh1' target=\"_blank\">https://wandb.ai/miccai-challenge-2024/task2/runs/gq4m1uh1</a><br/> View project at: <a href='https://wandb.ai/miccai-challenge-2024/task2' target=\"_blank\">https://wandb.ai/miccai-challenge-2024/task2</a><br/>Synced 6 W&B file(s), 0 media file(s), 0 artifact file(s) and 0 other file(s)"
      ],
      "text/plain": [
       "<IPython.core.display.HTML object>"
      ]
     },
     "metadata": {},
     "output_type": "display_data"
    },
    {
     "data": {
      "text/html": [
       "Find logs at: <code>./wandb/run-20240723_175554-gq4m1uh1/logs</code>"
      ],
      "text/plain": [
       "<IPython.core.display.HTML object>"
      ]
     },
     "metadata": {},
     "output_type": "display_data"
    },
    {
     "name": "stderr",
     "output_type": "stream",
     "text": [
      "\u001b[34m\u001b[1mwandb\u001b[0m: Agent Starting Run: mkm0q4zq with config:\n",
      "\u001b[34m\u001b[1mwandb\u001b[0m: \tbatch_size: 32\n",
      "\u001b[34m\u001b[1mwandb\u001b[0m: \tepochs: 20\n",
      "\u001b[34m\u001b[1mwandb\u001b[0m: \tloss_weight: 0.7\n",
      "\u001b[34m\u001b[1mwandb\u001b[0m: \tlr: 0.001\n",
      "\u001b[34m\u001b[1mwandb\u001b[0m: \tlr_schedule_factor: 0.1\n",
      "\u001b[34m\u001b[1mwandb\u001b[0m: \tlr_schedule_patience: 5\n",
      "\u001b[34m\u001b[1mwandb\u001b[0m: \tmodel: AutoMorphModel\n",
      "\u001b[34m\u001b[1mwandb\u001b[0m: \tp_affine: 0\n",
      "\u001b[34m\u001b[1mwandb\u001b[0m: \tp_clahe: 0.3\n",
      "\u001b[34m\u001b[1mwandb\u001b[0m: \tp_equalize: 0.3\n",
      "\u001b[34m\u001b[1mwandb\u001b[0m: \tp_gaussblur: 0\n",
      "\u001b[34m\u001b[1mwandb\u001b[0m: \tp_horizontalflip: 0\n",
      "\u001b[34m\u001b[1mwandb\u001b[0m: \trotation: 15\n",
      "\u001b[34m\u001b[1mwandb\u001b[0m: \u001b[33mWARNING\u001b[0m Ignored wandb.init() arg project when running a sweep.\n"
     ]
    },
    {
     "data": {
      "text/html": [
       "wandb version 0.17.5 is available!  To upgrade, please run:\n",
       " $ pip install wandb --upgrade"
      ],
      "text/plain": [
       "<IPython.core.display.HTML object>"
      ]
     },
     "metadata": {},
     "output_type": "display_data"
    },
    {
     "data": {
      "text/html": [
       "Tracking run with wandb version 0.17.0"
      ],
      "text/plain": [
       "<IPython.core.display.HTML object>"
      ]
     },
     "metadata": {},
     "output_type": "display_data"
    },
    {
     "data": {
      "text/html": [
       "Run data is saved locally in <code>/home/optima/mhaderer/AILS-MICCAI-UWF4DR-Challenge/wandb/run-20240723_181440-mkm0q4zq</code>"
      ],
      "text/plain": [
       "<IPython.core.display.HTML object>"
      ]
     },
     "metadata": {},
     "output_type": "display_data"
    },
    {
     "data": {
      "text/html": [
       "Syncing run <strong><a href='https://wandb.ai/miccai-challenge-2024/task2/runs/mkm0q4zq' target=\"_blank\">silvery-sweep-4</a></strong> to <a href='https://wandb.ai/miccai-challenge-2024/task2' target=\"_blank\">Weights & Biases</a> (<a href='https://wandb.me/run' target=\"_blank\">docs</a>)<br/>Sweep page: <a href='https://wandb.ai/miccai-challenge-2024/task2/sweeps/wku4858f' target=\"_blank\">https://wandb.ai/miccai-challenge-2024/task2/sweeps/wku4858f</a>"
      ],
      "text/plain": [
       "<IPython.core.display.HTML object>"
      ]
     },
     "metadata": {},
     "output_type": "display_data"
    },
    {
     "data": {
      "text/html": [
       " View project at <a href='https://wandb.ai/miccai-challenge-2024/task2' target=\"_blank\">https://wandb.ai/miccai-challenge-2024/task2</a>"
      ],
      "text/plain": [
       "<IPython.core.display.HTML object>"
      ]
     },
     "metadata": {},
     "output_type": "display_data"
    },
    {
     "data": {
      "text/html": [
       " View sweep at <a href='https://wandb.ai/miccai-challenge-2024/task2/sweeps/wku4858f' target=\"_blank\">https://wandb.ai/miccai-challenge-2024/task2/sweeps/wku4858f</a>"
      ],
      "text/plain": [
       "<IPython.core.display.HTML object>"
      ]
     },
     "metadata": {},
     "output_type": "display_data"
    },
    {
     "data": {
      "text/html": [
       " View run at <a href='https://wandb.ai/miccai-challenge-2024/task2/runs/mkm0q4zq' target=\"_blank\">https://wandb.ai/miccai-challenge-2024/task2/runs/mkm0q4zq</a>"
      ],
      "text/plain": [
       "<IPython.core.display.HTML object>"
      ]
     },
     "metadata": {},
     "output_type": "display_data"
    },
    {
     "name": "stdout",
     "output_type": "stream",
     "text": [
      "\n",
      "Original class distribution:\n",
      "Class 0: 149\n",
      "Class 1: 250\n",
      "dr\n",
      "1    0.626566\n",
      "0    0.373434\n",
      "Name: proportion, dtype: Float64\n",
      "\n",
      "Resampled class distribution:\n",
      "dr\n",
      "1    0.5\n",
      "0    0.5\n",
      "Name: proportion, dtype: Float64\n",
      "Using device: cuda\n",
      "Loaded pretrained weights for efficientnet-b4\n"
     ]
    },
    {
     "name": "stderr",
     "output_type": "stream",
     "text": [
      "/opt/conda/lib/python3.10/site-packages/torch/optim/lr_scheduler.py:28: UserWarning: The verbose parameter is deprecated. Please use get_last_lr() to access the learning rate.\n",
      "  warnings.warn(\"The verbose parameter is deprecated. Please use get_last_lr() \"\n"
     ]
    },
    {
     "name": "stdout",
     "output_type": "stream",
     "text": [
      "Now train train train\n"
     ]
    },
    {
     "name": "stderr",
     "output_type": "stream",
     "text": [
      "Epoch 1/20 - Avg train Loss: 0.581789: 100%|███████████████████████████████████████████████████████████████████████████████████████████████████████████████████████████████| 13/13 [00:42<00:00,  3.29s/it]\n",
      "Epoch 1/20 - Avg val Loss: 0.609311: 100%|███████████████████████████████████████████████████████████████████████████████████████████████████████████████████████████████████| 4/4 [00:10<00:00,  2.65s/it]\n"
     ]
    },
    {
     "name": "stdout",
     "output_type": "stream",
     "text": [
      "New best model found at epoch 1 with validation loss: 0.6093. Model saved to models/best_model_2024-07-23_18-14-50.pth\n"
     ]
    },
    {
     "name": "stderr",
     "output_type": "stream",
     "text": [
      "Epoch 2/20 - Avg train Loss: 0.525373: 100%|███████████████████████████████████████████████████████████████████████████████████████████████████████████████████████████████| 13/13 [00:41<00:00,  3.17s/it]\n",
      "Epoch 2/20 - Avg val Loss: 0.550739: 100%|███████████████████████████████████████████████████████████████████████████████████████████████████████████████████████████████████| 4/4 [00:10<00:00,  2.65s/it]\n"
     ]
    },
    {
     "name": "stdout",
     "output_type": "stream",
     "text": [
      "New best model found at epoch 2 with validation loss: 0.5507. Model saved to models/best_model_2024-07-23_18-14-50.pth\n"
     ]
    },
    {
     "name": "stderr",
     "output_type": "stream",
     "text": [
      "Epoch 3/20 - Avg train Loss: 0.507943: 100%|███████████████████████████████████████████████████████████████████████████████████████████████████████████████████████████████| 13/13 [00:41<00:00,  3.18s/it]\n",
      "Epoch 3/20 - Avg val Loss: 0.576788: 100%|███████████████████████████████████████████████████████████████████████████████████████████████████████████████████████████████████| 4/4 [00:10<00:00,  2.62s/it]\n",
      "Epoch 4/20 - Avg train Loss: 0.489842: 100%|███████████████████████████████████████████████████████████████████████████████████████████████████████████████████████████████| 13/13 [00:41<00:00,  3.20s/it]\n",
      "Epoch 4/20 - Avg val Loss: 0.566026: 100%|███████████████████████████████████████████████████████████████████████████████████████████████████████████████████████████████████| 4/4 [00:10<00:00,  2.59s/it]\n",
      "Epoch 5/20 - Avg train Loss: 0.482968: 100%|███████████████████████████████████████████████████████████████████████████████████████████████████████████████████████████████| 13/13 [00:41<00:00,  3.17s/it]\n",
      "Epoch 5/20 - Avg val Loss: 0.679020: 100%|███████████████████████████████████████████████████████████████████████████████████████████████████████████████████████████████████| 4/4 [00:10<00:00,  2.59s/it]\n",
      "Epoch 6/20 - Avg train Loss: 0.463438: 100%|███████████████████████████████████████████████████████████████████████████████████████████████████████████████████████████████| 13/13 [00:41<00:00,  3.18s/it]\n",
      "Epoch 6/20 - Avg val Loss: 0.590315: 100%|███████████████████████████████████████████████████████████████████████████████████████████████████████████████████████████████████| 4/4 [00:10<00:00,  2.61s/it]\n",
      "Epoch 7/20 - Avg train Loss: 0.452007: 100%|███████████████████████████████████████████████████████████████████████████████████████████████████████████████████████████████| 13/13 [00:40<00:00,  3.14s/it]\n",
      "Epoch 7/20 - Avg val Loss: 0.534140: 100%|███████████████████████████████████████████████████████████████████████████████████████████████████████████████████████████████████| 4/4 [00:10<00:00,  2.60s/it]\n"
     ]
    },
    {
     "name": "stdout",
     "output_type": "stream",
     "text": [
      "New best model found at epoch 7 with validation loss: 0.5341. Model saved to models/best_model_2024-07-23_18-14-50.pth\n"
     ]
    },
    {
     "name": "stderr",
     "output_type": "stream",
     "text": [
      "Epoch 8/20 - Avg train Loss: 0.441319: 100%|███████████████████████████████████████████████████████████████████████████████████████████████████████████████████████████████| 13/13 [00:40<00:00,  3.14s/it]\n",
      "Epoch 8/20 - Avg val Loss: 0.538188: 100%|███████████████████████████████████████████████████████████████████████████████████████████████████████████████████████████████████| 4/4 [00:10<00:00,  2.62s/it]\n",
      "Epoch 9/20 - Avg train Loss: 0.450611: 100%|███████████████████████████████████████████████████████████████████████████████████████████████████████████████████████████████| 13/13 [00:40<00:00,  3.14s/it]\n",
      "Epoch 9/20 - Avg val Loss: 0.513952: 100%|███████████████████████████████████████████████████████████████████████████████████████████████████████████████████████████████████| 4/4 [00:10<00:00,  2.57s/it]\n"
     ]
    },
    {
     "name": "stdout",
     "output_type": "stream",
     "text": [
      "New best model found at epoch 9 with validation loss: 0.5140. Model saved to models/best_model_2024-07-23_18-14-50.pth\n"
     ]
    },
    {
     "name": "stderr",
     "output_type": "stream",
     "text": [
      "Epoch 10/20 - Avg train Loss: 0.434391: 100%|██████████████████████████████████████████████████████████████████████████████████████████████████████████████████████████████| 13/13 [00:41<00:00,  3.21s/it]\n",
      "Epoch 10/20 - Avg val Loss: 0.491862: 100%|██████████████████████████████████████████████████████████████████████████████████████████████████████████████████████████████████| 4/4 [00:10<00:00,  2.58s/it]\n"
     ]
    },
    {
     "name": "stdout",
     "output_type": "stream",
     "text": [
      "New best model found at epoch 10 with validation loss: 0.4919. Model saved to models/best_model_2024-07-23_18-14-50.pth\n"
     ]
    },
    {
     "name": "stderr",
     "output_type": "stream",
     "text": [
      "Epoch 11/20 - Avg train Loss: 0.445138: 100%|██████████████████████████████████████████████████████████████████████████████████████████████████████████████████████████████| 13/13 [00:41<00:00,  3.18s/it]\n",
      "Epoch 11/20 - Avg val Loss: 0.539049: 100%|██████████████████████████████████████████████████████████████████████████████████████████████████████████████████████████████████| 4/4 [00:10<00:00,  2.61s/it]\n",
      "Epoch 12/20 - Avg train Loss: 0.441236: 100%|██████████████████████████████████████████████████████████████████████████████████████████████████████████████████████████████| 13/13 [00:41<00:00,  3.18s/it]\n",
      "Epoch 12/20 - Avg val Loss: 0.441011: 100%|██████████████████████████████████████████████████████████████████████████████████████████████████████████████████████████████████| 4/4 [00:10<00:00,  2.57s/it]\n"
     ]
    },
    {
     "name": "stdout",
     "output_type": "stream",
     "text": [
      "New best model found at epoch 12 with validation loss: 0.4410. Model saved to models/best_model_2024-07-23_18-14-50.pth\n"
     ]
    },
    {
     "name": "stderr",
     "output_type": "stream",
     "text": [
      "Epoch 13/20 - Avg train Loss: 0.430036: 100%|██████████████████████████████████████████████████████████████████████████████████████████████████████████████████████████████| 13/13 [00:41<00:00,  3.21s/it]\n",
      "Epoch 13/20 - Avg val Loss: 0.442355: 100%|██████████████████████████████████████████████████████████████████████████████████████████████████████████████████████████████████| 4/4 [00:10<00:00,  2.65s/it]\n",
      "Epoch 14/20 - Avg train Loss: 0.433526: 100%|██████████████████████████████████████████████████████████████████████████████████████████████████████████████████████████████| 13/13 [00:41<00:00,  3.16s/it]\n",
      "Epoch 14/20 - Avg val Loss: 0.432912: 100%|██████████████████████████████████████████████████████████████████████████████████████████████████████████████████████████████████| 4/4 [00:10<00:00,  2.63s/it]\n"
     ]
    },
    {
     "name": "stdout",
     "output_type": "stream",
     "text": [
      "New best model found at epoch 14 with validation loss: 0.4329. Model saved to models/best_model_2024-07-23_18-14-50.pth\n"
     ]
    },
    {
     "name": "stderr",
     "output_type": "stream",
     "text": [
      "Epoch 15/20 - Avg train Loss: 0.422988: 100%|██████████████████████████████████████████████████████████████████████████████████████████████████████████████████████████████| 13/13 [00:40<00:00,  3.13s/it]\n",
      "Epoch 15/20 - Avg val Loss: 0.429645: 100%|██████████████████████████████████████████████████████████████████████████████████████████████████████████████████████████████████| 4/4 [00:10<00:00,  2.69s/it]\n"
     ]
    },
    {
     "name": "stdout",
     "output_type": "stream",
     "text": [
      "New best model found at epoch 15 with validation loss: 0.4296. Model saved to models/best_model_2024-07-23_18-14-50.pth\n"
     ]
    },
    {
     "name": "stderr",
     "output_type": "stream",
     "text": [
      "Epoch 16/20 - Avg train Loss: 0.417744: 100%|██████████████████████████████████████████████████████████████████████████████████████████████████████████████████████████████| 13/13 [00:41<00:00,  3.17s/it]\n",
      "Epoch 16/20 - Avg val Loss: 0.472479: 100%|██████████████████████████████████████████████████████████████████████████████████████████████████████████████████████████████████| 4/4 [00:10<00:00,  2.59s/it]\n",
      "Epoch 17/20 - Avg train Loss: 0.425846: 100%|██████████████████████████████████████████████████████████████████████████████████████████████████████████████████████████████| 13/13 [00:41<00:00,  3.20s/it]\n",
      "Epoch 17/20 - Avg val Loss: 0.431815: 100%|██████████████████████████████████████████████████████████████████████████████████████████████████████████████████████████████████| 4/4 [00:10<00:00,  2.61s/it]\n",
      "Epoch 18/20 - Avg train Loss: 0.438923: 100%|██████████████████████████████████████████████████████████████████████████████████████████████████████████████████████████████| 13/13 [00:41<00:00,  3.18s/it]\n",
      "Epoch 18/20 - Avg val Loss: 0.414253: 100%|██████████████████████████████████████████████████████████████████████████████████████████████████████████████████████████████████| 4/4 [00:10<00:00,  2.59s/it]\n"
     ]
    },
    {
     "name": "stdout",
     "output_type": "stream",
     "text": [
      "New best model found at epoch 18 with validation loss: 0.4143. Model saved to models/best_model_2024-07-23_18-14-50.pth\n"
     ]
    },
    {
     "name": "stderr",
     "output_type": "stream",
     "text": [
      "Epoch 19/20 - Avg train Loss: 0.432510: 100%|██████████████████████████████████████████████████████████████████████████████████████████████████████████████████████████████| 13/13 [00:41<00:00,  3.19s/it]\n",
      "Epoch 19/20 - Avg val Loss: 0.408266: 100%|██████████████████████████████████████████████████████████████████████████████████████████████████████████████████████████████████| 4/4 [00:10<00:00,  2.60s/it]\n"
     ]
    },
    {
     "name": "stdout",
     "output_type": "stream",
     "text": [
      "New best model found at epoch 19 with validation loss: 0.4083. Model saved to models/best_model_2024-07-23_18-14-50.pth\n"
     ]
    },
    {
     "name": "stderr",
     "output_type": "stream",
     "text": [
      "Epoch 20/20 - Avg train Loss: 0.433866: 100%|██████████████████████████████████████████████████████████████████████████████████████████████████████████████████████████████| 13/13 [00:41<00:00,  3.19s/it]\n",
      "Epoch 20/20 - Avg val Loss: 0.414231: 100%|██████████████████████████████████████████████████████████████████████████████████████████████████████████████████████████████████| 4/4 [00:10<00:00,  2.62s/it]\n"
     ]
    },
    {
     "name": "stdout",
     "output_type": "stream",
     "text": [
      "Finished training\n"
     ]
    },
    {
     "data": {
      "application/vnd.jupyter.widget-view+json": {
       "model_id": "",
       "version_major": 2,
       "version_minor": 0
      },
      "text/plain": [
       "VBox(children=(Label(value='0.008 MB of 0.008 MB uploaded\\r'), FloatProgress(value=1.0, max=1.0)))"
      ]
     },
     "metadata": {},
     "output_type": "display_data"
    },
    {
     "data": {
      "text/html": [
       "<style>\n",
       "    table.wandb td:nth-child(1) { padding: 0 10px; text-align: left ; width: auto;} td:nth-child(2) {text-align: left ; width: 100%}\n",
       "    .wandb-row { display: flex; flex-direction: row; flex-wrap: wrap; justify-content: flex-start; width: 100% }\n",
       "    .wandb-col { display: flex; flex-direction: column; flex-basis: 100%; flex: 1; padding: 10px; }\n",
       "    </style>\n",
       "<div class=\"wandb-row\"><div class=\"wandb-col\"><h3>Run history:</h3><br/><table class=\"wandb\"><tr><td>accuracy</td><td>▁▂▂▂▂▂▂▂▂▂▂▇▆▇▆▅▇███</td></tr><tr><td>auprc</td><td>▁▂▇▇▆▆▇▇▇▇▇█▇▇▇▇▇███</td></tr><tr><td>auroc</td><td>▁▂▆▆▆▆▇▆▇▇▇████▇▇███</td></tr><tr><td>avg_train_loss</td><td>█▆▅▄▄▃▂▂▂▂▂▂▂▂▁▁▁▂▂▂</td></tr><tr><td>avg_val_loss</td><td>▆▅▅▅█▆▄▄▄▃▄▂▂▂▂▃▂▁▁▁</td></tr><tr><td>sensitivity</td><td>▆▃▅▁▇▇█▇██▅▆▆▆▆▅▆▇▇▇</td></tr><tr><td>specificity</td><td>▁▃▆█▅▅▅▅▅▅▇▇▇▇▇▇▇▇▇▇</td></tr></table><br/></div><div class=\"wandb-col\"><h3>Run summary:</h3><br/><table class=\"wandb\"><tr><td>accuracy</td><td>0.81</td></tr><tr><td>auprc</td><td>0.89493</td></tr><tr><td>auroc</td><td>0.8916</td></tr><tr><td>avg_train_loss</td><td>0.43387</td></tr><tr><td>avg_val_loss</td><td>0.41423</td></tr><tr><td>sensitivity</td><td>0.86</td></tr><tr><td>specificity</td><td>0.82</td></tr></table><br/></div></div>"
      ],
      "text/plain": [
       "<IPython.core.display.HTML object>"
      ]
     },
     "metadata": {},
     "output_type": "display_data"
    },
    {
     "data": {
      "text/html": [
       " View run <strong style=\"color:#cdcd00\">silvery-sweep-4</strong> at: <a href='https://wandb.ai/miccai-challenge-2024/task2/runs/mkm0q4zq' target=\"_blank\">https://wandb.ai/miccai-challenge-2024/task2/runs/mkm0q4zq</a><br/> View project at: <a href='https://wandb.ai/miccai-challenge-2024/task2' target=\"_blank\">https://wandb.ai/miccai-challenge-2024/task2</a><br/>Synced 6 W&B file(s), 0 media file(s), 0 artifact file(s) and 0 other file(s)"
      ],
      "text/plain": [
       "<IPython.core.display.HTML object>"
      ]
     },
     "metadata": {},
     "output_type": "display_data"
    },
    {
     "data": {
      "text/html": [
       "Find logs at: <code>./wandb/run-20240723_181440-mkm0q4zq/logs</code>"
      ],
      "text/plain": [
       "<IPython.core.display.HTML object>"
      ]
     },
     "metadata": {},
     "output_type": "display_data"
    },
    {
     "name": "stderr",
     "output_type": "stream",
     "text": [
      "\u001b[34m\u001b[1mwandb\u001b[0m: Agent Starting Run: jrqv8tkw with config:\n",
      "\u001b[34m\u001b[1mwandb\u001b[0m: \tbatch_size: 32\n",
      "\u001b[34m\u001b[1mwandb\u001b[0m: \tepochs: 20\n",
      "\u001b[34m\u001b[1mwandb\u001b[0m: \tloss_weight: 0.5\n",
      "\u001b[34m\u001b[1mwandb\u001b[0m: \tlr: 0.001\n",
      "\u001b[34m\u001b[1mwandb\u001b[0m: \tlr_schedule_factor: 0.1\n",
      "\u001b[34m\u001b[1mwandb\u001b[0m: \tlr_schedule_patience: 5\n",
      "\u001b[34m\u001b[1mwandb\u001b[0m: \tmodel: AutoMorphModel\n",
      "\u001b[34m\u001b[1mwandb\u001b[0m: \tp_affine: 0\n",
      "\u001b[34m\u001b[1mwandb\u001b[0m: \tp_clahe: 0.3\n",
      "\u001b[34m\u001b[1mwandb\u001b[0m: \tp_equalize: 0.3\n",
      "\u001b[34m\u001b[1mwandb\u001b[0m: \tp_gaussblur: 0\n",
      "\u001b[34m\u001b[1mwandb\u001b[0m: \tp_horizontalflip: 0.3\n",
      "\u001b[34m\u001b[1mwandb\u001b[0m: \trotation: 30\n",
      "\u001b[34m\u001b[1mwandb\u001b[0m: \u001b[33mWARNING\u001b[0m Ignored wandb.init() arg project when running a sweep.\n"
     ]
    },
    {
     "data": {
      "text/html": [
       "wandb version 0.17.5 is available!  To upgrade, please run:\n",
       " $ pip install wandb --upgrade"
      ],
      "text/plain": [
       "<IPython.core.display.HTML object>"
      ]
     },
     "metadata": {},
     "output_type": "display_data"
    },
    {
     "data": {
      "text/html": [
       "Tracking run with wandb version 0.17.0"
      ],
      "text/plain": [
       "<IPython.core.display.HTML object>"
      ]
     },
     "metadata": {},
     "output_type": "display_data"
    },
    {
     "data": {
      "text/html": [
       "Run data is saved locally in <code>/home/optima/mhaderer/AILS-MICCAI-UWF4DR-Challenge/wandb/run-20240723_183226-jrqv8tkw</code>"
      ],
      "text/plain": [
       "<IPython.core.display.HTML object>"
      ]
     },
     "metadata": {},
     "output_type": "display_data"
    },
    {
     "data": {
      "text/html": [
       "Syncing run <strong><a href='https://wandb.ai/miccai-challenge-2024/task2/runs/jrqv8tkw' target=\"_blank\">confused-sweep-5</a></strong> to <a href='https://wandb.ai/miccai-challenge-2024/task2' target=\"_blank\">Weights & Biases</a> (<a href='https://wandb.me/run' target=\"_blank\">docs</a>)<br/>Sweep page: <a href='https://wandb.ai/miccai-challenge-2024/task2/sweeps/wku4858f' target=\"_blank\">https://wandb.ai/miccai-challenge-2024/task2/sweeps/wku4858f</a>"
      ],
      "text/plain": [
       "<IPython.core.display.HTML object>"
      ]
     },
     "metadata": {},
     "output_type": "display_data"
    },
    {
     "data": {
      "text/html": [
       " View project at <a href='https://wandb.ai/miccai-challenge-2024/task2' target=\"_blank\">https://wandb.ai/miccai-challenge-2024/task2</a>"
      ],
      "text/plain": [
       "<IPython.core.display.HTML object>"
      ]
     },
     "metadata": {},
     "output_type": "display_data"
    },
    {
     "data": {
      "text/html": [
       " View sweep at <a href='https://wandb.ai/miccai-challenge-2024/task2/sweeps/wku4858f' target=\"_blank\">https://wandb.ai/miccai-challenge-2024/task2/sweeps/wku4858f</a>"
      ],
      "text/plain": [
       "<IPython.core.display.HTML object>"
      ]
     },
     "metadata": {},
     "output_type": "display_data"
    },
    {
     "data": {
      "text/html": [
       " View run at <a href='https://wandb.ai/miccai-challenge-2024/task2/runs/jrqv8tkw' target=\"_blank\">https://wandb.ai/miccai-challenge-2024/task2/runs/jrqv8tkw</a>"
      ],
      "text/plain": [
       "<IPython.core.display.HTML object>"
      ]
     },
     "metadata": {},
     "output_type": "display_data"
    },
    {
     "name": "stdout",
     "output_type": "stream",
     "text": [
      "\n",
      "Original class distribution:\n",
      "Class 0: 149\n",
      "Class 1: 250\n",
      "dr\n",
      "1    0.626566\n",
      "0    0.373434\n",
      "Name: proportion, dtype: Float64\n",
      "\n",
      "Resampled class distribution:\n",
      "dr\n",
      "1    0.5\n",
      "0    0.5\n",
      "Name: proportion, dtype: Float64\n",
      "Using device: cuda\n"
     ]
    },
    {
     "name": "stderr",
     "output_type": "stream",
     "text": [
      "/opt/conda/lib/python3.10/site-packages/torch/optim/lr_scheduler.py:28: UserWarning: The verbose parameter is deprecated. Please use get_last_lr() to access the learning rate.\n",
      "  warnings.warn(\"The verbose parameter is deprecated. Please use get_last_lr() \"\n"
     ]
    },
    {
     "name": "stdout",
     "output_type": "stream",
     "text": [
      "Loaded pretrained weights for efficientnet-b4\n",
      "Now train train train\n"
     ]
    },
    {
     "name": "stderr",
     "output_type": "stream",
     "text": [
      "Epoch 1/20 - Avg train Loss: 0.706826: 100%|███████████████████████████████████████████████████████████████████████████████████████████████████████████████████████████████| 13/13 [00:42<00:00,  3.26s/it]\n",
      "Epoch 1/20 - Avg val Loss: 0.522681: 100%|███████████████████████████████████████████████████████████████████████████████████████████████████████████████████████████████████| 4/4 [00:10<00:00,  2.63s/it]\n"
     ]
    },
    {
     "name": "stdout",
     "output_type": "stream",
     "text": [
      "New best model found at epoch 1 with validation loss: 0.5227. Model saved to models/best_model_2024-07-23_18-32-37.pth\n"
     ]
    },
    {
     "name": "stderr",
     "output_type": "stream",
     "text": [
      "Epoch 2/20 - Avg train Loss: 0.426602: 100%|███████████████████████████████████████████████████████████████████████████████████████████████████████████████████████████████| 13/13 [00:41<00:00,  3.21s/it]\n",
      "Epoch 2/20 - Avg val Loss: 0.674934: 100%|███████████████████████████████████████████████████████████████████████████████████████████████████████████████████████████████████| 4/4 [00:10<00:00,  2.66s/it]\n",
      "Epoch 3/20 - Avg train Loss: 0.395483: 100%|███████████████████████████████████████████████████████████████████████████████████████████████████████████████████████████████| 13/13 [00:41<00:00,  3.17s/it]\n",
      "Epoch 3/20 - Avg val Loss: 0.696381: 100%|███████████████████████████████████████████████████████████████████████████████████████████████████████████████████████████████████| 4/4 [00:10<00:00,  2.57s/it]\n",
      "Epoch 4/20 - Avg train Loss: 0.387176: 100%|███████████████████████████████████████████████████████████████████████████████████████████████████████████████████████████████| 13/13 [00:41<00:00,  3.18s/it]\n",
      "Epoch 4/20 - Avg val Loss: 0.502502: 100%|███████████████████████████████████████████████████████████████████████████████████████████████████████████████████████████████████| 4/4 [00:10<00:00,  2.67s/it]\n"
     ]
    },
    {
     "name": "stdout",
     "output_type": "stream",
     "text": [
      "New best model found at epoch 4 with validation loss: 0.5025. Model saved to models/best_model_2024-07-23_18-32-37.pth\n"
     ]
    },
    {
     "name": "stderr",
     "output_type": "stream",
     "text": [
      "Epoch 5/20 - Avg train Loss: 0.381523: 100%|███████████████████████████████████████████████████████████████████████████████████████████████████████████████████████████████| 13/13 [00:41<00:00,  3.16s/it]\n",
      "Epoch 5/20 - Avg val Loss: 0.642434: 100%|███████████████████████████████████████████████████████████████████████████████████████████████████████████████████████████████████| 4/4 [00:10<00:00,  2.71s/it]\n",
      "Epoch 6/20 - Avg train Loss: 0.371223: 100%|███████████████████████████████████████████████████████████████████████████████████████████████████████████████████████████████| 13/13 [00:41<00:00,  3.21s/it]\n",
      "Epoch 6/20 - Avg val Loss: 0.468012: 100%|███████████████████████████████████████████████████████████████████████████████████████████████████████████████████████████████████| 4/4 [00:10<00:00,  2.61s/it]\n"
     ]
    },
    {
     "name": "stdout",
     "output_type": "stream",
     "text": [
      "New best model found at epoch 6 with validation loss: 0.4680. Model saved to models/best_model_2024-07-23_18-32-37.pth\n"
     ]
    },
    {
     "name": "stderr",
     "output_type": "stream",
     "text": [
      "Epoch 7/20 - Avg train Loss: 0.370241: 100%|███████████████████████████████████████████████████████████████████████████████████████████████████████████████████████████████| 13/13 [00:40<00:00,  3.12s/it]\n",
      "Epoch 7/20 - Avg val Loss: 0.453816: 100%|███████████████████████████████████████████████████████████████████████████████████████████████████████████████████████████████████| 4/4 [00:10<00:00,  2.61s/it]\n"
     ]
    },
    {
     "name": "stdout",
     "output_type": "stream",
     "text": [
      "New best model found at epoch 7 with validation loss: 0.4538. Model saved to models/best_model_2024-07-23_18-32-37.pth\n"
     ]
    },
    {
     "name": "stderr",
     "output_type": "stream",
     "text": [
      "Epoch 8/20 - Avg train Loss: 0.349294: 100%|███████████████████████████████████████████████████████████████████████████████████████████████████████████████████████████████| 13/13 [00:40<00:00,  3.15s/it]\n",
      "Epoch 8/20 - Avg val Loss: 0.553647: 100%|███████████████████████████████████████████████████████████████████████████████████████████████████████████████████████████████████| 4/4 [00:10<00:00,  2.59s/it]\n",
      "Epoch 9/20 - Avg train Loss: 0.360012: 100%|███████████████████████████████████████████████████████████████████████████████████████████████████████████████████████████████| 13/13 [00:41<00:00,  3.22s/it]\n",
      "Epoch 9/20 - Avg val Loss: 0.412044: 100%|███████████████████████████████████████████████████████████████████████████████████████████████████████████████████████████████████| 4/4 [00:10<00:00,  2.68s/it]\n"
     ]
    },
    {
     "name": "stdout",
     "output_type": "stream",
     "text": [
      "New best model found at epoch 9 with validation loss: 0.4120. Model saved to models/best_model_2024-07-23_18-32-37.pth\n"
     ]
    },
    {
     "name": "stderr",
     "output_type": "stream",
     "text": [
      "Epoch 10/20 - Avg train Loss: 0.358503: 100%|██████████████████████████████████████████████████████████████████████████████████████████████████████████████████████████████| 13/13 [00:42<00:00,  3.23s/it]\n",
      "Epoch 10/20 - Avg val Loss: 0.417112: 100%|██████████████████████████████████████████████████████████████████████████████████████████████████████████████████████████████████| 4/4 [00:10<00:00,  2.71s/it]\n",
      "Epoch 11/20 - Avg train Loss: 0.361679: 100%|██████████████████████████████████████████████████████████████████████████████████████████████████████████████████████████████| 13/13 [00:42<00:00,  3.25s/it]\n",
      "Epoch 11/20 - Avg val Loss: 0.388590: 100%|██████████████████████████████████████████████████████████████████████████████████████████████████████████████████████████████████| 4/4 [00:10<00:00,  2.65s/it]\n"
     ]
    },
    {
     "name": "stdout",
     "output_type": "stream",
     "text": [
      "New best model found at epoch 11 with validation loss: 0.3886. Model saved to models/best_model_2024-07-23_18-32-37.pth\n"
     ]
    },
    {
     "name": "stderr",
     "output_type": "stream",
     "text": [
      "Epoch 12/20 - Avg train Loss: 0.347926: 100%|██████████████████████████████████████████████████████████████████████████████████████████████████████████████████████████████| 13/13 [00:41<00:00,  3.19s/it]\n",
      "Epoch 12/20 - Avg val Loss: 0.414109: 100%|██████████████████████████████████████████████████████████████████████████████████████████████████████████████████████████████████| 4/4 [00:10<00:00,  2.58s/it]\n",
      "Epoch 13/20 - Avg train Loss: 0.357836: 100%|██████████████████████████████████████████████████████████████████████████████████████████████████████████████████████████████| 13/13 [00:41<00:00,  3.16s/it]\n",
      "Epoch 13/20 - Avg val Loss: 0.362149: 100%|██████████████████████████████████████████████████████████████████████████████████████████████████████████████████████████████████| 4/4 [00:10<00:00,  2.67s/it]\n"
     ]
    },
    {
     "name": "stdout",
     "output_type": "stream",
     "text": [
      "New best model found at epoch 13 with validation loss: 0.3621. Model saved to models/best_model_2024-07-23_18-32-37.pth\n"
     ]
    },
    {
     "name": "stderr",
     "output_type": "stream",
     "text": [
      "Epoch 14/20 - Avg train Loss: 0.353552: 100%|██████████████████████████████████████████████████████████████████████████████████████████████████████████████████████████████| 13/13 [00:40<00:00,  3.12s/it]\n",
      "Epoch 14/20 - Avg val Loss: 0.359304: 100%|██████████████████████████████████████████████████████████████████████████████████████████████████████████████████████████████████| 4/4 [00:10<00:00,  2.56s/it]\n"
     ]
    },
    {
     "name": "stdout",
     "output_type": "stream",
     "text": [
      "New best model found at epoch 14 with validation loss: 0.3593. Model saved to models/best_model_2024-07-23_18-32-37.pth\n"
     ]
    },
    {
     "name": "stderr",
     "output_type": "stream",
     "text": [
      "Epoch 15/20 - Avg train Loss: 0.350146: 100%|██████████████████████████████████████████████████████████████████████████████████████████████████████████████████████████████| 13/13 [00:40<00:00,  3.14s/it]\n",
      "Epoch 15/20 - Avg val Loss: 0.362635: 100%|██████████████████████████████████████████████████████████████████████████████████████████████████████████████████████████████████| 4/4 [00:10<00:00,  2.57s/it]\n",
      "Epoch 16/20 - Avg train Loss: 0.337699: 100%|██████████████████████████████████████████████████████████████████████████████████████████████████████████████████████████████| 13/13 [00:40<00:00,  3.13s/it]\n",
      "Epoch 16/20 - Avg val Loss: 0.344982: 100%|██████████████████████████████████████████████████████████████████████████████████████████████████████████████████████████████████| 4/4 [00:10<00:00,  2.60s/it]\n"
     ]
    },
    {
     "name": "stdout",
     "output_type": "stream",
     "text": [
      "New best model found at epoch 16 with validation loss: 0.3450. Model saved to models/best_model_2024-07-23_18-32-37.pth\n"
     ]
    },
    {
     "name": "stderr",
     "output_type": "stream",
     "text": [
      "Epoch 17/20 - Avg train Loss: 0.338128: 100%|██████████████████████████████████████████████████████████████████████████████████████████████████████████████████████████████| 13/13 [00:40<00:00,  3.15s/it]\n",
      "Epoch 17/20 - Avg val Loss: 0.347633: 100%|██████████████████████████████████████████████████████████████████████████████████████████████████████████████████████████████████| 4/4 [00:10<00:00,  2.58s/it]\n",
      "Epoch 18/20 - Avg train Loss: 0.342395: 100%|██████████████████████████████████████████████████████████████████████████████████████████████████████████████████████████████| 13/13 [00:40<00:00,  3.14s/it]\n",
      "Epoch 18/20 - Avg val Loss: 0.346032: 100%|██████████████████████████████████████████████████████████████████████████████████████████████████████████████████████████████████| 4/4 [00:10<00:00,  2.56s/it]\n",
      "Epoch 19/20 - Avg train Loss: 0.346329: 100%|██████████████████████████████████████████████████████████████████████████████████████████████████████████████████████████████| 13/13 [00:41<00:00,  3.16s/it]\n",
      "Epoch 19/20 - Avg val Loss: 0.347534: 100%|██████████████████████████████████████████████████████████████████████████████████████████████████████████████████████████████████| 4/4 [00:10<00:00,  2.60s/it]\n",
      "Epoch 20/20 - Avg train Loss: 0.358777: 100%|██████████████████████████████████████████████████████████████████████████████████████████████████████████████████████████████| 13/13 [00:41<00:00,  3.16s/it]\n",
      "Epoch 20/20 - Avg val Loss: 0.340789: 100%|██████████████████████████████████████████████████████████████████████████████████████████████████████████████████████████████████| 4/4 [00:10<00:00,  2.63s/it]\n"
     ]
    },
    {
     "name": "stdout",
     "output_type": "stream",
     "text": [
      "New best model found at epoch 20 with validation loss: 0.3408. Model saved to models/best_model_2024-07-23_18-32-37.pth\n",
      "Finished training\n"
     ]
    },
    {
     "data": {
      "application/vnd.jupyter.widget-view+json": {
       "model_id": "",
       "version_major": 2,
       "version_minor": 0
      },
      "text/plain": [
       "VBox(children=(Label(value='0.008 MB of 0.008 MB uploaded\\r'), FloatProgress(value=1.0, max=1.0)))"
      ]
     },
     "metadata": {},
     "output_type": "display_data"
    },
    {
     "data": {
      "text/html": [
       "<style>\n",
       "    table.wandb td:nth-child(1) { padding: 0 10px; text-align: left ; width: auto;} td:nth-child(2) {text-align: left ; width: 100%}\n",
       "    .wandb-row { display: flex; flex-direction: row; flex-wrap: wrap; justify-content: flex-start; width: 100% }\n",
       "    .wandb-col { display: flex; flex-direction: column; flex-basis: 100%; flex: 1; padding: 10px; }\n",
       "    </style>\n",
       "<div class=\"wandb-row\"><div class=\"wandb-col\"><h3>Run history:</h3><br/><table class=\"wandb\"><tr><td>accuracy</td><td>▁▁▁▁▁▁▁▁▁▁▁▁▂▂▃▇▅▄█▅</td></tr><tr><td>auprc</td><td>▁▁▁▂▂▃▄▃▅▆▇▆██▇███▇█</td></tr><tr><td>auroc</td><td>▁▁▁▂▂▄▄▄▆▆▇▆█▇▇█████</td></tr><tr><td>avg_train_loss</td><td>█▃▂▂▂▂▂▁▁▁▁▁▁▁▁▁▁▁▁▁</td></tr><tr><td>avg_val_loss</td><td>▅██▄▇▄▃▅▂▃▂▂▁▁▁▁▁▁▁▁</td></tr><tr><td>sensitivity</td><td>▃▁▃▂▂▅▅▆▇▇▇█▅▄▅▅▅▆▅▆</td></tr><tr><td>specificity</td><td>▂▃▁▃▃▃▃▂▃▃▃▁▆███▇▇█▇</td></tr></table><br/></div><div class=\"wandb-col\"><h3>Run summary:</h3><br/><table class=\"wandb\"><tr><td>accuracy</td><td>0.67</td></tr><tr><td>auprc</td><td>0.87767</td></tr><tr><td>auroc</td><td>0.8768</td></tr><tr><td>avg_train_loss</td><td>0.35878</td></tr><tr><td>avg_val_loss</td><td>0.34079</td></tr><tr><td>sensitivity</td><td>0.86</td></tr><tr><td>specificity</td><td>0.78</td></tr></table><br/></div></div>"
      ],
      "text/plain": [
       "<IPython.core.display.HTML object>"
      ]
     },
     "metadata": {},
     "output_type": "display_data"
    },
    {
     "data": {
      "text/html": [
       " View run <strong style=\"color:#cdcd00\">confused-sweep-5</strong> at: <a href='https://wandb.ai/miccai-challenge-2024/task2/runs/jrqv8tkw' target=\"_blank\">https://wandb.ai/miccai-challenge-2024/task2/runs/jrqv8tkw</a><br/> View project at: <a href='https://wandb.ai/miccai-challenge-2024/task2' target=\"_blank\">https://wandb.ai/miccai-challenge-2024/task2</a><br/>Synced 6 W&B file(s), 0 media file(s), 0 artifact file(s) and 0 other file(s)"
      ],
      "text/plain": [
       "<IPython.core.display.HTML object>"
      ]
     },
     "metadata": {},
     "output_type": "display_data"
    },
    {
     "data": {
      "text/html": [
       "Find logs at: <code>./wandb/run-20240723_183226-jrqv8tkw/logs</code>"
      ],
      "text/plain": [
       "<IPython.core.display.HTML object>"
      ]
     },
     "metadata": {},
     "output_type": "display_data"
    },
    {
     "name": "stderr",
     "output_type": "stream",
     "text": [
      "\u001b[34m\u001b[1mwandb\u001b[0m: Sweep Agent: Waiting for job.\n",
      "\u001b[34m\u001b[1mwandb\u001b[0m: Job received.\n",
      "\u001b[34m\u001b[1mwandb\u001b[0m: Agent Starting Run: g2ojar54 with config:\n",
      "\u001b[34m\u001b[1mwandb\u001b[0m: \tbatch_size: 16\n",
      "\u001b[34m\u001b[1mwandb\u001b[0m: \tepochs: 20\n",
      "\u001b[34m\u001b[1mwandb\u001b[0m: \tloss_weight: 0.7\n",
      "\u001b[34m\u001b[1mwandb\u001b[0m: \tlr: 0.001\n",
      "\u001b[34m\u001b[1mwandb\u001b[0m: \tlr_schedule_factor: 0.1\n",
      "\u001b[34m\u001b[1mwandb\u001b[0m: \tlr_schedule_patience: 5\n",
      "\u001b[34m\u001b[1mwandb\u001b[0m: \tmodel: Task2EfficientNetB0\n",
      "\u001b[34m\u001b[1mwandb\u001b[0m: \tp_affine: 0\n",
      "\u001b[34m\u001b[1mwandb\u001b[0m: \tp_clahe: 0.3\n",
      "\u001b[34m\u001b[1mwandb\u001b[0m: \tp_equalize: 0\n",
      "\u001b[34m\u001b[1mwandb\u001b[0m: \tp_gaussblur: 0\n",
      "\u001b[34m\u001b[1mwandb\u001b[0m: \tp_horizontalflip: 0.3\n",
      "\u001b[34m\u001b[1mwandb\u001b[0m: \trotation: 15\n",
      "\u001b[34m\u001b[1mwandb\u001b[0m: \u001b[33mWARNING\u001b[0m Ignored wandb.init() arg project when running a sweep.\n"
     ]
    },
    {
     "data": {
      "text/html": [
       "wandb version 0.17.5 is available!  To upgrade, please run:\n",
       " $ pip install wandb --upgrade"
      ],
      "text/plain": [
       "<IPython.core.display.HTML object>"
      ]
     },
     "metadata": {},
     "output_type": "display_data"
    },
    {
     "data": {
      "text/html": [
       "Tracking run with wandb version 0.17.0"
      ],
      "text/plain": [
       "<IPython.core.display.HTML object>"
      ]
     },
     "metadata": {},
     "output_type": "display_data"
    },
    {
     "data": {
      "text/html": [
       "Run data is saved locally in <code>/home/optima/mhaderer/AILS-MICCAI-UWF4DR-Challenge/wandb/run-20240723_185103-g2ojar54</code>"
      ],
      "text/plain": [
       "<IPython.core.display.HTML object>"
      ]
     },
     "metadata": {},
     "output_type": "display_data"
    },
    {
     "data": {
      "text/html": [
       "Syncing run <strong><a href='https://wandb.ai/miccai-challenge-2024/task2/runs/g2ojar54' target=\"_blank\">bright-sweep-6</a></strong> to <a href='https://wandb.ai/miccai-challenge-2024/task2' target=\"_blank\">Weights & Biases</a> (<a href='https://wandb.me/run' target=\"_blank\">docs</a>)<br/>Sweep page: <a href='https://wandb.ai/miccai-challenge-2024/task2/sweeps/wku4858f' target=\"_blank\">https://wandb.ai/miccai-challenge-2024/task2/sweeps/wku4858f</a>"
      ],
      "text/plain": [
       "<IPython.core.display.HTML object>"
      ]
     },
     "metadata": {},
     "output_type": "display_data"
    },
    {
     "data": {
      "text/html": [
       " View project at <a href='https://wandb.ai/miccai-challenge-2024/task2' target=\"_blank\">https://wandb.ai/miccai-challenge-2024/task2</a>"
      ],
      "text/plain": [
       "<IPython.core.display.HTML object>"
      ]
     },
     "metadata": {},
     "output_type": "display_data"
    },
    {
     "data": {
      "text/html": [
       " View sweep at <a href='https://wandb.ai/miccai-challenge-2024/task2/sweeps/wku4858f' target=\"_blank\">https://wandb.ai/miccai-challenge-2024/task2/sweeps/wku4858f</a>"
      ],
      "text/plain": [
       "<IPython.core.display.HTML object>"
      ]
     },
     "metadata": {},
     "output_type": "display_data"
    },
    {
     "data": {
      "text/html": [
       " View run at <a href='https://wandb.ai/miccai-challenge-2024/task2/runs/g2ojar54' target=\"_blank\">https://wandb.ai/miccai-challenge-2024/task2/runs/g2ojar54</a>"
      ],
      "text/plain": [
       "<IPython.core.display.HTML object>"
      ]
     },
     "metadata": {},
     "output_type": "display_data"
    },
    {
     "name": "stderr",
     "output_type": "stream",
     "text": [
      "/opt/conda/lib/python3.10/site-packages/torch/optim/lr_scheduler.py:28: UserWarning: The verbose parameter is deprecated. Please use get_last_lr() to access the learning rate.\n",
      "  warnings.warn(\"The verbose parameter is deprecated. Please use get_last_lr() \"\n"
     ]
    },
    {
     "name": "stdout",
     "output_type": "stream",
     "text": [
      "\n",
      "Original class distribution:\n",
      "Class 0: 149\n",
      "Class 1: 250\n",
      "dr\n",
      "1    0.626566\n",
      "0    0.373434\n",
      "Name: proportion, dtype: Float64\n",
      "\n",
      "Resampled class distribution:\n",
      "dr\n",
      "1    0.5\n",
      "0    0.5\n",
      "Name: proportion, dtype: Float64\n",
      "Using device: cuda\n",
      "Loaded pretrained weights for efficientnet-b0\n",
      "Now train train train\n"
     ]
    },
    {
     "name": "stderr",
     "output_type": "stream",
     "text": [
      "Epoch 1/20 - Avg train Loss: 0.437621: 100%|███████████████████████████████████████████████████████████████████████████████████████████████████████████████████████████████| 25/25 [00:43<00:00,  1.74s/it]\n",
      "Epoch 1/20 - Avg val Loss: 0.538747: 100%|███████████████████████████████████████████████████████████████████████████████████████████████████████████████████████████████████| 7/7 [00:09<00:00,  1.40s/it]\n"
     ]
    },
    {
     "name": "stdout",
     "output_type": "stream",
     "text": [
      "New best model found at epoch 1 with validation loss: 0.5387. Model saved to models/best_model_2024-07-23_18-51-13.pth\n"
     ]
    },
    {
     "name": "stderr",
     "output_type": "stream",
     "text": [
      "Epoch 2/20 - Avg train Loss: 0.372606: 100%|███████████████████████████████████████████████████████████████████████████████████████████████████████████████████████████████| 25/25 [00:42<00:00,  1.69s/it]\n",
      "Epoch 2/20 - Avg val Loss: 0.592278: 100%|███████████████████████████████████████████████████████████████████████████████████████████████████████████████████████████████████| 7/7 [00:09<00:00,  1.29s/it]\n",
      "Epoch 3/20 - Avg train Loss: 0.357571: 100%|███████████████████████████████████████████████████████████████████████████████████████████████████████████████████████████████| 25/25 [00:41<00:00,  1.68s/it]\n",
      "Epoch 3/20 - Avg val Loss: 0.501252: 100%|███████████████████████████████████████████████████████████████████████████████████████████████████████████████████████████████████| 7/7 [00:08<00:00,  1.27s/it]\n"
     ]
    },
    {
     "name": "stdout",
     "output_type": "stream",
     "text": [
      "New best model found at epoch 3 with validation loss: 0.5013. Model saved to models/best_model_2024-07-23_18-51-13.pth\n"
     ]
    },
    {
     "name": "stderr",
     "output_type": "stream",
     "text": [
      "Epoch 4/20 - Avg train Loss: 0.323105: 100%|███████████████████████████████████████████████████████████████████████████████████████████████████████████████████████████████| 25/25 [00:41<00:00,  1.68s/it]\n",
      "Epoch 4/20 - Avg val Loss: 0.442476: 100%|███████████████████████████████████████████████████████████████████████████████████████████████████████████████████████████████████| 7/7 [00:09<00:00,  1.30s/it]\n"
     ]
    },
    {
     "name": "stdout",
     "output_type": "stream",
     "text": [
      "New best model found at epoch 4 with validation loss: 0.4425. Model saved to models/best_model_2024-07-23_18-51-13.pth\n"
     ]
    },
    {
     "name": "stderr",
     "output_type": "stream",
     "text": [
      "Epoch 5/20 - Avg train Loss: 0.312878: 100%|███████████████████████████████████████████████████████████████████████████████████████████████████████████████████████████████| 25/25 [00:41<00:00,  1.67s/it]\n",
      "Epoch 5/20 - Avg val Loss: 0.401568: 100%|███████████████████████████████████████████████████████████████████████████████████████████████████████████████████████████████████| 7/7 [00:09<00:00,  1.30s/it]\n"
     ]
    },
    {
     "name": "stdout",
     "output_type": "stream",
     "text": [
      "New best model found at epoch 5 with validation loss: 0.4016. Model saved to models/best_model_2024-07-23_18-51-13.pth\n"
     ]
    },
    {
     "name": "stderr",
     "output_type": "stream",
     "text": [
      "Epoch 6/20 - Avg train Loss: 0.305519: 100%|███████████████████████████████████████████████████████████████████████████████████████████████████████████████████████████████| 25/25 [00:41<00:00,  1.68s/it]\n",
      "Epoch 6/20 - Avg val Loss: 0.351778: 100%|███████████████████████████████████████████████████████████████████████████████████████████████████████████████████████████████████| 7/7 [00:09<00:00,  1.29s/it]\n"
     ]
    },
    {
     "name": "stdout",
     "output_type": "stream",
     "text": [
      "New best model found at epoch 6 with validation loss: 0.3518. Model saved to models/best_model_2024-07-23_18-51-13.pth\n"
     ]
    },
    {
     "name": "stderr",
     "output_type": "stream",
     "text": [
      "Epoch 7/20 - Avg train Loss: 0.315660: 100%|███████████████████████████████████████████████████████████████████████████████████████████████████████████████████████████████| 25/25 [00:42<00:00,  1.68s/it]\n",
      "Epoch 7/20 - Avg val Loss: 0.501203: 100%|███████████████████████████████████████████████████████████████████████████████████████████████████████████████████████████████████| 7/7 [00:09<00:00,  1.29s/it]\n",
      "Epoch 8/20 - Avg train Loss: 0.303005: 100%|███████████████████████████████████████████████████████████████████████████████████████████████████████████████████████████████| 25/25 [00:41<00:00,  1.66s/it]\n",
      "Epoch 8/20 - Avg val Loss: 0.403862: 100%|███████████████████████████████████████████████████████████████████████████████████████████████████████████████████████████████████| 7/7 [00:09<00:00,  1.31s/it]\n",
      "Epoch 9/20 - Avg train Loss: 0.310460: 100%|███████████████████████████████████████████████████████████████████████████████████████████████████████████████████████████████| 25/25 [00:41<00:00,  1.66s/it]\n",
      "Epoch 9/20 - Avg val Loss: 0.444710: 100%|███████████████████████████████████████████████████████████████████████████████████████████████████████████████████████████████████| 7/7 [00:09<00:00,  1.29s/it]\n",
      "Epoch 10/20 - Avg train Loss: 0.292385: 100%|██████████████████████████████████████████████████████████████████████████████████████████████████████████████████████████████| 25/25 [00:41<00:00,  1.68s/it]\n",
      "Epoch 10/20 - Avg val Loss: 0.352810: 100%|██████████████████████████████████████████████████████████████████████████████████████████████████████████████████████████████████| 7/7 [00:09<00:00,  1.30s/it]\n",
      "Epoch 11/20 - Avg train Loss: 0.295652: 100%|██████████████████████████████████████████████████████████████████████████████████████████████████████████████████████████████| 25/25 [00:41<00:00,  1.68s/it]\n",
      "Epoch 11/20 - Avg val Loss: 0.428196: 100%|██████████████████████████████████████████████████████████████████████████████████████████████████████████████████████████████████| 7/7 [00:09<00:00,  1.31s/it]\n",
      "Epoch 12/20 - Avg train Loss: 0.284513: 100%|██████████████████████████████████████████████████████████████████████████████████████████████████████████████████████████████| 25/25 [00:41<00:00,  1.67s/it]\n",
      "Epoch 12/20 - Avg val Loss: 0.377472: 100%|██████████████████████████████████████████████████████████████████████████████████████████████████████████████████████████████████| 7/7 [00:08<00:00,  1.28s/it]\n",
      "Epoch 13/20 - Avg train Loss: 0.274112: 100%|██████████████████████████████████████████████████████████████████████████████████████████████████████████████████████████████| 25/25 [00:41<00:00,  1.66s/it]\n",
      "Epoch 13/20 - Avg val Loss: 0.366335: 100%|██████████████████████████████████████████████████████████████████████████████████████████████████████████████████████████████████| 7/7 [00:08<00:00,  1.28s/it]\n",
      "Epoch 14/20 - Avg train Loss: 0.270036: 100%|██████████████████████████████████████████████████████████████████████████████████████████████████████████████████████████████| 25/25 [00:42<00:00,  1.70s/it]\n",
      "Epoch 14/20 - Avg val Loss: 0.363968: 100%|██████████████████████████████████████████████████████████████████████████████████████████████████████████████████████████████████| 7/7 [00:08<00:00,  1.28s/it]\n",
      "Epoch 15/20 - Avg train Loss: 0.272517: 100%|██████████████████████████████████████████████████████████████████████████████████████████████████████████████████████████████| 25/25 [00:41<00:00,  1.67s/it]\n",
      "Epoch 15/20 - Avg val Loss: 0.351662: 100%|██████████████████████████████████████████████████████████████████████████████████████████████████████████████████████████████████| 7/7 [00:09<00:00,  1.29s/it]\n"
     ]
    },
    {
     "name": "stdout",
     "output_type": "stream",
     "text": [
      "New best model found at epoch 15 with validation loss: 0.3517. Model saved to models/best_model_2024-07-23_18-51-13.pth\n"
     ]
    },
    {
     "name": "stderr",
     "output_type": "stream",
     "text": [
      "Epoch 16/20 - Avg train Loss: 0.270986: 100%|██████████████████████████████████████████████████████████████████████████████████████████████████████████████████████████████| 25/25 [00:41<00:00,  1.66s/it]\n",
      "Epoch 16/20 - Avg val Loss: 0.348093: 100%|██████████████████████████████████████████████████████████████████████████████████████████████████████████████████████████████████| 7/7 [00:08<00:00,  1.28s/it]\n"
     ]
    },
    {
     "name": "stdout",
     "output_type": "stream",
     "text": [
      "New best model found at epoch 16 with validation loss: 0.3481. Model saved to models/best_model_2024-07-23_18-51-13.pth\n"
     ]
    },
    {
     "name": "stderr",
     "output_type": "stream",
     "text": [
      "Epoch 17/20 - Avg train Loss: 0.271216: 100%|██████████████████████████████████████████████████████████████████████████████████████████████████████████████████████████████| 25/25 [00:41<00:00,  1.67s/it]\n",
      "Epoch 17/20 - Avg val Loss: 0.344947: 100%|██████████████████████████████████████████████████████████████████████████████████████████████████████████████████████████████████| 7/7 [00:09<00:00,  1.32s/it]\n"
     ]
    },
    {
     "name": "stdout",
     "output_type": "stream",
     "text": [
      "New best model found at epoch 17 with validation loss: 0.3449. Model saved to models/best_model_2024-07-23_18-51-13.pth\n"
     ]
    },
    {
     "name": "stderr",
     "output_type": "stream",
     "text": [
      "Epoch 18/20 - Avg train Loss: 0.272515: 100%|██████████████████████████████████████████████████████████████████████████████████████████████████████████████████████████████| 25/25 [00:42<00:00,  1.70s/it]\n",
      "Epoch 18/20 - Avg val Loss: 0.346205: 100%|██████████████████████████████████████████████████████████████████████████████████████████████████████████████████████████████████| 7/7 [00:09<00:00,  1.32s/it]\n",
      "Epoch 19/20 - Avg train Loss: 0.270415: 100%|██████████████████████████████████████████████████████████████████████████████████████████████████████████████████████████████| 25/25 [00:42<00:00,  1.69s/it]\n",
      "Epoch 19/20 - Avg val Loss: 0.342571: 100%|██████████████████████████████████████████████████████████████████████████████████████████████████████████████████████████████████| 7/7 [00:09<00:00,  1.34s/it]\n"
     ]
    },
    {
     "name": "stdout",
     "output_type": "stream",
     "text": [
      "New best model found at epoch 19 with validation loss: 0.3426. Model saved to models/best_model_2024-07-23_18-51-13.pth\n"
     ]
    },
    {
     "name": "stderr",
     "output_type": "stream",
     "text": [
      "Epoch 20/20 - Avg train Loss: 0.271853: 100%|██████████████████████████████████████████████████████████████████████████████████████████████████████████████████████████████| 25/25 [00:42<00:00,  1.70s/it]\n",
      "Epoch 20/20 - Avg val Loss: 0.342225: 100%|██████████████████████████████████████████████████████████████████████████████████████████████████████████████████████████████████| 7/7 [00:09<00:00,  1.30s/it]\n"
     ]
    },
    {
     "name": "stdout",
     "output_type": "stream",
     "text": [
      "New best model found at epoch 20 with validation loss: 0.3422. Model saved to models/best_model_2024-07-23_18-51-13.pth\n",
      "Finished training\n"
     ]
    },
    {
     "data": {
      "application/vnd.jupyter.widget-view+json": {
       "model_id": "",
       "version_major": 2,
       "version_minor": 0
      },
      "text/plain": [
       "VBox(children=(Label(value='0.008 MB of 0.008 MB uploaded\\r'), FloatProgress(value=1.0, max=1.0)))"
      ]
     },
     "metadata": {},
     "output_type": "display_data"
    },
    {
     "data": {
      "text/html": [
       "<style>\n",
       "    table.wandb td:nth-child(1) { padding: 0 10px; text-align: left ; width: auto;} td:nth-child(2) {text-align: left ; width: 100%}\n",
       "    .wandb-row { display: flex; flex-direction: row; flex-wrap: wrap; justify-content: flex-start; width: 100% }\n",
       "    .wandb-col { display: flex; flex-direction: column; flex-basis: 100%; flex: 1; padding: 10px; }\n",
       "    </style>\n",
       "<div class=\"wandb-row\"><div class=\"wandb-col\"><h3>Run history:</h3><br/><table class=\"wandb\"><tr><td>accuracy</td><td>▂▁▄▅▇█▄▆▅█▆▇▇▇██████</td></tr><tr><td>auprc</td><td>▁▃▆▆▇▇▇▆▇▇▇▇████████</td></tr><tr><td>auroc</td><td>▁▃▆▅▆▇▆▆▆▇▆▇▇▇██████</td></tr><tr><td>avg_train_loss</td><td>█▅▅▃▃▂▃▂▃▂▂▂▁▁▁▁▁▁▁▁</td></tr><tr><td>avg_val_loss</td><td>▇█▅▄▃▁▅▃▄▁▃▂▂▂▁▁▁▁▁▁</td></tr><tr><td>sensitivity</td><td>▁▆▃▄▆▆▅▅▆▇▆▆███▇▇███</td></tr><tr><td>specificity</td><td>▅▁█▇▇██▇▇▇▇▇▇▇▇▇▇▇▇▇</td></tr></table><br/></div><div class=\"wandb-col\"><h3>Run summary:</h3><br/><table class=\"wandb\"><tr><td>accuracy</td><td>0.92</td></tr><tr><td>auprc</td><td>0.9816</td></tr><tr><td>auroc</td><td>0.9808</td></tr><tr><td>avg_train_loss</td><td>0.27185</td></tr><tr><td>avg_val_loss</td><td>0.34222</td></tr><tr><td>sensitivity</td><td>0.98</td></tr><tr><td>specificity</td><td>0.96</td></tr></table><br/></div></div>"
      ],
      "text/plain": [
       "<IPython.core.display.HTML object>"
      ]
     },
     "metadata": {},
     "output_type": "display_data"
    },
    {
     "data": {
      "text/html": [
       " View run <strong style=\"color:#cdcd00\">bright-sweep-6</strong> at: <a href='https://wandb.ai/miccai-challenge-2024/task2/runs/g2ojar54' target=\"_blank\">https://wandb.ai/miccai-challenge-2024/task2/runs/g2ojar54</a><br/> View project at: <a href='https://wandb.ai/miccai-challenge-2024/task2' target=\"_blank\">https://wandb.ai/miccai-challenge-2024/task2</a><br/>Synced 6 W&B file(s), 0 media file(s), 0 artifact file(s) and 0 other file(s)"
      ],
      "text/plain": [
       "<IPython.core.display.HTML object>"
      ]
     },
     "metadata": {},
     "output_type": "display_data"
    },
    {
     "data": {
      "text/html": [
       "Find logs at: <code>./wandb/run-20240723_185103-g2ojar54/logs</code>"
      ],
      "text/plain": [
       "<IPython.core.display.HTML object>"
      ]
     },
     "metadata": {},
     "output_type": "display_data"
    },
    {
     "name": "stderr",
     "output_type": "stream",
     "text": [
      "\u001b[34m\u001b[1mwandb\u001b[0m: Sweep Agent: Waiting for job.\n",
      "\u001b[34m\u001b[1mwandb\u001b[0m: Job received.\n",
      "\u001b[34m\u001b[1mwandb\u001b[0m: Agent Starting Run: 074557ea with config:\n",
      "\u001b[34m\u001b[1mwandb\u001b[0m: \tbatch_size: 16\n",
      "\u001b[34m\u001b[1mwandb\u001b[0m: \tepochs: 20\n",
      "\u001b[34m\u001b[1mwandb\u001b[0m: \tloss_weight: 0.5\n",
      "\u001b[34m\u001b[1mwandb\u001b[0m: \tlr: 0.001\n",
      "\u001b[34m\u001b[1mwandb\u001b[0m: \tlr_schedule_factor: 0.1\n",
      "\u001b[34m\u001b[1mwandb\u001b[0m: \tlr_schedule_patience: 5\n",
      "\u001b[34m\u001b[1mwandb\u001b[0m: \tmodel: Task2EfficientNetB0\n",
      "\u001b[34m\u001b[1mwandb\u001b[0m: \tp_affine: 0\n",
      "\u001b[34m\u001b[1mwandb\u001b[0m: \tp_clahe: 0\n",
      "\u001b[34m\u001b[1mwandb\u001b[0m: \tp_equalize: 0\n",
      "\u001b[34m\u001b[1mwandb\u001b[0m: \tp_gaussblur: 0.3\n",
      "\u001b[34m\u001b[1mwandb\u001b[0m: \tp_horizontalflip: 0.3\n",
      "\u001b[34m\u001b[1mwandb\u001b[0m: \trotation: 30\n",
      "\u001b[34m\u001b[1mwandb\u001b[0m: \u001b[33mWARNING\u001b[0m Ignored wandb.init() arg project when running a sweep.\n"
     ]
    },
    {
     "data": {
      "text/html": [
       "wandb version 0.17.5 is available!  To upgrade, please run:\n",
       " $ pip install wandb --upgrade"
      ],
      "text/plain": [
       "<IPython.core.display.HTML object>"
      ]
     },
     "metadata": {},
     "output_type": "display_data"
    },
    {
     "data": {
      "text/html": [
       "Tracking run with wandb version 0.17.0"
      ],
      "text/plain": [
       "<IPython.core.display.HTML object>"
      ]
     },
     "metadata": {},
     "output_type": "display_data"
    },
    {
     "data": {
      "text/html": [
       "Run data is saved locally in <code>/home/optima/mhaderer/AILS-MICCAI-UWF4DR-Challenge/wandb/run-20240723_190837-074557ea</code>"
      ],
      "text/plain": [
       "<IPython.core.display.HTML object>"
      ]
     },
     "metadata": {},
     "output_type": "display_data"
    },
    {
     "data": {
      "text/html": [
       "Syncing run <strong><a href='https://wandb.ai/miccai-challenge-2024/task2/runs/074557ea' target=\"_blank\">earthy-sweep-7</a></strong> to <a href='https://wandb.ai/miccai-challenge-2024/task2' target=\"_blank\">Weights & Biases</a> (<a href='https://wandb.me/run' target=\"_blank\">docs</a>)<br/>Sweep page: <a href='https://wandb.ai/miccai-challenge-2024/task2/sweeps/wku4858f' target=\"_blank\">https://wandb.ai/miccai-challenge-2024/task2/sweeps/wku4858f</a>"
      ],
      "text/plain": [
       "<IPython.core.display.HTML object>"
      ]
     },
     "metadata": {},
     "output_type": "display_data"
    },
    {
     "data": {
      "text/html": [
       " View project at <a href='https://wandb.ai/miccai-challenge-2024/task2' target=\"_blank\">https://wandb.ai/miccai-challenge-2024/task2</a>"
      ],
      "text/plain": [
       "<IPython.core.display.HTML object>"
      ]
     },
     "metadata": {},
     "output_type": "display_data"
    },
    {
     "data": {
      "text/html": [
       " View sweep at <a href='https://wandb.ai/miccai-challenge-2024/task2/sweeps/wku4858f' target=\"_blank\">https://wandb.ai/miccai-challenge-2024/task2/sweeps/wku4858f</a>"
      ],
      "text/plain": [
       "<IPython.core.display.HTML object>"
      ]
     },
     "metadata": {},
     "output_type": "display_data"
    },
    {
     "data": {
      "text/html": [
       " View run at <a href='https://wandb.ai/miccai-challenge-2024/task2/runs/074557ea' target=\"_blank\">https://wandb.ai/miccai-challenge-2024/task2/runs/074557ea</a>"
      ],
      "text/plain": [
       "<IPython.core.display.HTML object>"
      ]
     },
     "metadata": {},
     "output_type": "display_data"
    },
    {
     "name": "stderr",
     "output_type": "stream",
     "text": [
      "/opt/conda/lib/python3.10/site-packages/torch/optim/lr_scheduler.py:28: UserWarning: The verbose parameter is deprecated. Please use get_last_lr() to access the learning rate.\n",
      "  warnings.warn(\"The verbose parameter is deprecated. Please use get_last_lr() \"\n"
     ]
    },
    {
     "name": "stdout",
     "output_type": "stream",
     "text": [
      "\n",
      "Original class distribution:\n",
      "Class 0: 149\n",
      "Class 1: 250\n",
      "dr\n",
      "1    0.626566\n",
      "0    0.373434\n",
      "Name: proportion, dtype: Float64\n",
      "\n",
      "Resampled class distribution:\n",
      "dr\n",
      "1    0.5\n",
      "0    0.5\n",
      "Name: proportion, dtype: Float64\n",
      "Using device: cuda\n",
      "Loaded pretrained weights for efficientnet-b0\n",
      "Now train train train\n"
     ]
    },
    {
     "name": "stderr",
     "output_type": "stream",
     "text": [
      "Epoch 1/20 - Avg train Loss: 0.361630: 100%|███████████████████████████████████████████████████████████████████████████████████████████████████████████████████████████████| 25/25 [00:43<00:00,  1.76s/it]\n",
      "Epoch 1/20 - Avg val Loss: 0.376099: 100%|███████████████████████████████████████████████████████████████████████████████████████████████████████████████████████████████████| 7/7 [00:09<00:00,  1.31s/it]\n"
     ]
    },
    {
     "name": "stdout",
     "output_type": "stream",
     "text": [
      "New best model found at epoch 1 with validation loss: 0.3761. Model saved to models/best_model_2024-07-23_19-08-46.pth\n"
     ]
    },
    {
     "name": "stderr",
     "output_type": "stream",
     "text": [
      "Epoch 2/20 - Avg train Loss: 0.299557: 100%|███████████████████████████████████████████████████████████████████████████████████████████████████████████████████████████████| 25/25 [00:43<00:00,  1.73s/it]\n",
      "Epoch 2/20 - Avg val Loss: 0.353080: 100%|███████████████████████████████████████████████████████████████████████████████████████████████████████████████████████████████████| 7/7 [00:09<00:00,  1.30s/it]\n"
     ]
    },
    {
     "name": "stdout",
     "output_type": "stream",
     "text": [
      "New best model found at epoch 2 with validation loss: 0.3531. Model saved to models/best_model_2024-07-23_19-08-46.pth\n"
     ]
    },
    {
     "name": "stderr",
     "output_type": "stream",
     "text": [
      "Epoch 3/20 - Avg train Loss: 0.275886: 100%|███████████████████████████████████████████████████████████████████████████████████████████████████████████████████████████████| 25/25 [00:43<00:00,  1.73s/it]\n",
      "Epoch 3/20 - Avg val Loss: 0.301495: 100%|███████████████████████████████████████████████████████████████████████████████████████████████████████████████████████████████████| 7/7 [00:09<00:00,  1.30s/it]\n"
     ]
    },
    {
     "name": "stdout",
     "output_type": "stream",
     "text": [
      "New best model found at epoch 3 with validation loss: 0.3015. Model saved to models/best_model_2024-07-23_19-08-46.pth\n"
     ]
    },
    {
     "name": "stderr",
     "output_type": "stream",
     "text": [
      "Epoch 4/20 - Avg train Loss: 0.263585: 100%|███████████████████████████████████████████████████████████████████████████████████████████████████████████████████████████████| 25/25 [00:44<00:00,  1.76s/it]\n",
      "Epoch 4/20 - Avg val Loss: 0.435473: 100%|███████████████████████████████████████████████████████████████████████████████████████████████████████████████████████████████████| 7/7 [00:09<00:00,  1.32s/it]\n",
      "Epoch 5/20 - Avg train Loss: 0.261259: 100%|███████████████████████████████████████████████████████████████████████████████████████████████████████████████████████████████| 25/25 [00:43<00:00,  1.73s/it]\n",
      "Epoch 5/20 - Avg val Loss: 0.531364: 100%|███████████████████████████████████████████████████████████████████████████████████████████████████████████████████████████████████| 7/7 [00:09<00:00,  1.30s/it]\n",
      "Epoch 6/20 - Avg train Loss: 0.259667: 100%|███████████████████████████████████████████████████████████████████████████████████████████████████████████████████████████████| 25/25 [00:43<00:00,  1.75s/it]\n",
      "Epoch 6/20 - Avg val Loss: 0.313798: 100%|███████████████████████████████████████████████████████████████████████████████████████████████████████████████████████████████████| 7/7 [00:09<00:00,  1.32s/it]\n",
      "Epoch 7/20 - Avg train Loss: 0.261472: 100%|███████████████████████████████████████████████████████████████████████████████████████████████████████████████████████████████| 25/25 [00:43<00:00,  1.75s/it]\n",
      "Epoch 7/20 - Avg val Loss: 0.355756: 100%|███████████████████████████████████████████████████████████████████████████████████████████████████████████████████████████████████| 7/7 [00:09<00:00,  1.30s/it]\n",
      "Epoch 8/20 - Avg train Loss: 0.250766: 100%|███████████████████████████████████████████████████████████████████████████████████████████████████████████████████████████████| 25/25 [00:43<00:00,  1.73s/it]\n",
      "Epoch 8/20 - Avg val Loss: 0.343821: 100%|███████████████████████████████████████████████████████████████████████████████████████████████████████████████████████████████████| 7/7 [00:09<00:00,  1.30s/it]\n",
      "Epoch 9/20 - Avg train Loss: 0.248347: 100%|███████████████████████████████████████████████████████████████████████████████████████████████████████████████████████████████| 25/25 [00:43<00:00,  1.73s/it]\n",
      "Epoch 9/20 - Avg val Loss: 0.324878: 100%|███████████████████████████████████████████████████████████████████████████████████████████████████████████████████████████████████| 7/7 [00:09<00:00,  1.30s/it]\n",
      "Epoch 10/20 - Avg train Loss: 0.247509: 100%|██████████████████████████████████████████████████████████████████████████████████████████████████████████████████████████████| 25/25 [00:43<00:00,  1.74s/it]\n",
      "Epoch 10/20 - Avg val Loss: 0.303107: 100%|██████████████████████████████████████████████████████████████████████████████████████████████████████████████████████████████████| 7/7 [00:09<00:00,  1.32s/it]\n",
      "Epoch 11/20 - Avg train Loss: 0.229406: 100%|██████████████████████████████████████████████████████████████████████████████████████████████████████████████████████████████| 25/25 [00:43<00:00,  1.72s/it]\n",
      "Epoch 11/20 - Avg val Loss: 0.299055: 100%|██████████████████████████████████████████████████████████████████████████████████████████████████████████████████████████████████| 7/7 [00:09<00:00,  1.33s/it]\n"
     ]
    },
    {
     "name": "stdout",
     "output_type": "stream",
     "text": [
      "New best model found at epoch 11 with validation loss: 0.2991. Model saved to models/best_model_2024-07-23_19-08-46.pth\n"
     ]
    },
    {
     "name": "stderr",
     "output_type": "stream",
     "text": [
      "Epoch 12/20 - Avg train Loss: 0.227571: 100%|██████████████████████████████████████████████████████████████████████████████████████████████████████████████████████████████| 25/25 [00:43<00:00,  1.75s/it]\n",
      "Epoch 12/20 - Avg val Loss: 0.292501: 100%|██████████████████████████████████████████████████████████████████████████████████████████████████████████████████████████████████| 7/7 [00:09<00:00,  1.30s/it]\n"
     ]
    },
    {
     "name": "stdout",
     "output_type": "stream",
     "text": [
      "New best model found at epoch 12 with validation loss: 0.2925. Model saved to models/best_model_2024-07-23_19-08-46.pth\n"
     ]
    },
    {
     "name": "stderr",
     "output_type": "stream",
     "text": [
      "Epoch 13/20 - Avg train Loss: 0.228612: 100%|██████████████████████████████████████████████████████████████████████████████████████████████████████████████████████████████| 25/25 [00:43<00:00,  1.75s/it]\n",
      "Epoch 13/20 - Avg val Loss: 0.297432: 100%|██████████████████████████████████████████████████████████████████████████████████████████████████████████████████████████████████| 7/7 [00:09<00:00,  1.34s/it]\n",
      "Epoch 14/20 - Avg train Loss: 0.226855: 100%|██████████████████████████████████████████████████████████████████████████████████████████████████████████████████████████████| 25/25 [00:43<00:00,  1.75s/it]\n",
      "Epoch 14/20 - Avg val Loss: 0.296735: 100%|██████████████████████████████████████████████████████████████████████████████████████████████████████████████████████████████████| 7/7 [00:09<00:00,  1.32s/it]\n",
      "Epoch 15/20 - Avg train Loss: 0.226545: 100%|██████████████████████████████████████████████████████████████████████████████████████████████████████████████████████████████| 25/25 [00:43<00:00,  1.75s/it]\n",
      "Epoch 15/20 - Avg val Loss: 0.295723: 100%|██████████████████████████████████████████████████████████████████████████████████████████████████████████████████████████████████| 7/7 [00:09<00:00,  1.30s/it]\n",
      "Epoch 16/20 - Avg train Loss: 0.228228: 100%|██████████████████████████████████████████████████████████████████████████████████████████████████████████████████████████████| 25/25 [00:42<00:00,  1.71s/it]\n",
      "Epoch 16/20 - Avg val Loss: 0.290030: 100%|██████████████████████████████████████████████████████████████████████████████████████████████████████████████████████████████████| 7/7 [00:09<00:00,  1.33s/it]\n"
     ]
    },
    {
     "name": "stdout",
     "output_type": "stream",
     "text": [
      "New best model found at epoch 16 with validation loss: 0.2900. Model saved to models/best_model_2024-07-23_19-08-46.pth\n"
     ]
    },
    {
     "name": "stderr",
     "output_type": "stream",
     "text": [
      "Epoch 17/20 - Avg train Loss: 0.228940: 100%|██████████████████████████████████████████████████████████████████████████████████████████████████████████████████████████████| 25/25 [00:43<00:00,  1.76s/it]\n",
      "Epoch 17/20 - Avg val Loss: 0.288446: 100%|██████████████████████████████████████████████████████████████████████████████████████████████████████████████████████████████████| 7/7 [00:09<00:00,  1.33s/it]\n"
     ]
    },
    {
     "name": "stdout",
     "output_type": "stream",
     "text": [
      "New best model found at epoch 17 with validation loss: 0.2884. Model saved to models/best_model_2024-07-23_19-08-46.pth\n"
     ]
    },
    {
     "name": "stderr",
     "output_type": "stream",
     "text": [
      "Epoch 18/20 - Avg train Loss: 0.225970: 100%|██████████████████████████████████████████████████████████████████████████████████████████████████████████████████████████████| 25/25 [00:44<00:00,  1.80s/it]\n",
      "Epoch 18/20 - Avg val Loss: 0.290560: 100%|██████████████████████████████████████████████████████████████████████████████████████████████████████████████████████████████████| 7/7 [00:09<00:00,  1.34s/it]\n",
      "Epoch 19/20 - Avg train Loss: 0.225810: 100%|██████████████████████████████████████████████████████████████████████████████████████████████████████████████████████████████| 25/25 [00:43<00:00,  1.76s/it]\n",
      "Epoch 19/20 - Avg val Loss: 0.286518: 100%|██████████████████████████████████████████████████████████████████████████████████████████████████████████████████████████████████| 7/7 [00:09<00:00,  1.29s/it]\n"
     ]
    },
    {
     "name": "stdout",
     "output_type": "stream",
     "text": [
      "New best model found at epoch 19 with validation loss: 0.2865. Model saved to models/best_model_2024-07-23_19-08-46.pth\n"
     ]
    },
    {
     "name": "stderr",
     "output_type": "stream",
     "text": [
      "Epoch 20/20 - Avg train Loss: 0.225027: 100%|██████████████████████████████████████████████████████████████████████████████████████████████████████████████████████████████| 25/25 [00:43<00:00,  1.72s/it]\n",
      "Epoch 20/20 - Avg val Loss: 0.284993: 100%|██████████████████████████████████████████████████████████████████████████████████████████████████████████████████████████████████| 7/7 [00:08<00:00,  1.27s/it]\n"
     ]
    },
    {
     "name": "stdout",
     "output_type": "stream",
     "text": [
      "New best model found at epoch 20 with validation loss: 0.2850. Model saved to models/best_model_2024-07-23_19-08-46.pth\n",
      "Finished training\n"
     ]
    },
    {
     "data": {
      "application/vnd.jupyter.widget-view+json": {
       "model_id": "",
       "version_major": 2,
       "version_minor": 0
      },
      "text/plain": [
       "VBox(children=(Label(value='0.008 MB of 0.008 MB uploaded\\r'), FloatProgress(value=1.0, max=1.0)))"
      ]
     },
     "metadata": {},
     "output_type": "display_data"
    },
    {
     "data": {
      "text/html": [
       "<style>\n",
       "    table.wandb td:nth-child(1) { padding: 0 10px; text-align: left ; width: auto;} td:nth-child(2) {text-align: left ; width: 100%}\n",
       "    .wandb-row { display: flex; flex-direction: row; flex-wrap: wrap; justify-content: flex-start; width: 100% }\n",
       "    .wandb-col { display: flex; flex-direction: column; flex-basis: 100%; flex: 1; padding: 10px; }\n",
       "    </style>\n",
       "<div class=\"wandb-row\"><div class=\"wandb-col\"><h3>Run history:</h3><br/><table class=\"wandb\"><tr><td>accuracy</td><td>▁▁▄▃▁▅▃▅▆▆▆▇▆▆▇▇▇▇██</td></tr><tr><td>auprc</td><td>▁▃▆▁▁▆▅▆▆▇▇█▇▇▇█████</td></tr><tr><td>auroc</td><td>▃▅▆▅▁▆▅▆▆▇▇█▇▇▇██▇██</td></tr><tr><td>avg_train_loss</td><td>█▅▄▃▃▃▃▂▂▂▁▁▁▁▁▁▁▁▁▁</td></tr><tr><td>avg_val_loss</td><td>▄▃▁▅█▂▃▃▂▂▁▁▁▁▁▁▁▁▁▁</td></tr><tr><td>sensitivity</td><td>▃▅▅▂▁▆▃▄▆▇██████████</td></tr><tr><td>specificity</td><td>▁▁▆▇▇▅▆█▆▆▆▆▆▆▆▆▆▆▆▆</td></tr></table><br/></div><div class=\"wandb-col\"><h3>Run summary:</h3><br/><table class=\"wandb\"><tr><td>accuracy</td><td>0.93</td></tr><tr><td>auprc</td><td>0.9802</td></tr><tr><td>auroc</td><td>0.9784</td></tr><tr><td>avg_train_loss</td><td>0.22503</td></tr><tr><td>avg_val_loss</td><td>0.28499</td></tr><tr><td>sensitivity</td><td>0.94</td></tr><tr><td>specificity</td><td>0.96</td></tr></table><br/></div></div>"
      ],
      "text/plain": [
       "<IPython.core.display.HTML object>"
      ]
     },
     "metadata": {},
     "output_type": "display_data"
    },
    {
     "data": {
      "text/html": [
       " View run <strong style=\"color:#cdcd00\">earthy-sweep-7</strong> at: <a href='https://wandb.ai/miccai-challenge-2024/task2/runs/074557ea' target=\"_blank\">https://wandb.ai/miccai-challenge-2024/task2/runs/074557ea</a><br/> View project at: <a href='https://wandb.ai/miccai-challenge-2024/task2' target=\"_blank\">https://wandb.ai/miccai-challenge-2024/task2</a><br/>Synced 6 W&B file(s), 0 media file(s), 0 artifact file(s) and 0 other file(s)"
      ],
      "text/plain": [
       "<IPython.core.display.HTML object>"
      ]
     },
     "metadata": {},
     "output_type": "display_data"
    },
    {
     "data": {
      "text/html": [
       "Find logs at: <code>./wandb/run-20240723_190837-074557ea/logs</code>"
      ],
      "text/plain": [
       "<IPython.core.display.HTML object>"
      ]
     },
     "metadata": {},
     "output_type": "display_data"
    },
    {
     "name": "stderr",
     "output_type": "stream",
     "text": [
      "\u001b[34m\u001b[1mwandb\u001b[0m: Agent Starting Run: rpy4jjgv with config:\n",
      "\u001b[34m\u001b[1mwandb\u001b[0m: \tbatch_size: 32\n",
      "\u001b[34m\u001b[1mwandb\u001b[0m: \tepochs: 20\n",
      "\u001b[34m\u001b[1mwandb\u001b[0m: \tloss_weight: 0.5\n",
      "\u001b[34m\u001b[1mwandb\u001b[0m: \tlr: 0.001\n",
      "\u001b[34m\u001b[1mwandb\u001b[0m: \tlr_schedule_factor: 0.1\n",
      "\u001b[34m\u001b[1mwandb\u001b[0m: \tlr_schedule_patience: 5\n",
      "\u001b[34m\u001b[1mwandb\u001b[0m: \tmodel: AutoMorphModel\n",
      "\u001b[34m\u001b[1mwandb\u001b[0m: \tp_affine: 0.3\n",
      "\u001b[34m\u001b[1mwandb\u001b[0m: \tp_clahe: 0\n",
      "\u001b[34m\u001b[1mwandb\u001b[0m: \tp_equalize: 0\n",
      "\u001b[34m\u001b[1mwandb\u001b[0m: \tp_gaussblur: 0\n",
      "\u001b[34m\u001b[1mwandb\u001b[0m: \tp_horizontalflip: 0\n",
      "\u001b[34m\u001b[1mwandb\u001b[0m: \trotation: 30\n",
      "\u001b[34m\u001b[1mwandb\u001b[0m: \u001b[33mWARNING\u001b[0m Ignored wandb.init() arg project when running a sweep.\n"
     ]
    },
    {
     "data": {
      "text/html": [
       "wandb version 0.17.5 is available!  To upgrade, please run:\n",
       " $ pip install wandb --upgrade"
      ],
      "text/plain": [
       "<IPython.core.display.HTML object>"
      ]
     },
     "metadata": {},
     "output_type": "display_data"
    },
    {
     "data": {
      "text/html": [
       "Tracking run with wandb version 0.17.0"
      ],
      "text/plain": [
       "<IPython.core.display.HTML object>"
      ]
     },
     "metadata": {},
     "output_type": "display_data"
    },
    {
     "data": {
      "text/html": [
       "Run data is saved locally in <code>/home/optima/mhaderer/AILS-MICCAI-UWF4DR-Challenge/wandb/run-20240723_192634-rpy4jjgv</code>"
      ],
      "text/plain": [
       "<IPython.core.display.HTML object>"
      ]
     },
     "metadata": {},
     "output_type": "display_data"
    },
    {
     "data": {
      "text/html": [
       "Syncing run <strong><a href='https://wandb.ai/miccai-challenge-2024/task2/runs/rpy4jjgv' target=\"_blank\">stilted-sweep-8</a></strong> to <a href='https://wandb.ai/miccai-challenge-2024/task2' target=\"_blank\">Weights & Biases</a> (<a href='https://wandb.me/run' target=\"_blank\">docs</a>)<br/>Sweep page: <a href='https://wandb.ai/miccai-challenge-2024/task2/sweeps/wku4858f' target=\"_blank\">https://wandb.ai/miccai-challenge-2024/task2/sweeps/wku4858f</a>"
      ],
      "text/plain": [
       "<IPython.core.display.HTML object>"
      ]
     },
     "metadata": {},
     "output_type": "display_data"
    },
    {
     "data": {
      "text/html": [
       " View project at <a href='https://wandb.ai/miccai-challenge-2024/task2' target=\"_blank\">https://wandb.ai/miccai-challenge-2024/task2</a>"
      ],
      "text/plain": [
       "<IPython.core.display.HTML object>"
      ]
     },
     "metadata": {},
     "output_type": "display_data"
    },
    {
     "data": {
      "text/html": [
       " View sweep at <a href='https://wandb.ai/miccai-challenge-2024/task2/sweeps/wku4858f' target=\"_blank\">https://wandb.ai/miccai-challenge-2024/task2/sweeps/wku4858f</a>"
      ],
      "text/plain": [
       "<IPython.core.display.HTML object>"
      ]
     },
     "metadata": {},
     "output_type": "display_data"
    },
    {
     "data": {
      "text/html": [
       " View run at <a href='https://wandb.ai/miccai-challenge-2024/task2/runs/rpy4jjgv' target=\"_blank\">https://wandb.ai/miccai-challenge-2024/task2/runs/rpy4jjgv</a>"
      ],
      "text/plain": [
       "<IPython.core.display.HTML object>"
      ]
     },
     "metadata": {},
     "output_type": "display_data"
    },
    {
     "name": "stdout",
     "output_type": "stream",
     "text": [
      "\n",
      "Original class distribution:\n",
      "Class 0: 149\n",
      "Class 1: 250\n",
      "dr\n",
      "1    0.626566\n",
      "0    0.373434\n",
      "Name: proportion, dtype: Float64\n",
      "\n",
      "Resampled class distribution:\n",
      "dr\n",
      "1    0.5\n",
      "0    0.5\n",
      "Name: proportion, dtype: Float64\n",
      "Using device: cuda\n"
     ]
    },
    {
     "name": "stderr",
     "output_type": "stream",
     "text": [
      "/opt/conda/lib/python3.10/site-packages/torch/optim/lr_scheduler.py:28: UserWarning: The verbose parameter is deprecated. Please use get_last_lr() to access the learning rate.\n",
      "  warnings.warn(\"The verbose parameter is deprecated. Please use get_last_lr() \"\n"
     ]
    },
    {
     "name": "stdout",
     "output_type": "stream",
     "text": [
      "Loaded pretrained weights for efficientnet-b4\n",
      "Now train train train\n"
     ]
    },
    {
     "name": "stderr",
     "output_type": "stream",
     "text": [
      "Epoch 1/20 - Avg train Loss: 0.532201: 100%|███████████████████████████████████████████████████████████████████████████████████████████████████████████████████████████████| 13/13 [00:40<00:00,  3.09s/it]\n",
      "Epoch 1/20 - Avg val Loss: 0.688676: 100%|███████████████████████████████████████████████████████████████████████████████████████████████████████████████████████████████████| 4/4 [00:10<00:00,  2.59s/it]\n"
     ]
    },
    {
     "name": "stdout",
     "output_type": "stream",
     "text": [
      "New best model found at epoch 1 with validation loss: 0.6887. Model saved to models/best_model_2024-07-23_19-26-44.pth\n"
     ]
    },
    {
     "name": "stderr",
     "output_type": "stream",
     "text": [
      "Epoch 2/20 - Avg train Loss: 0.406678: 100%|███████████████████████████████████████████████████████████████████████████████████████████████████████████████████████████████| 13/13 [00:38<00:00,  2.97s/it]\n",
      "Epoch 2/20 - Avg val Loss: 0.731222: 100%|███████████████████████████████████████████████████████████████████████████████████████████████████████████████████████████████████| 4/4 [00:10<00:00,  2.64s/it]\n",
      "Epoch 3/20 - Avg train Loss: 0.388983: 100%|███████████████████████████████████████████████████████████████████████████████████████████████████████████████████████████████| 13/13 [00:38<00:00,  2.96s/it]\n",
      "Epoch 3/20 - Avg val Loss: 0.726314: 100%|███████████████████████████████████████████████████████████████████████████████████████████████████████████████████████████████████| 4/4 [00:10<00:00,  2.72s/it]\n",
      "Epoch 4/20 - Avg train Loss: 0.366135: 100%|███████████████████████████████████████████████████████████████████████████████████████████████████████████████████████████████| 13/13 [00:38<00:00,  2.96s/it]\n",
      "Epoch 4/20 - Avg val Loss: 0.586961: 100%|███████████████████████████████████████████████████████████████████████████████████████████████████████████████████████████████████| 4/4 [00:10<00:00,  2.57s/it]\n"
     ]
    },
    {
     "name": "stdout",
     "output_type": "stream",
     "text": [
      "New best model found at epoch 4 with validation loss: 0.5870. Model saved to models/best_model_2024-07-23_19-26-44.pth\n"
     ]
    },
    {
     "name": "stderr",
     "output_type": "stream",
     "text": [
      "Epoch 5/20 - Avg train Loss: 0.352332: 100%|███████████████████████████████████████████████████████████████████████████████████████████████████████████████████████████████| 13/13 [00:38<00:00,  2.98s/it]\n",
      "Epoch 5/20 - Avg val Loss: 0.485636: 100%|███████████████████████████████████████████████████████████████████████████████████████████████████████████████████████████████████| 4/4 [00:10<00:00,  2.61s/it]\n"
     ]
    },
    {
     "name": "stdout",
     "output_type": "stream",
     "text": [
      "New best model found at epoch 5 with validation loss: 0.4856. Model saved to models/best_model_2024-07-23_19-26-44.pth\n"
     ]
    },
    {
     "name": "stderr",
     "output_type": "stream",
     "text": [
      "Epoch 6/20 - Avg train Loss: 0.348865:  85%|███████████████████████████████████████████████████████████████████████████████████████████████████████████▍                   | 11/13 [00:33<00:06,  3.19s/it]\u001b[34m\u001b[1mwandb\u001b[0m: Ctrl + C detected. Stopping sweep.\n"
     ]
    },
    {
     "name": "stdout",
     "output_type": "stream",
     "text": [
      "Error in callback <bound method _WandbInit._pause_backend of <wandb.sdk.wandb_init._WandbInit object at 0x7fc115400220>> (for post_run_cell), with arguments args (<ExecutionResult object at 7fc115425ab0, execution_count=15 error_before_exec=None error_in_exec=None info=<ExecutionInfo object at 7fc115425ae0, raw_cell=\"\n",
      "# Define the sweep configuration\n",
      "sweep_config = {..\" store_history=True silent=False shell_futures=True cell_id=f4f9641f-67ff-4619-a08a-c6f25da9291c> result=None>,),kwargs {}:\n"
     ]
    },
    {
     "ename": "BrokenPipeError",
     "evalue": "[Errno 32] Broken pipe",
     "output_type": "error",
     "traceback": [
      "\u001b[0;31m---------------------------------------------------------------------------\u001b[0m",
      "\u001b[0;31mBrokenPipeError\u001b[0m                           Traceback (most recent call last)",
      "File \u001b[0;32m~/.local/lib/python3.10/site-packages/wandb/sdk/wandb_init.py:432\u001b[0m, in \u001b[0;36m_WandbInit._pause_backend\u001b[0;34m(self, *args, **kwargs)\u001b[0m\n\u001b[1;32m    430\u001b[0m \u001b[38;5;28;01mif\u001b[39;00m \u001b[38;5;28mself\u001b[39m\u001b[38;5;241m.\u001b[39mbackend\u001b[38;5;241m.\u001b[39minterface \u001b[38;5;129;01mis\u001b[39;00m \u001b[38;5;129;01mnot\u001b[39;00m \u001b[38;5;28;01mNone\u001b[39;00m:\n\u001b[1;32m    431\u001b[0m     logger\u001b[38;5;241m.\u001b[39minfo(\u001b[38;5;124m\"\u001b[39m\u001b[38;5;124mpausing backend\u001b[39m\u001b[38;5;124m\"\u001b[39m)  \u001b[38;5;66;03m# type: ignore\u001b[39;00m\n\u001b[0;32m--> 432\u001b[0m     \u001b[38;5;28;43mself\u001b[39;49m\u001b[38;5;241;43m.\u001b[39;49m\u001b[43mbackend\u001b[49m\u001b[38;5;241;43m.\u001b[39;49m\u001b[43minterface\u001b[49m\u001b[38;5;241;43m.\u001b[39;49m\u001b[43mpublish_pause\u001b[49m\u001b[43m(\u001b[49m\u001b[43m)\u001b[49m\n",
      "File \u001b[0;32m~/.local/lib/python3.10/site-packages/wandb/sdk/interface/interface.py:698\u001b[0m, in \u001b[0;36mInterfaceBase.publish_pause\u001b[0;34m(self)\u001b[0m\n\u001b[1;32m    696\u001b[0m \u001b[38;5;28;01mdef\u001b[39;00m \u001b[38;5;21mpublish_pause\u001b[39m(\u001b[38;5;28mself\u001b[39m) \u001b[38;5;241m-\u001b[39m\u001b[38;5;241m>\u001b[39m \u001b[38;5;28;01mNone\u001b[39;00m:\n\u001b[1;32m    697\u001b[0m     pause \u001b[38;5;241m=\u001b[39m pb\u001b[38;5;241m.\u001b[39mPauseRequest()\n\u001b[0;32m--> 698\u001b[0m     \u001b[38;5;28;43mself\u001b[39;49m\u001b[38;5;241;43m.\u001b[39;49m\u001b[43m_publish_pause\u001b[49m\u001b[43m(\u001b[49m\u001b[43mpause\u001b[49m\u001b[43m)\u001b[49m\n",
      "File \u001b[0;32m~/.local/lib/python3.10/site-packages/wandb/sdk/interface/interface_shared.py:359\u001b[0m, in \u001b[0;36mInterfaceShared._publish_pause\u001b[0;34m(self, pause)\u001b[0m\n\u001b[1;32m    357\u001b[0m \u001b[38;5;28;01mdef\u001b[39;00m \u001b[38;5;21m_publish_pause\u001b[39m(\u001b[38;5;28mself\u001b[39m, pause: pb\u001b[38;5;241m.\u001b[39mPauseRequest) \u001b[38;5;241m-\u001b[39m\u001b[38;5;241m>\u001b[39m \u001b[38;5;28;01mNone\u001b[39;00m:\n\u001b[1;32m    358\u001b[0m     rec \u001b[38;5;241m=\u001b[39m \u001b[38;5;28mself\u001b[39m\u001b[38;5;241m.\u001b[39m_make_request(pause\u001b[38;5;241m=\u001b[39mpause)\n\u001b[0;32m--> 359\u001b[0m     \u001b[38;5;28;43mself\u001b[39;49m\u001b[38;5;241;43m.\u001b[39;49m\u001b[43m_publish\u001b[49m\u001b[43m(\u001b[49m\u001b[43mrec\u001b[49m\u001b[43m)\u001b[49m\n",
      "File \u001b[0;32m~/.local/lib/python3.10/site-packages/wandb/sdk/interface/interface_sock.py:51\u001b[0m, in \u001b[0;36mInterfaceSock._publish\u001b[0;34m(self, record, local)\u001b[0m\n\u001b[1;32m     49\u001b[0m \u001b[38;5;28;01mdef\u001b[39;00m \u001b[38;5;21m_publish\u001b[39m(\u001b[38;5;28mself\u001b[39m, record: \u001b[38;5;124m\"\u001b[39m\u001b[38;5;124mpb.Record\u001b[39m\u001b[38;5;124m\"\u001b[39m, local: Optional[\u001b[38;5;28mbool\u001b[39m] \u001b[38;5;241m=\u001b[39m \u001b[38;5;28;01mNone\u001b[39;00m) \u001b[38;5;241m-\u001b[39m\u001b[38;5;241m>\u001b[39m \u001b[38;5;28;01mNone\u001b[39;00m:\n\u001b[1;32m     50\u001b[0m     \u001b[38;5;28mself\u001b[39m\u001b[38;5;241m.\u001b[39m_assign(record)\n\u001b[0;32m---> 51\u001b[0m     \u001b[38;5;28;43mself\u001b[39;49m\u001b[38;5;241;43m.\u001b[39;49m\u001b[43m_sock_client\u001b[49m\u001b[38;5;241;43m.\u001b[39;49m\u001b[43msend_record_publish\u001b[49m\u001b[43m(\u001b[49m\u001b[43mrecord\u001b[49m\u001b[43m)\u001b[49m\n",
      "File \u001b[0;32m~/.local/lib/python3.10/site-packages/wandb/sdk/lib/sock_client.py:221\u001b[0m, in \u001b[0;36mSockClient.send_record_publish\u001b[0;34m(self, record)\u001b[0m\n\u001b[1;32m    219\u001b[0m server_req \u001b[38;5;241m=\u001b[39m spb\u001b[38;5;241m.\u001b[39mServerRequest()\n\u001b[1;32m    220\u001b[0m server_req\u001b[38;5;241m.\u001b[39mrecord_publish\u001b[38;5;241m.\u001b[39mCopyFrom(record)\n\u001b[0;32m--> 221\u001b[0m \u001b[38;5;28;43mself\u001b[39;49m\u001b[38;5;241;43m.\u001b[39;49m\u001b[43msend_server_request\u001b[49m\u001b[43m(\u001b[49m\u001b[43mserver_req\u001b[49m\u001b[43m)\u001b[49m\n",
      "File \u001b[0;32m~/.local/lib/python3.10/site-packages/wandb/sdk/lib/sock_client.py:155\u001b[0m, in \u001b[0;36mSockClient.send_server_request\u001b[0;34m(self, msg)\u001b[0m\n\u001b[1;32m    154\u001b[0m \u001b[38;5;28;01mdef\u001b[39;00m \u001b[38;5;21msend_server_request\u001b[39m(\u001b[38;5;28mself\u001b[39m, msg: Any) \u001b[38;5;241m-\u001b[39m\u001b[38;5;241m>\u001b[39m \u001b[38;5;28;01mNone\u001b[39;00m:\n\u001b[0;32m--> 155\u001b[0m     \u001b[38;5;28;43mself\u001b[39;49m\u001b[38;5;241;43m.\u001b[39;49m\u001b[43m_send_message\u001b[49m\u001b[43m(\u001b[49m\u001b[43mmsg\u001b[49m\u001b[43m)\u001b[49m\n",
      "File \u001b[0;32m~/.local/lib/python3.10/site-packages/wandb/sdk/lib/sock_client.py:152\u001b[0m, in \u001b[0;36mSockClient._send_message\u001b[0;34m(self, msg)\u001b[0m\n\u001b[1;32m    150\u001b[0m header \u001b[38;5;241m=\u001b[39m struct\u001b[38;5;241m.\u001b[39mpack(\u001b[38;5;124m\"\u001b[39m\u001b[38;5;124m<BI\u001b[39m\u001b[38;5;124m\"\u001b[39m, \u001b[38;5;28mord\u001b[39m(\u001b[38;5;124m\"\u001b[39m\u001b[38;5;124mW\u001b[39m\u001b[38;5;124m\"\u001b[39m), raw_size)\n\u001b[1;32m    151\u001b[0m \u001b[38;5;28;01mwith\u001b[39;00m \u001b[38;5;28mself\u001b[39m\u001b[38;5;241m.\u001b[39m_lock:\n\u001b[0;32m--> 152\u001b[0m     \u001b[38;5;28;43mself\u001b[39;49m\u001b[38;5;241;43m.\u001b[39;49m\u001b[43m_sendall_with_error_handle\u001b[49m\u001b[43m(\u001b[49m\u001b[43mheader\u001b[49m\u001b[43m \u001b[49m\u001b[38;5;241;43m+\u001b[39;49m\u001b[43m \u001b[49m\u001b[43mdata\u001b[49m\u001b[43m)\u001b[49m\n",
      "File \u001b[0;32m~/.local/lib/python3.10/site-packages/wandb/sdk/lib/sock_client.py:130\u001b[0m, in \u001b[0;36mSockClient._sendall_with_error_handle\u001b[0;34m(self, data)\u001b[0m\n\u001b[1;32m    128\u001b[0m start_time \u001b[38;5;241m=\u001b[39m time\u001b[38;5;241m.\u001b[39mmonotonic()\n\u001b[1;32m    129\u001b[0m \u001b[38;5;28;01mtry\u001b[39;00m:\n\u001b[0;32m--> 130\u001b[0m     sent \u001b[38;5;241m=\u001b[39m \u001b[38;5;28;43mself\u001b[39;49m\u001b[38;5;241;43m.\u001b[39;49m\u001b[43m_sock\u001b[49m\u001b[38;5;241;43m.\u001b[39;49m\u001b[43msend\u001b[49m\u001b[43m(\u001b[49m\u001b[43mdata\u001b[49m\u001b[43m)\u001b[49m\n\u001b[1;32m    131\u001b[0m     \u001b[38;5;66;03m# sent equal to 0 indicates a closed socket\u001b[39;00m\n\u001b[1;32m    132\u001b[0m     \u001b[38;5;28;01mif\u001b[39;00m sent \u001b[38;5;241m==\u001b[39m \u001b[38;5;241m0\u001b[39m:\n",
      "\u001b[0;31mBrokenPipeError\u001b[0m: [Errno 32] Broken pipe"
     ]
    },
    {
     "name": "stderr",
     "output_type": "stream",
     "text": [
      "Epoch 6/20 - Avg train Loss: 0.348133: 100%|███████████████████████████████████████████████████████████████████████████████████████████████████████████████████████████████| 13/13 [00:38<00:00,  2.98s/it]\n",
      "Epoch 6/20 - Starting validation...:   0%|                                                                                                                                           | 0/4 [00:00<?, ?it/s]"
     ]
    }
   ],
   "source": [
    "\n",
    "# Define the sweep configuration\n",
    "sweep_config = {\n",
    "    \"method\": \"random\",  # or \"grid\", or \"bayes\"\n",
    "    \"parameters\": {\n",
    "        \"model\": {\n",
    "            \"values\": [\"Task2EfficientNetB0\"]\n",
    "        },\n",
    "        \"lr\": {\n",
    "            \"values\": [1e-3]\n",
    "        },\n",
    "        \"epochs\": {\n",
    "            \"values\": [20]\n",
    "        },\n",
    "        \"batch_size\": {\n",
    "            \"values\": [16, 32]\n",
    "        },\n",
    "        \"p_gaussblur\": {\n",
    "            \"values\": [0, 0.3]\n",
    "        },\n",
    "        \"p_equalize\": {\n",
    "            \"values\": [0, 0.3]\n",
    "        },\n",
    "        \"p_clahe\": {\n",
    "            \"values\": [0, 0.3]\n",
    "        },\n",
    "        \"p_horizontalflip\": {\n",
    "            \"values\": [0, 0.3]\n",
    "        },\n",
    "        \"rotation\": {\n",
    "            \"values\": [15, 30]\n",
    "        },\n",
    "        \"p_affine\": {\n",
    "            \"values\": [0, 0.3]\n",
    "        },\n",
    "        \"loss_weight\": {\n",
    "            \"values\": [0.5, 0.7]\n",
    "        },\n",
    "        \"lr_schedule_factor\": {\n",
    "            \"values\": [0.1]\n",
    "        },\n",
    "        \"lr_schedule_patience\": {\n",
    "            \"values\": [5]\n",
    "        }\n",
    "    }\n",
    "}\n",
    "\n",
    "# Initialize the sweep\n",
    "sweep_id = wandb.sweep(sweep=sweep_config, project=\"task2\")\n",
    "\n",
    "# Start the sweep\n",
    "wandb.agent(sweep_id, function=train_model)"
   ]
  },
  {
   "cell_type": "code",
   "execution_count": null,
   "metadata": {},
   "outputs": [],
   "source": []
  }
 ],
 "metadata": {
  "kernelspec": {
   "display_name": "Python 3 (ipykernel)",
   "language": "python",
   "name": "python3"
  },
  "language_info": {
   "codemirror_mode": {
    "name": "ipython",
    "version": 3
   },
   "file_extension": ".py",
   "mimetype": "text/x-python",
   "name": "python",
   "nbconvert_exporter": "python",
   "pygments_lexer": "ipython3",
   "version": "3.10.14"
  }
 },
 "nbformat": 4,
 "nbformat_minor": 4
}
