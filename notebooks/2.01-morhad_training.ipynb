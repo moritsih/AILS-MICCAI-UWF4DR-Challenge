{
 "cells": [
  {
   "cell_type": "code",
   "execution_count": 1,
   "metadata": {},
   "outputs": [],
   "source": [
    "%load_ext autoreload\n",
    "%autoreload 2"
   ]
  },
  {
   "cell_type": "code",
   "execution_count": 2,
   "metadata": {},
   "outputs": [
    {
     "name": "stdout",
     "output_type": "stream",
     "text": [
      "[Errno 2] No such file or directory: '/home/optima/mhaderer/AILS-MICCAI-UWF4DR-Challenge'\n",
      "/Users/moritz/Documents/Master/AILS-MICCAI-UWF4DR-Challenge/notebooks\n"
     ]
    },
    {
     "name": "stderr",
     "output_type": "stream",
     "text": [
      "/Users/moritz/miniconda3/envs/AILS-MICCAI-UWF4DR-Challenge/lib/python3.10/site-packages/IPython/core/magics/osm.py:393: UserWarning: This is now an optional IPython functionality, using bookmarks requires you to install the `pickleshare` library.\n",
      "  bkms = self.shell.db.get('bookmarks', {})\n"
     ]
    }
   ],
   "source": [
    "%cd /home/optima/mhaderer/AILS-MICCAI-UWF4DR-Challenge"
   ]
  },
  {
   "cell_type": "code",
   "execution_count": 3,
   "metadata": {},
   "outputs": [],
   "source": [
    "# setup\n",
    "#!apt-get update\n",
    "#!pip install python-dotenv\n",
    "#!pip install loguru\n",
    "#!pip install gdown\n",
    "#!pip install typer"
   ]
  },
  {
   "cell_type": "code",
   "execution_count": 4,
   "metadata": {},
   "outputs": [],
   "source": [
    "# load data and unzip data\n",
    "\n",
    "#!python tools/download_data_and_chkpts.py"
   ]
  },
  {
   "cell_type": "code",
   "execution_count": 10,
   "metadata": {},
   "outputs": [
    {
     "name": "stderr",
     "output_type": "stream",
     "text": [
      "\u001b[34m\u001b[1mwandb\u001b[0m: \u001b[33mWARNING\u001b[0m If you're specifying your api key in code, ensure this code is not shared publicly.\n",
      "\u001b[34m\u001b[1mwandb\u001b[0m: \u001b[33mWARNING\u001b[0m Consider setting the WANDB_API_KEY environment variable, or running `wandb login` from the command line.\n",
      "\u001b[34m\u001b[1mwandb\u001b[0m: Appending key for api.wandb.ai to your netrc file: /Users/moritz/.netrc\n"
     ]
    },
    {
     "data": {
      "text/plain": [
       "True"
      ]
     },
     "execution_count": 10,
     "metadata": {},
     "output_type": "execute_result"
    }
   ],
   "source": [
    "# imports\n",
    "\n",
    "import torch\n",
    "import torch.nn as nn\n",
    "from torch import optim\n",
    "import torch.nn.functional as F\n",
    "from torch.utils.data import DataLoader\n",
    "import wandb\n",
    "\n",
    "from sklearn.metrics import roc_auc_score, average_precision_score\n",
    "\n",
    "import albumentations as A\n",
    "from albumentations.pytorch.transforms import ToTensorV2\n",
    "\n",
    "import time\n",
    "\n",
    "from ails_miccai_uwf4dr_challenge.models.metrics import sensitivity_score, specificity_score\n",
    "from ails_miccai_uwf4dr_challenge.dataset import ChallengeTaskType, CustomDataset, DatasetBuilder, DatasetOriginationType\n",
    "from ails_miccai_uwf4dr_challenge.preprocess_augmentations import ResidualGaussBlur, MultiplyMask\n",
    "from ails_miccai_uwf4dr_challenge.models.trainer import DefaultMetricsEvaluationStrategy, Metric, MetricCalculatedHook, \\\n",
    "    NumBatches, Trainer, EpochTrainingStrategy, EpochValidationStrategy, DefaultEpochTrainingStrategy, \\\n",
    "    DefaultBatchTrainingStrategy, TrainingContext, PersistBestModelOnEpochEndHook\n",
    "from ails_miccai_uwf4dr_challenge.models.architectures.task1_automorph_plain import AutoMorphModel\n",
    "from ails_miccai_uwf4dr_challenge.models.architectures.task1_efficientnet_plain import Task1EfficientNetB4\n",
    "from ails_miccai_uwf4dr_challenge.models.architectures.task2_efficientnetb0_plain import Task2EfficientNetB0 \n",
    "from ails_miccai_uwf4dr_challenge.config import WANDB_API_KEY, PROJ_ROOT\n",
    "\n",
    "wandb.login(key=WANDB_API_KEY)"
   ]
  },
  {
   "cell_type": "code",
   "execution_count": 11,
   "metadata": {},
   "outputs": [
    {
     "name": "stdout",
     "output_type": "stream",
     "text": [
      "Device: cpu\n"
     ]
    }
   ],
   "source": [
    "# select device for training\n",
    "device = torch.device(\"cuda\" if torch.cuda.is_available() else \"cpu\")\n",
    "print(\"Device: \" + str(device))"
   ]
  },
  {
   "cell_type": "markdown",
   "metadata": {},
   "source": [
    "## Train automorph model"
   ]
  },
  {
   "cell_type": "code",
   "execution_count": 7,
   "metadata": {},
   "outputs": [],
   "source": [
    "\n",
    "\n",
    "\n",
    "preprocessing = A.Compose([\n",
    "        A.Resize(800, 1016, p=1),\n",
    "        A.Normalize(mean=[0.406, 0.485, 0.456], std=[0.225, 0.229, 0.224], p=1),\n",
    "        #ResidualGaussBlur(p=1),\n",
    "        MultiplyMask(p=1),\n",
    "        A.Resize(800, 1016, p=1),\n",
    "        #A.Equalize(p=0.1),\n",
    "        #A.CLAHE(clip_limit=5., p=0.3)\n",
    "    ])\n",
    "\n",
    "augment_train = A.Compose([\n",
    "        #A.VerticalFlip(p=0.5),\n",
    "        #A.HorizontalFlip(p=0.5),\n",
    "        #A.Affine(rotate=15, rotate_method='ellipse', p=0.5),\n",
    "        ToTensorV2(p=1)\n",
    "    ])\n",
    "\n",
    "augment_val = A.Compose([\n",
    "        ToTensorV2(p=1)\n",
    "    ])\n",
    "\n",
    "\n",
    "transforms_train = A.Compose([\n",
    "    preprocessing,\n",
    "    augment_train\n",
    "])\n",
    "\n",
    "transforms_val = A.Compose([\n",
    "    preprocessing,\n",
    "    augment_val\n",
    "])"
   ]
  },
  {
   "cell_type": "code",
   "execution_count": 12,
   "metadata": {},
   "outputs": [],
   "source": [
    "def train_automorph(config=None):\n",
    "\n",
    "    wandb.init(project=\"task2\", config=config)\n",
    "    config = wandb.config\n",
    "\n",
    "    dataset = DatasetBuilder(dataset=DatasetOriginationType.ORIGINAL, task=ChallengeTaskType.TASK2)\n",
    "    train_data, val_data = dataset.get_train_val()\n",
    "\n",
    "    train_dataset = CustomDataset(train_data, transform=transforms_train)\n",
    "    val_dataset = CustomDataset(val_data, transform=transforms_val)\n",
    "\n",
    "    train_loader = DataLoader(train_dataset, batch_size=config.batch_size, shuffle=True)\n",
    "    val_loader = DataLoader(val_dataset, batch_size=config.batch_size, shuffle=False)\n",
    "    \n",
    "    device = torch.device(\"cuda\" if torch.cuda.is_available() else \"cpu\" if torch.backends.mps.is_available() else \"cpu\") #don't use mps, it takes ages, whyever that is the case!?!\n",
    "    print(f\"Using device: {device}\")\n",
    "\n",
    "    try:\n",
    "        model = AutoMorphModel(enc_frozen=True)\n",
    "    except ValueError:\n",
    "        raise ValueError(f\"Unknown model: AutoMorphModel\")\n",
    "\n",
    "    model.to(device)\n",
    "    \n",
    "    print(\"Training model: \", model.__class__.__name__)    \n",
    "\n",
    "    metrics = [\n",
    "        Metric('auroc', roc_auc_score),\n",
    "        Metric('auprc', average_precision_score),\n",
    "        Metric('accuracy', lambda y_true, y_pred: (y_pred.round() == y_true).mean()),\n",
    "        Metric('sensitivity', sensitivity_score),\n",
    "        Metric('specificity', specificity_score)\n",
    "    ]\n",
    "\n",
    "    class WandbLoggingHook(MetricCalculatedHook):\n",
    "        def on_metric_calculated(self, training_context: TrainingContext, metric: Metric, result, last_metric_for_epoch: bool):\n",
    "            import wandb\n",
    "            wandb.log(data={metric.name: result}, commit=last_metric_for_epoch)\n",
    "\n",
    "    metrics_eval_strategy = DefaultMetricsEvaluationStrategy(metrics).register_metric_calculated_hook(WandbLoggingHook())\n",
    "\n",
    "    def combined_losses(pred, target):\n",
    "        bce = F.binary_cross_entropy_with_logits(pred, target) * 0.5\n",
    "        smooth_l1 = F.smooth_l1_loss(pred, target) * 0.5\n",
    "        return bce + smooth_l1\n",
    "\n",
    "    criterion = combined_losses\n",
    "    optimizer = optim.AdamW(model.parameters(), lr=config[\"learning_rate\"])\n",
    "    lr_scheduler = optim.lr_scheduler.ReduceLROnPlateau(optimizer, mode='min', factor=0.5, patience=5, verbose=True)\n",
    "\n",
    "    trainer = Trainer(model, train_loader, val_loader, criterion, optimizer, lr_scheduler, device, \n",
    "                        metrics_eval_strategy=metrics_eval_strategy)\n",
    "\n",
    "    # build a file name for the model weights containing current timestamp and the model class\n",
    "    training_timestamp = time.strftime(\"%Y-%m-%d_%H-%M-%S\")\n",
    "    persist_model_hook = PersistBestModelOnEpochEndHook(f\"best_model_{training_timestamp}.pth\")\n",
    "    trainer.add_epoch_end_hook(persist_model_hook) # TODO uncomment this line to save the best model\n",
    "\n",
    "    #print(\"First train 2 epochs 2 batches to check if everything works - you can comment these two lines after the code has stabilized...\")\n",
    "    #trainer.train(num_epochs=2, num_batches=NumBatches.TWO_FOR_INITIAL_TESTING)\n",
    "    \n",
    "    print(\"Now train train train\")\n",
    "    trainer.train(num_epochs=config.epochs)\n",
    "    wandb.finish()\n",
    "    print(\"Finished training\")"
   ]
  },
  {
   "cell_type": "code",
   "execution_count": 13,
   "metadata": {},
   "outputs": [],
   "source": [
    "\n",
    "\n",
    "config = {\n",
    "    \"dataset\": \"original\",\n",
    "    \"task\": \"task2\",\n",
    "    \"augmentations\": \"resize only\",\n",
    "    \"loss_func\": \"combined losses\",\n",
    "    \"learning_rate\": 1e-3,\n",
    "    \"epochs\": 50,\n",
    "    \"batch_size\": 32,\n",
    "    \"model_type\": \"AutoMorphModel encoder unfrozen\"\n",
    "}\n",
    "\n",
    "WANDB_HTTP_TIMEOUT=300\n",
    "WANDB_INIT_TIMEOUT =600\n",
    "WANDB_DEBUG=True\n"
   ]
  },
  {
   "cell_type": "code",
   "execution_count": 14,
   "metadata": {},
   "outputs": [],
   "source": [
    "#train_automorph(config)"
   ]
  },
  {
   "cell_type": "markdown",
   "metadata": {},
   "source": [
    "## Train efficientnet b0"
   ]
  },
  {
   "cell_type": "code",
   "execution_count": 15,
   "metadata": {},
   "outputs": [],
   "source": [
    "transforms_train = A.Compose([\n",
    "        A.Resize(800, 1016, p=1),\n",
    "        MultiplyMask(p=1),\n",
    "        #ResidualGaussBlur(p=.5),\n",
    "        #A.Equalize(p=0.3),\n",
    "        #A.CLAHE(clip_limit=5., p=0.5)\n",
    "        #A.VerticalFlip(p=0.3),\n",
    "        #A.HorizontalFlip(p=0.3),\n",
    "        #A.Affine(rotate=15, rotate_method='ellipse', p=0.3),\n",
    "        A.Normalize(mean=[0.406, 0.485, 0.456], std=[0.225, 0.229, 0.224], p=1),\n",
    "        ToTensorV2(p=1)\n",
    "    ])\n",
    "\n",
    "transforms_val = A.Compose([\n",
    "        A.Resize(800, 1016, p=1),\n",
    "        MultiplyMask(p=1),\n",
    "        A.Normalize(mean=[0.406, 0.485, 0.456], std=[0.225, 0.229, 0.224], p=1),\n",
    "        ToTensorV2(p=1)\n",
    "    ])\n",
    "\n"
   ]
  },
  {
   "cell_type": "code",
   "execution_count": 18,
   "metadata": {},
   "outputs": [],
   "source": [
    "def train_efficientnetb0(config=None):\n",
    "\n",
    "    wandb.init(project=\"task2\", config=config)\n",
    "    config = wandb.config\n",
    "\n",
    "    dataset = DatasetBuilder(dataset=DatasetOriginationType.ORIGINAL, task=ChallengeTaskType.TASK2)\n",
    "    train_data, val_data = dataset.get_train_val()\n",
    "\n",
    "    train_dataset = CustomDataset(train_data, transform=transforms_train)\n",
    "    val_dataset = CustomDataset(val_data, transform=transforms_val)\n",
    "\n",
    "    train_loader = DataLoader(train_dataset, batch_size=config.batch_size, shuffle=True)\n",
    "    val_loader = DataLoader(val_dataset, batch_size=config.batch_size, shuffle=False)\n",
    "    \n",
    "    device = torch.device(\"cuda\" if torch.cuda.is_available() else \"cpu\" if torch.backends.mps.is_available() else \"cpu\") #don't use mps, it takes ages, whyever that is the case!?!\n",
    "    print(f\"Using device: {device}\")\n",
    "\n",
    "    try:\n",
    "        model = Task2EfficientNetB0(num_classes=1)\n",
    "    except ValueError:\n",
    "        raise ValueError(f\"Unknown model: Task2EfficientNetB0\")\n",
    "\n",
    "    model.to(device)\n",
    "    \n",
    "    print(\"Training model: \", model.__class__.__name__)    \n",
    "\n",
    "    metrics = [\n",
    "        Metric('auroc', roc_auc_score),\n",
    "        Metric('auprc', average_precision_score),\n",
    "        Metric('accuracy', lambda y_true, y_pred: (y_pred.round() == y_true).mean()),\n",
    "        Metric('sensitivity', sensitivity_score),\n",
    "        Metric('specificity', specificity_score)\n",
    "    ]\n",
    "\n",
    "    class WandbLoggingHook(MetricCalculatedHook):\n",
    "        def on_metric_calculated(self, training_context: TrainingContext, metric: Metric, result, last_metric_for_epoch: bool):\n",
    "            import wandb\n",
    "            wandb.log(data={metric.name: result}, commit=last_metric_for_epoch)\n",
    "\n",
    "    metrics_eval_strategy = DefaultMetricsEvaluationStrategy(metrics).register_metric_calculated_hook(WandbLoggingHook())\n",
    "\n",
    "    def combined_losses(pred, target):\n",
    "        bce = F.binary_cross_entropy_with_logits(pred, target) * 0.5\n",
    "        smooth_l1 = F.smooth_l1_loss(pred, target) * 0.5\n",
    "        return bce + smooth_l1\n",
    "\n",
    "    criterion = combined_losses\n",
    "    optimizer = optim.AdamW(model.parameters(), lr=config[\"learning_rate\"])\n",
    "    lr_scheduler = optim.lr_scheduler.ReduceLROnPlateau(optimizer, mode='min', factor=0.5, patience=5, verbose=True)\n",
    "\n",
    "    trainer = Trainer(model, train_loader, val_loader, criterion, optimizer, lr_scheduler, device, \n",
    "                        metrics_eval_strategy=metrics_eval_strategy)\n",
    "\n",
    "    # build a file name for the model weights containing current timestamp and the model class\n",
    "    training_timestamp = time.strftime(\"%Y-%m-%d_%H-%M-%S\")\n",
    "    persist_model_hook = PersistBestModelOnEpochEndHook(f\"best_model_{training_timestamp}.pth\")\n",
    "    trainer.add_epoch_end_hook(persist_model_hook) # TODO uncomment this line to save the best model\n",
    "\n",
    "    #print(\"First train 2 epochs 2 batches to check if everything works - you can comment these two lines after the code has stabilized...\")\n",
    "    #trainer.train(num_epochs=2, num_batches=NumBatches.TWO_FOR_INITIAL_TESTING)\n",
    "    \n",
    "    print(\"Now train train train\")\n",
    "    trainer.train(num_epochs=config.epochs)\n",
    "    wandb.finish()\n",
    "    print(\"Finished training\")"
   ]
  },
  {
   "cell_type": "code",
   "execution_count": null,
   "metadata": {},
   "outputs": [],
   "source": [
    "\n",
    "\n",
    "config = {\n",
    "    \"dataset\": \"original\",\n",
    "    \"task\": \"task2\",\n",
    "    \"augmentations\": \"resize only\",\n",
    "    \"loss_func\": \"combined losses\",\n",
    "    \"learning_rate\": 1e-3,\n",
    "    \"epochs\": 20,\n",
    "    \"batch_size\": 16,\n",
    "    \"model_type\": \"Task2EfficientNetB0\"\n",
    "}\n",
    "\n",
    "WANDB_HTTP_TIMEOUT=300\n",
    "WANDB_INIT_TIMEOUT =600\n",
    "WANDB_DEBUG=True\n"
   ]
  },
  {
   "cell_type": "code",
   "execution_count": 17,
   "metadata": {},
   "outputs": [],
   "source": [
    "train_efficientnetb0(config)"
   ]
  }
 ],
 "metadata": {
  "kernelspec": {
   "display_name": "Python 3 (ipykernel)",
   "language": "python",
   "name": "python3"
  },
  "language_info": {
   "codemirror_mode": {
    "name": "ipython",
    "version": 3
   },
   "file_extension": ".py",
   "mimetype": "text/x-python",
   "name": "python",
   "nbconvert_exporter": "python",
   "pygments_lexer": "ipython3",
   "version": "3.10.14"
  }
 },
 "nbformat": 4,
 "nbformat_minor": 4
}
