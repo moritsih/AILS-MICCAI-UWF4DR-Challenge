{
 "cells": [
  {
   "cell_type": "code",
   "execution_count": 1,
   "metadata": {},
   "outputs": [],
   "source": [
    "%load_ext autoreload\n",
    "%autoreload 2"
   ]
  },
  {
   "cell_type": "code",
   "execution_count": 2,
   "metadata": {},
   "outputs": [
    {
     "name": "stdout",
     "output_type": "stream",
     "text": [
      "/home/optima/mhaderer/AILS-MICCAI-UWF4DR-Challenge\n"
     ]
    },
    {
     "name": "stderr",
     "output_type": "stream",
     "text": [
      "/opt/conda/lib/python3.10/site-packages/IPython/core/magics/osm.py:417: UserWarning: using dhist requires you to install the `pickleshare` library.\n",
      "  self.shell.db['dhist'] = compress_dhist(dhist)[-100:]\n"
     ]
    }
   ],
   "source": [
    "from pathlib import Path\n",
    "base_path = Path().resolve().parent\n",
    "%cd {base_path}"
   ]
  },
  {
   "cell_type": "code",
   "execution_count": 6,
   "metadata": {},
   "outputs": [
    {
     "name": "stdout",
     "output_type": "stream",
     "text": [
      "Defaulting to user installation because normal site-packages is not writeable\n",
      "Collecting imbalanced-learn\n",
      "  Downloading imbalanced_learn-0.12.3-py3-none-any.whl.metadata (8.3 kB)\n",
      "Requirement already satisfied: numpy>=1.17.3 in /opt/conda/lib/python3.10/site-packages (from imbalanced-learn) (1.26.4)\n",
      "Requirement already satisfied: scipy>=1.5.0 in /opt/conda/lib/python3.10/site-packages (from imbalanced-learn) (1.13.0)\n",
      "Requirement already satisfied: scikit-learn>=1.0.2 in /opt/conda/lib/python3.10/site-packages (from imbalanced-learn) (1.4.2)\n",
      "Requirement already satisfied: joblib>=1.1.1 in /opt/conda/lib/python3.10/site-packages (from imbalanced-learn) (1.4.2)\n",
      "Requirement already satisfied: threadpoolctl>=2.0.0 in /opt/conda/lib/python3.10/site-packages (from imbalanced-learn) (3.5.0)\n",
      "Downloading imbalanced_learn-0.12.3-py3-none-any.whl (258 kB)\n",
      "\u001b[2K   \u001b[90m━━━━━━━━━━━━━━━━━━━━━━━━━━━━━━━━━━━━━━━━\u001b[0m \u001b[32m258.3/258.3 kB\u001b[0m \u001b[31m2.4 MB/s\u001b[0m eta \u001b[36m0:00:00\u001b[0m:00:01\u001b[0m\n",
      "\u001b[?25hInstalling collected packages: imbalanced-learn\n",
      "Successfully installed imbalanced-learn-0.12.3\n"
     ]
    }
   ],
   "source": [
    "# setup\n",
    "#!apt-get update\n",
    "#!pip install python-dotenv\n",
    "#!pip install loguru\n",
    "#!pip install gdown\n",
    "#!pip install typer\n",
    "#!pip install imbalanced-learn"
   ]
  },
  {
   "cell_type": "code",
   "execution_count": 4,
   "metadata": {},
   "outputs": [],
   "source": [
    "# load data and unzip data\n",
    "\n",
    "#!python tools/download_data_and_chkpts.py"
   ]
  },
  {
   "cell_type": "code",
   "execution_count": 29,
   "metadata": {},
   "outputs": [
    {
     "name": "stderr",
     "output_type": "stream",
     "text": [
      "\u001b[34m\u001b[1mwandb\u001b[0m: \u001b[33mWARNING\u001b[0m If you're specifying your api key in code, ensure this code is not shared publicly.\n",
      "\u001b[34m\u001b[1mwandb\u001b[0m: \u001b[33mWARNING\u001b[0m Consider setting the WANDB_API_KEY environment variable, or running `wandb login` from the command line.\n",
      "\u001b[34m\u001b[1mwandb\u001b[0m: Appending key for api.wandb.ai to your netrc file: /home/optima/mhaderer/.netrc\n"
     ]
    },
    {
     "data": {
      "text/plain": [
       "True"
      ]
     },
     "execution_count": 29,
     "metadata": {},
     "output_type": "execute_result"
    }
   ],
   "source": [
    "# imports\n",
    "\n",
    "import torch\n",
    "import torch.nn as nn\n",
    "from torch import optim\n",
    "import torch.nn.functional as F\n",
    "from torch.utils.data import DataLoader\n",
    "import wandb\n",
    "\n",
    "from sklearn.metrics import roc_auc_score, average_precision_score\n",
    "\n",
    "import albumentations as A\n",
    "from albumentations.pytorch.transforms import ToTensorV2\n",
    "\n",
    "import time\n",
    "\n",
    "# data\n",
    "from ails_miccai_uwf4dr_challenge.dataset_strategy import CustomDataset, DatasetStrategy, CombinedDatasetStrategy, \\\n",
    "    Task1Strategy, Task2Strategy, Task3Strategy, TrainValSplitStrategy, RandomOverSamplingStrategy, DatasetBuilder\n",
    "\n",
    "# augmentation\n",
    "from ails_miccai_uwf4dr_challenge.preprocess_augmentations import ResidualGaussBlur, MultiplyMask\n",
    "\n",
    "# trainer\n",
    "from ails_miccai_uwf4dr_challenge.models.trainer import DefaultMetricsEvaluationStrategy, Metric, MetricCalculatedHook, \\\n",
    "    NumBatches, Trainer, EpochTrainingStrategy, EpochValidationStrategy, DefaultEpochTrainingStrategy, \\\n",
    "    DefaultBatchTrainingStrategy, TrainingContext, PersistBestModelOnEpochEndHook\n",
    "from ails_miccai_uwf4dr_challenge.models.metrics import sensitivity_score, specificity_score\n",
    "from ails_miccai_uwf4dr_challenge.config import Config\n",
    "\n",
    "# models\n",
    "from ails_miccai_uwf4dr_challenge.models.architectures.task1_automorph_plain import AutoMorphModel\n",
    "from ails_miccai_uwf4dr_challenge.models.architectures.task1_efficientnet_plain import Task1EfficientNetB4\n",
    "from ails_miccai_uwf4dr_challenge.models.architectures.task2_efficientnetb0_plain import Task2EfficientNetB0 \n",
    "from ails_miccai_uwf4dr_challenge.models.architectures.task1_convnext import Task1ConvNeXt \n",
    "\n",
    "from ails_miccai_uwf4dr_challenge.config import WANDB_API_KEY, PROJ_ROOT\n",
    "\n",
    "wandb.login(key=WANDB_API_KEY)"
   ]
  },
  {
   "cell_type": "code",
   "execution_count": 24,
   "metadata": {},
   "outputs": [
    {
     "name": "stdout",
     "output_type": "stream",
     "text": [
      "Device: cuda\n"
     ]
    }
   ],
   "source": [
    "# select device for training\n",
    "device = torch.device(\"cuda\" if torch.cuda.is_available() else \"cpu\")\n",
    "print(\"Device: \" + str(device))"
   ]
  },
  {
   "cell_type": "markdown",
   "metadata": {},
   "source": [
    "## Train some model"
   ]
  },
  {
   "cell_type": "code",
   "execution_count": 28,
   "metadata": {},
   "outputs": [
    {
     "name": "stderr",
     "output_type": "stream",
     "text": [
      "[autoreload of ails_miccai_uwf4dr_challenge.preprocess_augmentations failed: Traceback (most recent call last):\n",
      "  File \"/opt/conda/lib/python3.10/site-packages/IPython/extensions/autoreload.py\", line 276, in check\n",
      "    superreload(m, reload, self.old_objects)\n",
      "  File \"/opt/conda/lib/python3.10/site-packages/IPython/extensions/autoreload.py\", line 475, in superreload\n",
      "    module = reload(module)\n",
      "  File \"/opt/conda/lib/python3.10/importlib/__init__.py\", line 169, in reload\n",
      "    _bootstrap._exec(spec, module)\n",
      "  File \"<frozen importlib._bootstrap>\", line 619, in _exec\n",
      "  File \"<frozen importlib._bootstrap_external>\", line 883, in exec_module\n",
      "  File \"<frozen importlib._bootstrap>\", line 241, in _call_with_frames_removed\n",
      "  File \"/home/optima/mhaderer/AILS-MICCAI-UWF4DR-Challenge/ails_miccai_uwf4dr_challenge/preprocess_augmentations.py\", line 153, in <module>\n",
      "    if __name__ == __main__:\n",
      "NameError: name '__main__' is not defined. Did you mean: '__name__'?\n",
      "]\n"
     ]
    }
   ],
   "source": [
    "def train_model(cfg=None):\n",
    "\n",
    "    WANDB_HTTP_TIMEOUT=300\n",
    "    WANDB_INIT_TIMEOUT =600\n",
    "    WANDB_DEBUG=True\n",
    "\n",
    "    wandb.init(project=\"task2\", config=cfg)\n",
    "    config = wandb.config\n",
    "\n",
    "    transforms_train = A.Compose([\n",
    "        A.Resize(800, 1016, p=1),\n",
    "        MultiplyMask(p=1),\n",
    "        ResidualGaussBlur(p=cfg.p_gaussblur),\n",
    "        A.Equalize(p=cfg.p_equalize),\n",
    "        A.CLAHE(clip_limit=5., p=cfg.p_clahe),\n",
    "        A.HorizontalFlip(p=cfg.p_horizontalflip),\n",
    "        A.Affine(rotate=cfg.rotation, rotate_method='ellipse', p=cfg.p_affine),\n",
    "        A.Normalize(mean=[0.406, 0.485, 0.456], std=[0.225, 0.229, 0.224], p=1),\n",
    "        ToTensorV2(p=1)\n",
    "    ])\n",
    "\n",
    "    transforms_val = A.Compose([\n",
    "            A.Resize(800, 1016, p=1),\n",
    "            MultiplyMask(p=1),\n",
    "            A.Normalize(mean=[0.406, 0.485, 0.456], std=[0.225, 0.229, 0.224], p=1),\n",
    "            ToTensorV2(p=1)\n",
    "        ])\n",
    "\n",
    "    dataset_strategy = CombinedDatasetStrategy()\n",
    "    task_strategy = Task2Strategy()\n",
    "    \n",
    "    split_strategy = TrainValSplitStrategy(split_ratio=0.8)\n",
    "    resampling_strategy = RandomOverSamplingStrategy()\n",
    "\n",
    "    builder = DatasetBuilder(dataset_strategy, task_strategy, split_strategy, resampling_strategy)\n",
    "    train_data, val_data = builder.build()\n",
    "\n",
    "    train_dataset = CustomDataset(train_data, transform=transforms_train)\n",
    "    val_dataset = CustomDataset(val_data, transform=transforms_val)\n",
    "\n",
    "    train_loader = DataLoader(train_dataset, batch_size=cfg.batch_size, shuffle=True)\n",
    "    val_loader = DataLoader(val_dataset, batch_size=cfg.batch_size, shuffle=False)\n",
    "    \n",
    "    device = torch.device(\"cuda\" if torch.cuda.is_available() else \"cpu\" if torch.backends.mps.is_available() else \"cpu\") #don't use mps, it takes ages, whyever that is the case!?!\n",
    "    print(f\"Using device: {device}\")\n",
    "\n",
    "    assert cfg.model is not None, \"Model type must be specified in the config\"\n",
    "\n",
    "    if cfg.model == \"Task2EfficientNetB0\":\n",
    "        model = Task2EfficientNetB0(num_classes=1)\n",
    "    elif cfg.model == \"AutoMorphModel\":\n",
    "        model = AutoMorphModel(enc_frozen=True)\n",
    "    elif cfg.model == \"Task1ConvNeXt\":\n",
    "        model = Task1ConvNeXt(num_classes=1)\n",
    "\n",
    "    model = Task2EfficientNetB0(num_classes=1)\n",
    "\n",
    "    model.to(device)\n",
    "\n",
    "    metrics = [\n",
    "        Metric('auroc', roc_auc_score),\n",
    "        Metric('auprc', average_precision_score),\n",
    "        Metric('accuracy', lambda y_true, y_pred: (y_pred.round() == y_true).mean()),\n",
    "        Metric('sensitivity', sensitivity_score),\n",
    "        Metric('specificity', specificity_score)\n",
    "    ]\n",
    "\n",
    "    class WandbLoggingHook(MetricCalculatedHook):\n",
    "        def on_metric_calculated(self, training_context: TrainingContext, metric: Metric, result, last_metric_for_epoch: bool):\n",
    "            import wandb\n",
    "            wandb.log(data={metric.name: result}, commit=last_metric_for_epoch)\n",
    "\n",
    "    metrics_eval_strategy = DefaultMetricsEvaluationStrategy(metrics).register_metric_calculated_hook(WandbLoggingHook())\n",
    "\n",
    "    def combined_losses(pred, target):\n",
    "        bce = F.binary_cross_entropy_with_logits(pred, target) * cfg.loss_weight\n",
    "        smooth_l1 = F.smooth_l1_loss(pred, target) * (1 - cfg.loss_weight)\n",
    "        return bce + smooth_l1\n",
    "\n",
    "    criterion = combined_losses\n",
    "    optimizer = optim.AdamW(model.parameters(), lr=cfg.lr)\n",
    "    lr_scheduler = optim.lr_scheduler.ReduceLROnPlateau(optimizer, mode='min', factor=cfg.lr_schedule_factor, patience=cfg.lr_schedule_patience, verbose=True)\n",
    "\n",
    "    trainer = Trainer(model, train_loader, val_loader, criterion, optimizer, lr_scheduler, device, \n",
    "                        metrics_eval_strategy=metrics_eval_strategy)\n",
    "\n",
    "    # build a file name for the model weights containing current timestamp and the model class\n",
    "    training_timestamp = time.strftime(\"%Y-%m-%d_%H-%M-%S\")\n",
    "    persist_model_hook = PersistBestModelOnEpochEndHook(f\"models/best_model_{training_timestamp}.pth\")\n",
    "    trainer.add_epoch_end_hook(persist_model_hook) # TODO uncomment this line to save the best model\n",
    "\n",
    "    #print(\"First train 2 epochs 2 batches to check if everything works - you can comment these two lines after the code has stabilized...\")\n",
    "    #trainer.train(num_epochs=2, num_batches=NumBatches.TWO_FOR_INITIAL_TESTING)\n",
    "    \n",
    "    print(\"Now train train train\")\n",
    "    trainer.train(num_epochs=cfg.epochs)\n",
    "    wandb.finish()\n",
    "    print(\"Finished training\")"
   ]
  },
  {
   "cell_type": "code",
   "execution_count": 26,
   "metadata": {},
   "outputs": [],
   "source": [
    "cfg = Config(\n",
    "    batch_size=16,\n",
    "    epochs=20,\n",
    "    lr=0.001,\n",
    "    lr_schedule_factor=0.1,\n",
    "    lr_schedule_patience=5,\n",
    "    p_gaussblur=0.3,\n",
    "    p_equalize=0.1,\n",
    "    p_clahe=0.3,\n",
    "    p_horizontalflip=0.3,\n",
    "    rotation=15,\n",
    "    p_affine=0.3,\n",
    "    loss_weight=0.5,\n",
    "    smooth_l1_weight=0.5,\n",
    "    model=Task2EfficientNetB0,\n",
    ")"
   ]
  },
  {
   "cell_type": "code",
   "execution_count": 27,
   "metadata": {},
   "outputs": [
    {
     "data": {
      "text/html": [
       "Finishing last run (ID:3att59r1) before initializing another..."
      ],
      "text/plain": [
       "<IPython.core.display.HTML object>"
      ]
     },
     "metadata": {},
     "output_type": "display_data"
    },
    {
     "data": {
      "application/vnd.jupyter.widget-view+json": {
       "model_id": "",
       "version_major": 2,
       "version_minor": 0
      },
      "text/plain": [
       "VBox(children=(Label(value='0.008 MB of 0.008 MB uploaded\\r'), FloatProgress(value=1.0, max=1.0)))"
      ]
     },
     "metadata": {},
     "output_type": "display_data"
    },
    {
     "data": {
      "text/html": [
       " View run <strong style=\"color:#cdcd00\">morning-waterfall-28</strong> at: <a href='https://wandb.ai/miccai-challenge-2024/task2/runs/3att59r1' target=\"_blank\">https://wandb.ai/miccai-challenge-2024/task2/runs/3att59r1</a><br/> View project at: <a href='https://wandb.ai/miccai-challenge-2024/task2' target=\"_blank\">https://wandb.ai/miccai-challenge-2024/task2</a><br/>Synced 6 W&B file(s), 0 media file(s), 0 artifact file(s) and 0 other file(s)"
      ],
      "text/plain": [
       "<IPython.core.display.HTML object>"
      ]
     },
     "metadata": {},
     "output_type": "display_data"
    },
    {
     "data": {
      "text/html": [
       "Find logs at: <code>./wandb/run-20240723_144517-3att59r1/logs</code>"
      ],
      "text/plain": [
       "<IPython.core.display.HTML object>"
      ]
     },
     "metadata": {},
     "output_type": "display_data"
    },
    {
     "data": {
      "text/html": [
       "Successfully finished last run (ID:3att59r1). Initializing new run:<br/>"
      ],
      "text/plain": [
       "<IPython.core.display.HTML object>"
      ]
     },
     "metadata": {},
     "output_type": "display_data"
    },
    {
     "data": {
      "application/vnd.jupyter.widget-view+json": {
       "model_id": "3f04bd76b09943ea856de3189b36df13",
       "version_major": 2,
       "version_minor": 0
      },
      "text/plain": [
       "VBox(children=(Label(value='Waiting for wandb.init()...\\r'), FloatProgress(value=0.011112409592088725, max=1.0…"
      ]
     },
     "metadata": {},
     "output_type": "display_data"
    },
    {
     "data": {
      "text/html": [
       "wandb version 0.17.5 is available!  To upgrade, please run:\n",
       " $ pip install wandb --upgrade"
      ],
      "text/plain": [
       "<IPython.core.display.HTML object>"
      ]
     },
     "metadata": {},
     "output_type": "display_data"
    },
    {
     "data": {
      "text/html": [
       "Tracking run with wandb version 0.17.0"
      ],
      "text/plain": [
       "<IPython.core.display.HTML object>"
      ]
     },
     "metadata": {},
     "output_type": "display_data"
    },
    {
     "data": {
      "text/html": [
       "Run data is saved locally in <code>/home/optima/mhaderer/AILS-MICCAI-UWF4DR-Challenge/wandb/run-20240723_144859-kewc1ale</code>"
      ],
      "text/plain": [
       "<IPython.core.display.HTML object>"
      ]
     },
     "metadata": {},
     "output_type": "display_data"
    },
    {
     "data": {
      "text/html": [
       "Syncing run <strong><a href='https://wandb.ai/miccai-challenge-2024/task2/runs/kewc1ale' target=\"_blank\">soft-firefly-29</a></strong> to <a href='https://wandb.ai/miccai-challenge-2024/task2' target=\"_blank\">Weights & Biases</a> (<a href='https://wandb.me/run' target=\"_blank\">docs</a>)<br/>"
      ],
      "text/plain": [
       "<IPython.core.display.HTML object>"
      ]
     },
     "metadata": {},
     "output_type": "display_data"
    },
    {
     "data": {
      "text/html": [
       " View project at <a href='https://wandb.ai/miccai-challenge-2024/task2' target=\"_blank\">https://wandb.ai/miccai-challenge-2024/task2</a>"
      ],
      "text/plain": [
       "<IPython.core.display.HTML object>"
      ]
     },
     "metadata": {},
     "output_type": "display_data"
    },
    {
     "data": {
      "text/html": [
       " View run at <a href='https://wandb.ai/miccai-challenge-2024/task2/runs/kewc1ale' target=\"_blank\">https://wandb.ai/miccai-challenge-2024/task2/runs/kewc1ale</a>"
      ],
      "text/plain": [
       "<IPython.core.display.HTML object>"
      ]
     },
     "metadata": {},
     "output_type": "display_data"
    },
    {
     "name": "stdout",
     "output_type": "stream",
     "text": [
      "\n",
      "Original class distribution:\n",
      "Class 0: 149\n",
      "Class 1: 250\n",
      "dr\n",
      "1    0.626566\n",
      "0    0.373434\n",
      "Name: proportion, dtype: Float64\n",
      "\n",
      "Resampled class distribution:\n",
      "dr\n",
      "1    0.5\n",
      "0    0.5\n",
      "Name: proportion, dtype: Float64\n",
      "Using device: cuda\n",
      "Loaded pretrained weights for efficientnet-b0\n"
     ]
    },
    {
     "name": "stderr",
     "output_type": "stream",
     "text": [
      "/opt/conda/lib/python3.10/site-packages/torch/optim/lr_scheduler.py:28: UserWarning: The verbose parameter is deprecated. Please use get_last_lr() to access the learning rate.\n",
      "  warnings.warn(\"The verbose parameter is deprecated. Please use get_last_lr() \"\n"
     ]
    },
    {
     "name": "stdout",
     "output_type": "stream",
     "text": [
      "Now train train train\n"
     ]
    },
    {
     "name": "stderr",
     "output_type": "stream",
     "text": [
      "Epoch 1/20 - Avg train Loss: 0.368888: 100%|███████████████████████████████████████████████████████████████████████████████████████████████████████████████████████████████| 25/25 [01:01<00:00,  2.48s/it]\n",
      "Epoch 1/20 - Avg val Loss: 0.948799: 100%|███████████████████████████████████████████████████████████████████████████████████████████████████████████████████████████████████| 7/7 [00:09<00:00,  1.40s/it]\n"
     ]
    },
    {
     "name": "stdout",
     "output_type": "stream",
     "text": [
      "New best model found at epoch 1 with validation loss: 0.9488. Model saved to models/best_model_2024-07-23_14-49-28.pth\n"
     ]
    },
    {
     "name": "stderr",
     "output_type": "stream",
     "text": [
      "Epoch 2/20 - Avg train Loss: 0.309594: 100%|███████████████████████████████████████████████████████████████████████████████████████████████████████████████████████████████| 25/25 [00:47<00:00,  1.91s/it]\n",
      "Epoch 2/20 - Avg val Loss: 0.334366: 100%|███████████████████████████████████████████████████████████████████████████████████████████████████████████████████████████████████| 7/7 [00:09<00:00,  1.38s/it]\n"
     ]
    },
    {
     "name": "stdout",
     "output_type": "stream",
     "text": [
      "New best model found at epoch 2 with validation loss: 0.3344. Model saved to models/best_model_2024-07-23_14-49-28.pth\n"
     ]
    },
    {
     "name": "stderr",
     "output_type": "stream",
     "text": [
      "Epoch 3/20 - Avg train Loss: 0.287542: 100%|███████████████████████████████████████████████████████████████████████████████████████████████████████████████████████████████| 25/25 [00:46<00:00,  1.85s/it]\n",
      "Epoch 3/20 - Avg val Loss: 0.314268: 100%|███████████████████████████████████████████████████████████████████████████████████████████████████████████████████████████████████| 7/7 [00:09<00:00,  1.34s/it]\n"
     ]
    },
    {
     "name": "stdout",
     "output_type": "stream",
     "text": [
      "New best model found at epoch 3 with validation loss: 0.3143. Model saved to models/best_model_2024-07-23_14-49-28.pth\n"
     ]
    },
    {
     "name": "stderr",
     "output_type": "stream",
     "text": [
      "Epoch 4/20 - Avg train Loss: 0.292113: 100%|███████████████████████████████████████████████████████████████████████████████████████████████████████████████████████████████| 25/25 [00:46<00:00,  1.85s/it]\n",
      "Epoch 4/20 - Avg val Loss: 0.321452: 100%|███████████████████████████████████████████████████████████████████████████████████████████████████████████████████████████████████| 7/7 [00:09<00:00,  1.34s/it]\n",
      "Epoch 5/20 - Avg train Loss: 0.286635: 100%|███████████████████████████████████████████████████████████████████████████████████████████████████████████████████████████████| 25/25 [00:48<00:00,  1.93s/it]\n",
      "Epoch 5/20 - Avg val Loss: 0.313349: 100%|███████████████████████████████████████████████████████████████████████████████████████████████████████████████████████████████████| 7/7 [00:09<00:00,  1.42s/it]\n"
     ]
    },
    {
     "name": "stdout",
     "output_type": "stream",
     "text": [
      "New best model found at epoch 5 with validation loss: 0.3133. Model saved to models/best_model_2024-07-23_14-49-28.pth\n"
     ]
    },
    {
     "name": "stderr",
     "output_type": "stream",
     "text": [
      "Epoch 6/20 - Avg train Loss: 0.280764: 100%|███████████████████████████████████████████████████████████████████████████████████████████████████████████████████████████████| 25/25 [00:46<00:00,  1.88s/it]\n",
      "Epoch 6/20 - Avg val Loss: 0.370199: 100%|███████████████████████████████████████████████████████████████████████████████████████████████████████████████████████████████████| 7/7 [00:09<00:00,  1.36s/it]\n",
      "Epoch 7/20 - Avg train Loss: 0.278739: 100%|███████████████████████████████████████████████████████████████████████████████████████████████████████████████████████████████| 25/25 [00:48<00:00,  1.95s/it]\n",
      "Epoch 7/20 - Avg val Loss: 0.331224: 100%|███████████████████████████████████████████████████████████████████████████████████████████████████████████████████████████████████| 7/7 [00:09<00:00,  1.38s/it]\n",
      "Epoch 8/20 - Avg train Loss: 0.277085: 100%|███████████████████████████████████████████████████████████████████████████████████████████████████████████████████████████████| 25/25 [00:48<00:00,  1.93s/it]\n",
      "Epoch 8/20 - Avg val Loss: 0.426226: 100%|███████████████████████████████████████████████████████████████████████████████████████████████████████████████████████████████████| 7/7 [00:10<00:00,  1.43s/it]\n",
      "Epoch 9/20 - Avg train Loss: 0.268987: 100%|███████████████████████████████████████████████████████████████████████████████████████████████████████████████████████████████| 25/25 [00:47<00:00,  1.90s/it]\n",
      "Epoch 9/20 - Avg val Loss: 0.349198: 100%|███████████████████████████████████████████████████████████████████████████████████████████████████████████████████████████████████| 7/7 [00:09<00:00,  1.37s/it]\n",
      "Epoch 10/20 - Avg train Loss: 0.263463: 100%|██████████████████████████████████████████████████████████████████████████████████████████████████████████████████████████████| 25/25 [00:47<00:00,  1.92s/it]\n",
      "Epoch 10/20 - Avg val Loss: 0.353630: 100%|██████████████████████████████████████████████████████████████████████████████████████████████████████████████████████████████████| 7/7 [00:09<00:00,  1.36s/it]\n",
      "Epoch 11/20 - Avg train Loss: 0.256316: 100%|██████████████████████████████████████████████████████████████████████████████████████████████████████████████████████████████| 25/25 [00:46<00:00,  1.86s/it]\n",
      "Epoch 11/20 - Avg val Loss: 0.296500: 100%|██████████████████████████████████████████████████████████████████████████████████████████████████████████████████████████████████| 7/7 [00:09<00:00,  1.38s/it]\n"
     ]
    },
    {
     "name": "stdout",
     "output_type": "stream",
     "text": [
      "New best model found at epoch 11 with validation loss: 0.2965. Model saved to models/best_model_2024-07-23_14-49-28.pth\n"
     ]
    },
    {
     "name": "stderr",
     "output_type": "stream",
     "text": [
      "Epoch 12/20 - Avg train Loss: 0.252887: 100%|██████████████████████████████████████████████████████████████████████████████████████████████████████████████████████████████| 25/25 [00:46<00:00,  1.85s/it]\n",
      "Epoch 12/20 - Avg val Loss: 0.286031: 100%|██████████████████████████████████████████████████████████████████████████████████████████████████████████████████████████████████| 7/7 [00:09<00:00,  1.32s/it]\n"
     ]
    },
    {
     "name": "stdout",
     "output_type": "stream",
     "text": [
      "New best model found at epoch 12 with validation loss: 0.2860. Model saved to models/best_model_2024-07-23_14-49-28.pth\n"
     ]
    },
    {
     "name": "stderr",
     "output_type": "stream",
     "text": [
      "Epoch 13/20 - Avg train Loss: 0.256500: 100%|██████████████████████████████████████████████████████████████████████████████████████████████████████████████████████████████| 25/25 [00:46<00:00,  1.84s/it]\n",
      "Epoch 13/20 - Avg val Loss: 0.287805: 100%|██████████████████████████████████████████████████████████████████████████████████████████████████████████████████████████████████| 7/7 [00:09<00:00,  1.42s/it]\n",
      "Epoch 14/20 - Avg train Loss: 0.250988: 100%|██████████████████████████████████████████████████████████████████████████████████████████████████████████████████████████████| 25/25 [00:48<00:00,  1.95s/it]\n",
      "Epoch 14/20 - Avg val Loss: 0.387148: 100%|██████████████████████████████████████████████████████████████████████████████████████████████████████████████████████████████████| 7/7 [00:09<00:00,  1.36s/it]\n",
      "Epoch 15/20 - Avg train Loss: 0.263294: 100%|██████████████████████████████████████████████████████████████████████████████████████████████████████████████████████████████| 25/25 [00:48<00:00,  1.96s/it]\n",
      "Epoch 15/20 - Avg val Loss: 0.333434: 100%|██████████████████████████████████████████████████████████████████████████████████████████████████████████████████████████████████| 7/7 [00:10<00:00,  1.49s/it]\n",
      "Epoch 16/20 - Avg train Loss: 0.257010: 100%|██████████████████████████████████████████████████████████████████████████████████████████████████████████████████████████████| 25/25 [00:48<00:00,  1.93s/it]\n",
      "Epoch 16/20 - Avg val Loss: 0.296076: 100%|██████████████████████████████████████████████████████████████████████████████████████████████████████████████████████████████████| 7/7 [00:09<00:00,  1.42s/it]\n",
      "Epoch 17/20 - Avg train Loss: 0.247257: 100%|██████████████████████████████████████████████████████████████████████████████████████████████████████████████████████████████| 25/25 [00:48<00:00,  1.96s/it]\n",
      "Epoch 17/20 - Avg val Loss: 0.299972: 100%|██████████████████████████████████████████████████████████████████████████████████████████████████████████████████████████████████| 7/7 [00:09<00:00,  1.40s/it]\n",
      "Epoch 18/20 - Avg train Loss: 0.257486: 100%|██████████████████████████████████████████████████████████████████████████████████████████████████████████████████████████████| 25/25 [00:47<00:00,  1.90s/it]\n",
      "Epoch 18/20 - Avg val Loss: 0.307572: 100%|██████████████████████████████████████████████████████████████████████████████████████████████████████████████████████████████████| 7/7 [00:09<00:00,  1.37s/it]\n",
      "Epoch 19/20 - Avg train Loss: 0.242694: 100%|██████████████████████████████████████████████████████████████████████████████████████████████████████████████████████████████| 25/25 [00:47<00:00,  1.90s/it]\n",
      "Epoch 19/20 - Avg val Loss: 0.288099: 100%|██████████████████████████████████████████████████████████████████████████████████████████████████████████████████████████████████| 7/7 [00:09<00:00,  1.34s/it]\n",
      "Epoch 20/20 - Avg train Loss: 0.242227: 100%|██████████████████████████████████████████████████████████████████████████████████████████████████████████████████████████████| 25/25 [00:47<00:00,  1.88s/it]\n",
      "Epoch 20/20 - Avg val Loss: 0.286323: 100%|██████████████████████████████████████████████████████████████████████████████████████████████████████████████████████████████████| 7/7 [00:09<00:00,  1.36s/it]\n"
     ]
    },
    {
     "data": {
      "application/vnd.jupyter.widget-view+json": {
       "model_id": "",
       "version_major": 2,
       "version_minor": 0
      },
      "text/plain": [
       "VBox(children=(Label(value='0.008 MB of 0.008 MB uploaded\\r'), FloatProgress(value=1.0, max=1.0)))"
      ]
     },
     "metadata": {},
     "output_type": "display_data"
    },
    {
     "name": "stderr",
     "output_type": "stream",
     "text": [
      "wandb: Network error (TransientError), entering retry loop.\n",
      "wandb: Network error (TransientError), entering retry loop.\n"
     ]
    },
    {
     "data": {
      "text/html": [
       "<style>\n",
       "    table.wandb td:nth-child(1) { padding: 0 10px; text-align: left ; width: auto;} td:nth-child(2) {text-align: left ; width: 100%}\n",
       "    .wandb-row { display: flex; flex-direction: row; flex-wrap: wrap; justify-content: flex-start; width: 100% }\n",
       "    .wandb-col { display: flex; flex-direction: column; flex-basis: 100%; flex: 1; padding: 10px; }\n",
       "    </style>\n",
       "<div class=\"wandb-row\"><div class=\"wandb-col\"><h3>Run history:</h3><br/><table class=\"wandb\"><tr><td>accuracy</td><td>▁▆▆▇▇▆▃▆▇▇▇██▆▇█████</td></tr><tr><td>auprc</td><td>▁▆▆▅▇▆▅▄▆▆▇▇█▇▇█▇▇▇█</td></tr><tr><td>auroc</td><td>▁▆▆▅▇▆▅▃▆▆▇▇█▆▆█▇▇▇█</td></tr><tr><td>avg_train_loss</td><td>█▅▄▄▃▃▃▃▂▂▂▂▂▁▂▂▁▂▁▁</td></tr><tr><td>avg_val_loss</td><td>█▂▁▁▁▂▁▂▂▂▁▁▁▂▂▁▁▁▁▁</td></tr><tr><td>sensitivity</td><td>▁▅▃▅█▇▃▂▅▄▆▆▆▃▄▆▇▇▆█</td></tr><tr><td>specificity</td><td>▂▄▇▂▁▂▅▅▄▆▄▇▆██▇▅▄▆▅</td></tr></table><br/></div><div class=\"wandb-col\"><h3>Run summary:</h3><br/><table class=\"wandb\"><tr><td>accuracy</td><td>0.92</td></tr><tr><td>auprc</td><td>0.98054</td></tr><tr><td>auroc</td><td>0.9816</td></tr><tr><td>avg_train_loss</td><td>0.24223</td></tr><tr><td>avg_val_loss</td><td>0.28632</td></tr><tr><td>sensitivity</td><td>0.98</td></tr><tr><td>specificity</td><td>0.92</td></tr></table><br/></div></div>"
      ],
      "text/plain": [
       "<IPython.core.display.HTML object>"
      ]
     },
     "metadata": {},
     "output_type": "display_data"
    },
    {
     "data": {
      "text/html": [
       " View run <strong style=\"color:#cdcd00\">soft-firefly-29</strong> at: <a href='https://wandb.ai/miccai-challenge-2024/task2/runs/kewc1ale' target=\"_blank\">https://wandb.ai/miccai-challenge-2024/task2/runs/kewc1ale</a><br/> View project at: <a href='https://wandb.ai/miccai-challenge-2024/task2' target=\"_blank\">https://wandb.ai/miccai-challenge-2024/task2</a><br/>Synced 6 W&B file(s), 0 media file(s), 0 artifact file(s) and 0 other file(s)"
      ],
      "text/plain": [
       "<IPython.core.display.HTML object>"
      ]
     },
     "metadata": {},
     "output_type": "display_data"
    },
    {
     "data": {
      "text/html": [
       "Find logs at: <code>./wandb/run-20240723_144859-kewc1ale/logs</code>"
      ],
      "text/plain": [
       "<IPython.core.display.HTML object>"
      ]
     },
     "metadata": {},
     "output_type": "display_data"
    },
    {
     "name": "stdout",
     "output_type": "stream",
     "text": [
      "Finished training\n"
     ]
    }
   ],
   "source": [
    "train_model(cfg)"
   ]
  },
  {
   "cell_type": "markdown",
   "metadata": {},
   "source": [
    "## SWEEP"
   ]
  },
  {
   "cell_type": "code",
   "execution_count": null,
   "metadata": {},
   "outputs": [],
   "source": [
    "\n",
    "# Define the sweep configuration\n",
    "sweep_config = {\n",
    "    \"method\": \"random\",  # or \"grid\", or \"bayes\"\n",
    "    \"parameters\": {\n",
    "        \"model_type\": {\n",
    "            \"values\": [\"AutoMorphModel\", \"Task2EfficientNetB0\", \"Task1ConvNeXt\"]\n",
    "        },\n",
    "        \"lr\": {\n",
    "            \"values\": [1e-3]\n",
    "        },\n",
    "        \"epochs\": {\n",
    "            \"values\": [20]\n",
    "        },\n",
    "        \"batch_size\": {\n",
    "            \"values\": [16, 32]\n",
    "        },\n",
    "        \"p_gaussblur\": {\n",
    "            \"values\": [0, 0.3]\n",
    "        },\n",
    "        \"p_equalize\": {\n",
    "            \"values\": [0, 0.3]\n",
    "        },\n",
    "        \"p_clahe\": {\n",
    "            \"values\": [0, 0.3]\n",
    "        },\n",
    "        \"p_horizontalflip\": {\n",
    "            \"values\": [0, 0.3]\n",
    "        },\n",
    "        \"rotation\": {\n",
    "            \"values\": [15, 30]\n",
    "        },\n",
    "        \"p_affine\": {\n",
    "            \"values\": [0, 0.3]\n",
    "        },\n",
    "        \"loss_weight\": {\n",
    "            \"values\": [0.5, 0.7]\n",
    "        },\n",
    "    }\n",
    "}\n",
    "\n",
    "# Initialize the sweep\n",
    "sweep_id = wandb.sweep(sweep=sweep_config, project=\"task2\")\n",
    "\n",
    "# Start the sweep\n",
    "wandb.agent(sweep_id, function=train_model)"
   ]
  }
 ],
 "metadata": {
  "kernelspec": {
   "display_name": "Python 3 (ipykernel)",
   "language": "python",
   "name": "python3"
  },
  "language_info": {
   "codemirror_mode": {
    "name": "ipython",
    "version": 3
   },
   "file_extension": ".py",
   "mimetype": "text/x-python",
   "name": "python",
   "nbconvert_exporter": "python",
   "pygments_lexer": "ipython3",
   "version": "3.10.14"
  }
 },
 "nbformat": 4,
 "nbformat_minor": 4
}
