{
 "cells": [
  {
   "cell_type": "code",
   "execution_count": 1,
   "metadata": {},
   "outputs": [],
   "source": [
    "%load_ext autoreload\n",
    "%autoreload 2"
   ]
  },
  {
   "cell_type": "code",
   "execution_count": 2,
   "metadata": {},
   "outputs": [],
   "source": [
    "import wandb\n",
    "from models.task1_resnet18 import Task1ResNet18, checkpoint_callback\n",
    "from ails_miccai_uwf4dr_challenge.augmentations import rotate_affine_flip_choice, resize_only\n",
    "from pytorch_lightning import Trainer\n",
    "from pytorch_lightning.loggers import WandbLogger\n",
    "from pytorch_lightning.callbacks import ModelCheckpoint\n",
    "from torch.utils.data import DataLoader\n",
    "import torch.utils.data as data_utils\n",
    "from ails_miccai_uwf4dr_challenge.config import PROJ_ROOT\n",
    "import torch\n",
    "\n",
    "from ails_miccai_uwf4dr_challenge.datasetPreparation import DatasetBuilder, CustomDataset"
   ]
  },
  {
   "cell_type": "code",
   "execution_count": 3,
   "metadata": {},
   "outputs": [
    {
     "name": "stderr",
     "output_type": "stream",
     "text": [
      "GPU available: True (mps), used: True\n",
      "TPU available: False, using: 0 TPU cores\n",
      "HPU available: False, using: 0 HPUs\n"
     ]
    },
    {
     "name": "stdout",
     "output_type": "stream",
     "text": [
      "Dataset length:  508\n",
      "Dataset length:  128\n"
     ]
    }
   ],
   "source": [
    "wandb_logger = WandbLogger(project=\"MICCAI Challenge AILS\")\n",
    "\n",
    "resnet18_task1 = Task1ResNet18()\n",
    "\n",
    "trainer = Trainer(max_epochs=2,\n",
    "                    logger=wandb_logger,\n",
    "                    default_root_dir=PROJ_ROOT,\n",
    "                    log_every_n_steps=5,\n",
    "                    callbacks=[checkpoint_callback],\n",
    "                    deterministic=True)\n",
    "\n",
    "train, val = DatasetBuilder(dataset='all', task='task1').get_train_val()\n",
    "train_data = CustomDataset(train, transform=rotate_affine_flip_choice)\n",
    "val_data = CustomDataset(val, transform=resize_only)\n",
    "\n",
    "train_loader = DataLoader(train_data, batch_size=8, shuffle=True, num_workers=7, persistent_workers=True)\n",
    "val_loader = DataLoader(val_data, batch_size=8, shuffle=False, num_workers=7, persistent_workers=True)\n",
    "\n"
   ]
  },
  {
   "cell_type": "code",
   "execution_count": 4,
   "metadata": {},
   "outputs": [
    {
     "name": "stderr",
     "output_type": "stream",
     "text": [
      "Failed to detect the name of this notebook, you can set it manually with the WANDB_NOTEBOOK_NAME environment variable to enable code saving.\n",
      "\u001b[34m\u001b[1mwandb\u001b[0m: Currently logged in as: \u001b[33mmoritsih\u001b[0m. Use \u001b[1m`wandb login --relogin`\u001b[0m to force relogin\n"
     ]
    },
    {
     "data": {
      "text/html": [
       "wandb version 0.17.3 is available!  To upgrade, please run:\n",
       " $ pip install wandb --upgrade"
      ],
      "text/plain": [
       "<IPython.core.display.HTML object>"
      ]
     },
     "metadata": {},
     "output_type": "display_data"
    },
    {
     "data": {
      "text/html": [
       "Tracking run with wandb version 0.17.2"
      ],
      "text/plain": [
       "<IPython.core.display.HTML object>"
      ]
     },
     "metadata": {},
     "output_type": "display_data"
    },
    {
     "data": {
      "text/html": [
       "Run data is saved locally in <code>./wandb/run-20240630_142322-50wbi69z</code>"
      ],
      "text/plain": [
       "<IPython.core.display.HTML object>"
      ]
     },
     "metadata": {},
     "output_type": "display_data"
    },
    {
     "data": {
      "text/html": [
       "Syncing run <strong><a href='https://wandb.ai/moritsih/MICCAI%20Challenge%20AILS/runs/50wbi69z' target=\"_blank\">electric-oath-4</a></strong> to <a href='https://wandb.ai/moritsih/MICCAI%20Challenge%20AILS' target=\"_blank\">Weights & Biases</a> (<a href='https://wandb.me/run' target=\"_blank\">docs</a>)<br/>"
      ],
      "text/plain": [
       "<IPython.core.display.HTML object>"
      ]
     },
     "metadata": {},
     "output_type": "display_data"
    },
    {
     "data": {
      "text/html": [
       " View project at <a href='https://wandb.ai/moritsih/MICCAI%20Challenge%20AILS' target=\"_blank\">https://wandb.ai/moritsih/MICCAI%20Challenge%20AILS</a>"
      ],
      "text/plain": [
       "<IPython.core.display.HTML object>"
      ]
     },
     "metadata": {},
     "output_type": "display_data"
    },
    {
     "data": {
      "text/html": [
       " View run at <a href='https://wandb.ai/moritsih/MICCAI%20Challenge%20AILS/runs/50wbi69z' target=\"_blank\">https://wandb.ai/moritsih/MICCAI%20Challenge%20AILS/runs/50wbi69z</a>"
      ],
      "text/plain": [
       "<IPython.core.display.HTML object>"
      ]
     },
     "metadata": {},
     "output_type": "display_data"
    },
    {
     "name": "stderr",
     "output_type": "stream",
     "text": [
      "/Users/moritz/miniconda3/envs/AILS-MICCAI-UWF4DR-Challenge/lib/python3.10/site-packages/pytorch_lightning/callbacks/model_checkpoint.py:652: Checkpoint directory /Users/moritz/Documents/Master/AILS-MICCAI-UWF4DR-Challenge/models/checkpoints exists and is not empty.\n",
      "\n",
      "  | Name           | Type                   | Params | Mode \n",
      "------------------------------------------------------------------\n",
      "0 | model          | ResNet                 | 11.2 M | train\n",
      "1 | loss_fn        | BCEWithLogitsLoss      | 0      | train\n",
      "2 | train_accuracy | BinaryAccuracy         | 0      | train\n",
      "3 | val_accuracy   | BinaryAccuracy         | 0      | train\n",
      "4 | test_accuracy  | BinaryAccuracy         | 0      | train\n",
      "5 | train_mcc      | BinaryMatthewsCorrCoef | 0      | train\n",
      "6 | val_mcc        | BinaryMatthewsCorrCoef | 0      | train\n",
      "7 | test_mcc       | BinaryMatthewsCorrCoef | 0      | train\n",
      "8 | val_auroc      | BinaryAUROC            | 0      | train\n",
      "9 | test_auroc     | BinaryAUROC            | 0      | train\n",
      "------------------------------------------------------------------\n",
      "11.2 M    Trainable params\n",
      "0         Non-trainable params\n",
      "11.2 M    Total params\n",
      "44.708    Total estimated model params size (MB)\n"
     ]
    },
    {
     "name": "stdout",
     "output_type": "stream",
     "text": [
      "Epoch 1: 100%|██████████| 64/64 [02:15<00:00,  0.47it/s, v_num=i69z]       "
     ]
    },
    {
     "name": "stderr",
     "output_type": "stream",
     "text": [
      "`Trainer.fit` stopped: `max_epochs=2` reached.\n"
     ]
    },
    {
     "name": "stdout",
     "output_type": "stream",
     "text": [
      "Epoch 1: 100%|██████████| 64/64 [02:15<00:00,  0.47it/s, v_num=i69z]\n"
     ]
    },
    {
     "data": {
      "text/plain": [
       "<function wandb.sdk.wandb_run.finish(exit_code: Optional[int] = None, quiet: Optional[bool] = None) -> None>"
      ]
     },
     "execution_count": 4,
     "metadata": {},
     "output_type": "execute_result"
    }
   ],
   "source": [
    "trainer.fit(resnet18_task1, train_dataloaders=train_loader, val_dataloaders=val_loader)\n",
    "wandb.finish"
   ]
  }
 ],
 "metadata": {
  "kernelspec": {
   "display_name": "AILS-MICCAI-UWF4DR-Challenge",
   "language": "python",
   "name": "python3"
  },
  "language_info": {
   "codemirror_mode": {
    "name": "ipython",
    "version": 3
   },
   "file_extension": ".py",
   "mimetype": "text/x-python",
   "name": "python",
   "nbconvert_exporter": "python",
   "pygments_lexer": "ipython3",
   "version": "3.10.14"
  }
 },
 "nbformat": 4,
 "nbformat_minor": 2
}
