{
 "cells": [
  {
   "metadata": {},
   "cell_type": "markdown",
   "source": "### Train for MICCAI challenge on colab using data on gDrive"
  },
  {
   "metadata": {},
   "cell_type": "code",
   "outputs": [],
   "execution_count": null,
   "source": [
    "# setup\n",
    "!apt-get update"
   ]
  },
  {
   "cell_type": "code",
   "execution_count": 2,
   "metadata": {},
   "outputs": [],
   "source": [
    "# imports\n",
    "from ails_miccai_uwf4dr_challenge.dataset import DatasetBuilder\n",
    "# Pytorch\n",
    "import torch\n",
    "import torch.nn as nn"
   ]
  },
  {
   "metadata": {},
   "cell_type": "code",
   "outputs": [],
   "execution_count": null,
   "source": [
    "# connect to gDrive\n",
    "use_google_drive = True\n",
    "if use_google_drive:\n",
    "    from google.colab import drive\n",
    "    drive.mount('/content/drive')\n",
    "    ails_data_base_path = \"/content/drive/shared-with-me/data\"\n",
    "    my_data_base_path = \"/content/drive/My Drive/JKU/AILS_CHALLENGE_2024\""
   ]
  },
  {
   "metadata": {},
   "cell_type": "code",
   "outputs": [],
   "execution_count": null,
   "source": [
    "# select device for training\n",
    "device = torch.device(\"cuda\" if torch.cuda.is_available() else \"cpu\")\n",
    "print(\"Device: \" + str(device))"
   ]
  },
  {
   "metadata": {},
   "cell_type": "code",
   "outputs": [],
   "execution_count": null,
   "source": [
    "# setup dataset\n",
    "original_data_dir = ails_data_base_path + \"/raw\"\n",
    "external_data_dir = ails_data_base_path + \"/external\"\n",
    "dataset_builder = DatasetBuilder(dataset='all', task='task1', original_data_dir=original_data_dir, external_data_dir=external_data_dir).get_train_val()"
   ]
  },
  {
   "cell_type": "code",
   "execution_count": 3,
   "metadata": {},
   "outputs": [
    {
     "name": "stderr",
     "output_type": "stream",
     "text": [
      "GPU available: True (mps), used: True\n",
      "TPU available: False, using: 0 TPU cores\n",
      "HPU available: False, using: 0 HPUs\n"
     ]
    },
    {
     "name": "stdout",
     "output_type": "stream",
     "text": [
      "Dataset length:  508\n",
      "Dataset length:  128\n"
     ]
    }
   ],
   "source": "\n"
  },
  {
   "cell_type": "code",
   "execution_count": 4,
   "metadata": {},
   "outputs": [
    {
     "name": "stderr",
     "output_type": "stream",
     "text": [
      "Failed to detect the name of this notebook, you can set it manually with the WANDB_NOTEBOOK_NAME environment variable to enable code saving.\n",
      "\u001B[34m\u001B[1mwandb\u001B[0m: Currently logged in as: \u001B[33mmoritsih\u001B[0m. Use \u001B[1m`wandb login --relogin`\u001B[0m to force relogin\n"
     ]
    },
    {
     "data": {
      "text/html": [
       "wandb version 0.17.3 is available!  To upgrade, please run:\n",
       " $ pip install wandb --upgrade"
      ],
      "text/plain": [
       "<IPython.core.display.HTML object>"
      ]
     },
     "metadata": {},
     "output_type": "display_data"
    },
    {
     "data": {
      "text/html": [
       "Tracking run with wandb version 0.17.2"
      ],
      "text/plain": [
       "<IPython.core.display.HTML object>"
      ]
     },
     "metadata": {},
     "output_type": "display_data"
    },
    {
     "data": {
      "text/html": [
       "Run data is saved locally in <code>./wandb/run-20240630_142322-50wbi69z</code>"
      ],
      "text/plain": [
       "<IPython.core.display.HTML object>"
      ]
     },
     "metadata": {},
     "output_type": "display_data"
    },
    {
     "data": {
      "text/html": [
       "Syncing run <strong><a href='https://wandb.ai/moritsih/MICCAI%20Challenge%20AILS/runs/50wbi69z' target=\"_blank\">electric-oath-4</a></strong> to <a href='https://wandb.ai/moritsih/MICCAI%20Challenge%20AILS' target=\"_blank\">Weights & Biases</a> (<a href='https://wandb.me/run' target=\"_blank\">docs</a>)<br/>"
      ],
      "text/plain": [
       "<IPython.core.display.HTML object>"
      ]
     },
     "metadata": {},
     "output_type": "display_data"
    },
    {
     "data": {
      "text/html": [
       " View project at <a href='https://wandb.ai/moritsih/MICCAI%20Challenge%20AILS' target=\"_blank\">https://wandb.ai/moritsih/MICCAI%20Challenge%20AILS</a>"
      ],
      "text/plain": [
       "<IPython.core.display.HTML object>"
      ]
     },
     "metadata": {},
     "output_type": "display_data"
    },
    {
     "data": {
      "text/html": [
       " View run at <a href='https://wandb.ai/moritsih/MICCAI%20Challenge%20AILS/runs/50wbi69z' target=\"_blank\">https://wandb.ai/moritsih/MICCAI%20Challenge%20AILS/runs/50wbi69z</a>"
      ],
      "text/plain": [
       "<IPython.core.display.HTML object>"
      ]
     },
     "metadata": {},
     "output_type": "display_data"
    },
    {
     "name": "stderr",
     "output_type": "stream",
     "text": [
      "/Users/moritz/miniconda3/envs/AILS-MICCAI-UWF4DR-Challenge/lib/python3.10/site-packages/pytorch_lightning/callbacks/model_checkpoint.py:652: Checkpoint directory /Users/moritz/Documents/Master/AILS-MICCAI-UWF4DR-Challenge/models/checkpoints exists and is not empty.\n",
      "\n",
      "  | Name           | Type                   | Params | Mode \n",
      "------------------------------------------------------------------\n",
      "0 | model          | ResNet                 | 11.2 M | train\n",
      "1 | loss_fn        | BCEWithLogitsLoss      | 0      | train\n",
      "2 | train_accuracy | BinaryAccuracy         | 0      | train\n",
      "3 | val_accuracy   | BinaryAccuracy         | 0      | train\n",
      "4 | test_accuracy  | BinaryAccuracy         | 0      | train\n",
      "5 | train_mcc      | BinaryMatthewsCorrCoef | 0      | train\n",
      "6 | val_mcc        | BinaryMatthewsCorrCoef | 0      | train\n",
      "7 | test_mcc       | BinaryMatthewsCorrCoef | 0      | train\n",
      "8 | val_auroc      | BinaryAUROC            | 0      | train\n",
      "9 | test_auroc     | BinaryAUROC            | 0      | train\n",
      "------------------------------------------------------------------\n",
      "11.2 M    Trainable params\n",
      "0         Non-trainable params\n",
      "11.2 M    Total params\n",
      "44.708    Total estimated model params size (MB)\n"
     ]
    },
    {
     "name": "stdout",
     "output_type": "stream",
     "text": [
      "Epoch 1: 100%|██████████| 64/64 [02:15<00:00,  0.47it/s, v_num=i69z]       "
     ]
    },
    {
     "name": "stderr",
     "output_type": "stream",
     "text": [
      "`Trainer.fit` stopped: `max_epochs=2` reached.\n"
     ]
    },
    {
     "name": "stdout",
     "output_type": "stream",
     "text": [
      "Epoch 1: 100%|██████████| 64/64 [02:15<00:00,  0.47it/s, v_num=i69z]\n"
     ]
    },
    {
     "data": {
      "text/plain": [
       "<function wandb.sdk.wandb_run.finish(exit_code: Optional[int] = None, quiet: Optional[bool] = None) -> None>"
      ]
     },
     "execution_count": 4,
     "metadata": {},
     "output_type": "execute_result"
    }
   ],
   "source": ""
  }
 ],
 "metadata": {
  "kernelspec": {
   "display_name": "AILS-MICCAI-UWF4DR-Challenge",
   "language": "python",
   "name": "python3"
  },
  "language_info": {
   "codemirror_mode": {
    "name": "ipython",
    "version": 3
   },
   "file_extension": ".py",
   "mimetype": "text/x-python",
   "name": "python",
   "nbconvert_exporter": "python",
   "pygments_lexer": "ipython3",
   "version": "3.10.14"
  }
 },
 "nbformat": 4,
 "nbformat_minor": 2
}
