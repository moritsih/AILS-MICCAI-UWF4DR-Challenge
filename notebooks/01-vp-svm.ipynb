{
 "cells": [
  {
   "cell_type": "code",
   "execution_count": null,
   "metadata": {},
   "outputs": [],
   "source": [
    "# perform a SVM classification on the data\n",
    "from sklearn.svm import SVC\n",
    "from sklearn.model_selection import train_test_split\n",
    "from sklearn.metrics import classification_report, accuracy_score, roc_auc_score, precision_recall_curve, auc, roc_curve, confusion_matrix\n",
    "\n"
   ]
  },
  {
   "cell_type": "code",
   "execution_count": null,
   "metadata": {},
   "outputs": [],
   "source": [
    "def output(y_test, y_pred, y_pred_proba):\n",
    "    # Classification report and accuracy\n",
    "    print(classification_report(y_test, y_pred))\n",
    "    accuracy = accuracy_score(y_test, y_pred)\n",
    "    print(\"Accuracy:\", accuracy )\n",
    "\n",
    "    # Calculate AUROC\n",
    "    roc_auc = roc_auc_score(y_test, y_pred_proba)\n",
    "    print(\"AUROC:\", roc_auc)\n",
    "\n",
    "    # Calculate AUPRC\n",
    "    precision, recall, _ = precision_recall_curve(y_test, y_pred_proba)\n",
    "    auprc = auc(recall, precision)\n",
    "    print(\"AUPRC:\", auprc)\n",
    "\n",
    "    # Calculate sensitivity and specificity\n",
    "    conf_matrix = confusion_matrix(y_test, y_pred)\n",
    "    tn, fp, fn, tp = conf_matrix.ravel()\n",
    "    sensitivity = tp / (tp + fn)\n",
    "    specificity = tn / (tn + fp)\n",
    "    print(\"Sensitivity:\", sensitivity)\n",
    "    print(\"Specificity:\", specificity)\n",
    "\n",
    "    # Plot ROC curve\n",
    "    fpr, tpr, _ = roc_curve(y_test, y_pred_proba)\n",
    "    plt.figure()\n",
    "    plt.plot(fpr, tpr, color='blue', lw=2, label='ROC curve (area = %0.2f)' % roc_auc)\n",
    "    plt.plot([0, 1], [0, 1], color='gray', lw=2, linestyle='--')\n",
    "    plt.xlim([0.0, 1.0])\n",
    "    plt.ylim([0.0, 1.05])\n",
    "    plt.xlabel('False Positive Rate')\n",
    "    plt.ylabel('True Positive Rate')\n",
    "    plt.title('Receiver Operating Characteristic')\n",
    "    plt.legend(loc=\"lower right\")\n",
    "    plt.show()\n",
    "\n",
    "    # Plot Precision-Recall curve\n",
    "    plt.figure()\n",
    "    plt.plot(recall, precision, color='blue', lw=2, label='PR curve (area = %0.2f)' % auprc)\n",
    "    plt.xlabel('Recall')\n",
    "    plt.ylabel('Precision')\n",
    "    plt.title('Precision-Recall Curve')\n",
    "    plt.legend(loc=\"lower left\")\n",
    "    plt.show()\n",
    "    wandb.log({\"Accucary:\": accuracy, \"AUROC\": roc_auc, \"AUPRC\": auprc, \"senstivity\": sensitivity, \"specificity\": specificity})\n",
    "\n"
   ]
  },
  {
   "cell_type": "code",
   "execution_count": null,
   "metadata": {},
   "outputs": [],
   "source": [
    "data_path1 = \"/home/vera/Documents/AI/AILS-MICCAI-UWF4DR-Challenge/data/raw/UWF4DRChallengeData/Task 1 Image Quality Assessment/1. Images/1. Training\"\n",
    "data_path2 = \"/home/vera/Documents/AI/AILS-MICCAI-UWF4DR-Challenge/data/raw/UWF4DRChallengeData/Task 2 Referable DR and Task 3 DME/1. Images/1. Training\"\n",
    "data1 = load_images(data_path1)\n",
    "data2 = load_images(data_path2)\n",
    "data = np.concatenate((data1, data2), axis=0)\n",
    "label_path = \"/home/vera/Documents/AI/AILS-MICCAI-UWF4DR-Challenge/data/raw/UWF4DRChallengeData/Task 1 Image Quality Assessment/2. Groundtruths/1. Training.csv\"\n",
    "# Create a binary classification task with an SVM\n",
    "y = np.loadtxt(label_path, delimiter=',', skiprows=1, usecols=1)"
   ]
  },
  {
   "cell_type": "code",
   "execution_count": null,
   "metadata": {},
   "outputs": [],
   "source": [
    "n_samples, h, w, c = data.shape\n",
    "flattened_images = data.reshape(n_samples, -1)\n",
    "\n",
    "# Standardize the data\n",
    "scaler = StandardScaler()\n",
    "flattened_images_scaled = scaler.fit_transform(flattened_images)"
   ]
  },
  {
   "cell_type": "code",
   "execution_count": null,
   "metadata": {},
   "outputs": [],
   "source": [
    "random_state = 42\n",
    "kernel = \"linear\"\n",
    "C = 1.0\n",
    "test_size = 0.2\n",
    "\n",
    "wandb.init(project=\"UWF4DR_Challenge\", entity=\"pilsvera\", name = \"SVC\")\n",
    "wandb.config = {\"model\": \"SVM\", \"kernel\": kernel, \"C\": C, \"random_state\": random_state, \"test_size\": test_size}\n"
   ]
  },
  {
   "cell_type": "code",
   "execution_count": null,
   "metadata": {},
   "outputs": [],
   "source": [
    "X_train, X_test, y_train, y_test = train_test_split(flattened_images_scaled, y, test_size=test_size, random_state=random_state)"
   ]
  },
  {
   "cell_type": "code",
   "execution_count": null,
   "metadata": {},
   "outputs": [],
   "source": [
    "svm_model = SVC(kernel=kernel, probability=True, random_state=random_state)\n",
    "#model = SVC(kernel=kernel, class_weight={0: 1, 1: 10}, probability=True, random_state=random_state)\n",
    "\n",
    "svm_model.fit(X_train, y_train)\n",
    "y_pred = svm_model.predict(X_test)\n",
    "y_pred_proba = svm_model.predict_proba(X_test)[:, 1]\n",
    "output(y_test, y_pred, y_pred_proba)"
   ]
  },
  {
   "cell_type": "code",
   "execution_count": null,
   "metadata": {},
   "outputs": [],
   "source": []
  }
 ],
 "metadata": {
  "language_info": {
   "name": "python"
  }
 },
 "nbformat": 4,
 "nbformat_minor": 2
}
